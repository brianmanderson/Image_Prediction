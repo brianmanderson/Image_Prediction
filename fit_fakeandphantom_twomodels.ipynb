{
  "nbformat": 4,
  "nbformat_minor": 0,
  "metadata": {
    "colab": {
      "provenance": [],
      "machine_shape": "hm",
      "include_colab_link": true
    },
    "kernelspec": {
      "name": "python3",
      "display_name": "Python 3"
    },
    "language_info": {
      "name": "python"
    },
    "accelerator": "GPU",
    "gpuClass": "premium"
  },
  "cells": [
    {
      "cell_type": "markdown",
      "metadata": {
        "id": "view-in-github",
        "colab_type": "text"
      },
      "source": [
        "<a href=\"https://colab.research.google.com/github/brianmanderson/Image_Prediction/blob/main/fit_fakeandphantom_twomodels.ipynb\" target=\"_parent\"><img src=\"https://colab.research.google.com/assets/colab-badge.svg\" alt=\"Open In Colab\"/></a>"
      ]
    },
    {
      "cell_type": "markdown",
      "metadata": {
        "id": "v1CUZ0dkOo_F",
        "pycharm": {
          "name": "#%% md\n"
        }
      },
      "source": [
        "\n",
        "\n",
        "Licensed under the Apache License, Version 2.0 (the \"License\");"
      ]
    },
    {
      "cell_type": "code",
      "execution_count": 1,
      "metadata": {
        "cellView": "form",
        "id": "qmkj-80IHxnd",
        "pycharm": {
          "name": "#%%\n"
        }
      },
      "outputs": [],
      "source": [
        "#@title Licensed under the Apache License, Version 2.0 (the \"License\");\n",
        "# you may not use this file except in compliance with the License.\n",
        "# You may obtain a copy of the License at\n",
        "#\n",
        "# https://www.apache.org/licenses/LICENSE-2.0\n",
        "#\n",
        "# Unless required by applicable law or agreed to in writing, software\n",
        "# distributed under the License is distributed on an \"AS IS\" BASIS,\n",
        "# WITHOUT WARRANTIES OR CONDITIONS OF ANY KIND, either express or implied.\n",
        "# See the License for the specific language governing permissions and\n",
        "# limitations under the License."
      ]
    },
    {
      "cell_type": "markdown",
      "source": [],
      "metadata": {
        "id": "P6ioYwynN6UH"
      }
    },
    {
      "cell_type": "markdown",
      "metadata": {
        "id": "_xnMOsbqHz61",
        "pycharm": {
          "name": "#%% md\n"
        }
      },
      "source": [
        "#EPIDEEP: Generating EPID images"
      ]
    },
    {
      "cell_type": "markdown",
      "source": [],
      "metadata": {
        "id": "cWJH48IGxKkB",
        "pycharm": {
          "name": "#%% md\n"
        }
      }
    },
    {
      "cell_type": "markdown",
      "metadata": {
        "id": "Ds4o1h4WHz9U",
        "pycharm": {
          "name": "#%% md\n"
        }
      },
      "source": [
        "<table class=\"tfo-notebook-buttons\" align=\"left\">\n",
        "  <td>\n",
        "    <a target=\"_blank\" href=\"https://www.tensorflow.org/tutorials/generative/pix2pix\"><img src=\"https://www.tensorflow.org/images/tf_logo_32px.png\" />View on TensorFlow.org</a>\n",
        "  </td>\n",
        "  <td>\n",
        "    <a target=\"_blank\" href=\"https://colab.research.google.com/github/tensorflow/docs/blob/master/site/en/tutorials/generative/pix2pix.ipynb\"><img src=\"https://www.tensorflow.org/images/colab_logo_32px.png\" />Run in Google Colab</a>\n",
        "  </td>\n",
        "  <td>\n",
        "    <a target=\"_blank\" href=\"https://github.com/tensorflow/docs/blob/master/site/en/tutorials/generative/pix2pix.ipynb\"><img src=\"https://www.tensorflow.org/images/GitHub-Mark-32px.png\" />View source on GitHub</a>\n",
        "  </td>\n",
        "  <td>\n",
        "    <a href=\"https://storage.googleapis.com/tensorflow_docs/docs/site/en/tutorials/generative/pix2pix.ipynb\"><img src=\"https://www.tensorflow.org/images/download_logo_32px.png\" />Download notebook</a>\n",
        "  </td>\n",
        "</table>"
      ]
    },
    {
      "cell_type": "markdown",
      "metadata": {
        "id": "ITZuApL56Mny",
        "pycharm": {
          "name": "#%% md\n"
        }
      },
      "source": [
        "This Google Colab Notebook heavily buroows from the pix2pix example. \n",
        "How to build and train a conditional generative adversarial network (cGAN) called pix2pix that learns a mapping from input images to output images, as described in [Image-to-image translation with conditional adversarial networks](https://arxiv.org/abs/1611.07004) by Isola et al. (2017). pix2pix is not application specific—it can be applied to a wide range of tasks, including synthesizing photos from label maps, generating colorized photos from black and white images, turning Google Maps photos into aerial images, and even transforming sketches into photos.\n",
        "\n",
        "In the pix2pix cGAN, you condition on input images and generate corresponding output images. cGANs were first proposed in [Conditional Generative Adversarial Nets](https://arxiv.org/abs/1411.1784) (Mirza and Osindero, 2014)\n",
        "\n",
        "The architecture of your network will contain:\n",
        "\n",
        "- A generator with a [U-Net]([U-Net](https://arxiv.org/abs/1505.04597))-based architecture.\n",
        "- A discriminator represented by a convolutional PatchGAN classifier (proposed in the [pix2pix paper](https://arxiv.org/abs/1611.07004)).\n",
        "\n",
        "Note that each epoch can take around 15 seconds on a single V100 GPU.\n",
        "\n"
      ]
    },
    {
      "cell_type": "markdown",
      "metadata": {
        "id": "e1_Y75QXJS6h",
        "pycharm": {
          "name": "#%% md\n"
        }
      },
      "source": [
        "## Import TensorFlow and other libraries"
      ]
    },
    {
      "cell_type": "code",
      "execution_count": 2,
      "metadata": {
        "id": "YfIk2es3hJEd",
        "pycharm": {
          "name": "#%%\n"
        },
        "outputId": "bc82169a-d48f-4d97-81a4-5f5e7f2a5bff",
        "colab": {
          "base_uri": "https://localhost:8080/"
        }
      },
      "outputs": [
        {
          "output_type": "stream",
          "name": "stdout",
          "text": [
            "sys.version_info(major=3, minor=8, micro=10, releaselevel='final', serial=0)\n"
          ]
        }
      ],
      "source": [
        "import tensorflow as tf\n",
        "\n",
        "import os\n",
        "import sys \n",
        "import pathlib\n",
        "import time\n",
        "import datetime\n",
        "import numpy as np\n",
        "from matplotlib import pyplot as plt\n",
        "from IPython import display\n",
        "import tensorflow.experimental.numpy as tnp\n",
        "import pandas as pd\n",
        "print(sys.version_info)"
      ]
    },
    {
      "cell_type": "code",
      "execution_count": 3,
      "metadata": {
        "colab": {
          "base_uri": "https://localhost:8080/"
        },
        "id": "iPVGz0KIdvia",
        "outputId": "460ee0ea-f7df-4602-82a3-59ab0bc1fc22",
        "pycharm": {
          "name": "#%%\n"
        }
      },
      "outputs": [
        {
          "output_type": "stream",
          "name": "stdout",
          "text": [
            "Mounted at /content/drive\n"
          ]
        }
      ],
      "source": [
        "running_local = False\n",
        "try:\n",
        "    from google.colab import drive\n",
        "    drive.mount('/content/drive')\n",
        "    nb_path = '/content/notebooks'\n",
        "    os.symlink('/content/drive/MyDrive/Colab Notebooks', nb_path)\n",
        "    sys.path.insert(0, nb_path)  # or append(nb_path)\n",
        "except:\n",
        "    running_local = True\n",
        "    print(\"Running locally\")"
      ]
    },
    {
      "cell_type": "markdown",
      "metadata": {
        "id": "R4Ya7PQy4NBD",
        "pycharm": {
          "name": "#%% md\n"
        }
      },
      "source": [
        "Line to install pymedphys which has a gamma function. Libaray was saved to Google drive and is commented out."
      ]
    },
    {
      "cell_type": "code",
      "execution_count": 4,
      "metadata": {
        "id": "1oOw8vQJUyg-",
        "pycharm": {
          "name": "#%%\n"
        }
      },
      "outputs": [],
      "source": [
        "#!pip install --target=$nb_path pymedphys"
      ]
    },
    {
      "cell_type": "code",
      "execution_count": 5,
      "metadata": {
        "colab": {
          "base_uri": "https://localhost:8080/"
        },
        "id": "wzufEZu702tH",
        "outputId": "df943c79-eb3d-4c80-e203-1f0ee070852c",
        "pycharm": {
          "name": "#%%\n"
        }
      },
      "outputs": [
        {
          "output_type": "stream",
          "name": "stdout",
          "text": [
            "Looking in indexes: https://pypi.org/simple, https://us-python.pkg.dev/colab-wheels/public/simple/\n",
            "Collecting SimpleITK\n",
            "  Downloading SimpleITK-2.2.1-cp38-cp38-manylinux_2_17_x86_64.manylinux2014_x86_64.whl (52.7 MB)\n",
            "\u001b[2K     \u001b[90m━━━━━━━━━━━━━━━━━━━━━━━━━━━━━━━━━━━━━━━━\u001b[0m \u001b[32m52.7/52.7 MB\u001b[0m \u001b[31m30.3 MB/s\u001b[0m eta \u001b[36m0:00:00\u001b[0m\n",
            "\u001b[?25hInstalling collected packages: SimpleITK\n",
            "Successfully installed SimpleITK-2.2.1\n",
            "Looking in indexes: https://pypi.org/simple, https://us-python.pkg.dev/colab-wheels/public/simple/\n",
            "Collecting pymedphys\n",
            "  Downloading pymedphys-0.39.3-py3-none-any.whl (5.8 MB)\n",
            "\u001b[2K     \u001b[90m━━━━━━━━━━━━━━━━━━━━━━━━━━━━━━━━━━━━━━━━\u001b[0m \u001b[32m5.8/5.8 MB\u001b[0m \u001b[31m13.6 MB/s\u001b[0m eta \u001b[36m0:00:00\u001b[0m\n",
            "\u001b[?25hRequirement already satisfied: typing-extensions in /usr/local/lib/python3.8/dist-packages (from pymedphys) (4.4.0)\n",
            "Installing collected packages: pymedphys\n",
            "Successfully installed pymedphys-0.39.3\n",
            "Looking in indexes: https://pypi.org/simple, https://us-python.pkg.dev/colab-wheels/public/simple/\n",
            "Collecting PlotScrollNumpyArrays\n",
            "  Downloading PlotScrollNumpyArrays-0.0.1-py3-none-any.whl (4.3 kB)\n",
            "Requirement already satisfied: matplotlib in /usr/local/lib/python3.8/dist-packages (from PlotScrollNumpyArrays) (3.2.2)\n",
            "Requirement already satisfied: numpy in /usr/local/lib/python3.8/dist-packages (from PlotScrollNumpyArrays) (1.21.6)\n",
            "Requirement already satisfied: SimpleITK in /usr/local/lib/python3.8/dist-packages (from PlotScrollNumpyArrays) (2.2.1)\n",
            "Requirement already satisfied: python-dateutil>=2.1 in /usr/local/lib/python3.8/dist-packages (from matplotlib->PlotScrollNumpyArrays) (2.8.2)\n",
            "Requirement already satisfied: cycler>=0.10 in /usr/local/lib/python3.8/dist-packages (from matplotlib->PlotScrollNumpyArrays) (0.11.0)\n",
            "Requirement already satisfied: pyparsing!=2.0.4,!=2.1.2,!=2.1.6,>=2.0.1 in /usr/local/lib/python3.8/dist-packages (from matplotlib->PlotScrollNumpyArrays) (3.0.9)\n",
            "Requirement already satisfied: kiwisolver>=1.0.1 in /usr/local/lib/python3.8/dist-packages (from matplotlib->PlotScrollNumpyArrays) (1.4.4)\n",
            "Requirement already satisfied: six>=1.5 in /usr/local/lib/python3.8/dist-packages (from python-dateutil>=2.1->matplotlib->PlotScrollNumpyArrays) (1.15.0)\n",
            "Installing collected packages: PlotScrollNumpyArrays\n",
            "Successfully installed PlotScrollNumpyArrays-0.0.1\n"
          ]
        }
      ],
      "source": [
        "!pip install SimpleITK\n",
        "!pip install pymedphys\n",
        "!pip install PlotScrollNumpyArrays"
      ]
    },
    {
      "cell_type": "code",
      "execution_count": 6,
      "metadata": {
        "id": "XkwdsvfzU35d",
        "pycharm": {
          "name": "#%%\n"
        }
      },
      "outputs": [],
      "source": [
        "#import SimpleITK as sitk\n",
        "import pymedphys"
      ]
    },
    {
      "cell_type": "code",
      "execution_count": 7,
      "metadata": {
        "colab": {
          "base_uri": "https://localhost:8080/"
        },
        "id": "dED2fmqDhBq4",
        "outputId": "23eb3049-ad0f-49d1-b3bd-75bdb1515eef",
        "pycharm": {
          "name": "#%%\n"
        }
      },
      "outputs": [
        {
          "output_type": "stream",
          "name": "stdout",
          "text": [
            "Cloning into 'Data_Generators'...\n",
            "remote: Enumerating objects: 1096, done.\u001b[K\n",
            "remote: Counting objects: 100% (90/90), done.\u001b[K\n",
            "remote: Compressing objects: 100% (65/65), done.\u001b[K\n",
            "remote: Total 1096 (delta 45), reused 68 (delta 25), pack-reused 1006\u001b[K\n",
            "Receiving objects: 100% (1096/1096), 524.75 KiB | 10.93 MiB/s, done.\n",
            "Resolving deltas: 100% (691/691), done.\n",
            "Submodule 'Image_Processors_Module' (https://github.com/brianmanderson/Image_Processors_Module.git) registered for path 'Image_Processors_Module'\n",
            "Cloning into '/content/Data_Generators/Image_Processors_Module'...\n",
            "remote: Enumerating objects: 1292, done.        \n",
            "remote: Counting objects: 100% (87/87), done.        \n",
            "remote: Compressing objects: 100% (32/32), done.        \n",
            "remote: Total 1292 (delta 50), reused 74 (delta 39), pack-reused 1205        \n",
            "Receiving objects: 100% (1292/1292), 290.13 KiB | 7.84 MiB/s, done.\n",
            "Resolving deltas: 100% (823/823), done.\n",
            "Submodule path 'Image_Processors_Module': checked out '6455779d1f70d2020a5e9e2bb713b5a63bbc9e24'\n"
          ]
        }
      ],
      "source": [
        "!git clone --recurse-submodules -j8 https://github.com/brianmanderson/Data_Generators"
      ]
    },
    {
      "cell_type": "code",
      "execution_count": 8,
      "metadata": {
        "id": "5bUN7lljikZn",
        "pycharm": {
          "name": "#%%\n"
        }
      },
      "outputs": [],
      "source": [
        "from Data_Generators.TFRecord_to_Dataset_Generator import DataGeneratorClass\n",
        "from Data_Generators.Image_Processors_Module.src.Processors.TFDataSets import ConstantProcessors as CProcessors,\\\n",
        "    RelativeProcessors as RProcessors"
      ]
    },
    {
      "cell_type": "code",
      "source": [
        "class ImageProcessor(object):\n",
        "    def parse(self, *args, **kwargs):\n",
        "        return args, kwargs\n",
        "def _check_keys_(input_features, keys):\n",
        "    if type(keys) is list or type(keys) is tuple:\n",
        "        for key in keys:\n",
        "            assert key in input_features.keys(), 'Make sure the key you are referring to is present in the features, ' \\\n",
        "                                                 '{} was not found'.format(key)\n",
        "    else:\n",
        "        assert keys in input_features.keys(), 'Make sure the key you are referring to is present in the features, ' \\\n",
        "                                              '{} was not found'.format(keys)\n",
        "class DivideBasedOnOther(ImageProcessor):\n",
        "    def __init__(self, guiding_keys=('annotation',), changing_keys=('image',)):\n",
        "        self.guiding_keys, self.changing_keys = guiding_keys, changing_keys\n",
        "\n",
        "    def parse(self, input_features, *args, **kwargs):\n",
        "        _check_keys_(input_features=input_features, keys=self.guiding_keys)\n",
        "        _check_keys_(input_features=input_features, keys=self.changing_keys)\n",
        "        for guiding_key, changing_key in zip(self.guiding_keys, self.changing_keys):\n",
        "            input_features[changing_key] = input_features[changing_key] / input_features[guiding_key]\n",
        "        return input_features"
      ],
      "metadata": {
        "id": "b7208vBmWPQi",
        "pycharm": {
          "name": "#%%\n"
        }
      },
      "execution_count": 9,
      "outputs": []
    },
    {
      "cell_type": "code",
      "source": [
        "def return_generator(records_path, proj_to_panel=True, add_5cm_keys=False, global_norm=False, **kwargs):\n",
        "  generator = DataGeneratorClass(record_paths=records_path, delete_old_cache=True)\n",
        "  all_keys = ('pdos_array', 'fluence_array','drr_array', 'deep_to_panel_array', 'iso_to_panel_array', 'shallow_to_panel_array')\n",
        "  drr_keys = ('drr_array', 'deep_to_panel_array', 'iso_to_panel_array', 'shallow_to_panel_array', )\n",
        "  input_keys = ('pdos_array', 'drr_array', 'iso_to_panel_array')\n",
        "  if add_5cm_keys:\n",
        "    if proj_to_panel:\n",
        "      input_keys = ('pdos_array', 'drr_array', 'deep_to_panel_array', 'iso_to_panel_array',\n",
        "                    'shallow_to_panel_array')\n",
        "    else:\n",
        "      input_keys = ('pdos_array', 'drr_array', '5cm_deep_array', 'iso_array', 'shallow_array')\n",
        "  print(f\"Inputs are {input_keys}\")\n",
        "  base_processors = [\n",
        "                     CProcessors.Squeeze(image_keys=all_keys),\n",
        "                     CProcessors.ExpandDimension(axis=-1, image_keys=all_keys),\n",
        "                     CProcessors.MultiplyImagesByConstant(keys=drr_keys,\n",
        "                                                          values=(1/255, 1/255, 1/255, 1/255)),\n",
        "                     ]\n",
        " \n",
        "  if global_norm:\n",
        "    print('Global norm')\n",
        "    base_processors += [\n",
        "                        CProcessors.MultiplyImagesByConstant(keys=('pdos_array',\n",
        "                                                                'fluence_array'),\n",
        "                                                             values=(1, 1)) #(1/2, 1/(.3876*2))\n",
        "                        ]\n",
        "  else:\n",
        "    base_processors += [\n",
        "                        RProcessors.NormalizeBasedOnOther(guiding_keys=('pdos_array', 'pdos_array'),\n",
        "                                                          changing_keys=('fluence_array', 'pdos_array'),\n",
        "                                                          reference_method=('reduce_max', 'reduce_max'),\n",
        "                                                          changing_methods=('divide', 'divide'))\n",
        "                        ]\n",
        "\n",
        "    base_processors += [\n",
        "    CProcessors.CreateNewKey(input_keys=('drr_array',), output_keys=('exp_new_drr_array',)),\n",
        "    CProcessors.MultiplyImagesByConstant(keys=('exp_new_drr_array',), values=(-4.0,)),\n",
        "    CProcessors.TakeExpOfKey(input_keys=('exp_new_drr_array',)),\n",
        "\n",
        "    CProcessors.CreateNewKey(input_keys=('drr_array',), output_keys=('multiplied_drr_array',)),\n",
        "    CProcessors.MultiplyImagesByConstant(keys=('multiplied_drr_array',), values=(0.15,)),\n",
        "    CProcessors.AddImagesTogether(keys=('exp_new_drr_array', 'multiplied_drr_array'), out_key='exp_new_drr_array'),\n",
        "\n",
        "    CProcessors.CreateNewKey(input_keys=('drr_array',), output_keys=('squared_drr_array',)),\n",
        "    CProcessors.MultiplyImagesTogether(keys=('squared_drr_array', 'squared_drr_array'), out_key='squared_drr_array'),\n",
        "    CProcessors.MultiplyImagesByConstant(keys=('squared_drr_array',), values=(-0.1,)),\n",
        "    CProcessors.AddImagesTogether(keys=('exp_new_drr_array', 'squared_drr_array'), out_key='summed_drr_array'),\n",
        "\n",
        "    CProcessors.MultiplyImagesTogether(keys=('pdos_array', 'summed_drr_array'), out_key='pdos_drr_multiplied'),\n",
        "  \n",
        "  ] \n",
        "\n",
        "\n",
        "  base_processors += [\n",
        "                      CProcessors.CombineKeys(axis=-1,\n",
        "                                              image_keys=input_keys,\n",
        "                                              output_key='output'),\n",
        "                      CProcessors.ReturnOutputs(input_keys=('output',),\n",
        "                                                output_keys=('fluence_array',))\n",
        "                                                #output_keys=('pdos_drr_multiplied',))\n",
        "  ]\n",
        "  base_processors += [\n",
        "                      {'batch': 1}, {'repeat'}\n",
        "                      ]\n",
        "  generator.compile_data_set(image_processors=base_processors, debug=False)\n",
        "  return generator"
      ],
      "metadata": {
        "id": "0UkKkd8RF_Zd"
      },
      "execution_count": 10,
      "outputs": []
    },
    {
      "cell_type": "code",
      "source": [
        "def return_generator(records_path, proj_to_panel=True, add_5cm_keys=False, global_norm=False, **kwargs):\n",
        "  generator = DataGeneratorClass(record_paths=records_path, delete_old_cache=True)\n",
        "  all_keys = ('pdos_array', 'fluence_array','drr_array', 'deep_to_panel_array', 'iso_to_panel_array', 'shallow_to_panel_array')\n",
        "  drr_keys = ('drr_array', 'deep_to_panel_array', 'iso_to_panel_array', 'shallow_to_panel_array', )\n",
        "  input_keys = ('pdos_array', 'drr_array', 'iso_to_panel_array')\n",
        "  if add_5cm_keys:\n",
        "    if proj_to_panel:\n",
        "      input_keys = ('pdos_array', 'drr_array', 'deep_to_panel_array', 'iso_to_panel_array',\n",
        "                    'shallow_to_panel_array')\n",
        "    else:\n",
        "      input_keys = ('pdos_array', 'drr_array', '5cm_deep_array', 'iso_array', 'shallow_array')\n",
        "  print(f\"Inputs are {input_keys}\")\n",
        "  base_processors = [\n",
        "                     CProcessors.Squeeze(image_keys=all_keys),\n",
        "                     CProcessors.ExpandDimension(axis=-1, image_keys=all_keys),\n",
        "                     CProcessors.MultiplyImagesByConstant(keys=drr_keys,\n",
        "                                                          values=(1/255, 1/255, 1/255, 1/255)),\n",
        "                     ]\n",
        " \n",
        "  if global_norm:\n",
        "    print('Global norm')\n",
        "    base_processors += [\n",
        "                        CProcessors.MultiplyImagesByConstant(keys=('pdos_array',\n",
        "                                                                'fluence_array'),\n",
        "                                                             values=(1, 1)) #(1/2, 1/(.3876*2))\n",
        "                        ]\n",
        "  else:\n",
        "    base_processors += [\n",
        "                        RProcessors.NormalizeBasedOnOther(guiding_keys=('pdos_array', 'pdos_array'),\n",
        "                                                          changing_keys=('fluence_array', 'pdos_array'),\n",
        "                                                          reference_method=('reduce_max', 'reduce_max'),\n",
        "                                                          changing_methods=('divide', 'divide'))\n",
        "                        ]\n",
        "\n",
        "    base_processors += [\n",
        "    #CProcessors.CreateNewKey(input_keys=('drr_array',), output_keys=('exp_new_drr_array',)),\n",
        "    #CProcessors.MultiplyImagesByConstant(keys=('exp_new_drr_array',), values=(-4.0,)),\n",
        "    #CProcessors.TakeExpOfKey(input_keys=('exp_new_drr_array',)),\n",
        "\n",
        "    CProcessors.CreateNewKey(input_keys=('drr_array',), output_keys=('mul_drr_array',)),\n",
        "    CProcessors.MultiplyImagesByConstant(keys=('mul_drr_array',), values=(-2.970,)),\n",
        "    #CProcessors.AddImagesTogether(keys=('new_drr_array', 'mul_drr_array'), out_key='new_drr_array'),\n",
        "\n",
        "    CProcessors.CreateNewKey(input_keys=('drr_array',), output_keys=('squared_drr_array',)),\n",
        "    CProcessors.MultiplyImagesTogether(keys=('squared_drr_array', 'squared_drr_array'), out_key='squared_drr_array'),\n",
        "    CProcessors.MultiplyImagesByConstant(keys=('squared_drr_array',), values=(0.538066,)),\n",
        "    CProcessors.AddImagesTogether(keys=('mul_drr_array', 'squared_drr_array'), out_key='summed_drr_array'),\n",
        "\n",
        "    CProcessors.AddConstantToImages(keys=('summed_drr_array',),values=(-0.04349,)),\n",
        "\n",
        "    CProcessors.TakeExpOfKey(input_keys=('summed_drr_array',)),   \n",
        "    CProcessors.MultiplyImagesTogether(keys=('pdos_array', 'summed_drr_array'), out_key='summed_array'),\n",
        "    CProcessors.MultiplyImagesByConstant(keys=('summed_array',), values=(-1.0,)),\n",
        "    \n",
        "    CProcessors.AddImagesTogether(keys=('fluence_array', 'summed_array'), out_key='scatter_array'),\n",
        "  \n",
        "  ] \n",
        "\n",
        "\n",
        "  base_processors += [\n",
        "                      CProcessors.CombineKeys(axis=-1,\n",
        "                                              image_keys=input_keys,\n",
        "                                              output_key='output'),\n",
        "                      CProcessors.ReturnOutputs(input_keys=('output',),\n",
        "                                                #output_keys=('fluence_array',))\n",
        "                                                output_keys=('scatter_array',))\n",
        "                                                #output_keys=('summed_array',))\n",
        "  ]\n",
        "  base_processors += [\n",
        "                      {'batch': 1}, {'repeat'}\n",
        "                      ]\n",
        "  generator.compile_data_set(image_processors=base_processors, debug=False)\n",
        "  return generator"
      ],
      "metadata": {
        "id": "ifyd7FoaqGTu"
      },
      "execution_count": 11,
      "outputs": []
    },
    {
      "cell_type": "code",
      "execution_count": 12,
      "metadata": {
        "id": "r6Mck58p1BCH",
        "pycharm": {
          "name": "#%%\n"
        }
      },
      "outputs": [],
      "source": [
        "# The batch size of 1 produced better results for the U-Net in the original pix2pix experiment\n",
        "BATCH_SIZE = 1\n",
        "# Each image is 256x256 in size\n",
        "IMG_WIDTH = 256\n",
        "IMG_HEIGHT = 256"
      ]
    },
    {
      "cell_type": "code",
      "execution_count": 13,
      "metadata": {
        "id": "76XIMWFXB-kG",
        "pycharm": {
          "name": "#%%\n"
        }
      },
      "outputs": [],
      "source": [
        "def load_data_from_generator(generator):\n",
        "  data = {'input' : [], 'rtimg' : []}\n",
        "  iterator = iter(generator.data_set)\n",
        "  for _ in range(len(generator)):\n",
        "    x, y = next(iterator)\n",
        "    data['input'].append(x[0][0])\n",
        "    data['rtimg'].append(y[0][0])\n",
        "  return data"
      ]
    },
    {
      "cell_type": "markdown",
      "metadata": {
        "id": "wm-XakBDCzRV",
        "pycharm": {
          "name": "#%% md\n"
        }
      },
      "source": [
        "# Return a train and validation dataset based on which fold you want to exclude"
      ]
    },
    {
      "cell_type": "code",
      "source": [
        "def return_datasets(data_generators):\n",
        "  all_datasets = {}\n",
        "  for i in data_generators.keys():\n",
        "    generator = data_generators[i]\n",
        "    all_datasets[i] = tf.data.Dataset.from_tensor_slices((load_data_from_generator(generator)))\n",
        "  return all_datasets\n",
        "\n",
        "def return_fold_datasets(data_generators, batch_size=1):\n",
        "  all_datasets = return_datasets(data_generators)\n",
        "\n",
        "  train_dataset = all_datasets['train']\n",
        "  train_dataset = train_dataset.shuffle(len(train_dataset))\n",
        "  train_dataset = train_dataset.batch(int(batch_size))\n",
        "  \n",
        "  valid_dataset = all_datasets['validation']\n",
        "  valid_dataset = valid_dataset.shuffle(len(valid_dataset))\n",
        "  valid_dataset = valid_dataset.batch(1)\n",
        "\n",
        "  test_dataset = all_datasets['test']\n",
        "  test_dataset = test_dataset.shuffle(len(test_dataset))\n",
        "  test_dataset = test_dataset.batch(1)\n",
        "  return train_dataset, valid_dataset, test_dataset"
      ],
      "metadata": {
        "id": "eI8SbC8_Wfp6",
        "pycharm": {
          "name": "#%%\n"
        }
      },
      "execution_count": 14,
      "outputs": []
    },
    {
      "cell_type": "code",
      "source": [
        "def return_dataset(generator, batch):\n",
        "  input_values = []\n",
        "  output_values = []\n",
        "  iterator = iter(generator.data_set)\n",
        "  for _ in range(len(generator)):\n",
        "    x, y = next(iterator)\n",
        "    input_values.append(x[0][0])\n",
        "    output_values.append(y[0][0])\n",
        "  input_dataset = tf.data.Dataset.from_tensor_slices(input_values)\n",
        "  output_dataset = tf.data.Dataset.from_tensor_slices(output_values)\n",
        "  dataset = tf.data.Dataset.zip((input_dataset, output_dataset))\n",
        "  dataset = dataset.shuffle(len(dataset)).batch(int(batch))\n",
        "  return dataset"
      ],
      "metadata": {
        "id": "9-YLJrpjWknC",
        "pycharm": {
          "name": "#%%\n"
        }
      },
      "execution_count": 15,
      "outputs": []
    },
    {
      "cell_type": "code",
      "source": [
        "def return_generators(base_path, excluded_fold=5, batch=1, **kwargs):\n",
        "  data_generators = {}\n",
        "  train_folder_names = []\n",
        "  val_folder_names = []\n",
        "  test_folder_names = []\n",
        "  #train_folder_names.append(os.path.join(base_path, 'onefrac_train'))\n",
        "  #val_folder_names.append(os.path.join(base_path, 'onefrac_valid'))\n",
        "  train_folder_names.append(os.path.join(base_path, 'train'))\n",
        "  val_folder_names.append(os.path.join(base_path, 'valid'))\n",
        "  #test_folder_names.append(os.path.join(base_path, 'phantom_valid'))\n",
        "  #test_folder_names.append(os.path.join(base_path, 'test_pelvis'))\n",
        "  test_folder_names.append(os.path.join(base_path, 'solidwater/swall'))\n",
        "  \n",
        "  # for i in range(1,6):\n",
        "  #   folder_name = '/content/drive/My Drive/data/fold{}'.format(i)\n",
        "  #   if i != excluded_fold:\n",
        "  #     train_folder_names.append(folder_name)\n",
        "  #   else:\n",
        "  #     val_folder_names.append(folder_name)\n",
        "  \n",
        "  train_gen = return_generator(train_folder_names, batch=1, **kwargs)\n",
        "  train_gen = return_dataset(train_gen, batch)\n",
        "\n",
        "  valid_gen = return_generator(val_folder_names, batch=1, **kwargs)\n",
        "  valid_gen = return_dataset(valid_gen, 1)\n",
        "  \n",
        "  test_gen = return_generator(test_folder_names, batch=1, **kwargs)\n",
        "  test_gen = return_dataset(test_gen, 1)\n",
        "  \n",
        "  \n",
        "  return train_gen, valid_gen, test_gen"
      ],
      "metadata": {
        "id": "L3dT3IDBWpli",
        "pycharm": {
          "name": "#%%\n"
        }
      },
      "execution_count": 16,
      "outputs": []
    },
    {
      "cell_type": "code",
      "source": [
        "batch = 1\n",
        "base_path = '/content/drive/My Drive/data'\n",
        "train_dataset, valid_dataset, test_dataset = return_generators(base_path, excluded_fold=1, batch=batch)"
      ],
      "metadata": {
        "colab": {
          "base_uri": "https://localhost:8080/"
        },
        "id": "fiMEkxV9WuDq",
        "outputId": "3737c23a-88b5-4cef-f2f3-7962e50f00be",
        "pycharm": {
          "name": "#%%\n"
        }
      },
      "execution_count": 62,
      "outputs": [
        {
          "output_type": "stream",
          "name": "stdout",
          "text": [
            "Inputs are ('pdos_array', 'drr_array', 'iso_to_panel_array')\n",
            "<Data_Generators.Image_Processors_Module.src.Processors.TFDataSets.ConstantProcessors.Squeeze object at 0x7f5de3bde0d0>\n",
            "<Data_Generators.Image_Processors_Module.src.Processors.TFDataSets.ConstantProcessors.ExpandDimension object at 0x7f5de3bd9d60>\n",
            "<Data_Generators.Image_Processors_Module.src.Processors.TFDataSets.ConstantProcessors.MultiplyImagesByConstant object at 0x7f5de3bd97f0>\n",
            "<Data_Generators.Image_Processors_Module.src.Processors.TFDataSets.RelativeProcessors.NormalizeBasedOnOther object at 0x7f5de032fb20>\n",
            "<Data_Generators.Image_Processors_Module.src.Processors.TFDataSets.ConstantProcessors.CreateNewKey object at 0x7f5de032f340>\n",
            "<Data_Generators.Image_Processors_Module.src.Processors.TFDataSets.ConstantProcessors.MultiplyImagesByConstant object at 0x7f5de032fbb0>\n",
            "<Data_Generators.Image_Processors_Module.src.Processors.TFDataSets.ConstantProcessors.CreateNewKey object at 0x7f5de032f730>\n",
            "<Data_Generators.Image_Processors_Module.src.Processors.TFDataSets.ConstantProcessors.MultiplyImagesTogether object at 0x7f5de02b4700>\n",
            "<Data_Generators.Image_Processors_Module.src.Processors.TFDataSets.ConstantProcessors.MultiplyImagesByConstant object at 0x7f5de02b4a60>\n",
            "<Data_Generators.Image_Processors_Module.src.Processors.TFDataSets.ConstantProcessors.AddImagesTogether object at 0x7f5de02b4dc0>\n",
            "<Data_Generators.Image_Processors_Module.src.Processors.TFDataSets.ConstantProcessors.AddConstantToImages object at 0x7f5de02b46d0>\n",
            "<Data_Generators.Image_Processors_Module.src.Processors.TFDataSets.ConstantProcessors.TakeExpOfKey object at 0x7f5de02b4f70>\n",
            "<Data_Generators.Image_Processors_Module.src.Processors.TFDataSets.ConstantProcessors.MultiplyImagesTogether object at 0x7f5de02b4b80>\n",
            "<Data_Generators.Image_Processors_Module.src.Processors.TFDataSets.ConstantProcessors.MultiplyImagesByConstant object at 0x7f5de02b4580>\n",
            "<Data_Generators.Image_Processors_Module.src.Processors.TFDataSets.ConstantProcessors.AddImagesTogether object at 0x7f5de02b4940>\n",
            "<Data_Generators.Image_Processors_Module.src.Processors.TFDataSets.ConstantProcessors.CombineKeys object at 0x7f5de02b46a0>\n",
            "<Data_Generators.Image_Processors_Module.src.Processors.TFDataSets.ConstantProcessors.ReturnOutputs object at 0x7f5de02b4af0>\n",
            "{'batch': 1}\n",
            "{'repeat'}\n",
            "Inputs are ('pdos_array', 'drr_array', 'iso_to_panel_array')\n",
            "<Data_Generators.Image_Processors_Module.src.Processors.TFDataSets.ConstantProcessors.Squeeze object at 0x7f5dd6efb910>\n",
            "<Data_Generators.Image_Processors_Module.src.Processors.TFDataSets.ConstantProcessors.ExpandDimension object at 0x7f5dd4d1fd30>\n",
            "<Data_Generators.Image_Processors_Module.src.Processors.TFDataSets.ConstantProcessors.MultiplyImagesByConstant object at 0x7f5dd6fbb490>\n",
            "<Data_Generators.Image_Processors_Module.src.Processors.TFDataSets.RelativeProcessors.NormalizeBasedOnOther object at 0x7f5dd4df2400>\n",
            "<Data_Generators.Image_Processors_Module.src.Processors.TFDataSets.ConstantProcessors.CreateNewKey object at 0x7f5dd44252e0>\n",
            "<Data_Generators.Image_Processors_Module.src.Processors.TFDataSets.ConstantProcessors.MultiplyImagesByConstant object at 0x7f5de00d54c0>\n",
            "<Data_Generators.Image_Processors_Module.src.Processors.TFDataSets.ConstantProcessors.CreateNewKey object at 0x7f5dd6e76a30>\n",
            "<Data_Generators.Image_Processors_Module.src.Processors.TFDataSets.ConstantProcessors.MultiplyImagesTogether object at 0x7f5de01e74f0>\n",
            "<Data_Generators.Image_Processors_Module.src.Processors.TFDataSets.ConstantProcessors.MultiplyImagesByConstant object at 0x7f5de01e7610>\n",
            "<Data_Generators.Image_Processors_Module.src.Processors.TFDataSets.ConstantProcessors.AddImagesTogether object at 0x7f5dd4480c70>\n",
            "<Data_Generators.Image_Processors_Module.src.Processors.TFDataSets.ConstantProcessors.AddConstantToImages object at 0x7f5dd4480e20>\n",
            "<Data_Generators.Image_Processors_Module.src.Processors.TFDataSets.ConstantProcessors.TakeExpOfKey object at 0x7f5dd4480a30>\n",
            "<Data_Generators.Image_Processors_Module.src.Processors.TFDataSets.ConstantProcessors.MultiplyImagesTogether object at 0x7f5dd4480d90>\n",
            "<Data_Generators.Image_Processors_Module.src.Processors.TFDataSets.ConstantProcessors.MultiplyImagesByConstant object at 0x7f5dd44809a0>\n",
            "<Data_Generators.Image_Processors_Module.src.Processors.TFDataSets.ConstantProcessors.AddImagesTogether object at 0x7f5dd4480850>\n",
            "<Data_Generators.Image_Processors_Module.src.Processors.TFDataSets.ConstantProcessors.CombineKeys object at 0x7f5dd4480d00>\n",
            "<Data_Generators.Image_Processors_Module.src.Processors.TFDataSets.ConstantProcessors.ReturnOutputs object at 0x7f5dd44808e0>\n",
            "{'batch': 1}\n",
            "{'repeat'}\n",
            "Inputs are ('pdos_array', 'drr_array', 'iso_to_panel_array')\n",
            "<Data_Generators.Image_Processors_Module.src.Processors.TFDataSets.ConstantProcessors.Squeeze object at 0x7f5d7e422d60>\n",
            "<Data_Generators.Image_Processors_Module.src.Processors.TFDataSets.ConstantProcessors.ExpandDimension object at 0x7f5d7e3a0a60>\n",
            "<Data_Generators.Image_Processors_Module.src.Processors.TFDataSets.ConstantProcessors.MultiplyImagesByConstant object at 0x7f5d7e3a0b20>\n",
            "<Data_Generators.Image_Processors_Module.src.Processors.TFDataSets.RelativeProcessors.NormalizeBasedOnOther object at 0x7f5d7e1d22e0>\n",
            "<Data_Generators.Image_Processors_Module.src.Processors.TFDataSets.ConstantProcessors.CreateNewKey object at 0x7f5dd43faf70>\n",
            "<Data_Generators.Image_Processors_Module.src.Processors.TFDataSets.ConstantProcessors.MultiplyImagesByConstant object at 0x7f5d7e4c9c10>\n",
            "<Data_Generators.Image_Processors_Module.src.Processors.TFDataSets.ConstantProcessors.CreateNewKey object at 0x7f5d7e525160>\n",
            "<Data_Generators.Image_Processors_Module.src.Processors.TFDataSets.ConstantProcessors.MultiplyImagesTogether object at 0x7f5d7e1409a0>\n",
            "<Data_Generators.Image_Processors_Module.src.Processors.TFDataSets.ConstantProcessors.MultiplyImagesByConstant object at 0x7f5d7e140a90>\n",
            "<Data_Generators.Image_Processors_Module.src.Processors.TFDataSets.ConstantProcessors.AddImagesTogether object at 0x7f5d7e140c10>\n",
            "<Data_Generators.Image_Processors_Module.src.Processors.TFDataSets.ConstantProcessors.AddConstantToImages object at 0x7f5d7e140f70>\n",
            "<Data_Generators.Image_Processors_Module.src.Processors.TFDataSets.ConstantProcessors.TakeExpOfKey object at 0x7f5d7e140d30>\n",
            "<Data_Generators.Image_Processors_Module.src.Processors.TFDataSets.ConstantProcessors.MultiplyImagesTogether object at 0x7f5d7e140a30>\n",
            "<Data_Generators.Image_Processors_Module.src.Processors.TFDataSets.ConstantProcessors.MultiplyImagesByConstant object at 0x7f5d7e140a00>\n",
            "<Data_Generators.Image_Processors_Module.src.Processors.TFDataSets.ConstantProcessors.AddImagesTogether object at 0x7f5d7e140910>\n",
            "<Data_Generators.Image_Processors_Module.src.Processors.TFDataSets.ConstantProcessors.CombineKeys object at 0x7f5d7e16b4c0>\n",
            "<Data_Generators.Image_Processors_Module.src.Processors.TFDataSets.ConstantProcessors.ReturnOutputs object at 0x7f5d7e16b430>\n",
            "{'batch': 1}\n",
            "{'repeat'}\n"
          ]
        }
      ]
    },
    {
      "cell_type": "code",
      "source": [
        "iterx = iter(train_dataset.repeat())"
      ],
      "metadata": {
        "id": "-xQsgfRoW4GC",
        "pycharm": {
          "name": "#%%\n"
        }
      },
      "execution_count": 18,
      "outputs": []
    },
    {
      "cell_type": "code",
      "source": [
        "train_len = len(train_dataset)\n",
        "valid_len = len(valid_dataset)\n",
        "#test_len =  len(test_dataset)\n",
        "x, y = next(iterx)\n",
        "print(train_len)\n",
        "print(valid_len)\n",
        "#print(test_len)\n",
        "plt.imshow(x[0,...,0])"
      ],
      "metadata": {
        "colab": {
          "base_uri": "https://localhost:8080/",
          "height": 321
        },
        "id": "vRH4eOwuW78k",
        "outputId": "24dc78ec-d3b8-4ed9-e088-7f4bdf04bef8",
        "pycharm": {
          "name": "#%%\n"
        }
      },
      "execution_count": 19,
      "outputs": [
        {
          "output_type": "stream",
          "name": "stdout",
          "text": [
            "97\n",
            "23\n"
          ]
        },
        {
          "output_type": "execute_result",
          "data": {
            "text/plain": [
              "<matplotlib.image.AxesImage at 0x7f5dee603520>"
            ]
          },
          "metadata": {},
          "execution_count": 19
        },
        {
          "output_type": "display_data",
          "data": {
            "text/plain": [
              "<Figure size 432x288 with 1 Axes>"
            ],
            "image/png": "[encoded data removed]"
          },
          "metadata": {
            "needs_background": "light"
          }
        }
      ]
    },
    {
      "cell_type": "code",
      "source": [
        "#train_len = len(train_dataset)\n",
        "#valid_len = len(valid_dataset)\n",
        "#test_len =  len(test_dataset)\n",
        "\n",
        "itery = iter(test_dataset.repeat())\n",
        "x, y = next(itery)\n",
        "#print(train_len)\n",
        "#print(valid_len)\n",
        "#print(test_len)\n",
        "#plt.imshow(y[0,...,0])\n",
        "\n",
        "rt = y[0,...,0].numpy()\n",
        "\n",
        "pdos = x[0,...,0].numpy()\n",
        "cbct = x[0,...,1].numpy()\n",
        "#plt.plot(pdos[128,1:256],'b')\n",
        "#plt.plot(cbct[128,1:256],'r')\n",
        "plt.plot(rt[128,1:256],'k')\n",
        "#plt.ylim([-0.05,0.1])\n",
        "#plt.ylim([0.86,0.92])\n",
        "#plt.ylim([0.58,0.6])\n",
        "plt.show()"
      ],
      "metadata": {
        "id": "0GkcuvGe0Adq"
      },
      "execution_count": null,
      "outputs": []
    },
    {
      "cell_type": "code",
      "source": [
        "train_len = len(train_dataset)\n",
        "valid_len = len(valid_dataset)\n",
        "#test_len =  len(test_dataset)\n",
        "x, y = next(iterx)\n",
        "#print(train_len)\n",
        "#print(valid_len)\n",
        "#print(test_len)\n",
        "#plt.imshow(y[0,...,0])\n",
        "\n",
        "rt = y[0,...,0].numpy()\n",
        "\n",
        "pdos = x[0,...,0].numpy()\n",
        "cbct = x[0,...,1].numpy()\n",
        "\n",
        "plt.figure(figsize=(10, 10))\n",
        "plt.subplot(1,3,1)\n",
        "\n",
        "plt.imshow(rt)\n",
        "#plt.plot(pdos[128,1:256],'b')\n",
        "#plt.plot(cbct[128,1:256],'r')\n",
        "\n",
        "#plt.show()\n",
        "\n",
        "cbctval = []\n",
        "ratio = []\n",
        "pdosval = [] \n",
        "\n",
        "rtmax = rt.max(0).max(-1)\n",
        "#print(rtmax)\n",
        "\n",
        "for i in range(0,256):\n",
        "  for j in range(0,256):\n",
        "    if(rt[i,j] > rtmax*0.5):\n",
        "      cbctval = np.append(cbctval,cbct[i,j])\n",
        "      pdosval = np.append(pdosval,pdos[i,j])\n",
        "      ratio = np.append(ratio,rt[i,j]/pdos[i,j])\n",
        "\n",
        "plt.subplot(1,3,2)\n",
        "plt.plot(cbctval,ratio,'bo')\n",
        "\n",
        "#xp = np.arange(0, 200.0, 0.1)\n",
        "#yp = np.exp(-4.0/255 * xp) + 0.15/255 * xp - 0.1/65025 * xp * xp\n",
        "# #yp = pdosval*( np.exp(-4.0/255 *cbctval) + 0.15/255 * cbctval - 0.1/65025 * cbctval * cbctval)\n",
        "xp = np.arange(0, 1.0, 0.01)\n",
        "#yp = np.exp(-4.0 * xp) + 0.15 * xp -0.1* xp * xp\n",
        "#yp = np.exp(-4.0 * xp) \n",
        "yp = np.exp(0.538066*xp*xp-2.970*xp-0.04349)\n",
        "\n",
        "plt.plot(xp, yp,'r')\n",
        "\n",
        "#plt.subplot(1,3,3)\n",
        "#plt.plot(rt[128,1:256]/pdos[128,1:256],'b')\n",
        "#plt.plot(pdos[128,1:256],'r')\n",
        "#plt.plot(rt[128,1:256],'b')"
      ],
      "metadata": {
        "id": "iO1c32Cd6-L8"
      },
      "execution_count": null,
      "outputs": []
    },
    {
      "cell_type": "markdown",
      "metadata": {
        "id": "wfAQbzy799UV",
        "pycharm": {
          "name": "#%% md\n"
        }
      },
      "source": [
        "You can inspect some of the preprocessed output:"
      ]
    },
    {
      "cell_type": "code",
      "source": [
        "x, y = next(iterx)\n",
        "\n",
        "idx = 1 \n",
        "pdos = x[0,...,idx].numpy()\n",
        "\n",
        "#x = tf.squeeze(x,0)\n",
        "ks = 64 \n",
        "ave = tf.keras.layers.AveragePooling2D(pool_size=(ks,ks), strides=(1,1),padding='same')(x)\n",
        "#tf.keras.layers.Conv2D(filters=1, kernel_size=(4,4), strides=(1,1),dilation_rate=(4,4), padding='same')(x)\n",
        "#ave = tf.keras.layers.AveragePooling2D(pool_size=(64,64), strides=(1,1),padding='same')(x)\n",
        "#ave3 = tf.keras.layers.AveragePooling2D(pool_size=(64,64), strides=(1,1),padding='same')(ave)\n",
        "#ave2 = tf.keras.layers.AveragePooling2D(pool_size=(64,64), strides=(1,1),padding='same')(ave3)\n",
        "#ave = tf.keras.layers.AveragePooling2D(pool_size=(8,8), strides=(1,1),padding='same')(ave)\n",
        "\n",
        "\n",
        "val = ave[0,...,idx].numpy()\n",
        "plt.subplot(211)\n",
        "print(val.shape)\n",
        "#val2 = ave2[0,...,1].numpy()\n",
        "plt.plot(pdos[128,1:256],'r')\n",
        "\n",
        "#plt.plot(val2[128,1:256],'g')\n",
        "plt.subplot(212)\n",
        "#maxpix = int(256/ks)\n",
        "#mid = int(maxpix/2)\n",
        "#plt.plot(val[mid,1:maxpix],'b')\n",
        "plt.plot(val[128,1:256],'b')\n"
      ],
      "metadata": {
        "id": "seiaTlpW2ZXl"
      },
      "execution_count": null,
      "outputs": []
    },
    {
      "cell_type": "code",
      "execution_count": 21,
      "metadata": {
        "id": "3R09ATE_SH9P",
        "pycharm": {
          "name": "#%%\n"
        }
      },
      "outputs": [],
      "source": [
        "def downsample(filters, size, apply_batchnorm=True):\n",
        "  initializer = tf.random_normal_initializer(0., 0.02)\n",
        "\n",
        "  result = tf.keras.Sequential()\n",
        "  result.add(\n",
        "      tf.keras.layers.Conv2D(filters, size, strides=2, padding='same',\n",
        "                             kernel_initializer=initializer, use_bias=False))\n",
        "\n",
        "  if apply_batchnorm:\n",
        "    result.add(tf.keras.layers.BatchNormalization())\n",
        "\n",
        "  result.add(tf.keras.layers.LeakyReLU())\n",
        "\n",
        "  return result"
      ]
    },
    {
      "cell_type": "markdown",
      "metadata": {
        "id": "aFI_Pa52tjLl",
        "pycharm": {
          "name": "#%% md\n"
        }
      },
      "source": [
        "Define the upsampler (decoder):"
      ]
    },
    {
      "cell_type": "code",
      "execution_count": 22,
      "metadata": {
        "id": "nhgDsHClSQzP",
        "pycharm": {
          "name": "#%%\n"
        }
      },
      "outputs": [],
      "source": [
        "def upsample(filters, size, apply_dropout=False):\n",
        "  initializer = tf.random_normal_initializer(0., 0.02)\n",
        "\n",
        "  result = tf.keras.Sequential()\n",
        "  result.add(\n",
        "    tf.keras.layers.Conv2DTranspose(filters, size, strides=2,\n",
        "                                    padding='same',\n",
        "                                    kernel_initializer=initializer,\n",
        "                                    use_bias=False))\n",
        "\n",
        "  result.add(tf.keras.layers.BatchNormalization())\n",
        "\n",
        "  if apply_dropout:\n",
        "      result.add(tf.keras.layers.Dropout(0.5))\n",
        "\n",
        "  result.add(tf.keras.layers.ReLU())\n",
        "\n",
        "  return result"
      ]
    },
    {
      "cell_type": "code",
      "source": [
        "OUTPUT_CHANNELS = 1"
      ],
      "metadata": {
        "id": "Pe8TFJKnauL1"
      },
      "execution_count": 23,
      "outputs": []
    },
    {
      "cell_type": "code",
      "source": [
        "def GeneratorP():\n",
        "  inputs = tf.keras.layers.Input(shape=[256, 256, 3])\n",
        "  #inputsPDOS = tf.expand_dims(tinputs[..., 0], axis=-1)\n",
        "  #inputsCT = tf.expand_dims(tinputs[..., 1], axis=-1)\n",
        "  #halfCBCT = tf.expand_dims(tinputs[..., 2], axis=-1)\n",
        "\n",
        "  #inputs1 = tf.keras.layers.Concatenate()([inputsPDOS,inputsCT])\n",
        "  #inputs = tf.keras.layers.Concatenate()([patten,inputs1])\n",
        "\n",
        "  down_stack = [\n",
        "    downsample(64, 4, apply_batchnorm=False),  # (batch_size, 128, 128, 64)\n",
        "    downsample(128, 4),  # (batch_size, 64, 64, 128)\n",
        "    downsample(256, 4),  # (batch_size, 32, 32, 256)\n",
        "    downsample(512, 4),  # (batch_size, 16, 16, 512)\n",
        "    downsample(512, 4),  # (batch_size, 8, 8, 512)\n",
        "    downsample(512, 4),  # (batch_size, 4, 4, 512)\n",
        "    downsample(512, 4),  # (batch_size, 2, 2, 512)\n",
        "    downsample(512, 4),  # (batch_size, 1, 1, 512)\n",
        "  ]\n",
        "\n",
        "  up_stack = [\n",
        "    upsample(512, 4, apply_dropout=True),  # (batch_size, 2, 2, 1024)\n",
        "    upsample(512, 4, apply_dropout=True),  # (batch_size, 4, 4, 1024)\n",
        "    upsample(512, 4, apply_dropout=True),  # (batch_size, 8, 8, 1024)\n",
        "    upsample(512, 4),  # (batch_size, 16, 16, 1024)\n",
        "    upsample(256, 4),  # (batch_size, 32, 32, 512)\n",
        "    upsample(128, 4),  # (batch_size, 64, 64, 256)\n",
        "    upsample(64, 4),  # (batch_size, 128, 128, 128)\n",
        "  ]\n",
        "\n",
        "  initializer = tf.random_normal_initializer(0., 0.02)\n",
        "  last = tf.keras.layers.Conv2DTranspose(OUTPUT_CHANNELS, 4,\n",
        "                                         strides=2,\n",
        "                                         padding='same',\n",
        "                                         kernel_initializer=initializer,\n",
        "                                         activation='tanh')  # (batch_size, 256, 256, 3)\n",
        "\n",
        "  x = inputs\n",
        "\n",
        "  # Downsampling through the model\n",
        "  skips = []\n",
        "  for down in down_stack:\n",
        "    x = down(x)\n",
        "    skips.append(x)\n",
        "\n",
        "  skips = reversed(skips[:-1])\n",
        "\n",
        "  # Upsampling and establishing the skip connections\n",
        "  for up, skip in zip(up_stack, skips):\n",
        "    x = up(x)\n",
        "    x = tf.keras.layers.Concatenate()([x, skip])\n",
        "\n",
        "  x = last(x)\n",
        "\n",
        "  #return x\n",
        "  return tf.keras.Model(inputs=inputs, outputs=x)"
      ],
      "metadata": {
        "id": "d2kGQ5a-ahxu"
      },
      "execution_count": 24,
      "outputs": []
    },
    {
      "cell_type": "code",
      "source": [
        "def GeneratorLK():\n",
        "\n",
        "  kernel = 64\n",
        "  inputs = tf.keras.layers.Input(shape=[256, 256, 3])\n",
        "  \n",
        "  inputsPDOS = tf.expand_dims(inputs[..., 0], axis=-1)\n",
        "  inputsCT = tf.expand_dims(inputs[..., 1], axis=-1)\n",
        "  halfCBCT = tf.expand_dims(inputs[..., 2], axis=-1)\n",
        "\n",
        "  pdos_layer1 = tf.keras.layers.Conv2D(1, 1, strides=1, activation=None, padding='same', trainable = True,\n",
        "                                      kernel_initializer=tf.random_normal_initializer(1.0, 0.01), use_bias=True)(inputsPDOS)\n",
        " \n",
        "  pdos_layer2 = tf.keras.layers.Conv2D(1, 1, strides=1, activation=None, padding='same', \n",
        "                                      kernel_initializer=tf.random_normal_initializer(0.05, 0.01), use_bias=True)(inputsPDOS)\n",
        "\n",
        "  pdos_layer3 = tf.keras.layers.Conv2D(1, 1, strides=1, activation=None, padding='same', trainable = True,\n",
        "                                      kernel_initializer=tf.random_normal_initializer(1.0, 0.01), use_bias=True)(inputsPDOS)\n",
        "\n",
        "  pdos_layer4 = tf.keras.layers.Conv2D(1, kernel, strides=1, activation=None, padding='same', trainable = True,\n",
        "                                     kernel_initializer=tf.random_normal_initializer(0.0, 0.001), use_bias=True)(inputsPDOS)\n",
        "\n",
        "  ct_layer1 = tf.keras.layers.Conv2D(1, 1, strides=1, activation=None, padding='same', trainable =True,\n",
        "                                    kernel_initializer=tf.random_normal_initializer(4.0, 0.01), use_bias=True)(inputsCT)\n",
        "\n",
        "  ct_layer2 = tf.keras.layers.Conv2D(1, 1, strides=1, activation=None, padding='same', \n",
        "                                    kernel_initializer=tf.random_normal_initializer(1.0, 0.01), use_bias=True)(inputsCT)\n",
        "\n",
        "  ct_scatter = tf.keras.layers.Conv2D(1, kernel, padding='same', kernel_initializer=tf.random_normal_initializer(0.0, 0.001),\n",
        "                                      activation=None)(inputsCT)\n",
        "\n",
        "  exp1 = tf.math.exp(-ct_layer1)\n",
        "\n",
        "  exp2 = tf.math.exp(-ct_layer2)\n",
        "\n",
        "  pdos_exp1 = tf.keras.layers.Multiply()([pdos_layer1,exp1])\n",
        "\n",
        "  pdos_exp2 = tf.keras.layers.Multiply()([pdos_layer2,exp2])\n",
        "\n",
        "  sum1 = tf.keras.layers.Add()([pdos_exp1, pdos_exp2])\n",
        "\n",
        "  sum2 = tf.keras.layers.Add()([pdos_layer3, sum1])\n",
        "\n",
        "  scatter = tf.keras.layers.Multiply()([ct_scatter, pdos_layer4])\n",
        "  last = tf.keras.layers.Add()([sum2, scatter])\n",
        "\n",
        "\n",
        "  return tf.keras.Model(inputs=inputs, outputs=last)\n"
      ],
      "metadata": {
        "id": "1iwoSsKa1WXz"
      },
      "execution_count": null,
      "outputs": []
    },
    {
      "cell_type": "code",
      "source": [
        "def GeneratorE():\n",
        "\n",
        "  inputs = tf.keras.layers.Input(shape=[256, 256, 3])\n",
        "  \n",
        "  inputsPDOS = tf.expand_dims(inputs[..., 0], axis=-1)\n",
        "  inputsCT = tf.expand_dims(inputs[..., 1], axis=-1)\n",
        "  halfCBCT = tf.expand_dims(inputs[..., 2], axis=-1)\n",
        "\n",
        "  pdos_layer1 = tf.keras.layers.Conv2D(1, 1, strides=1, activation=None, padding='same', trainable = True,\n",
        "                                      kernel_initializer=tf.random_normal_initializer(1.0, 0.01), use_bias=True)(inputsPDOS)\n",
        " \n",
        "  pdos_layer2 = tf.keras.layers.Conv2D(1, 1, strides=1, activation=None, padding='same', \n",
        "                                      kernel_initializer=tf.random_normal_initializer(0.05, 0.01), use_bias=True)(inputsPDOS)\n",
        "\n",
        "  pdos_layer3 = tf.keras.layers.Conv2D(1, 1, strides=1, activation=None, padding='same', trainable = True,\n",
        "                                      kernel_initializer=tf.random_normal_initializer(1.0, 0.01), use_bias=True)(inputsPDOS)\n",
        "\n",
        "  # pdos_layer4 = tf.keras.layers.Conv2D(1, 1, strides=1, activation=None, padding='same', trainable = True,\n",
        "  #                                      kernel_initializer=tf.random_normal_initializer(1.0, 0.01), use_bias=True)(inputsPDOS)\n",
        "\n",
        "  ct_layer1 = tf.keras.layers.Conv2D(1, 1, strides=1, activation=None, padding='same', trainable =True,\n",
        "                                    kernel_initializer=tf.random_normal_initializer(4.0, 0.01), use_bias=True)(inputsCT)\n",
        "\n",
        "  ct_layer2 = tf.keras.layers.Conv2D(1, 1, strides=1, activation=None, padding='same', \n",
        "                                    kernel_initializer=tf.random_normal_initializer(1.0, 0.01), use_bias=True)(inputsCT)\n",
        "\n",
        "  exp1 = tf.math.exp(-ct_layer1)\n",
        "\n",
        "  exp2 = tf.math.exp(-ct_layer2)\n",
        "\n",
        "  pdos_exp1 = tf.keras.layers.Multiply()([pdos_layer1,exp1])\n",
        "\n",
        "  pdos_exp2 = tf.keras.layers.Multiply()([pdos_layer1,exp2])\n",
        "\n",
        "  sum1 = tf.keras.layers.Add()([pdos_exp1, pdos_exp2])\n",
        "\n",
        "  sum2 = tf.keras.layers.Add()([pdos_layer2, sum1])\n",
        "\n",
        "  pdosave = tf.keras.layers.GlobalAveragePooling2D()(pdos_layer3) \n",
        "\n",
        "  last = tf.keras.layers.Add()([pdosave, sum2])\n",
        "\n",
        "  return tf.keras.Model(inputs=inputs, outputs=last)"
      ],
      "metadata": {
        "id": "YFmwrMvG5wwc"
      },
      "execution_count": null,
      "outputs": []
    },
    {
      "cell_type": "code",
      "source": [
        "#print(generator.trainable_variables)"
      ],
      "metadata": {
        "id": "3VXJorWLugsi"
      },
      "execution_count": null,
      "outputs": []
    },
    {
      "cell_type": "code",
      "source": [
        "# for layer in generator.layers:\n",
        "#     print(layer.name, layer)\n",
        "#     print(layer.weights)"
      ],
      "metadata": {
        "id": "5du3Z_mdvWXj"
      },
      "execution_count": null,
      "outputs": []
    },
    {
      "cell_type": "code",
      "source": [
        "def GeneratorFixed():\n",
        "\n",
        "  inputs = tf.keras.layers.Input(shape=[256, 256, 3])\n",
        "  \n",
        "  inputsPDOS = tf.expand_dims(inputs[..., 0], axis=-1)\n",
        "  inputsCT = tf.expand_dims(inputs[..., 1], axis=-1)\n",
        "  halfCBCT = tf.expand_dims(inputs[..., 2], axis=-1)\n",
        "\n",
        " \n",
        " \n",
        "  ct_layer1 = tf.keras.layers.Conv2D(1, 1, strides=1, activation=None, padding='same', trainable =False,\n",
        "                                   kernel_initializer=tf.keras.initializers.Constant(4.9641533), \n",
        "                                      use_bias=True,bias_initializer=tf.keras.initializers.Constant(0.05148066))(inputsCT)\n",
        "\n",
        "  ct_layer2 = tf.keras.layers.Conv2D(1, 1, strides=1, activation=None, padding='same', trainable =False,\n",
        "                                   kernel_initializer=tf.keras.initializers.Constant(1.0908785), \n",
        "                                      use_bias=True,bias_initializer=tf.keras.initializers.Constant(0.42798245))(inputsCT)\n",
        "\n",
        "  pdos_layer1 = tf.keras.layers.Conv2D(1, 1, strides=1, activation=None, padding='same', trainable = False,\n",
        "                                      kernel_initializer=tf.keras.initializers.Constant(0.6828056), \n",
        "                                      use_bias=True,bias_initializer=tf.keras.initializers.Constant(-0.00088083))(inputsPDOS)\n",
        "\n",
        "  pdos_layer3 = tf.keras.layers.Conv2D(1, 1, strides=1, activation=None, padding='same', trainable = False,\n",
        "                                      kernel_initializer=tf.keras.initializers.Constant(0.06649256), \n",
        "                                      use_bias=True,bias_initializer=tf.keras.initializers.Constant(0.00109639))(inputsPDOS)\n",
        "\n",
        "  pdos_layer2 = tf.keras.layers.Conv2D(1, 1, strides=1, activation=None, padding='same', trainable = False,\n",
        "                                      kernel_initializer=tf.keras.initializers.Constant(-0.07846075), \n",
        "                                      use_bias=True,bias_initializer=tf.keras.initializers.Constant(0.00109639))(inputsPDOS)\n",
        "\n",
        "\n",
        "\n",
        "\n",
        "  exp1 = tf.math.exp(-ct_layer1)\n",
        "\n",
        "  exp2 = tf.math.exp(-ct_layer2)\n",
        "\n",
        "  pdos_exp1 = tf.keras.layers.Multiply()([pdos_layer1,exp1])\n",
        "\n",
        "  pdos_exp2 = tf.keras.layers.Multiply()([pdos_layer1,exp2])\n",
        "\n",
        "  sum1 = tf.keras.layers.Add()([pdos_exp1, pdos_exp2])\n",
        "\n",
        "  sum2 = tf.keras.layers.Add()([pdos_layer2, sum1])\n",
        "\n",
        "  pdosave = tf.keras.layers.GlobalAveragePooling2D()(pdos_layer3) \n",
        "\n",
        "  last = tf.keras.layers.Add()([pdosave, sum2])\n",
        "\n",
        "  return tf.keras.Model(inputs=inputs, outputs=last)"
      ],
      "metadata": {
        "id": "h46m5Ne8u_0T"
      },
      "execution_count": null,
      "outputs": []
    },
    {
      "cell_type": "code",
      "source": [
        "def GeneratorFixed2():\n",
        "\n",
        "  inputs = tf.keras.layers.Input(shape=[256, 256, 3])\n",
        "  \n",
        "  inputsPDOS = tf.expand_dims(inputs[..., 0], axis=-1)\n",
        "  inputsCT = tf.expand_dims(inputs[..., 1], axis=-1)\n",
        "  halfCBCT = tf.expand_dims(inputs[..., 2], axis=-1)\n",
        "\n",
        "\n",
        " \n",
        "  ct_layer1 = tf.keras.layers.Conv2D(1, 1, strides=1, activation=None, padding='same', trainable =False,\n",
        "                                   kernel_initializer=tf.keras.initializers.Constant(0.538066), \n",
        "                                      use_bias=False)(inputsCT)\n",
        "\n",
        "  ct_layer2 = tf.keras.layers.Conv2D(1, 1, strides=1, activation=None, padding='same', trainable =False,\n",
        "                                   kernel_initializer=tf.keras.initializers.Constant(-2.970), \n",
        "                                      use_bias=False)(inputsCT)\n",
        "\n",
        "  pdos_layer1 = tf.keras.layers.Conv2D(1, 1, strides=1, activation=None, padding='same', trainable = False,\n",
        "                                      kernel_initializer=tf.keras.initializers.Constant(1.0), \n",
        "                                      use_bias=False)(inputsPDOS)\n",
        "\n",
        "\n",
        "  ct_square = tf.keras.layers.Multiply()([ct_layer1,ct_layer1])\n",
        "\n",
        "  sum1 = tf.keras.layers.Add()([ct_square, ct_layer2])\n",
        "\n",
        "\n",
        "  sum2 = tf.keras.layers.Lambda(lambda x:x+tf.constant(-0.04349))(sum1)\n",
        "  #sum2 = tf.keras.layers.Add()([sum1,constant])\n",
        "\n",
        "\n",
        "  exp1 = tf.math.exp(sum2)\n",
        "\n",
        "  last = tf.keras.layers.Multiply()([pdos_layer1,exp1])\n",
        "\n",
        "  return tf.keras.Model(inputs=inputs, outputs=last)\n"
      ],
      "metadata": {
        "id": "8iNlG0SiSWVQ"
      },
      "execution_count": null,
      "outputs": []
    },
    {
      "cell_type": "code",
      "source": [
        "from tensorflow.python.ops.array_ops import zeros\n",
        "def GeneratorS(include_scatter=True, kernel=16, half_kernel=8, dilation_rate=1, add_half=False):\n",
        " \n",
        "\n",
        "  inputs = tf.keras.layers.Input(shape=[256, 256, 3])\n",
        "  \n",
        "  inputsPDOS = tf.expand_dims(inputs[..., 0], axis=-1)\n",
        "  inputsCT = tf.expand_dims(inputs[..., 1], axis=-1)\n",
        "  halfCBCT = tf.expand_dims(inputs[..., 2], axis=-1)\n",
        "\n",
        "  pdos_layer1 = tf.keras.layers.Conv2D(1, 1, strides=1, activation=None, padding='same', trainable = True,\n",
        "                                      kernel_initializer=tf.random_normal_initializer(1.0, 0.01), use_bias=True)(inputsPDOS)\n",
        " \n",
        "  pdos_layer2 = tf.keras.layers.Conv2D(1, 1, strides=1, activation=None, padding='same', \n",
        "                                      kernel_initializer=tf.random_normal_initializer(0.05, 0.01), use_bias=True)(inputsPDOS)\n",
        "\n",
        "  pdos_layer3 = tf.keras.layers.Conv2D(1, 1, strides=1, activation=None, padding='same', trainable = True,\n",
        "                                      kernel_initializer=tf.random_normal_initializer(1.0, 0.01), use_bias=True)(inputsPDOS)\n",
        "\n",
        "  pdos_scatter = tf.keras.layers.Conv2D(1, kernel, strides=1, activation=None, padding='same', trainable = True,\n",
        "                                        kernel_initializer=tf.random_normal_initializer(0.0, 0.01), use_bias=True)(inputsPDOS)\n",
        "\n",
        "  ct_layer1 = tf.keras.layers.Conv2D(1, 1, strides=1, activation=None, padding='same', trainable =True,\n",
        "                                    kernel_initializer=tf.random_normal_initializer(4.0, 0.01), use_bias=True)(inputsCT)\n",
        "\n",
        "  ct_layer2 = tf.keras.layers.Conv2D(1, 1, strides=1, activation=None, padding='same', \n",
        "                                    kernel_initializer=tf.random_normal_initializer(1.0, 0.01), use_bias=True)(inputsCT)\n",
        "\n",
        "  exp1 = tf.math.exp(-ct_layer1)\n",
        "\n",
        "  exp2 = tf.math.exp(-ct_layer2)\n",
        "\n",
        "  pdos_exp1 = tf.keras.layers.Multiply()([pdos_layer1,exp1])\n",
        "\n",
        "  pdos_exp2 = tf.keras.layers.Multiply()([pdos_layer1,exp2])\n",
        "\n",
        "  sum1 = tf.keras.layers.Add()([pdos_exp1, pdos_exp2])\n",
        "\n",
        "  sum2 = tf.keras.layers.Add()([pdos_layer2, sum1])\n",
        "\n",
        "  pdosave = tf.keras.layers.GlobalAveragePooling2D()(pdos_layer3) \n",
        "\n",
        "  last = tf.keras.layers.Add()([sum2,pdosave])\n",
        "\n",
        "\n",
        "  ct_scatter = tf.keras.layers.Conv2D(1, kernel, dilation_rate=dilation_rate,\n",
        "                                      padding='same', kernel_initializer=tf.random_normal_initializer(.01, 0.001),\n",
        "                                      activation=None)(inputsCT)\n",
        "  scatter = tf.keras.layers.Multiply()([ct_scatter, pdos_scatter])\n",
        "  \n",
        "  last = tf.keras.layers.Add()([last, scatter])\n",
        "  \n",
        "      \n",
        "  return tf.keras.Model(inputs=inputs, outputs=last)"
      ],
      "metadata": {
        "id": "Vnvi6vUyGmvR"
      },
      "execution_count": null,
      "outputs": []
    },
    {
      "cell_type": "code",
      "source": [
        "from tensorflow.python.ops.array_ops import zeros\n",
        "def GeneratorS2(kernel=32,dilation_rate=1):\n",
        " \n",
        "  inputs = tf.keras.layers.Input(shape=[256, 256, 3])\n",
        "  \n",
        "  inputsPDOS = tf.expand_dims(inputs[..., 0], axis=-1)\n",
        "  inputsCT = tf.expand_dims(inputs[..., 1], axis=-1)\n",
        "  halfCBCT = tf.expand_dims(inputs[..., 2], axis=-1)\n",
        "\n",
        "  inputsPCT = tf.keras.layers.Concatenate()([inputsPDOS,inputsCT])\n",
        "\n",
        "  ct_layer1 = tf.keras.layers.Conv2D(32, kernel_size=(1,1), strides=1, activation=\"relu\", padding='same', trainable = True,\n",
        "                                      kernel_initializer=tf.random_normal_initializer(0.0, 0.01), use_bias=True)(inputsCT)\n",
        "\n",
        "  ct_layer2 = tf.keras.layers.Conv2D(64, kernel_size=(1,1), strides=1, activation=\"relu\", padding='same', trainable = True,\n",
        "                                      kernel_initializer=tf.random_normal_initializer(0.0, 0.01), use_bias=True)(ct_layer1)\n",
        "\n",
        "  up1 = tf.keras.layers.Conv2DTranspose(32, kernel_size=(1,1), strides=1, activation=\"relu\", padding='same', trainable = True,\n",
        "                                      kernel_initializer=tf.random_normal_initializer(0.0, 0.01), use_bias=True)(ct_layer2)\n",
        " \n",
        "  upcbct = tf.keras.layers.Conv2DTranspose(1, kernel_size=(1,1), strides=1, activation=\"relu\", padding='same', trainable = True,\n",
        "                                      kernel_initializer=tf.random_normal_initializer(0.0, 0.01), use_bias=True)(up1) \n",
        "\n",
        "  pdos_scatter = tf.keras.layers.Conv2D(1, kernel, strides=1, activation=None, padding='same', trainable = True,\n",
        "                                        kernel_initializer=tf.random_normal_initializer(0.0, 0.01), use_bias=True)(inputsPDOS)\n",
        "\n",
        "  # ct_layer1 = tf.keras.layers.Conv2D(1, 1, strides=1, activation=None, padding='same', trainable =True,\n",
        "  #                                   kernel_initializer=tf.random_normal_initializer(4.0, 0.01), use_bias=True)(inputsCT)\n",
        "\n",
        "  # ct_layer2 = tf.keras.layers.Conv2D(1, 1, strides=1, activation=None, padding='same', \n",
        "  #                                   kernel_initializer=tf.random_normal_initializer(1.0, 0.01), use_bias=True)(inputsCT)\n",
        "\n",
        "\n",
        "  ct_scatter = tf.keras.layers.Conv2D(1, kernel, dilation_rate=dilation_rate, padding='same', kernel_initializer=tf.random_normal_initializer(.01, 0.001),\n",
        "                                      activation=None, use_bias=True)(upcbct)\n",
        "\n",
        "  scatter = tf.keras.layers.Multiply()([ct_scatter, pdos_scatter])\n",
        "  \n",
        "      \n",
        "  return tf.keras.Model(inputs=inputs, outputs=scatter)"
      ],
      "metadata": {
        "id": "joO6y35McG85"
      },
      "execution_count": null,
      "outputs": []
    },
    {
      "cell_type": "code",
      "source": [
        "def GeneratorDCNN():\n",
        "\n",
        "  inputs = tf.keras.layers.Input(shape=[256, 256, 3])\n",
        "  \n",
        "  inputsPDOS = tf.expand_dims(inputs[..., 0], axis=-1)\n",
        "  inputsCT = tf.expand_dims(inputs[..., 1], axis=-1)\n",
        "  halfCBCT = tf.expand_dims(inputs[..., 2], axis=-1)\n",
        "\n",
        "\n",
        "\n",
        "  pdos_layer1 = tf.keras.layers.Conv2D(1, kernel_size=(1,1), strides=1, activation=\"relu\", padding='same', trainable = True,\n",
        "                                      kernel_initializer=tf.keras.initializers.Constant(1.0) , use_bias=True)(inputsPDOS)\n",
        "\n",
        "  \n",
        "  ct_layer1 = tf.keras.layers.Conv2D(32, kernel_size=(1,1), strides=1, activation=\"relu\", padding='same', trainable = True,\n",
        "                                      kernel_initializer=tf.random_normal_initializer(0.0, 0.01), use_bias=True)(inputsCT)\n",
        "\n",
        "  ct_layer2 = tf.keras.layers.Conv2D(64, kernel_size=(1,1), strides=1, activation=\"relu\", padding='same', trainable = True,\n",
        "                                      kernel_initializer=tf.random_normal_initializer(0.0, 0.01), use_bias=True)(ct_layer1)\n",
        "\n",
        "  up1 = tf.keras.layers.Conv2DTranspose(32, kernel_size=(1,1), strides=1, activation=\"relu\", padding='same', trainable = True,\n",
        "                                      kernel_initializer=tf.random_normal_initializer(0.0, 0.01), use_bias=True)(ct_layer2)\n",
        " \n",
        "  up2 = tf.keras.layers.Conv2DTranspose(1, kernel_size=(1,1), strides=1, activation=\"relu\", padding='same', trainable = True,\n",
        "                                      kernel_initializer=tf.random_normal_initializer(0.0, 0.01), use_bias=True)(up1) \n",
        " \n",
        "  catlayer = tf.keras.layers.Multiply()([pdos_layer1,up2])\n",
        "\n",
        " \n",
        "\n",
        "  return tf.keras.Model(inputs=inputs, outputs=catlayer)\n"
      ],
      "metadata": {
        "id": "kgp4MApXs_pU"
      },
      "execution_count": null,
      "outputs": []
    },
    {
      "cell_type": "code",
      "source": [
        "def GeneratorDCNN2():\n",
        "\n",
        "  inputs = tf.keras.layers.Input(shape=[256, 256, 3])\n",
        "  \n",
        "  inputsPDOS = tf.expand_dims(inputs[..., 0], axis=-1)\n",
        "  inputsCT = tf.expand_dims(inputs[..., 1], axis=-1)\n",
        "  halfCBCT = tf.expand_dims(inputs[..., 2], axis=-1)\n",
        "\n",
        "\n",
        "\n",
        "  pdos_layer1 = tf.keras.layers.Conv2D(32, kernel_size=(3,3), strides=1, activation=\"relu\", padding='same', trainable = True,\n",
        "                                      kernel_initializer=tf.random_normal_initializer(1.0, 0.01), use_bias=True)(inputsPDOS)\n",
        "\n",
        "  pdos_layer2 = tf.keras.layers.Conv2D(64, kernel_size=(3,3), strides=1, activation=\"relu\", padding='same', trainable = True,\n",
        "                                      kernel_initializer=tf.random_normal_initializer(0.0, 0.01), use_bias=True)(pdos_layer1)\n",
        "\n",
        "  pdos_layer3 = tf.keras.layers.Conv2D(128, kernel_size=(3,3), strides=1, activation=\"relu\", padding='same', trainable = True,\n",
        "                                      kernel_initializer=tf.random_normal_initializer(0.0, 0.01), use_bias=True)(pdos_layer2)\n",
        "\n",
        "  ct_layer1 = tf.keras.layers.Conv2D(32, kernel_size=(3,3), strides=1, activation=\"relu\", padding='same', trainable = True,\n",
        "                                      kernel_initializer=tf.random_normal_initializer(0.0, 0.01), use_bias=True)(inputsCT)\n",
        "\n",
        "  ct_layer2 = tf.keras.layers.Conv2D(64, kernel_size=(3,3), strides=1, activation=\"relu\", padding='same', trainable = True,\n",
        "                                      kernel_initializer=tf.random_normal_initializer(0.0, 0.01), use_bias=True)(ct_layer1)\n",
        "\n",
        "  ct_layer3 = tf.keras.layers.Conv2D(128, kernel_size=(3,3), strides=1, activation=\"relu\", padding='same', trainable = True,\n",
        "                                      kernel_initializer=tf.random_normal_initializer(0.0, 0.01), use_bias=True)(ct_layer2)\n",
        "\n",
        "\n",
        "  catlayer = tf.keras.layers.concatenate([pdos_layer3,ct_layer3],axis=-1)\n",
        "\n",
        "  up1 = tf.keras.layers.Conv2DTranspose(128, kernel_size=(3,3), strides=1, activation=\"relu\", padding='same', trainable = True,\n",
        "                                      kernel_initializer=tf.random_normal_initializer(0.0, 0.01), use_bias=True)(catlayer)\n",
        "        \n",
        "  up2 = tf.keras.layers.Conv2DTranspose(64, kernel_size=(3,3), strides=1, activation=\"relu\", padding='same', trainable = True,\n",
        "                                      kernel_initializer=tf.random_normal_initializer(0.0, 0.01), use_bias=True)(up1)                                   \n",
        "\n",
        "  up3 = tf.keras.layers.Conv2DTranspose(32, kernel_size=(3,3), strides=1, activation=\"relu\", padding='same', trainable = True,\n",
        "                                      kernel_initializer=tf.random_normal_initializer(0.0, 0.01), use_bias=True)(up2)   \n",
        "\n",
        "  last = tf.keras.layers.Conv2DTranspose(1, kernel_size=(3,3), strides=1, activation=\"relu\", padding='same', trainable = True,\n",
        "                                      kernel_initializer=tf.random_normal_initializer(0.0, 0.01), use_bias=True)(up3) \n",
        "\n",
        "\n",
        "  return tf.keras.Model(inputs=inputs, outputs=last)\n",
        "\n"
      ],
      "metadata": {
        "id": "jU8WeDDZ5lg-"
      },
      "execution_count": null,
      "outputs": []
    },
    {
      "cell_type": "markdown",
      "metadata": {
        "id": "ueEJyRVrtZ-p",
        "pycharm": {
          "name": "#%% md\n"
        }
      },
      "source": [
        "Define the generator with the downsampler and the upsampler:"
      ]
    },
    {
      "cell_type": "code",
      "source": [
        "def GeneratorDSE():\n",
        "\n",
        "  inputs = tf.keras.layers.Input(shape=[256, 256, 3])\n",
        "  \n",
        "  inputsPDOS = tf.expand_dims(inputs[..., 0], axis=-1)\n",
        "  inputsCT = tf.expand_dims(inputs[..., 1], axis=-1)\n",
        "  halfCBCT = tf.expand_dims(inputs[..., 2], axis=-1)\n",
        "\n",
        "  initializer = tf.random_normal_initializer(0., 0.02)\n",
        "\n",
        "  inputt = tf.keras.layers.Concatenate()([inputsPDOS,inputsCT])\n",
        "\n",
        "  #Downsample PDOS with average pooling\n",
        "  ave1  = tf.keras.layers.AveragePooling2D(pool_size=(2,2), strides=2, padding='same') (inputsPDOS)  #downsampled to 128 \n",
        "  ave2  = tf.keras.layers.AveragePooling2D(pool_size=(2,2), strides=2, padding='same') (ave1) #downsampled to 64\n",
        "  ave3  = tf.keras.layers.AveragePooling2D(pool_size=(2,2), strides=2, padding='same') (ave2) #downsampled to 32\n",
        "  ave4  = tf.keras.layers.AveragePooling2D(pool_size=(2,2), strides=2, padding='same') (ave3) #downsampled to 16\n",
        "  ave5  = tf.keras.layers.AveragePooling2D(pool_size=(2,2), strides=2, padding='same') (ave4) #downsampled to 8\n",
        "  ave6  = tf.keras.layers.AveragePooling2D(pool_size=(2,2), strides=2, padding='same') (ave5) #downsampled to 4\n",
        "  \n",
        "  #apply a 3x3 kernal to average pooled PDOS\n",
        "  cave1 = tf.keras.layers.Conv2D(5, 2, strides=1, padding='same',kernel_initializer=initializer, use_bias=False,activation='relu') (ave1)\n",
        "  cave2 = tf.keras.layers.Conv2D(10, 2, strides=1, padding='same',kernel_initializer=initializer, use_bias=False,activation='relu') (ave2)\n",
        "  cave3 = tf.keras.layers.Conv2D(20, 2, strides=1, padding='same',kernel_initializer=initializer, use_bias=False,activation='relu') (ave3)\n",
        "  cave4 = tf.keras.layers.Conv2D(30, 2, strides=1, padding='same',kernel_initializer=initializer, use_bias=False,activation='relu') (ave4)\n",
        "  cave5 = tf.keras.layers.Conv2D(40, 2, strides=1, padding='same',kernel_initializer=initializer, use_bias=False,activation='relu') (ave5)\n",
        "  cave6 = tf.keras.layers.Conv2D(50, 2, strides=1, padding='same',kernel_initializer=initializer, use_bias=False,activation='relu') (ave6)\n",
        "\n",
        "  # Down sample and get feature maps for 3 channgles.\n",
        "  # Cat the average pooled input with UNET of the CT layer\n",
        "  first = tf.keras.layers.Conv2D(9, 2, strides=1, padding='same',kernel_initializer=initializer, use_bias=False,activation='relu') (inputsCT)\n",
        "  \n",
        "  down1 = tf.keras.layers.Conv2D(15, 2, strides=2, padding='same',kernel_initializer=initializer, use_bias=False,activation='relu') (first)\n",
        "  cat1 = tf.keras.layers.Concatenate()([cave1,down1])\n",
        "  \n",
        "  down2 = tf.keras.layers.Conv2D(31, 2, strides=2, padding='same',kernel_initializer=initializer, use_bias=False,activation='relu') (cat1)\n",
        "  cat2 = tf.keras.layers.Concatenate()([cave2,down2])\n",
        "  \n",
        "  down3 = tf.keras.layers.Conv2D(63, 2, strides=2, padding='same',kernel_initializer=initializer, use_bias=False,activation='relu') (cat2)\n",
        "  cat3 = tf.keras.layers.Concatenate()([cave3,down3])\n",
        "\n",
        "  down4 = tf.keras.layers.Conv2D(127, 2, strides=2, padding='same',kernel_initializer=initializer, use_bias=False,activation='relu') (cat3)\n",
        "  cat4 = tf.keras.layers.Concatenate()([cave4,down4])\n",
        "\n",
        "  down5 = tf.keras.layers.Conv2D(127, 2, strides=2, padding='same',kernel_initializer=initializer, use_bias=False,activation='relu') (cat4)\n",
        "  cat5 = tf.keras.layers.Concatenate()([cave5,down5])\n",
        "\n",
        "  down6 = tf.keras.layers.Conv2D(127, 2, strides=2, padding='same',kernel_initializer=initializer, use_bias=False,activation='relu') (cat5)\n",
        "  cat6 = tf.keras.layers.Concatenate()([cave6,down6])\n",
        "\n",
        "  # Middle bottleneck layer\n",
        "  #mid = tf.keras.layers.Conv2DTranspose(128, 2, strides=2, padding='same',kernel_initializer=initializer, use_bias=False,activation='relu')(cat6)\n",
        " \n",
        "  mid = tf.keras.layers.UpSampling2D(size=(2,2), interpolation='bilinear')(cat6)\n",
        "  mid = tf.keras.layers.Conv2DTranspose(128, 2, strides=1, padding='same',kernel_initializer=initializer, use_bias=False,activation='relu')(mid)\n",
        "  \n",
        "  upcat5 = tf.keras.layers.Concatenate()([cat5,mid])\n",
        "  up5 = tf.keras.layers.Conv2DTranspose(128, 2, strides=2, padding='same',kernel_initializer=initializer, use_bias=False,activation='relu')(upcat5)\n",
        "\n",
        "  #up5 = tf.keras.layers.UpSampling2D(size=(2,2), interpolation='bilinear')(upcat5)\n",
        "  #up5 = tf.keras.layers.Conv2DTranspose(128, 2, strides=1, padding='same',kernel_initializer=initializer, use_bias=False,activation='relu')(up5)\n",
        "\n",
        "  upcat4 = tf.keras.layers.Concatenate()([cat4,up5])\n",
        "  up4 = tf.keras.layers.Conv2DTranspose(64, 2, strides=2, padding='same',kernel_initializer=initializer, use_bias=False,activation='relu')(upcat4)\n",
        "\n",
        "  #up4 = tf.keras.layers.UpSampling2D(size=(2,2), interpolation='bilinear')(upcat4)\n",
        "  #up4 = tf.keras.layers.Conv2DTranspose(64, 2, strides=1, padding='same',kernel_initializer=initializer, use_bias=False,activation='relu')(up4)\n",
        "\n",
        "\n",
        "  upcat3 = tf.keras.layers.Concatenate()([cat3,up4])\n",
        "  up3 = tf.keras.layers.Conv2DTranspose(32, 2, strides=2, padding='same',kernel_initializer=initializer, use_bias=False,activation='relu')(upcat3)\n",
        "\n",
        "  #up3 = tf.keras.layers.UpSampling2D(size=(2,2), interpolation='bilinear')(upcat3)\n",
        "  #up3 = tf.keras.layers.Conv2DTranspose(32, 2, strides=1, padding='same',kernel_initializer=initializer, use_bias=False,activation='relu')(up3)\n",
        "\n",
        "  upcat2 = tf.keras.layers.Concatenate()([cat2,up3])\n",
        "  up2 = tf.keras.layers.Conv2DTranspose(16, 2, strides=2, padding='same',kernel_initializer=initializer, use_bias=False,activation='relu')(upcat2)\n",
        " \n",
        "  #up2 = tf.keras.layers.UpSampling2D(size=(2,2), interpolation='bilinear')(upcat2)\n",
        "  #up2 = tf.keras.layers.Conv2DTranspose(16, 2, strides=1, padding='same',kernel_initializer=initializer, use_bias=False,activation='relu')(up2)\n",
        "\n",
        "  upcat1 = tf.keras.layers.Concatenate()([cat1,up2])\n",
        "  up1 = tf.keras.layers.Conv2DTranspose(9, 2, strides=2, padding='same',kernel_initializer=initializer, use_bias=False,activation='relu')(upcat1)\n",
        "\n",
        "  #up1 = tf.keras.layers.UpSampling2D(size=(2,2), interpolation='bilinear')(upcat1)\n",
        "  #up1 = tf.keras.layers.Conv2DTranspose(9, 2, strides=1, padding='same',kernel_initializer=initializer, use_bias=False,activation='relu')(up1)\n",
        "\n",
        "  last = tf.keras.layers.Concatenate()([first,up1])\n",
        "  last = tf.keras.layers.Conv2DTranspose(1, 2, strides=1, padding='same',kernel_initializer=initializer, use_bias=False,activation='tanh')(last)\n",
        "\n",
        "\n",
        "  #return last \n",
        "  return tf.keras.Model(inputs=inputs, outputs=last)\n"
      ],
      "metadata": {
        "id": "cRx_tNUS72LE"
      },
      "execution_count": null,
      "outputs": []
    },
    {
      "cell_type": "code",
      "source": [
        "def GeneratorExpSca():\n",
        "\n",
        "  inputs = tf.keras.layers.Input(shape=[256, 256, 3])\n",
        "  \n",
        "  inputsPDOS = tf.expand_dims(inputs[..., 0], axis=-1)\n",
        "  inputsCT = tf.expand_dims(inputs[..., 1], axis=-1)\n",
        "  halfCBCT = tf.expand_dims(inputs[..., 2], axis=-1)\n",
        "\n",
        " \n",
        " \n",
        "  ct_layer1 = tf.keras.layers.Conv2D(1, 1, strides=1, activation=None, padding='same', trainable =False,\n",
        "                                   kernel_initializer=tf.keras.initializers.Constant(4.9641533), \n",
        "                                      use_bias=True,bias_initializer=tf.keras.initializers.Constant(0.05148066))(inputsCT)\n",
        "\n",
        "  ct_layer2 = tf.keras.layers.Conv2D(1, 1, strides=1, activation=None, padding='same', trainable =False,\n",
        "                                   kernel_initializer=tf.keras.initializers.Constant(1.0908785), \n",
        "                                      use_bias=True,bias_initializer=tf.keras.initializers.Constant(0.42798245))(inputsCT)\n",
        "\n",
        "  pdos_layer1 = tf.keras.layers.Conv2D(1, 1, strides=1, activation=None, padding='same', trainable = False,\n",
        "                                      kernel_initializer=tf.keras.initializers.Constant(0.6828056), \n",
        "                                      use_bias=True,bias_initializer=tf.keras.initializers.Constant(-0.00088083))(inputsPDOS)\n",
        "\n",
        "  pdos_layer3 = tf.keras.layers.Conv2D(1, 1, strides=1, activation=None, padding='same', trainable = False,\n",
        "                                      kernel_initializer=tf.keras.initializers.Constant(0.06649256), \n",
        "                                      use_bias=True,bias_initializer=tf.keras.initializers.Constant(0.00109639))(inputsPDOS)\n",
        "\n",
        "  pdos_layer2 = tf.keras.layers.Conv2D(1, 1, strides=1, activation=None, padding='same', trainable = False,\n",
        "                                      kernel_initializer=tf.keras.initializers.Constant(-0.07846075), \n",
        "                                      use_bias=True,bias_initializer=tf.keras.initializers.Constant(0.00109639))(inputsPDOS)\n",
        "\n",
        "\n",
        "\n",
        "\n",
        "  exp1 = tf.math.exp(-ct_layer1)\n",
        "\n",
        "  exp2 = tf.math.exp(-ct_layer2)\n",
        "\n",
        "  pdos_exp1 = tf.keras.layers.Multiply()([pdos_layer1,exp1])\n",
        "\n",
        "  pdos_exp2 = tf.keras.layers.Multiply()([pdos_layer1,exp2])\n",
        "\n",
        "  sum1 = tf.keras.layers.Add()([pdos_exp1, pdos_exp2])\n",
        "\n",
        "  sum2 = tf.keras.layers.Add()([pdos_layer2, sum1])\n",
        "\n",
        "  pdosave = tf.keras.layers.GlobalAveragePooling2D()(pdos_layer3) \n",
        "\n",
        "  last = tf.keras.layers.Add()([pdosave, sum2])\n",
        "\n",
        "  scatter = GeneratorP(inputsPDOS,inputsCT,last)\n",
        "  \n",
        "  #scatter = GeneratorDSE(inputs)\n",
        "\n",
        "  #last = tf.keras.layers.Add()([scatter, last])\n",
        "\n",
        "  #last = tf.keras.layers.Add()([scatter, last])\n",
        "\n",
        "  return tf.keras.Model(inputs=inputs, outputs=scatter)"
      ],
      "metadata": {
        "id": "vP5AFF9WAAqv"
      },
      "execution_count": null,
      "outputs": []
    },
    {
      "cell_type": "markdown",
      "metadata": {
        "id": "Z4PKwrcQFYvF",
        "pycharm": {
          "name": "#%% md\n"
        }
      },
      "source": [
        "Visualize the generator model architecture:"
      ]
    },
    {
      "cell_type": "code",
      "source": [
        "stop"
      ],
      "metadata": {
        "id": "xAnYwfyfifrr"
      },
      "execution_count": null,
      "outputs": []
    },
    {
      "cell_type": "code",
      "execution_count": 25,
      "metadata": {
        "id": "dIbRPFzjmV85",
        "colab": {
          "base_uri": "https://localhost:8080/"
        },
        "outputId": "f21d4750-a375-4d96-f823-c0cea2e3abf9",
        "pycharm": {
          "name": "#%%\n"
        }
      },
      "outputs": [
        {
          "output_type": "stream",
          "name": "stdout",
          "text": [
            "Model: \"model\"\n",
            "__________________________________________________________________________________________________\n",
            " Layer (type)                   Output Shape         Param #     Connected to                     \n",
            "==================================================================================================\n",
            " input_1 (InputLayer)           [(None, 256, 256, 3  0           []                               \n",
            "                                )]                                                                \n",
            "                                                                                                  \n",
            " sequential (Sequential)        (None, 128, 128, 64  3072        ['input_1[0][0]']                \n",
            "                                )                                                                 \n",
            "                                                                                                  \n",
            " sequential_1 (Sequential)      (None, 64, 64, 128)  131584      ['sequential[0][0]']             \n",
            "                                                                                                  \n",
            " sequential_2 (Sequential)      (None, 32, 32, 256)  525312      ['sequential_1[0][0]']           \n",
            "                                                                                                  \n",
            " sequential_3 (Sequential)      (None, 16, 16, 512)  2099200     ['sequential_2[0][0]']           \n",
            "                                                                                                  \n",
            " sequential_4 (Sequential)      (None, 8, 8, 512)    4196352     ['sequential_3[0][0]']           \n",
            "                                                                                                  \n",
            " sequential_5 (Sequential)      (None, 4, 4, 512)    4196352     ['sequential_4[0][0]']           \n",
            "                                                                                                  \n",
            " sequential_6 (Sequential)      (None, 2, 2, 512)    4196352     ['sequential_5[0][0]']           \n",
            "                                                                                                  \n",
            " sequential_7 (Sequential)      (None, 1, 1, 512)    4196352     ['sequential_6[0][0]']           \n",
            "                                                                                                  \n",
            " sequential_8 (Sequential)      (None, 2, 2, 512)    4196352     ['sequential_7[0][0]']           \n",
            "                                                                                                  \n",
            " concatenate (Concatenate)      (None, 2, 2, 1024)   0           ['sequential_8[0][0]',           \n",
            "                                                                  'sequential_6[0][0]']           \n",
            "                                                                                                  \n",
            " sequential_9 (Sequential)      (None, 4, 4, 512)    8390656     ['concatenate[0][0]']            \n",
            "                                                                                                  \n",
            " concatenate_1 (Concatenate)    (None, 4, 4, 1024)   0           ['sequential_9[0][0]',           \n",
            "                                                                  'sequential_5[0][0]']           \n",
            "                                                                                                  \n",
            " sequential_10 (Sequential)     (None, 8, 8, 512)    8390656     ['concatenate_1[0][0]']          \n",
            "                                                                                                  \n",
            " concatenate_2 (Concatenate)    (None, 8, 8, 1024)   0           ['sequential_10[0][0]',          \n",
            "                                                                  'sequential_4[0][0]']           \n",
            "                                                                                                  \n",
            " sequential_11 (Sequential)     (None, 16, 16, 512)  8390656     ['concatenate_2[0][0]']          \n",
            "                                                                                                  \n",
            " concatenate_3 (Concatenate)    (None, 16, 16, 1024  0           ['sequential_11[0][0]',          \n",
            "                                )                                 'sequential_3[0][0]']           \n",
            "                                                                                                  \n",
            " sequential_12 (Sequential)     (None, 32, 32, 256)  4195328     ['concatenate_3[0][0]']          \n",
            "                                                                                                  \n",
            " concatenate_4 (Concatenate)    (None, 32, 32, 512)  0           ['sequential_12[0][0]',          \n",
            "                                                                  'sequential_2[0][0]']           \n",
            "                                                                                                  \n",
            " sequential_13 (Sequential)     (None, 64, 64, 128)  1049088     ['concatenate_4[0][0]']          \n",
            "                                                                                                  \n",
            " concatenate_5 (Concatenate)    (None, 64, 64, 256)  0           ['sequential_13[0][0]',          \n",
            "                                                                  'sequential_1[0][0]']           \n",
            "                                                                                                  \n",
            " sequential_14 (Sequential)     (None, 128, 128, 64  262400      ['concatenate_5[0][0]']          \n",
            "                                )                                                                 \n",
            "                                                                                                  \n",
            " concatenate_6 (Concatenate)    (None, 128, 128, 12  0           ['sequential_14[0][0]',          \n",
            "                                8)                                'sequential[0][0]']             \n",
            "                                                                                                  \n",
            " conv2d_transpose_7 (Conv2DTran  (None, 256, 256, 1)  2049       ['concatenate_6[0][0]']          \n",
            " spose)                                                                                           \n",
            "                                                                                                  \n",
            "==================================================================================================\n",
            "Total params: 54,421,761\n",
            "Trainable params: 54,410,881\n",
            "Non-trainable params: 10,880\n",
            "__________________________________________________________________________________________________\n"
          ]
        }
      ],
      "source": [
        "generator = GeneratorP()\n",
        "#generator = GeneratorS2(kernel=32)\n",
        "#generator = GeneratorFixed2()\n",
        "#generator = GeneratorExpSca()\n",
        "#generator = GeneratorLK()\n",
        "#generator = GeneratorE()\n",
        "#generator = GeneratorDCNN()\n",
        "#generator = GeneratorDSE()\n",
        "#tf.keras.utils.plot_model(generator, show_shapes=True, dpi=64)\n",
        "generator.summary()"
      ]
    },
    {
      "cell_type": "markdown",
      "metadata": {
        "id": "Z8kbgTK8FcPo",
        "pycharm": {
          "name": "#%% md\n"
        }
      },
      "source": [
        "Test the generator:"
      ]
    },
    {
      "cell_type": "code",
      "source": [
        "for val in train_dataset.take(1):\n",
        "  inp = val[0]\n",
        "  #inp = tf.squeeze(inp,axis=-1)\n",
        "  #print(inp)"
      ],
      "metadata": {
        "id": "6ie50xmLu2pb"
      },
      "execution_count": 26,
      "outputs": []
    },
    {
      "cell_type": "code",
      "execution_count": 27,
      "metadata": {
        "id": "U1N1_obwtdQH",
        "pycharm": {
          "name": "#%%\n"
        },
        "colab": {
          "base_uri": "https://localhost:8080/",
          "height": 321
        },
        "outputId": "f1575d27-6e5c-4b53-d7da-28c66828da23"
      },
      "outputs": [
        {
          "output_type": "stream",
          "name": "stdout",
          "text": [
            "tf.Tensor([  1 256 256   3], shape=(4,), dtype=int32)\n",
            "tf.Tensor([  1   1 256 256   3], shape=(5,), dtype=int32)\n"
          ]
        },
        {
          "output_type": "execute_result",
          "data": {
            "text/plain": [
              "<matplotlib.image.AxesImage at 0x7f5dee9c8ee0>"
            ]
          },
          "metadata": {},
          "execution_count": 27
        },
        {
          "output_type": "display_data",
          "data": {
            "text/plain": [
              "<Figure size 432x288 with 1 Axes>"
            ],
            "image/png": "[encoded data removed]"
          },
          "metadata": {
            "needs_background": "light"
          }
        }
      ],
      "source": [
        "print(tf.shape(inp))\n",
        "print(tf.shape(inp[tf.newaxis, ...]))\n",
        "gen_output = generator(inp, training=False)\n",
        "#gen_output = generator(inp[tf.newaxis, ...], training=False)\n",
        "# #print(tf.shape(gen_output))\n",
        "plt.imshow(tf.squeeze(gen_output[0, ...],axis=-1))"
      ]
    },
    {
      "cell_type": "markdown",
      "metadata": {
        "id": "dpDPEQXIAiQO",
        "pycharm": {
          "name": "#%% md\n"
        }
      },
      "source": [
        "### Define the generator loss\n",
        "\n",
        "GANs learn a loss that adapts to the data, while cGANs learn a structured loss that penalizes a possible structure that differs from the network output and the target image, as described in the [pix2pix paper](https://arxiv.org/abs/1611.07004).\n",
        "\n",
        "- The generator loss is a sigmoid cross-entropy loss of the generated images and an **array of ones**.\n",
        "- The pix2pix paper also mentions the L1 loss, which is a MAE (mean absolute error) between the generated image and the target image.\n",
        "- This allows the generated image to become structurally similar to the target image.\n",
        "- The formula to calculate the total generator loss is `gan_loss + LAMBDA * l1_loss`, where `LAMBDA = 100`. This value was decided by the authors of the paper."
      ]
    },
    {
      "cell_type": "code",
      "source": [
        "def generator_loss(gen_output, target):\n",
        "  # Mean absolute error\n",
        "\n",
        "\n",
        "  # w = 0.01\n",
        "  # tar_bkg = tf.where(tf.less_equal(target,0.05),target,0)\n",
        "  # gen_bkg = tf.where(tf.less_equal(gen_output,0.05),gen_output,0)\n",
        "\n",
        "\n",
        "  # target_vals = tf.where(tf.greater(target,0.05),target,0)\n",
        "  # gen_vals = tf.where(tf.greater(gen_output,0.05),gen_output,0)\n",
        "  # l1_loss = w*tf.reduce_mean(tf.abs(tar_bkg - gen_bkg)) + tf.reduce_mean(tf.abs(target_vals - gen_vals))\n",
        "\n",
        "  l1_loss = tf.reduce_mean(tf.abs(target - gen_output))\n",
        "\n",
        "  return l1_loss"
      ],
      "metadata": {
        "id": "xYSdNfkEVwFK"
      },
      "execution_count": 28,
      "outputs": []
    },
    {
      "cell_type": "code",
      "source": [
        "exp_lr = tf.keras.optimizers.schedules.ExponentialDecay(2e-4,decay_steps=20000,decay_rate=0.5)"
      ],
      "metadata": {
        "id": "-hFaBu3wCo1I"
      },
      "execution_count": 29,
      "outputs": []
    },
    {
      "cell_type": "code",
      "source": [
        "generator_optimizer = tf.keras.optimizers.Adam(exp_lr, beta_1=0.9)"
      ],
      "metadata": {
        "id": "htuzlyw3htzi"
      },
      "execution_count": 30,
      "outputs": []
    },
    {
      "cell_type": "code",
      "source": [
        "!mkdir -p training_checkpoints\n",
        "#checkpoint_dir = '/content/drive/MyDrive/Colab Notebooks/3chanGAN_checkpoints'\n",
        "if not running_local:\n",
        "    checkpoint_dir = '/content/drive/MyDrive/Colab Notebooks/fold1_checkpoints'\n",
        "else:\n",
        "    checkpoint_dir = r'R:\\Bojechko\\TFRecords\\fold1_checkpoints'\n",
        "checkpoint_prefix = os.path.join(checkpoint_dir, \"ckpt\")\n",
        "checkpoint = tf.train.Checkpoint(generator_optimizer=generator_optimizer,\n",
        "                                 generator=generator)"
      ],
      "metadata": {
        "id": "nCrXgD6iV-Lq"
      },
      "execution_count": 31,
      "outputs": []
    },
    {
      "cell_type": "code",
      "source": [
        "def plot_images(prediction, input, target):\n",
        "  plt.figure(figsize=(15, 10))\n",
        "\n",
        "  # print(\"Input \")\n",
        "  # print(type(cbct_input))\n",
        "  # print(tf.shape(cbct_input))\n",
        "  # print(\"ground truth\")\n",
        "  # print(type(tar))\n",
        "  # print(tf.shape(tar))\n",
        "  display_list = [ input[0], target[0], prediction[0] ]\n",
        "  title = ['Input CBCT Image', 'Ground Truth', 'Predicted Image']\n",
        "  \n",
        "  plt.subplot(1, 4, 1)\n",
        "  plt.title('Input Image')\n",
        "  # Getting the pixel values in the [0, 1] range to plot.\n",
        "  \n",
        "  input = tf.squeeze(input,axis=0)\n",
        "  inslice = input[...,1]\n",
        "  \n",
        "  plt.imshow(inslice)\n",
        "  plt.axis('off')\n",
        "\n",
        "  plt.subplot(1, 4, 2)\n",
        "  plt.title('Ground Truth')\n",
        "  # Getting the pixel values in the [0, 1] range to plot.\n",
        "  #plt.imshow(tf.squeeze(tar[0],axis=0))\n",
        "  #tar = tf.cast(tar,tf.float32)\n",
        "  plt.imshow(tf.squeeze(target[0],axis=-1))\n",
        "  plt.axis('off')\n",
        "\n",
        "  plt.subplot(1, 4, 3)\n",
        "  plt.title('Predicted Image')\n",
        "  plt.imshow(tf.squeeze(prediction))\n",
        "  plt.axis('off')\n",
        "\n",
        "  target = tf.squeeze(target)\n",
        "  prediction = tf.squeeze(prediction)\n",
        "  \n",
        "  predvec = prediction[128,1:256]\n",
        "  rtvec = target[128,1:256]\n",
        "  \n",
        "\n",
        "  plt.axis('off')\n",
        "  plt.subplot(1, 4, 4)\n",
        "  plt.plot(rtvec,'g')\n",
        "  plt.title(\"Meas RT IMG (Green)\")\n",
        "  plt.plot(predvec,'b')\n",
        "\n",
        "  # Getting the pixel values in the [0, 1] range to plot.\n",
        "  #print(tf.shape(prediction))\n",
        "  #prediction = tf.cast(prediction,tf.float32)\n",
        "  #plt.imshow(tf.squeeze(prediction[0],axis=-1))\n",
        "  #plt.axis('off')\n",
        "  \n",
        "  plt.show()"
      ],
      "metadata": {
        "id": "vD2JMSxNWpdT"
      },
      "execution_count": 32,
      "outputs": []
    },
    {
      "cell_type": "code",
      "source": [
        "!mkdir -p training_checkpoints\n",
        "checkpoint_dir = '/content/drive/MyDrive/Colab Notebooks/training_checkpoints'\n",
        "checkpoint_prefix = os.path.join(checkpoint_dir, \"ckpt\")\n",
        "checkpoint = tf.train.Checkpoint(generator_optimizer=generator_optimizer,\n",
        "                                 generator=generator)"
      ],
      "metadata": {
        "id": "IhsG6-5FWxJq"
      },
      "execution_count": 33,
      "outputs": []
    },
    {
      "cell_type": "code",
      "source": [
        "def generate_images(model, input, tar):\n",
        "  prediction = model(input,training=True)\n",
        "  #prediction = model(input,training=False)\n",
        "  plot_images(prediction, input, tar)"
      ],
      "metadata": {
        "id": "A4i7pKRiW4fz"
      },
      "execution_count": 34,
      "outputs": []
    },
    {
      "cell_type": "code",
      "source": [
        "val_iterator = iter(valid_dataset)"
      ],
      "metadata": {
        "id": "grtUfHifW6oq"
      },
      "execution_count": 35,
      "outputs": []
    },
    {
      "cell_type": "code",
      "source": [
        "x,y = next(val_iterator)\n",
        "#pred = model.predict(x)\n",
        "generate_images(generator, x, y)"
      ],
      "metadata": {
        "colab": {
          "base_uri": "https://localhost:8080/",
          "height": 607
        },
        "id": "pQgf1IUXW8XS",
        "outputId": "e8e184ca-513f-4899-84d2-d9faf324d46d"
      },
      "execution_count": 91,
      "outputs": [
        {
          "output_type": "display_data",
          "data": {
            "text/plain": [
              "<Figure size 1080x720 with 4 Axes>"
            ],
            "image/png": "[encoded data removed]"
          },
          "metadata": {
            "needs_background": "light"
          }
        }
      ]
    },
    {
      "cell_type": "code",
      "source": [
        "log_dir=\"/content/drive/MyDrive/Colab Notebooks/cboct_logs/\"\n",
        "print(datetime.datetime.now().strftime(\"%Y%m%d-%H%M%S\"))\n",
        "\n",
        "summary_writer = tf.summary.create_file_writer(\n",
        "  log_dir + \"onefrac_cGAN\" + datetime.datetime.now().strftime(\"%Y%m%d-%H%M%S\"))"
      ],
      "metadata": {
        "colab": {
          "base_uri": "https://localhost:8080/"
        },
        "id": "SWuP7L0MXCia",
        "outputId": "3e0c655d-30ce-4c15-de3b-c01121c760e7"
      },
      "execution_count": 37,
      "outputs": [
        {
          "output_type": "stream",
          "name": "stdout",
          "text": [
            "20230123-233451\n"
          ]
        }
      ]
    },
    {
      "cell_type": "code",
      "source": [
        "@tf.function\n",
        "def train_step(input_image, target, step):\n",
        "  with tf.GradientTape() as gen_tape, tf.GradientTape() as disc_tape:\n",
        "    gen_output = generator(input_image, training=True)\n",
        "\n",
        "    #disc_real_output = discriminator(target, training=True)\n",
        "    #disc_generated_output = discriminator(gen_output, training=True)\n",
        "\n",
        "    #disc_real_output = discriminator([input_image,target], training=True)\n",
        "    #disc_generated_output = discriminator([input_image,gen_output], training=True)\n",
        "\n",
        "    gen_l1_loss = generator_loss(gen_output, target)\n",
        "    #disc_loss = discriminator_loss(disc_real_output, disc_generated_output)\n",
        "\n",
        "  generator_gradients = gen_tape.gradient(gen_l1_loss,\n",
        "                                          generator.trainable_variables)\n",
        "  #discriminator_gradients = disc_tape.gradient(disc_loss,\n",
        "  #                                            discriminator.trainable_variables)\n",
        "\n",
        "  generator_optimizer.apply_gradients(zip(generator_gradients,\n",
        "                                          generator.trainable_variables))\n",
        "  #discriminator_optimizer.apply_gradients(zip(discriminator_gradients,\n",
        "  #                                            discriminator.trainable_variables))\n",
        "  if (step) % 1000 == 0:\n",
        "    tf.print(gen_l1_loss)\n",
        "\n",
        "  with summary_writer.as_default():\n",
        "    #tf.summary.scalar('gen_total_loss', gen_total_loss, step=step//500)\n",
        "    #tf.summary.scalar('gen_gan_loss', gen_gan_loss, step=step//500)\n",
        "    tf.summary.scalar('gen_l1_loss', gen_l1_loss, step=step//500)\n",
        "    #tf.summary.scalar('disc_loss', disc_loss, step=step//500)"
      ],
      "metadata": {
        "id": "yZ9v_ah_XiiL"
      },
      "execution_count": 38,
      "outputs": []
    },
    {
      "cell_type": "code",
      "source": [
        "def fit(train_ds, test_ds, steps):\n",
        "  iterator = iter(test_ds.take(1))\n",
        "  example = next(iterator)\n",
        "  ex_input = example[0]\n",
        "  rtimg = example[1]\n",
        "  \n",
        "  #rtimg = tf.squeeze(rtimg, axis=0)\n",
        "  start = time.time()\n",
        "  for step, (input_obj) in train_ds.repeat().take(steps).enumerate():\n",
        "    if (step) % 1000 == 0:\n",
        "      display.clear_output(wait=True)\n",
        "\n",
        "      if step != 0:\n",
        "        print(f'Time taken for 1000 steps: {time.time()-start} sec\\n')\n",
        "        start = time.time()\n",
        "\n",
        "      generate_images(generator, ex_input, rtimg)\n",
        "      print(f\"Step: {step//1000}k\")\n",
        "\n",
        "    input = input_obj[0]\n",
        "    target = input_obj[1] \n",
        "    train_step(input, target, step)\n",
        "\n",
        "    # Training step\n",
        "    if (step+1) % 100 == 0:\n",
        "      print('.', end='', flush=True)\n",
        "\n",
        "\n",
        "    # Save (checkpoint) the model every 5k steps\n",
        "    if (step + 1) % 5000 == 0:\n",
        "      checkpoint.save(file_prefix=checkpoint_prefix)"
      ],
      "metadata": {
        "id": "xFrvIOnzXmdE"
      },
      "execution_count": 39,
      "outputs": []
    },
    {
      "cell_type": "code",
      "source": [
        "fit(train_dataset, valid_dataset, steps=40000)"
      ],
      "metadata": {
        "colab": {
          "base_uri": "https://localhost:8080/",
          "height": 694
        },
        "id": "6F_Oe323XtNS",
        "outputId": "bbab7c41-52ec-4535-dc99-878bc1fe3ae7"
      },
      "execution_count": 40,
      "outputs": [
        {
          "output_type": "stream",
          "name": "stdout",
          "text": [
            "Time taken for 1000 steps: 13.704416990280151 sec\n",
            "\n"
          ]
        },
        {
          "output_type": "display_data",
          "data": {
            "text/plain": [
              "<Figure size 1080x720 with 4 Axes>"
            ],
            "image/png": "[encoded data removed]"
          },
          "metadata": {
            "needs_background": "light"
          }
        },
        {
          "output_type": "stream",
          "name": "stdout",
          "text": [
            "Step: 39k\n",
            "0.000420466677\n",
            ".........."
          ]
        }
      ]
    },
    {
      "cell_type": "code",
      "source": [
        "mae = tf.keras.metrics.MeanAbsoluteError()\n",
        "mae_loss = tf.keras.losses.MeanAbsoluteError()\n",
        "#mae_loss = CustomWeigthed() "
      ],
      "metadata": {
        "id": "Q56m3Zf2UwzB"
      },
      "execution_count": null,
      "outputs": []
    },
    {
      "cell_type": "code",
      "source": [
        "epochs = 81\n",
        "train_gen = train_dataset\n",
        "val_gen = valid_dataset\n",
        "#train_gen = data_generators['train']\n",
        "#val_gen = data_generators['validation']\n",
        "dilation_kernel = 3\n",
        "scatter = True\n",
        "add_half = False\n",
        "\n",
        "for lr in [5.0521e-4]:\n",
        "  \n",
        "  #generator = GeneratorE2()\n",
        "  generator = GeneratorE3(size=4, layers=7, filters_start=4, double_layers=4, add_unet=True, max_filters=64) \n",
        "  #generator = GeneratorB(size=4, layers=7, filters_start=4, double_layers=4)\n",
        "  tensorboard_output = \"/content/drive/MyDrive/Colab Notebooks/logs_CB/testphan\"\n",
        "  print(tensorboard_output)\n",
        "        \n",
        "  if not os.path.exists(tensorboard_output):\n",
        "    os.makedirs(tensorboard_output)\n",
        "  else:\n",
        "    print(\"bah\")\n",
        "    #continue\n",
        "  tensorboard = tf.keras.callbacks.TensorBoard(log_dir=tensorboard_output,\n",
        "                                                      profile_batch=0,\n",
        "                                                      write_graph=False)\n",
        "  generator.compile(optimizer=tf.keras.optimizers.Adam(lr, beta_1=0.5),\n",
        "                          loss=mae_loss, metrics=[mae])\n",
        "  print(len(train_gen))\n",
        "  generator.fit(train_gen, steps_per_epoch=len(train_gen),\n",
        "                      validation_data=val_gen, epochs=epochs, validation_freq=5,\n",
        "                      validation_steps=len(val_gen), callbacks=[tensorboard])\n",
        "  generator.save(os.path.join(tensorboard_output, 'final_model.h5'))"
      ],
      "metadata": {
        "id": "XXLhrV9iU3JB"
      },
      "execution_count": null,
      "outputs": []
    },
    {
      "cell_type": "code",
      "source": [
        "val_iterator = iter(valid_dataset)\n",
        "x,y = next(val_iterator)\n",
        "#pred = model.predict(x)\n",
        "generate_images(generator, x, y)"
      ],
      "metadata": {
        "id": "BoQdhEND6Ie3"
      },
      "execution_count": null,
      "outputs": []
    },
    {
      "cell_type": "code",
      "execution_count": null,
      "metadata": {
        "id": "017CYaGQ6pre",
        "pycharm": {
          "name": "#%%\n"
        }
      },
      "outputs": [],
      "source": [
        "import os\n",
        "os.listdir('.')"
      ]
    },
    {
      "cell_type": "markdown",
      "metadata": {
        "id": "-ede4p2YELFa",
        "pycharm": {
          "name": "#%% md\n"
        }
      },
      "source": [
        "The training procedure for the discriminator is shown below.\n",
        "\n",
        "To learn more about the architecture and the hyperparameters you can refer to the [pix2pix paper](https://arxiv.org/abs/1611.07004)."
      ]
    },
    {
      "cell_type": "markdown",
      "metadata": {
        "id": "_073KDijTAVh",
        "pycharm": {
          "name": "#%% md\n"
        }
      },
      "source": []
    },
    {
      "cell_type": "markdown",
      "metadata": {
        "id": "0FMYgY_mPfTi",
        "pycharm": {
          "name": "#%% md\n"
        }
      },
      "source": [
        "## Define the optimizers and a checkpoint-saver\n"
      ]
    },
    {
      "cell_type": "code",
      "execution_count": null,
      "metadata": {
        "id": "4t4x69adQ5xb",
        "pycharm": {
          "name": "#%%\n"
        }
      },
      "outputs": [],
      "source": [
        "checkpoint = tf.train.Checkpoint(generator_optimizer=generator_optimizer,\n",
        "                                 generator=generator)\n",
        "#Restoring the latest checkpoint in checkpoint_dir\n",
        "checkpoint_dir = '/content/drive/MyDrive/Colab Notebooks/grad_checkpoints'\n",
        "print(tf.train.latest_checkpoint(checkpoint_dir))\n",
        "checkpoint.restore(tf.train.latest_checkpoint(checkpoint_dir))\n",
        "\n",
        "#'/content/drive/MyDrive/Colab Notebooks/phantom_checkpoints/ckpt-8'"
      ]
    },
    {
      "cell_type": "markdown",
      "metadata": {
        "id": "1RGysMU_BZhx",
        "pycharm": {
          "name": "#%% md\n"
        }
      },
      "source": [
        "## Generate some images using the test set"
      ]
    },
    {
      "cell_type": "code",
      "execution_count": null,
      "metadata": {
        "id": "g6yulOFllIh2",
        "pycharm": {
          "name": "#%%\n"
        }
      },
      "outputs": [],
      "source": [
        "#generator.save('/content/drive/MyDrive/Colab Notebooks/3chan_lrgken_L1')"
      ]
    },
    {
      "cell_type": "code",
      "execution_count": 70,
      "metadata": {
        "id": "Wtd3ZA-eI_ap",
        "pycharm": {
          "name": "#%%\n"
        }
      },
      "outputs": [],
      "source": [
        "gamma_options = {\n",
        "    'dose_percent_threshold': 3, \n",
        "    'distance_mm_threshold': 3,\n",
        "    'lower_percent_dose_cutoff': 10,\n",
        "    'interp_fraction': 20,  # Should be 10 or more, see the paper referenced above\n",
        "    'max_gamma': 2,\n",
        "    'random_subset': None,  # Can be used to get quick pass rates\n",
        "    'local_gamma': False,  # Change to false for global gamma\n",
        "    'ram_available': 2**29  # 1/2 GB\n",
        "}"
      ]
    },
    {
      "cell_type": "code",
      "execution_count": 68,
      "metadata": {
        "id": "pcxutIrdJF7U",
        "pycharm": {
          "name": "#%%\n"
        }
      },
      "outputs": [],
      "source": [
        "xepidmin = -215.04\n",
        "xepidmax = 215.04\n",
        "yepidmin = -215.04\n",
        "yepidmax = 215.04\n",
        "grid = 1.68\n",
        "xepid = np.arange(xepidmin,xepidmax,grid)\n",
        "yepid = np.arange(yepidmin,yepidmax,grid)\n",
        "coords = (yepid,xepid)"
      ]
    },
    {
      "cell_type": "code",
      "execution_count": null,
      "metadata": {
        "id": "WTyCBjAV1vJZ",
        "pycharm": {
          "name": "#%%\n"
        }
      },
      "outputs": [],
      "source": [
        "# testfiles = tf.io.gfile.glob('/content/drive/My Drive/train/nifti/fold4/12_4_35.*')\n",
        "# valid_data = load_data(testfiles, tf.estimator.ModeKeys.TRAIN, '/content/drive/My Drive/train/nifti/fold1')\n",
        "\n",
        "# valid_dataset = tf.data.Dataset.from_tensor_slices((valid_data))\n",
        "# valid_dataset = valid_dataset.batch(BATCH_SIZE)"
      ]
    },
    {
      "cell_type": "code",
      "source": [
        "#from importlib import reload"
      ],
      "metadata": {
        "id": "dgxucphn3t_o"
      },
      "execution_count": null,
      "outputs": []
    },
    {
      "cell_type": "code",
      "source": [
        "#pymedphys = reload(pymedphys)\n",
        "#import pymedphys._utilities"
      ],
      "metadata": {
        "id": "VXKzq5Li4Lkp"
      },
      "execution_count": null,
      "outputs": []
    },
    {
      "cell_type": "code",
      "execution_count": 87,
      "metadata": {
        "id": "TPwaQHAcHiLr",
        "pycharm": {
          "name": "#%%\n"
        },
        "outputId": "af5188a8-69fe-40a1-c92a-6c5b067dac42",
        "colab": {
          "base_uri": "https://localhost:8080/",
          "height": 751
        }
      },
      "outputs": [
        {
          "output_type": "stream",
          "name": "stdout",
          "text": [
            "Calcing using global normalisation point for gamma\n",
            "Global normalisation set to 0.4814895987510681\n",
            "Global dose threshold set to [0.01444469] ([3]% of normalisation)\n",
            "Distance threshold set to [3]\n",
            "Lower dose cutoff set to 0.04814895987510681 (10% of normalisation)\n",
            "\n",
            "Current distance: 5.85 mm | Number of reference points remaining: 3 | Points tested per reference point: 247 | RAM split count: 1\n",
            "Complete!\n"
          ]
        },
        {
          "output_type": "execute_result",
          "data": {
            "text/plain": [
              "Text(0.5, 1.0, 'Local Gamma (3%/3mm) | Percent Pass: 93.09 %')"
            ]
          },
          "metadata": {},
          "execution_count": 87
        },
        {
          "output_type": "display_data",
          "data": {
            "text/plain": [
              "<Figure size 720x720 with 4 Axes>"
            ],
            "image/png": "[encoded data removed]"
          },
          "metadata": {
            "needs_background": "light"
          }
        }
      ],
      "source": [
        "example = next(iter(valid_dataset))\n",
        "input = example[0]\n",
        "#print(tf.shape(cbct_input))\n",
        "tar = example[1]\n",
        "prediction = generator(input, training=True) \n",
        "#prediction = generator.predict(input)\n",
        "\n",
        "diff = tf.subtract(tar,prediction)\n",
        "diff = tf.squeeze(diff, axis=0)\n",
        "diffvec = diff[120,1:256]\n",
        "tar = tf.squeeze(tar, axis=0)\n",
        "tar = tf.squeeze(tar, axis=-1)\n",
        "rtimage = tar\n",
        "\n",
        "pdos = input[0,...,0].numpy()\n",
        "cbct = input[0,...,1].numpy()\n",
        "half = input[0,...,2].numpy()\n",
        "\n",
        "\n",
        "prediction = tf.squeeze(prediction, axis=0)\n",
        "prediction = tf.squeeze(prediction, axis=-1)\n",
        "prediction = prediction\n",
        "\n",
        "\n",
        "rtimage = pdos*(1.0*np.exp(0.538066**cbct*cbct-2.970*cbct-0.04349)) + rtimage\n",
        "prediction = pdos*(1.0*np.exp(0.538066**cbct*cbct-2.970*cbct-0.04349)) + prediction\n",
        "\n",
        "\n",
        "plt.figure(figsize=(10, 10))\n",
        "  \n",
        "plt.subplot(2, 2, 1)\n",
        "plt.imshow(rtimage)\n",
        "plt.subplot(2, 2, 2)\n",
        "plt.imshow(prediction)\n",
        "  \n",
        "predvec = prediction[128,1:256]\n",
        "rtvec = rtimage[128,1:256]\n",
        "  \n",
        "#predvec = prediction[1:256,128]\n",
        "#rtvec = rtimage[1:256,128]\n",
        "\n",
        "plt.subplot(2, 2, 3)\n",
        "plt.plot(rtvec,'g')\n",
        "plt.title(\"Meas RT IMG (Green)\")\n",
        "plt.plot(predvec,'b')\n",
        "#print(str(example[\"fname\"]))\n",
        "\n",
        "gamma_test = pymedphys.gamma(coords,rtimage, coords, prediction, **gamma_options)\n",
        "valid_gamma = gamma_test[~np.isnan(gamma_test)]\n",
        "\n",
        "num_bins = (\n",
        "    gamma_options['interp_fraction'] * gamma_options['max_gamma'])\n",
        "bins = np.linspace(0, gamma_options['max_gamma'], num_bins + 1)\n",
        "\n",
        "#gamma_no_noise = pymedphys.gamma(coords, rtimage, coords, prediction,**gamma_options)\n",
        "plt.subplot(2, 2, 4)\n",
        "\n",
        "plt.imshow( gamma_test, clim=(0, 2), cmap='coolwarm')\n",
        "\n",
        "# plt.hist(valid_gamma, bins, density=True)\n",
        "# plt.xlim([0, gamma_options['max_gamma']])\n",
        "pass_ratio = np.sum(valid_gamma <= 1) / len(valid_gamma)\n",
        "plt.title(f\"Local Gamma ({gamma_options['dose_percent_threshold']}%/{gamma_options['distance_mm_threshold']}mm) | Percent Pass: {pass_ratio*100:.2f} %\")"
      ]
    },
    {
      "cell_type": "code",
      "execution_count": null,
      "metadata": {
        "id": "ck1o0QAY71Zv",
        "pycharm": {
          "name": "#%%\n"
        }
      },
      "outputs": [],
      "source": [
        "plt.imshow(gamma_test)"
      ]
    },
    {
      "cell_type": "code",
      "source": [
        "caxcb = [] \n",
        "caxrt = []\n",
        "caxpred = []\n",
        "caxhalf = []\n",
        "dataset = valid_dataset\n",
        "\n",
        "all_ratios = np.zeros(len(list(dataset)))\n",
        "\n",
        "for example in dataset:\n",
        "  tinp = example[0]\n",
        "  ttar = example[1]\n",
        "  inp = tf.squeeze(tinp,axis=0)\n",
        "  #slicen = 1\n",
        "  pdos = tinp[0,...,0].numpy()\n",
        "  cbct = tinp[0,...,1].numpy()\n",
        "  half = tinp[0,...,2].numpy()\n",
        "  cbctcax = np.mean(cbct[126:130,126:130] )\n",
        "  pdoscax = np.mean(pdos[126:130,126:130] )\n",
        "  halfcax = np.mean(half[126:130,126:130] )\n",
        "  #prediction = generator.predict(tinp)\n",
        "  prediction = generator(tinp, training=True) \n",
        "  #ttar = tf.squeeze(ttar, axis=0)\n",
        "  #ttar = tf.squeeze(ttar, axis=-1)\n",
        "  rtimage = ttar[0,...,0].numpy()\n",
        "  \n",
        "\n",
        "  #out = \"cbctcax {} rtcax {}\".format(cbctcax,rtcax/pdoscax)\n",
        "  #print(out)\n",
        "  prediction = tf.squeeze(prediction, axis=0)\n",
        "  prediction = tf.squeeze(prediction, axis=-1)\n",
        "\n",
        "  rtimage = pdos*(1.0*np.exp(0.538066**cbct*cbct-2.970*cbct-0.04349)) + rtimage\n",
        "  prediction = pdos*(1.0*np.exp(0.538066**cbct*cbct-2.970*cbct-0.04349)) + prediction\n",
        " \n",
        "\n",
        "  rtcax = np.mean(rtimage[126:130,126:130])\n",
        "  predcax = np.mean(prediction[126:130,126:130])\n",
        "  caxcb = np.append(caxcb,cbctcax)\n",
        "  caxrt = np.append(caxrt,rtcax/pdoscax)\n",
        "  caxpred = np.append(caxpred,predcax/pdoscax)\n",
        "  caxhalf = np.append(caxhalf,halfcax)\n",
        "\n",
        "#ax = plt.axes(projection='3d')\n",
        "#ax.scatter3D(caxcb, caxhalf, caxrt, c='b' )\n",
        "#ax.scatter3D(caxcb, caxhalf, caxpred, c='r' )\n",
        "#plt.show()\n",
        "\n",
        "\n",
        "plt.plot(caxcb,caxrt,'bo')\n",
        "plt.plot(caxcb,caxpred,'rx')\n",
        "\n",
        "#plt.plot(caxhalf,caxrt,'bo')\n",
        "#plt.plot(caxhalf,caxpred,'ro')\n",
        "#plt.ylim([0.8, 1.0])\n",
        "#plt.xlim([0., 0.1])\n",
        "plt.show()"
      ],
      "metadata": {
        "id": "YLLfz5DoUcSk",
        "pycharm": {
          "name": "#%%\n"
        },
        "colab": {
          "base_uri": "https://localhost:8080/",
          "height": 265
        },
        "outputId": "55645993-3a00-44da-908c-680d0d65f905"
      },
      "execution_count": 75,
      "outputs": [
        {
          "output_type": "display_data",
          "data": {
            "text/plain": [
              "<Figure size 432x288 with 1 Axes>"
            ],
            "image/png": "[encoded data removed]"
          },
          "metadata": {
            "needs_background": "light"
          }
        }
      ]
    },
    {
      "cell_type": "code",
      "execution_count": 92,
      "metadata": {
        "id": "ELlbbPKP0oQA",
        "pycharm": {
          "name": "#%%\n"
        },
        "outputId": "e0266847-5e44-4bd7-cf7d-d657c3285934",
        "colab": {
          "base_uri": "https://localhost:8080/",
          "height": 1000
        }
      },
      "outputs": [
        {
          "output_type": "stream",
          "name": "stdout",
          "text": [
            "0.7037427517132314\n",
            "0\n",
            "0.8101889893179951\n",
            "1\n",
            "0.8662692954302308\n",
            "2\n",
            "0.9017046161503048\n",
            "3\n",
            "0.8347663551401869\n",
            "4\n",
            "0.9705106983017595\n",
            "5\n",
            "0.9858533419857236\n",
            "6\n",
            "0.9566787003610109\n",
            "7\n",
            "0.9490117149197502\n",
            "8\n",
            "0.8574216027874565\n",
            "9\n",
            "0.8089250493096647\n",
            "10\n",
            "0.9786585365853658\n",
            "11\n",
            "0.8156966490299824\n",
            "12\n",
            "0.8529737717029923\n",
            "13\n",
            "0.9633618617174728\n",
            "14\n",
            "0.8851101321585904\n",
            "15\n",
            "0.9942880128720837\n",
            "16\n",
            "0.9879478827361563\n",
            "17\n",
            "0.7355776147316933\n",
            "18\n",
            "0.6733250104036621\n",
            "19\n",
            "0.9229790328445037\n",
            "20\n",
            "0.9366595450546689\n",
            "21\n",
            "mean 0.8814386893297492\n",
            "STD 0.09271649955780469\n",
            "max 0.9942880128720837\n",
            "min 0.6733250104036621\n",
            "ratio > 90% 0.5\n"
          ]
        },
        {
          "output_type": "execute_result",
          "data": {
            "text/plain": [
              "(array([2., 1., 0., 0., 3., 3., 2., 2., 3., 6.]),\n",
              " array([0.67332501, 0.70542131, 0.73751761, 0.76961391, 0.80171021,\n",
              "        0.83380651, 0.86590281, 0.89799911, 0.93009541, 0.96219171,\n",
              "        0.99428801]),\n",
              " <a list of 10 Patch objects>)"
            ]
          },
          "metadata": {},
          "execution_count": 92
        },
        {
          "output_type": "display_data",
          "data": {
            "text/plain": [
              "<Figure size 432x288 with 1 Axes>"
            ],
            "image/png": "[encoded data removed]"
          },
          "metadata": {
            "needs_background": "light"
          }
        }
      ],
      "source": [
        "dataset = valid_dataset\n",
        "all_ratios = np.zeros(len(list(dataset)))\n",
        "i = 0\n",
        "i90 = 0\n",
        "for example in dataset:\n",
        "  tinp = example[0]\n",
        "  ttar = example[1]\n",
        "  prediction = generator(tinp, training=True)\n",
        "  #prediction = generator.predict(tinp)\n",
        "  ttar = tf.squeeze(ttar, axis=0)\n",
        "  ttar = tf.squeeze(ttar, axis=-1)\n",
        "  rtimage = ttar\n",
        "\n",
        "  prediction = tf.squeeze(prediction, axis=0)\n",
        "  prediction = tf.squeeze(prediction, axis=-1)\n",
        "  prediction = prediction\n",
        "\n",
        "  pdos = tinp[0,...,0].numpy()\n",
        "  cbct = tinp[0,...,1].numpy()\n",
        "  half = tinp[0,...,2].numpy()\n",
        "\n",
        "\n",
        "  rtimage = pdos*(1.0*np.exp(0.538066**cbct*cbct-2.970*cbct-0.04349)) + rtimage\n",
        "  prediction = pdos*(1.0*np.exp(0.538066**cbct*cbct-2.970*cbct-0.04349)) + prediction\n",
        "\n",
        "\n",
        "  gamma_test = pymedphys.gamma(coords,rtimage, coords, prediction, **gamma_options,quiet=True)\n",
        "  valid_gamma = gamma_test[~np.isnan(gamma_test)]\n",
        "  pass_ratio = np.sum(valid_gamma <= 1) / len(valid_gamma)\n",
        "  #tf.print(example[\"fname\"])\n",
        "  print(pass_ratio)\n",
        "  print(i)\n",
        "  all_ratios[i] = pass_ratio\n",
        "  i = i+1\n",
        "  if(pass_ratio > 0.90):\n",
        "    i90 = i90+1\n",
        "\n",
        "print(\"mean \" + str(np.mean(all_ratios)))\n",
        "print(\"STD \" + str(np.std(all_ratios))) \n",
        "print(\"max \" + str(np.max(all_ratios)))\n",
        "print(\"min \" + str(np.min(all_ratios)))\n",
        "print(\"ratio > 90% \" + str(float(i90)/float(i)))\n",
        "plt.hist(all_ratios)\n",
        "#plt.yscale('log')"
      ]
    },
    {
      "cell_type": "code",
      "source": [
        "example = next(iter(train_dataset))\n",
        "x = example[0]\n",
        "y = example[1]\n",
        "#x, y = next(iterx)\n",
        "#print(train_len)\n",
        "#print(valid_len)\n",
        "#print(test_len)\n",
        "#plt.imshow(y[0,...,0])\n",
        "prediction = generator.predict(x)\n",
        "prediction = tf.squeeze(prediction, axis=0)\n",
        "prediction = tf.squeeze(prediction, axis=-1)\n",
        "rt = y[0,...,0].numpy()\n",
        "\n",
        "pdos = x[0,...,0].numpy()\n",
        "cbct = x[0,...,1].numpy()\n",
        "\n",
        "plt.figure(figsize=(10, 10))\n",
        "plt.subplot(1,3,1)\n",
        "\n",
        "plt.imshow(rt)\n",
        "#plt.plot(pdos[128,1:256],'b')\n",
        "#plt.plot(cbct[128,1:256],'r')\n",
        "\n",
        "#plt.show()\n",
        "\n",
        "cbctval = []\n",
        "ratio = []\n",
        "pdosval = [] \n",
        "pred = []\n",
        "\n",
        "rtmax = rt.max(0).max(-1)\n",
        "#print(rtmax)\n",
        "\n",
        "for i in range(0,256):\n",
        "  for j in range(0,256):\n",
        "    if(rt[i,j] > rtmax*0.5):\n",
        "      cbctval = np.append(cbctval,cbct[i,j])\n",
        "      pdosval = np.append(pdosval,pdos[i,j])\n",
        "      ratio = np.append(ratio,rt[i,j]/pdos[i,j])\n",
        "      pred = np.append(pred,prediction[i,j]/pdos[i,j])\n",
        "\n",
        "plt.subplot(1,3,2)\n",
        "plt.plot(cbctval,ratio,'bo')\n",
        "plt.plot(cbctval,pred,'ro')\n",
        "#xp = np.arange(0, 200.0, 0.1)\n",
        "#yp = np.exp(-4.0/255 * xp) + 0.15/255 * xp - 0.1/65025 * xp * xp\n",
        "# #yp = pdosval*( np.exp(-4.0/255 *cbctval) + 0.15/255 * cbctval - 0.1/65025 * cbctval * cbctval)\n",
        "xp = np.arange(0, 1.0, 0.01)\n",
        "#yp = np.exp(-4.0 * xp) + 0.15 * xp -0.1* xp * xp\n",
        "yp = np.exp(0.7885*xp*xp-3.523*xp-0.04555)\n",
        "#yp = np.exp(-4.0 * xp) -0.1* xp * xp\n",
        "\n",
        "plt.plot(xp, yp,'r')\n",
        "\n",
        "#plt.subplot(1,3,3)\n",
        "#plt.plot(rt[128,1:256]/pdos[128,1:256],'b')\n",
        "#plt.plot(pdos[128,1:256],'r')\n",
        "#plt.plot(rt[128,1:256],'b')"
      ],
      "metadata": {
        "id": "Som14vg5ksRV"
      },
      "execution_count": null,
      "outputs": []
    },
    {
      "cell_type": "code",
      "source": [
        "generator.summary()"
      ],
      "metadata": {
        "id": "1mEaI4SJ_QTd"
      },
      "execution_count": null,
      "outputs": []
    }
  ]
}