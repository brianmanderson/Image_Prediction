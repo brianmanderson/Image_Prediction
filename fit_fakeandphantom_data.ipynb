{
  "nbformat": 4,
  "nbformat_minor": 0,
  "metadata": {
    "colab": {
      "provenance": [],
      "machine_shape": "hm",
      "include_colab_link": true
    },
    "kernelspec": {
      "name": "python3",
      "display_name": "Python 3"
    },
    "language_info": {
      "name": "python"
    },
    "accelerator": "GPU",
    "gpuClass": "standard"
  },
  "cells": [
    {
      "cell_type": "markdown",
      "metadata": {
        "id": "view-in-github",
        "colab_type": "text"
      },
      "source": [
        "<a href=\"https://colab.research.google.com/github/brianmanderson/Image_Prediction/blob/main/fit_fakeandphantom_data.ipynb\" target=\"_parent\"><img src=\"https://colab.research.google.com/assets/colab-badge.svg\" alt=\"Open In Colab\"/></a>"
      ]
    },
    {
      "cell_type": "markdown",
      "metadata": {
        "id": "v1CUZ0dkOo_F",
        "pycharm": {
          "name": "#%% md\n"
        }
      },
      "source": [
        "##### Copyright 2019 The TensorFlow Authors.\n",
        "\n",
        "Licensed under the Apache License, Version 2.0 (the \"License\");"
      ]
    },
    {
      "cell_type": "code",
      "execution_count": 9,
      "metadata": {
        "cellView": "form",
        "id": "qmkj-80IHxnd",
        "pycharm": {
          "name": "#%%\n"
        }
      },
      "outputs": [],
      "source": [
        "#@title Licensed under the Apache License, Version 2.0 (the \"License\");\n",
        "# you may not use this file except in compliance with the License.\n",
        "# You may obtain a copy of the License at\n",
        "#\n",
        "# https://www.apache.org/licenses/LICENSE-2.0\n",
        "#\n",
        "# Unless required by applicable law or agreed to in writing, software\n",
        "# distributed under the License is distributed on an \"AS IS\" BASIS,\n",
        "# WITHOUT WARRANTIES OR CONDITIONS OF ANY KIND, either express or implied.\n",
        "# See the License for the specific language governing permissions and\n",
        "# limitations under the License."
      ]
    },
    {
      "cell_type": "markdown",
      "source": [],
      "metadata": {
        "id": "P6ioYwynN6UH"
      }
    },
    {
      "cell_type": "markdown",
      "metadata": {
        "id": "_xnMOsbqHz61",
        "pycharm": {
          "name": "#%% md\n"
        }
      },
      "source": [
        "#EPIDEEP: Generating EPID images"
      ]
    },
    {
      "cell_type": "markdown",
      "source": [],
      "metadata": {
        "id": "cWJH48IGxKkB",
        "pycharm": {
          "name": "#%% md\n"
        }
      }
    },
    {
      "cell_type": "markdown",
      "metadata": {
        "id": "Ds4o1h4WHz9U",
        "pycharm": {
          "name": "#%% md\n"
        }
      },
      "source": [
        "<table class=\"tfo-notebook-buttons\" align=\"left\">\n",
        "  <td>\n",
        "    <a target=\"_blank\" href=\"https://www.tensorflow.org/tutorials/generative/pix2pix\"><img src=\"https://www.tensorflow.org/images/tf_logo_32px.png\" />View on TensorFlow.org</a>\n",
        "  </td>\n",
        "  <td>\n",
        "    <a target=\"_blank\" href=\"https://colab.research.google.com/github/tensorflow/docs/blob/master/site/en/tutorials/generative/pix2pix.ipynb\"><img src=\"https://www.tensorflow.org/images/colab_logo_32px.png\" />Run in Google Colab</a>\n",
        "  </td>\n",
        "  <td>\n",
        "    <a target=\"_blank\" href=\"https://github.com/tensorflow/docs/blob/master/site/en/tutorials/generative/pix2pix.ipynb\"><img src=\"https://www.tensorflow.org/images/GitHub-Mark-32px.png\" />View source on GitHub</a>\n",
        "  </td>\n",
        "  <td>\n",
        "    <a href=\"https://storage.googleapis.com/tensorflow_docs/docs/site/en/tutorials/generative/pix2pix.ipynb\"><img src=\"https://www.tensorflow.org/images/download_logo_32px.png\" />Download notebook</a>\n",
        "  </td>\n",
        "</table>"
      ]
    },
    {
      "cell_type": "markdown",
      "metadata": {
        "id": "ITZuApL56Mny",
        "pycharm": {
          "name": "#%% md\n"
        }
      },
      "source": [
        "This Google Colab Notebook heavily buroows from the pix2pix example. \n",
        "How to build and train a conditional generative adversarial network (cGAN) called pix2pix that learns a mapping from input images to output images, as described in [Image-to-image translation with conditional adversarial networks](https://arxiv.org/abs/1611.07004) by Isola et al. (2017). pix2pix is not application specific—it can be applied to a wide range of tasks, including synthesizing photos from label maps, generating colorized photos from black and white images, turning Google Maps photos into aerial images, and even transforming sketches into photos.\n",
        "\n",
        "In the pix2pix cGAN, you condition on input images and generate corresponding output images. cGANs were first proposed in [Conditional Generative Adversarial Nets](https://arxiv.org/abs/1411.1784) (Mirza and Osindero, 2014)\n",
        "\n",
        "The architecture of your network will contain:\n",
        "\n",
        "- A generator with a [U-Net]([U-Net](https://arxiv.org/abs/1505.04597))-based architecture.\n",
        "- A discriminator represented by a convolutional PatchGAN classifier (proposed in the [pix2pix paper](https://arxiv.org/abs/1611.07004)).\n",
        "\n",
        "Note that each epoch can take around 15 seconds on a single V100 GPU.\n",
        "\n"
      ]
    },
    {
      "cell_type": "markdown",
      "metadata": {
        "id": "e1_Y75QXJS6h",
        "pycharm": {
          "name": "#%% md\n"
        }
      },
      "source": [
        "## Import TensorFlow and other libraries"
      ]
    },
    {
      "cell_type": "code",
      "execution_count": 10,
      "metadata": {
        "id": "YfIk2es3hJEd",
        "pycharm": {
          "name": "#%%\n"
        }
      },
      "outputs": [],
      "source": [
        "import tensorflow as tf\n",
        "\n",
        "import os\n",
        "import sys \n",
        "import pathlib\n",
        "import time\n",
        "import datetime\n",
        "import numpy as np\n",
        "from matplotlib import pyplot as plt\n",
        "from IPython import display\n",
        "import tensorflow.experimental.numpy as tnp\n",
        "import pandas as pd"
      ]
    },
    {
      "cell_type": "code",
      "execution_count": 11,
      "metadata": {
        "colab": {
          "base_uri": "https://localhost:8080/"
        },
        "id": "iPVGz0KIdvia",
        "outputId": "8aba4436-c2db-418a-be7e-66da5d95e224",
        "pycharm": {
          "name": "#%%\n"
        }
      },
      "outputs": [
        {
          "output_type": "stream",
          "name": "stdout",
          "text": [
            "Mounted at /content/drive\n"
          ]
        }
      ],
      "source": [
        "running_local = False\n",
        "try:\n",
        "    from google.colab import drive\n",
        "    drive.mount('/content/drive')\n",
        "    nb_path = '/content/notebooks'\n",
        "    os.symlink('/content/drive/MyDrive/Colab Notebooks', nb_path)\n",
        "    sys.path.insert(0, nb_path)  # or append(nb_path)\n",
        "except:\n",
        "    running_local = True\n",
        "    print(\"Running locally\")"
      ]
    },
    {
      "cell_type": "markdown",
      "metadata": {
        "id": "R4Ya7PQy4NBD",
        "pycharm": {
          "name": "#%% md\n"
        }
      },
      "source": [
        "Line to install pymedphys which has a gamma function. Libaray was saved to Google drive and is commented out."
      ]
    },
    {
      "cell_type": "code",
      "execution_count": 12,
      "metadata": {
        "id": "1oOw8vQJUyg-",
        "pycharm": {
          "name": "#%%\n"
        }
      },
      "outputs": [],
      "source": [
        "#!pip install --target=$nb_path pymedphys"
      ]
    },
    {
      "cell_type": "code",
      "execution_count": 13,
      "metadata": {
        "colab": {
          "base_uri": "https://localhost:8080/",
          "height": 1000
        },
        "id": "wzufEZu702tH",
        "outputId": "f1c6faea-2e96-428d-8296-cdca34209900",
        "pycharm": {
          "name": "#%%\n"
        }
      },
      "outputs": [
        {
          "output_type": "stream",
          "name": "stdout",
          "text": [
            "Looking in indexes: https://pypi.org/simple, https://us-python.pkg.dev/colab-wheels/public/simple/\n",
            "Collecting SimpleITK\n",
            "  Downloading SimpleITK-2.2.0-cp37-cp37m-manylinux_2_17_x86_64.manylinux2014_x86_64.whl (52.8 MB)\n",
            "\u001b[K     |████████████████████████████████| 52.8 MB 5.4 MB/s \n",
            "\u001b[?25hInstalling collected packages: SimpleITK\n",
            "Successfully installed SimpleITK-2.2.0\n",
            "Looking in indexes: https://pypi.org/simple, https://us-python.pkg.dev/colab-wheels/public/simple/\n",
            "Collecting pymedphys\n",
            "  Downloading pymedphys-0.38.0-py3-none-any.whl (1.8 MB)\n",
            "\u001b[K     |████████████████████████████████| 1.8 MB 30.5 MB/s \n",
            "\u001b[?25hRequirement already satisfied: typing-extensions in /usr/local/lib/python3.7/dist-packages (from pymedphys) (4.1.1)\n",
            "Collecting ipython>=7.31.1\n",
            "  Downloading ipython-7.34.0-py3-none-any.whl (793 kB)\n",
            "\u001b[K     |████████████████████████████████| 793 kB 78.7 MB/s \n",
            "\u001b[?25hCollecting jedi>=0.16\n",
            "  Downloading jedi-0.18.1-py2.py3-none-any.whl (1.6 MB)\n",
            "\u001b[K     |████████████████████████████████| 1.6 MB 79.5 MB/s \n",
            "\u001b[?25hRequirement already satisfied: pygments in /usr/local/lib/python3.7/dist-packages (from ipython>=7.31.1->pymedphys) (2.6.1)\n",
            "Requirement already satisfied: prompt-toolkit!=3.0.0,!=3.0.1,<3.1.0,>=2.0.0 in /usr/local/lib/python3.7/dist-packages (from ipython>=7.31.1->pymedphys) (2.0.10)\n",
            "Requirement already satisfied: setuptools>=18.5 in /usr/local/lib/python3.7/dist-packages (from ipython>=7.31.1->pymedphys) (57.4.0)\n",
            "Requirement already satisfied: pickleshare in /usr/local/lib/python3.7/dist-packages (from ipython>=7.31.1->pymedphys) (0.7.5)\n",
            "Requirement already satisfied: decorator in /usr/local/lib/python3.7/dist-packages (from ipython>=7.31.1->pymedphys) (4.4.2)\n",
            "Requirement already satisfied: traitlets>=4.2 in /usr/local/lib/python3.7/dist-packages (from ipython>=7.31.1->pymedphys) (5.1.1)\n",
            "Requirement already satisfied: backcall in /usr/local/lib/python3.7/dist-packages (from ipython>=7.31.1->pymedphys) (0.2.0)\n",
            "Requirement already satisfied: pexpect>4.3 in /usr/local/lib/python3.7/dist-packages (from ipython>=7.31.1->pymedphys) (4.8.0)\n",
            "Collecting matplotlib-inline\n",
            "  Downloading matplotlib_inline-0.1.6-py3-none-any.whl (9.4 kB)\n",
            "Requirement already satisfied: parso<0.9.0,>=0.8.0 in /usr/local/lib/python3.7/dist-packages (from jedi>=0.16->ipython>=7.31.1->pymedphys) (0.8.3)\n",
            "Requirement already satisfied: ptyprocess>=0.5 in /usr/local/lib/python3.7/dist-packages (from pexpect>4.3->ipython>=7.31.1->pymedphys) (0.7.0)\n",
            "Requirement already satisfied: six>=1.9.0 in /usr/local/lib/python3.7/dist-packages (from prompt-toolkit!=3.0.0,!=3.0.1,<3.1.0,>=2.0.0->ipython>=7.31.1->pymedphys) (1.15.0)\n",
            "Requirement already satisfied: wcwidth in /usr/local/lib/python3.7/dist-packages (from prompt-toolkit!=3.0.0,!=3.0.1,<3.1.0,>=2.0.0->ipython>=7.31.1->pymedphys) (0.2.5)\n",
            "Installing collected packages: matplotlib-inline, jedi, ipython, pymedphys\n",
            "  Attempting uninstall: ipython\n",
            "    Found existing installation: ipython 7.9.0\n",
            "    Uninstalling ipython-7.9.0:\n",
            "      Successfully uninstalled ipython-7.9.0\n",
            "\u001b[31mERROR: pip's dependency resolver does not currently take into account all the packages that are installed. This behaviour is the source of the following dependency conflicts.\n",
            "google-colab 1.0.0 requires ipython~=7.9.0, but you have ipython 7.34.0 which is incompatible.\u001b[0m\n",
            "Successfully installed ipython-7.34.0 jedi-0.18.1 matplotlib-inline-0.1.6 pymedphys-0.38.0\n"
          ]
        },
        {
          "output_type": "display_data",
          "data": {
            "application/vnd.colab-display-data+json": {
              "pip_warning": {
                "packages": [
                  "IPython"
                ]
              }
            }
          },
          "metadata": {}
        },
        {
          "output_type": "stream",
          "name": "stdout",
          "text": [
            "Looking in indexes: https://pypi.org/simple, https://us-python.pkg.dev/colab-wheels/public/simple/\n",
            "Collecting PlotScrollNumpyArrays\n",
            "  Downloading PlotScrollNumpyArrays-0.0.1-py3-none-any.whl (4.3 kB)\n",
            "Requirement already satisfied: numpy in /usr/local/lib/python3.7/dist-packages (from PlotScrollNumpyArrays) (1.21.6)\n",
            "Requirement already satisfied: SimpleITK in /usr/local/lib/python3.7/dist-packages (from PlotScrollNumpyArrays) (2.2.0)\n",
            "Requirement already satisfied: matplotlib in /usr/local/lib/python3.7/dist-packages (from PlotScrollNumpyArrays) (3.2.2)\n",
            "Requirement already satisfied: kiwisolver>=1.0.1 in /usr/local/lib/python3.7/dist-packages (from matplotlib->PlotScrollNumpyArrays) (1.4.4)\n",
            "Requirement already satisfied: python-dateutil>=2.1 in /usr/local/lib/python3.7/dist-packages (from matplotlib->PlotScrollNumpyArrays) (2.8.2)\n",
            "Requirement already satisfied: cycler>=0.10 in /usr/local/lib/python3.7/dist-packages (from matplotlib->PlotScrollNumpyArrays) (0.11.0)\n",
            "Requirement already satisfied: pyparsing!=2.0.4,!=2.1.2,!=2.1.6,>=2.0.1 in /usr/local/lib/python3.7/dist-packages (from matplotlib->PlotScrollNumpyArrays) (3.0.9)\n",
            "Requirement already satisfied: typing-extensions in /usr/local/lib/python3.7/dist-packages (from kiwisolver>=1.0.1->matplotlib->PlotScrollNumpyArrays) (4.1.1)\n",
            "Requirement already satisfied: six>=1.5 in /usr/local/lib/python3.7/dist-packages (from python-dateutil>=2.1->matplotlib->PlotScrollNumpyArrays) (1.15.0)\n",
            "Installing collected packages: PlotScrollNumpyArrays\n",
            "Successfully installed PlotScrollNumpyArrays-0.0.1\n"
          ]
        }
      ],
      "source": [
        "!pip install SimpleITK\n",
        "!pip install pymedphys\n",
        "!pip install PlotScrollNumpyArrays"
      ]
    },
    {
      "cell_type": "code",
      "execution_count": 14,
      "metadata": {
        "id": "XkwdsvfzU35d",
        "pycharm": {
          "name": "#%%\n"
        }
      },
      "outputs": [],
      "source": [
        "#import SimpleITK as sitk\n",
        "import pymedphys"
      ]
    },
    {
      "cell_type": "code",
      "execution_count": 15,
      "metadata": {
        "colab": {
          "base_uri": "https://localhost:8080/"
        },
        "id": "dED2fmqDhBq4",
        "outputId": "ecfe29c5-ce65-485d-e2c2-620f8dce7aef",
        "pycharm": {
          "name": "#%%\n"
        }
      },
      "outputs": [
        {
          "output_type": "stream",
          "name": "stdout",
          "text": [
            "Cloning into 'Data_Generators'...\n",
            "remote: Enumerating objects: 1096, done.\u001b[K\n",
            "remote: Counting objects: 100% (90/90), done.\u001b[K\n",
            "remote: Compressing objects: 100% (65/65), done.\u001b[K\n",
            "remote: Total 1096 (delta 45), reused 68 (delta 25), pack-reused 1006\u001b[K\n",
            "Receiving objects: 100% (1096/1096), 524.75 KiB | 23.85 MiB/s, done.\n",
            "Resolving deltas: 100% (691/691), done.\n",
            "Submodule 'Image_Processors_Module' (https://github.com/brianmanderson/Image_Processors_Module.git) registered for path 'Image_Processors_Module'\n",
            "Cloning into '/content/Data_Generators/Image_Processors_Module'...\n",
            "remote: Enumerating objects: 1292, done.        \n",
            "remote: Counting objects: 100% (87/87), done.        \n",
            "remote: Compressing objects: 100% (32/32), done.        \n",
            "remote: Total 1292 (delta 50), reused 74 (delta 39), pack-reused 1205        \n",
            "Receiving objects: 100% (1292/1292), 290.13 KiB | 22.32 MiB/s, done.\n",
            "Resolving deltas: 100% (823/823), done.\n",
            "Submodule path 'Image_Processors_Module': checked out '6455779d1f70d2020a5e9e2bb713b5a63bbc9e24'\n"
          ]
        }
      ],
      "source": [
        "!git clone --recurse-submodules -j8 https://github.com/brianmanderson/Data_Generators"
      ]
    },
    {
      "cell_type": "code",
      "execution_count": 16,
      "metadata": {
        "id": "5bUN7lljikZn",
        "pycharm": {
          "name": "#%%\n"
        }
      },
      "outputs": [],
      "source": [
        "from Data_Generators.TFRecord_to_Dataset_Generator import DataGeneratorClass\n",
        "from Data_Generators.Image_Processors_Module.src.Processors.TFDataSets import ConstantProcessors as CProcessors,\\\n",
        "    RelativeProcessors as RProcessors"
      ]
    },
    {
      "cell_type": "code",
      "source": [
        "class ImageProcessor(object):\n",
        "    def parse(self, *args, **kwargs):\n",
        "        return args, kwargs\n",
        "def _check_keys_(input_features, keys):\n",
        "    if type(keys) is list or type(keys) is tuple:\n",
        "        for key in keys:\n",
        "            assert key in input_features.keys(), 'Make sure the key you are referring to is present in the features, ' \\\n",
        "                                                 '{} was not found'.format(key)\n",
        "    else:\n",
        "        assert keys in input_features.keys(), 'Make sure the key you are referring to is present in the features, ' \\\n",
        "                                              '{} was not found'.format(keys)\n",
        "class DivideBasedOnOther(ImageProcessor):\n",
        "    def __init__(self, guiding_keys=('annotation',), changing_keys=('image',)):\n",
        "        self.guiding_keys, self.changing_keys = guiding_keys, changing_keys\n",
        "\n",
        "    def parse(self, input_features, *args, **kwargs):\n",
        "        _check_keys_(input_features=input_features, keys=self.guiding_keys)\n",
        "        _check_keys_(input_features=input_features, keys=self.changing_keys)\n",
        "        for guiding_key, changing_key in zip(self.guiding_keys, self.changing_keys):\n",
        "            input_features[changing_key] = input_features[changing_key] / input_features[guiding_key]\n",
        "        return input_features"
      ],
      "metadata": {
        "id": "b7208vBmWPQi",
        "pycharm": {
          "name": "#%%\n"
        }
      },
      "execution_count": 17,
      "outputs": []
    },
    {
      "cell_type": "code",
      "source": [
        "def return_generator(records_path, proj_to_panel=True, add_5cm_keys=False, global_norm=False, **kwargs):\n",
        "  generator = DataGeneratorClass(record_paths=records_path, delete_old_cache=True)\n",
        "  all_keys = ('pdos_array', 'fluence_array','drr_array', 'deep_to_panel_array', 'iso_to_panel_array', 'shallow_to_panel_array')\n",
        "  drr_keys = ('drr_array', 'deep_to_panel_array', 'iso_to_panel_array', 'shallow_to_panel_array', )\n",
        "  input_keys = ('pdos_array', 'drr_array', 'iso_to_panel_array')\n",
        "  if add_5cm_keys:\n",
        "    if proj_to_panel:\n",
        "      input_keys = ('pdos_array', 'drr_array', 'deep_to_panel_array', 'iso_to_panel_array',\n",
        "                    'shallow_to_panel_array')\n",
        "    else:\n",
        "      input_keys = ('pdos_array', 'drr_array', '5cm_deep_array', 'iso_array', 'shallow_array')\n",
        "  print(f\"Inputs are {input_keys}\")\n",
        "  base_processors = [\n",
        "                     CProcessors.Squeeze(image_keys=all_keys),\n",
        "                     CProcessors.ExpandDimension(axis=-1, image_keys=all_keys),\n",
        "                     CProcessors.MultiplyImagesByConstant(keys=drr_keys,\n",
        "                                                          values=(1/255, 1/255, 1/255, 1/255)),\n",
        "                     ]\n",
        " \n",
        "  if global_norm:\n",
        "    print('Global norm')\n",
        "    base_processors += [\n",
        "                        CProcessors.MultiplyImagesByConstant(keys=('pdos_array',\n",
        "                                                                'fluence_array'),\n",
        "                                                             values=(1, 1)) #(1/2, 1/(.3876*2))\n",
        "                        ]\n",
        "  else:\n",
        "    base_processors += [\n",
        "                        RProcessors.NormalizeBasedOnOther(guiding_keys=('pdos_array', 'pdos_array'),\n",
        "                                                          changing_keys=('fluence_array', 'pdos_array'),\n",
        "                                                          reference_method=('reduce_max', 'reduce_max'),\n",
        "                                                          changing_methods=('divide', 'divide'))\n",
        "                        ]\n",
        "\n",
        "    base_processors += [\n",
        "    CProcessors.CreateNewKey(input_keys=('drr_array',), output_keys=('exp_new_drr_array',)),\n",
        "    CProcessors.MultiplyImagesByConstant(keys=('exp_new_drr_array',), values=(-4.0,)),\n",
        "    CProcessors.TakeExpOfKey(input_keys=('exp_new_drr_array',)),\n",
        "\n",
        "    CProcessors.CreateNewKey(input_keys=('drr_array',), output_keys=('multiplied_drr_array',)),\n",
        "    CProcessors.MultiplyImagesByConstant(keys=('multiplied_drr_array',), values=(0.15,)),\n",
        "    CProcessors.AddImagesTogether(keys=('exp_new_drr_array', 'multiplied_drr_array'), out_key='exp_new_drr_array'),\n",
        "\n",
        "    CProcessors.CreateNewKey(input_keys=('drr_array',), output_keys=('squared_drr_array',)),\n",
        "    CProcessors.MultiplyImagesTogether(keys=('squared_drr_array', 'squared_drr_array'), out_key='squared_drr_array'),\n",
        "    CProcessors.MultiplyImagesByConstant(keys=('squared_drr_array',), values=(-0.1,)),\n",
        "    CProcessors.AddImagesTogether(keys=('exp_new_drr_array', 'squared_drr_array'), out_key='summed_drr_array'),\n",
        "\n",
        "    CProcessors.MultiplyImagesTogether(keys=('pdos_array', 'summed_drr_array'), out_key='pdos_drr_multiplied'),\n",
        "  \n",
        "  ] \n",
        "\n",
        "\n",
        "  base_processors += [\n",
        "                      CProcessors.CombineKeys(axis=-1,\n",
        "                                              image_keys=input_keys,\n",
        "                                              output_key='output'),\n",
        "                      CProcessors.ReturnOutputs(input_keys=('output',),\n",
        "                                                output_keys=('fluence_array',))\n",
        "                                                #output_keys=('pdos_drr_multiplied',))\n",
        "  ]\n",
        "  base_processors += [\n",
        "                      {'batch': 1}, {'repeat'}\n",
        "                      ]\n",
        "  generator.compile_data_set(image_processors=base_processors, debug=False)\n",
        "  return generator"
      ],
      "metadata": {
        "id": "0UkKkd8RF_Zd"
      },
      "execution_count": 18,
      "outputs": []
    },
    {
      "cell_type": "code",
      "source": [
        "def return_generator(records_path, proj_to_panel=True, add_5cm_keys=False, global_norm=False, **kwargs):\n",
        "  generator = DataGeneratorClass(record_paths=records_path, delete_old_cache=True)\n",
        "  all_keys = ('pdos_array', 'fluence_array','drr_array', 'deep_to_panel_array', 'iso_to_panel_array', 'shallow_to_panel_array')\n",
        "  drr_keys = ('drr_array', 'deep_to_panel_array', 'iso_to_panel_array', 'shallow_to_panel_array', )\n",
        "  input_keys = ('pdos_array', 'drr_array', 'iso_to_panel_array')\n",
        "  if add_5cm_keys:\n",
        "    if proj_to_panel:\n",
        "      input_keys = ('pdos_array', 'drr_array', 'deep_to_panel_array', 'iso_to_panel_array',\n",
        "                    'shallow_to_panel_array')\n",
        "    else:\n",
        "      input_keys = ('pdos_array', 'drr_array', '5cm_deep_array', 'iso_array', 'shallow_array')\n",
        "  print(f\"Inputs are {input_keys}\")\n",
        "  base_processors = [\n",
        "                     CProcessors.Squeeze(image_keys=all_keys),\n",
        "                     CProcessors.ExpandDimension(axis=-1, image_keys=all_keys),\n",
        "                     CProcessors.MultiplyImagesByConstant(keys=drr_keys,\n",
        "                                                          values=(1/255, 1/255, 1/255, 1/255)),\n",
        "                     ]\n",
        " \n",
        "  if global_norm:\n",
        "    print('Global norm')\n",
        "    base_processors += [\n",
        "                        CProcessors.MultiplyImagesByConstant(keys=('pdos_array',\n",
        "                                                                'fluence_array'),\n",
        "                                                             values=(1, 1)) #(1/2, 1/(.3876*2))\n",
        "                        ]\n",
        "  else:\n",
        "    base_processors += [\n",
        "                        RProcessors.NormalizeBasedOnOther(guiding_keys=('pdos_array', 'pdos_array'),\n",
        "                                                          changing_keys=('fluence_array', 'pdos_array'),\n",
        "                                                          reference_method=('reduce_max', 'reduce_max'),\n",
        "                                                          changing_methods=('divide', 'divide'))\n",
        "                        ]\n",
        "\n",
        "    base_processors += [\n",
        "    CProcessors.CreateNewKey(input_keys=('drr_array',), output_keys=('exp_new_drr_array',)),\n",
        "    CProcessors.MultiplyImagesByConstant(keys=('exp_new_drr_array',), values=(-4.22,)),\n",
        "    CProcessors.TakeExpOfKey(input_keys=('exp_new_drr_array',)),\n",
        "\n",
        "    CProcessors.CreateNewKey(input_keys=('pdos_array',), output_keys=('mul_pdos_array',)),\n",
        "    # CProcessors.MultiplyImagesTogether(keys=('squared_drr_array', 'squared_drr_array'), out_key='squared_drr_array'),\n",
        "    # CProcessors.MultiplyImagesByConstant(keys=('squared_drr_array',), values=(-0.1,)),\n",
        "    # CProcessors.AddImagesTogether(keys=('exp_new_drr_array', 'squared_drr_array'), out_key='summed_drr_array'),\n",
        "\n",
        "    CProcessors.MultiplyImagesTogether(keys=('mul_pdos_array', 'exp_new_drr_array'), out_key='mul_pdos_array'),\n",
        "    CProcessors.MultiplyImagesByConstant(keys=('mul_pdos_array',), values=(-0.8,)),\n",
        "    \n",
        "    CProcessors.AddImagesTogether(keys=('fluence_array', 'mul_pdos_array'), out_key='scatter_array'),\n",
        "  \n",
        "  ] \n",
        "\n",
        "\n",
        "  base_processors += [\n",
        "                      CProcessors.CombineKeys(axis=-1,\n",
        "                                              image_keys=input_keys,\n",
        "                                              output_key='output'),\n",
        "                      CProcessors.ReturnOutputs(input_keys=('output',),\n",
        "                                                #output_keys=('fluence_array',))\n",
        "                                                output_keys=('scatter_array',))\n",
        "  ]\n",
        "  base_processors += [\n",
        "                      {'batch': 1}, {'repeat'}\n",
        "                      ]\n",
        "  generator.compile_data_set(image_processors=base_processors, debug=False)\n",
        "  return generator"
      ],
      "metadata": {
        "id": "ifyd7FoaqGTu"
      },
      "execution_count": 1048,
      "outputs": []
    },
    {
      "cell_type": "code",
      "execution_count": 1049,
      "metadata": {
        "id": "r6Mck58p1BCH",
        "pycharm": {
          "name": "#%%\n"
        }
      },
      "outputs": [],
      "source": [
        "# The batch size of 1 produced better results for the U-Net in the original pix2pix experiment\n",
        "BATCH_SIZE = 1\n",
        "# Each image is 256x256 in size\n",
        "IMG_WIDTH = 256\n",
        "IMG_HEIGHT = 256"
      ]
    },
    {
      "cell_type": "code",
      "execution_count": 1050,
      "metadata": {
        "id": "76XIMWFXB-kG",
        "pycharm": {
          "name": "#%%\n"
        }
      },
      "outputs": [],
      "source": [
        "def load_data_from_generator(generator):\n",
        "  data = {'input' : [], 'rtimg' : []}\n",
        "  iterator = iter(generator.data_set)\n",
        "  for _ in range(len(generator)):\n",
        "    x, y = next(iterator)\n",
        "    data['input'].append(x[0][0])\n",
        "    data['rtimg'].append(y[0][0])\n",
        "  return data"
      ]
    },
    {
      "cell_type": "markdown",
      "metadata": {
        "id": "wm-XakBDCzRV",
        "pycharm": {
          "name": "#%% md\n"
        }
      },
      "source": [
        "# Return a train and validation dataset based on which fold you want to exclude"
      ]
    },
    {
      "cell_type": "code",
      "source": [
        "def return_datasets(data_generators):\n",
        "  all_datasets = {}\n",
        "  for i in data_generators.keys():\n",
        "    generator = data_generators[i]\n",
        "    all_datasets[i] = tf.data.Dataset.from_tensor_slices((load_data_from_generator(generator)))\n",
        "  return all_datasets\n",
        "\n",
        "def return_fold_datasets(data_generators, batch_size=1):\n",
        "  all_datasets = return_datasets(data_generators)\n",
        "\n",
        "  train_dataset = all_datasets['train']\n",
        "  train_dataset = train_dataset.shuffle(len(train_dataset))\n",
        "  train_dataset = train_dataset.batch(int(batch_size))\n",
        "  \n",
        "  valid_dataset = all_datasets['validation']\n",
        "  valid_dataset = valid_dataset.shuffle(len(valid_dataset))\n",
        "  valid_dataset = valid_dataset.batch(1)\n",
        "\n",
        "  test_dataset = all_datasets['test']\n",
        "  test_dataset = test_dataset.shuffle(len(test_dataset))\n",
        "  test_dataset = test_dataset.batch(1)\n",
        "  return train_dataset, valid_dataset, test_dataset"
      ],
      "metadata": {
        "id": "eI8SbC8_Wfp6",
        "pycharm": {
          "name": "#%%\n"
        }
      },
      "execution_count": 1051,
      "outputs": []
    },
    {
      "cell_type": "code",
      "source": [
        "def return_dataset(generator, batch):\n",
        "  input_values = []\n",
        "  output_values = []\n",
        "  iterator = iter(generator.data_set)\n",
        "  for _ in range(len(generator)):\n",
        "    x, y = next(iterator)\n",
        "    input_values.append(x[0][0])\n",
        "    output_values.append(y[0][0])\n",
        "  input_dataset = tf.data.Dataset.from_tensor_slices(input_values)\n",
        "  output_dataset = tf.data.Dataset.from_tensor_slices(output_values)\n",
        "  dataset = tf.data.Dataset.zip((input_dataset, output_dataset))\n",
        "  dataset = dataset.shuffle(len(dataset)).batch(int(batch))\n",
        "  return dataset"
      ],
      "metadata": {
        "id": "9-YLJrpjWknC",
        "pycharm": {
          "name": "#%%\n"
        }
      },
      "execution_count": 1052,
      "outputs": []
    },
    {
      "cell_type": "code",
      "source": [
        "def return_generators(base_path, excluded_fold=5, batch=1, **kwargs):\n",
        "  data_generators = {}\n",
        "  train_folder_names = []\n",
        "  val_folder_names = []\n",
        "  test_folder_names = []\n",
        "  #train_folder_names.append(os.path.join(base_path, 'onefrac_train'))\n",
        "  #val_folder_names.append(os.path.join(base_path, 'onefrac_valid'))\n",
        "  train_folder_names.append(os.path.join(base_path, 'phantom_train'))\n",
        "  val_folder_names.append(os.path.join(base_path, 'phantom_valid'))\n",
        "  #test_folder_names.append(os.path.join(base_path, 'phantom_valid'))\n",
        "  #test_folder_names.append(os.path.join(base_path, 'pat6'))\n",
        "  \n",
        "  # for i in range(1,6):\n",
        "  #   folder_name = '/content/drive/My Drive/data/fold{}'.format(i)\n",
        "  #   if i != excluded_fold:\n",
        "  #     train_folder_names.append(folder_name)\n",
        "  #   else:\n",
        "  #     val_folder_names.append(folder_name)\n",
        "  \n",
        "  train_gen = return_generator(train_folder_names, batch=1, **kwargs)\n",
        "  train_gen = return_dataset(train_gen, batch)\n",
        "\n",
        "  valid_gen = return_generator(val_folder_names, batch=1, **kwargs)\n",
        "  valid_gen = return_dataset(valid_gen, 1)\n",
        "  \n",
        "\n",
        "  \n",
        "  return train_gen, valid_gen"
      ],
      "metadata": {
        "id": "L3dT3IDBWpli",
        "pycharm": {
          "name": "#%%\n"
        }
      },
      "execution_count": 1053,
      "outputs": []
    },
    {
      "cell_type": "code",
      "source": [
        "batch = 1\n",
        "base_path = '/content/drive/My Drive/data'\n",
        "train_dataset, valid_dataset = return_generators(base_path, excluded_fold=1, batch=batch)"
      ],
      "metadata": {
        "colab": {
          "base_uri": "https://localhost:8080/"
        },
        "id": "fiMEkxV9WuDq",
        "outputId": "f1246cb7-43b6-4678-935e-99afcd0edfaf",
        "pycharm": {
          "name": "#%%\n"
        }
      },
      "execution_count": 1054,
      "outputs": [
        {
          "output_type": "stream",
          "name": "stdout",
          "text": [
            "Inputs are ('pdos_array', 'drr_array', 'iso_to_panel_array')\n",
            "<Data_Generators.Image_Processors_Module.src.Processors.TFDataSets.ConstantProcessors.Squeeze object at 0x7fec21058f50>\n",
            "<Data_Generators.Image_Processors_Module.src.Processors.TFDataSets.ConstantProcessors.ExpandDimension object at 0x7fec210585d0>\n",
            "<Data_Generators.Image_Processors_Module.src.Processors.TFDataSets.ConstantProcessors.MultiplyImagesByConstant object at 0x7fec21058ad0>\n",
            "<Data_Generators.Image_Processors_Module.src.Processors.TFDataSets.RelativeProcessors.NormalizeBasedOnOther object at 0x7feb74672750>\n",
            "<Data_Generators.Image_Processors_Module.src.Processors.TFDataSets.ConstantProcessors.CreateNewKey object at 0x7fec15a3a3d0>\n",
            "<Data_Generators.Image_Processors_Module.src.Processors.TFDataSets.ConstantProcessors.MultiplyImagesByConstant object at 0x7feb74687050>\n",
            "<Data_Generators.Image_Processors_Module.src.Processors.TFDataSets.ConstantProcessors.TakeExpOfKey object at 0x7feb746879d0>\n",
            "<Data_Generators.Image_Processors_Module.src.Processors.TFDataSets.ConstantProcessors.CreateNewKey object at 0x7feb74687a10>\n",
            "<Data_Generators.Image_Processors_Module.src.Processors.TFDataSets.ConstantProcessors.MultiplyImagesTogether object at 0x7feb74687a50>\n",
            "<Data_Generators.Image_Processors_Module.src.Processors.TFDataSets.ConstantProcessors.MultiplyImagesByConstant object at 0x7feb74687a90>\n",
            "<Data_Generators.Image_Processors_Module.src.Processors.TFDataSets.ConstantProcessors.AddImagesTogether object at 0x7feb74687ad0>\n",
            "<Data_Generators.Image_Processors_Module.src.Processors.TFDataSets.ConstantProcessors.CombineKeys object at 0x7fec15a3a650>\n",
            "<Data_Generators.Image_Processors_Module.src.Processors.TFDataSets.ConstantProcessors.ReturnOutputs object at 0x7feb74687b10>\n",
            "{'batch': 1}\n",
            "{'repeat'}\n",
            "Inputs are ('pdos_array', 'drr_array', 'iso_to_panel_array')\n",
            "<Data_Generators.Image_Processors_Module.src.Processors.TFDataSets.ConstantProcessors.Squeeze object at 0x7febb212e750>\n",
            "<Data_Generators.Image_Processors_Module.src.Processors.TFDataSets.ConstantProcessors.ExpandDimension object at 0x7fec2222cf10>\n",
            "<Data_Generators.Image_Processors_Module.src.Processors.TFDataSets.ConstantProcessors.MultiplyImagesByConstant object at 0x7fec21912310>\n",
            "<Data_Generators.Image_Processors_Module.src.Processors.TFDataSets.RelativeProcessors.NormalizeBasedOnOther object at 0x7fec21912b10>\n",
            "<Data_Generators.Image_Processors_Module.src.Processors.TFDataSets.ConstantProcessors.CreateNewKey object at 0x7fec21cbed90>\n",
            "<Data_Generators.Image_Processors_Module.src.Processors.TFDataSets.ConstantProcessors.MultiplyImagesByConstant object at 0x7fec21cbee50>\n",
            "<Data_Generators.Image_Processors_Module.src.Processors.TFDataSets.ConstantProcessors.TakeExpOfKey object at 0x7fec21cbe350>\n",
            "<Data_Generators.Image_Processors_Module.src.Processors.TFDataSets.ConstantProcessors.CreateNewKey object at 0x7fec21cbe490>\n",
            "<Data_Generators.Image_Processors_Module.src.Processors.TFDataSets.ConstantProcessors.MultiplyImagesTogether object at 0x7fec21cbec90>\n",
            "<Data_Generators.Image_Processors_Module.src.Processors.TFDataSets.ConstantProcessors.MultiplyImagesByConstant object at 0x7fec21cbea50>\n",
            "<Data_Generators.Image_Processors_Module.src.Processors.TFDataSets.ConstantProcessors.AddImagesTogether object at 0x7fec21cbea90>\n",
            "<Data_Generators.Image_Processors_Module.src.Processors.TFDataSets.ConstantProcessors.CombineKeys object at 0x7fec21912110>\n",
            "<Data_Generators.Image_Processors_Module.src.Processors.TFDataSets.ConstantProcessors.ReturnOutputs object at 0x7fec21cbec10>\n",
            "{'batch': 1}\n",
            "{'repeat'}\n"
          ]
        }
      ]
    },
    {
      "cell_type": "code",
      "source": [
        "iterx = iter(train_dataset.repeat())"
      ],
      "metadata": {
        "id": "-xQsgfRoW4GC",
        "pycharm": {
          "name": "#%%\n"
        }
      },
      "execution_count": 1055,
      "outputs": []
    },
    {
      "cell_type": "code",
      "source": [
        "train_len = len(train_dataset)\n",
        "valid_len = len(valid_dataset)\n",
        "#test_len =  len(test_dataset)\n",
        "x, y = next(iterx)\n",
        "print(train_len)\n",
        "print(valid_len)\n",
        "#print(test_len)\n",
        "plt.imshow(x[0,...,0])"
      ],
      "metadata": {
        "colab": {
          "base_uri": "https://localhost:8080/",
          "height": 323
        },
        "id": "vRH4eOwuW78k",
        "outputId": "65351130-f1b3-4ef2-87d8-8fcad9b8b684",
        "pycharm": {
          "name": "#%%\n"
        }
      },
      "execution_count": 1056,
      "outputs": [
        {
          "output_type": "stream",
          "name": "stdout",
          "text": [
            "206\n",
            "83\n"
          ]
        },
        {
          "output_type": "execute_result",
          "data": {
            "text/plain": [
              "<matplotlib.image.AxesImage at 0x7fec2163d3d0>"
            ]
          },
          "metadata": {},
          "execution_count": 1056
        },
        {
          "output_type": "display_data",
          "data": {
            "text/plain": [
              "<Figure size 432x288 with 1 Axes>"
            ],
            "image/png": "[encoded data removed]"
          },
          "metadata": {
            "needs_background": "light"
          }
        }
      ]
    },
    {
      "cell_type": "code",
      "source": [
        "train_len = len(train_dataset)\n",
        "valid_len = len(valid_dataset)\n",
        "#test_len =  len(test_dataset)\n",
        "x, y = next(iterx)\n",
        "#print(train_len)\n",
        "#print(valid_len)\n",
        "#print(test_len)\n",
        "#plt.imshow(y[0,...,0])\n",
        "\n",
        "rt = y[0,...,0].numpy()\n",
        "\n",
        "pdos = x[0,...,0].numpy()\n",
        "cbct = x[0,...,1].numpy()\n",
        "\n",
        "#plt.plot(pdos[128,1:256],'b')\n",
        "#plt.plot(cbct[128,1:256],'r')\n",
        "plt.plot(rt[128,1:256],'k')\n",
        "plt.show()"
      ],
      "metadata": {
        "colab": {
          "base_uri": "https://localhost:8080/",
          "height": 265
        },
        "id": "0GkcuvGe0Adq",
        "outputId": "bff0d97c-2be8-4f08-c7a9-655efd69b208"
      },
      "execution_count": 1075,
      "outputs": [
        {
          "output_type": "display_data",
          "data": {
            "text/plain": [
              "<Figure size 432x288 with 1 Axes>"
            ],
            "image/png": "[encoded data removed]"
          },
          "metadata": {
            "needs_background": "light"
          }
        }
      ]
    },
    {
      "cell_type": "code",
      "source": [
        "train_len = len(train_dataset)\n",
        "valid_len = len(valid_dataset)\n",
        "#test_len =  len(test_dataset)\n",
        "x, y = next(iterx)\n",
        "#print(train_len)\n",
        "#print(valid_len)\n",
        "#print(test_len)\n",
        "#plt.imshow(y[0,...,0])\n",
        "\n",
        "rt = y[0,...,0].numpy()\n",
        "\n",
        "pdos = x[0,...,0].numpy()\n",
        "cbct = x[0,...,1].numpy()\n",
        "\n",
        "plt.figure(figsize=(10, 10))\n",
        "plt.subplot(1,3,1)\n",
        "\n",
        "plt.imshow(rt)\n",
        "#plt.plot(pdos[128,1:256],'b')\n",
        "#plt.plot(cbct[128,1:256],'r')\n",
        "\n",
        "#plt.show()\n",
        "\n",
        "cbctval = []\n",
        "ratio = []\n",
        "pdosval = [] \n",
        "\n",
        "rtmax = rt.max(0).max(-1)\n",
        "#print(rtmax)\n",
        "\n",
        "for i in range(0,256):\n",
        "  for j in range(0,256):\n",
        "    if(rt[i,j] > rtmax*0.5):\n",
        "      cbctval = np.append(cbctval,cbct[i,j])\n",
        "      pdosval = np.append(pdosval,pdos[i,j])\n",
        "      ratio = np.append(ratio,rt[i,j]/pdos[i,j])\n",
        "\n",
        "plt.subplot(1,3,2)\n",
        "plt.plot(cbctval,ratio,'bo')\n",
        "\n",
        "#xp = np.arange(0, 200.0, 0.1)\n",
        "#yp = np.exp(-4.0/255 * xp) + 0.15/255 * xp - 0.1/65025 * xp * xp\n",
        "# #yp = pdosval*( np.exp(-4.0/255 *cbctval) + 0.15/255 * cbctval - 0.1/65025 * cbctval * cbctval)\n",
        "xp = np.arange(0, 1.0, 0.01)\n",
        "yp = np.exp(-4.0 * xp) + 0.15 * xp -0.1* xp * xp\n",
        "#yp = np.exp(-4.0 * xp) \n",
        "\n",
        "plt.plot(xp, yp,'r')\n",
        "\n",
        "#plt.subplot(1,3,3)\n",
        "#plt.plot(rt[128,1:256]/pdos[128,1:256],'b')\n",
        "#plt.plot(pdos[128,1:256],'r')\n",
        "#plt.plot(rt[128,1:256],'b')x"
      ],
      "metadata": {
        "colab": {
          "base_uri": "https://localhost:8080/",
          "height": 610
        },
        "id": "iO1c32Cd6-L8",
        "outputId": "63fbe352-bfbf-4069-f8af-7c82b9fcb264"
      },
      "execution_count": 1078,
      "outputs": [
        {
          "output_type": "execute_result",
          "data": {
            "text/plain": [
              "[<matplotlib.lines.Line2D at 0x7fec11f50d50>]"
            ]
          },
          "metadata": {},
          "execution_count": 1078
        },
        {
          "output_type": "display_data",
          "data": {
            "text/plain": [
              "<Figure size 720x720 with 2 Axes>"
            ],
            "image/png": "[encoded data removed]"
          },
          "metadata": {
            "needs_background": "light"
          }
        }
      ]
    },
    {
      "cell_type": "markdown",
      "metadata": {
        "id": "wfAQbzy799UV",
        "pycharm": {
          "name": "#%% md\n"
        }
      },
      "source": [
        "You can inspect some of the preprocessed output:"
      ]
    },
    {
      "cell_type": "code",
      "source": [
        "x, y = next(iterx)\n",
        "\n",
        "idx = 1 \n",
        "pdos = x[0,...,idx].numpy()\n",
        "\n",
        "#x = tf.squeeze(x,0)\n",
        "ks = 64 \n",
        "ave = tf.keras.layers.AveragePooling2D(pool_size=(ks,ks), strides=(1,1),padding='same')(x)\n",
        "#tf.keras.layers.Conv2D(filters=1, kernel_size=(4,4), strides=(1,1),dilation_rate=(4,4), padding='same')(x)\n",
        "#ave = tf.keras.layers.AveragePooling2D(pool_size=(64,64), strides=(1,1),padding='same')(x)\n",
        "#ave3 = tf.keras.layers.AveragePooling2D(pool_size=(64,64), strides=(1,1),padding='same')(ave)\n",
        "#ave2 = tf.keras.layers.AveragePooling2D(pool_size=(64,64), strides=(1,1),padding='same')(ave3)\n",
        "#ave = tf.keras.layers.AveragePooling2D(pool_size=(8,8), strides=(1,1),padding='same')(ave)\n",
        "\n",
        "\n",
        "val = ave[0,...,idx].numpy()\n",
        "plt.subplot(211)\n",
        "print(val.shape)\n",
        "#val2 = ave2[0,...,1].numpy()\n",
        "plt.plot(pdos[128,1:256],'r')\n",
        "\n",
        "#plt.plot(val2[128,1:256],'g')\n",
        "plt.subplot(212)\n",
        "#maxpix = int(256/ks)\n",
        "#mid = int(maxpix/2)\n",
        "#plt.plot(val[mid,1:maxpix],'b')\n",
        "plt.plot(val[128,1:256],'b')\n"
      ],
      "metadata": {
        "id": "seiaTlpW2ZXl",
        "outputId": "ebaac432-f43d-4ffb-ac2b-f603799ea000",
        "colab": {
          "base_uri": "https://localhost:8080/",
          "height": 302
        }
      },
      "execution_count": 1079,
      "outputs": [
        {
          "output_type": "stream",
          "name": "stdout",
          "text": [
            "(256, 256)\n"
          ]
        },
        {
          "output_type": "execute_result",
          "data": {
            "text/plain": [
              "[<matplotlib.lines.Line2D at 0x7fec11e759d0>]"
            ]
          },
          "metadata": {},
          "execution_count": 1079
        },
        {
          "output_type": "display_data",
          "data": {
            "text/plain": [
              "<Figure size 432x288 with 2 Axes>"
            ],
            "image/png": "[encoded data removed]"
          },
          "metadata": {
            "needs_background": "light"
          }
        }
      ]
    },
    {
      "cell_type": "code",
      "execution_count": 31,
      "metadata": {
        "id": "3R09ATE_SH9P",
        "pycharm": {
          "name": "#%%\n"
        }
      },
      "outputs": [],
      "source": [
        "def downsample(filters, size, apply_batchnorm=True):\n",
        "  initializer = tf.random_normal_initializer(0., 0.02)\n",
        "\n",
        "  result = tf.keras.Sequential()\n",
        "  result.add(\n",
        "      tf.keras.layers.Conv2D(filters, size, strides=2, padding='same',\n",
        "                             kernel_initializer=initializer, use_bias=False))\n",
        "\n",
        "  if apply_batchnorm:\n",
        "    result.add(tf.keras.layers.BatchNormalization())\n",
        "\n",
        "  result.add(tf.keras.layers.LeakyReLU())\n",
        "\n",
        "  return result"
      ]
    },
    {
      "cell_type": "markdown",
      "metadata": {
        "id": "aFI_Pa52tjLl",
        "pycharm": {
          "name": "#%% md\n"
        }
      },
      "source": [
        "Define the upsampler (decoder):"
      ]
    },
    {
      "cell_type": "code",
      "execution_count": 32,
      "metadata": {
        "id": "nhgDsHClSQzP",
        "pycharm": {
          "name": "#%%\n"
        }
      },
      "outputs": [],
      "source": [
        "def upsample(filters, size, apply_dropout=False):\n",
        "  initializer = tf.random_normal_initializer(0., 0.02)\n",
        "\n",
        "  result = tf.keras.Sequential()\n",
        "  result.add(\n",
        "    tf.keras.layers.Conv2DTranspose(filters, size, strides=2,\n",
        "                                    padding='same',\n",
        "                                    kernel_initializer=initializer,\n",
        "                                    use_bias=False))\n",
        "\n",
        "  result.add(tf.keras.layers.BatchNormalization())\n",
        "\n",
        "  if apply_dropout:\n",
        "      result.add(tf.keras.layers.Dropout(0.5))\n",
        "\n",
        "  result.add(tf.keras.layers.ReLU())\n",
        "\n",
        "  return result"
      ]
    },
    {
      "cell_type": "code",
      "source": [
        "def GeneratorB(size=4, layers=3, filters_start=4, double_layers=4):\n",
        "  \"\"\"\n",
        "  default values creates the original generator, filters double from start\n",
        "  to a max after the number of 'double layers'\n",
        "  Size is the kernel size\n",
        "  Layers is the number of layers\n",
        "  \"\"\"\n",
        "  inputs = tf.keras.layers.Input(shape=[256, 256, 3])\n",
        "  filters_list = []\n",
        "  for _ in range(double_layers):\n",
        "    filters_list.append(filters_start)\n",
        "    filters_start *= 2\n",
        "  up_filters = []\n",
        "  batchnorm = False\n",
        "  down_stack = []\n",
        "  for _ in range(layers):\n",
        "    if filters_list:\n",
        "      filters = filters_list.pop(0)\n",
        "    up_filters.append(filters)\n",
        "    print(filters)\n",
        "    layer = downsample(filters, size, batchnorm)\n",
        "    down_stack.append(layer)\n",
        "    batchnorm = True\n",
        "  if filters_list:\n",
        "    filters = filters_list.pop(0)\n",
        "  layer = downsample(filters, size, batchnorm)\n",
        "  down_stack.append(layer)\n",
        "  up_stack = []\n",
        "  for _ in range(layers):\n",
        "    filters = up_filters.pop()\n",
        "    layer = upsample(filters, size)\n",
        "    up_stack.append(layer)\n",
        "  initializer = tf.random_normal_initializer(0., 0.02)\n",
        "  last = tf.keras.layers.Conv2DTranspose(OUTPUT_CHANNELS, size,\n",
        "                                         strides=2,\n",
        "                                         padding='same',\n",
        "                                         kernel_initializer=initializer,\n",
        "                                         activation='sigmoid')  # (batch_size, 256, 256, 3)\n",
        "\n",
        "  x = inputs\n",
        "\n",
        "  # Downsampling through the model\n",
        "  skips = []\n",
        "  for down in down_stack:\n",
        "    x = down(x)\n",
        "    skips.append(x)\n",
        "\n",
        "  skips = reversed(skips[:-1])\n",
        "\n",
        "  # Upsampling and establishing the skip connections\n",
        "  for up, skip in zip(up_stack, skips):\n",
        "    x = up(x)\n",
        "    x = tf.keras.layers.Concatenate()([x, skip])\n",
        "\n",
        "  x = last(x)\n",
        "\n",
        "  return tf.keras.Model(inputs=inputs, outputs=x)"
      ],
      "metadata": {
        "id": "WjHD_0t91DYa"
      },
      "execution_count": 33,
      "outputs": []
    },
    {
      "cell_type": "code",
      "source": [
        "def GeneratorP():\n",
        "  inputs = tf.keras.layers.Input(shape=[256, 256, 3])\n",
        "\n",
        "  down_stack = [\n",
        "    downsample(64, 4, apply_batchnorm=False),  # (batch_size, 128, 128, 64)\n",
        "    downsample(128, 4),  # (batch_size, 64, 64, 128)\n",
        "    downsample(256, 4),  # (batch_size, 32, 32, 256)\n",
        "    downsample(512, 4),  # (batch_size, 16, 16, 512)\n",
        "    downsample(512, 4),  # (batch_size, 8, 8, 512)\n",
        "    downsample(512, 4),  # (batch_size, 4, 4, 512)\n",
        "    downsample(512, 4),  # (batch_size, 2, 2, 512)\n",
        "    downsample(512, 4),  # (batch_size, 1, 1, 512)\n",
        "  ]\n",
        "\n",
        "  up_stack = [\n",
        "    upsample(512, 4, apply_dropout=True),  # (batch_size, 2, 2, 1024)\n",
        "    upsample(512, 4, apply_dropout=True),  # (batch_size, 4, 4, 1024)\n",
        "    upsample(512, 4, apply_dropout=True),  # (batch_size, 8, 8, 1024)\n",
        "    upsample(512, 4),  # (batch_size, 16, 16, 1024)\n",
        "    upsample(256, 4),  # (batch_size, 32, 32, 512)\n",
        "    upsample(128, 4),  # (batch_size, 64, 64, 256)\n",
        "    upsample(64, 4),  # (batch_size, 128, 128, 128)\n",
        "  ]\n",
        "\n",
        "  initializer = tf.random_normal_initializer(0., 0.02)\n",
        "  last = tf.keras.layers.Conv2DTranspose(OUTPUT_CHANNELS, 4,\n",
        "                                         strides=2,\n",
        "                                         padding='same',\n",
        "                                         kernel_initializer=initializer,\n",
        "                                         activation='tanh')  # (batch_size, 256, 256, 3)\n",
        "\n",
        "  x = inputs\n",
        "\n",
        "  # Downsampling through the model\n",
        "  skips = []\n",
        "  for down in down_stack:\n",
        "    x = down(x)\n",
        "    skips.append(x)\n",
        "\n",
        "  skips = reversed(skips[:-1])\n",
        "\n",
        "  # Upsampling and establishing the skip connections\n",
        "  for up, skip in zip(up_stack, skips):\n",
        "    x = up(x)\n",
        "    x = tf.keras.layers.Concatenate()([x, skip])\n",
        "\n",
        "  x = last(x)\n",
        "\n",
        "  return tf.keras.Model(inputs=inputs, outputs=x)"
      ],
      "metadata": {
        "id": "fVZhAGhk0ZGb"
      },
      "execution_count": 34,
      "outputs": []
    },
    {
      "cell_type": "code",
      "source": [
        "def downsampleBMA(x, filters, size, apply_batchnorm=True, basic=True):\n",
        "  initializer = tf.random_normal_initializer(0., 0.02)\n",
        "  \n",
        "  x = tf.keras.layers.AveragePooling2D(pool_size=(size,size), strides=(size,size),padding='same')(x)\n",
        "  x = tf.keras.layers.Conv2D(filters,1, strides=1, padding='same',\n",
        "                               kernel_initializer=initializer, use_bias=True)(x)\n",
        "\n",
        "  if apply_batchnorm:\n",
        "    x = tf.keras.layers.BatchNormalization()(x)\n",
        "  x = tf.keras.layers.LeakyReLU()(x)\n",
        "  return x"
      ],
      "metadata": {
        "id": "r-9aWVH4lfYC"
      },
      "execution_count": 474,
      "outputs": []
    },
    {
      "cell_type": "code",
      "source": [
        "def upsampleBMA(x, filters, size, apply_dropout=False, basic=False):\n",
        "  initializer = tf.random_normal_initializer(0., 0.02)\n",
        "  if basic:\n",
        "    x = tf.keras.layers.UpSampling2D()(x)\n",
        "  else:\n",
        "    x =  tf.keras.layers.Conv2DTranspose(filters, size, strides=2,\n",
        "                                         padding='same',\n",
        "                                         kernel_initializer=initializer,\n",
        "                                         use_bias=True)(x)\n",
        "    x = tf.keras.layers.BatchNormalization()(x)\n",
        "    if apply_dropout:\n",
        "      x = tf.keras.layers.Dropout(0.5)(x)\n",
        "    x = tf.keras.layers.LeakyReLU()(x)\n",
        "  return x"
      ],
      "metadata": {
        "id": "eCpMfkkOlipd"
      },
      "execution_count": 475,
      "outputs": []
    },
    {
      "cell_type": "code",
      "source": [
        "def convlayerBMA(x, filters, size, apply_batchnorm=True):\n",
        "  x = tf.keras.layers.Conv2D(filters, size, strides=1, padding='same',\n",
        "                             use_bias=True)(x)\n",
        "\n",
        "  if apply_batchnorm:\n",
        "    x = tf.keras.layers.BatchNormalization()(x)\n",
        "  x = tf.keras.layers.ELU()(x)\n",
        "  return x"
      ],
      "metadata": {
        "id": "Vg4OEfFUllcq"
      },
      "execution_count": 37,
      "outputs": []
    },
    {
      "cell_type": "code",
      "source": [
        "OUTPUT_CHANNELS = 1"
      ],
      "metadata": {
        "id": "JfskOu0Zq_p7"
      },
      "execution_count": 38,
      "outputs": []
    },
    {
      "cell_type": "code",
      "source": [
        "def ReturnUNet(x,size=4, layers=3, filters_start=64, double_layers=4):\n",
        "  \"\"\"\n",
        "  default values creates the original generator, filters double from start\n",
        "  to a max after the number of 'double layers'\n",
        "  Size is the kernel size\n",
        "  Layers is the number of layers\n",
        "  \"\"\"\n",
        "  #inputs = xin\n",
        "  #inputs = tf.keras.layers.Input(shape=[256, 256, 3])\n",
        "  filters_list = []\n",
        "  for _ in range(double_layers):\n",
        "    filters_list.append(filters_start)\n",
        "    filters_start *= 2\n",
        "  up_filters = []\n",
        "  batchnorm = False\n",
        "  down_stack = []\n",
        "  for _ in range(layers):\n",
        "    if filters_list:\n",
        "      filters = filters_list.pop(0)\n",
        "    up_filters.append(filters)\n",
        "    print(filters)\n",
        "    layer = downsample(filters, size, batchnorm)\n",
        "    down_stack.append(layer)\n",
        "    batchnorm = True\n",
        "  if filters_list:\n",
        "    filters = filters_list.pop(0)\n",
        "  layer = downsample(filters, size, batchnorm)\n",
        "  down_stack.append(layer)\n",
        "  up_stack = []\n",
        "  for _ in range(layers):\n",
        "    filters = up_filters.pop()\n",
        "    layer = upsample(filters, size)\n",
        "    up_stack.append(layer)\n",
        "  initializer = tf.random_normal_initializer(0., 0.002)\n",
        "  last = tf.keras.layers.Conv2DTranspose(OUTPUT_CHANNELS, size,\n",
        "                                         strides=2,\n",
        "                                         padding='same',\n",
        "                                         kernel_initializer=initializer,\n",
        "                                         activation='relu')  # (batch_size, 256, 256, 3)\n",
        "\n",
        "  #x = inputs\n",
        "\n",
        "  # Downsampling through the model\n",
        "  skips = []\n",
        "  for down in down_stack:\n",
        "    x = down(x)\n",
        "    skips.append(x)\n",
        "\n",
        "  skips = reversed(skips[:-1])\n",
        "\n",
        "  # Upsampling and establishing the skip connections\n",
        "  for up, skip in zip(up_stack, skips):\n",
        "    x = up(x)\n",
        "    x = tf.keras.layers.Concatenate()([x, skip])\n",
        "\n",
        "  x = last(x)\n",
        "  return x "
      ],
      "metadata": {
        "id": "TFoTfUI-lp9y"
      },
      "execution_count": 39,
      "outputs": []
    },
    {
      "cell_type": "code",
      "source": [
        "for val in train_dataset.take(1):\n",
        "  inp = val[0]\n",
        "  #inp = tf.squeeze(inp,axis=-1)\n",
        "  #print(inp)"
      ],
      "metadata": {
        "id": "zHGHuYZ3QYEM",
        "pycharm": {
          "name": "#%%\n"
        }
      },
      "execution_count": 40,
      "outputs": []
    },
    {
      "cell_type": "code",
      "execution_count": 41,
      "metadata": {
        "id": "mz-ahSdsq0Oc",
        "pycharm": {
          "name": "#%%\n"
        }
      },
      "outputs": [],
      "source": [
        "# up_model = upsample(3, 4)\n",
        "# up_result = up_model(down_result)\n",
        "# print (up_result.shape)"
      ]
    },
    {
      "cell_type": "code",
      "source": [
        "def Generator():\n",
        "  \n",
        "  \n",
        "  initializerP = tf.random_normal_initializer(1.0, 0.5)\n",
        "  initializerP2 = tf.random_normal_initializer(1.0, 0.5)\n",
        "  initializerC = tf.random_normal_initializer(0.25, 0.5)\n",
        "  initializerC2 = tf.random_normal_initializer(0.01, 0.5)\n",
        "  initializerC3 = tf.random_normal_initializer(0.001, 0.5)\n",
        "  # inputsCT = tf.keras.layers.Input(shape=[256, 256, 1])\n",
        "  # inputsPDOS = tf.keras.layers.Input(shape=[256, 256, 1])\n",
        "  inputs = tf.keras.layers.Input(shape=[256, 256, 3])\n",
        "  \n",
        "  inputsPDOS = tf.expand_dims(inputs[..., 0], axis=-1)\n",
        "  inputsCT = tf.expand_dims(inputs[..., 1], axis=-1)\n",
        "  halfCBCT = tf.expand_dims(inputs[..., 2], axis=-1)\n",
        "  \n",
        "  \n",
        "  pdos_layer1 = tf.keras.layers.Conv2D(1, 1, strides=1, activation=None, padding='same', kernel_initializer=initializerP, use_bias=True)(inputsPDOS)\n",
        "  pdos_layer2 = tf.keras.layers.Conv2D(1, 1, strides=1, activation=None, padding='same', kernel_initializer=initializerP2, use_bias=True)(inputsPDOS)\n",
        "  ct_layer1 = tf.keras.layers.Conv2D(1, 1, strides=1, activation=None, padding='same', kernel_initializer=initializerC, use_bias=True)(inputsCT)\n",
        "  ct_layer2 = tf.keras.layers.Conv2D(1, 1, strides=1, activation=None, padding='same', kernel_initializer=initializerC2, use_bias=True)(inputsCT)\n",
        "  ct_layer3 = tf.keras.layers.Conv2D(1, 1, strides=1, activation=None, padding='same', kernel_initializer=initializerC3, use_bias=True)(inputsCT)\n",
        "\n",
        "  ct_sq = tf.keras.layers.Multiply()([ct_layer2,ct_layer2])\n",
        "\n",
        "  ct_int = tf.keras.layers.Multiply()([ct_layer3,ct_layer3])\n",
        "\n",
        "  ct_cube = tf.keras.layers.Multiply()([ct_int,ct_layer3])\n",
        "\n",
        "  addend1 = tf.keras.layers.Add()([ct_layer1, ct_sq])\n",
        "  \n",
        "  sum = tf.keras.layers.Add()([addend1, ct_cube])\n",
        "\n",
        "\n",
        "  multi = tf.keras.layers.Multiply()([pdos_layer1, sum])\n",
        "\n",
        "  last = tf.keras.layers.Add()([multi, pdos_layer2])\n",
        "\n",
        "  return tf.keras.Model(inputs=inputs, outputs=last)"
      ],
      "metadata": {
        "id": "d_td107K7pnA",
        "pycharm": {
          "name": "#%%\n"
        }
      },
      "execution_count": 42,
      "outputs": []
    },
    {
      "cell_type": "code",
      "source": [
        "def GeneratorE():\n",
        "\n",
        "  inputs = tf.keras.layers.Input(shape=[256, 256, 3])\n",
        "  \n",
        "  inputsPDOS = tf.expand_dims(inputs[..., 0], axis=-1)\n",
        "  inputsCT = tf.expand_dims(inputs[..., 1], axis=-1)\n",
        "  halfCBCT = tf.expand_dims(inputs[..., 2], axis=-1)\n",
        "\n",
        "  pdos_layer1 = tf.keras.layers.Conv2D(1, 1, strides=1, activation=None, padding='same', trainable = True,\n",
        "                                      kernel_initializer=tf.random_normal_initializer(1.0, 0.01), use_bias=True)(inputsPDOS)\n",
        " \n",
        "  pdos_layer2 = tf.keras.layers.Conv2D(1, 1, strides=1, activation=None, padding='same', \n",
        "                                      kernel_initializer=tf.random_normal_initializer(0.05, 0.01), use_bias=True)(inputsPDOS)\n",
        "\n",
        "  pdos_layer3 = tf.keras.layers.Conv2D(1, 1, strides=1, activation=None, padding='same', trainable = True,\n",
        "                                      kernel_initializer=tf.random_normal_initializer(1.0, 0.01), use_bias=True)(inputsPDOS)\n",
        "\n",
        "  ct_layer1 = tf.keras.layers.Conv2D(1, 1, strides=1, activation=None, padding='same', trainable =True,\n",
        "                                    kernel_initializer=tf.random_normal_initializer(4.0, 0.01), use_bias=True)(inputsCT)\n",
        "\n",
        "  ct_layer2 = tf.keras.layers.Conv2D(1, 1, strides=1, activation=None, padding='same', \n",
        "                                    kernel_initializer=tf.random_normal_initializer(1.0, 0.01), use_bias=True)(inputsCT)\n",
        "\n",
        "  exp1 = tf.math.exp(-ct_layer1)\n",
        "\n",
        "  exp2 = tf.math.exp(-ct_layer2)\n",
        "\n",
        "  pdos_exp1 = tf.keras.layers.Multiply()([pdos_layer1,exp1])\n",
        "\n",
        "  pdos_exp2 = tf.keras.layers.Multiply()([pdos_layer1,exp2])\n",
        "\n",
        "  last = tf.keras.layers.Add()([pdos_exp1, pdos_exp2])\n",
        "\n",
        "  last = tf.keras.layers.Add()([pdos_layer3, last])\n",
        "\n",
        "  return tf.keras.Model(inputs=inputs, outputs=last)\n"
      ],
      "metadata": {
        "id": "DAJPFqhjecQW"
      },
      "execution_count": 43,
      "outputs": []
    },
    {
      "cell_type": "code",
      "source": [
        "def GeneratorE2():\n",
        "\n",
        "  inputs = tf.keras.layers.Input(shape=[256, 256, 3])\n",
        "  \n",
        "  inputsPDOS = tf.expand_dims(inputs[..., 0], axis=-1)\n",
        "  inputsCT = tf.expand_dims(inputs[..., 1], axis=-1)\n",
        "  halfCBCT = tf.expand_dims(inputs[..., 2], axis=-1)\n",
        "\n",
        "  pdos_layer1 = tf.keras.layers.Conv2D(1, 1, strides=1, activation=None, padding='same', trainable = True,\n",
        "                                      kernel_initializer=tf.random_normal_initializer(0.2, 0.01), use_bias=True)(inputsPDOS)\n",
        " \n",
        "  pdos_layer2 = tf.keras.layers.Conv2D(1, 1, strides=1, activation=None, padding='same', \n",
        "                                      kernel_initializer=tf.random_normal_initializer(0.0, 0.01), use_bias=True)(inputsPDOS)\n",
        "\n",
        "  pdos_layer3 = tf.keras.layers.Conv2D(1, 1, strides=1, activation=None, padding='same', trainable = True,\n",
        "                                      kernel_initializer=tf.random_normal_initializer(0.0, 0.01), use_bias=True)(inputsPDOS)\n",
        "\n",
        "  pdos_layer4 = tf.keras.layers.Conv2D(1, 1, strides=1, activation=None, padding='same', trainable = True,\n",
        "                                       kernel_initializer=tf.random_normal_initializer(1.0, 0.01), use_bias=True)(inputsPDOS)\n",
        "\n",
        "  ct_layer1 = tf.keras.layers.Conv2D(1, 1, strides=1, activation=None, padding='same', trainable =True,\n",
        "                                    kernel_initializer=tf.random_normal_initializer(4.0, 0.01), use_bias=True)(inputsCT)\n",
        "\n",
        "  ct_layer2 = tf.keras.layers.Conv2D(1, 1, strides=1, activation=None, padding='same', \n",
        "                                    kernel_initializer=tf.random_normal_initializer(0.0, 0.01), use_bias=True)(inputsCT)\n",
        "\n",
        "  # ct_layer3 = tf.keras.layers.Conv2D(1, 1, strides=1, activation=None, padding='same', \n",
        "  #                                   kernel_initializer=tf.random_normal_initializer(0.0, 0.01), use_bias=True)(inputsCT)\n",
        "\n",
        "\n",
        "  exp1 = tf.math.exp(-ct_layer1)\n",
        "\n",
        "  exp2 = tf.math.exp(-ct_layer2)\n",
        "\n",
        "  pdos_exp1 = tf.keras.layers.Multiply()([pdos_layer1,exp1])\n",
        "\n",
        "  pdos_exp2 = tf.keras.layers.Multiply()([pdos_layer1,exp2])\n",
        "\n",
        "  last = tf.keras.layers.Add()([pdos_exp1, pdos_exp2])\n",
        "\n",
        "  last = tf.keras.layers.Add()([pdos_layer3, last])\n",
        "\n",
        "  #pdct = tf.keras.layers.Multiply()([pdos_layer4,ct_layer3])\n",
        "  \n",
        "  pdosave = tf.keras.layers.GlobalAveragePooling2D()(pdos_layer4) \n",
        "\n",
        "  last = tf.keras.layers.Add()([pdosave, last])\n",
        "\n",
        "\n",
        "\n",
        "\n",
        "  return tf.keras.Model(inputs=inputs, outputs=last)"
      ],
      "metadata": {
        "id": "uGQnjU98jB8V"
      },
      "execution_count": 44,
      "outputs": []
    },
    {
      "cell_type": "code",
      "source": [
        "def GeneratorE3(size=4, layers=7, filters_start=4, double_layers=4, add_unet=True, max_filters=64):\n",
        "\n",
        "  inputs = tf.keras.layers.Input(shape=[256, 256, 3])\n",
        "  \n",
        "  inputsPDOS = tf.expand_dims(inputs[..., 0], axis=-1)\n",
        "  inputsCT = tf.expand_dims(inputs[..., 1], axis=-1)\n",
        "  halfCBCT = tf.expand_dims(inputs[..., 2], axis=-1)\n",
        "\n",
        "  pdos_layer1 = tf.keras.layers.Conv2D(1, 1, strides=1, activation=None, padding='same', trainable = True,\n",
        "                                      kernel_initializer=tf.random_normal_initializer(0.05, 0.01), use_bias=True)(inputsPDOS)\n",
        " \n",
        "  pdos_layer2 = tf.keras.layers.Conv2D(1, 1, strides=1, activation=None, padding='same', \n",
        "                                      kernel_initializer=tf.random_normal_initializer(0.05, 0.01), use_bias=True)(inputsPDOS)\n",
        "\n",
        "  pdos_layer3 = tf.keras.layers.Conv2D(1, 1, strides=1, activation=None, padding='same', trainable = True,\n",
        "                                      kernel_initializer=tf.random_normal_initializer(0.5, 0.01), use_bias=True)(inputsPDOS)\n",
        "\n",
        "  ct_layer1 = tf.keras.layers.Conv2D(1, 1, strides=1, activation=None, padding='same', trainable =True,\n",
        "                                    kernel_initializer=tf.random_normal_initializer(4.0, 0.01), use_bias=True)(inputsCT)\n",
        "\n",
        "  ct_layer2 = tf.keras.layers.Conv2D(1, 1, strides=1, activation=None, padding='same', \n",
        "                                    kernel_initializer=tf.random_normal_initializer(0.5, 0.01), use_bias=True)(inputsCT)\n",
        "\n",
        "  exp1 = tf.math.exp(-ct_layer1)\n",
        "\n",
        "  exp2 = tf.math.exp(-ct_layer2)\n",
        "\n",
        "  pdos_exp1 = tf.keras.layers.Multiply()([pdos_layer1,exp1])\n",
        "\n",
        "  pdos_exp2 = tf.keras.layers.Multiply()([pdos_layer1,exp2])\n",
        "\n",
        "  last = tf.keras.layers.Add()([pdos_exp1, pdos_exp2])\n",
        "  expsum = tf.keras.layers.Add()([pdos_layer3, last])\n",
        "  #x = pdos_exp1\n",
        "\n",
        "  if add_unet:\n",
        "    #x = ReturnUNet(expsum, size=size, layers=layers, filters_start=min([filters_start, max_filters]), double_layers=double_layers)\n",
        "    unet = ReturnUNet(inputs, size=size, layers=layers, filters_start=min([filters_start, max_filters]), double_layers=double_layers)\n",
        "    x = tf.keras.layers.Add()([expsum, unet])\n",
        "\n",
        "\n",
        "\n",
        "  return tf.keras.Model(inputs=inputs, outputs=x)"
      ],
      "metadata": {
        "id": "BslehwF7lxVD"
      },
      "execution_count": 45,
      "outputs": []
    },
    {
      "cell_type": "code",
      "source": [
        "def GeneratorDCNN():\n",
        "\n",
        "  inputs = tf.keras.layers.Input(shape=[256, 256, 3])\n",
        "  \n",
        "  inputsPDOS = tf.expand_dims(inputs[..., 0], axis=-1)\n",
        "  inputsCT = tf.expand_dims(inputs[..., 1], axis=-1)\n",
        "  halfCBCT = tf.expand_dims(inputs[..., 2], axis=-1)\n",
        "\n",
        "\n",
        "\n",
        "  pdos_layer1 = tf.keras.layers.Conv2D(1, 1, strides=1, activation=\"relu\", padding='same', trainable = True,\n",
        "                                      kernel_initializer=tf.random_normal_initializer(1.0, 0.01), use_bias=True)(inputsPDOS)\n",
        "\n",
        "  pdos_layer2 = tf.keras.layers.Conv2D(1, 1, strides=1, activation=\"relu\", padding='same', trainable = True,\n",
        "                                      kernel_initializer=tf.random_normal_initializer(1.0, 0.01), use_bias=True)(inputsPDOS)\n",
        "\n",
        "  ct_layer1 = tf.keras.layers.Conv2D(32, kernel_size=(1,1), strides=1, activation=\"relu\", padding='same', trainable = True,\n",
        "                                      kernel_initializer=tf.random_normal_initializer(0.0, 0.01), use_bias=True)(inputsCT)\n",
        "\n",
        "  ct_layer2 = tf.keras.layers.Conv2D(64, kernel_size=(1,1), strides=1, activation=\"relu\", padding='same', trainable = True,\n",
        "                                      kernel_initializer=tf.random_normal_initializer(0.0, 0.01), use_bias=True)(ct_layer1)\n",
        "\n",
        "  up = tf.keras.layers.Conv2D(32, kernel_size=(1,1), strides=1, activation=\"relu\", padding='same', trainable = True,\n",
        "                                      kernel_initializer=tf.random_normal_initializer(0.0, 0.01), use_bias=True)(ct_layer2)\n",
        "\n",
        "  up2 = tf.keras.layers.Conv2DTranspose(1, kernel_size=(1,1), strides=1, activation=\"relu\", padding='same', trainable = True,\n",
        "                                      kernel_initializer=tf.random_normal_initializer(0.0, 0.01), use_bias=True)(up) \n",
        " \n",
        "\n",
        "  last = tf.keras.layers.Multiply()([pdos_layer1,up2])\n",
        "\n",
        "\n",
        "  #last = tf.keras.layers.Add()([pdos_layer2,last])\n",
        "\n",
        "  return tf.keras.Model(inputs=inputs, outputs=last)"
      ],
      "metadata": {
        "id": "jU8WeDDZ5lg-"
      },
      "execution_count": 46,
      "outputs": []
    },
    {
      "cell_type": "code",
      "source": [
        "def GeneratorScatter():\n",
        "\n",
        "  inputs = tf.keras.layers.Input(shape=[256, 256, 3])\n",
        "  \n",
        "  inputsPDOS = tf.expand_dims(inputs[..., 0], axis=-1)\n",
        "  inputsCT = tf.expand_dims(inputs[..., 1], axis=-1)\n",
        "  halfCBCT = tf.expand_dims(inputs[..., 2], axis=-1)\n",
        "\n",
        "  ks =8\n",
        "\n",
        "  pdos_ave = tf.keras.layers.AveragePooling2D(pool_size=(ks,ks), strides=(ks,ks),padding='same')(inputsPDOS)\n",
        "\n",
        "  pdos_bran1 = tf.keras.layers.Conv2D(32, kernel_size=(1,1), strides=1, activation=\"relu\", padding='same', trainable = True,\n",
        "                                      kernel_initializer=tf.random_normal_initializer(0.0, 0.01), use_bias=True)(pdos_ave)\n",
        "\n",
        "  pdos_bran2 = tf.keras.layers.Conv2DTranspose(1, kernel_size=(1,1), strides=1, activation=\"relu\", padding='same', trainable = True,\n",
        "                                      kernel_initializer=tf.random_normal_initializer(0.0, 0.01), use_bias=True)(pdos_bran1)\n",
        "\n",
        "  cbct_ave = tf.keras.layers.AveragePooling2D(pool_size=(ks,ks), strides=(ks,ks),padding='same')(inputsCT)\n",
        "\n",
        "  cbct_bran1 = tf.keras.layers.Conv2D(32, kernel_size=(1,1), strides=1, activation=\"relu\", padding='same', trainable = True,\n",
        "                                      kernel_initializer=tf.random_normal_initializer(0.0, 0.01), use_bias=True)(cbct_ave)\n",
        "\n",
        "  cbct_bran2 = tf.keras.layers.Conv2DTranspose(1, kernel_size=(1,1), strides=1, activation=\"relu\", padding='same', trainable = True,\n",
        "                                      kernel_initializer=tf.random_normal_initializer(0.0, 0.01), use_bias=True)(cbct_bran1)\n",
        "\n",
        "\n",
        "  # pdos_layer1 = tf.keras.layers.AveragePooling2D(1, 1, strides=1, activation=\"relu\", padding='same', trainable = True,\n",
        "  #                                     kernel_initializer=tf.random_normal_initializer(1.0, 0.01), use_bias=True)(inputsPDOS)\n",
        "\n",
        "  # pdos_layer2 = tf.keras.layers.Conv2D(1, 1, strides=1, activation=\"relu\", padding='same', trainable = True,\n",
        "  #                                     kernel_initializer=tf.random_normal_initializer(1.0, 0.01), use_bias=True)(inputsPDOS)\n",
        "\n",
        "  # ct_layer1 = tf.keras.layers.Conv2D(32, kernel_size=(1,1), strides=1, activation=\"relu\", padding='same', trainable = True,\n",
        "  #                                     kernel_initializer=tf.random_normal_initializer(0.0, 0.01), use_bias=True)(inputsCT)\n",
        "\n",
        "  # ct_layer2 = tf.keras.layers.Conv2D(64, kernel_size=(1,1), strides=1, activation=\"relu\", padding='same', trainable = True,\n",
        "  #                                     kernel_initializer=tf.random_normal_initializer(0.0, 0.01), use_bias=True)(ct_layer1)\n",
        "\n",
        "  # up = tf.keras.layers.Conv2D(32, kernel_size=(1,1), strides=1, activation=\"relu\", padding='same', trainable = True,\n",
        "  #                                     kernel_initializer=tf.random_normal_initializer(0.0, 0.01), use_bias=True)(ct_layer2)\n",
        "\n",
        "  # up2 = tf.keras.layers.Conv2DTranspose(1, kernel_size=(1,1), strides=1, activation=\"relu\", padding='same', trainable = True,\n",
        "  #                                     kernel_initializer=tf.random_normal_initializer(0.0, 0.01), use_bias=True)(up) \n",
        " \n",
        "\n",
        "  multi = tf.keras.layers.Concatenate()([pdos_ave,cbct_bran2])\n",
        "\n",
        "  last = tf.keras.layers.Conv2DTranspose(1, kernel_size=(ks,ks), strides=ks, activation=\"relu\", padding='same', trainable = True,\n",
        "                                       kernel_initializer=tf.random_normal_initializer(0.0, 0.01), use_bias=True)(multi)  \n",
        "\n",
        "\n",
        "  #last = tf.keras.layers.Add()([pdos_layer2,last])\n",
        "\n",
        "  return tf.keras.Model(inputs=inputs, outputs=last)"
      ],
      "metadata": {
        "id": "fVvNu_HAwk6b"
      },
      "execution_count": 436,
      "outputs": []
    },
    {
      "cell_type": "code",
      "source": [
        "def GeneratorDCNN2():\n",
        "\n",
        "  inputs = tf.keras.layers.Input(shape=[256, 256, 3])\n",
        "  \n",
        "  inputsPDOS = tf.expand_dims(inputs[..., 0], axis=-1)\n",
        "  inputsCT = tf.expand_dims(inputs[..., 1], axis=-1)\n",
        "  halfCBCT = tf.expand_dims(inputs[..., 2], axis=-1)\n",
        "\n",
        "\n",
        "\n",
        "  pdos_layer1 = tf.keras.layers.Conv2D(4, kernel_size=(3,3), strides=1, activation=\"relu\", padding='same', trainable = True,\n",
        "                                      kernel_initializer=tf.random_normal_initializer(1.0, 0.01), use_bias=True)(inputsPDOS)\n",
        "\n",
        "  pdos_layer2 = tf.keras.layers.Conv2D(8, kernel_size=(3,3), strides=1, activation=\"relu\", padding='same', trainable = True,\n",
        "                                      kernel_initializer=tf.random_normal_initializer(0.0, 0.01), use_bias=True)(pdos_layer1)\n",
        "\n",
        "  pdos_layer3 = tf.keras.layers.Conv2D(16, kernel_size=(3,3), strides=1, activation=\"relu\", padding='same', trainable = True,\n",
        "                                      kernel_initializer=tf.random_normal_initializer(0.0, 0.01), use_bias=True)(pdos_layer2)\n",
        "\n",
        "  ct_layer1 = tf.keras.layers.Conv2D(4, kernel_size=(3,3), strides=1, activation=\"relu\", padding='same', trainable = True,\n",
        "                                      kernel_initializer=tf.random_normal_initializer(0.0, 0.01), use_bias=True)(inputsCT)\n",
        "\n",
        "  ct_layer2 = tf.keras.layers.Conv2D(8, kernel_size=(3,3), strides=1, activation=\"relu\", padding='same', trainable = True,\n",
        "                                      kernel_initializer=tf.random_normal_initializer(0.0, 0.01), use_bias=True)(ct_layer1)\n",
        "\n",
        "  ct_layer3 = tf.keras.layers.Conv2D(16, kernel_size=(3,3), strides=1, activation=\"relu\", padding='same', trainable = True,\n",
        "                                      kernel_initializer=tf.random_normal_initializer(0.0, 0.01), use_bias=True)(ct_layer2)\n",
        "\n",
        "\n",
        "  catlayer = tf.keras.layers.concatenate([pdos_layer3,ct_layer3],axis=-1)\n",
        "\n",
        "  up1 = tf.keras.layers.Conv2DTranspose(16, kernel_size=(3,3), strides=1, activation=\"relu\", padding='same', trainable = True,\n",
        "                                      kernel_initializer=tf.random_normal_initializer(0.0, 0.01), use_bias=True)(catlayer)\n",
        "        \n",
        "  up2 = tf.keras.layers.Conv2DTranspose(8, kernel_size=(3,3), strides=1, activation=\"relu\", padding='same', trainable = True,\n",
        "                                      kernel_initializer=tf.random_normal_initializer(0.0, 0.01), use_bias=True)(up1)                                   \n",
        "\n",
        "  up3 = tf.keras.layers.Conv2DTranspose(4, kernel_size=(3,3), strides=1, activation=\"relu\", padding='same', trainable = True,\n",
        "                                      kernel_initializer=tf.random_normal_initializer(0.0, 0.01), use_bias=True)(up2)   \n",
        "\n",
        "  last = tf.keras.layers.Conv2DTranspose(1, kernel_size=(3,3), strides=1, activation=\"relu\", padding='same', trainable = True,\n",
        "                                      kernel_initializer=tf.random_normal_initializer(0.0, 0.01), use_bias=True)(up3) \n",
        "\n",
        "\n",
        "  return tf.keras.Model(inputs=inputs, outputs=last)"
      ],
      "metadata": {
        "id": "EmYd-sxoKbil"
      },
      "execution_count": 47,
      "outputs": []
    },
    {
      "cell_type": "code",
      "source": [
        "def GeneratorAVE(pool=4,start_neurons=8):\n",
        "  \n",
        "    inputs = tf.keras.layers.Input(shape=[256, 256, 3])\n",
        "  \n",
        "    #start_neurons = 8\n",
        "    conv1 = tf.keras.layers.Conv2D(start_neurons * 1, (3, 3), activation=\"relu\", padding=\"same\")(inputs)\n",
        "    conv1 = tf.keras.layers.Conv2D(start_neurons * 1, (3, 3), activation=\"relu\", padding=\"same\")(conv1)\n",
        "    pool1 = tf.keras.layers.AveragePooling2D(pool_size=(pool, pool),strides=(pool,pool),padding=\"same\")(conv1)\n",
        "    pool1 = tf.keras.layers.Dropout(0.25)(pool1)\n",
        "  \n",
        "    conv2 = tf.keras.layers.Conv2D(start_neurons * 2, (3, 3), activation=\"relu\", padding=\"same\")(pool1)\n",
        "    conv2 = tf.keras.layers.Conv2D(start_neurons * 2, (3, 3), activation=\"relu\", padding=\"same\")(conv2)\n",
        "    pool2 = tf.keras.layers.AveragePooling2D((pool, pool),strides=(pool,pool), padding=\"same\")(conv2)\n",
        "    pool2 = tf.keras.layers.Dropout(0.5)(pool2)\n",
        "\n",
        "    conv3 = tf.keras.layers.Conv2D(start_neurons * 4, (3, 3), activation=\"relu\", padding=\"same\")(pool2)\n",
        "    conv3 = tf.keras.layers.Conv2D(start_neurons * 4, (3, 3), activation=\"relu\", padding=\"same\")(conv3)\n",
        "    pool3 = tf.keras.layers.AveragePooling2D((pool, pool),strides=(pool,pool),padding=\"same\")(conv3)\n",
        "    pool3 = tf.keras.layers.Dropout(0.5)(pool3)\n",
        "\n",
        "    conv4 = tf.keras.layers.Conv2D(start_neurons * 8, (3, 3), activation=\"relu\", padding=\"same\")(pool3)\n",
        "    conv4 = tf.keras.layers.Conv2D(start_neurons * 8, (3, 3), activation=\"relu\", padding=\"same\")(conv4)\n",
        "    pool4 = tf.keras.layers.AveragePooling2D((pool, pool),strides=(pool,pool),padding=\"same\")(conv4)\n",
        "    pool4 = tf.keras.layers.Dropout(0.5)(pool4)\n",
        "\n",
        "    conv5 = tf.keras.layers.Conv2D(start_neurons * 16, (3, 3), activation=\"relu\", padding=\"same\")(pool4)\n",
        "    conv5 = tf.keras.layers.Conv2D(start_neurons * 16, (3, 3), activation=\"relu\", padding=\"same\")(conv5)\n",
        "    pool5 = tf.keras.layers.AveragePooling2D((pool, pool),strides=(pool,pool),padding=\"same\")(conv5)\n",
        "    pool5 = tf.keras.layers.Dropout(0.5)(pool5)\n",
        "    \n",
        "    \n",
        "    convm = tf.keras.layers.Conv2D(start_neurons * 16, (3, 3), activation=\"relu\", padding=\"same\")(pool5)\n",
        "    convm = tf.keras.layers.Conv2D(start_neurons * 16, (3, 3), activation=\"relu\", padding=\"same\")(convm)\n",
        "\n",
        "    deconv5 = tf.keras.layers.Conv2DTranspose(start_neurons * 8, (3, 3), strides=(pool, pool), padding=\"same\")(convm)\n",
        "    uconv5 = tf.keras.layers.concatenate([deconv5, conv5])\n",
        "    #uconv5 = conv5\n",
        "    uconv5 = tf.keras.layers.Dropout(0.5)(uconv5)\n",
        "    uconv5 = tf.keras.layers.Conv2D(start_neurons * 16, (3, 3), activation=\"relu\", padding=\"same\")(uconv5)\n",
        "    uconv5 = tf.keras.layers.Conv2D(start_neurons * 16, (3, 3), activation=\"relu\", padding=\"same\")(uconv5)\n",
        "\n",
        "    deconv4 = tf.keras.layers.Conv2DTranspose(start_neurons * 8, (3, 3), strides=(pool, pool), padding=\"same\")(uconv5)\n",
        "    uconv4 = tf.keras.layers.concatenate([deconv4, conv4])\n",
        "    #uconv4 = conv4\n",
        "    uconv4 = tf.keras.layers.Dropout(0.5)(uconv4)\n",
        "    uconv4 = tf.keras.layers.Conv2D(start_neurons * 8, (3, 3), activation=\"relu\", padding=\"same\")(uconv4)\n",
        "    uconv4 = tf.keras.layers.Conv2D(start_neurons * 8, (3, 3), activation=\"relu\", padding=\"same\")(uconv4)\n",
        "\n",
        "    deconv3 = tf.keras.layers.Conv2DTranspose(start_neurons * 4, (3, 3), strides=(pool, pool), padding=\"same\")(uconv4)\n",
        "    uconv3 = tf.keras.layers.concatenate([deconv3, conv3])\n",
        "    #uconv3 = conv3\n",
        "    uconv3 = tf.keras.layers.Dropout(0.5)(uconv3)\n",
        "    uconv3 = tf.keras.layers.Conv2D(start_neurons * 4, (3, 3), activation=\"relu\", padding=\"same\")(uconv3)\n",
        "    uconv3 = tf.keras.layers.Conv2D(start_neurons * 4, (3, 3), activation=\"relu\", padding=\"same\")(uconv3)\n",
        "\n",
        "\n",
        "    deconv2 = tf.keras.layers.Conv2DTranspose(start_neurons * 2, (3, 3), strides=(pool, pool), padding=\"same\")(uconv3)\n",
        "    uconv2 = tf.keras.layers.concatenate([deconv2, conv2])\n",
        "    #uconv2 = conv2\n",
        "    uconv2 = tf.keras.layers.Dropout(0.5)(uconv2)\n",
        "    uconv2 = tf.keras.layers.Conv2D(start_neurons * 2, (3, 3), activation=\"relu\", padding=\"same\")(uconv2)\n",
        "    uconv2 = tf.keras.layers.Conv2D(start_neurons * 2, (3, 3), activation=\"relu\", padding=\"same\")(uconv2)\n",
        "\n",
        "    deconv1 = tf.keras.layers.Conv2DTranspose(start_neurons * 1, (3, 3), strides=(pool, pool), padding=\"same\")(uconv2)\n",
        "    uconv1 = tf.keras.layers.concatenate([deconv1, conv1])\n",
        "    #uconv1 = conv1\n",
        "    uconv1 = tf.keras.layers.Dropout(0.5)(uconv1)\n",
        "    uconv1 = tf.keras.layers.Conv2D(start_neurons * 1, (3, 3), activation=\"relu\", padding=\"same\")(uconv1)\n",
        "    uconv1 = tf.keras.layers.Conv2D(start_neurons * 1, (3, 3), activation=\"relu\", padding=\"same\")(uconv1)\n",
        "    \n",
        "    x = tf.keras.layers.Conv2D(1, (1,1), padding=\"same\", activation=\"relu\")(uconv1)\n",
        "    \n",
        "\n",
        "    return tf.keras.Model(inputs=inputs, outputs=x)"
      ],
      "metadata": {
        "id": "M-YiDzYIDAzH"
      },
      "execution_count": 1280,
      "outputs": []
    },
    {
      "cell_type": "markdown",
      "metadata": {
        "id": "ueEJyRVrtZ-p",
        "pycharm": {
          "name": "#%% md\n"
        }
      },
      "source": [
        "Define the generator with the downsampler and the upsampler:"
      ]
    },
    {
      "cell_type": "code",
      "execution_count": 859,
      "metadata": {
        "id": "chllEeBC48vz",
        "pycharm": {
          "name": "#%%\n"
        }
      },
      "outputs": [],
      "source": [
        "#generator = Generator(size=4, layers=4, double_layers=4, filters_start=16)\n",
        "# tf.keras.utils.plot_model(new_generator, show_shapes=True, dpi=64)"
      ]
    },
    {
      "cell_type": "markdown",
      "metadata": {
        "id": "Z4PKwrcQFYvF",
        "pycharm": {
          "name": "#%% md\n"
        }
      },
      "source": [
        "Visualize the generator model architecture:"
      ]
    },
    {
      "cell_type": "code",
      "execution_count": 1281,
      "metadata": {
        "id": "dIbRPFzjmV85",
        "colab": {
          "base_uri": "https://localhost:8080/"
        },
        "outputId": "c7339eec-ecbc-4cd0-f08c-a684e3a371f4",
        "pycharm": {
          "name": "#%%\n"
        }
      },
      "outputs": [
        {
          "output_type": "stream",
          "name": "stdout",
          "text": [
            "Model: \"model_85\"\n",
            "__________________________________________________________________________________________________\n",
            " Layer (type)                   Output Shape         Param #     Connected to                     \n",
            "==================================================================================================\n",
            " input_126 (InputLayer)         [(None, 256, 256, 3  0           []                               \n",
            "                                )]                                                                \n",
            "                                                                                                  \n",
            " conv2d_1293 (Conv2D)           (None, 256, 256, 8)  224         ['input_126[0][0]']              \n",
            "                                                                                                  \n",
            " conv2d_1294 (Conv2D)           (None, 256, 256, 8)  584         ['conv2d_1293[0][0]']            \n",
            "                                                                                                  \n",
            " average_pooling2d_380 (Average  (None, 128, 128, 8)  0          ['conv2d_1294[0][0]']            \n",
            " Pooling2D)                                                                                       \n",
            "                                                                                                  \n",
            " dropout_552 (Dropout)          (None, 128, 128, 8)  0           ['average_pooling2d_380[0][0]']  \n",
            "                                                                                                  \n",
            " conv2d_1295 (Conv2D)           (None, 128, 128, 16  1168        ['dropout_552[0][0]']            \n",
            "                                )                                                                 \n",
            "                                                                                                  \n",
            " conv2d_1296 (Conv2D)           (None, 128, 128, 16  2320        ['conv2d_1295[0][0]']            \n",
            "                                )                                                                 \n",
            "                                                                                                  \n",
            " average_pooling2d_381 (Average  (None, 64, 64, 16)  0           ['conv2d_1296[0][0]']            \n",
            " Pooling2D)                                                                                       \n",
            "                                                                                                  \n",
            " dropout_553 (Dropout)          (None, 64, 64, 16)   0           ['average_pooling2d_381[0][0]']  \n",
            "                                                                                                  \n",
            " conv2d_1297 (Conv2D)           (None, 64, 64, 32)   4640        ['dropout_553[0][0]']            \n",
            "                                                                                                  \n",
            " conv2d_1298 (Conv2D)           (None, 64, 64, 32)   9248        ['conv2d_1297[0][0]']            \n",
            "                                                                                                  \n",
            " average_pooling2d_382 (Average  (None, 32, 32, 32)  0           ['conv2d_1298[0][0]']            \n",
            " Pooling2D)                                                                                       \n",
            "                                                                                                  \n",
            " dropout_554 (Dropout)          (None, 32, 32, 32)   0           ['average_pooling2d_382[0][0]']  \n",
            "                                                                                                  \n",
            " conv2d_1299 (Conv2D)           (None, 32, 32, 64)   18496       ['dropout_554[0][0]']            \n",
            "                                                                                                  \n",
            " conv2d_1300 (Conv2D)           (None, 32, 32, 64)   36928       ['conv2d_1299[0][0]']            \n",
            "                                                                                                  \n",
            " average_pooling2d_383 (Average  (None, 16, 16, 64)  0           ['conv2d_1300[0][0]']            \n",
            " Pooling2D)                                                                                       \n",
            "                                                                                                  \n",
            " dropout_555 (Dropout)          (None, 16, 16, 64)   0           ['average_pooling2d_383[0][0]']  \n",
            "                                                                                                  \n",
            " conv2d_1301 (Conv2D)           (None, 16, 16, 128)  73856       ['dropout_555[0][0]']            \n",
            "                                                                                                  \n",
            " conv2d_1302 (Conv2D)           (None, 16, 16, 128)  147584      ['conv2d_1301[0][0]']            \n",
            "                                                                                                  \n",
            " average_pooling2d_384 (Average  (None, 8, 8, 128)   0           ['conv2d_1302[0][0]']            \n",
            " Pooling2D)                                                                                       \n",
            "                                                                                                  \n",
            " dropout_556 (Dropout)          (None, 8, 8, 128)    0           ['average_pooling2d_384[0][0]']  \n",
            "                                                                                                  \n",
            " conv2d_1303 (Conv2D)           (None, 8, 8, 128)    147584      ['dropout_556[0][0]']            \n",
            "                                                                                                  \n",
            " conv2d_1304 (Conv2D)           (None, 8, 8, 128)    147584      ['conv2d_1303[0][0]']            \n",
            "                                                                                                  \n",
            " conv2d_transpose_268 (Conv2DTr  (None, 16, 16, 64)  73792       ['conv2d_1304[0][0]']            \n",
            " anspose)                                                                                         \n",
            "                                                                                                  \n",
            " concatenate_213 (Concatenate)  (None, 16, 16, 192)  0           ['conv2d_transpose_268[0][0]',   \n",
            "                                                                  'conv2d_1302[0][0]']            \n",
            "                                                                                                  \n",
            " dropout_557 (Dropout)          (None, 16, 16, 192)  0           ['concatenate_213[0][0]']        \n",
            "                                                                                                  \n",
            " conv2d_1305 (Conv2D)           (None, 16, 16, 128)  221312      ['dropout_557[0][0]']            \n",
            "                                                                                                  \n",
            " conv2d_1306 (Conv2D)           (None, 16, 16, 128)  147584      ['conv2d_1305[0][0]']            \n",
            "                                                                                                  \n",
            " conv2d_transpose_269 (Conv2DTr  (None, 32, 32, 64)  73792       ['conv2d_1306[0][0]']            \n",
            " anspose)                                                                                         \n",
            "                                                                                                  \n",
            " concatenate_214 (Concatenate)  (None, 32, 32, 128)  0           ['conv2d_transpose_269[0][0]',   \n",
            "                                                                  'conv2d_1300[0][0]']            \n",
            "                                                                                                  \n",
            " dropout_558 (Dropout)          (None, 32, 32, 128)  0           ['concatenate_214[0][0]']        \n",
            "                                                                                                  \n",
            " conv2d_1307 (Conv2D)           (None, 32, 32, 64)   73792       ['dropout_558[0][0]']            \n",
            "                                                                                                  \n",
            " conv2d_1308 (Conv2D)           (None, 32, 32, 64)   36928       ['conv2d_1307[0][0]']            \n",
            "                                                                                                  \n",
            " conv2d_transpose_270 (Conv2DTr  (None, 64, 64, 32)  18464       ['conv2d_1308[0][0]']            \n",
            " anspose)                                                                                         \n",
            "                                                                                                  \n",
            " concatenate_215 (Concatenate)  (None, 64, 64, 64)   0           ['conv2d_transpose_270[0][0]',   \n",
            "                                                                  'conv2d_1298[0][0]']            \n",
            "                                                                                                  \n",
            " dropout_559 (Dropout)          (None, 64, 64, 64)   0           ['concatenate_215[0][0]']        \n",
            "                                                                                                  \n",
            " conv2d_1309 (Conv2D)           (None, 64, 64, 32)   18464       ['dropout_559[0][0]']            \n",
            "                                                                                                  \n",
            " conv2d_1310 (Conv2D)           (None, 64, 64, 32)   9248        ['conv2d_1309[0][0]']            \n",
            "                                                                                                  \n",
            " conv2d_transpose_271 (Conv2DTr  (None, 128, 128, 16  4624       ['conv2d_1310[0][0]']            \n",
            " anspose)                       )                                                                 \n",
            "                                                                                                  \n",
            " concatenate_216 (Concatenate)  (None, 128, 128, 32  0           ['conv2d_transpose_271[0][0]',   \n",
            "                                )                                 'conv2d_1296[0][0]']            \n",
            "                                                                                                  \n",
            " dropout_560 (Dropout)          (None, 128, 128, 32  0           ['concatenate_216[0][0]']        \n",
            "                                )                                                                 \n",
            "                                                                                                  \n",
            " conv2d_1311 (Conv2D)           (None, 128, 128, 16  4624        ['dropout_560[0][0]']            \n",
            "                                )                                                                 \n",
            "                                                                                                  \n",
            " conv2d_1312 (Conv2D)           (None, 128, 128, 16  2320        ['conv2d_1311[0][0]']            \n",
            "                                )                                                                 \n",
            "                                                                                                  \n",
            " conv2d_transpose_272 (Conv2DTr  (None, 256, 256, 8)  1160       ['conv2d_1312[0][0]']            \n",
            " anspose)                                                                                         \n",
            "                                                                                                  \n",
            " concatenate_217 (Concatenate)  (None, 256, 256, 16  0           ['conv2d_transpose_272[0][0]',   \n",
            "                                )                                 'conv2d_1294[0][0]']            \n",
            "                                                                                                  \n",
            " dropout_561 (Dropout)          (None, 256, 256, 16  0           ['concatenate_217[0][0]']        \n",
            "                                )                                                                 \n",
            "                                                                                                  \n",
            " conv2d_1313 (Conv2D)           (None, 256, 256, 8)  1160        ['dropout_561[0][0]']            \n",
            "                                                                                                  \n",
            " conv2d_1314 (Conv2D)           (None, 256, 256, 8)  584         ['conv2d_1313[0][0]']            \n",
            "                                                                                                  \n",
            " conv2d_1315 (Conv2D)           (None, 256, 256, 1)  9           ['conv2d_1314[0][0]']            \n",
            "                                                                                                  \n",
            "==================================================================================================\n",
            "Total params: 1,278,073\n",
            "Trainable params: 1,278,073\n",
            "Non-trainable params: 0\n",
            "__________________________________________________________________________________________________\n"
          ]
        }
      ],
      "source": [
        "#generator = Generator()\n",
        "#tf.keras.utils.plot_model(generator, show_shapes=True, dpi=64)\n",
        "#generator = GeneratorP()\n",
        "#generator = GeneratorB(size=4, layers=7, filters_start=16, double_layers=4)\n",
        "#generator = GeneratorE3(size=4, layers=3, filters_start=4, double_layers=4, add_unet=True, max_filters=64)\n",
        "#generator = GeneratorE2()\n",
        "#generator = GeneratorScatter()\n",
        "generator = GeneratorAVE(pool=2,start_neurons=8)\n",
        "#tf.keras.utils.plot_model(generator, show_shapes=True, dpi=64)\n",
        "generator.summary()"
      ]
    },
    {
      "cell_type": "markdown",
      "metadata": {
        "id": "Z8kbgTK8FcPo",
        "pycharm": {
          "name": "#%% md\n"
        }
      },
      "source": [
        "Test the generator:"
      ]
    },
    {
      "cell_type": "code",
      "source": [
        "for val in train_dataset.take(1):\n",
        "  inp = val[0]\n",
        "  #inp = tf.squeeze(inp,axis=-1)\n",
        "  #print(inp)"
      ],
      "metadata": {
        "id": "6ie50xmLu2pb"
      },
      "execution_count": 1282,
      "outputs": []
    },
    {
      "cell_type": "code",
      "execution_count": 1283,
      "metadata": {
        "id": "U1N1_obwtdQH",
        "pycharm": {
          "name": "#%%\n"
        },
        "colab": {
          "base_uri": "https://localhost:8080/",
          "height": 323
        },
        "outputId": "bd04da43-cc72-47b4-e5ab-a5f5d306df60"
      },
      "outputs": [
        {
          "output_type": "stream",
          "name": "stdout",
          "text": [
            "tf.Tensor([  1 256 256   3], shape=(4,), dtype=int32)\n",
            "tf.Tensor([  1   1 256 256   3], shape=(5,), dtype=int32)\n"
          ]
        },
        {
          "output_type": "execute_result",
          "data": {
            "text/plain": [
              "<matplotlib.image.AxesImage at 0x7fec1e53a110>"
            ]
          },
          "metadata": {},
          "execution_count": 1283
        },
        {
          "output_type": "display_data",
          "data": {
            "text/plain": [
              "<Figure size 432x288 with 1 Axes>"
            ],
            "image/png": "[encoded data removed]"
          },
          "metadata": {
            "needs_background": "light"
          }
        }
      ],
      "source": [
        "print(tf.shape(inp))\n",
        "print(tf.shape(inp[tf.newaxis, ...]))\n",
        "gen_output = generator(inp, training=False)\n",
        "#gen_output = generator(inp[tf.newaxis, ...], training=False)\n",
        "# #print(tf.shape(gen_output))\n",
        "plt.imshow(tf.squeeze(gen_output[0, ...],axis=-1))"
      ]
    },
    {
      "cell_type": "markdown",
      "metadata": {
        "id": "dpDPEQXIAiQO",
        "pycharm": {
          "name": "#%% md\n"
        }
      },
      "source": [
        "### Define the generator loss\n",
        "\n",
        "GANs learn a loss that adapts to the data, while cGANs learn a structured loss that penalizes a possible structure that differs from the network output and the target image, as described in the [pix2pix paper](https://arxiv.org/abs/1611.07004).\n",
        "\n",
        "- The generator loss is a sigmoid cross-entropy loss of the generated images and an **array of ones**.\n",
        "- The pix2pix paper also mentions the L1 loss, which is a MAE (mean absolute error) between the generated image and the target image.\n",
        "- This allows the generated image to become structurally similar to the target image.\n",
        "- The formula to calculate the total generator loss is `gan_loss + LAMBDA * l1_loss`, where `LAMBDA = 100`. This value was decided by the authors of the paper."
      ]
    },
    {
      "cell_type": "code",
      "source": [
        "def generator_loss(gen_output, target):\n",
        "  # Mean absolute error\n",
        "  l1_loss = tf.reduce_mean(tf.abs(target - gen_output))\n",
        "\n",
        "  return l1_loss"
      ],
      "metadata": {
        "id": "xYSdNfkEVwFK"
      },
      "execution_count": 1284,
      "outputs": []
    },
    {
      "cell_type": "code",
      "source": [
        "generator_optimizer = tf.keras.optimizers.Adam(2e-4, beta_1=0.9)"
      ],
      "metadata": {
        "id": "htuzlyw3htzi"
      },
      "execution_count": 1285,
      "outputs": []
    },
    {
      "cell_type": "code",
      "source": [
        "!mkdir -p training_checkpoints\n",
        "#checkpoint_dir = '/content/drive/MyDrive/Colab Notebooks/3chanGAN_checkpoints'\n",
        "if not running_local:\n",
        "    checkpoint_dir = '/content/drive/MyDrive/Colab Notebooks/fold1_checkpoints'\n",
        "else:\n",
        "    checkpoint_dir = r'R:\\Bojechko\\TFRecords\\fold1_checkpoints'\n",
        "checkpoint_prefix = os.path.join(checkpoint_dir, \"ckpt\")\n",
        "checkpoint = tf.train.Checkpoint(generator_optimizer=generator_optimizer,\n",
        "                                 generator=generator)"
      ],
      "metadata": {
        "id": "nCrXgD6iV-Lq"
      },
      "execution_count": 1286,
      "outputs": []
    },
    {
      "cell_type": "code",
      "source": [
        "def plot_images(prediction, input, target):\n",
        "  plt.figure(figsize=(15, 10))\n",
        "\n",
        "  # print(\"Input \")\n",
        "  # print(type(cbct_input))\n",
        "  # print(tf.shape(cbct_input))\n",
        "  # print(\"ground truth\")\n",
        "  # print(type(tar))\n",
        "  # print(tf.shape(tar))\n",
        "  display_list = [ input[0], target[0], prediction[0] ]\n",
        "  title = ['Input CBCT Image', 'Ground Truth', 'Predicted Image']\n",
        "  \n",
        "  plt.subplot(1, 4, 1)\n",
        "  plt.title('Input Image')\n",
        "  # Getting the pixel values in the [0, 1] range to plot.\n",
        "  \n",
        "  input = tf.squeeze(input,axis=0)\n",
        "  inslice = input[...,1]\n",
        "  \n",
        "  plt.imshow(inslice)\n",
        "  plt.axis('off')\n",
        "\n",
        "  plt.subplot(1, 4, 2)\n",
        "  plt.title('Ground Truth')\n",
        "  # Getting the pixel values in the [0, 1] range to plot.\n",
        "  #plt.imshow(tf.squeeze(tar[0],axis=0))\n",
        "  #tar = tf.cast(tar,tf.float32)\n",
        "  plt.imshow(tf.squeeze(target[0],axis=-1))\n",
        "  plt.axis('off')\n",
        "\n",
        "  plt.subplot(1, 4, 3)\n",
        "  plt.title('Predicted Image')\n",
        "  plt.imshow(tf.squeeze(prediction))\n",
        "  plt.axis('off')\n",
        "\n",
        "  target = tf.squeeze(target)\n",
        "  prediction = tf.squeeze(prediction)\n",
        "  \n",
        "  predvec = prediction[128,1:256]\n",
        "  rtvec = target[128,1:256]\n",
        "  \n",
        "\n",
        "  plt.axis('off')\n",
        "  plt.subplot(1, 4, 4)\n",
        "  plt.plot(rtvec,'g')\n",
        "  plt.title(\"Meas RT IMG (Green)\")\n",
        "  plt.plot(predvec,'b')\n",
        "\n",
        "  # Getting the pixel values in the [0, 1] range to plot.\n",
        "  #print(tf.shape(prediction))\n",
        "  #prediction = tf.cast(prediction,tf.float32)\n",
        "  #plt.imshow(tf.squeeze(prediction[0],axis=-1))\n",
        "  #plt.axis('off')\n",
        "  \n",
        "  plt.show()"
      ],
      "metadata": {
        "id": "vD2JMSxNWpdT"
      },
      "execution_count": 1287,
      "outputs": []
    },
    {
      "cell_type": "code",
      "source": [
        "!mkdir -p training_checkpoints\n",
        "checkpoint_dir = '/content/drive/MyDrive/Colab Notebooks/training_checkpoints'\n",
        "checkpoint_prefix = os.path.join(checkpoint_dir, \"ckpt\")\n",
        "checkpoint = tf.train.Checkpoint(generator_optimizer=generator_optimizer,\n",
        "                                 generator=generator)"
      ],
      "metadata": {
        "id": "IhsG6-5FWxJq"
      },
      "execution_count": 1288,
      "outputs": []
    },
    {
      "cell_type": "code",
      "source": [
        "def generate_images(model, input, tar):\n",
        "  prediction = model(input,training=False)\n",
        "  #prediction = model.predict(x)\n",
        "  plot_images(prediction, input, tar)"
      ],
      "metadata": {
        "id": "A4i7pKRiW4fz"
      },
      "execution_count": 1289,
      "outputs": []
    },
    {
      "cell_type": "code",
      "source": [
        "val_iterator = iter(valid_dataset)"
      ],
      "metadata": {
        "id": "grtUfHifW6oq"
      },
      "execution_count": 1290,
      "outputs": []
    },
    {
      "cell_type": "code",
      "source": [
        "x,y = next(val_iterator)\n",
        "#pred = model.predict(x)\n",
        "generate_images(generator, x, y)"
      ],
      "metadata": {
        "colab": {
          "base_uri": "https://localhost:8080/",
          "height": 607
        },
        "id": "pQgf1IUXW8XS",
        "outputId": "f74939b7-f4b8-46f8-b396-0bbd853a58e8"
      },
      "execution_count": 1291,
      "outputs": [
        {
          "output_type": "display_data",
          "data": {
            "text/plain": [
              "<Figure size 1080x720 with 4 Axes>"
            ],
            "image/png": "[encoded data removed]"
          },
          "metadata": {
            "needs_background": "light"
          }
        }
      ]
    },
    {
      "cell_type": "code",
      "source": [
        "log_dir=\"/content/drive/MyDrive/Colab Notebooks/cboct_logs/\"\n",
        "print(datetime.datetime.now().strftime(\"%Y%m%d-%H%M%S\"))\n",
        "\n",
        "summary_writer = tf.summary.create_file_writer(\n",
        "  log_dir + \"onefrac_cGAN\" + datetime.datetime.now().strftime(\"%Y%m%d-%H%M%S\"))"
      ],
      "metadata": {
        "colab": {
          "base_uri": "https://localhost:8080/"
        },
        "id": "SWuP7L0MXCia",
        "outputId": "556df5ae-0446-418e-df38-ab77f8d3df3e"
      },
      "execution_count": 1292,
      "outputs": [
        {
          "output_type": "stream",
          "name": "stdout",
          "text": [
            "20221120-065744\n"
          ]
        }
      ]
    },
    {
      "cell_type": "code",
      "source": [
        "@tf.function\n",
        "def train_step(input_image, target, step):\n",
        "  with tf.GradientTape() as gen_tape, tf.GradientTape() as disc_tape:\n",
        "    gen_output = generator(input_image, training=True)\n",
        "\n",
        "    #disc_real_output = discriminator(target, training=True)\n",
        "    #disc_generated_output = discriminator(gen_output, training=True)\n",
        "\n",
        "    #disc_real_output = discriminator([input_image,target], training=True)\n",
        "    #disc_generated_output = discriminator([input_image,gen_output], training=True)\n",
        "\n",
        "    gen_l1_loss = generator_loss(gen_output, target)\n",
        "    #disc_loss = discriminator_loss(disc_real_output, disc_generated_output)\n",
        "\n",
        "  generator_gradients = gen_tape.gradient(gen_l1_loss,\n",
        "                                          generator.trainable_variables)\n",
        "  #discriminator_gradients = disc_tape.gradient(disc_loss,\n",
        "  #                                            discriminator.trainable_variables)\n",
        "\n",
        "  generator_optimizer.apply_gradients(zip(generator_gradients,\n",
        "                                          generator.trainable_variables))\n",
        "  #discriminator_optimizer.apply_gradients(zip(discriminator_gradients,\n",
        "  #                                            discriminator.trainable_variables))\n",
        "  if (step) % 1000 == 0:\n",
        "    tf.print(gen_l1_loss)\n",
        "\n",
        "  with summary_writer.as_default():\n",
        "    #tf.summary.scalar('gen_total_loss', gen_total_loss, step=step//500)\n",
        "    #tf.summary.scalar('gen_gan_loss', gen_gan_loss, step=step//500)\n",
        "    tf.summary.scalar('gen_l1_loss', gen_l1_loss, step=step//500)\n",
        "    #tf.summary.scalar('disc_loss', disc_loss, step=step//500)"
      ],
      "metadata": {
        "id": "yZ9v_ah_XiiL"
      },
      "execution_count": 1293,
      "outputs": []
    },
    {
      "cell_type": "code",
      "source": [
        "def fit(train_ds, test_ds, steps):\n",
        "  iterator = iter(test_ds.take(1))\n",
        "  example = next(iterator)\n",
        "  ex_input = example[0]\n",
        "  rtimg = example[1]\n",
        "  \n",
        "  #rtimg = tf.squeeze(rtimg, axis=0)\n",
        "  start = time.time()\n",
        "  for step, (input_obj) in train_ds.repeat().take(steps).enumerate():\n",
        "    if (step) % 1000 == 0:\n",
        "      display.clear_output(wait=True)\n",
        "\n",
        "      if step != 0:\n",
        "        print(f'Time taken for 1000 steps: {time.time()-start} sec\\n')\n",
        "        start = time.time()\n",
        "\n",
        "      generate_images(generator, ex_input, rtimg)\n",
        "      print(f\"Step: {step//1000}k\")\n",
        "\n",
        "    input = input_obj[0]\n",
        "    target = input_obj[1] \n",
        "    train_step(input, target, step)\n",
        "\n",
        "    # Training step\n",
        "    if (step+1) % 100 == 0:\n",
        "      print('.', end='', flush=True)\n",
        "\n",
        "\n",
        "    # Save (checkpoint) the model every 5k steps\n",
        "    if (step + 1) % 5000 == 0:\n",
        "      checkpoint.save(file_prefix=checkpoint_prefix)"
      ],
      "metadata": {
        "id": "xFrvIOnzXmdE"
      },
      "execution_count": 1294,
      "outputs": []
    },
    {
      "cell_type": "code",
      "source": [
        "fit(train_dataset, valid_dataset, steps=40000)"
      ],
      "metadata": {
        "colab": {
          "base_uri": "https://localhost:8080/",
          "height": 997
        },
        "id": "6F_Oe323XtNS",
        "outputId": "3d02ac8f-5018-4754-a300-d963e5d4535f"
      },
      "execution_count": 1295,
      "outputs": [
        {
          "output_type": "stream",
          "name": "stdout",
          "text": [
            "Time taken for 1000 steps: 12.072109937667847 sec\n",
            "\n"
          ]
        },
        {
          "output_type": "display_data",
          "data": {
            "text/plain": [
              "<Figure size 1080x720 with 4 Axes>"
            ],
            "image/png": "[encoded data removed]"
          },
          "metadata": {
            "needs_background": "light"
          }
        },
        {
          "output_type": "stream",
          "name": "stdout",
          "text": [
            "Step: 18k\n",
            "0.00369215081\n",
            "....."
          ]
        },
        {
          "output_type": "error",
          "ename": "KeyboardInterrupt",
          "evalue": "ignored",
          "traceback": [
            "\u001b[0;31m---------------------------------------------------------------------------\u001b[0m",
            "\u001b[0;31mKeyboardInterrupt\u001b[0m                         Traceback (most recent call last)",
            "\u001b[0;32m<ipython-input-1295-d5057663c1d2>\u001b[0m in \u001b[0;36m<module>\u001b[0;34m\u001b[0m\n\u001b[0;32m----> 1\u001b[0;31m \u001b[0mfit\u001b[0m\u001b[0;34m(\u001b[0m\u001b[0mtrain_dataset\u001b[0m\u001b[0;34m,\u001b[0m \u001b[0mvalid_dataset\u001b[0m\u001b[0;34m,\u001b[0m \u001b[0msteps\u001b[0m\u001b[0;34m=\u001b[0m\u001b[0;36m40000\u001b[0m\u001b[0;34m)\u001b[0m\u001b[0;34m\u001b[0m\u001b[0;34m\u001b[0m\u001b[0m\n\u001b[0m",
            "\u001b[0;32m<ipython-input-1294-41678bd87920>\u001b[0m in \u001b[0;36mfit\u001b[0;34m(train_ds, test_ds, steps)\u001b[0m\n\u001b[1;32m     20\u001b[0m     \u001b[0minput\u001b[0m \u001b[0;34m=\u001b[0m \u001b[0minput_obj\u001b[0m\u001b[0;34m[\u001b[0m\u001b[0;36m0\u001b[0m\u001b[0;34m]\u001b[0m\u001b[0;34m\u001b[0m\u001b[0;34m\u001b[0m\u001b[0m\n\u001b[1;32m     21\u001b[0m     \u001b[0mtarget\u001b[0m \u001b[0;34m=\u001b[0m \u001b[0minput_obj\u001b[0m\u001b[0;34m[\u001b[0m\u001b[0;36m1\u001b[0m\u001b[0;34m]\u001b[0m\u001b[0;34m\u001b[0m\u001b[0;34m\u001b[0m\u001b[0m\n\u001b[0;32m---> 22\u001b[0;31m     \u001b[0mtrain_step\u001b[0m\u001b[0;34m(\u001b[0m\u001b[0minput\u001b[0m\u001b[0;34m,\u001b[0m \u001b[0mtarget\u001b[0m\u001b[0;34m,\u001b[0m \u001b[0mstep\u001b[0m\u001b[0;34m)\u001b[0m\u001b[0;34m\u001b[0m\u001b[0;34m\u001b[0m\u001b[0m\n\u001b[0m\u001b[1;32m     23\u001b[0m \u001b[0;34m\u001b[0m\u001b[0m\n\u001b[1;32m     24\u001b[0m     \u001b[0;31m# Training step\u001b[0m\u001b[0;34m\u001b[0m\u001b[0;34m\u001b[0m\u001b[0;34m\u001b[0m\u001b[0m\n",
            "\u001b[0;32m/usr/local/lib/python3.7/dist-packages/tensorflow/python/util/traceback_utils.py\u001b[0m in \u001b[0;36merror_handler\u001b[0;34m(*args, **kwargs)\u001b[0m\n\u001b[1;32m    148\u001b[0m     \u001b[0mfiltered_tb\u001b[0m \u001b[0;34m=\u001b[0m \u001b[0;32mNone\u001b[0m\u001b[0;34m\u001b[0m\u001b[0;34m\u001b[0m\u001b[0m\n\u001b[1;32m    149\u001b[0m     \u001b[0;32mtry\u001b[0m\u001b[0;34m:\u001b[0m\u001b[0;34m\u001b[0m\u001b[0;34m\u001b[0m\u001b[0m\n\u001b[0;32m--> 150\u001b[0;31m       \u001b[0;32mreturn\u001b[0m \u001b[0mfn\u001b[0m\u001b[0;34m(\u001b[0m\u001b[0;34m*\u001b[0m\u001b[0margs\u001b[0m\u001b[0;34m,\u001b[0m \u001b[0;34m**\u001b[0m\u001b[0mkwargs\u001b[0m\u001b[0;34m)\u001b[0m\u001b[0;34m\u001b[0m\u001b[0;34m\u001b[0m\u001b[0m\n\u001b[0m\u001b[1;32m    151\u001b[0m     \u001b[0;32mexcept\u001b[0m \u001b[0mException\u001b[0m \u001b[0;32mas\u001b[0m \u001b[0me\u001b[0m\u001b[0;34m:\u001b[0m\u001b[0;34m\u001b[0m\u001b[0;34m\u001b[0m\u001b[0m\n\u001b[1;32m    152\u001b[0m       \u001b[0mfiltered_tb\u001b[0m \u001b[0;34m=\u001b[0m \u001b[0m_process_traceback_frames\u001b[0m\u001b[0;34m(\u001b[0m\u001b[0me\u001b[0m\u001b[0;34m.\u001b[0m\u001b[0m__traceback__\u001b[0m\u001b[0;34m)\u001b[0m\u001b[0;34m\u001b[0m\u001b[0;34m\u001b[0m\u001b[0m\n",
            "\u001b[0;32m/usr/local/lib/python3.7/dist-packages/tensorflow/python/eager/def_function.py\u001b[0m in \u001b[0;36m__call__\u001b[0;34m(self, *args, **kwds)\u001b[0m\n\u001b[1;32m    913\u001b[0m \u001b[0;34m\u001b[0m\u001b[0m\n\u001b[1;32m    914\u001b[0m       \u001b[0;32mwith\u001b[0m \u001b[0mOptionalXlaContext\u001b[0m\u001b[0;34m(\u001b[0m\u001b[0mself\u001b[0m\u001b[0;34m.\u001b[0m\u001b[0m_jit_compile\u001b[0m\u001b[0;34m)\u001b[0m\u001b[0;34m:\u001b[0m\u001b[0;34m\u001b[0m\u001b[0;34m\u001b[0m\u001b[0m\n\u001b[0;32m--> 915\u001b[0;31m         \u001b[0mresult\u001b[0m \u001b[0;34m=\u001b[0m \u001b[0mself\u001b[0m\u001b[0;34m.\u001b[0m\u001b[0m_call\u001b[0m\u001b[0;34m(\u001b[0m\u001b[0;34m*\u001b[0m\u001b[0margs\u001b[0m\u001b[0;34m,\u001b[0m \u001b[0;34m**\u001b[0m\u001b[0mkwds\u001b[0m\u001b[0;34m)\u001b[0m\u001b[0;34m\u001b[0m\u001b[0;34m\u001b[0m\u001b[0m\n\u001b[0m\u001b[1;32m    916\u001b[0m \u001b[0;34m\u001b[0m\u001b[0m\n\u001b[1;32m    917\u001b[0m       \u001b[0mnew_tracing_count\u001b[0m \u001b[0;34m=\u001b[0m \u001b[0mself\u001b[0m\u001b[0;34m.\u001b[0m\u001b[0mexperimental_get_tracing_count\u001b[0m\u001b[0;34m(\u001b[0m\u001b[0;34m)\u001b[0m\u001b[0;34m\u001b[0m\u001b[0;34m\u001b[0m\u001b[0m\n",
            "\u001b[0;32m/usr/local/lib/python3.7/dist-packages/tensorflow/python/eager/def_function.py\u001b[0m in \u001b[0;36m_call\u001b[0;34m(self, *args, **kwds)\u001b[0m\n\u001b[1;32m    945\u001b[0m       \u001b[0;31m# In this case we have created variables on the first call, so we run the\u001b[0m\u001b[0;34m\u001b[0m\u001b[0;34m\u001b[0m\u001b[0;34m\u001b[0m\u001b[0m\n\u001b[1;32m    946\u001b[0m       \u001b[0;31m# defunned version which is guaranteed to never create variables.\u001b[0m\u001b[0;34m\u001b[0m\u001b[0;34m\u001b[0m\u001b[0;34m\u001b[0m\u001b[0m\n\u001b[0;32m--> 947\u001b[0;31m       \u001b[0;32mreturn\u001b[0m \u001b[0mself\u001b[0m\u001b[0;34m.\u001b[0m\u001b[0m_stateless_fn\u001b[0m\u001b[0;34m(\u001b[0m\u001b[0;34m*\u001b[0m\u001b[0margs\u001b[0m\u001b[0;34m,\u001b[0m \u001b[0;34m**\u001b[0m\u001b[0mkwds\u001b[0m\u001b[0;34m)\u001b[0m  \u001b[0;31m# pylint: disable=not-callable\u001b[0m\u001b[0;34m\u001b[0m\u001b[0;34m\u001b[0m\u001b[0m\n\u001b[0m\u001b[1;32m    948\u001b[0m     \u001b[0;32melif\u001b[0m \u001b[0mself\u001b[0m\u001b[0;34m.\u001b[0m\u001b[0m_stateful_fn\u001b[0m \u001b[0;32mis\u001b[0m \u001b[0;32mnot\u001b[0m \u001b[0;32mNone\u001b[0m\u001b[0;34m:\u001b[0m\u001b[0;34m\u001b[0m\u001b[0;34m\u001b[0m\u001b[0m\n\u001b[1;32m    949\u001b[0m       \u001b[0;31m# Release the lock early so that multiple threads can perform the call\u001b[0m\u001b[0;34m\u001b[0m\u001b[0;34m\u001b[0m\u001b[0;34m\u001b[0m\u001b[0m\n",
            "\u001b[0;32m/usr/local/lib/python3.7/dist-packages/tensorflow/python/eager/function.py\u001b[0m in \u001b[0;36m__call__\u001b[0;34m(self, *args, **kwargs)\u001b[0m\n\u001b[1;32m   2452\u001b[0m        filtered_flat_args) = self._maybe_define_function(args, kwargs)\n\u001b[1;32m   2453\u001b[0m     return graph_function._call_flat(\n\u001b[0;32m-> 2454\u001b[0;31m         filtered_flat_args, captured_inputs=graph_function.captured_inputs)  # pylint: disable=protected-access\n\u001b[0m\u001b[1;32m   2455\u001b[0m \u001b[0;34m\u001b[0m\u001b[0m\n\u001b[1;32m   2456\u001b[0m   \u001b[0;34m@\u001b[0m\u001b[0mproperty\u001b[0m\u001b[0;34m\u001b[0m\u001b[0;34m\u001b[0m\u001b[0m\n",
            "\u001b[0;32m/usr/local/lib/python3.7/dist-packages/tensorflow/python/eager/function.py\u001b[0m in \u001b[0;36m_call_flat\u001b[0;34m(self, args, captured_inputs, cancellation_manager)\u001b[0m\n\u001b[1;32m   1859\u001b[0m       \u001b[0;31m# No tape is watching; skip to running the function.\u001b[0m\u001b[0;34m\u001b[0m\u001b[0;34m\u001b[0m\u001b[0;34m\u001b[0m\u001b[0m\n\u001b[1;32m   1860\u001b[0m       return self._build_call_outputs(self._inference_function.call(\n\u001b[0;32m-> 1861\u001b[0;31m           ctx, args, cancellation_manager=cancellation_manager))\n\u001b[0m\u001b[1;32m   1862\u001b[0m     forward_backward = self._select_forward_and_backward_functions(\n\u001b[1;32m   1863\u001b[0m         \u001b[0margs\u001b[0m\u001b[0;34m,\u001b[0m\u001b[0;34m\u001b[0m\u001b[0;34m\u001b[0m\u001b[0m\n",
            "\u001b[0;32m/usr/local/lib/python3.7/dist-packages/tensorflow/python/eager/function.py\u001b[0m in \u001b[0;36mcall\u001b[0;34m(self, ctx, args, cancellation_manager)\u001b[0m\n\u001b[1;32m    500\u001b[0m               \u001b[0minputs\u001b[0m\u001b[0;34m=\u001b[0m\u001b[0margs\u001b[0m\u001b[0;34m,\u001b[0m\u001b[0;34m\u001b[0m\u001b[0;34m\u001b[0m\u001b[0m\n\u001b[1;32m    501\u001b[0m               \u001b[0mattrs\u001b[0m\u001b[0;34m=\u001b[0m\u001b[0mattrs\u001b[0m\u001b[0;34m,\u001b[0m\u001b[0;34m\u001b[0m\u001b[0;34m\u001b[0m\u001b[0m\n\u001b[0;32m--> 502\u001b[0;31m               ctx=ctx)\n\u001b[0m\u001b[1;32m    503\u001b[0m         \u001b[0;32melse\u001b[0m\u001b[0;34m:\u001b[0m\u001b[0;34m\u001b[0m\u001b[0;34m\u001b[0m\u001b[0m\n\u001b[1;32m    504\u001b[0m           outputs = execute.execute_with_cancellation(\n",
            "\u001b[0;32m/usr/local/lib/python3.7/dist-packages/tensorflow/python/eager/execute.py\u001b[0m in \u001b[0;36mquick_execute\u001b[0;34m(op_name, num_outputs, inputs, attrs, ctx, name)\u001b[0m\n\u001b[1;32m     53\u001b[0m     \u001b[0mctx\u001b[0m\u001b[0;34m.\u001b[0m\u001b[0mensure_initialized\u001b[0m\u001b[0;34m(\u001b[0m\u001b[0;34m)\u001b[0m\u001b[0;34m\u001b[0m\u001b[0;34m\u001b[0m\u001b[0m\n\u001b[1;32m     54\u001b[0m     tensors = pywrap_tfe.TFE_Py_Execute(ctx._handle, device_name, op_name,\n\u001b[0;32m---> 55\u001b[0;31m                                         inputs, attrs, num_outputs)\n\u001b[0m\u001b[1;32m     56\u001b[0m   \u001b[0;32mexcept\u001b[0m \u001b[0mcore\u001b[0m\u001b[0;34m.\u001b[0m\u001b[0m_NotOkStatusException\u001b[0m \u001b[0;32mas\u001b[0m \u001b[0me\u001b[0m\u001b[0;34m:\u001b[0m\u001b[0;34m\u001b[0m\u001b[0;34m\u001b[0m\u001b[0m\n\u001b[1;32m     57\u001b[0m     \u001b[0;32mif\u001b[0m \u001b[0mname\u001b[0m \u001b[0;32mis\u001b[0m \u001b[0;32mnot\u001b[0m \u001b[0;32mNone\u001b[0m\u001b[0;34m:\u001b[0m\u001b[0;34m\u001b[0m\u001b[0;34m\u001b[0m\u001b[0m\n",
            "\u001b[0;31mKeyboardInterrupt\u001b[0m: "
          ]
        }
      ]
    },
    {
      "cell_type": "code",
      "source": [
        "mae = tf.keras.metrics.MeanAbsoluteError()\n",
        "mae_loss = tf.keras.losses.MeanAbsoluteError()\n",
        "#mae_loss = CustomWeigthed() "
      ],
      "metadata": {
        "id": "Q56m3Zf2UwzB"
      },
      "execution_count": null,
      "outputs": []
    },
    {
      "cell_type": "code",
      "source": [
        "epochs = 81\n",
        "train_gen = train_dataset\n",
        "val_gen = valid_dataset\n",
        "#train_gen = data_generators['train']\n",
        "#val_gen = data_generators['validation']\n",
        "dilation_kernel = 3\n",
        "scatter = True\n",
        "add_half = False\n",
        "\n",
        "for lr in [5.0521e-3]:\n",
        "  generator = GeneratorAVE(pool=4,start_neurons=8)\n",
        "  #generator = GeneratorDCNN()\n",
        "  #generator = GeneratorE3(size=4, layers=7, filters_start=4, double_layers=4, add_unet=True, max_filters=64) \n",
        "  #generator = GeneratorB(size=4, layers=7, filters_start=4, double_layers=4)\n",
        "  tensorboard_output = \"/content/drive/MyDrive/Colab Notebooks/logs_CB/testphan\"\n",
        "  print(tensorboard_output)\n",
        "        \n",
        "  if not os.path.exists(tensorboard_output):\n",
        "    os.makedirs(tensorboard_output)\n",
        "  else:\n",
        "    print(\"bah\")\n",
        "    #continue\n",
        "  tensorboard = tf.keras.callbacks.TensorBoard(log_dir=tensorboard_output,\n",
        "                                                      profile_batch=0,\n",
        "                                                      write_graph=False)\n",
        "  generator.compile(optimizer=tf.keras.optimizers.Adam(lr, beta_1=0.5),\n",
        "                          loss=mae_loss, metrics=[mae])\n",
        "  print(len(train_gen))\n",
        "  generator.fit(train_gen, steps_per_epoch=len(train_gen),\n",
        "                      validation_data=val_gen, epochs=epochs, validation_freq=5,\n",
        "                      validation_steps=len(val_gen), callbacks=[tensorboard])\n",
        "  generator.save(os.path.join(tensorboard_output, 'final_model.h5'))"
      ],
      "metadata": {
        "id": "XXLhrV9iU3JB",
        "colab": {
          "base_uri": "https://localhost:8080/",
          "height": 1000
        },
        "outputId": "5b9d4c8a-38e7-4f4c-a2c3-c768dafe87be"
      },
      "execution_count": 1216,
      "outputs": [
        {
          "output_type": "stream",
          "name": "stdout",
          "text": [
            "/content/drive/MyDrive/Colab Notebooks/logs_CB/testphan\n",
            "bah\n",
            "206\n",
            "Epoch 1/81\n",
            "206/206 [==============================] - 4s 11ms/step - loss: 0.0187 - mean_absolute_error: 0.0187\n",
            "Epoch 2/81\n",
            "206/206 [==============================] - 2s 11ms/step - loss: 0.0186 - mean_absolute_error: 0.0186\n",
            "Epoch 3/81\n",
            "206/206 [==============================] - 2s 11ms/step - loss: 0.0186 - mean_absolute_error: 0.0186\n",
            "Epoch 4/81\n",
            "206/206 [==============================] - 2s 11ms/step - loss: 0.0186 - mean_absolute_error: 0.0186\n",
            "Epoch 5/81\n",
            "206/206 [==============================] - 3s 14ms/step - loss: 0.0186 - mean_absolute_error: 0.0186 - val_loss: 0.0240 - val_mean_absolute_error: 0.0240\n",
            "Epoch 6/81\n",
            "206/206 [==============================] - 2s 11ms/step - loss: 0.0186 - mean_absolute_error: 0.0186\n",
            "Epoch 7/81\n",
            "206/206 [==============================] - 2s 11ms/step - loss: 0.0186 - mean_absolute_error: 0.0186\n",
            "Epoch 8/81\n",
            "206/206 [==============================] - 2s 11ms/step - loss: 0.0226 - mean_absolute_error: 0.0226\n",
            "Epoch 9/81\n",
            "206/206 [==============================] - 2s 10ms/step - loss: 0.0186 - mean_absolute_error: 0.0186\n",
            "Epoch 10/81\n",
            "206/206 [==============================] - 3s 12ms/step - loss: 0.0186 - mean_absolute_error: 0.0186 - val_loss: 0.0240 - val_mean_absolute_error: 0.0240\n",
            "Epoch 11/81\n",
            "206/206 [==============================] - 2s 11ms/step - loss: 0.0186 - mean_absolute_error: 0.0186\n",
            "Epoch 12/81\n",
            "206/206 [==============================] - 2s 11ms/step - loss: 0.0186 - mean_absolute_error: 0.0186\n",
            "Epoch 13/81\n",
            "206/206 [==============================] - 2s 10ms/step - loss: 0.0186 - mean_absolute_error: 0.0186\n",
            "Epoch 14/81\n",
            "206/206 [==============================] - 2s 10ms/step - loss: 0.0186 - mean_absolute_error: 0.0186\n",
            "Epoch 15/81\n",
            "206/206 [==============================] - 3s 12ms/step - loss: 0.0186 - mean_absolute_error: 0.0186 - val_loss: 0.0240 - val_mean_absolute_error: 0.0240\n",
            "Epoch 16/81\n",
            "206/206 [==============================] - 2s 10ms/step - loss: 0.0186 - mean_absolute_error: 0.0186\n",
            "Epoch 17/81\n",
            "206/206 [==============================] - 2s 10ms/step - loss: 0.0186 - mean_absolute_error: 0.0186\n",
            "Epoch 18/81\n",
            "206/206 [==============================] - 2s 10ms/step - loss: 0.0186 - mean_absolute_error: 0.0186\n",
            "Epoch 19/81\n",
            "206/206 [==============================] - 2s 10ms/step - loss: 0.0186 - mean_absolute_error: 0.0186\n",
            "Epoch 20/81\n",
            "206/206 [==============================] - 2s 12ms/step - loss: 0.0186 - mean_absolute_error: 0.0186 - val_loss: 0.0240 - val_mean_absolute_error: 0.0240\n",
            "Epoch 21/81\n",
            "206/206 [==============================] - 2s 10ms/step - loss: 0.0186 - mean_absolute_error: 0.0186\n",
            "Epoch 22/81\n",
            "206/206 [==============================] - 2s 10ms/step - loss: 0.0186 - mean_absolute_error: 0.0186\n",
            "Epoch 23/81\n",
            "206/206 [==============================] - 2s 10ms/step - loss: 0.0186 - mean_absolute_error: 0.0186\n",
            "Epoch 24/81\n",
            "146/206 [====================>.........] - ETA: 0s - loss: 0.0177 - mean_absolute_error: 0.0177"
          ]
        },
        {
          "output_type": "error",
          "ename": "KeyboardInterrupt",
          "evalue": "ignored",
          "traceback": [
            "\u001b[0;31m---------------------------------------------------------------------------\u001b[0m",
            "\u001b[0;31mKeyboardInterrupt\u001b[0m                         Traceback (most recent call last)",
            "\u001b[0;32m<ipython-input-1216-15da89a8eb6a>\u001b[0m in \u001b[0;36m<module>\u001b[0;34m\u001b[0m\n\u001b[1;32m     29\u001b[0m   generator.fit(train_gen, steps_per_epoch=len(train_gen),\n\u001b[1;32m     30\u001b[0m                       \u001b[0mvalidation_data\u001b[0m\u001b[0;34m=\u001b[0m\u001b[0mval_gen\u001b[0m\u001b[0;34m,\u001b[0m \u001b[0mepochs\u001b[0m\u001b[0;34m=\u001b[0m\u001b[0mepochs\u001b[0m\u001b[0;34m,\u001b[0m \u001b[0mvalidation_freq\u001b[0m\u001b[0;34m=\u001b[0m\u001b[0;36m5\u001b[0m\u001b[0;34m,\u001b[0m\u001b[0;34m\u001b[0m\u001b[0;34m\u001b[0m\u001b[0m\n\u001b[0;32m---> 31\u001b[0;31m                       validation_steps=len(val_gen), callbacks=[tensorboard])\n\u001b[0m\u001b[1;32m     32\u001b[0m   \u001b[0mgenerator\u001b[0m\u001b[0;34m.\u001b[0m\u001b[0msave\u001b[0m\u001b[0;34m(\u001b[0m\u001b[0mos\u001b[0m\u001b[0;34m.\u001b[0m\u001b[0mpath\u001b[0m\u001b[0;34m.\u001b[0m\u001b[0mjoin\u001b[0m\u001b[0;34m(\u001b[0m\u001b[0mtensorboard_output\u001b[0m\u001b[0;34m,\u001b[0m \u001b[0;34m'final_model.h5'\u001b[0m\u001b[0;34m)\u001b[0m\u001b[0;34m)\u001b[0m\u001b[0;34m\u001b[0m\u001b[0;34m\u001b[0m\u001b[0m\n",
            "\u001b[0;32m/usr/local/lib/python3.7/dist-packages/keras/utils/traceback_utils.py\u001b[0m in \u001b[0;36merror_handler\u001b[0;34m(*args, **kwargs)\u001b[0m\n\u001b[1;32m     62\u001b[0m     \u001b[0mfiltered_tb\u001b[0m \u001b[0;34m=\u001b[0m \u001b[0;32mNone\u001b[0m\u001b[0;34m\u001b[0m\u001b[0;34m\u001b[0m\u001b[0m\n\u001b[1;32m     63\u001b[0m     \u001b[0;32mtry\u001b[0m\u001b[0;34m:\u001b[0m\u001b[0;34m\u001b[0m\u001b[0;34m\u001b[0m\u001b[0m\n\u001b[0;32m---> 64\u001b[0;31m       \u001b[0;32mreturn\u001b[0m \u001b[0mfn\u001b[0m\u001b[0;34m(\u001b[0m\u001b[0;34m*\u001b[0m\u001b[0margs\u001b[0m\u001b[0;34m,\u001b[0m \u001b[0;34m**\u001b[0m\u001b[0mkwargs\u001b[0m\u001b[0;34m)\u001b[0m\u001b[0;34m\u001b[0m\u001b[0;34m\u001b[0m\u001b[0m\n\u001b[0m\u001b[1;32m     65\u001b[0m     \u001b[0;32mexcept\u001b[0m \u001b[0mException\u001b[0m \u001b[0;32mas\u001b[0m \u001b[0me\u001b[0m\u001b[0;34m:\u001b[0m  \u001b[0;31m# pylint: disable=broad-except\u001b[0m\u001b[0;34m\u001b[0m\u001b[0;34m\u001b[0m\u001b[0m\n\u001b[1;32m     66\u001b[0m       \u001b[0mfiltered_tb\u001b[0m \u001b[0;34m=\u001b[0m \u001b[0m_process_traceback_frames\u001b[0m\u001b[0;34m(\u001b[0m\u001b[0me\u001b[0m\u001b[0;34m.\u001b[0m\u001b[0m__traceback__\u001b[0m\u001b[0;34m)\u001b[0m\u001b[0;34m\u001b[0m\u001b[0;34m\u001b[0m\u001b[0m\n",
            "\u001b[0;32m/usr/local/lib/python3.7/dist-packages/keras/engine/training.py\u001b[0m in \u001b[0;36mfit\u001b[0;34m(self, x, y, batch_size, epochs, verbose, callbacks, validation_split, validation_data, shuffle, class_weight, sample_weight, initial_epoch, steps_per_epoch, validation_steps, validation_batch_size, validation_freq, max_queue_size, workers, use_multiprocessing)\u001b[0m\n\u001b[1;32m   1407\u001b[0m                 _r=1):\n\u001b[1;32m   1408\u001b[0m               \u001b[0mcallbacks\u001b[0m\u001b[0;34m.\u001b[0m\u001b[0mon_train_batch_begin\u001b[0m\u001b[0;34m(\u001b[0m\u001b[0mstep\u001b[0m\u001b[0;34m)\u001b[0m\u001b[0;34m\u001b[0m\u001b[0;34m\u001b[0m\u001b[0m\n\u001b[0;32m-> 1409\u001b[0;31m               \u001b[0mtmp_logs\u001b[0m \u001b[0;34m=\u001b[0m \u001b[0mself\u001b[0m\u001b[0;34m.\u001b[0m\u001b[0mtrain_function\u001b[0m\u001b[0;34m(\u001b[0m\u001b[0miterator\u001b[0m\u001b[0;34m)\u001b[0m\u001b[0;34m\u001b[0m\u001b[0;34m\u001b[0m\u001b[0m\n\u001b[0m\u001b[1;32m   1410\u001b[0m               \u001b[0;32mif\u001b[0m \u001b[0mdata_handler\u001b[0m\u001b[0;34m.\u001b[0m\u001b[0mshould_sync\u001b[0m\u001b[0;34m:\u001b[0m\u001b[0;34m\u001b[0m\u001b[0;34m\u001b[0m\u001b[0m\n\u001b[1;32m   1411\u001b[0m                 \u001b[0mcontext\u001b[0m\u001b[0;34m.\u001b[0m\u001b[0masync_wait\u001b[0m\u001b[0;34m(\u001b[0m\u001b[0;34m)\u001b[0m\u001b[0;34m\u001b[0m\u001b[0;34m\u001b[0m\u001b[0m\n",
            "\u001b[0;32m/usr/local/lib/python3.7/dist-packages/tensorflow/python/util/traceback_utils.py\u001b[0m in \u001b[0;36merror_handler\u001b[0;34m(*args, **kwargs)\u001b[0m\n\u001b[1;32m    148\u001b[0m     \u001b[0mfiltered_tb\u001b[0m \u001b[0;34m=\u001b[0m \u001b[0;32mNone\u001b[0m\u001b[0;34m\u001b[0m\u001b[0;34m\u001b[0m\u001b[0m\n\u001b[1;32m    149\u001b[0m     \u001b[0;32mtry\u001b[0m\u001b[0;34m:\u001b[0m\u001b[0;34m\u001b[0m\u001b[0;34m\u001b[0m\u001b[0m\n\u001b[0;32m--> 150\u001b[0;31m       \u001b[0;32mreturn\u001b[0m \u001b[0mfn\u001b[0m\u001b[0;34m(\u001b[0m\u001b[0;34m*\u001b[0m\u001b[0margs\u001b[0m\u001b[0;34m,\u001b[0m \u001b[0;34m**\u001b[0m\u001b[0mkwargs\u001b[0m\u001b[0;34m)\u001b[0m\u001b[0;34m\u001b[0m\u001b[0;34m\u001b[0m\u001b[0m\n\u001b[0m\u001b[1;32m    151\u001b[0m     \u001b[0;32mexcept\u001b[0m \u001b[0mException\u001b[0m \u001b[0;32mas\u001b[0m \u001b[0me\u001b[0m\u001b[0;34m:\u001b[0m\u001b[0;34m\u001b[0m\u001b[0;34m\u001b[0m\u001b[0m\n\u001b[1;32m    152\u001b[0m       \u001b[0mfiltered_tb\u001b[0m \u001b[0;34m=\u001b[0m \u001b[0m_process_traceback_frames\u001b[0m\u001b[0;34m(\u001b[0m\u001b[0me\u001b[0m\u001b[0;34m.\u001b[0m\u001b[0m__traceback__\u001b[0m\u001b[0;34m)\u001b[0m\u001b[0;34m\u001b[0m\u001b[0;34m\u001b[0m\u001b[0m\n",
            "\u001b[0;32m/usr/local/lib/python3.7/dist-packages/tensorflow/python/eager/def_function.py\u001b[0m in \u001b[0;36m__call__\u001b[0;34m(self, *args, **kwds)\u001b[0m\n\u001b[1;32m    913\u001b[0m \u001b[0;34m\u001b[0m\u001b[0m\n\u001b[1;32m    914\u001b[0m       \u001b[0;32mwith\u001b[0m \u001b[0mOptionalXlaContext\u001b[0m\u001b[0;34m(\u001b[0m\u001b[0mself\u001b[0m\u001b[0;34m.\u001b[0m\u001b[0m_jit_compile\u001b[0m\u001b[0;34m)\u001b[0m\u001b[0;34m:\u001b[0m\u001b[0;34m\u001b[0m\u001b[0;34m\u001b[0m\u001b[0m\n\u001b[0;32m--> 915\u001b[0;31m         \u001b[0mresult\u001b[0m \u001b[0;34m=\u001b[0m \u001b[0mself\u001b[0m\u001b[0;34m.\u001b[0m\u001b[0m_call\u001b[0m\u001b[0;34m(\u001b[0m\u001b[0;34m*\u001b[0m\u001b[0margs\u001b[0m\u001b[0;34m,\u001b[0m \u001b[0;34m**\u001b[0m\u001b[0mkwds\u001b[0m\u001b[0;34m)\u001b[0m\u001b[0;34m\u001b[0m\u001b[0;34m\u001b[0m\u001b[0m\n\u001b[0m\u001b[1;32m    916\u001b[0m \u001b[0;34m\u001b[0m\u001b[0m\n\u001b[1;32m    917\u001b[0m       \u001b[0mnew_tracing_count\u001b[0m \u001b[0;34m=\u001b[0m \u001b[0mself\u001b[0m\u001b[0;34m.\u001b[0m\u001b[0mexperimental_get_tracing_count\u001b[0m\u001b[0;34m(\u001b[0m\u001b[0;34m)\u001b[0m\u001b[0;34m\u001b[0m\u001b[0;34m\u001b[0m\u001b[0m\n",
            "\u001b[0;32m/usr/local/lib/python3.7/dist-packages/tensorflow/python/eager/def_function.py\u001b[0m in \u001b[0;36m_call\u001b[0;34m(self, *args, **kwds)\u001b[0m\n\u001b[1;32m    945\u001b[0m       \u001b[0;31m# In this case we have created variables on the first call, so we run the\u001b[0m\u001b[0;34m\u001b[0m\u001b[0;34m\u001b[0m\u001b[0;34m\u001b[0m\u001b[0m\n\u001b[1;32m    946\u001b[0m       \u001b[0;31m# defunned version which is guaranteed to never create variables.\u001b[0m\u001b[0;34m\u001b[0m\u001b[0;34m\u001b[0m\u001b[0;34m\u001b[0m\u001b[0m\n\u001b[0;32m--> 947\u001b[0;31m       \u001b[0;32mreturn\u001b[0m \u001b[0mself\u001b[0m\u001b[0;34m.\u001b[0m\u001b[0m_stateless_fn\u001b[0m\u001b[0;34m(\u001b[0m\u001b[0;34m*\u001b[0m\u001b[0margs\u001b[0m\u001b[0;34m,\u001b[0m \u001b[0;34m**\u001b[0m\u001b[0mkwds\u001b[0m\u001b[0;34m)\u001b[0m  \u001b[0;31m# pylint: disable=not-callable\u001b[0m\u001b[0;34m\u001b[0m\u001b[0;34m\u001b[0m\u001b[0m\n\u001b[0m\u001b[1;32m    948\u001b[0m     \u001b[0;32melif\u001b[0m \u001b[0mself\u001b[0m\u001b[0;34m.\u001b[0m\u001b[0m_stateful_fn\u001b[0m \u001b[0;32mis\u001b[0m \u001b[0;32mnot\u001b[0m \u001b[0;32mNone\u001b[0m\u001b[0;34m:\u001b[0m\u001b[0;34m\u001b[0m\u001b[0;34m\u001b[0m\u001b[0m\n\u001b[1;32m    949\u001b[0m       \u001b[0;31m# Release the lock early so that multiple threads can perform the call\u001b[0m\u001b[0;34m\u001b[0m\u001b[0;34m\u001b[0m\u001b[0;34m\u001b[0m\u001b[0m\n",
            "\u001b[0;32m/usr/local/lib/python3.7/dist-packages/tensorflow/python/eager/function.py\u001b[0m in \u001b[0;36m__call__\u001b[0;34m(self, *args, **kwargs)\u001b[0m\n\u001b[1;32m   2452\u001b[0m        filtered_flat_args) = self._maybe_define_function(args, kwargs)\n\u001b[1;32m   2453\u001b[0m     return graph_function._call_flat(\n\u001b[0;32m-> 2454\u001b[0;31m         filtered_flat_args, captured_inputs=graph_function.captured_inputs)  # pylint: disable=protected-access\n\u001b[0m\u001b[1;32m   2455\u001b[0m \u001b[0;34m\u001b[0m\u001b[0m\n\u001b[1;32m   2456\u001b[0m   \u001b[0;34m@\u001b[0m\u001b[0mproperty\u001b[0m\u001b[0;34m\u001b[0m\u001b[0;34m\u001b[0m\u001b[0m\n",
            "\u001b[0;32m/usr/local/lib/python3.7/dist-packages/tensorflow/python/eager/function.py\u001b[0m in \u001b[0;36m_call_flat\u001b[0;34m(self, args, captured_inputs, cancellation_manager)\u001b[0m\n\u001b[1;32m   1859\u001b[0m       \u001b[0;31m# No tape is watching; skip to running the function.\u001b[0m\u001b[0;34m\u001b[0m\u001b[0;34m\u001b[0m\u001b[0;34m\u001b[0m\u001b[0m\n\u001b[1;32m   1860\u001b[0m       return self._build_call_outputs(self._inference_function.call(\n\u001b[0;32m-> 1861\u001b[0;31m           ctx, args, cancellation_manager=cancellation_manager))\n\u001b[0m\u001b[1;32m   1862\u001b[0m     forward_backward = self._select_forward_and_backward_functions(\n\u001b[1;32m   1863\u001b[0m         \u001b[0margs\u001b[0m\u001b[0;34m,\u001b[0m\u001b[0;34m\u001b[0m\u001b[0;34m\u001b[0m\u001b[0m\n",
            "\u001b[0;32m/usr/local/lib/python3.7/dist-packages/tensorflow/python/eager/function.py\u001b[0m in \u001b[0;36mcall\u001b[0;34m(self, ctx, args, cancellation_manager)\u001b[0m\n\u001b[1;32m    500\u001b[0m               \u001b[0minputs\u001b[0m\u001b[0;34m=\u001b[0m\u001b[0margs\u001b[0m\u001b[0;34m,\u001b[0m\u001b[0;34m\u001b[0m\u001b[0;34m\u001b[0m\u001b[0m\n\u001b[1;32m    501\u001b[0m               \u001b[0mattrs\u001b[0m\u001b[0;34m=\u001b[0m\u001b[0mattrs\u001b[0m\u001b[0;34m,\u001b[0m\u001b[0;34m\u001b[0m\u001b[0;34m\u001b[0m\u001b[0m\n\u001b[0;32m--> 502\u001b[0;31m               ctx=ctx)\n\u001b[0m\u001b[1;32m    503\u001b[0m         \u001b[0;32melse\u001b[0m\u001b[0;34m:\u001b[0m\u001b[0;34m\u001b[0m\u001b[0;34m\u001b[0m\u001b[0m\n\u001b[1;32m    504\u001b[0m           outputs = execute.execute_with_cancellation(\n",
            "\u001b[0;32m/usr/local/lib/python3.7/dist-packages/tensorflow/python/eager/execute.py\u001b[0m in \u001b[0;36mquick_execute\u001b[0;34m(op_name, num_outputs, inputs, attrs, ctx, name)\u001b[0m\n\u001b[1;32m     53\u001b[0m     \u001b[0mctx\u001b[0m\u001b[0;34m.\u001b[0m\u001b[0mensure_initialized\u001b[0m\u001b[0;34m(\u001b[0m\u001b[0;34m)\u001b[0m\u001b[0;34m\u001b[0m\u001b[0;34m\u001b[0m\u001b[0m\n\u001b[1;32m     54\u001b[0m     tensors = pywrap_tfe.TFE_Py_Execute(ctx._handle, device_name, op_name,\n\u001b[0;32m---> 55\u001b[0;31m                                         inputs, attrs, num_outputs)\n\u001b[0m\u001b[1;32m     56\u001b[0m   \u001b[0;32mexcept\u001b[0m \u001b[0mcore\u001b[0m\u001b[0;34m.\u001b[0m\u001b[0m_NotOkStatusException\u001b[0m \u001b[0;32mas\u001b[0m \u001b[0me\u001b[0m\u001b[0;34m:\u001b[0m\u001b[0;34m\u001b[0m\u001b[0;34m\u001b[0m\u001b[0m\n\u001b[1;32m     57\u001b[0m     \u001b[0;32mif\u001b[0m \u001b[0mname\u001b[0m \u001b[0;32mis\u001b[0m \u001b[0;32mnot\u001b[0m \u001b[0;32mNone\u001b[0m\u001b[0;34m:\u001b[0m\u001b[0;34m\u001b[0m\u001b[0;34m\u001b[0m\u001b[0m\n",
            "\u001b[0;31mKeyboardInterrupt\u001b[0m: "
          ]
        }
      ]
    },
    {
      "cell_type": "code",
      "source": [
        "val_iterator = iter(valid_dataset)\n",
        "x,y = next(val_iterator)\n",
        "#pred = model.predict(x)\n",
        "generate_images(generator, x, y)"
      ],
      "metadata": {
        "id": "BoQdhEND6Ie3"
      },
      "execution_count": null,
      "outputs": []
    },
    {
      "cell_type": "code",
      "execution_count": null,
      "metadata": {
        "id": "017CYaGQ6pre",
        "pycharm": {
          "name": "#%%\n"
        }
      },
      "outputs": [],
      "source": [
        "import os\n",
        "os.listdir('.')"
      ]
    },
    {
      "cell_type": "markdown",
      "metadata": {
        "id": "-ede4p2YELFa",
        "pycharm": {
          "name": "#%% md\n"
        }
      },
      "source": [
        "The training procedure for the discriminator is shown below.\n",
        "\n",
        "To learn more about the architecture and the hyperparameters you can refer to the [pix2pix paper](https://arxiv.org/abs/1611.07004)."
      ]
    },
    {
      "cell_type": "markdown",
      "metadata": {
        "id": "_073KDijTAVh",
        "pycharm": {
          "name": "#%% md\n"
        }
      },
      "source": []
    },
    {
      "cell_type": "markdown",
      "metadata": {
        "id": "0FMYgY_mPfTi",
        "pycharm": {
          "name": "#%% md\n"
        }
      },
      "source": [
        "## Define the optimizers and a checkpoint-saver\n"
      ]
    },
    {
      "cell_type": "code",
      "execution_count": null,
      "metadata": {
        "id": "4t4x69adQ5xb",
        "pycharm": {
          "name": "#%%\n"
        }
      },
      "outputs": [],
      "source": [
        "checkpoint = tf.train.Checkpoint(generator_optimizer=generator_optimizer,\n",
        "                                 generator=generator)\n",
        "#Restoring the latest checkpoint in checkpoint_dir\n",
        "checkpoint_dir = '/content/drive/MyDrive/Colab Notebooks/grad_checkpoints'\n",
        "print(tf.train.latest_checkpoint(checkpoint_dir))\n",
        "checkpoint.restore(tf.train.latest_checkpoint(checkpoint_dir))\n",
        "\n",
        "#'/content/drive/MyDrive/Colab Notebooks/phantom_checkpoints/ckpt-8'"
      ]
    },
    {
      "cell_type": "markdown",
      "metadata": {
        "id": "1RGysMU_BZhx",
        "pycharm": {
          "name": "#%% md\n"
        }
      },
      "source": [
        "## Generate some images using the test set"
      ]
    },
    {
      "cell_type": "code",
      "execution_count": null,
      "metadata": {
        "id": "g6yulOFllIh2",
        "pycharm": {
          "name": "#%%\n"
        }
      },
      "outputs": [],
      "source": [
        "#generator.save('/content/drive/MyDrive/Colab Notebooks/3chan_lrgken_L1')"
      ]
    },
    {
      "cell_type": "code",
      "execution_count": 794,
      "metadata": {
        "id": "Wtd3ZA-eI_ap",
        "pycharm": {
          "name": "#%%\n"
        }
      },
      "outputs": [],
      "source": [
        "gamma_options = {\n",
        "    'dose_percent_threshold': 3, \n",
        "    'distance_mm_threshold': 3,\n",
        "    'lower_percent_dose_cutoff': 10,\n",
        "    'interp_fraction': 20,  # Should be 10 or more, see the paper referenced above\n",
        "    'max_gamma': 2,\n",
        "    'random_subset': None,  # Can be used to get quick pass rates\n",
        "    'local_gamma': False,  # Change to false for global gamma\n",
        "    'ram_available': 2**29  # 1/2 GB\n",
        "}"
      ]
    },
    {
      "cell_type": "code",
      "execution_count": 795,
      "metadata": {
        "id": "pcxutIrdJF7U",
        "pycharm": {
          "name": "#%%\n"
        }
      },
      "outputs": [],
      "source": [
        "xepidmin = -215.04\n",
        "xepidmax = 215.04\n",
        "yepidmin = -215.04\n",
        "yepidmax = 215.04\n",
        "grid = 1.68\n",
        "xepid = np.arange(xepidmin,xepidmax,grid)\n",
        "yepid = np.arange(yepidmin,yepidmax,grid)\n",
        "coords = (yepid,xepid)"
      ]
    },
    {
      "cell_type": "code",
      "execution_count": null,
      "metadata": {
        "id": "WTyCBjAV1vJZ",
        "pycharm": {
          "name": "#%%\n"
        }
      },
      "outputs": [],
      "source": [
        "# testfiles = tf.io.gfile.glob('/content/drive/My Drive/train/nifti/fold4/12_4_35.*')\n",
        "# valid_data = load_data(testfiles, tf.estimator.ModeKeys.TRAIN, '/content/drive/My Drive/train/nifti/fold1')\n",
        "\n",
        "# valid_dataset = tf.data.Dataset.from_tensor_slices((valid_data))\n",
        "# valid_dataset = valid_dataset.batch(BATCH_SIZE)"
      ]
    },
    {
      "cell_type": "code",
      "execution_count": 1217,
      "metadata": {
        "id": "TPwaQHAcHiLr",
        "pycharm": {
          "name": "#%%\n"
        },
        "colab": {
          "base_uri": "https://localhost:8080/",
          "height": 774
        },
        "outputId": "a446ceaf-7049-483b-eb60-4c3fae733de1"
      },
      "outputs": [
        {
          "output_type": "stream",
          "name": "stdout",
          "text": [
            "1/1 [==============================] - 0s 242ms/step\n",
            "Calcing using global normalisation point for gamma\n",
            "Global normalisation set to 0.15877263247966766\n",
            "Global dose threshold set to [0.00476318] ([3]% of normalisation)\n",
            "Distance threshold set to [3]\n",
            "Lower dose cutoff set to 0.015877263247966768 (10% of normalisation)\n",
            "\n",
            "Current distance: 5.85 mm | Number of reference points remaining: 9691 | Points tested per reference point: 247 | RAM split count: 1\n",
            "Complete!\n"
          ]
        },
        {
          "output_type": "execute_result",
          "data": {
            "text/plain": [
              "Text(0.5, 1.0, 'Local Gamma (3%/3mm) | Percent Pass: 0.00 %')"
            ]
          },
          "metadata": {},
          "execution_count": 1217
        },
        {
          "output_type": "display_data",
          "data": {
            "text/plain": [
              "<Figure size 720x720 with 4 Axes>"
            ],
            "image/png": "[encoded data removed]"
          },
          "metadata": {
            "needs_background": "light"
          }
        }
      ],
      "source": [
        "example = next(iter(valid_dataset))\n",
        "input = example[0]\n",
        "#print(tf.shape(cbct_input))\n",
        "tar = example[1]\n",
        "#prediction = generator(input, training=True) \n",
        "prediction = generator.predict(input)\n",
        "\n",
        "diff = tf.subtract(tar,prediction)\n",
        "diff = tf.squeeze(diff, axis=0)\n",
        "diffvec = diff[120,1:256]\n",
        "tar = tf.squeeze(tar, axis=0)\n",
        "tar = tf.squeeze(tar, axis=-1)\n",
        "rtimage = tar\n",
        "\n",
        "prediction = tf.squeeze(prediction, axis=0)\n",
        "prediction = tf.squeeze(prediction, axis=-1)\n",
        "prediction = prediction\n",
        " \n",
        "plt.figure(figsize=(10, 10))\n",
        "  \n",
        "plt.subplot(2, 2, 1)\n",
        "plt.imshow(rtimage)\n",
        "plt.subplot(2, 2, 2)\n",
        "plt.imshow(prediction)\n",
        "  \n",
        "predvec = prediction[128,1:256]\n",
        "rtvec = rtimage[128,1:256]\n",
        "  \n",
        "#predvec = prediction[1:256,128]\n",
        "#rtvec = rtimage[1:256,128]\n",
        "\n",
        "plt.subplot(2, 2, 3)\n",
        "plt.plot(rtvec,'g')\n",
        "plt.title(\"Meas RT IMG (Green)\")\n",
        "plt.plot(predvec,'b')\n",
        "#print(str(example[\"fname\"]))\n",
        "\n",
        "gamma_test = pymedphys.gamma(coords,rtimage, coords, prediction, **gamma_options)\n",
        "valid_gamma = gamma_test[~np.isnan(gamma_test)]\n",
        "\n",
        "num_bins = (\n",
        "    gamma_options['interp_fraction'] * gamma_options['max_gamma'])\n",
        "bins = np.linspace(0, gamma_options['max_gamma'], num_bins + 1)\n",
        "\n",
        "#gamma_no_noise = pymedphys.gamma(coords, rtimage, coords, prediction,**gamma_options)\n",
        "plt.subplot(2, 2, 4)\n",
        "\n",
        "plt.imshow( gamma_test, clim=(0, 2), cmap='coolwarm')\n",
        "\n",
        "# plt.hist(valid_gamma, bins, density=True)\n",
        "# plt.xlim([0, gamma_options['max_gamma']])\n",
        "pass_ratio = np.sum(valid_gamma <= 1) / len(valid_gamma)\n",
        "plt.title(f\"Local Gamma ({gamma_options['dose_percent_threshold']}%/{gamma_options['distance_mm_threshold']}mm) | Percent Pass: {pass_ratio*100:.2f} %\")"
      ]
    },
    {
      "cell_type": "code",
      "execution_count": null,
      "metadata": {
        "id": "ck1o0QAY71Zv",
        "pycharm": {
          "name": "#%%\n"
        }
      },
      "outputs": [],
      "source": [
        "plt.imshow(gamma_test)"
      ]
    },
    {
      "cell_type": "code",
      "source": [
        "caxcb = [] \n",
        "caxrt = []\n",
        "caxpred = []\n",
        "caxhalf = []\n",
        "\n",
        "all_ratios = np.zeros(len(list(valid_dataset)))\n",
        "\n",
        "for example in valid_dataset:\n",
        "  tinp = example[0]\n",
        "  ttar = example[1]\n",
        "  inp = tf.squeeze(tinp,axis=0)\n",
        "  #slicen = 1\n",
        "  pdos = tinp[0,...,0].numpy()\n",
        "  img = tinp[0,...,1].numpy()\n",
        "  half = tinp[0,...,2].numpy()\n",
        "  cbctcax = np.mean(img[126:130,126:130] )\n",
        "  pdoscax = np.mean(pdos[126:130,126:130] )\n",
        "  halfcax = np.mean(half[126:130,126:130] )\n",
        "  prediction = generator.predict(tinp)\n",
        "  #ttar = tf.squeeze(ttar, axis=0)\n",
        "  #ttar = tf.squeeze(ttar, axis=-1)\n",
        "  rtimage = ttar[0,...,0].numpy()\n",
        "  rtcax = np.mean(rtimage[126:130,126:130])\n",
        "  \n",
        "  #out = \"cbctcax {} rtcax {}\".format(cbctcax,rtcax/pdoscax)\n",
        "  #print(out)\n",
        "  prediction = tf.squeeze(prediction, axis=0)\n",
        "  prediction = tf.squeeze(prediction, axis=-1)\n",
        "  predcax = np.mean(prediction[126:130,126:130])\n",
        "  caxcb = np.append(caxcb,cbctcax)\n",
        "  caxrt = np.append(caxrt,rtcax/pdoscax)\n",
        "  caxpred = np.append(caxpred,predcax/pdoscax)\n",
        "  caxhalf = np.append(caxhalf,halfcax)\n",
        "\n",
        "#ax = plt.axes(projection='3d')\n",
        "#ax.scatter3D(caxcb, caxhalf, caxrt, c='b' )\n",
        "#ax.scatter3D(caxcb, caxhalf, caxpred, c='r' )\n",
        "#plt.show()\n",
        "\n",
        "plt.plot(caxcb,caxrt,'bo')\n",
        "plt.plot(caxcb,caxpred,'ro')\n",
        "\n",
        "#plt.plot(caxhalf,caxrt,'bo')\n",
        "#plt.plot(caxhalf,caxpred,'ro')\n",
        "#plt.ylim([0, 0.8])\n",
        "#plt.xlim([0.80, 0.85])\n",
        "plt.show()"
      ],
      "metadata": {
        "id": "YLLfz5DoUcSk",
        "pycharm": {
          "name": "#%%\n"
        },
        "colab": {
          "base_uri": "https://localhost:8080/",
          "height": 1000
        },
        "outputId": "c9be3145-3934-4214-c8db-9c5f5c492dda"
      },
      "execution_count": 1296,
      "outputs": [
        {
          "output_type": "stream",
          "name": "stdout",
          "text": [
            "1/1 [==============================] - 0s 289ms/step\n",
            "1/1 [==============================] - 0s 19ms/step\n",
            "1/1 [==============================] - 0s 19ms/step\n",
            "1/1 [==============================] - 0s 19ms/step\n",
            "1/1 [==============================] - 0s 19ms/step\n",
            "1/1 [==============================] - 0s 21ms/step\n",
            "1/1 [==============================] - 0s 20ms/step\n",
            "1/1 [==============================] - 0s 19ms/step\n",
            "1/1 [==============================] - 0s 19ms/step\n",
            "1/1 [==============================] - 0s 19ms/step\n",
            "1/1 [==============================] - 0s 19ms/step\n",
            "1/1 [==============================] - 0s 19ms/step\n",
            "1/1 [==============================] - 0s 21ms/step\n",
            "1/1 [==============================] - 0s 19ms/step\n",
            "1/1 [==============================] - 0s 19ms/step\n",
            "1/1 [==============================] - 0s 20ms/step\n",
            "1/1 [==============================] - 0s 20ms/step\n",
            "1/1 [==============================] - 0s 19ms/step\n",
            "1/1 [==============================] - 0s 19ms/step\n",
            "1/1 [==============================] - 0s 20ms/step\n",
            "1/1 [==============================] - 0s 19ms/step\n",
            "1/1 [==============================] - 0s 19ms/step\n",
            "1/1 [==============================] - 0s 18ms/step\n",
            "1/1 [==============================] - 0s 18ms/step\n",
            "1/1 [==============================] - 0s 19ms/step\n",
            "1/1 [==============================] - 0s 20ms/step\n",
            "1/1 [==============================] - 0s 19ms/step\n",
            "1/1 [==============================] - 0s 18ms/step\n",
            "1/1 [==============================] - 0s 19ms/step\n",
            "1/1 [==============================] - 0s 19ms/step\n",
            "1/1 [==============================] - 0s 18ms/step\n",
            "1/1 [==============================] - 0s 19ms/step\n",
            "1/1 [==============================] - 0s 20ms/step\n",
            "1/1 [==============================] - 0s 18ms/step\n",
            "1/1 [==============================] - 0s 19ms/step\n",
            "1/1 [==============================] - 0s 19ms/step\n",
            "1/1 [==============================] - 0s 19ms/step\n",
            "1/1 [==============================] - 0s 18ms/step\n",
            "1/1 [==============================] - 0s 20ms/step\n",
            "1/1 [==============================] - 0s 18ms/step\n",
            "1/1 [==============================] - 0s 20ms/step\n",
            "1/1 [==============================] - 0s 19ms/step\n",
            "1/1 [==============================] - 0s 19ms/step\n",
            "1/1 [==============================] - 0s 18ms/step\n",
            "1/1 [==============================] - 0s 19ms/step\n",
            "1/1 [==============================] - 0s 19ms/step\n",
            "1/1 [==============================] - 0s 18ms/step\n",
            "1/1 [==============================] - 0s 18ms/step\n",
            "1/1 [==============================] - 0s 18ms/step\n",
            "1/1 [==============================] - 0s 18ms/step\n",
            "1/1 [==============================] - 0s 19ms/step\n",
            "1/1 [==============================] - 0s 20ms/step\n",
            "1/1 [==============================] - 0s 18ms/step\n",
            "1/1 [==============================] - 0s 19ms/step\n",
            "1/1 [==============================] - 0s 18ms/step\n",
            "1/1 [==============================] - 0s 19ms/step\n",
            "1/1 [==============================] - 0s 19ms/step\n",
            "1/1 [==============================] - 0s 19ms/step\n",
            "1/1 [==============================] - 0s 19ms/step\n",
            "1/1 [==============================] - 0s 19ms/step\n",
            "1/1 [==============================] - 0s 20ms/step\n",
            "1/1 [==============================] - 0s 19ms/step\n",
            "1/1 [==============================] - 0s 19ms/step\n",
            "1/1 [==============================] - 0s 19ms/step\n",
            "1/1 [==============================] - 0s 19ms/step\n",
            "1/1 [==============================] - 0s 18ms/step\n",
            "1/1 [==============================] - 0s 18ms/step\n",
            "1/1 [==============================] - 0s 18ms/step\n",
            "1/1 [==============================] - 0s 18ms/step\n",
            "1/1 [==============================] - 0s 18ms/step\n",
            "1/1 [==============================] - 0s 19ms/step\n",
            "1/1 [==============================] - 0s 18ms/step\n",
            "1/1 [==============================] - 0s 19ms/step\n",
            "1/1 [==============================] - 0s 19ms/step\n",
            "1/1 [==============================] - 0s 18ms/step\n",
            "1/1 [==============================] - 0s 18ms/step\n",
            "1/1 [==============================] - 0s 20ms/step\n",
            "1/1 [==============================] - 0s 19ms/step\n",
            "1/1 [==============================] - 0s 19ms/step\n",
            "1/1 [==============================] - 0s 19ms/step\n",
            "1/1 [==============================] - 0s 19ms/step\n",
            "1/1 [==============================] - 0s 19ms/step\n",
            "1/1 [==============================] - 0s 18ms/step\n"
          ]
        },
        {
          "output_type": "display_data",
          "data": {
            "text/plain": [
              "<Figure size 432x288 with 1 Axes>"
            ],
            "image/png": "[encoded data removed]"
          },
          "metadata": {
            "needs_background": "light"
          }
        }
      ]
    },
    {
      "cell_type": "code",
      "execution_count": null,
      "metadata": {
        "id": "ELlbbPKP0oQA",
        "pycharm": {
          "name": "#%%\n"
        }
      },
      "outputs": [],
      "source": [
        "dataset = valid_dataset\n",
        "all_ratios = np.zeros(len(list(dataset)))\n",
        "i = 0\n",
        "i90 = 0\n",
        "for example in dataset:\n",
        "  tinp = example[0]\n",
        "  ttar = example[1]\n",
        "  #prediction = generator(tinp, training=True)\n",
        "  prediction = generator.predict(tinp)\n",
        "  ttar = tf.squeeze(ttar, axis=0)\n",
        "  ttar = tf.squeeze(ttar, axis=-1)\n",
        "  rtimage = ttar\n",
        "\n",
        "  prediction = tf.squeeze(prediction, axis=0)\n",
        "  prediction = tf.squeeze(prediction, axis=-1)\n",
        "  prediction = prediction\n",
        "  gamma_test = pymedphys.gamma(coords,rtimage, coords, prediction, **gamma_options,quiet=True)\n",
        "  valid_gamma = gamma_test[~np.isnan(gamma_test)]\n",
        "  pass_ratio = np.sum(valid_gamma <= 1) / len(valid_gamma)\n",
        "  #tf.print(example[\"fname\"])\n",
        "  print(pass_ratio)\n",
        "  all_ratios[i] = pass_ratio\n",
        "  i = i+1\n",
        "  if(pass_ratio > 0.90):\n",
        "    i90 = i90+1\n",
        "\n",
        "print(\"mean \" + str(np.mean(all_ratios)))\n",
        "print(\"STD \" + str(np.std(all_ratios))) \n",
        "print(\"max \" + str(np.max(all_ratios)))\n",
        "print(\"min \" + str(np.min(all_ratios)))\n",
        "print(\"ratio > 90% \" + str(float(i90)/float(i)))\n",
        "plt.hist(all_ratios)\n",
        "plt.yscale('log')"
      ]
    },
    {
      "cell_type": "code",
      "source": [
        "example = next(iter(train_dataset))\n",
        "x = example[0]\n",
        "y = example[1]\n",
        "#x, y = next(iterx)\n",
        "#print(train_len)\n",
        "#print(valid_len)\n",
        "#print(test_len)\n",
        "#plt.imshow(y[0,...,0])\n",
        "prediction = generator.predict(x)\n",
        "prediction = tf.squeeze(prediction, axis=0)\n",
        "prediction = tf.squeeze(prediction, axis=-1)\n",
        "rt = y[0,...,0].numpy()\n",
        "\n",
        "pdos = x[0,...,0].numpy()\n",
        "cbct = x[0,...,1].numpy()\n",
        "\n",
        "plt.figure(figsize=(10, 10))\n",
        "plt.subplot(1,3,1)\n",
        "\n",
        "plt.imshow(rt)\n",
        "#plt.plot(pdos[128,1:256],'b')\n",
        "#plt.plot(cbct[128,1:256],'r')\n",
        "\n",
        "#plt.show()\n",
        "\n",
        "cbctval = []\n",
        "ratio = []\n",
        "pdosval = [] \n",
        "pred = []\n",
        "\n",
        "rtmax = rt.max(0).max(-1)\n",
        "#print(rtmax)\n",
        "\n",
        "for i in range(0,256):\n",
        "  for j in range(0,256):\n",
        "    if(rt[i,j] > rtmax*0.5):\n",
        "      cbctval = np.append(cbctval,cbct[i,j])\n",
        "      pdosval = np.append(pdosval,pdos[i,j])\n",
        "      ratio = np.append(ratio,rt[i,j]/pdos[i,j])\n",
        "      pred = np.append(pred,prediction[i,j]/pdos[i,j])\n",
        "\n",
        "plt.subplot(1,3,2)\n",
        "plt.plot(cbctval,ratio,'bo')\n",
        "plt.plot(cbctval,pred,'ro')\n",
        "#xp = np.arange(0, 200.0, 0.1)\n",
        "#yp = np.exp(-4.0/255 * xp) + 0.15/255 * xp - 0.1/65025 * xp * xp\n",
        "# #yp = pdosval*( np.exp(-4.0/255 *cbctval) + 0.15/255 * cbctval - 0.1/65025 * cbctval * cbctval)\n",
        "xp = np.arange(0, 1.0, 0.01)\n",
        "yp = np.exp(-4.0 * xp) + 0.15 * xp -0.1* xp * xp\n",
        "#yp = np.exp(-4.0 * xp) -0.1* xp * xp\n",
        "\n",
        "plt.plot(xp, yp,'r')\n",
        "\n",
        "#plt.subplot(1,3,3)\n",
        "#plt.plot(rt[128,1:256]/pdos[128,1:256],'b')\n",
        "#plt.plot(pdos[128,1:256],'r')\n",
        "#plt.plot(rt[128,1:256],'b')"
      ],
      "metadata": {
        "id": "Som14vg5ksRV"
      },
      "execution_count": null,
      "outputs": []
    },
    {
      "cell_type": "code",
      "source": [
        "generator.summary()"
      ],
      "metadata": {
        "id": "1mEaI4SJ_QTd"
      },
      "execution_count": null,
      "outputs": []
    }
  ]
}