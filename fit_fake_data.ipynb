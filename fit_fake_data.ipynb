{
  "nbformat": 4,
  "nbformat_minor": 0,
  "metadata": {
    "colab": {
      "provenance": [],
      "collapsed_sections": [],
      "machine_shape": "hm",
      "include_colab_link": true
    },
    "kernelspec": {
      "name": "python3",
      "display_name": "Python 3"
    },
    "language_info": {
      "name": "python"
    },
    "accelerator": "GPU",
    "gpuClass": "standard"
  },
  "cells": [
    {
      "cell_type": "markdown",
      "metadata": {
        "id": "view-in-github",
        "colab_type": "text"
      },
      "source": [
        "<a href=\"https://colab.research.google.com/github/brianmanderson/Image_Prediction/blob/main/fit_fake_data.ipynb\" target=\"_parent\"><img src=\"https://colab.research.google.com/assets/colab-badge.svg\" alt=\"Open In Colab\"/></a>"
      ]
    },
    {
      "cell_type": "markdown",
      "metadata": {
        "id": "v1CUZ0dkOo_F",
        "pycharm": {
          "name": "#%% md\n"
        }
      },
      "source": [
        "##### Copyright 2019 The TensorFlow Authors.\n",
        "\n",
        "Licensed under the Apache License, Version 2.0 (the \"License\");"
      ]
    },
    {
      "cell_type": "code",
      "execution_count": 1,
      "metadata": {
        "cellView": "form",
        "id": "qmkj-80IHxnd",
        "pycharm": {
          "name": "#%%\n"
        }
      },
      "outputs": [],
      "source": [
        "#@title Licensed under the Apache License, Version 2.0 (the \"License\");\n",
        "# you may not use this file except in compliance with the License.\n",
        "# You may obtain a copy of the License at\n",
        "#\n",
        "# https://www.apache.org/licenses/LICENSE-2.0\n",
        "#\n",
        "# Unless required by applicable law or agreed to in writing, software\n",
        "# distributed under the License is distributed on an \"AS IS\" BASIS,\n",
        "# WITHOUT WARRANTIES OR CONDITIONS OF ANY KIND, either express or implied.\n",
        "# See the License for the specific language governing permissions and\n",
        "# limitations under the License."
      ]
    },
    {
      "cell_type": "markdown",
      "source": [],
      "metadata": {
        "id": "P6ioYwynN6UH"
      }
    },
    {
      "cell_type": "markdown",
      "metadata": {
        "id": "_xnMOsbqHz61",
        "pycharm": {
          "name": "#%% md\n"
        }
      },
      "source": [
        "#EPIDEEP: Generating EPID images"
      ]
    },
    {
      "cell_type": "markdown",
      "source": [],
      "metadata": {
        "id": "cWJH48IGxKkB",
        "pycharm": {
          "name": "#%% md\n"
        }
      }
    },
    {
      "cell_type": "markdown",
      "metadata": {
        "id": "Ds4o1h4WHz9U",
        "pycharm": {
          "name": "#%% md\n"
        }
      },
      "source": [
        "<table class=\"tfo-notebook-buttons\" align=\"left\">\n",
        "  <td>\n",
        "    <a target=\"_blank\" href=\"https://www.tensorflow.org/tutorials/generative/pix2pix\"><img src=\"https://www.tensorflow.org/images/tf_logo_32px.png\" />View on TensorFlow.org</a>\n",
        "  </td>\n",
        "  <td>\n",
        "    <a target=\"_blank\" href=\"https://colab.research.google.com/github/tensorflow/docs/blob/master/site/en/tutorials/generative/pix2pix.ipynb\"><img src=\"https://www.tensorflow.org/images/colab_logo_32px.png\" />Run in Google Colab</a>\n",
        "  </td>\n",
        "  <td>\n",
        "    <a target=\"_blank\" href=\"https://github.com/tensorflow/docs/blob/master/site/en/tutorials/generative/pix2pix.ipynb\"><img src=\"https://www.tensorflow.org/images/GitHub-Mark-32px.png\" />View source on GitHub</a>\n",
        "  </td>\n",
        "  <td>\n",
        "    <a href=\"https://storage.googleapis.com/tensorflow_docs/docs/site/en/tutorials/generative/pix2pix.ipynb\"><img src=\"https://www.tensorflow.org/images/download_logo_32px.png\" />Download notebook</a>\n",
        "  </td>\n",
        "</table>"
      ]
    },
    {
      "cell_type": "markdown",
      "metadata": {
        "id": "ITZuApL56Mny",
        "pycharm": {
          "name": "#%% md\n"
        }
      },
      "source": [
        "This Google Colab Notebook heavily buroows from the pix2pix example. \n",
        "How to build and train a conditional generative adversarial network (cGAN) called pix2pix that learns a mapping from input images to output images, as described in [Image-to-image translation with conditional adversarial networks](https://arxiv.org/abs/1611.07004) by Isola et al. (2017). pix2pix is not application specific—it can be applied to a wide range of tasks, including synthesizing photos from label maps, generating colorized photos from black and white images, turning Google Maps photos into aerial images, and even transforming sketches into photos.\n",
        "\n",
        "In the pix2pix cGAN, you condition on input images and generate corresponding output images. cGANs were first proposed in [Conditional Generative Adversarial Nets](https://arxiv.org/abs/1411.1784) (Mirza and Osindero, 2014)\n",
        "\n",
        "The architecture of your network will contain:\n",
        "\n",
        "- A generator with a [U-Net]([U-Net](https://arxiv.org/abs/1505.04597))-based architecture.\n",
        "- A discriminator represented by a convolutional PatchGAN classifier (proposed in the [pix2pix paper](https://arxiv.org/abs/1611.07004)).\n",
        "\n",
        "Note that each epoch can take around 15 seconds on a single V100 GPU.\n",
        "\n"
      ]
    },
    {
      "cell_type": "markdown",
      "metadata": {
        "id": "e1_Y75QXJS6h",
        "pycharm": {
          "name": "#%% md\n"
        }
      },
      "source": [
        "## Import TensorFlow and other libraries"
      ]
    },
    {
      "cell_type": "code",
      "execution_count": 2,
      "metadata": {
        "id": "YfIk2es3hJEd",
        "pycharm": {
          "name": "#%%\n"
        }
      },
      "outputs": [],
      "source": [
        "import tensorflow as tf\n",
        "\n",
        "import os\n",
        "import sys \n",
        "import pathlib\n",
        "import time\n",
        "import datetime\n",
        "import numpy as np\n",
        "from matplotlib import pyplot as plt\n",
        "from IPython import display\n",
        "import tensorflow.experimental.numpy as tnp\n",
        "import pandas as pd"
      ]
    },
    {
      "cell_type": "code",
      "execution_count": 3,
      "metadata": {
        "colab": {
          "base_uri": "https://localhost:8080/"
        },
        "id": "iPVGz0KIdvia",
        "outputId": "0d7f2f8c-1ce1-42bb-9def-ab570037f9f0",
        "pycharm": {
          "name": "#%%\n"
        }
      },
      "outputs": [
        {
          "output_type": "stream",
          "name": "stdout",
          "text": [
            "Mounted at /content/drive\n"
          ]
        }
      ],
      "source": [
        "running_local = False\n",
        "try:\n",
        "    from google.colab import drive\n",
        "    drive.mount('/content/drive')\n",
        "    nb_path = '/content/notebooks'\n",
        "    os.symlink('/content/drive/MyDrive/Colab Notebooks', nb_path)\n",
        "    sys.path.insert(0, nb_path)  # or append(nb_path)\n",
        "except:\n",
        "    running_local = True\n",
        "    print(\"Running locally\")"
      ]
    },
    {
      "cell_type": "markdown",
      "metadata": {
        "id": "R4Ya7PQy4NBD",
        "pycharm": {
          "name": "#%% md\n"
        }
      },
      "source": [
        "Line to install pymedphys which has a gamma function. Libaray was saved to Google drive and is commented out."
      ]
    },
    {
      "cell_type": "code",
      "execution_count": 4,
      "metadata": {
        "id": "1oOw8vQJUyg-",
        "pycharm": {
          "name": "#%%\n"
        }
      },
      "outputs": [],
      "source": [
        "#!pip install --target=$nb_path pymedphys"
      ]
    },
    {
      "cell_type": "code",
      "execution_count": 5,
      "metadata": {
        "colab": {
          "base_uri": "https://localhost:8080/",
          "height": 1000
        },
        "id": "wzufEZu702tH",
        "outputId": "422d2c6b-9521-4f45-f113-3b85020457bc",
        "pycharm": {
          "name": "#%%\n"
        }
      },
      "outputs": [
        {
          "output_type": "stream",
          "name": "stdout",
          "text": [
            "Looking in indexes: https://pypi.org/simple, https://us-python.pkg.dev/colab-wheels/public/simple/\n",
            "Collecting SimpleITK\n",
            "  Downloading SimpleITK-2.2.0-cp37-cp37m-manylinux_2_17_x86_64.manylinux2014_x86_64.whl (52.8 MB)\n",
            "\u001b[K     |████████████████████████████████| 52.8 MB 1.2 MB/s \n",
            "\u001b[?25hInstalling collected packages: SimpleITK\n",
            "Successfully installed SimpleITK-2.2.0\n",
            "Looking in indexes: https://pypi.org/simple, https://us-python.pkg.dev/colab-wheels/public/simple/\n",
            "Collecting pymedphys\n",
            "  Downloading pymedphys-0.38.0-py3-none-any.whl (1.8 MB)\n",
            "\u001b[K     |████████████████████████████████| 1.8 MB 35.3 MB/s \n",
            "\u001b[?25hCollecting ipython>=7.31.1\n",
            "  Downloading ipython-7.34.0-py3-none-any.whl (793 kB)\n",
            "\u001b[K     |████████████████████████████████| 793 kB 71.7 MB/s \n",
            "\u001b[?25hRequirement already satisfied: typing-extensions in /usr/local/lib/python3.7/dist-packages (from pymedphys) (4.1.1)\n",
            "Requirement already satisfied: pexpect>4.3 in /usr/local/lib/python3.7/dist-packages (from ipython>=7.31.1->pymedphys) (4.8.0)\n",
            "Collecting jedi>=0.16\n",
            "  Downloading jedi-0.18.1-py2.py3-none-any.whl (1.6 MB)\n",
            "\u001b[K     |████████████████████████████████| 1.6 MB 54.7 MB/s \n",
            "\u001b[?25hRequirement already satisfied: setuptools>=18.5 in /usr/local/lib/python3.7/dist-packages (from ipython>=7.31.1->pymedphys) (57.4.0)\n",
            "Requirement already satisfied: backcall in /usr/local/lib/python3.7/dist-packages (from ipython>=7.31.1->pymedphys) (0.2.0)\n",
            "Requirement already satisfied: prompt-toolkit!=3.0.0,!=3.0.1,<3.1.0,>=2.0.0 in /usr/local/lib/python3.7/dist-packages (from ipython>=7.31.1->pymedphys) (2.0.10)\n",
            "Requirement already satisfied: decorator in /usr/local/lib/python3.7/dist-packages (from ipython>=7.31.1->pymedphys) (4.4.2)\n",
            "Requirement already satisfied: traitlets>=4.2 in /usr/local/lib/python3.7/dist-packages (from ipython>=7.31.1->pymedphys) (5.1.1)\n",
            "Requirement already satisfied: pygments in /usr/local/lib/python3.7/dist-packages (from ipython>=7.31.1->pymedphys) (2.6.1)\n",
            "Collecting matplotlib-inline\n",
            "  Downloading matplotlib_inline-0.1.6-py3-none-any.whl (9.4 kB)\n",
            "Requirement already satisfied: pickleshare in /usr/local/lib/python3.7/dist-packages (from ipython>=7.31.1->pymedphys) (0.7.5)\n",
            "Requirement already satisfied: parso<0.9.0,>=0.8.0 in /usr/local/lib/python3.7/dist-packages (from jedi>=0.16->ipython>=7.31.1->pymedphys) (0.8.3)\n",
            "Requirement already satisfied: ptyprocess>=0.5 in /usr/local/lib/python3.7/dist-packages (from pexpect>4.3->ipython>=7.31.1->pymedphys) (0.7.0)\n",
            "Requirement already satisfied: wcwidth in /usr/local/lib/python3.7/dist-packages (from prompt-toolkit!=3.0.0,!=3.0.1,<3.1.0,>=2.0.0->ipython>=7.31.1->pymedphys) (0.2.5)\n",
            "Requirement already satisfied: six>=1.9.0 in /usr/local/lib/python3.7/dist-packages (from prompt-toolkit!=3.0.0,!=3.0.1,<3.1.0,>=2.0.0->ipython>=7.31.1->pymedphys) (1.15.0)\n",
            "Installing collected packages: matplotlib-inline, jedi, ipython, pymedphys\n",
            "  Attempting uninstall: ipython\n",
            "    Found existing installation: ipython 7.9.0\n",
            "    Uninstalling ipython-7.9.0:\n",
            "      Successfully uninstalled ipython-7.9.0\n",
            "\u001b[31mERROR: pip's dependency resolver does not currently take into account all the packages that are installed. This behaviour is the source of the following dependency conflicts.\n",
            "google-colab 1.0.0 requires ipython~=7.9.0, but you have ipython 7.34.0 which is incompatible.\u001b[0m\n",
            "Successfully installed ipython-7.34.0 jedi-0.18.1 matplotlib-inline-0.1.6 pymedphys-0.38.0\n"
          ]
        },
        {
          "output_type": "display_data",
          "data": {
            "application/vnd.colab-display-data+json": {
              "pip_warning": {
                "packages": [
                  "IPython"
                ]
              }
            }
          },
          "metadata": {}
        },
        {
          "output_type": "stream",
          "name": "stdout",
          "text": [
            "Looking in indexes: https://pypi.org/simple, https://us-python.pkg.dev/colab-wheels/public/simple/\n",
            "Collecting PlotScrollNumpyArrays\n",
            "  Downloading PlotScrollNumpyArrays-0.0.1-py3-none-any.whl (4.3 kB)\n",
            "Requirement already satisfied: numpy in /usr/local/lib/python3.7/dist-packages (from PlotScrollNumpyArrays) (1.21.6)\n",
            "Requirement already satisfied: matplotlib in /usr/local/lib/python3.7/dist-packages (from PlotScrollNumpyArrays) (3.2.2)\n",
            "Requirement already satisfied: SimpleITK in /usr/local/lib/python3.7/dist-packages (from PlotScrollNumpyArrays) (2.2.0)\n",
            "Requirement already satisfied: pyparsing!=2.0.4,!=2.1.2,!=2.1.6,>=2.0.1 in /usr/local/lib/python3.7/dist-packages (from matplotlib->PlotScrollNumpyArrays) (3.0.9)\n",
            "Requirement already satisfied: cycler>=0.10 in /usr/local/lib/python3.7/dist-packages (from matplotlib->PlotScrollNumpyArrays) (0.11.0)\n",
            "Requirement already satisfied: kiwisolver>=1.0.1 in /usr/local/lib/python3.7/dist-packages (from matplotlib->PlotScrollNumpyArrays) (1.4.4)\n",
            "Requirement already satisfied: python-dateutil>=2.1 in /usr/local/lib/python3.7/dist-packages (from matplotlib->PlotScrollNumpyArrays) (2.8.2)\n",
            "Requirement already satisfied: typing-extensions in /usr/local/lib/python3.7/dist-packages (from kiwisolver>=1.0.1->matplotlib->PlotScrollNumpyArrays) (4.1.1)\n",
            "Requirement already satisfied: six>=1.5 in /usr/local/lib/python3.7/dist-packages (from python-dateutil>=2.1->matplotlib->PlotScrollNumpyArrays) (1.15.0)\n",
            "Installing collected packages: PlotScrollNumpyArrays\n",
            "Successfully installed PlotScrollNumpyArrays-0.0.1\n"
          ]
        }
      ],
      "source": [
        "!pip install SimpleITK\n",
        "!pip install pymedphys\n",
        "!pip install PlotScrollNumpyArrays"
      ]
    },
    {
      "cell_type": "code",
      "execution_count": 6,
      "metadata": {
        "id": "XkwdsvfzU35d",
        "pycharm": {
          "name": "#%%\n"
        }
      },
      "outputs": [],
      "source": [
        "#import SimpleITK as sitk\n",
        "import pymedphys"
      ]
    },
    {
      "cell_type": "code",
      "execution_count": 7,
      "metadata": {
        "colab": {
          "base_uri": "https://localhost:8080/"
        },
        "id": "dED2fmqDhBq4",
        "outputId": "2ec65ddb-7495-43b6-a447-fa9c44f94e30",
        "pycharm": {
          "name": "#%%\n"
        }
      },
      "outputs": [
        {
          "output_type": "stream",
          "name": "stdout",
          "text": [
            "Cloning into 'Data_Generators'...\n",
            "remote: Enumerating objects: 1096, done.\u001b[K\n",
            "remote: Counting objects: 100% (90/90), done.\u001b[K\n",
            "remote: Compressing objects: 100% (65/65), done.\u001b[K\n",
            "remote: Total 1096 (delta 45), reused 68 (delta 25), pack-reused 1006\u001b[K\n",
            "Receiving objects: 100% (1096/1096), 524.75 KiB | 19.43 MiB/s, done.\n",
            "Resolving deltas: 100% (691/691), done.\n",
            "Submodule 'Image_Processors_Module' (https://github.com/brianmanderson/Image_Processors_Module.git) registered for path 'Image_Processors_Module'\n",
            "Cloning into '/content/Data_Generators/Image_Processors_Module'...\n",
            "remote: Enumerating objects: 1292, done.        \n",
            "remote: Counting objects: 100% (87/87), done.        \n",
            "remote: Compressing objects: 100% (32/32), done.        \n",
            "remote: Total 1292 (delta 50), reused 74 (delta 39), pack-reused 1205        \n",
            "Receiving objects: 100% (1292/1292), 290.13 KiB | 19.34 MiB/s, done.\n",
            "Resolving deltas: 100% (823/823), done.\n",
            "Submodule path 'Image_Processors_Module': checked out '6455779d1f70d2020a5e9e2bb713b5a63bbc9e24'\n"
          ]
        }
      ],
      "source": [
        "!git clone --recurse-submodules -j8 https://github.com/brianmanderson/Data_Generators"
      ]
    },
    {
      "cell_type": "code",
      "execution_count": 8,
      "metadata": {
        "id": "5bUN7lljikZn",
        "pycharm": {
          "name": "#%%\n"
        }
      },
      "outputs": [],
      "source": [
        "from Data_Generators.TFRecord_to_Dataset_Generator import DataGeneratorClass\n",
        "from Data_Generators.Image_Processors_Module.src.Processors.TFDataSets import ConstantProcessors as CProcessors,\\\n",
        "    RelativeProcessors as RProcessors"
      ]
    },
    {
      "cell_type": "code",
      "source": [
        "class ImageProcessor(object):\n",
        "    def parse(self, *args, **kwargs):\n",
        "        return args, kwargs\n",
        "def _check_keys_(input_features, keys):\n",
        "    if type(keys) is list or type(keys) is tuple:\n",
        "        for key in keys:\n",
        "            assert key in input_features.keys(), 'Make sure the key you are referring to is present in the features, ' \\\n",
        "                                                 '{} was not found'.format(key)\n",
        "    else:\n",
        "        assert keys in input_features.keys(), 'Make sure the key you are referring to is present in the features, ' \\\n",
        "                                              '{} was not found'.format(keys)\n",
        "class DivideBasedOnOther(ImageProcessor):\n",
        "    def __init__(self, guiding_keys=('annotation',), changing_keys=('image',)):\n",
        "        self.guiding_keys, self.changing_keys = guiding_keys, changing_keys\n",
        "\n",
        "    def parse(self, input_features, *args, **kwargs):\n",
        "        _check_keys_(input_features=input_features, keys=self.guiding_keys)\n",
        "        _check_keys_(input_features=input_features, keys=self.changing_keys)\n",
        "        for guiding_key, changing_key in zip(self.guiding_keys, self.changing_keys):\n",
        "            input_features[changing_key] = input_features[changing_key] / input_features[guiding_key]\n",
        "        return input_features"
      ],
      "metadata": {
        "id": "b7208vBmWPQi",
        "pycharm": {
          "name": "#%%\n"
        }
      },
      "execution_count": 9,
      "outputs": []
    },
    {
      "cell_type": "code",
      "source": [
        "def return_generator(records_path, proj_to_panel=True, add_5cm_keys=False, global_norm=False, **kwargs):\n",
        "  generator = DataGeneratorClass(record_paths=records_path, delete_old_cache=True)\n",
        "  all_keys = ('pdos_array', 'fluence_array','drr_array', 'deep_to_panel_array', 'iso_to_panel_array', 'shallow_to_panel_array')\n",
        "  drr_keys = ('drr_array', 'deep_to_panel_array', 'iso_to_panel_array', 'shallow_to_panel_array', )\n",
        "  input_keys = ('pdos_array', 'drr_array', 'iso_to_panel_array')\n",
        "  if add_5cm_keys:\n",
        "    if proj_to_panel:\n",
        "      input_keys = ('pdos_array', 'drr_array', 'deep_to_panel_array', 'iso_to_panel_array',\n",
        "                    'shallow_to_panel_array')\n",
        "    else:\n",
        "      input_keys = ('pdos_array', 'drr_array', '5cm_deep_array', 'iso_array', 'shallow_array')\n",
        "  print(f\"Inputs are {input_keys}\")\n",
        "  base_processors = [\n",
        "                     CProcessors.Squeeze(image_keys=all_keys),\n",
        "                     CProcessors.ExpandDimension(axis=-1, image_keys=all_keys),\n",
        "                     CProcessors.MultiplyImagesByConstant(keys=drr_keys,\n",
        "                                                          values=(1/255, 1/255, 1/255, 1/255)),\n",
        "                     ]\n",
        "  base_processors += [\n",
        "    CProcessors.Squeeze(image_keys=all_keys),\n",
        "    CProcessors.ExpandDimension(axis=-1, image_keys=all_keys),\n",
        "    CProcessors.CreateNewKey(input_keys=('drr_array',), output_keys=('exp_new_drr_array',)),\n",
        "    CProcessors.MultiplyImagesByConstant(keys=('exp_new_drr_array',), values=(-4,)),\n",
        "    CProcessors.TakeExpOfKey(input_keys=('exp_new_drr_array',)),\n",
        "\n",
        "    CProcessors.CreateNewKey(input_keys=('drr_array',), output_keys=('multiplied_drr_array',)),\n",
        "    CProcessors.MultiplyImagesByConstant(keys=('multiplied_drr_array',), values=(0.15,)),\n",
        "    CProcessors.AddImagesTogether(keys=('exp_new_drr_array', 'multiplied_drr_array'), out_key='exp_new_drr_array'),\n",
        "\n",
        "    CProcessors.CreateNewKey(input_keys=('drr_array',), output_keys=('squared_drr_array',)),\n",
        "    CProcessors.MultiplyImagesTogether(keys=('squared_drr_array', 'squared_drr_array'), out_key='squared_drr_array'),\n",
        "    CProcessors.MultiplyImagesByConstant(keys=('squared_drr_array',), values=(-.1,)),\n",
        "    CProcessors.AddImagesTogether(keys=('exp_new_drr_array', 'multiplied_drr_array'), out_key='summed_drr_array'),\n",
        "\n",
        "    CProcessors.MultiplyImagesTogether(keys=('pdos_array', 'summed_drr_array'), out_key='pdos_drr_multiplied'),\n",
        "]\n",
        "  if global_norm:\n",
        "    print('Global norm')\n",
        "    base_processors += [\n",
        "                        CProcessors.MultiplyImagesByConstant(keys=('pdos_array',\n",
        "                                                                'fluence_array'),\n",
        "                                                             values=(1, 1)) #(1/2, 1/(.3876*2))\n",
        "                        ]\n",
        "  else:\n",
        "    base_processors += [\n",
        "                        RProcessors.NormalizeBasedOnOther(guiding_keys=('pdos_array', 'pdos_array'),\n",
        "                                                          changing_keys=('fluence_array', 'pdos_array'),\n",
        "                                                          reference_method=('reduce_max', 'reduce_max'),\n",
        "                                                          changing_methods=('divide', 'divide'))\n",
        "                        ]\n",
        "  base_processors += [\n",
        "                      CProcessors.CombineKeys(axis=-1,\n",
        "                                              image_keys=input_keys,\n",
        "                                              output_key='output'),\n",
        "                      CProcessors.ReturnOutputs(input_keys=('output',),\n",
        "                                                output_keys=('pdos_drr_multiplied',))\n",
        "  ]\n",
        "  base_processors += [\n",
        "                      {'batch': 1}, {'repeat'}\n",
        "                      ]\n",
        "  generator.compile_data_set(image_processors=base_processors, debug=False)\n",
        "  return generator"
      ],
      "metadata": {
        "id": "FosFkmSHWUyf",
        "pycharm": {
          "name": "#%%\n"
        }
      },
      "execution_count": 73,
      "outputs": []
    },
    {
      "cell_type": "code",
      "source": [
        "def return_generator(records_path, proj_to_panel=True, add_5cm_keys=False, global_norm=False, **kwargs):\n",
        "  generator = DataGeneratorClass(record_paths=records_path, delete_old_cache=True)\n",
        "  all_keys = ('pdos_array', 'fluence_array','drr_array', 'deep_to_panel_array', 'iso_to_panel_array', 'shallow_to_panel_array')\n",
        "  drr_keys = ('drr_array', 'deep_to_panel_array', 'iso_to_panel_array', 'shallow_to_panel_array', )\n",
        "  input_keys = ('pdos_array', 'drr_array', 'iso_to_panel_array')\n",
        "  if add_5cm_keys:\n",
        "    if proj_to_panel:\n",
        "      input_keys = ('pdos_array', 'drr_array', 'deep_to_panel_array', 'iso_to_panel_array',\n",
        "                    'shallow_to_panel_array')\n",
        "    else:\n",
        "      input_keys = ('pdos_array', 'drr_array', '5cm_deep_array', 'iso_array', 'shallow_array')\n",
        "  print(f\"Inputs are {input_keys}\")\n",
        "  base_processors = [\n",
        "                     CProcessors.Squeeze(image_keys=all_keys),\n",
        "                     CProcessors.ExpandDimension(axis=-1, image_keys=all_keys),\n",
        "                     CProcessors.MultiplyImagesByConstant(keys=drr_keys,\n",
        "                                                          values=(1/255, 1/255, 1/255, 1/255)),\n",
        "                     ]\n",
        " \n",
        "  if global_norm:\n",
        "    print('Global norm')\n",
        "    base_processors += [\n",
        "                        CProcessors.MultiplyImagesByConstant(keys=('pdos_array',\n",
        "                                                                'fluence_array'),\n",
        "                                                             values=(1, 1)) #(1/2, 1/(.3876*2))\n",
        "                        ]\n",
        "  else:\n",
        "    base_processors += [\n",
        "                        RProcessors.NormalizeBasedOnOther(guiding_keys=('pdos_array', 'pdos_array'),\n",
        "                                                          changing_keys=('fluence_array', 'pdos_array'),\n",
        "                                                          reference_method=('reduce_max', 'reduce_max'),\n",
        "                                                          changing_methods=('divide', 'divide'))\n",
        "                        ]\n",
        "\n",
        "  base_processors += [\n",
        "    #CProcessors.Squeeze(image_keys=all_keys),\n",
        "    #CProcessors.ExpandDimension(axis=-1, image_keys=all_keys),\n",
        "    CProcessors.CreateNewKey(input_keys=('drr_array',), output_keys=('exp_new_drr_array',)),\n",
        "    CProcessors.MultiplyImagesByConstant(keys=('exp_new_drr_array',), values=(-4.0,)),\n",
        "    CProcessors.TakeExpOfKey(input_keys=('exp_new_drr_array',)),\n",
        "\n",
        "    CProcessors.CreateNewKey(input_keys=('drr_array',), output_keys=('multiplied_drr_array',)),\n",
        "    CProcessors.MultiplyImagesByConstant(keys=('multiplied_drr_array',), values=(0.15,)),\n",
        "    CProcessors.AddImagesTogether(keys=('exp_new_drr_array', 'multiplied_drr_array'), out_key='exp_new_drr_array'),\n",
        "\n",
        "    CProcessors.CreateNewKey(input_keys=('drr_array',), output_keys=('squared_drr_array',)),\n",
        "    CProcessors.MultiplyImagesTogether(keys=('squared_drr_array', 'squared_drr_array'), out_key='squared_drr_array'),\n",
        "    CProcessors.MultiplyImagesByConstant(keys=('squared_drr_array',), values=(-0.1,)),\n",
        "    CProcessors.AddImagesTogether(keys=('exp_new_drr_array', 'squared_drr_array'), out_key='summed_drr_array'),\n",
        "\n",
        "    CProcessors.MultiplyImagesTogether(keys=('pdos_array', 'summed_drr_array'), out_key='pdos_drr_multiplied'),\n",
        "    #CProcessors.MultiplyImagesTogether(keys=('pdos_array', 'exp_new_drr_array'), out_key='pdos_drr_multiplied'),\n",
        "  ] \n",
        "\n",
        "\n",
        "  base_processors += [\n",
        "                      CProcessors.CombineKeys(axis=-1,\n",
        "                                              image_keys=input_keys,\n",
        "                                              output_key='output'),\n",
        "                      CProcessors.ReturnOutputs(input_keys=('output',),\n",
        "                                                output_keys=('pdos_drr_multiplied',))\n",
        "  ]\n",
        "  base_processors += [\n",
        "                      {'batch': 1}, {'repeat'}\n",
        "                      ]\n",
        "  generator.compile_data_set(image_processors=base_processors, debug=False)\n",
        "  return generator"
      ],
      "metadata": {
        "id": "ww0pS_qw7qtI"
      },
      "execution_count": 79,
      "outputs": []
    },
    {
      "cell_type": "code",
      "execution_count": 63,
      "metadata": {
        "id": "r6Mck58p1BCH",
        "pycharm": {
          "name": "#%%\n"
        }
      },
      "outputs": [],
      "source": [
        "# The batch size of 1 produced better results for the U-Net in the original pix2pix experiment\n",
        "BATCH_SIZE = 1\n",
        "# Each image is 256x256 in size\n",
        "IMG_WIDTH = 256\n",
        "IMG_HEIGHT = 256"
      ]
    },
    {
      "cell_type": "code",
      "execution_count": 64,
      "metadata": {
        "id": "76XIMWFXB-kG",
        "pycharm": {
          "name": "#%%\n"
        }
      },
      "outputs": [],
      "source": [
        "def load_data_from_generator(generator):\n",
        "  data = {'input' : [], 'rtimg' : []}\n",
        "  iterator = iter(generator.data_set)\n",
        "  for _ in range(len(generator)):\n",
        "    x, y = next(iterator)\n",
        "    data['input'].append(x[0][0])\n",
        "    data['rtimg'].append(y[0][0])\n",
        "  return data"
      ]
    },
    {
      "cell_type": "markdown",
      "metadata": {
        "id": "wm-XakBDCzRV",
        "pycharm": {
          "name": "#%% md\n"
        }
      },
      "source": [
        "# Return a train and validation dataset based on which fold you want to exclude"
      ]
    },
    {
      "cell_type": "code",
      "source": [
        "def return_datasets(data_generators):\n",
        "  all_datasets = {}\n",
        "  for i in data_generators.keys():\n",
        "    generator = data_generators[i]\n",
        "    all_datasets[i] = tf.data.Dataset.from_tensor_slices((load_data_from_generator(generator)))\n",
        "  return all_datasets\n",
        "\n",
        "def return_fold_datasets(data_generators, batch_size=1):\n",
        "  all_datasets = return_datasets(data_generators)\n",
        "\n",
        "  train_dataset = all_datasets['train']\n",
        "  train_dataset = train_dataset.shuffle(len(train_dataset))\n",
        "  train_dataset = train_dataset.batch(int(batch_size))\n",
        "  \n",
        "  valid_dataset = all_datasets['validation']\n",
        "  valid_dataset = valid_dataset.shuffle(len(valid_dataset))\n",
        "  valid_dataset = valid_dataset.batch(1)\n",
        "\n",
        "  test_dataset = all_datasets['test']\n",
        "  test_dataset = test_dataset.shuffle(len(test_dataset))\n",
        "  test_dataset = test_dataset.batch(1)\n",
        "  return train_dataset, valid_dataset, test_dataset"
      ],
      "metadata": {
        "id": "eI8SbC8_Wfp6",
        "pycharm": {
          "name": "#%%\n"
        }
      },
      "execution_count": 65,
      "outputs": []
    },
    {
      "cell_type": "code",
      "source": [
        "def return_dataset(generator, batch):\n",
        "  input_values = []\n",
        "  output_values = []\n",
        "  iterator = iter(generator.data_set)\n",
        "  for _ in range(len(generator)):\n",
        "    x, y = next(iterator)\n",
        "    input_values.append(x[0][0])\n",
        "    output_values.append(y[0][0])\n",
        "  input_dataset = tf.data.Dataset.from_tensor_slices(input_values)\n",
        "  output_dataset = tf.data.Dataset.from_tensor_slices(output_values)\n",
        "  dataset = tf.data.Dataset.zip((input_dataset, output_dataset))\n",
        "  dataset = dataset.shuffle(len(dataset)).batch(int(batch))\n",
        "  return dataset"
      ],
      "metadata": {
        "id": "9-YLJrpjWknC",
        "pycharm": {
          "name": "#%%\n"
        }
      },
      "execution_count": 66,
      "outputs": []
    },
    {
      "cell_type": "code",
      "source": [
        "def return_generators(base_path, excluded_fold=5, batch=1, **kwargs):\n",
        "  data_generators = {}\n",
        "  train_folder_names = []\n",
        "  val_folder_names = []\n",
        "  test_folder_names = []\n",
        "  #train_folder_names.append(os.path.join(base_path, 'onefrac_train'))\n",
        "  #val_folder_names.append(os.path.join(base_path, 'onefrac_valid'))\n",
        "  #train_folder_names.append(os.path.join(base_path, 'phantom_train'))\n",
        "  #val_folder_names.append(os.path.join(base_path, 'phantom_valid'))\n",
        "  #test_folder_names.append(os.path.join(base_path, 'phantom_valid'))\n",
        "  #test_folder_names.append(os.path.join(base_path, 'pat6'))\n",
        "  \n",
        "  for i in range(1,6):\n",
        "    folder_name = '/content/drive/My Drive/data/fold{}'.format(i)\n",
        "    if i != excluded_fold:\n",
        "      train_folder_names.append(folder_name)\n",
        "    else:\n",
        "      val_folder_names.append(folder_name)\n",
        "  \n",
        "  train_gen = return_generator(train_folder_names, batch=1, **kwargs)\n",
        "  train_gen = return_dataset(train_gen, batch)\n",
        "\n",
        "  valid_gen = return_generator(val_folder_names, batch=1, **kwargs)\n",
        "  valid_gen = return_dataset(valid_gen, 1)\n",
        "  \n",
        "\n",
        "  \n",
        "  return train_gen, valid_gen"
      ],
      "metadata": {
        "id": "L3dT3IDBWpli",
        "pycharm": {
          "name": "#%%\n"
        }
      },
      "execution_count": 67,
      "outputs": []
    },
    {
      "cell_type": "code",
      "source": [
        "batch = 1\n",
        "base_path = '/content/drive/My Drive/data'\n",
        "train_dataset, valid_dataset = return_generators(base_path, excluded_fold=1, batch=batch)"
      ],
      "metadata": {
        "colab": {
          "base_uri": "https://localhost:8080/"
        },
        "id": "fiMEkxV9WuDq",
        "outputId": "8adbe233-9ff0-4234-8945-0247169ed7e8",
        "pycharm": {
          "name": "#%%\n"
        }
      },
      "execution_count": 80,
      "outputs": [
        {
          "output_type": "stream",
          "name": "stdout",
          "text": [
            "Inputs are ('pdos_array', 'drr_array', 'iso_to_panel_array')\n",
            "<Data_Generators.Image_Processors_Module.src.Processors.TFDataSets.ConstantProcessors.Squeeze object at 0x7fa382e103d0>\n",
            "<Data_Generators.Image_Processors_Module.src.Processors.TFDataSets.ConstantProcessors.ExpandDimension object at 0x7fa382cf05d0>\n",
            "<Data_Generators.Image_Processors_Module.src.Processors.TFDataSets.ConstantProcessors.MultiplyImagesByConstant object at 0x7fa382cf0090>\n",
            "<Data_Generators.Image_Processors_Module.src.Processors.TFDataSets.RelativeProcessors.NormalizeBasedOnOther object at 0x7fa37a12a550>\n",
            "<Data_Generators.Image_Processors_Module.src.Processors.TFDataSets.ConstantProcessors.CreateNewKey object at 0x7fa37a12a350>\n",
            "<Data_Generators.Image_Processors_Module.src.Processors.TFDataSets.ConstantProcessors.MultiplyImagesByConstant object at 0x7fa37a12a4d0>\n",
            "<Data_Generators.Image_Processors_Module.src.Processors.TFDataSets.ConstantProcessors.TakeExpOfKey object at 0x7fa375fd3710>\n",
            "<Data_Generators.Image_Processors_Module.src.Processors.TFDataSets.ConstantProcessors.CreateNewKey object at 0x7fa375fd3c50>\n",
            "<Data_Generators.Image_Processors_Module.src.Processors.TFDataSets.ConstantProcessors.MultiplyImagesByConstant object at 0x7fa375fd3d10>\n",
            "<Data_Generators.Image_Processors_Module.src.Processors.TFDataSets.ConstantProcessors.AddImagesTogether object at 0x7fa375fd3810>\n",
            "<Data_Generators.Image_Processors_Module.src.Processors.TFDataSets.ConstantProcessors.CreateNewKey object at 0x7fa375fd39d0>\n",
            "<Data_Generators.Image_Processors_Module.src.Processors.TFDataSets.ConstantProcessors.MultiplyImagesTogether object at 0x7fa375fd3910>\n",
            "<Data_Generators.Image_Processors_Module.src.Processors.TFDataSets.ConstantProcessors.MultiplyImagesByConstant object at 0x7fa375fd3950>\n",
            "<Data_Generators.Image_Processors_Module.src.Processors.TFDataSets.ConstantProcessors.AddImagesTogether object at 0x7fa375fd3410>\n",
            "<Data_Generators.Image_Processors_Module.src.Processors.TFDataSets.ConstantProcessors.MultiplyImagesTogether object at 0x7fa375fd34d0>\n",
            "<Data_Generators.Image_Processors_Module.src.Processors.TFDataSets.ConstantProcessors.CombineKeys object at 0x7fa37a12a250>\n",
            "<Data_Generators.Image_Processors_Module.src.Processors.TFDataSets.ConstantProcessors.ReturnOutputs object at 0x7fa375fd3490>\n",
            "{'batch': 1}\n",
            "{'repeat'}\n",
            "Inputs are ('pdos_array', 'drr_array', 'iso_to_panel_array')\n",
            "<Data_Generators.Image_Processors_Module.src.Processors.TFDataSets.ConstantProcessors.Squeeze object at 0x7fa37a1d5210>\n",
            "<Data_Generators.Image_Processors_Module.src.Processors.TFDataSets.ConstantProcessors.ExpandDimension object at 0x7fa37a1d5c50>\n",
            "<Data_Generators.Image_Processors_Module.src.Processors.TFDataSets.ConstantProcessors.MultiplyImagesByConstant object at 0x7fa37a1d5e10>\n",
            "<Data_Generators.Image_Processors_Module.src.Processors.TFDataSets.RelativeProcessors.NormalizeBasedOnOther object at 0x7fa37a1d5d90>\n",
            "<Data_Generators.Image_Processors_Module.src.Processors.TFDataSets.ConstantProcessors.CreateNewKey object at 0x7fa3827f1190>\n",
            "<Data_Generators.Image_Processors_Module.src.Processors.TFDataSets.ConstantProcessors.MultiplyImagesByConstant object at 0x7fa38282c050>\n",
            "<Data_Generators.Image_Processors_Module.src.Processors.TFDataSets.ConstantProcessors.TakeExpOfKey object at 0x7fa38282c390>\n",
            "<Data_Generators.Image_Processors_Module.src.Processors.TFDataSets.ConstantProcessors.CreateNewKey object at 0x7fa38282c3d0>\n",
            "<Data_Generators.Image_Processors_Module.src.Processors.TFDataSets.ConstantProcessors.MultiplyImagesByConstant object at 0x7fa38282c410>\n",
            "<Data_Generators.Image_Processors_Module.src.Processors.TFDataSets.ConstantProcessors.AddImagesTogether object at 0x7fa38282c450>\n",
            "<Data_Generators.Image_Processors_Module.src.Processors.TFDataSets.ConstantProcessors.CreateNewKey object at 0x7fa38282c490>\n",
            "<Data_Generators.Image_Processors_Module.src.Processors.TFDataSets.ConstantProcessors.MultiplyImagesTogether object at 0x7fa38282c4d0>\n",
            "<Data_Generators.Image_Processors_Module.src.Processors.TFDataSets.ConstantProcessors.MultiplyImagesByConstant object at 0x7fa38282c510>\n",
            "<Data_Generators.Image_Processors_Module.src.Processors.TFDataSets.ConstantProcessors.AddImagesTogether object at 0x7fa38282c550>\n",
            "<Data_Generators.Image_Processors_Module.src.Processors.TFDataSets.ConstantProcessors.MultiplyImagesTogether object at 0x7fa38282c590>\n",
            "<Data_Generators.Image_Processors_Module.src.Processors.TFDataSets.ConstantProcessors.CombineKeys object at 0x7fa3827f1110>\n",
            "<Data_Generators.Image_Processors_Module.src.Processors.TFDataSets.ConstantProcessors.ReturnOutputs object at 0x7fa38282c5d0>\n",
            "{'batch': 1}\n",
            "{'repeat'}\n"
          ]
        }
      ]
    },
    {
      "cell_type": "code",
      "source": [
        "iterx = iter(train_dataset.repeat())"
      ],
      "metadata": {
        "id": "-xQsgfRoW4GC",
        "pycharm": {
          "name": "#%%\n"
        }
      },
      "execution_count": 82,
      "outputs": []
    },
    {
      "cell_type": "code",
      "source": [
        "train_len = len(train_dataset)\n",
        "valid_len = len(valid_dataset)\n",
        "#test_len =  len(test_dataset)\n",
        "x, y = next(iterx)\n",
        "print(train_len)\n",
        "print(valid_len)\n",
        "#print(test_len)\n",
        "plt.imshow(x[0,...,1])"
      ],
      "metadata": {
        "colab": {
          "base_uri": "https://localhost:8080/",
          "height": 323
        },
        "id": "vRH4eOwuW78k",
        "outputId": "cb3a8608-538c-4013-c932-1649c4d89b53",
        "pycharm": {
          "name": "#%%\n"
        }
      },
      "execution_count": 83,
      "outputs": [
        {
          "output_type": "stream",
          "name": "stdout",
          "text": [
            "286\n",
            "72\n"
          ]
        },
        {
          "output_type": "execute_result",
          "data": {
            "text/plain": [
              "<matplotlib.image.AxesImage at 0x7fa383442b10>"
            ]
          },
          "metadata": {},
          "execution_count": 83
        },
        {
          "output_type": "display_data",
          "data": {
            "text/plain": [
              "<Figure size 432x288 with 1 Axes>"
            ],
            "image/png": "[encoded data removed]"
          },
          "metadata": {
            "needs_background": "light"
          }
        }
      ]
    },
    {
      "cell_type": "code",
      "source": [
        "train_len = len(train_dataset)\n",
        "valid_len = len(valid_dataset)\n",
        "#test_len =  len(test_dataset)\n",
        "x, y = next(iterx)\n",
        "#print(train_len)\n",
        "#print(valid_len)\n",
        "#print(test_len)\n",
        "#plt.imshow(y[0,...,0])\n",
        "\n",
        "rt = y[0,...,0].numpy()\n",
        "\n",
        "pdos = x[0,...,0].numpy()\n",
        "cbct = x[0,...,1].numpy()\n",
        "\n",
        "plt.figure(figsize=(10, 10))\n",
        "plt.subplot(1,3,1)\n",
        "\n",
        "plt.imshow(rt)\n",
        "#plt.plot(pdos[128,1:256],'b')\n",
        "#plt.plot(cbct[128,1:256],'r')\n",
        "\n",
        "#plt.show()\n",
        "\n",
        "cbctval = []\n",
        "ratio = []\n",
        "pdosval = [] \n",
        "\n",
        "rtmax = rt.max(0).max(-1)\n",
        "#print(rtmax)\n",
        "\n",
        "for i in range(0,256):\n",
        "  for j in range(0,256):\n",
        "    if(rt[i,j] > rtmax*0.005):\n",
        "      cbctval = np.append(cbctval,cbct[i,j])\n",
        "      pdosval = np.append(pdosval,pdos[i,j])\n",
        "      ratio = np.append(ratio,rt[i,j]/pdos[i,j])\n",
        "\n",
        "plt.subplot(1,3,2)\n",
        "plt.plot(cbctval,ratio,'bo')\n",
        "\n",
        "#xp = np.arange(0, 200.0, 0.1)\n",
        "#yp = np.exp(-4.0/255 * xp) + 0.15/255 * xp - 0.1/65025 * xp * xp\n",
        "# #yp = pdosval*( np.exp(-4.0/255 *cbctval) + 0.15/255 * cbctval - 0.1/65025 * cbctval * cbctval)\n",
        "xp = np.arange(0, 1.0, 0.01)\n",
        "yp = np.exp(-4.0 * xp) + 0.15 * xp -0.1* xp * xp\n",
        "#yp = np.exp(-4.0 * xp) -0.1* xp * xp\n",
        "\n",
        "plt.plot(xp, yp,'r')\n",
        "\n",
        "#plt.subplot(1,3,3)\n",
        "#plt.plot(rt[128,1:256]/pdos[128,1:256],'b')\n",
        "#plt.plot(pdos[128,1:256],'r')\n",
        "#plt.plot(rt[128,1:256],'b')\n"
      ],
      "metadata": {
        "colab": {
          "base_uri": "https://localhost:8080/",
          "height": 610
        },
        "id": "iO1c32Cd6-L8",
        "outputId": "5b351ff8-a583-43d8-e2d4-e7db869b2668"
      },
      "execution_count": 224,
      "outputs": [
        {
          "output_type": "execute_result",
          "data": {
            "text/plain": [
              "[<matplotlib.lines.Line2D at 0x7fa37c2bd910>]"
            ]
          },
          "metadata": {},
          "execution_count": 224
        },
        {
          "output_type": "display_data",
          "data": {
            "text/plain": [
              "<Figure size 720x720 with 2 Axes>"
            ],
            "image/png": "[encoded data removed]"
          },
          "metadata": {
            "needs_background": "light"
          }
        }
      ]
    },
    {
      "cell_type": "markdown",
      "metadata": {
        "id": "wfAQbzy799UV",
        "pycharm": {
          "name": "#%% md\n"
        }
      },
      "source": [
        "You can inspect some of the preprocessed output:"
      ]
    },
    {
      "cell_type": "code",
      "execution_count": null,
      "metadata": {
        "id": "3R09ATE_SH9P",
        "pycharm": {
          "name": "#%%\n"
        }
      },
      "outputs": [],
      "source": [
        "def downsample(filters, size, apply_batchnorm=True):\n",
        "  initializer = tf.random_normal_initializer(0., 0.02)\n",
        "\n",
        "  result = tf.keras.Sequential()\n",
        "  result.add(\n",
        "      tf.keras.layers.Conv2D(filters, size, strides=2, padding='same',\n",
        "                             kernel_initializer=initializer, use_bias=False))\n",
        "\n",
        "  if apply_batchnorm:\n",
        "    result.add(tf.keras.layers.BatchNormalization())\n",
        "\n",
        "  result.add(tf.keras.layers.LeakyReLU())\n",
        "\n",
        "  return result"
      ]
    },
    {
      "cell_type": "markdown",
      "metadata": {
        "id": "aFI_Pa52tjLl",
        "pycharm": {
          "name": "#%% md\n"
        }
      },
      "source": [
        "Define the upsampler (decoder):"
      ]
    },
    {
      "cell_type": "code",
      "execution_count": null,
      "metadata": {
        "id": "nhgDsHClSQzP",
        "pycharm": {
          "name": "#%%\n"
        }
      },
      "outputs": [],
      "source": [
        "def upsample(filters, size, apply_dropout=False):\n",
        "  initializer = tf.random_normal_initializer(0., 0.02)\n",
        "\n",
        "  result = tf.keras.Sequential()\n",
        "  result.add(\n",
        "    tf.keras.layers.Conv2DTranspose(filters, size, strides=2,\n",
        "                                    padding='same',\n",
        "                                    kernel_initializer=initializer,\n",
        "                                    use_bias=False))\n",
        "\n",
        "  result.add(tf.keras.layers.BatchNormalization())\n",
        "\n",
        "  if apply_dropout:\n",
        "      result.add(tf.keras.layers.Dropout(0.5))\n",
        "\n",
        "  result.add(tf.keras.layers.ReLU())\n",
        "\n",
        "  return result"
      ]
    },
    {
      "cell_type": "code",
      "source": [
        "for val in train_dataset.take(1):\n",
        "  inp = val[0]\n",
        "  #inp = tf.squeeze(inp,axis=-1)\n",
        "  #print(inp)"
      ],
      "metadata": {
        "id": "zHGHuYZ3QYEM",
        "pycharm": {
          "name": "#%%\n"
        }
      },
      "execution_count": 24,
      "outputs": []
    },
    {
      "cell_type": "code",
      "execution_count": null,
      "metadata": {
        "id": "mz-ahSdsq0Oc",
        "pycharm": {
          "name": "#%%\n"
        }
      },
      "outputs": [],
      "source": [
        "# up_model = upsample(3, 4)\n",
        "# up_result = up_model(down_result)\n",
        "# print (up_result.shape)"
      ]
    },
    {
      "cell_type": "code",
      "source": [
        "def Generator():\n",
        "  \n",
        "  \n",
        "  initializerP = tf.random_normal_initializer(1.0, 0.5)\n",
        "  initializerC = tf.random_normal_initializer(0.1, 0.5)\n",
        "  initializerC2 = tf.random_normal_initializer(0.01, 0.5)\n",
        "  initializerC3 = tf.random_normal_initializer(0.001, 0.5)\n",
        "  # inputsCT = tf.keras.layers.Input(shape=[256, 256, 1])\n",
        "  # inputsPDOS = tf.keras.layers.Input(shape=[256, 256, 1])\n",
        "  inputs = tf.keras.layers.Input(shape=[256, 256, 3])\n",
        "  inputsCT = tf.expand_dims(inputs[..., 1], axis=-1)\n",
        "  inputsPDOS = tf.expand_dims(inputs[..., 0], axis=-1)\n",
        "  halfCBCT = tf.expand_dims(inputs[..., 2], axis=-1)\n",
        "  \n",
        "  \n",
        "  pdos_layer = tf.keras.layers.Conv2D(1, 1, strides=1, activation=None, padding='same', kernel_initializer=initializerP, use_bias=False)(inputsPDOS)\n",
        "\n",
        "  ct_layer1 = tf.keras.layers.Conv2D(1, 1, strides=1, activation=None, padding='same', kernel_initializer=initializerC, use_bias=True)(inputsCT)\n",
        "  ct_layer2 = tf.keras.layers.Conv2D(1, 1, strides=1, activation=None, padding='same', kernel_initializer=initializerC2, use_bias=True)(inputsCT)\n",
        "  ct_layer3 = tf.keras.layers.Conv2D(1, 1, strides=1, activation=None, padding='same', kernel_initializer=initializerC3, use_bias=True)(inputsCT)\n",
        "\n",
        "  ct_sq = tf.keras.layers.Multiply()([ct_layer2,ct_layer2])\n",
        "\n",
        "  ct_int = tf.keras.layers.Multiply()([ct_layer3,ct_layer3])\n",
        "\n",
        "  ct_cube = tf.keras.layers.Multiply()([ct_int,ct_layer3])\n",
        "\n",
        "  addend1 = tf.keras.layers.Add()([ct_layer1, ct_sq])\n",
        "  \n",
        "\n",
        "  sum = tf.keras.layers.Add()([addend1, ct_cube])\n",
        "  last = tf.keras.layers.Multiply()([pdos_layer, sum])\n",
        "\n",
        "\n",
        "  return tf.keras.Model(inputs=inputs, outputs=last)"
      ],
      "metadata": {
        "id": "d_td107K7pnA",
        "pycharm": {
          "name": "#%%\n"
        }
      },
      "execution_count": 107,
      "outputs": []
    },
    {
      "cell_type": "markdown",
      "metadata": {
        "id": "ueEJyRVrtZ-p",
        "pycharm": {
          "name": "#%% md\n"
        }
      },
      "source": [
        "Define the generator with the downsampler and the upsampler:"
      ]
    },
    {
      "cell_type": "code",
      "execution_count": null,
      "metadata": {
        "id": "chllEeBC48vz",
        "pycharm": {
          "name": "#%%\n"
        }
      },
      "outputs": [],
      "source": [
        "#generator = Generator(size=4, layers=4, double_layers=4, filters_start=16)\n",
        "# tf.keras.utils.plot_model(new_generator, show_shapes=True, dpi=64)"
      ]
    },
    {
      "cell_type": "markdown",
      "metadata": {
        "id": "Z4PKwrcQFYvF",
        "pycharm": {
          "name": "#%% md\n"
        }
      },
      "source": [
        "Visualize the generator model architecture:"
      ]
    },
    {
      "cell_type": "code",
      "execution_count": 108,
      "metadata": {
        "id": "dIbRPFzjmV85",
        "colab": {
          "base_uri": "https://localhost:8080/"
        },
        "outputId": "e7422ca3-759b-4e14-8aec-91eced3deb1a",
        "pycharm": {
          "name": "#%%\n"
        }
      },
      "outputs": [
        {
          "output_type": "stream",
          "name": "stdout",
          "text": [
            "Model: \"model_15\"\n",
            "__________________________________________________________________________________________________\n",
            " Layer (type)                   Output Shape         Param #     Connected to                     \n",
            "==================================================================================================\n",
            " input_17 (InputLayer)          [(None, 256, 256, 3  0           []                               \n",
            "                                )]                                                                \n",
            "                                                                                                  \n",
            " tf.__operators__.getitem_48 (S  (None, 256, 256)    0           ['input_17[0][0]']               \n",
            " licingOpLambda)                                                                                  \n",
            "                                                                                                  \n",
            " tf.expand_dims_48 (TFOpLambda)  (None, 256, 256, 1)  0          ['tf.__operators__.getitem_48[0][\n",
            "                                                                 0]']                             \n",
            "                                                                                                  \n",
            " conv2d_66 (Conv2D)             (None, 256, 256, 1)  2           ['tf.expand_dims_48[0][0]']      \n",
            "                                                                                                  \n",
            " conv2d_67 (Conv2D)             (None, 256, 256, 1)  2           ['tf.expand_dims_48[0][0]']      \n",
            "                                                                                                  \n",
            " tf.__operators__.getitem_49 (S  (None, 256, 256)    0           ['input_17[0][0]']               \n",
            " licingOpLambda)                                                                                  \n",
            "                                                                                                  \n",
            " conv2d_65 (Conv2D)             (None, 256, 256, 1)  2           ['tf.expand_dims_48[0][0]']      \n",
            "                                                                                                  \n",
            " multiply_63 (Multiply)         (None, 256, 256, 1)  0           ['conv2d_66[0][0]',              \n",
            "                                                                  'conv2d_66[0][0]']              \n",
            "                                                                                                  \n",
            " multiply_64 (Multiply)         (None, 256, 256, 1)  0           ['conv2d_67[0][0]',              \n",
            "                                                                  'conv2d_67[0][0]']              \n",
            "                                                                                                  \n",
            " tf.expand_dims_49 (TFOpLambda)  (None, 256, 256, 1)  0          ['tf.__operators__.getitem_49[0][\n",
            "                                                                 0]']                             \n",
            "                                                                                                  \n",
            " add_32 (Add)                   (None, 256, 256, 1)  0           ['conv2d_65[0][0]',              \n",
            "                                                                  'multiply_63[0][0]']            \n",
            "                                                                                                  \n",
            " multiply_65 (Multiply)         (None, 256, 256, 1)  0           ['multiply_64[0][0]',            \n",
            "                                                                  'conv2d_67[0][0]']              \n",
            "                                                                                                  \n",
            " conv2d_64 (Conv2D)             (None, 256, 256, 1)  1           ['tf.expand_dims_49[0][0]']      \n",
            "                                                                                                  \n",
            " add_33 (Add)                   (None, 256, 256, 1)  0           ['add_32[0][0]',                 \n",
            "                                                                  'multiply_65[0][0]']            \n",
            "                                                                                                  \n",
            " multiply_66 (Multiply)         (None, 256, 256, 1)  0           ['conv2d_64[0][0]',              \n",
            "                                                                  'add_33[0][0]']                 \n",
            "                                                                                                  \n",
            "==================================================================================================\n",
            "Total params: 7\n",
            "Trainable params: 7\n",
            "Non-trainable params: 0\n",
            "__________________________________________________________________________________________________\n"
          ]
        }
      ],
      "source": [
        "#generator = Generator()\n",
        "#tf.keras.utils.plot_model(generator, show_shapes=True, dpi=64)\n",
        "generator = Generator()\n",
        "#tf.keras.utils.plot_model(generator, show_shapes=True, dpi=64)\n",
        "generator.summary()"
      ]
    },
    {
      "cell_type": "markdown",
      "metadata": {
        "id": "Z8kbgTK8FcPo",
        "pycharm": {
          "name": "#%% md\n"
        }
      },
      "source": [
        "Test the generator:"
      ]
    },
    {
      "cell_type": "code",
      "execution_count": 105,
      "metadata": {
        "id": "U1N1_obwtdQH",
        "colab": {
          "base_uri": "https://localhost:8080/",
          "height": 323
        },
        "outputId": "98c772f4-e481-4597-f3c2-c2608e6461f9",
        "pycharm": {
          "name": "#%%\n"
        }
      },
      "outputs": [
        {
          "output_type": "stream",
          "name": "stdout",
          "text": [
            "tf.Tensor([  1 256 256   3], shape=(4,), dtype=int32)\n",
            "tf.Tensor([  1   1 256 256   3], shape=(5,), dtype=int32)\n"
          ]
        },
        {
          "output_type": "execute_result",
          "data": {
            "text/plain": [
              "<matplotlib.image.AxesImage at 0x7fa38364f6d0>"
            ]
          },
          "metadata": {},
          "execution_count": 105
        },
        {
          "output_type": "display_data",
          "data": {
            "text/plain": [
              "<Figure size 432x288 with 1 Axes>"
            ],
            "image/png": "[encoded data removed]"
          },
          "metadata": {
            "needs_background": "light"
          }
        }
      ],
      "source": [
        "print(tf.shape(inp))\n",
        "print(tf.shape(inp[tf.newaxis, ...]))\n",
        "gen_output = generator(inp, training=False)\n",
        "#gen_output = generator(inp[tf.newaxis, ...], training=False)\n",
        "# #print(tf.shape(gen_output))\n",
        "plt.imshow(tf.squeeze(gen_output[0, ...],axis=-1))"
      ]
    },
    {
      "cell_type": "markdown",
      "metadata": {
        "id": "dpDPEQXIAiQO",
        "pycharm": {
          "name": "#%% md\n"
        }
      },
      "source": [
        "### Define the generator loss\n",
        "\n",
        "GANs learn a loss that adapts to the data, while cGANs learn a structured loss that penalizes a possible structure that differs from the network output and the target image, as described in the [pix2pix paper](https://arxiv.org/abs/1611.07004).\n",
        "\n",
        "- The generator loss is a sigmoid cross-entropy loss of the generated images and an **array of ones**.\n",
        "- The pix2pix paper also mentions the L1 loss, which is a MAE (mean absolute error) between the generated image and the target image.\n",
        "- This allows the generated image to become structurally similar to the target image.\n",
        "- The formula to calculate the total generator loss is `gan_loss + LAMBDA * l1_loss`, where `LAMBDA = 100`. This value was decided by the authors of the paper."
      ]
    },
    {
      "cell_type": "code",
      "source": [
        "def plot_images(prediction, input, target):\n",
        "  plt.figure(figsize=(15, 10))\n",
        "\n",
        "  # print(\"Input \")\n",
        "  # print(type(cbct_input))\n",
        "  # print(tf.shape(cbct_input))\n",
        "  # print(\"ground truth\")\n",
        "  # print(type(tar))\n",
        "  # print(tf.shape(tar))\n",
        "  display_list = [ input[0], target[0], prediction[0] ]\n",
        "  title = ['Input CBCT Image', 'Ground Truth', 'Predicted Image']\n",
        "  \n",
        "  plt.subplot(1, 4, 1)\n",
        "  plt.title('Input Image')\n",
        "  # Getting the pixel values in the [0, 1] range to plot.\n",
        "  \n",
        "  input = tf.squeeze(input,axis=0)\n",
        "  inslice = input[...,1]\n",
        "  \n",
        "  plt.imshow(inslice)\n",
        "  plt.axis('off')\n",
        "\n",
        "  plt.subplot(1, 4, 2)\n",
        "  plt.title('Ground Truth')\n",
        "  # Getting the pixel values in the [0, 1] range to plot.\n",
        "  #plt.imshow(tf.squeeze(tar[0],axis=0))\n",
        "  #tar = tf.cast(tar,tf.float32)\n",
        "  plt.imshow(tf.squeeze(target[0],axis=-1))\n",
        "  plt.axis('off')\n",
        "\n",
        "  plt.subplot(1, 4, 3)\n",
        "  plt.title('Predicted Image')\n",
        "  plt.imshow(tf.squeeze(prediction))\n",
        "  plt.axis('off')\n",
        "\n",
        "  target = tf.squeeze(target)\n",
        "  prediction = tf.squeeze(prediction)\n",
        "  \n",
        "  predvec = prediction[128,1:256]\n",
        "  rtvec = target[128,1:256]\n",
        "  \n",
        "\n",
        "  plt.axis('off')\n",
        "  plt.subplot(1, 4, 4)\n",
        "  plt.plot(rtvec,'g')\n",
        "  plt.title(\"Meas RT IMG (Green)\")\n",
        "  plt.plot(predvec,'b')\n",
        "\n",
        "  # Getting the pixel values in the [0, 1] range to plot.\n",
        "  #print(tf.shape(prediction))\n",
        "  #prediction = tf.cast(prediction,tf.float32)\n",
        "  #plt.imshow(tf.squeeze(prediction[0],axis=-1))\n",
        "  #plt.axis('off')\n",
        "  \n",
        "  plt.show()"
      ],
      "metadata": {
        "id": "EzCJpuIuT_LK"
      },
      "execution_count": 36,
      "outputs": []
    },
    {
      "cell_type": "code",
      "source": [
        "def generate_images(model, input, tar):\n",
        "  prediction = model.predict(input)\n",
        "  plot_images(prediction, input, tar)"
      ],
      "metadata": {
        "id": "uo9Fc6rzUGvB"
      },
      "execution_count": 37,
      "outputs": []
    },
    {
      "cell_type": "code",
      "source": [
        "val_iterator = iter(valid_dataset)\n",
        "x,y = next(val_iterator)\n",
        "#pred = model.predict(x)\n",
        "generate_images(generator, x, y)"
      ],
      "metadata": {
        "colab": {
          "base_uri": "https://localhost:8080/",
          "height": 625
        },
        "id": "r4hLyORHUK54",
        "outputId": "3fb9d322-ad89-402c-ab6c-f70a5e7a66e5"
      },
      "execution_count": 111,
      "outputs": [
        {
          "output_type": "stream",
          "name": "stdout",
          "text": [
            "1/1 [==============================] - 0s 16ms/step\n"
          ]
        },
        {
          "output_type": "display_data",
          "data": {
            "text/plain": [
              "<Figure size 1080x720 with 4 Axes>"
            ],
            "image/png": "[encoded data removed]"
          },
          "metadata": {
            "needs_background": "light"
          }
        }
      ]
    },
    {
      "cell_type": "code",
      "source": [
        "from tensorflow.python.ops import math_ops\n",
        "class CustomMeanSquareError(tf.keras.losses.Loss):\n",
        "  def call(self, y_true, y_pred):\n",
        "    y_pred = tf.convert_to_tensor(y_pred)\n",
        "    y_true = tf.cast(y_true, y_pred.dtype)\n",
        "    return tf.reduce_mean(math_ops.square(y_pred - y_true), axis=-1)\n",
        "class CustomMultSquareError(tf.keras.losses.Loss):\n",
        "  def call(self, y_true, y_pred):\n",
        "    y_pred = tf.convert_to_tensor(y_pred)\n",
        "    y_true = tf.cast(y_true, y_pred.dtype)\n",
        "    return tf.reduce_mean(tf.abs(y_pred - y_true) * tf.abs(y_true), axis=-1)"
      ],
      "metadata": {
        "id": "6zBYotYmUq1N"
      },
      "execution_count": 39,
      "outputs": []
    },
    {
      "cell_type": "code",
      "source": [
        "mae = tf.keras.metrics.MeanAbsoluteError()\n",
        "mae_loss = tf.keras.losses.MeanAbsoluteError()\n",
        "#mae_loss = CustomWeigthed() "
      ],
      "metadata": {
        "id": "Q56m3Zf2UwzB"
      },
      "execution_count": 40,
      "outputs": []
    },
    {
      "cell_type": "code",
      "source": [
        "epochs = 31\n",
        "train_gen = train_dataset\n",
        "val_gen = valid_dataset\n",
        "#train_gen = data_generators['train']\n",
        "#val_gen = data_generators['validation']\n",
        "dilation_kernel = 3\n",
        "scatter = True\n",
        "add_half = False\n",
        "\n",
        "for lr in [5.0521e-4]:\n",
        "  \n",
        "  generator = Generator()\n",
        "       \n",
        "  tensorboard_output = \"/content/drive/MyDrive/Colab Notebooks/logs_CB/testfake\"\n",
        "  print(tensorboard_output)\n",
        "        \n",
        "  if not os.path.exists(tensorboard_output):\n",
        "    os.makedirs(tensorboard_output)\n",
        "  else:\n",
        "    print(\"bah\")\n",
        "    #continue\n",
        "  tensorboard = tf.keras.callbacks.TensorBoard(log_dir=tensorboard_output,\n",
        "                                                      profile_batch=0,\n",
        "                                                      write_graph=False)\n",
        "  generator.compile(optimizer=tf.keras.optimizers.Adam(lr, beta_1=0.5),\n",
        "                          loss=mae_loss, metrics=[mae])\n",
        "  print(len(train_gen))\n",
        "  generator.fit(train_gen, steps_per_epoch=len(train_gen),\n",
        "                      validation_data=val_gen, epochs=epochs, validation_freq=5,\n",
        "                      validation_steps=len(val_gen), callbacks=[tensorboard])\n",
        "  generator.save(os.path.join(tensorboard_output, 'final_model.h5'))"
      ],
      "metadata": {
        "colab": {
          "base_uri": "https://localhost:8080/"
        },
        "id": "XXLhrV9iU3JB",
        "outputId": "44fd30ab-be11-4a26-f4bf-1dbc25cb092b"
      },
      "execution_count": 112,
      "outputs": [
        {
          "output_type": "stream",
          "name": "stdout",
          "text": [
            "/content/drive/MyDrive/Colab Notebooks/logs_CB/testfake\n",
            "bah\n",
            "286\n",
            "Epoch 1/31\n",
            "286/286 [==============================] - 2s 4ms/step - loss: 0.0192 - mean_absolute_error: 0.0138\n",
            "Epoch 2/31\n",
            "286/286 [==============================] - 1s 4ms/step - loss: 0.0157 - mean_absolute_error: 0.0157\n",
            "Epoch 3/31\n",
            "286/286 [==============================] - 1s 4ms/step - loss: 0.0143 - mean_absolute_error: 0.0143\n",
            "Epoch 4/31\n",
            "286/286 [==============================] - 1s 4ms/step - loss: 0.0129 - mean_absolute_error: 0.0129\n",
            "Epoch 5/31\n",
            "286/286 [==============================] - 1s 5ms/step - loss: 0.0117 - mean_absolute_error: 0.0117 - val_loss: 0.0121 - val_mean_absolute_error: 0.0121\n",
            "Epoch 6/31\n",
            "286/286 [==============================] - 1s 4ms/step - loss: 0.0104 - mean_absolute_error: 0.0104\n",
            "Epoch 7/31\n",
            "286/286 [==============================] - 1s 4ms/step - loss: 0.0090 - mean_absolute_error: 0.0090\n",
            "Epoch 8/31\n",
            "286/286 [==============================] - 1s 4ms/step - loss: 0.0078 - mean_absolute_error: 0.0078\n",
            "Epoch 9/31\n",
            "286/286 [==============================] - 1s 4ms/step - loss: 0.0065 - mean_absolute_error: 0.0065\n",
            "Epoch 10/31\n",
            "286/286 [==============================] - 1s 4ms/step - loss: 0.0054 - mean_absolute_error: 0.0054 - val_loss: 0.0051 - val_mean_absolute_error: 0.0051\n",
            "Epoch 11/31\n",
            "286/286 [==============================] - 1s 4ms/step - loss: 0.0041 - mean_absolute_error: 0.0041\n",
            "Epoch 12/31\n",
            "286/286 [==============================] - 1s 4ms/step - loss: 0.0030 - mean_absolute_error: 0.0030\n",
            "Epoch 13/31\n",
            "286/286 [==============================] - 1s 4ms/step - loss: 0.0026 - mean_absolute_error: 0.0026\n",
            "Epoch 14/31\n",
            "286/286 [==============================] - 1s 4ms/step - loss: 0.0024 - mean_absolute_error: 0.0024\n",
            "Epoch 15/31\n",
            "286/286 [==============================] - 1s 4ms/step - loss: 0.0023 - mean_absolute_error: 0.0023 - val_loss: 0.0021 - val_mean_absolute_error: 0.0021\n",
            "Epoch 16/31\n",
            "286/286 [==============================] - 1s 4ms/step - loss: 0.0022 - mean_absolute_error: 0.0022\n",
            "Epoch 17/31\n",
            "286/286 [==============================] - 1s 4ms/step - loss: 0.0021 - mean_absolute_error: 0.0021\n",
            "Epoch 18/31\n",
            "286/286 [==============================] - 1s 4ms/step - loss: 0.0019 - mean_absolute_error: 0.0019\n",
            "Epoch 19/31\n",
            "286/286 [==============================] - 1s 4ms/step - loss: 0.0018 - mean_absolute_error: 0.0018\n",
            "Epoch 20/31\n",
            "286/286 [==============================] - 1s 4ms/step - loss: 0.0017 - mean_absolute_error: 0.0017 - val_loss: 0.0015 - val_mean_absolute_error: 0.0015\n",
            "Epoch 21/31\n",
            "286/286 [==============================] - 1s 4ms/step - loss: 0.0015 - mean_absolute_error: 0.0015\n",
            "Epoch 22/31\n",
            "286/286 [==============================] - 1s 4ms/step - loss: 0.0015 - mean_absolute_error: 0.0015\n",
            "Epoch 23/31\n",
            "286/286 [==============================] - 1s 4ms/step - loss: 0.0014 - mean_absolute_error: 0.0014\n",
            "Epoch 24/31\n",
            "286/286 [==============================] - 1s 4ms/step - loss: 0.0014 - mean_absolute_error: 0.0014\n",
            "Epoch 25/31\n",
            "286/286 [==============================] - 1s 4ms/step - loss: 0.0013 - mean_absolute_error: 0.0013 - val_loss: 0.0012 - val_mean_absolute_error: 0.0012\n",
            "Epoch 26/31\n",
            "286/286 [==============================] - 1s 4ms/step - loss: 0.0013 - mean_absolute_error: 0.0013\n",
            "Epoch 27/31\n",
            "286/286 [==============================] - 1s 4ms/step - loss: 0.0013 - mean_absolute_error: 0.0013\n",
            "Epoch 28/31\n",
            "286/286 [==============================] - 1s 4ms/step - loss: 0.0013 - mean_absolute_error: 0.0013\n",
            "Epoch 29/31\n",
            "286/286 [==============================] - 1s 4ms/step - loss: 0.0012 - mean_absolute_error: 0.0012\n",
            "Epoch 30/31\n",
            "286/286 [==============================] - 1s 5ms/step - loss: 0.0013 - mean_absolute_error: 0.0013 - val_loss: 0.0011 - val_mean_absolute_error: 0.0011\n",
            "Epoch 31/31\n",
            "286/286 [==============================] - 1s 4ms/step - loss: 0.0012 - mean_absolute_error: 0.0012\n"
          ]
        }
      ]
    },
    {
      "cell_type": "code",
      "source": [
        "val_iterator = iter(valid_dataset)\n",
        "x,y = next(val_iterator)\n",
        "#pred = model.predict(x)\n",
        "generate_images(generator, x, y)"
      ],
      "metadata": {
        "colab": {
          "base_uri": "https://localhost:8080/",
          "height": 625
        },
        "id": "BoQdhEND6Ie3",
        "outputId": "66bc6ad2-6a8e-482b-f193-3412f96175d4"
      },
      "execution_count": 186,
      "outputs": [
        {
          "output_type": "stream",
          "name": "stdout",
          "text": [
            "1/1 [==============================] - 0s 17ms/step\n"
          ]
        },
        {
          "output_type": "display_data",
          "data": {
            "text/plain": [
              "<Figure size 1080x720 with 4 Axes>"
            ],
            "image/png": "[encoded data removed]"
          },
          "metadata": {
            "needs_background": "light"
          }
        }
      ]
    },
    {
      "cell_type": "code",
      "execution_count": null,
      "metadata": {
        "id": "017CYaGQ6pre",
        "pycharm": {
          "name": "#%%\n"
        }
      },
      "outputs": [],
      "source": [
        "import os\n",
        "os.listdir('.')"
      ]
    },
    {
      "cell_type": "markdown",
      "metadata": {
        "id": "-ede4p2YELFa",
        "pycharm": {
          "name": "#%% md\n"
        }
      },
      "source": [
        "The training procedure for the discriminator is shown below.\n",
        "\n",
        "To learn more about the architecture and the hyperparameters you can refer to the [pix2pix paper](https://arxiv.org/abs/1611.07004)."
      ]
    },
    {
      "cell_type": "markdown",
      "metadata": {
        "id": "_073KDijTAVh",
        "pycharm": {
          "name": "#%% md\n"
        }
      },
      "source": []
    },
    {
      "cell_type": "markdown",
      "metadata": {
        "id": "0FMYgY_mPfTi",
        "pycharm": {
          "name": "#%% md\n"
        }
      },
      "source": [
        "## Define the optimizers and a checkpoint-saver\n"
      ]
    },
    {
      "cell_type": "code",
      "execution_count": null,
      "metadata": {
        "id": "4t4x69adQ5xb",
        "pycharm": {
          "name": "#%%\n"
        }
      },
      "outputs": [],
      "source": [
        "checkpoint = tf.train.Checkpoint(generator_optimizer=generator_optimizer,\n",
        "                                 generator=generator)\n",
        "#Restoring the latest checkpoint in checkpoint_dir\n",
        "checkpoint_dir = '/content/drive/MyDrive/Colab Notebooks/grad_checkpoints'\n",
        "print(tf.train.latest_checkpoint(checkpoint_dir))\n",
        "checkpoint.restore(tf.train.latest_checkpoint(checkpoint_dir))\n",
        "\n",
        "#'/content/drive/MyDrive/Colab Notebooks/phantom_checkpoints/ckpt-8'"
      ]
    },
    {
      "cell_type": "markdown",
      "metadata": {
        "id": "1RGysMU_BZhx",
        "pycharm": {
          "name": "#%% md\n"
        }
      },
      "source": [
        "## Generate some images using the test set"
      ]
    },
    {
      "cell_type": "code",
      "execution_count": null,
      "metadata": {
        "id": "g6yulOFllIh2",
        "pycharm": {
          "name": "#%%\n"
        }
      },
      "outputs": [],
      "source": [
        "#generator.save('/content/drive/MyDrive/Colab Notebooks/3chan_lrgken_L1')"
      ]
    },
    {
      "cell_type": "code",
      "execution_count": 120,
      "metadata": {
        "id": "Wtd3ZA-eI_ap",
        "pycharm": {
          "name": "#%%\n"
        }
      },
      "outputs": [],
      "source": [
        "gamma_options = {\n",
        "    'dose_percent_threshold': 3, \n",
        "    'distance_mm_threshold': 3,\n",
        "    'lower_percent_dose_cutoff': 10,\n",
        "    'interp_fraction': 20,  # Should be 10 or more, see the paper referenced above\n",
        "    'max_gamma': 2,\n",
        "    'random_subset': None,  # Can be used to get quick pass rates\n",
        "    'local_gamma': False,  # Change to false for global gamma\n",
        "    'ram_available': 2**29  # 1/2 GB\n",
        "}"
      ]
    },
    {
      "cell_type": "code",
      "execution_count": 121,
      "metadata": {
        "id": "pcxutIrdJF7U",
        "pycharm": {
          "name": "#%%\n"
        }
      },
      "outputs": [],
      "source": [
        "xepidmin = -215.04\n",
        "xepidmax = 215.04\n",
        "yepidmin = -215.04\n",
        "yepidmax = 215.04\n",
        "grid = 1.68\n",
        "xepid = np.arange(xepidmin,xepidmax,grid)\n",
        "yepid = np.arange(yepidmin,yepidmax,grid)\n",
        "coords = (yepid,xepid)"
      ]
    },
    {
      "cell_type": "code",
      "execution_count": null,
      "metadata": {
        "id": "WTyCBjAV1vJZ",
        "pycharm": {
          "name": "#%%\n"
        }
      },
      "outputs": [],
      "source": [
        "# testfiles = tf.io.gfile.glob('/content/drive/My Drive/train/nifti/fold4/12_4_35.*')\n",
        "# valid_data = load_data(testfiles, tf.estimator.ModeKeys.TRAIN, '/content/drive/My Drive/train/nifti/fold1')\n",
        "\n",
        "# valid_dataset = tf.data.Dataset.from_tensor_slices((valid_data))\n",
        "# valid_dataset = valid_dataset.batch(BATCH_SIZE)"
      ]
    },
    {
      "cell_type": "code",
      "execution_count": 170,
      "metadata": {
        "id": "TPwaQHAcHiLr",
        "pycharm": {
          "name": "#%%\n"
        },
        "colab": {
          "base_uri": "https://localhost:8080/",
          "height": 774
        },
        "outputId": "e2b7b96d-7410-4f9f-c115-e9378acc8d1f"
      },
      "outputs": [
        {
          "output_type": "stream",
          "name": "stdout",
          "text": [
            "1/1 [==============================] - 0s 16ms/step\n",
            "Calcing using global normalisation point for gamma\n",
            "Global normalisation set to 0.7840798497200012\n",
            "Global dose threshold set to [0.0235224] ([3]% of normalisation)\n",
            "Distance threshold set to [3]\n",
            "Lower dose cutoff set to 0.07840798497200013 (10% of normalisation)\n",
            "\n",
            "Current distance: 5.85 mm | Number of reference points remaining: 1071 | Points tested per reference point: 247 | RAM split count: 1\n",
            "Complete!\n"
          ]
        },
        {
          "output_type": "execute_result",
          "data": {
            "text/plain": [
              "Text(0.5, 1.0, 'Local Gamma (3%/3mm) | Percent Pass: 79.61 %')"
            ]
          },
          "metadata": {},
          "execution_count": 170
        },
        {
          "output_type": "display_data",
          "data": {
            "text/plain": [
              "<Figure size 720x720 with 4 Axes>"
            ],
            "image/png": "[encoded data removed]"
          },
          "metadata": {
            "needs_background": "light"
          }
        }
      ],
      "source": [
        "example = next(iter(train_dataset))\n",
        "input = example[0]\n",
        "#print(tf.shape(cbct_input))\n",
        "tar = example[1]\n",
        "#prediction = generator(input, training=True) \n",
        "prediction = generator.predict(input)\n",
        "\n",
        "diff = tf.subtract(tar,prediction)\n",
        "diff = tf.squeeze(diff, axis=0)\n",
        "diffvec = diff[120,1:256]\n",
        "tar = tf.squeeze(tar, axis=0)\n",
        "tar = tf.squeeze(tar, axis=-1)\n",
        "rtimage = tar\n",
        "\n",
        "prediction = tf.squeeze(prediction, axis=0)\n",
        "prediction = tf.squeeze(prediction, axis=-1)\n",
        "prediction = prediction\n",
        " \n",
        "plt.figure(figsize=(10, 10))\n",
        "  \n",
        "plt.subplot(2, 2, 1)\n",
        "plt.imshow(rtimage)\n",
        "plt.subplot(2, 2, 2)\n",
        "plt.imshow(prediction)\n",
        "  \n",
        "predvec = prediction[128,1:256]\n",
        "rtvec = rtimage[128,1:256]\n",
        "  \n",
        "#predvec = prediction[1:256,128]\n",
        "#rtvec = rtimage[1:256,128]\n",
        "\n",
        "plt.subplot(2, 2, 3)\n",
        "plt.plot(rtvec,'g')\n",
        "plt.title(\"Meas RT IMG (Green)\")\n",
        "plt.plot(predvec,'b')\n",
        "#print(str(example[\"fname\"]))\n",
        "\n",
        "gamma_test = pymedphys.gamma(coords,rtimage, coords, prediction, **gamma_options)\n",
        "valid_gamma = gamma_test[~np.isnan(gamma_test)]\n",
        "\n",
        "num_bins = (\n",
        "    gamma_options['interp_fraction'] * gamma_options['max_gamma'])\n",
        "bins = np.linspace(0, gamma_options['max_gamma'], num_bins + 1)\n",
        "\n",
        "#gamma_no_noise = pymedphys.gamma(coords, rtimage, coords, prediction,**gamma_options)\n",
        "plt.subplot(2, 2, 4)\n",
        "\n",
        "plt.imshow( gamma_test, clim=(0, 2), cmap='coolwarm')\n",
        "\n",
        "# plt.hist(valid_gamma, bins, density=True)\n",
        "# plt.xlim([0, gamma_options['max_gamma']])\n",
        "pass_ratio = np.sum(valid_gamma <= 1) / len(valid_gamma)\n",
        "plt.title(f\"Local Gamma ({gamma_options['dose_percent_threshold']}%/{gamma_options['distance_mm_threshold']}mm) | Percent Pass: {pass_ratio*100:.2f} %\")"
      ]
    },
    {
      "cell_type": "code",
      "execution_count": null,
      "metadata": {
        "id": "ck1o0QAY71Zv",
        "pycharm": {
          "name": "#%%\n"
        }
      },
      "outputs": [],
      "source": [
        "plt.imshow(gamma_test)"
      ]
    },
    {
      "cell_type": "code",
      "source": [
        "caxcb = [] \n",
        "caxrt = []\n",
        "caxpred = []\n",
        "caxhalf = []\n",
        "\n",
        "all_ratios = np.zeros(len(list(valid_dataset)))\n",
        "\n",
        "for example in valid_dataset:\n",
        "  tinp = example[0]\n",
        "  ttar = example[1]\n",
        "  inp = tf.squeeze(tinp,axis=0)\n",
        "  #slicen = 1\n",
        "  pdos = getinput(inp,0)\n",
        "  img = getinput(inp,1)\n",
        "  half = getinput(inp,2)\n",
        "  cbctcax = np.mean(img[126:130,126:130] )\n",
        "  pdoscax = np.mean(pdos[126:130,126:130] )\n",
        "  halfcax = np.mean(half[126:130,126:130] )\n",
        "  prediction = generator.predict(tinp)\n",
        "  ttar = tf.squeeze(ttar, axis=0)\n",
        "  ttar = tf.squeeze(ttar, axis=-1)\n",
        "  rtimage = ttar\n",
        "  rtcax = np.mean(ttar[126:130,126:130])\n",
        "  \n",
        "  #out = \"cbctcax {} rtcax {}\".format(cbctcax,rtcax/pdoscax)\n",
        "  #print(out)\n",
        "  prediction = tf.squeeze(prediction, axis=0)\n",
        "  prediction = tf.squeeze(prediction, axis=-1)\n",
        "  predcax = np.mean(prediction[126:130,126:130])\n",
        "  caxcb = np.append(caxcb,cbctcax)\n",
        "  caxrt = np.append(caxrt,rtcax/pdoscax)\n",
        "  caxpred = np.append(caxpred,predcax/pdoscax)\n",
        "  caxhalf = np.append(caxhalf,halfcax)\n",
        "\n",
        "#ax = plt.axes(projection='3d')\n",
        "#ax.scatter3D(caxcb, caxhalf, caxrt, c='b' )\n",
        "#ax.scatter3D(caxcb, caxhalf, caxpred, c='r' )\n",
        "#plt.show()\n",
        "\n",
        "plt.plot(caxcb,caxrt,'bo')\n",
        "plt.plot(caxcb,caxpred,'ro')\n",
        "\n",
        "#plt.plot(caxhalf,caxrt,'bo')\n",
        "#plt.plot(caxhalf,caxpred,'ro')\n",
        "plt.ylim([0, 0.8])\n",
        "#plt.xlim([0.80, 0.85])\n",
        "plt.show()"
      ],
      "metadata": {
        "id": "YLLfz5DoUcSk",
        "pycharm": {
          "name": "#%%\n"
        }
      },
      "execution_count": null,
      "outputs": []
    },
    {
      "cell_type": "code",
      "execution_count": 129,
      "metadata": {
        "id": "ELlbbPKP0oQA",
        "pycharm": {
          "name": "#%%\n"
        },
        "colab": {
          "base_uri": "https://localhost:8080/",
          "height": 1000
        },
        "outputId": "d346037c-d57f-4bfb-a895-ee30f5c9111b"
      },
      "outputs": [
        {
          "output_type": "stream",
          "name": "stdout",
          "text": [
            "1/1 [==============================] - 0s 19ms/step\n",
            "0.8453315881326352\n",
            "1/1 [==============================] - 0s 18ms/step\n",
            "1.0\n",
            "1/1 [==============================] - 0s 16ms/step\n",
            "0.6773789649415692\n",
            "1/1 [==============================] - 0s 17ms/step\n",
            "1.0\n",
            "1/1 [==============================] - 0s 16ms/step\n",
            "1.0\n",
            "1/1 [==============================] - 0s 17ms/step\n",
            "1.0\n",
            "1/1 [==============================] - 0s 17ms/step\n",
            "0.9124382577458464\n",
            "1/1 [==============================] - 0s 15ms/step\n",
            "0.9968463302752294\n",
            "1/1 [==============================] - 0s 18ms/step\n",
            "1.0\n",
            "1/1 [==============================] - 0s 17ms/step\n",
            "0.9402730375426621\n",
            "1/1 [==============================] - 0s 16ms/step\n",
            "1.0\n",
            "1/1 [==============================] - 0s 18ms/step\n",
            "1.0\n",
            "1/1 [==============================] - 0s 17ms/step\n",
            "0.9991825056202739\n",
            "1/1 [==============================] - 0s 17ms/step\n",
            "1.0\n",
            "1/1 [==============================] - 0s 16ms/step\n",
            "0.7960722426792916\n",
            "1/1 [==============================] - 0s 16ms/step\n",
            "1.0\n",
            "1/1 [==============================] - 0s 17ms/step\n",
            "1.0\n",
            "1/1 [==============================] - 0s 16ms/step\n",
            "1.0\n",
            "1/1 [==============================] - 0s 16ms/step\n",
            "0.9208886480628556\n",
            "1/1 [==============================] - 0s 17ms/step\n",
            "0.7523239000206569\n",
            "1/1 [==============================] - 0s 16ms/step\n",
            "1.0\n",
            "1/1 [==============================] - 0s 16ms/step\n",
            "0.967253014714017\n",
            "1/1 [==============================] - 0s 17ms/step\n",
            "0.35828556192507666\n",
            "1/1 [==============================] - 0s 16ms/step\n",
            "0.9860870932243357\n",
            "1/1 [==============================] - 0s 16ms/step\n",
            "1.0\n",
            "1/1 [==============================] - 0s 17ms/step\n",
            "0.27481264851032716\n",
            "1/1 [==============================] - 0s 17ms/step\n",
            "1.0\n",
            "1/1 [==============================] - 0s 15ms/step\n",
            "1.0\n",
            "1/1 [==============================] - 0s 17ms/step\n",
            "0.9996918098466754\n",
            "1/1 [==============================] - 0s 17ms/step\n",
            "0.9957245925002227\n",
            "1/1 [==============================] - 0s 16ms/step\n",
            "1.0\n",
            "1/1 [==============================] - 0s 18ms/step\n",
            "1.0\n",
            "1/1 [==============================] - 0s 17ms/step\n",
            "0.784350401371678\n",
            "1/1 [==============================] - 0s 17ms/step\n",
            "1.0\n",
            "1/1 [==============================] - 0s 16ms/step\n",
            "1.0\n",
            "1/1 [==============================] - 0s 19ms/step\n",
            "1.0\n",
            "1/1 [==============================] - 0s 17ms/step\n",
            "1.0\n",
            "1/1 [==============================] - 0s 18ms/step\n",
            "0.947539461467038\n",
            "1/1 [==============================] - 0s 18ms/step\n",
            "1.0\n",
            "1/1 [==============================] - 0s 17ms/step\n",
            "0.7099684258006315\n",
            "1/1 [==============================] - 0s 17ms/step\n",
            "1.0\n",
            "1/1 [==============================] - 0s 17ms/step\n",
            "0.9919184820801125\n",
            "1/1 [==============================] - 0s 16ms/step\n",
            "0.6496659452338384\n",
            "1/1 [==============================] - 0s 17ms/step\n",
            "1.0\n",
            "1/1 [==============================] - 0s 17ms/step\n",
            "1.0\n",
            "1/1 [==============================] - 0s 17ms/step\n",
            "0.9750479846449136\n",
            "1/1 [==============================] - 0s 17ms/step\n",
            "0.2611388426696247\n",
            "1/1 [==============================] - 0s 17ms/step\n",
            "0.37211478477854026\n",
            "1/1 [==============================] - 0s 16ms/step\n",
            "1.0\n",
            "1/1 [==============================] - 0s 17ms/step\n",
            "1.0\n",
            "1/1 [==============================] - 0s 17ms/step\n",
            "1.0\n",
            "1/1 [==============================] - 0s 17ms/step\n",
            "0.4122549019607843\n",
            "1/1 [==============================] - 0s 16ms/step\n",
            "0.9661087866108786\n",
            "1/1 [==============================] - 0s 19ms/step\n",
            "0.6359143327841845\n",
            "1/1 [==============================] - 0s 17ms/step\n",
            "0.8472762645914397\n",
            "1/1 [==============================] - 0s 17ms/step\n",
            "1.0\n",
            "1/1 [==============================] - 0s 15ms/step\n",
            "0.37354155447854964\n",
            "1/1 [==============================] - 0s 16ms/step\n",
            "1.0\n",
            "1/1 [==============================] - 0s 16ms/step\n",
            "0.9393205909356481\n",
            "1/1 [==============================] - 0s 17ms/step\n",
            "1.0\n",
            "1/1 [==============================] - 0s 18ms/step\n",
            "0.9936791630340017\n",
            "1/1 [==============================] - 0s 17ms/step\n",
            "1.0\n",
            "1/1 [==============================] - 0s 17ms/step\n",
            "0.7791814047498736\n",
            "1/1 [==============================] - 0s 18ms/step\n",
            "1.0\n",
            "1/1 [==============================] - 0s 17ms/step\n",
            "0.9583985138834572\n",
            "1/1 [==============================] - 0s 17ms/step\n",
            "1.0\n",
            "1/1 [==============================] - 0s 18ms/step\n",
            "1.0\n",
            "1/1 [==============================] - 0s 18ms/step\n",
            "0.914683430624158\n",
            "1/1 [==============================] - 0s 16ms/step\n",
            "0.7721329338055026\n",
            "1/1 [==============================] - 0s 17ms/step\n",
            "0.8388501742160279\n",
            "1/1 [==============================] - 0s 17ms/step\n",
            "1.0\n",
            "1/1 [==============================] - 0s 17ms/step\n",
            "1.0\n",
            "1/1 [==============================] - 0s 16ms/step\n",
            "1.0\n",
            "1/1 [==============================] - 0s 17ms/step\n",
            "0.3784643343934575\n",
            "1/1 [==============================] - 0s 17ms/step\n",
            "0.8835304822565969\n",
            "1/1 [==============================] - 0s 17ms/step\n",
            "1.0\n",
            "1/1 [==============================] - 0s 17ms/step\n",
            "1.0\n",
            "1/1 [==============================] - 0s 16ms/step\n",
            "0.9643003693065244\n",
            "1/1 [==============================] - 0s 16ms/step\n",
            "1.0\n",
            "1/1 [==============================] - 0s 16ms/step\n",
            "0.5987351778656127\n",
            "1/1 [==============================] - 0s 17ms/step\n",
            "0.9396705253784505\n",
            "1/1 [==============================] - 0s 17ms/step\n",
            "1.0\n",
            "1/1 [==============================] - 0s 17ms/step\n",
            "1.0\n",
            "1/1 [==============================] - 0s 17ms/step\n",
            "0.9695980412160784\n",
            "1/1 [==============================] - 0s 17ms/step\n",
            "0.9375571123971976\n",
            "1/1 [==============================] - 0s 18ms/step\n",
            "0.8094366197183098\n",
            "1/1 [==============================] - 0s 17ms/step\n",
            "1.0\n",
            "1/1 [==============================] - 0s 16ms/step\n",
            "0.9626975077374165\n",
            "1/1 [==============================] - 0s 18ms/step\n",
            "0.6839706254748037\n",
            "1/1 [==============================] - 0s 17ms/step\n",
            "1.0\n",
            "1/1 [==============================] - 0s 18ms/step\n",
            "0.990213571235469\n",
            "1/1 [==============================] - 0s 17ms/step\n",
            "0.9597806215722121\n",
            "1/1 [==============================] - 0s 19ms/step\n",
            "0.9584612236545939\n",
            "1/1 [==============================] - 0s 19ms/step\n",
            "0.8622200584225901\n",
            "1/1 [==============================] - 0s 19ms/step\n",
            "1.0\n",
            "1/1 [==============================] - 0s 19ms/step\n",
            "0.9353045439896874\n",
            "1/1 [==============================] - 0s 17ms/step\n",
            "1.0\n",
            "1/1 [==============================] - 0s 17ms/step\n",
            "1.0\n",
            "1/1 [==============================] - 0s 17ms/step\n",
            "1.0\n",
            "1/1 [==============================] - 0s 19ms/step\n",
            "1.0\n",
            "1/1 [==============================] - 0s 17ms/step\n",
            "0.9681010868604754\n",
            "1/1 [==============================] - 0s 17ms/step\n",
            "0.36658031088082904\n",
            "1/1 [==============================] - 0s 18ms/step\n",
            "1.0\n",
            "1/1 [==============================] - 0s 17ms/step\n",
            "1.0\n",
            "1/1 [==============================] - 0s 17ms/step\n",
            "1.0\n",
            "1/1 [==============================] - 0s 17ms/step\n",
            "0.33844678811121764\n",
            "1/1 [==============================] - 0s 17ms/step\n",
            "0.9712341478502938\n",
            "1/1 [==============================] - 0s 16ms/step\n",
            "0.4026207862358708\n",
            "1/1 [==============================] - 0s 16ms/step\n",
            "0.6125897760878749\n",
            "1/1 [==============================] - 0s 16ms/step\n",
            "1.0\n",
            "1/1 [==============================] - 0s 18ms/step\n",
            "1.0\n",
            "1/1 [==============================] - 0s 17ms/step\n",
            "1.0\n",
            "1/1 [==============================] - 0s 17ms/step\n",
            "1.0\n",
            "1/1 [==============================] - 0s 18ms/step\n",
            "0.31714377613380507\n",
            "1/1 [==============================] - 0s 17ms/step\n",
            "1.0\n",
            "1/1 [==============================] - 0s 16ms/step\n",
            "1.0\n",
            "1/1 [==============================] - 0s 17ms/step\n",
            "0.9883094207849389\n",
            "1/1 [==============================] - 0s 17ms/step\n",
            "0.9631849315068494\n",
            "1/1 [==============================] - 0s 17ms/step\n",
            "1.0\n",
            "1/1 [==============================] - 0s 15ms/step\n",
            "0.6734028683181226\n",
            "1/1 [==============================] - 0s 17ms/step\n",
            "0.9998451532982348\n",
            "1/1 [==============================] - 0s 17ms/step\n",
            "0.9969579646017699\n",
            "1/1 [==============================] - 0s 16ms/step\n",
            "1.0\n",
            "1/1 [==============================] - 0s 17ms/step\n",
            "0.9973386560212908\n",
            "1/1 [==============================] - 0s 17ms/step\n",
            "0.7577781397621762\n",
            "1/1 [==============================] - 0s 17ms/step\n",
            "1.0\n",
            "1/1 [==============================] - 0s 17ms/step\n",
            "1.0\n",
            "1/1 [==============================] - 0s 16ms/step\n",
            "1.0\n",
            "1/1 [==============================] - 0s 19ms/step\n",
            "1.0\n",
            "1/1 [==============================] - 0s 18ms/step\n",
            "0.8817759421786268\n",
            "1/1 [==============================] - 0s 16ms/step\n",
            "1.0\n",
            "1/1 [==============================] - 0s 16ms/step\n",
            "0.658275943956305\n",
            "1/1 [==============================] - 0s 17ms/step\n",
            "0.6951097804391217\n",
            "1/1 [==============================] - 0s 17ms/step\n",
            "0.6375737407351384\n",
            "1/1 [==============================] - 0s 16ms/step\n",
            "1.0\n",
            "1/1 [==============================] - 0s 16ms/step\n",
            "0.9780524948490549\n",
            "1/1 [==============================] - 0s 17ms/step\n",
            "0.9553571428571429\n",
            "1/1 [==============================] - 0s 17ms/step\n",
            "1.0\n",
            "1/1 [==============================] - 0s 17ms/step\n",
            "1.0\n",
            "1/1 [==============================] - 0s 16ms/step\n",
            "1.0\n",
            "1/1 [==============================] - 0s 17ms/step\n",
            "0.9847052280311457\n",
            "1/1 [==============================] - 0s 17ms/step\n",
            "0.8453307392996109\n",
            "1/1 [==============================] - 0s 17ms/step\n",
            "0.9970849730360006\n",
            "1/1 [==============================] - 0s 17ms/step\n",
            "1.0\n",
            "1/1 [==============================] - 0s 17ms/step\n",
            "0.8118706942236354\n",
            "1/1 [==============================] - 0s 17ms/step\n",
            "1.0\n",
            "1/1 [==============================] - 0s 17ms/step\n",
            "1.0\n",
            "1/1 [==============================] - 0s 18ms/step\n",
            "0.6369578134284016\n",
            "1/1 [==============================] - 0s 16ms/step\n",
            "0.9113837095191364\n",
            "1/1 [==============================] - 0s 16ms/step\n",
            "0.9929808142255498\n",
            "1/1 [==============================] - 0s 17ms/step\n",
            "0.9441989854360988\n",
            "1/1 [==============================] - 0s 17ms/step\n",
            "1.0\n",
            "1/1 [==============================] - 0s 17ms/step\n",
            "0.9980566801619433\n",
            "1/1 [==============================] - 0s 17ms/step\n",
            "1.0\n",
            "1/1 [==============================] - 0s 17ms/step\n",
            "1.0\n",
            "1/1 [==============================] - 0s 16ms/step\n",
            "0.6365306699331009\n",
            "1/1 [==============================] - 0s 17ms/step\n",
            "1.0\n",
            "1/1 [==============================] - 0s 17ms/step\n",
            "0.7769139544076954\n",
            "1/1 [==============================] - 0s 17ms/step\n",
            "0.4443049890178852\n",
            "1/1 [==============================] - 0s 17ms/step\n",
            "1.0\n",
            "1/1 [==============================] - 0s 17ms/step\n",
            "0.9993548387096775\n",
            "1/1 [==============================] - 0s 17ms/step\n",
            "1.0\n",
            "1/1 [==============================] - 0s 18ms/step\n",
            "1.0\n",
            "1/1 [==============================] - 0s 17ms/step\n",
            "0.9989637305699481\n",
            "1/1 [==============================] - 0s 18ms/step\n",
            "1.0\n",
            "1/1 [==============================] - 0s 17ms/step\n",
            "0.8205925925925925\n",
            "1/1 [==============================] - 0s 16ms/step\n",
            "0.9654814430314042\n",
            "1/1 [==============================] - 0s 17ms/step\n",
            "1.0\n",
            "1/1 [==============================] - 0s 17ms/step\n",
            "1.0\n",
            "1/1 [==============================] - 0s 17ms/step\n",
            "0.9400333991194778\n",
            "1/1 [==============================] - 0s 16ms/step\n",
            "0.9338828782414563\n",
            "1/1 [==============================] - 0s 17ms/step\n",
            "1.0\n",
            "1/1 [==============================] - 0s 17ms/step\n",
            "0.97520184544406\n",
            "1/1 [==============================] - 0s 18ms/step\n",
            "1.0\n",
            "1/1 [==============================] - 0s 18ms/step\n",
            "0.9387154100025387\n",
            "1/1 [==============================] - 0s 17ms/step\n",
            "0.639941935123667\n",
            "1/1 [==============================] - 0s 17ms/step\n",
            "0.8963414634146342\n",
            "1/1 [==============================] - 0s 16ms/step\n",
            "1.0\n",
            "1/1 [==============================] - 0s 17ms/step\n",
            "0.360422473228693\n",
            "1/1 [==============================] - 0s 17ms/step\n",
            "0.9986768736414328\n",
            "1/1 [==============================] - 0s 16ms/step\n",
            "1.0\n",
            "1/1 [==============================] - 0s 17ms/step\n",
            "0.9860189573459716\n",
            "1/1 [==============================] - 0s 16ms/step\n",
            "0.9868609651218346\n",
            "1/1 [==============================] - 0s 17ms/step\n",
            "0.9210050911479718\n",
            "1/1 [==============================] - 0s 18ms/step\n",
            "0.7389310977207231\n",
            "1/1 [==============================] - 0s 17ms/step\n",
            "0.9875\n",
            "1/1 [==============================] - 0s 18ms/step\n",
            "1.0\n",
            "1/1 [==============================] - 0s 17ms/step\n",
            "0.7161286301882089\n",
            "1/1 [==============================] - 0s 16ms/step\n",
            "1.0\n",
            "1/1 [==============================] - 0s 16ms/step\n",
            "0.9994702454529402\n",
            "1/1 [==============================] - 0s 17ms/step\n",
            "1.0\n",
            "1/1 [==============================] - 0s 17ms/step\n",
            "1.0\n",
            "1/1 [==============================] - 0s 16ms/step\n",
            "0.9116512345679012\n",
            "1/1 [==============================] - 0s 16ms/step\n",
            "0.9758620689655172\n",
            "1/1 [==============================] - 0s 17ms/step\n",
            "0.9571774548656979\n",
            "1/1 [==============================] - 0s 17ms/step\n",
            "1.0\n",
            "1/1 [==============================] - 0s 16ms/step\n",
            "0.8996598639455783\n",
            "1/1 [==============================] - 0s 17ms/step\n",
            "0.9652120031866868\n",
            "1/1 [==============================] - 0s 16ms/step\n",
            "1.0\n",
            "1/1 [==============================] - 0s 17ms/step\n",
            "1.0\n",
            "1/1 [==============================] - 0s 16ms/step\n",
            "1.0\n",
            "1/1 [==============================] - 0s 16ms/step\n",
            "0.3604079402658896\n",
            "1/1 [==============================] - 0s 16ms/step\n",
            "1.0\n",
            "1/1 [==============================] - 0s 16ms/step\n",
            "0.9994676603673144\n",
            "1/1 [==============================] - 0s 19ms/step\n",
            "1.0\n",
            "1/1 [==============================] - 0s 17ms/step\n",
            "0.9987205731832139\n",
            "1/1 [==============================] - 0s 18ms/step\n",
            "1.0\n",
            "1/1 [==============================] - 0s 17ms/step\n",
            "0.9843827466534457\n",
            "1/1 [==============================] - 0s 17ms/step\n",
            "1.0\n",
            "1/1 [==============================] - 0s 18ms/step\n",
            "1.0\n",
            "1/1 [==============================] - 0s 16ms/step\n",
            "0.7954035874439462\n",
            "1/1 [==============================] - 0s 16ms/step\n",
            "1.0\n",
            "1/1 [==============================] - 0s 17ms/step\n",
            "1.0\n",
            "1/1 [==============================] - 0s 17ms/step\n",
            "0.7696198651134274\n",
            "1/1 [==============================] - 0s 18ms/step\n",
            "0.9983988355167395\n",
            "1/1 [==============================] - 0s 17ms/step\n",
            "1.0\n",
            "1/1 [==============================] - 0s 19ms/step\n",
            "0.9763673193787981\n",
            "1/1 [==============================] - 0s 17ms/step\n",
            "0.5090875711400771\n",
            "1/1 [==============================] - 0s 17ms/step\n",
            "1.0\n",
            "1/1 [==============================] - 0s 20ms/step\n",
            "1.0\n",
            "1/1 [==============================] - 0s 18ms/step\n",
            "0.2858926342072409\n",
            "1/1 [==============================] - 0s 18ms/step\n",
            "0.9854241729446446\n",
            "1/1 [==============================] - 0s 20ms/step\n",
            "1.0\n",
            "1/1 [==============================] - 0s 18ms/step\n",
            "1.0\n",
            "1/1 [==============================] - 0s 17ms/step\n",
            "1.0\n",
            "1/1 [==============================] - 0s 17ms/step\n",
            "0.9400150715900527\n",
            "1/1 [==============================] - 0s 17ms/step\n",
            "1.0\n",
            "1/1 [==============================] - 0s 17ms/step\n",
            "1.0\n",
            "1/1 [==============================] - 0s 17ms/step\n",
            "1.0\n",
            "1/1 [==============================] - 0s 17ms/step\n",
            "1.0\n",
            "1/1 [==============================] - 0s 16ms/step\n",
            "0.8019089344390549\n",
            "1/1 [==============================] - 0s 16ms/step\n",
            "0.5209267563527653\n",
            "1/1 [==============================] - 0s 17ms/step\n",
            "0.9671564390665515\n",
            "1/1 [==============================] - 0s 16ms/step\n",
            "0.915743738285909\n",
            "1/1 [==============================] - 0s 16ms/step\n",
            "0.9980590600305005\n",
            "1/1 [==============================] - 0s 18ms/step\n",
            "1.0\n",
            "1/1 [==============================] - 0s 17ms/step\n",
            "0.8537100814026299\n",
            "1/1 [==============================] - 0s 18ms/step\n",
            "0.6215822092599343\n",
            "1/1 [==============================] - 0s 18ms/step\n",
            "0.8662998215348007\n",
            "1/1 [==============================] - 0s 18ms/step\n",
            "0.8187719772788747\n",
            "1/1 [==============================] - 0s 17ms/step\n",
            "0.7555333873682898\n",
            "1/1 [==============================] - 0s 16ms/step\n",
            "1.0\n",
            "1/1 [==============================] - 0s 16ms/step\n",
            "0.9999031945788964\n",
            "1/1 [==============================] - 0s 16ms/step\n",
            "1.0\n",
            "1/1 [==============================] - 0s 18ms/step\n",
            "1.0\n",
            "1/1 [==============================] - 0s 16ms/step\n",
            "1.0\n",
            "1/1 [==============================] - 0s 16ms/step\n",
            "1.0\n",
            "1/1 [==============================] - 0s 17ms/step\n",
            "0.9945585282114401\n",
            "1/1 [==============================] - 0s 17ms/step\n",
            "0.9312320916905444\n",
            "1/1 [==============================] - 0s 17ms/step\n",
            "0.9888727943112984\n",
            "1/1 [==============================] - 0s 18ms/step\n",
            "0.5147836912542795\n",
            "1/1 [==============================] - 0s 16ms/step\n",
            "1.0\n",
            "1/1 [==============================] - 0s 16ms/step\n",
            "0.9963050264381729\n",
            "1/1 [==============================] - 0s 17ms/step\n",
            "1.0\n",
            "1/1 [==============================] - 0s 17ms/step\n",
            "1.0\n",
            "1/1 [==============================] - 0s 17ms/step\n",
            "0.932968333826576\n",
            "1/1 [==============================] - 0s 16ms/step\n",
            "0.9291532326489055\n",
            "1/1 [==============================] - 0s 17ms/step\n",
            "1.0\n",
            "1/1 [==============================] - 0s 17ms/step\n",
            "0.9760429574555969\n",
            "1/1 [==============================] - 0s 16ms/step\n",
            "0.9946643383779589\n",
            "1/1 [==============================] - 0s 16ms/step\n",
            "0.5117019284778132\n",
            "1/1 [==============================] - 0s 17ms/step\n",
            "0.9216728512686791\n",
            "1/1 [==============================] - 0s 16ms/step\n",
            "1.0\n",
            "1/1 [==============================] - 0s 18ms/step\n",
            "1.0\n",
            "1/1 [==============================] - 0s 17ms/step\n",
            "1.0\n",
            "1/1 [==============================] - 0s 17ms/step\n",
            "0.6453381061580625\n",
            "1/1 [==============================] - 0s 16ms/step\n",
            "1.0\n",
            "1/1 [==============================] - 0s 17ms/step\n",
            "0.9991003148897886\n",
            "1/1 [==============================] - 0s 17ms/step\n",
            "0.9847323487256185\n",
            "1/1 [==============================] - 0s 17ms/step\n",
            "0.9989611160581775\n",
            "1/1 [==============================] - 0s 17ms/step\n",
            "0.9989926124916051\n",
            "1/1 [==============================] - 0s 17ms/step\n",
            "1.0\n",
            "1/1 [==============================] - 0s 16ms/step\n",
            "1.0\n",
            "1/1 [==============================] - 0s 17ms/step\n",
            "0.9344602889791292\n",
            "1/1 [==============================] - 0s 18ms/step\n",
            "0.998347562654916\n",
            "1/1 [==============================] - 0s 19ms/step\n",
            "1.0\n",
            "1/1 [==============================] - 0s 18ms/step\n",
            "1.0\n",
            "1/1 [==============================] - 0s 17ms/step\n",
            "0.9995329285380663\n",
            "1/1 [==============================] - 0s 17ms/step\n",
            "0.9988104089219331\n",
            "1/1 [==============================] - 0s 17ms/step\n",
            "1.0\n",
            "1/1 [==============================] - 0s 17ms/step\n",
            "0.8940356630457061\n",
            "1/1 [==============================] - 0s 16ms/step\n",
            "0.9040218293985052\n",
            "1/1 [==============================] - 0s 16ms/step\n",
            "1.0\n",
            "1/1 [==============================] - 0s 17ms/step\n",
            "0.8778125553652631\n",
            "1/1 [==============================] - 0s 16ms/step\n",
            "0.8952153823222537\n",
            "1/1 [==============================] - 0s 16ms/step\n",
            "1.0\n",
            "mean 0.9111077008979469\n",
            "STD 0.1691237197443448\n",
            "max 1.0\n",
            "min 0.2611388426696247\n",
            "ratio > 90% 0.7692307692307693\n"
          ]
        },
        {
          "output_type": "execute_result",
          "data": {
            "text/plain": [
              "(array([  4.,   9.,   2.,   4.,   3.,  12.,   9.,  13.,  19., 211.]),\n",
              " array([0.26113884, 0.33502496, 0.40891107, 0.48279719, 0.55668331,\n",
              "        0.63056942, 0.70445554, 0.77834165, 0.85222777, 0.92611388,\n",
              "        1.        ]),\n",
              " <a list of 10 Patch objects>)"
            ]
          },
          "metadata": {},
          "execution_count": 129
        },
        {
          "output_type": "display_data",
          "data": {
            "text/plain": [
              "<Figure size 432x288 with 1 Axes>"
            ],
            "image/png": "[encoded data removed]"
          },
          "metadata": {
            "needs_background": "light"
          }
        }
      ],
      "source": [
        "dataset = train_dataset\n",
        "all_ratios = np.zeros(len(list(dataset)))\n",
        "i = 0\n",
        "i90 = 0\n",
        "for example in dataset:\n",
        "  tinp = example[0]\n",
        "  ttar = example[1]\n",
        "  #prediction = generator(tinp, training=True)\n",
        "  prediction = generator.predict(tinp)\n",
        "  ttar = tf.squeeze(ttar, axis=0)\n",
        "  ttar = tf.squeeze(ttar, axis=-1)\n",
        "  rtimage = ttar\n",
        "\n",
        "  prediction = tf.squeeze(prediction, axis=0)\n",
        "  prediction = tf.squeeze(prediction, axis=-1)\n",
        "  prediction = prediction\n",
        "  gamma_test = pymedphys.gamma(coords,rtimage, coords, prediction, **gamma_options,quiet=True)\n",
        "  valid_gamma = gamma_test[~np.isnan(gamma_test)]\n",
        "  pass_ratio = np.sum(valid_gamma <= 1) / len(valid_gamma)\n",
        "  #tf.print(example[\"fname\"])\n",
        "  print(pass_ratio)\n",
        "  all_ratios[i] = pass_ratio\n",
        "  i = i+1\n",
        "  if(pass_ratio > 0.90):\n",
        "    i90 = i90+1\n",
        "\n",
        "print(\"mean \" + str(np.mean(all_ratios)))\n",
        "print(\"STD \" + str(np.std(all_ratios))) \n",
        "print(\"max \" + str(np.max(all_ratios)))\n",
        "print(\"min \" + str(np.min(all_ratios)))\n",
        "print(\"ratio > 90% \" + str(float(i90)/float(i)))\n",
        "plt.hist(all_ratios)\n",
        "#plt.yscale('log')"
      ]
    },
    {
      "cell_type": "code",
      "source": [
        "generator.summary()"
      ],
      "metadata": {
        "colab": {
          "base_uri": "https://localhost:8080/"
        },
        "id": "1mEaI4SJ_QTd",
        "outputId": "3a80dece-f1dd-4bdb-a261-626498a285df"
      },
      "execution_count": 130,
      "outputs": [
        {
          "output_type": "stream",
          "name": "stdout",
          "text": [
            "Model: \"model_16\"\n",
            "__________________________________________________________________________________________________\n",
            " Layer (type)                   Output Shape         Param #     Connected to                     \n",
            "==================================================================================================\n",
            " input_18 (InputLayer)          [(None, 256, 256, 3  0           []                               \n",
            "                                )]                                                                \n",
            "                                                                                                  \n",
            " tf.__operators__.getitem_51 (S  (None, 256, 256)    0           ['input_18[0][0]']               \n",
            " licingOpLambda)                                                                                  \n",
            "                                                                                                  \n",
            " tf.expand_dims_51 (TFOpLambda)  (None, 256, 256, 1)  0          ['tf.__operators__.getitem_51[0][\n",
            "                                                                 0]']                             \n",
            "                                                                                                  \n",
            " conv2d_70 (Conv2D)             (None, 256, 256, 1)  2           ['tf.expand_dims_51[0][0]']      \n",
            "                                                                                                  \n",
            " conv2d_71 (Conv2D)             (None, 256, 256, 1)  2           ['tf.expand_dims_51[0][0]']      \n",
            "                                                                                                  \n",
            " tf.__operators__.getitem_52 (S  (None, 256, 256)    0           ['input_18[0][0]']               \n",
            " licingOpLambda)                                                                                  \n",
            "                                                                                                  \n",
            " conv2d_69 (Conv2D)             (None, 256, 256, 1)  2           ['tf.expand_dims_51[0][0]']      \n",
            "                                                                                                  \n",
            " multiply_67 (Multiply)         (None, 256, 256, 1)  0           ['conv2d_70[0][0]',              \n",
            "                                                                  'conv2d_70[0][0]']              \n",
            "                                                                                                  \n",
            " multiply_68 (Multiply)         (None, 256, 256, 1)  0           ['conv2d_71[0][0]',              \n",
            "                                                                  'conv2d_71[0][0]']              \n",
            "                                                                                                  \n",
            " tf.expand_dims_52 (TFOpLambda)  (None, 256, 256, 1)  0          ['tf.__operators__.getitem_52[0][\n",
            "                                                                 0]']                             \n",
            "                                                                                                  \n",
            " add_34 (Add)                   (None, 256, 256, 1)  0           ['conv2d_69[0][0]',              \n",
            "                                                                  'multiply_67[0][0]']            \n",
            "                                                                                                  \n",
            " multiply_69 (Multiply)         (None, 256, 256, 1)  0           ['multiply_68[0][0]',            \n",
            "                                                                  'conv2d_71[0][0]']              \n",
            "                                                                                                  \n",
            " conv2d_68 (Conv2D)             (None, 256, 256, 1)  1           ['tf.expand_dims_52[0][0]']      \n",
            "                                                                                                  \n",
            " add_35 (Add)                   (None, 256, 256, 1)  0           ['add_34[0][0]',                 \n",
            "                                                                  'multiply_69[0][0]']            \n",
            "                                                                                                  \n",
            " multiply_70 (Multiply)         (None, 256, 256, 1)  0           ['conv2d_68[0][0]',              \n",
            "                                                                  'add_35[0][0]']                 \n",
            "                                                                                                  \n",
            "==================================================================================================\n",
            "Total params: 7\n",
            "Trainable params: 7\n",
            "Non-trainable params: 0\n",
            "__________________________________________________________________________________________________\n"
          ]
        }
      ]
    }
  ]
}