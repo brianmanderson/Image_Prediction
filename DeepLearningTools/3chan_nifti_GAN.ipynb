{
 "cells": [
  {
   "cell_type": "markdown",
   "metadata": {
    "id": "v1CUZ0dkOo_F"
   },
   "source": [
    "##### Copyright 2019 The TensorFlow Authors.\n",
    "\n",
    "Licensed under the Apache License, Version 2.0 (the \"License\");"
   ]
  },
  {
   "cell_type": "code",
   "execution_count": null,
   "metadata": {
    "cellView": "form",
    "id": "qmkj-80IHxnd"
   },
   "outputs": [],
   "source": [
    "#@title Licensed under the Apache License, Version 2.0 (the \"License\");\n",
    "# you may not use this file except in compliance with the License.\n",
    "# You may obtain a copy of the License at\n",
    "#\n",
    "# https://www.apache.org/licenses/LICENSE-2.0\n",
    "#\n",
    "# Unless required by applicable law or agreed to in writing, software\n",
    "# distributed under the License is distributed on an \"AS IS\" BASIS,\n",
    "# WITHOUT WARRANTIES OR CONDITIONS OF ANY KIND, either express or implied.\n",
    "# See the License for the specific language governing permissions and\n",
    "# limitations under the License."
   ]
  },
  {
   "cell_type": "markdown",
   "metadata": {
    "id": "_xnMOsbqHz61"
   },
   "source": [
    "# pix2pix: Image-to-image translation with a conditional GAN"
   ]
  },
  {
   "cell_type": "markdown",
   "metadata": {
    "id": "Ds4o1h4WHz9U"
   },
   "source": [
    "<table class=\"tfo-notebook-buttons\" align=\"left\">\n",
    "  <td>\n",
    "    <a target=\"_blank\" href=\"https://www.tensorflow.org/tutorials/generative/pix2pix\"><img src=\"https://www.tensorflow.org/images/tf_logo_32px.png\" />View on TensorFlow.org</a>\n",
    "  </td>\n",
    "  <td>\n",
    "    <a target=\"_blank\" href=\"https://colab.research.google.com/github/tensorflow/docs/blob/master/site/en/tutorials/generative/pix2pix.ipynb\"><img src=\"https://www.tensorflow.org/images/colab_logo_32px.png\" />Run in Google Colab</a>\n",
    "  </td>\n",
    "  <td>\n",
    "    <a target=\"_blank\" href=\"https://github.com/tensorflow/docs/blob/master/site/en/tutorials/generative/pix2pix.ipynb\"><img src=\"https://www.tensorflow.org/images/GitHub-Mark-32px.png\" />View source on GitHub</a>\n",
    "  </td>\n",
    "  <td>\n",
    "    <a href=\"https://storage.googleapis.com/tensorflow_docs/docs/site/en/tutorials/generative/pix2pix.ipynb\"><img src=\"https://www.tensorflow.org/images/download_logo_32px.png\" />Download notebook</a>\n",
    "  </td>\n",
    "</table>"
   ]
  },
  {
   "cell_type": "markdown",
   "metadata": {
    "id": "ITZuApL56Mny"
   },
   "source": [
    "This Google Colab Notebook heavily buroows from the pix2pix example. \n",
    "How to build and train a conditional generative adversarial network (cGAN) called pix2pix that learns a mapping from input images to output images, as described in [Image-to-image translation with conditional adversarial networks](https://arxiv.org/abs/1611.07004) by Isola et al. (2017). pix2pix is not application specific—it can be applied to a wide range of tasks, including synthesizing photos from label maps, generating colorized photos from black and white images, turning Google Maps photos into aerial images, and even transforming sketches into photos.\n",
    "\n",
    "In the pix2pix cGAN, you condition on input images and generate corresponding output images. cGANs were first proposed in [Conditional Generative Adversarial Nets](https://arxiv.org/abs/1411.1784) (Mirza and Osindero, 2014)\n",
    "\n",
    "The architecture of your network will contain:\n",
    "\n",
    "- A generator with a [U-Net]([U-Net](https://arxiv.org/abs/1505.04597))-based architecture.\n",
    "- A discriminator represented by a convolutional PatchGAN classifier (proposed in the [pix2pix paper](https://arxiv.org/abs/1611.07004)).\n",
    "\n",
    "Note that each epoch can take around 15 seconds on a single V100 GPU.\n",
    "\n"
   ]
  },
  {
   "cell_type": "markdown",
   "metadata": {
    "id": "e1_Y75QXJS6h"
   },
   "source": [
    "## Import TensorFlow and other libraries"
   ]
  },
  {
   "cell_type": "code",
   "execution_count": 9,
   "metadata": {
    "id": "YfIk2es3hJEd"
   },
   "outputs": [],
   "source": [
    "import tensorflow as tf\n",
    "\n",
    "import os\n",
    "import sys \n",
    "import pathlib\n",
    "import time\n",
    "import datetime\n",
    "import numpy as np\n",
    "from matplotlib import pyplot as plt\n",
    "from IPython import display\n",
    "import tensorflow.experimental.numpy as tnp"
   ]
  },
  {
   "cell_type": "code",
   "execution_count": 2,
   "metadata": {},
   "outputs": [
    {
     "name": "stdout",
     "output_type": "stream",
     "text": [
      "Running locally\n"
     ]
    }
   ],
   "source": [
    "running_local = False\n",
    "try:\n",
    "    from google.colab import drive\n",
    "    drive.mount('/content/drive')\n",
    "    nb_path = '/content/notebooks'\n",
    "    os.symlink('/content/drive/MyDrive/Colab Notebooks', nb_path)\n",
    "    sys.path.insert(0, nb_path)  # or append(nb_path)\n",
    "except:\n",
    "    running_local = True\n",
    "    print(\"Running locally\")"
   ]
  },
  {
   "cell_type": "markdown",
   "metadata": {
    "id": "R4Ya7PQy4NBD"
   },
   "source": [
    "Line to install pymedphys which has a gamma function. Libaray was saved to Google drive and is commented out."
   ]
  },
  {
   "cell_type": "code",
   "execution_count": null,
   "metadata": {
    "id": "1oOw8vQJUyg-"
   },
   "outputs": [],
   "source": [
    "#!pip install --target=$nb_path pymedphys"
   ]
  },
  {
   "cell_type": "code",
   "execution_count": null,
   "metadata": {
    "colab": {
     "base_uri": "https://localhost:8080/"
    },
    "id": "wzufEZu702tH",
    "outputId": "689c36d7-ba6a-4190-f778-de1c03a0621c"
   },
   "outputs": [],
   "source": [
    "!pip install SimpleITK\n",
    "!pip install pymedphys"
   ]
  },
  {
   "cell_type": "code",
   "execution_count": 10,
   "metadata": {
    "id": "XkwdsvfzU35d"
   },
   "outputs": [],
   "source": [
    "import SimpleITK as sitk\n",
    "import pymedphys"
   ]
  },
  {
   "cell_type": "markdown",
   "metadata": {
    "id": "M030OkcHlhr3"
   },
   "source": [
    "Pull a sample image.   There are 4 images in 1 that need to be reformatted. From left to right, ray trace projection of CBCT. Fluence Map, PDOS and RTImage"
   ]
  },
  {
   "cell_type": "code",
   "execution_count": 3,
   "metadata": {
    "id": "sXKiRA4R09kn"
   },
   "outputs": [
    {
     "name": "stdout",
     "output_type": "stream",
     "text": [
      "Be careful..Resize with crop/pad can severely slow down data retrieval, best to do this and cache\n",
      "<Data_Generators.Image_Processors_Module.src.Processors.TFDataSetProcessors.Squeeze object at 0x000002206DE35A90>\n",
      "<Data_Generators.Image_Processors_Module.src.Processors.TFDataSetProcessors.ExpandDimension object at 0x00000220176F9460>\n",
      "<Data_Generators.Image_Processors_Module.src.Processors.TFDataSetProcessors.Resize_with_crop_pad object at 0x0000022017A9C430>\n",
      "<Data_Generators.Image_Processors_Module.src.Processors.TFDataSetProcessors.CombineKeys object at 0x0000022017A9C1C0>\n",
      "<Data_Generators.Image_Processors_Module.src.Processors.TFDataSetProcessors.ReturnOutputs object at 0x0000022017A2AA90>\n",
      "{'cache': '\\\\\\\\ad.ucsd.edu\\\\ahs\\\\radon\\\\research\\\\Bojechko\\\\TFRecords\\\\Train'}\n",
      "{'shuffle': 159}\n",
      "{'batch': 1}\n",
      "{'repeat'}\n",
      "<Data_Generators.Image_Processors_Module.src.Processors.TFDataSetProcessors.Squeeze object at 0x000002206DE35A90>\n",
      "<Data_Generators.Image_Processors_Module.src.Processors.TFDataSetProcessors.ExpandDimension object at 0x00000220176F9460>\n",
      "<Data_Generators.Image_Processors_Module.src.Processors.TFDataSetProcessors.Resize_with_crop_pad object at 0x0000022017A9C430>\n",
      "<Data_Generators.Image_Processors_Module.src.Processors.TFDataSetProcessors.CombineKeys object at 0x0000022017A9C1C0>\n",
      "<Data_Generators.Image_Processors_Module.src.Processors.TFDataSetProcessors.ReturnOutputs object at 0x0000022017A2AA90>\n",
      "{'cache': '\\\\\\\\ad.ucsd.edu\\\\ahs\\\\radon\\\\research\\\\Bojechko\\\\TFRecords\\\\Validation'}\n",
      "{'batch': 1}\n",
      "{'repeat'}\n"
     ]
    }
   ],
   "source": [
    "if not running_local:\n",
    "    fold1 = tf.io.gfile.listdir('/content/drive/My Drive/train/nifti/fold1')\n",
    "    fold2 = tf.io.gfile.listdir('/content/drive/My Drive/train/nifti/fold2')\n",
    "    fold3 = tf.io.gfile.listdir('/content/drive/My Drive/train/nifti/fold3')\n",
    "    fold4 = tf.io.gfile.listdir('/content/drive/My Drive/train/nifti/fold4')\n",
    "    fold5 = tf.io.gfile.listdir('/content/drive/My Drive/train/nifti/fold5')\n",
    "else:\n",
    "    from ReturnGenerators import return_generators\n",
    "    train_generator, validation_generator = return_generators(records_path=r'\\\\ad.ucsd.edu\\ahs\\radon\\research\\Bojechko\\TFRecords')"
   ]
  },
  {
   "cell_type": "code",
   "execution_count": 8,
   "metadata": {},
   "outputs": [
    {
     "name": "stdout",
     "output_type": "stream",
     "text": [
      "(1, 256, 256, 3)\n",
      "(1, 256, 256, 1)\n"
     ]
    }
   ],
   "source": [
    "x, y = next(iter(train_generator.data_set))\n",
    "print(x[0].shape)\n",
    "print(y[0].shape)"
   ]
  },
  {
   "cell_type": "code",
   "execution_count": 11,
   "metadata": {
    "id": "r6Mck58p1BCH"
   },
   "outputs": [],
   "source": [
    "# The batch size of 1 produced better results for the U-Net in the original pix2pix experiment\n",
    "BATCH_SIZE = 1\n",
    "# Each image is 256x256 in size\n",
    "IMG_WIDTH = 256\n",
    "IMG_HEIGHT = 256"
   ]
  },
  {
   "cell_type": "code",
   "execution_count": null,
   "metadata": {
    "id": "icWEERrX1Ii_"
   },
   "outputs": [],
   "source": [
    "def load_data(file_references, mode, data_path):\n",
    "    \n",
    "    data = {'input' : [], 'rtimg' : [], 'fname' : []}\n",
    "    \n",
    "    # We define a `read_fn` and iterate through the `file_references`, which\n",
    "    # can contain information about the data to be read (e.g. a file path):\n",
    "    idx = 0\n",
    "    for file in file_references:\n",
    "        #print(file)     \n",
    "        # Here, we parse the `subject_id` to construct a file path to read\n",
    "        # an image from.\n",
    "        #subject_id = meta_data[0]\n",
    "        t1_fn = os.path.join(data_path,file)\n",
    "        \n",
    "        # Read the .nii image containing a brain volume with SimpleITK and get \n",
    "        # the numpy array:\n",
    "        \n",
    "        sitk_t1 = sitk.ReadImage(t1_fn)\n",
    "        t1 = sitk.GetArrayFromImage(sitk_t1)\n",
    "        #print(t1.shape)\n",
    "        # Normalise the image to zero mean/unit std dev:\n",
    "        # t1 = whitening(t1)\n",
    "        # Normalize use the max value of PDOS which is 3.46\n",
    "        # Max value of RT is 2.26 \n",
    "        # Create a 4D Tensor with a dummy dimension for channels\n",
    "        tinput = (t1[:, :, 1:4] /255.5 ) -1\n",
    "        #tslice = (t1[:, :, 16] /127.5 ) -1\n",
    "        #tpdos = (t1[:, :, 1] /127.5 ) -1\n",
    "        #tcbct = tf.stack([tslice,tpdos],2)\n",
    "        trt = (t1[:, :, 0,np.newaxis] / 255.5)-1\n",
    "         \n",
    "        tinput = tf.cast(tinput, tf.float32)\n",
    "        trt = tf.cast(trt,  tf.float32)\n",
    "        #tcbct = tf.squeeze(tcbct,axis=0)\n",
    "        #print(\"CBCT shape \" + str(tcbct.shape))\n",
    "        #print(\"RT image shape \" + str(trt.shape))\n",
    "        \n",
    "        data['input'].append(tinput)\n",
    "        data['rtimg'].append(trt)\n",
    "        data['fname'].append(str(file))\n",
    "        #data['labels'].append(idx)\n",
    "        idx = idx+1\n",
    "            \n",
    "    return data"
   ]
  },
  {
   "cell_type": "code",
   "execution_count": null,
   "metadata": {
    "colab": {
     "base_uri": "https://localhost:8080/"
    },
    "id": "rv4vDU6o1-7Y",
    "outputId": "da158ff3-2abd-4c33-f90d-5538119bbcf9"
   },
   "outputs": [],
   "source": [
    "# Load all data into memory\n",
    "#fold1_data = load_data(fold1, tf.estimator.ModeKeys.TRAIN, '/content/drive/My Drive/train/nifti/fold1')\n",
    "fold2_data = load_data(fold2, tf.estimator.ModeKeys.TRAIN, '/content/drive/My Drive/train/nifti/fold2')\n",
    "fold3_data = load_data(fold3, tf.estimator.ModeKeys.TRAIN, '/content/drive/My Drive/train/nifti/fold3')\n",
    "fold4_data = load_data(fold4, tf.estimator.ModeKeys.TRAIN, '/content/drive/My Drive/train/nifti/fold4')\n",
    "fold5_data = load_data(fold5, tf.estimator.ModeKeys.TRAIN, '/content/drive/My Drive/train/nifti/fold5')\n",
    "#print(type(data))\n",
    "\n",
    "#dataset = tf.data.Dataset.from_tensor_slices((x,y))\n",
    "train_dataset = tf.data.Dataset.from_tensor_slices((fold2_data))\n",
    "train_dataset2 = tf.data.Dataset.from_tensor_slices((fold3_data))\n",
    "train_dataset3 = tf.data.Dataset.from_tensor_slices((fold4_data))\n",
    "train_dataset4 = tf.data.Dataset.from_tensor_slices((fold5_data))\n",
    "#train_dataset5 = tf.data.Dataset.from_tensor_slices((fold5_data))\n",
    "\n",
    "train_dataset = train_dataset.concatenate(train_dataset2)\n",
    "train_dataset = train_dataset.concatenate(train_dataset3)\n",
    "train_dataset = train_dataset.concatenate(train_dataset4)\n",
    "\n",
    "BUFFER_SIZE = len(list(train_dataset.as_numpy_iterator()))\n",
    "train_dataset = train_dataset.shuffle(BUFFER_SIZE)\n",
    "#print(train_dataset)\n",
    "train_dataset = train_dataset.batch(BATCH_SIZE)\n",
    "print(BUFFER_SIZE)\n",
    "#iterator = iter(train_dataset)\n",
    "\n",
    "#nx = next(iterator)\n",
    "#print(type(iterator))"
   ]
  },
  {
   "cell_type": "code",
   "execution_count": null,
   "metadata": {
    "colab": {
     "base_uri": "https://localhost:8080/"
    },
    "id": "0GyviiHV_kkW",
    "outputId": "bf24444f-d971-4377-e48a-f04f4f0808a7"
   },
   "outputs": [],
   "source": [
    "fold1_data = load_data(fold1, tf.estimator.ModeKeys.TRAIN, '/content/drive/My Drive/train/nifti/fold1')\n",
    "#print(type(datav))\n",
    "\n",
    "valid_dataset = tf.data.Dataset.from_tensor_slices((fold1_data))\n",
    "#valid_dataset = tf.data.Dataset.from_tensors((datav))\n",
    "#valid_dataset = tf.data.Dataset.from_tensor_slices((datav))\n",
    "valid_dataset = valid_dataset.shuffle(len(list(valid_dataset.as_numpy_iterator())) )\n",
    "valid_dataset = valid_dataset.batch(BATCH_SIZE)\n",
    "#print(type(valid_dataset))\n",
    "#print(train_dataset)\n",
    "print(len(list(valid_dataset.as_numpy_iterator())))"
   ]
  },
  {
   "cell_type": "code",
   "execution_count": 25,
   "metadata": {},
   "outputs": [
    {
     "data": {
      "image/png": "[encoded data removed]",
      "text/plain": [
       "<Figure size 432x288 with 1 Axes>"
      ]
     },
     "metadata": {
      "needs_background": "light"
     },
     "output_type": "display_data"
    },
    {
     "data": {
      "image/png": "[encoded data removed]",
      "text/plain": [
       "<Figure size 432x288 with 1 Axes>"
      ]
     },
     "metadata": {
      "needs_background": "light"
     },
     "output_type": "display_data"
    }
   ],
   "source": [
    "if running_local:\n",
    "    iterator = iter(validation_generator.data_set)\n",
    "    for _ in range(len(validation_generator)):\n",
    "        x,y = next(iterator)\n",
    "        inp1 = x[0][0, :, 128 ,0]\n",
    "        plt.plot(inp1)\n",
    "    plt.figure()\n",
    "    plt.imshow(x[0][0,...,2])"
   ]
  },
  {
   "cell_type": "code",
   "execution_count": 13,
   "metadata": {
    "colab": {
     "base_uri": "https://localhost:8080/",
     "height": 282
    },
    "id": "S2voSzAA_r62",
    "outputId": "160f440f-e78d-4845-fb5d-835cefc98e22"
   },
   "outputs": [
    {
     "ename": "TypeError",
     "evalue": "tuple indices must be integers or slices, not str",
     "output_type": "error",
     "traceback": [
      "\u001b[1;31m---------------------------------------------------------------------------\u001b[0m",
      "\u001b[1;31mTypeError\u001b[0m                                 Traceback (most recent call last)",
      "Input \u001b[1;32mIn [13]\u001b[0m, in \u001b[0;36m<cell line: 1>\u001b[1;34m()\u001b[0m\n\u001b[0;32m      1\u001b[0m \u001b[38;5;28;01mfor\u001b[39;00m val \u001b[38;5;129;01min\u001b[39;00m valid_dataset\u001b[38;5;241m.\u001b[39mtake(\u001b[38;5;241m1\u001b[39m):\n\u001b[1;32m----> 2\u001b[0m   inp \u001b[38;5;241m=\u001b[39m \u001b[43mval\u001b[49m\u001b[43m[\u001b[49m\u001b[38;5;124;43m'\u001b[39;49m\u001b[38;5;124;43minput\u001b[39;49m\u001b[38;5;124;43m'\u001b[39;49m\u001b[43m]\u001b[49m\n\u001b[0;32m      3\u001b[0m   inp1 \u001b[38;5;241m=\u001b[39m tf\u001b[38;5;241m.\u001b[39msqueeze(inp,axis\u001b[38;5;241m=\u001b[39m\u001b[38;5;241m0\u001b[39m)\n\u001b[0;32m      4\u001b[0m   vec \u001b[38;5;241m=\u001b[39m inp1[\u001b[38;5;241m1\u001b[39m:\u001b[38;5;241m256\u001b[39m,\u001b[38;5;241m128\u001b[39m]\n",
      "\u001b[1;31mTypeError\u001b[0m: tuple indices must be integers or slices, not str"
     ]
    }
   ],
   "source": [
    "if not running_local:\n",
    "    for val in valid_dataset.take(1):\n",
    "      inp = val['input']\n",
    "      inp1 = tf.squeeze(inp,axis=0)\n",
    "      vec = inp1[1:256,128]\n",
    "      plt.plot(vec)\n",
    "      print(tf.shape(inp1))"
   ]
  },
  {
   "cell_type": "code",
   "execution_count": 55,
   "metadata": {
    "id": "YLRvgXfx2vR5"
   },
   "outputs": [],
   "source": [
    "def getinput(input_image,chan):\n",
    "    slice_image = input_image[:,:,chan]\n",
    "    slice_image = tf.cast(slice_image, tf.float32)\n",
    "    return slice_image"
   ]
  },
  {
   "cell_type": "code",
   "execution_count": null,
   "metadata": {
    "colab": {
     "base_uri": "https://localhost:8080/",
     "height": 304
    },
    "id": "-MMQRYR920FB",
    "outputId": "4a0a1912-538e-4d2c-9150-6738cad1e318"
   },
   "outputs": [],
   "source": [
    "slicen = 2\n",
    "for val in train_dataset.take(1):\n",
    "  inp = tf.squeeze(val['input'],axis=0)\n",
    "  #print(tf.shape(inp))\n",
    "  img = getinput(inp,slicen)\n",
    "  print(tf.shape(img))\n",
    "\n",
    "\n",
    "plt.figure()\n",
    "#plt.imshow(tf.squeeze(img, axis=-1))\n",
    "plt.imshow(img)"
   ]
  },
  {
   "cell_type": "code",
   "execution_count": null,
   "metadata": {
    "colab": {
     "base_uri": "https://localhost:8080/",
     "height": 321
    },
    "id": "-eJ2p_ik248Z",
    "outputId": "1428e2e4-e1d0-4585-b59f-655f7a4e8bb4"
   },
   "outputs": [],
   "source": [
    "for val in train_dataset.take(1):\n",
    "  img = val['rtimg']\n",
    "  print(tf.shape(img))\n",
    "\n",
    "img = tf.squeeze(img, axis=0)\n",
    "img = tf.squeeze(img, axis=-1)\n",
    "#img = tf.cast(img, tf.float32)\n",
    "print(tf.shape(img))\n",
    "#plt.figure()\n",
    "#plt.imshow(tf.squeeze(img, axis=-1))\n",
    "plt.imshow(img)"
   ]
  },
  {
   "cell_type": "code",
   "execution_count": null,
   "metadata": {
    "colab": {
     "base_uri": "https://localhost:8080/",
     "height": 286
    },
    "id": "kxEUjGyOAJrQ",
    "outputId": "a9704fe6-f5e2-4a4d-bc10-a04830f8f1b4"
   },
   "outputs": [],
   "source": [
    "slicen =1\n",
    "for val in train_dataset.take(1):\n",
    "  inp = tf.squeeze(val['input'],axis=0)\n",
    "  img1 = getinput(inp,slicen)\n",
    "  img2 = val['rtimg']\n",
    "  img2 = tf.squeeze(img2, axis=0)\n",
    "  #print(tf.shape(img))\n",
    "\n",
    "#img2 = tf.cast(img2, tf.float32)\n",
    "plt.figure()\n",
    "plt.imshow(img1,alpha=0.5)\n",
    "plt.imshow(tf.squeeze(img2, axis=-1),alpha=0.5)"
   ]
  },
  {
   "cell_type": "markdown",
   "metadata": {
    "id": "PVuZQTfI_c-s"
   },
   "source": [
    "As described in the [pix2pix paper](https://arxiv.org/abs/1611.07004), you need to apply random jittering and mirroring to preprocess the training set.\n",
    "\n",
    "Define functions that:\n",
    "\n",
    "1. Randomly flip the image horizontally i.e. left to right (random mirroring).\n",
    "2. Normalize the images to the `[-1, 1]` range. "
   ]
  },
  {
   "cell_type": "code",
   "execution_count": 26,
   "metadata": {
    "id": "Q4vH0iJzAOhP"
   },
   "outputs": [],
   "source": [
    "OUTPUT_CHANNELS = 1"
   ]
  },
  {
   "cell_type": "code",
   "execution_count": 27,
   "metadata": {
    "id": "ct1oEuMu7DnV"
   },
   "outputs": [],
   "source": [
    "def resize(input_image, real_image, height, width):\n",
    "  input_image = tf.image.resize(input_image, [height, width],\n",
    "                                method=tf.image.ResizeMethod.NEAREST_NEIGHBOR)\n",
    "  real_image = tf.image.resize(real_image, [height, width],\n",
    "                               method=tf.image.ResizeMethod.NEAREST_NEIGHBOR)\n",
    "\n",
    "  return input_image, real_image"
   ]
  },
  {
   "cell_type": "code",
   "execution_count": 28,
   "metadata": {
    "id": "XSpSYCZT13Zr"
   },
   "outputs": [],
   "source": [
    "def random_crop(input_image, real_image):\n",
    "  #stacked_image = tf.stack([input_image, real_image], axis=0)\n",
    "  cropped_input = tf.image.random_crop(input_image, size=[256, 256, 3])\n",
    "  cropped_real = tf.image.random_crop(real_image, size=[256, 256, 1])\n",
    "\n",
    "  return cropped_input, cropped_real"
   ]
  },
  {
   "cell_type": "code",
   "execution_count": 29,
   "metadata": {
    "id": "muhR2cgbLKWW"
   },
   "outputs": [],
   "source": [
    "# Normalizing the images to [-1, 1]\n",
    "def normalize(input_image, real_image):\n",
    "  input_image = (input_image / 127.5) - 1\n",
    "  real_image = (real_image / 127.5) - 1\n",
    "\n",
    "  return input_image, real_image"
   ]
  },
  {
   "cell_type": "code",
   "execution_count": 30,
   "metadata": {
    "id": "2CachlA-2IaE"
   },
   "outputs": [],
   "source": [
    "@tf.function()\n",
    "def random_jitter(input_image, real_image):\n",
    "  #input_image, real_image = resize(input_image, real_image, 286, 286)\n",
    "  # Random cropping back to 236x236\n",
    "  #input_image, real_image = random_crop(input_image, real_image)\n",
    "\n",
    "  if tf.random.uniform(()) > 0.5:\n",
    "    # Random mirroring\n",
    "    input_image = tf.image.flip_up_down(input_image)\n",
    "    real_image = tf.image.flip_up_down(real_image)\n",
    "\n",
    "  return input_image, real_image"
   ]
  },
  {
   "cell_type": "markdown",
   "metadata": {
    "id": "wfAQbzy799UV"
   },
   "source": [
    "You can inspect some of the preprocessed output:"
   ]
  },
  {
   "cell_type": "code",
   "execution_count": 31,
   "metadata": {
    "id": "3R09ATE_SH9P"
   },
   "outputs": [],
   "source": [
    "def downsample(filters, size, apply_batchnorm=True):\n",
    "  initializer = tf.random_normal_initializer(0., 0.02)\n",
    "\n",
    "  result = tf.keras.Sequential()\n",
    "  result.add(\n",
    "      tf.keras.layers.Conv2D(filters, size, strides=2, padding='same',\n",
    "                             kernel_initializer=initializer, use_bias=False))\n",
    "\n",
    "  if apply_batchnorm:\n",
    "    result.add(tf.keras.layers.BatchNormalization())\n",
    "\n",
    "  result.add(tf.keras.layers.LeakyReLU())\n",
    "\n",
    "  return result"
   ]
  },
  {
   "cell_type": "markdown",
   "metadata": {
    "id": "aFI_Pa52tjLl"
   },
   "source": [
    "Define the upsampler (decoder):"
   ]
  },
  {
   "cell_type": "code",
   "execution_count": 32,
   "metadata": {
    "id": "nhgDsHClSQzP"
   },
   "outputs": [],
   "source": [
    "def upsample(filters, size, apply_dropout=False):\n",
    "  initializer = tf.random_normal_initializer(0., 0.02)\n",
    "\n",
    "  result = tf.keras.Sequential()\n",
    "  result.add(\n",
    "    tf.keras.layers.Conv2DTranspose(filters, size, strides=2,\n",
    "                                    padding='same',\n",
    "                                    kernel_initializer=initializer,\n",
    "                                    use_bias=False))\n",
    "\n",
    "  result.add(tf.keras.layers.BatchNormalization())\n",
    "\n",
    "  if apply_dropout:\n",
    "      result.add(tf.keras.layers.Dropout(0.5))\n",
    "\n",
    "  result.add(tf.keras.layers.ReLU())\n",
    "\n",
    "  return result"
   ]
  },
  {
   "cell_type": "code",
   "execution_count": null,
   "metadata": {
    "colab": {
     "base_uri": "https://localhost:8080/"
    },
    "id": "mz-ahSdsq0Oc",
    "outputId": "9da9d79f-b53f-4ea4-fc5b-d4cf85ca1b14"
   },
   "outputs": [],
   "source": [
    "# up_model = upsample(3, 4)\n",
    "# up_result = up_model(down_result)\n",
    "# print (up_result.shape)"
   ]
  },
  {
   "cell_type": "markdown",
   "metadata": {
    "id": "ueEJyRVrtZ-p"
   },
   "source": [
    "Define the generator with the downsampler and the upsampler:"
   ]
  },
  {
   "cell_type": "code",
   "execution_count": 33,
   "metadata": {
    "id": "lFPI4Nu-8b4q"
   },
   "outputs": [],
   "source": [
    "def Generator():\n",
    "  inputs = tf.keras.layers.Input(shape=[256, 256, 3])\n",
    "\n",
    "  down_stack = [\n",
    "    downsample(64, 4, apply_batchnorm=False),  # (batch_size, 128, 128, 64)\n",
    "    downsample(128, 4),  # (batch_size, 64, 64, 128)\n",
    "    downsample(256, 4),  # (batch_size, 32, 32, 256)\n",
    "    downsample(512, 4),  # (batch_size, 16, 16, 512)\n",
    "    downsample(512, 4),  # (batch_size, 8, 8, 512)\n",
    "    downsample(512, 4),  # (batch_size, 4, 4, 512)\n",
    "    downsample(512, 4),  # (batch_size, 2, 2, 512)\n",
    "    downsample(512, 4),  # (batch_size, 1, 1, 512)\n",
    "  ]\n",
    "\n",
    "  up_stack = [\n",
    "    upsample(512, 4, apply_dropout=True),  # (batch_size, 2, 2, 1024)\n",
    "    upsample(512, 4, apply_dropout=True),  # (batch_size, 4, 4, 1024)\n",
    "    upsample(512, 4, apply_dropout=True),  # (batch_size, 8, 8, 1024)\n",
    "    upsample(512, 4),  # (batch_size, 16, 16, 1024)\n",
    "    upsample(256, 4),  # (batch_size, 32, 32, 512)\n",
    "    upsample(128, 4),  # (batch_size, 64, 64, 256)\n",
    "    upsample(64, 4),  # (batch_size, 128, 128, 128)\n",
    "  ]\n",
    "\n",
    "  initializer = tf.random_normal_initializer(0., 0.02)\n",
    "  last = tf.keras.layers.Conv2DTranspose(OUTPUT_CHANNELS, 4,\n",
    "                                         strides=2,\n",
    "                                         padding='same',\n",
    "                                         kernel_initializer=initializer,\n",
    "                                         activation='tanh')  # (batch_size, 256, 256, 3)\n",
    "\n",
    "  x = inputs\n",
    "\n",
    "  # Downsampling through the model\n",
    "  skips = []\n",
    "  for down in down_stack:\n",
    "    x = down(x)\n",
    "    skips.append(x)\n",
    "\n",
    "  skips = reversed(skips[:-1])\n",
    "\n",
    "  # Upsampling and establishing the skip connections\n",
    "  for up, skip in zip(up_stack, skips):\n",
    "    x = up(x)\n",
    "    x = tf.keras.layers.Concatenate()([x, skip])\n",
    "\n",
    "  x = last(x)\n",
    "\n",
    "  return tf.keras.Model(inputs=inputs, outputs=x)"
   ]
  },
  {
   "cell_type": "markdown",
   "metadata": {
    "id": "Z4PKwrcQFYvF"
   },
   "source": [
    "Visualize the generator model architecture:"
   ]
  },
  {
   "cell_type": "code",
   "execution_count": 34,
   "metadata": {
    "id": "dIbRPFzjmV85"
   },
   "outputs": [],
   "source": [
    "generator = Generator()\n",
    "#tf.keras.utils.plot_model(generator, show_shapes=True, dpi=64)\n",
    "#generator.summary()"
   ]
  },
  {
   "cell_type": "markdown",
   "metadata": {
    "id": "Z8kbgTK8FcPo"
   },
   "source": [
    "Test the generator:"
   ]
  },
  {
   "cell_type": "code",
   "execution_count": 35,
   "metadata": {
    "colab": {
     "base_uri": "https://localhost:8080/",
     "height": 321
    },
    "id": "U1N1_obwtdQH",
    "outputId": "01110686-b967-4515-f772-2c49964eecb9"
   },
   "outputs": [
    {
     "ename": "NameError",
     "evalue": "name 'inp' is not defined",
     "output_type": "error",
     "traceback": [
      "\u001b[1;31m---------------------------------------------------------------------------\u001b[0m",
      "\u001b[1;31mNameError\u001b[0m                                 Traceback (most recent call last)",
      "Input \u001b[1;32mIn [35]\u001b[0m, in \u001b[0;36m<cell line: 1>\u001b[1;34m()\u001b[0m\n\u001b[1;32m----> 1\u001b[0m \u001b[38;5;28mprint\u001b[39m(tf\u001b[38;5;241m.\u001b[39mshape(\u001b[43minp\u001b[49m))\n\u001b[0;32m      2\u001b[0m \u001b[38;5;28mprint\u001b[39m(tf\u001b[38;5;241m.\u001b[39mshape(inp[tf\u001b[38;5;241m.\u001b[39mnewaxis, \u001b[38;5;241m.\u001b[39m\u001b[38;5;241m.\u001b[39m\u001b[38;5;241m.\u001b[39m]))\n\u001b[0;32m      4\u001b[0m gen_output \u001b[38;5;241m=\u001b[39m generator(inp[tf\u001b[38;5;241m.\u001b[39mnewaxis, \u001b[38;5;241m.\u001b[39m\u001b[38;5;241m.\u001b[39m\u001b[38;5;241m.\u001b[39m], training\u001b[38;5;241m=\u001b[39m\u001b[38;5;28;01mFalse\u001b[39;00m)\n",
      "\u001b[1;31mNameError\u001b[0m: name 'inp' is not defined"
     ]
    }
   ],
   "source": [
    "print(tf.shape(inp))\n",
    "print(tf.shape(inp[tf.newaxis, ...]))\n",
    "\n",
    "gen_output = generator(inp[tf.newaxis, ...], training=False)\n",
    "#print(tf.shape(gen_output))\n",
    "plt.imshow(tf.squeeze(gen_output[0, ...],axis=-1))"
   ]
  },
  {
   "cell_type": "markdown",
   "metadata": {
    "id": "dpDPEQXIAiQO"
   },
   "source": [
    "### Define the generator loss\n",
    "\n",
    "GANs learn a loss that adapts to the data, while cGANs learn a structured loss that penalizes a possible structure that differs from the network output and the target image, as described in the [pix2pix paper](https://arxiv.org/abs/1611.07004).\n",
    "\n",
    "- The generator loss is a sigmoid cross-entropy loss of the generated images and an **array of ones**.\n",
    "- The pix2pix paper also mentions the L1 loss, which is a MAE (mean absolute error) between the generated image and the target image.\n",
    "- This allows the generated image to become structurally similar to the target image.\n",
    "- The formula to calculate the total generator loss is `gan_loss + LAMBDA * l1_loss`, where `LAMBDA = 100`. This value was decided by the authors of the paper."
   ]
  },
  {
   "cell_type": "code",
   "execution_count": 36,
   "metadata": {
    "id": "cyhxTuvJyIHV"
   },
   "outputs": [],
   "source": [
    "LAMBDA = 100"
   ]
  },
  {
   "cell_type": "code",
   "execution_count": 37,
   "metadata": {
    "id": "Q1Xbz5OaLj5C"
   },
   "outputs": [],
   "source": [
    "loss_object = tf.keras.losses.BinaryCrossentropy(from_logits=True)"
   ]
  },
  {
   "cell_type": "code",
   "execution_count": 38,
   "metadata": {
    "id": "90BIcCKcDMxz"
   },
   "outputs": [],
   "source": [
    "def generator_loss(disc_generated_output, gen_output, target):\n",
    " \n",
    "  gan_loss = loss_object(tf.ones_like(disc_generated_output), disc_generated_output)\n",
    "\n",
    "  # Mean absolute error\n",
    "  l1_loss = tf.reduce_mean(tf.abs(target - gen_output))\n",
    "\n",
    "  total_gen_loss = gan_loss + (LAMBDA * l1_loss)\n",
    "\n",
    "  return total_gen_loss, gan_loss, l1_loss"
   ]
  },
  {
   "cell_type": "markdown",
   "metadata": {
    "id": "fSZbDgESHIV6"
   },
   "source": [
    "The training procedure for the generator is as follows:"
   ]
  },
  {
   "cell_type": "markdown",
   "metadata": {
    "id": "TlB-XMY5Awj9"
   },
   "source": [
    "![Generator Update Image](https://github.com/tensorflow/docs/blob/master/site/en/tutorials/generative/images/gen.png?raw=1)\n"
   ]
  },
  {
   "cell_type": "markdown",
   "metadata": {
    "id": "ZTKZfoaoEF22"
   },
   "source": [
    "## Build the discriminator\n",
    "\n",
    "The discriminator in the pix2pix cGAN is a convolutional PatchGAN classifier—it tries to classify if each image _patch_ is real or not real, as described in the [pix2pix paper](https://arxiv.org/abs/1611.07004).\n",
    "\n",
    "- Each block in the discriminator is: Convolution -> Batch normalization -> Leaky ReLU.\n",
    "- The shape of the output after the last layer is `(batch_size, 30, 30, 1)`.\n",
    "- Each `30 x 30` image patch of the output classifies a `70 x 70` portion of the input image.\n",
    "- The discriminator receives 2 inputs: \n",
    "    - The input image and the target image, which it should classify as real.\n",
    "    - The input image and the generated image (the output of the generator), which it should classify as fake.\n",
    "    - Use `tf.concat([inp, tar], axis=-1)` to concatenate these 2 inputs together."
   ]
  },
  {
   "cell_type": "markdown",
   "metadata": {
    "id": "XIuTeGL5v45m"
   },
   "source": [
    "Let's define the discriminator:"
   ]
  },
  {
   "cell_type": "code",
   "execution_count": 39,
   "metadata": {
    "id": "ll6aNeQx8b4v"
   },
   "outputs": [],
   "source": [
    "def Discriminator():\n",
    "  initializer = tf.random_normal_initializer(0., 0.02)\n",
    "\n",
    "  #inp = tf.keras.layers.Input(shape=[256, 256, 3], name='input_image')\n",
    "  tar = tf.keras.layers.Input(shape=[256, 256, 1], name='target_image')\n",
    "\n",
    "  #x = tf.keras.layers.concatenate([inp, tar])  # (batch_size, 256, 256, channels*2)\n",
    "\n",
    "  down1 = downsample(64, 4, False)(tar)  # (batch_size, 128, 128, 64)\n",
    "  down2 = downsample(128, 4)(down1)  # (batch_size, 64, 64, 128)\n",
    "  down3 = downsample(256, 4)(down2)  # (batch_size, 32, 32, 256)\n",
    "\n",
    "  zero_pad1 = tf.keras.layers.ZeroPadding2D()(down3)  # (batch_size, 34, 34, 256)\n",
    "  conv = tf.keras.layers.Conv2D(512, 4, strides=1,\n",
    "                                kernel_initializer=initializer,\n",
    "                                use_bias=False)(zero_pad1)  # (batch_size, 31, 31, 512)\n",
    "\n",
    "  batchnorm1 = tf.keras.layers.BatchNormalization()(conv)\n",
    "\n",
    "  leaky_relu = tf.keras.layers.LeakyReLU()(batchnorm1)\n",
    "\n",
    "  zero_pad2 = tf.keras.layers.ZeroPadding2D()(leaky_relu)  # (batch_size, 33, 33, 512)\n",
    "\n",
    "  last = tf.keras.layers.Conv2D(1, 4, strides=1,\n",
    "                                kernel_initializer=initializer)(zero_pad2)  # (batch_size, 30, 30, 1)\n",
    "\n",
    "  return tf.keras.Model(inputs=tar, outputs=last)"
   ]
  },
  {
   "cell_type": "markdown",
   "metadata": {
    "id": "HdV9yAbBHNkg"
   },
   "source": [
    "Visualize the discriminator model architecture:"
   ]
  },
  {
   "cell_type": "code",
   "execution_count": 42,
   "metadata": {
    "colab": {
     "base_uri": "https://localhost:8080/",
     "height": 730
    },
    "id": "YHoUui4om-Ev",
    "outputId": "9f15ef6f-6568-4967-dc9f-5ff1c1734b99"
   },
   "outputs": [
    {
     "name": "stdout",
     "output_type": "stream",
     "text": [
      "You must install pydot (`pip install pydot`) and install graphviz (see instructions at https://graphviz.gitlab.io/download/) for plot_model/model_to_dot to work.\n"
     ]
    }
   ],
   "source": [
    "discriminator = Discriminator()\n",
    "tf.keras.utils.plot_model(discriminator, show_shapes=True, dpi=64)"
   ]
  },
  {
   "cell_type": "markdown",
   "metadata": {
    "id": "ps7nIHigHYc7"
   },
   "source": [
    "Test the discriminator:"
   ]
  },
  {
   "cell_type": "code",
   "execution_count": null,
   "metadata": {
    "colab": {
     "base_uri": "https://localhost:8080/",
     "height": 286
    },
    "id": "gDkA05NE6QMs",
    "outputId": "9108f7ea-e790-47cb-cd83-4ac6c69a57bf"
   },
   "outputs": [],
   "source": [
    "disc_out = discriminator(gen_output, training=False)\n",
    "plt.imshow(disc_out[0, ..., -1], vmin=-20, vmax=20, cmap='RdBu_r')\n",
    "plt.colorbar()"
   ]
  },
  {
   "cell_type": "markdown",
   "metadata": {
    "id": "AOqg1dhUAWoD"
   },
   "source": [
    "### Define the discriminator loss\n",
    "\n",
    "- The `discriminator_loss` function takes 2 inputs: **real images** and **generated images**.\n",
    "- `real_loss` is a sigmoid cross-entropy loss of the **real images** and an **array of ones(since these are the real images)**.\n",
    "- `generated_loss` is a sigmoid cross-entropy loss of the **generated images** and an **array of zeros (since these are the fake images)**.\n",
    "- The `total_loss` is the sum of `real_loss` and `generated_loss`."
   ]
  },
  {
   "cell_type": "code",
   "execution_count": 43,
   "metadata": {
    "id": "wkMNfBWlT-PV"
   },
   "outputs": [],
   "source": [
    "def discriminator_loss(disc_real_output, disc_generated_output):\n",
    "  real_loss = loss_object(tf.ones_like(disc_real_output), disc_real_output)\n",
    "\n",
    "  generated_loss = loss_object(tf.zeros_like(disc_generated_output), disc_generated_output)\n",
    "\n",
    "  total_disc_loss = real_loss + generated_loss\n",
    "\n",
    "  return total_disc_loss"
   ]
  },
  {
   "cell_type": "markdown",
   "metadata": {
    "id": "-ede4p2YELFa"
   },
   "source": [
    "The training procedure for the discriminator is shown below.\n",
    "\n",
    "To learn more about the architecture and the hyperparameters you can refer to the [pix2pix paper](https://arxiv.org/abs/1611.07004)."
   ]
  },
  {
   "cell_type": "markdown",
   "metadata": {
    "id": "IS9sHa-1BoAF"
   },
   "source": [
    "![Discriminator Update Image](https://github.com/tensorflow/docs/blob/master/site/en/tutorials/generative/images/dis.png?raw=1)\n"
   ]
  },
  {
   "cell_type": "markdown",
   "metadata": {
    "id": "_073KDijTAVh"
   },
   "source": []
  },
  {
   "cell_type": "markdown",
   "metadata": {
    "id": "0FMYgY_mPfTi"
   },
   "source": [
    "## Define the optimizers and a checkpoint-saver\n"
   ]
  },
  {
   "cell_type": "code",
   "execution_count": 44,
   "metadata": {
    "id": "lbHFNexF0x6O"
   },
   "outputs": [],
   "source": [
    "generator_optimizer = tf.keras.optimizers.Adam(2e-4, beta_1=0.5)\n",
    "discriminator_optimizer = tf.keras.optimizers.Adam(2e-4, beta_1=0.5)"
   ]
  },
  {
   "cell_type": "code",
   "execution_count": 46,
   "metadata": {
    "id": "WJnftd5sQsv6"
   },
   "outputs": [],
   "source": [
    "!mkdir -p training_checkpoints\n",
    "#checkpoint_dir = '/content/drive/MyDrive/Colab Notebooks/3chanGAN_checkpoints'\n",
    "if not running_local:\n",
    "    checkpoint_dir = '/content/drive/MyDrive/Colab Notebooks/training_checkpoints'\n",
    "else:\n",
    "    checkpoint_dir = r'R:\\Bojechko\\TFRecords\\training_checkpoints'\n",
    "checkpoint_prefix = os.path.join(checkpoint_dir, \"ckpt\")\n",
    "checkpoint = tf.train.Checkpoint(generator_optimizer=generator_optimizer,\n",
    "                                 discriminator_optimizer=discriminator_optimizer,\n",
    "                                 generator=generator,\n",
    "                                 discriminator=discriminator)"
   ]
  },
  {
   "cell_type": "markdown",
   "metadata": {
    "id": "Rw1fkAczTQYh"
   },
   "source": [
    "## Generate images\n",
    "\n",
    "Write a function to plot some images during training.\n",
    "\n",
    "- Pass images from the test set to the generator.\n",
    "- The generator will then translate the input image into the output.\n",
    "- The last step is to plot the predictions and _voila_!"
   ]
  },
  {
   "cell_type": "markdown",
   "metadata": {
    "id": "Rb0QQFHF-JfS"
   },
   "source": [
    "Note: The `training=True` is intentional here since\n",
    "you want the batch statistics, while running the model on the test dataset. If you use `training=False`, you get the accumulated statistics learned from the training dataset (which you don't want)."
   ]
  },
  {
   "cell_type": "code",
   "execution_count": 47,
   "metadata": {
    "id": "RmdVsmvhPxyy"
   },
   "outputs": [],
   "source": [
    "def generate_images(model, input, tar):\n",
    "  prediction = model(input, training=True)\n",
    "  plt.figure(figsize=(10, 10))\n",
    "\n",
    "  # print(\"Input \")\n",
    "  # print(type(cbct_input))\n",
    "  # print(tf.shape(cbct_input))\n",
    "  # print(\"ground truth\")\n",
    "  # print(type(tar))\n",
    "  # print(tf.shape(tar))\n",
    "  display_list = [input[0], tar[0], prediction[0]]\n",
    "  title = ['Input CBCT Image', 'Ground Truth', 'Predicted Image']\n",
    "  \n",
    "  plt.subplot(1, 3, 1)\n",
    "  plt.title('Input Image')\n",
    "  # Getting the pixel values in the [0, 1] range to plot.\n",
    "  \n",
    "  input = tf.squeeze(input,axis=0)\n",
    "  inslice = getinput(input,1)\n",
    "  \n",
    "  plt.imshow(inslice)\n",
    "  plt.axis('off')\n",
    "  plt.subplot(1, 3, 2)\n",
    "  plt.title('Ground Truth')\n",
    "  # Getting the pixel values in the [0, 1] range to plot.\n",
    "  #plt.imshow(tf.squeeze(tar[0],axis=0))\n",
    "  #tar = tf.cast(tar,tf.float32)\n",
    "  plt.imshow(tf.squeeze(tar[0],axis=-1))\n",
    "  plt.axis('off')\n",
    "  plt.subplot(1, 3, 3)\n",
    "  plt.title('Predicted Image')\n",
    "  \n",
    "  tar = tf.squeeze(tar, axis=0)\n",
    "  tar = tf.squeeze(tar, axis=-1)\n",
    "  prediction = tf.squeeze(prediction, axis=0)\n",
    "  prediction = tf.squeeze(prediction, axis=-1)\n",
    "  \n",
    "  predvec = prediction[128,1:256]\n",
    "  rtvec = tar[128,1:256]\n",
    "  \n",
    "  # predvec = prediction[1:256,128]\n",
    "  # rtvec = rtimage[1:256,128]\n",
    "\n",
    "\n",
    "  plt.plot(rtvec,'g')\n",
    "  plt.title(\"Meas RT IMG (Green)\")\n",
    "  plt.plot(predvec,'b')\n",
    "\n",
    "  # Getting the pixel values in the [0, 1] range to plot.\n",
    "  #print(tf.shape(prediction))\n",
    "  #prediction = tf.cast(prediction,tf.float32)\n",
    "  #plt.imshow(tf.squeeze(prediction[0],axis=-1))\n",
    "  #plt.axis('off')\n",
    "  \n",
    "  plt.show()"
   ]
  },
  {
   "cell_type": "markdown",
   "metadata": {
    "id": "gipsSEoZIG1a"
   },
   "source": [
    "Test the function:"
   ]
  },
  {
   "cell_type": "code",
   "execution_count": null,
   "metadata": {
    "colab": {
     "base_uri": "https://localhost:8080/",
     "height": 624
    },
    "id": "8Fc4NzT-DgEx",
    "outputId": "82f03561-c8f7-44ba-b424-b4dd2ef5fd0d"
   },
   "outputs": [],
   "source": [
    "for example in valid_dataset.take(1):\n",
    "  input = example['input']\n",
    "  print(tf.shape(input))\n",
    "  rtimg = example['rtimg']\n",
    "  #rtimg = tf.squeeze(rtimg, axis=0)\n",
    "  generate_images(generator, input, rtimg)"
   ]
  },
  {
   "cell_type": "markdown",
   "metadata": {
    "id": "NLKOG55MErD0"
   },
   "source": [
    "## Training\n",
    "\n",
    "- For each example input generates an output.\n",
    "- The discriminator receives the `input_image` and the generated image as the first input. The second input is the `input_image` and the `target_image`.\n",
    "- Next, calculate the generator and the discriminator loss.\n",
    "- Then, calculate the gradients of loss with respect to both the generator and the discriminator variables(inputs) and apply those to the optimizer.\n",
    "- Finally, log the losses to TensorBoard."
   ]
  },
  {
   "cell_type": "code",
   "execution_count": 48,
   "metadata": {
    "colab": {
     "base_uri": "https://localhost:8080/"
    },
    "id": "xNNMDBNH12q-",
    "outputId": "7f69b1a3-c7eb-48c2-a8b2-4365b1b93143"
   },
   "outputs": [
    {
     "name": "stdout",
     "output_type": "stream",
     "text": [
      "20220303-120053\n"
     ]
    }
   ],
   "source": [
    "log_dir=\"/content/drive/MyDrive/Colab Notebooks/logs/\"\n",
    "if running_local:\n",
    "    log_dir = r'R:\\Bojechko\\TFRecords\\log_dir'\n",
    "print(datetime.datetime.now().strftime(\"%Y%m%d-%H%M%S\"))\n",
    "\n",
    "summary_writer = tf.summary.create_file_writer(\n",
    "  log_dir + \"fit/padding_jpeg\" + datetime.datetime.now().strftime(\"%Y%m%d-%H%M%S\"))"
   ]
  },
  {
   "cell_type": "code",
   "execution_count": 49,
   "metadata": {
    "id": "KBKUV2sKXDbY"
   },
   "outputs": [],
   "source": [
    "@tf.function\n",
    "def train_step(input_image, target, step):\n",
    "  with tf.GradientTape() as gen_tape, tf.GradientTape() as disc_tape:\n",
    "    gen_output = generator(input_image, training=True)\n",
    "\n",
    "    disc_real_output = discriminator(target, training=True)\n",
    "    disc_generated_output = discriminator(gen_output, training=True)\n",
    "\n",
    "    gen_total_loss, gen_gan_loss, gen_l1_loss = generator_loss(disc_generated_output, gen_output, target)\n",
    "    disc_loss = discriminator_loss(disc_real_output, disc_generated_output)\n",
    "\n",
    "  generator_gradients = gen_tape.gradient(gen_total_loss,\n",
    "                                          generator.trainable_variables)\n",
    "  discriminator_gradients = disc_tape.gradient(disc_loss,\n",
    "                                               discriminator.trainable_variables)\n",
    "\n",
    "  generator_optimizer.apply_gradients(zip(generator_gradients,\n",
    "                                          generator.trainable_variables))\n",
    "  discriminator_optimizer.apply_gradients(zip(discriminator_gradients,\n",
    "                                              discriminator.trainable_variables))\n",
    "\n",
    "  with summary_writer.as_default():\n",
    "    tf.summary.scalar('gen_total_loss', gen_total_loss, step=step//500)\n",
    "    tf.summary.scalar('gen_gan_loss', gen_gan_loss, step=step//500)\n",
    "    tf.summary.scalar('gen_l1_loss', gen_l1_loss, step=step//500)\n",
    "    tf.summary.scalar('disc_loss', disc_loss, step=step//500)"
   ]
  },
  {
   "cell_type": "markdown",
   "metadata": {
    "id": "hx7s-vBHFKdh"
   },
   "source": [
    "The actual training loop. Since this tutorial can run of more than one dataset, and the datasets vary greatly in size the training loop is setup to work in steps instead of epochs.\n",
    "\n",
    "- Iterates over the number of steps.\n",
    "- Every 10 steps print a dot (`.`).\n",
    "- Every 1k steps: clear the display and run `generate_images` to show the progress.\n",
    "- Every 5k steps: save a checkpoint."
   ]
  },
  {
   "cell_type": "code",
   "execution_count": 50,
   "metadata": {
    "id": "GFyPlBWv1B5j"
   },
   "outputs": [],
   "source": [
    "def fit(train_ds, test_ds, steps):\n",
    "  example = next(iter(test_ds.take(1)))\n",
    "\n",
    "  ex_input = example['input']\n",
    "  #cbct_input = tf.squeeze(cbct_input,axis=0)\n",
    "  rtimg = example['rtimg']\n",
    "  #rtimg = tf.squeeze(rtimg, axis=0)\n",
    "  for step, (input_obj) in train_ds.repeat().take(steps).enumerate():\n",
    "    if (step) % 1000 == 0:\n",
    "      start = time.time()\n",
    "      display.clear_output(wait=True)\n",
    "\n",
    "      if step != 0:\n",
    "        print(f'Time taken for 1000 steps: {time.time()-start} sec\\n')\n",
    "\n",
    "      generate_images(generator, ex_input, rtimg)\n",
    "      print(f\"Step: {step//1000}k\")\n",
    "\n",
    "    input = input_obj['input']\n",
    "    target = input_obj['rtimg'] \n",
    "    train_step(input, target, step)\n",
    "\n",
    "    # Training step\n",
    "    if (step+1) % 10 == 0:\n",
    "      print('.', end='', flush=True)\n",
    "\n",
    "\n",
    "    # Save (checkpoint) the model every 5k steps\n",
    "    if (step + 1) % 5000 == 0:\n",
    "      checkpoint.save(file_prefix=checkpoint_prefix)"
   ]
  },
  {
   "cell_type": "code",
   "execution_count": 53,
   "metadata": {},
   "outputs": [],
   "source": [
    "def fit_local(train_generator, validation_generator, steps):\n",
    "    validation_iterator = iter(validation_generator.data_set)\n",
    "    train_iterator = iter(train_generator.data_set)\n",
    "    for step in range(len(train_generator)):\n",
    "        if step % 1000 == 0:\n",
    "            x, y = next(validation_iterator)\n",
    "            generate_images(generator, x[0], y[0])\n",
    "        x, y = next(train_iterator)\n",
    "        input_image = x[0]\n",
    "        target_image = y[0]\n",
    "        train_step(input_image, target_image, step)\n",
    "        # Training step\n",
    "        if (step+1) % 10 == 0:\n",
    "            print('.', end='', flush=True)\n",
    "        # Save (checkpoint) the model every 5k steps\n",
    "        if (step + 1) % 5000 == 0:\n",
    "            checkpoint.save(file_prefix=checkpoint_prefix)"
   ]
  },
  {
   "cell_type": "markdown",
   "metadata": {
    "id": "wozqyTh2wmCu"
   },
   "source": [
    "This training loop saves logs that you can view in TensorBoard to monitor the training progress.\n",
    "\n",
    "If you work on a local machine, you would launch a separate TensorBoard process. When working in a notebook, launch the viewer before starting the training to monitor with TensorBoard.\n",
    "\n",
    "To launch the viewer paste the following into a code-cell:"
   ]
  },
  {
   "cell_type": "markdown",
   "metadata": {
    "id": "Pe0-8Bzg22ox"
   },
   "source": [
    "Finally, run the training loop:"
   ]
  },
  {
   "cell_type": "code",
   "execution_count": 51,
   "metadata": {
    "colab": {
     "base_uri": "https://localhost:8080/"
    },
    "id": "p8cubdGG_X_w",
    "outputId": "c92c4e63-87bb-4de0-e5fd-624f3133e562"
   },
   "outputs": [
    {
     "data": {
      "text/plain": [
       "<tensorflow.python.training.tracking.util.InitializationOnlyStatus at 0x2202f6dc370>"
      ]
     },
     "execution_count": 51,
     "metadata": {},
     "output_type": "execute_result"
    }
   ],
   "source": [
    "checkpoint.restore(tf.train.latest_checkpoint(checkpoint_dir))"
   ]
  },
  {
   "cell_type": "code",
   "execution_count": null,
   "metadata": {
    "colab": {
     "base_uri": "https://localhost:8080/",
     "height": 676
    },
    "id": "a1zZmKmvOH85",
    "outputId": "01e75e08-3435-416f-fd83-6f1b01f2469d"
   },
   "outputs": [
    {
     "data": {
      "image/png": "[encoded data removed]",
      "text/plain": [
       "<Figure size 720x720 with 3 Axes>"
      ]
     },
     "metadata": {
      "needs_background": "light"
     },
     "output_type": "display_data"
    },
    {
     "name": "stdout",
     "output_type": "stream",
     "text": [
      "WARNING:tensorflow:5 out of the last 5 calls to <function train_step at 0x000002202F6CADC0> triggered tf.function retracing. Tracing is expensive and the excessive number of tracings could be due to (1) creating @tf.function repeatedly in a loop, (2) passing tensors with different shapes, (3) passing Python objects instead of tensors. For (1), please define your @tf.function outside of the loop. For (2), @tf.function has experimental_relax_shapes=True option that relaxes argument shapes that can avoid unnecessary retracing. For (3), please refer to https://www.tensorflow.org/guide/function#controlling_retracing and https://www.tensorflow.org/api_docs/python/tf/function for  more details.\n",
      "WARNING:tensorflow:6 out of the last 6 calls to <function train_step at 0x000002202F6CADC0> triggered tf.function retracing. Tracing is expensive and the excessive number of tracings could be due to (1) creating @tf.function repeatedly in a loop, (2) passing tensors with different shapes, (3) passing Python objects instead of tensors. For (1), please define your @tf.function outside of the loop. For (2), @tf.function has experimental_relax_shapes=True option that relaxes argument shapes that can avoid unnecessary retracing. For (3), please refer to https://www.tensorflow.org/guide/function#controlling_retracing and https://www.tensorflow.org/api_docs/python/tf/function for  more details.\n",
      "................"
     ]
    }
   ],
   "source": [
    "if running_local:\n",
    "    fit_local(train_generator, validation_generator, steps=40000)\n",
    "else:\n",
    "    fit(train_dataset, valid_dataset, steps=40000)"
   ]
  },
  {
   "cell_type": "code",
   "execution_count": null,
   "metadata": {
    "colab": {
     "base_uri": "https://localhost:8080/",
     "height": 839
    },
    "id": "Ot22ujrlLhOd",
    "outputId": "87a3b708-1a29-4299-cef2-9dc1fae4b092"
   },
   "outputs": [],
   "source": [
    "#docs_infra: no_execute'\n",
    "%reload_ext tensorboard\n",
    "%tensorboard --logdir /content/notebooks/logs/fit/"
   ]
  },
  {
   "cell_type": "markdown",
   "metadata": {
    "id": "oeq9sByu86-B"
   },
   "source": [
    "If you want to share the TensorBoard results _publicly_, you can upload the logs to [TensorBoard.dev](https://tensorboard.dev/) by copying the following into a code-cell.\n",
    "\n",
    "Note: This requires a Google account.\n",
    "\n",
    "```\n",
    "!tensorboard dev upload --logdir {log_dir}\n",
    "```"
   ]
  },
  {
   "cell_type": "markdown",
   "metadata": {
    "id": "l-kT7WHRKz-E"
   },
   "source": [
    "Caution: This command does not terminate. It's designed to continuously upload the results of long-running experiments. Once your data is uploaded you need to stop it using the \"interrupt execution\" option in your notebook tool."
   ]
  },
  {
   "cell_type": "markdown",
   "metadata": {
    "id": "-lGhS_LfwQoL"
   },
   "source": [
    "You can view the [results of a previous run](https://tensorboard.dev/experiment/lZ0C6FONROaUMfjYkVyJqw) of this notebook on [TensorBoard.dev](https://tensorboard.dev/).\n",
    "\n",
    "TensorBoard.dev is a managed experience for hosting, tracking, and sharing ML experiments with everyone.\n",
    "\n",
    "It can also included inline using an `<iframe>`:"
   ]
  },
  {
   "cell_type": "code",
   "execution_count": null,
   "metadata": {
    "id": "8IS4c93guQ8E"
   },
   "outputs": [],
   "source": [
    "# display.IFrame(\n",
    "#     src=\"https://tensorboard.dev/experiment/lZ0C6FONROaUMfjYkVyJqw\",\n",
    "#     width=\"100%\",\n",
    "#     height=\"1000px\")"
   ]
  },
  {
   "cell_type": "markdown",
   "metadata": {
    "id": "DMTm4peo3cem"
   },
   "source": [
    "Interpreting the logs is more subtle when training a GAN (or a cGAN like pix2pix) compared to a simple classification or regression model. Things to look for:\n",
    "\n",
    "- Check that neither the generator nor the discriminator model has \"won\". If either the `gen_gan_loss` or the `disc_loss` gets very low, it's an indicator that this model is dominating the other, and you are not successfully training the combined model.\n",
    "- The value `log(2) = 0.69` is a good reference point for these losses, as it indicates a perplexity of 2 - the discriminator is, on average, equally uncertain about the two options.\n",
    "- For the `disc_loss`, a value below `0.69` means the discriminator is doing better than random on the combined set of real and generated images.\n",
    "- For the `gen_gan_loss`, a value below `0.69` means the generator is doing better than random at fooling the discriminator.\n",
    "- As training progresses, the `gen_l1_loss` should go down."
   ]
  },
  {
   "cell_type": "markdown",
   "metadata": {
    "id": "kz80bY3aQ1VZ"
   },
   "source": [
    "## Restore the latest checkpoint and test the network"
   ]
  },
  {
   "cell_type": "code",
   "execution_count": null,
   "metadata": {
    "id": "HSSm4kfvJiqv"
   },
   "outputs": [],
   "source": [
    "#os.listdir(checkpoint_dir)\n",
    "#os.listdir(log_dir + '/fit')"
   ]
  },
  {
   "cell_type": "code",
   "execution_count": null,
   "metadata": {
    "colab": {
     "base_uri": "https://localhost:8080/"
    },
    "id": "4t4x69adQ5xb",
    "outputId": "6f38e2c7-e80b-4a79-84ce-4b07dfa908d9"
   },
   "outputs": [],
   "source": [
    "#Restoring the latest checkpoint in checkpoint_dir\n",
    "checkpoint.restore(tf.train.latest_checkpoint(checkpoint_dir))"
   ]
  },
  {
   "cell_type": "markdown",
   "metadata": {
    "id": "1RGysMU_BZhx"
   },
   "source": [
    "## Generate some images using the test set"
   ]
  },
  {
   "cell_type": "code",
   "execution_count": null,
   "metadata": {
    "colab": {
     "base_uri": "https://localhost:8080/"
    },
    "id": "g6yulOFllIh2",
    "outputId": "53eb6df8-49bc-48a4-da07-297e7c0ef352"
   },
   "outputs": [],
   "source": [
    "generator.save('/content/drive/MyDrive/Colab Notebooks/3chan_lrgken_L1')"
   ]
  },
  {
   "cell_type": "code",
   "execution_count": null,
   "metadata": {
    "id": "Wtd3ZA-eI_ap"
   },
   "outputs": [],
   "source": [
    "gamma_options = {\n",
    "    'dose_percent_threshold': 3,  # Try with 2%/2mm \n",
    "    'distance_mm_threshold': 3,\n",
    "    'lower_percent_dose_cutoff': 10,\n",
    "    'interp_fraction': 20,  # Should be 10 or more, see the paper referenced above\n",
    "    'max_gamma': 2,\n",
    "    'random_subset': None,  # Can be used to get quick pass rates\n",
    "    'local_gamma': False,  # Change to false for global gamma\n",
    "    'ram_available': 2**29  # 1/2 GB\n",
    "}"
   ]
  },
  {
   "cell_type": "code",
   "execution_count": null,
   "metadata": {
    "id": "pcxutIrdJF7U"
   },
   "outputs": [],
   "source": [
    "xepidmin = -215\n",
    "xepidmax = 215\n",
    "yepidmin = -215\n",
    "yepidmax = 215\n",
    "grid = 1.6797\n",
    "xepid = np.arange(xepidmin,xepidmax,grid)\n",
    "yepid = np.arange(yepidmin,yepidmax,grid)\n",
    "coords = (yepid,xepid)"
   ]
  },
  {
   "cell_type": "code",
   "execution_count": null,
   "metadata": {
    "id": "WTyCBjAV1vJZ"
   },
   "outputs": [],
   "source": [
    "testfiles = tf.io.gfile.glob('/content/drive/My Drive/train/nifti/fold4/12_4_35.*')\n",
    "valid_data = load_data(testfiles, tf.estimator.ModeKeys.TRAIN, '/content/drive/My Drive/train/nifti/fold1')\n",
    "\n",
    "valid_dataset = tf.data.Dataset.from_tensor_slices((valid_data))\n",
    "valid_dataset = valid_dataset.batch(BATCH_SIZE)"
   ]
  },
  {
   "cell_type": "code",
   "execution_count": null,
   "metadata": {
    "colab": {
     "base_uri": "https://localhost:8080/",
     "height": 769
    },
    "id": "TPwaQHAcHiLr",
    "outputId": "12e3ff5d-7fdb-4d6f-8712-c455807c00e5"
   },
   "outputs": [],
   "source": [
    "example = next(iter(valid_dataset))\n",
    "input = example['input']\n",
    "#print(tf.shape(cbct_input))\n",
    "tar = example['rtimg']\n",
    "prediction = generator(input, training=True) \n",
    "\n",
    "diff = tf.subtract(tar,prediction)\n",
    "diff = tf.squeeze(diff, axis=0)\n",
    "diffvec = diff[120,1:256]\n",
    "tar = tf.squeeze(tar, axis=0)\n",
    "tar = tf.squeeze(tar, axis=-1)\n",
    "rtimage = tar+1\n",
    "\n",
    "prediction = tf.squeeze(prediction, axis=0)\n",
    "prediction = tf.squeeze(prediction, axis=-1)\n",
    "prediction = prediction +1\n",
    " \n",
    "plt.figure(figsize=(10, 10))\n",
    "  \n",
    "plt.subplot(2, 2, 1)\n",
    "plt.imshow(rtimage)\n",
    "plt.subplot(2, 2, 2)\n",
    "plt.imshow(prediction)\n",
    "  \n",
    "predvec = prediction[128,1:256]\n",
    "rtvec = rtimage[128,1:256]\n",
    "  \n",
    "#predvec = prediction[1:256,128]\n",
    "#rtvec = rtimage[1:256,128]\n",
    "\n",
    "plt.subplot(2, 2, 3)\n",
    "plt.plot(rtvec,'g')\n",
    "plt.title(\"Meas RT IMG (Green)\")\n",
    "plt.plot(predvec,'b')\n",
    "print(str(example[\"fname\"]))\n",
    "\n",
    "gamma_test = pymedphys.gamma(coords,rtimage, coords, prediction, **gamma_options)\n",
    "valid_gamma = gamma_test[~np.isnan(gamma_test)]\n",
    "\n",
    "num_bins = (\n",
    "    gamma_options['interp_fraction'] * gamma_options['max_gamma'])\n",
    "bins = np.linspace(0, gamma_options['max_gamma'], num_bins + 1)\n",
    "\n",
    "#gamma_no_noise = pymedphys.gamma(coords, rtimage, coords, prediction,**gamma_options)\n",
    "plt.subplot(2, 2, 4)\n",
    "\n",
    "plt.imshow( gamma_test, clim=(0, 2), cmap='coolwarm')\n",
    "\n",
    "# plt.hist(valid_gamma, bins, density=True)\n",
    "# plt.xlim([0, gamma_options['max_gamma']])\n",
    "pass_ratio = np.sum(valid_gamma <= 1) / len(valid_gamma)\n",
    "plt.title(f\"Local Gamma ({gamma_options['dose_percent_threshold']}%/{gamma_options['distance_mm_threshold']}mm) | Percent Pass: {pass_ratio*100:.2f} %\")"
   ]
  },
  {
   "cell_type": "code",
   "execution_count": null,
   "metadata": {
    "colab": {
     "base_uri": "https://localhost:8080/",
     "height": 286
    },
    "id": "ck1o0QAY71Zv",
    "outputId": "02c52bf2-d50c-4f67-8a1e-8d2ded30c391"
   },
   "outputs": [],
   "source": [
    "plt.imshow(gamma_test)"
   ]
  },
  {
   "cell_type": "code",
   "execution_count": null,
   "metadata": {
    "colab": {
     "base_uri": "https://localhost:8080/",
     "height": 682
    },
    "id": "ELlbbPKP0oQA",
    "outputId": "e9edc336-6930-4850-9d19-92a89c92d312"
   },
   "outputs": [],
   "source": [
    "all_ratios = np.zeros(len(list(valid_dataset)))\n",
    "i = 0\n",
    "for example in valid_dataset:\n",
    "  tinp = example['input']\n",
    "  ttar = example['rtimg']\n",
    "  prediction = generator(tinp, training=True)\n",
    "  ttar = tf.squeeze(ttar, axis=0)\n",
    "  ttar = tf.squeeze(ttar, axis=-1)\n",
    "  rtimage = ttar+1\n",
    "\n",
    "  prediction = tf.squeeze(prediction, axis=0)\n",
    "  prediction = tf.squeeze(prediction, axis=-1)\n",
    "  prediction = prediction +1\n",
    "  gamma_test = pymedphys.gamma(coords,rtimage, coords, prediction, **gamma_options,quiet=True)\n",
    "  valid_gamma = gamma_test[~np.isnan(gamma_test)]\n",
    "  pass_ratio = np.sum(valid_gamma <= 1) / len(valid_gamma)\n",
    "  tf.print(example[\"fname\"])\n",
    "  print(pass_ratio)\n",
    "  all_ratios[i] = pass_ratio\n",
    "  i = i+1\n",
    "\n",
    "print(\"mean \" + str(np.mean(all_ratios)))\n",
    "print(\"STD \" + str(np.std(all_ratios)))\n",
    "print(\"max \" + str(np.max(all_ratios)))\n",
    "print(\"min \" + str(np.min(all_ratios)))\n",
    "plt.hist(all_ratios)"
   ]
  }
 ],
 "metadata": {
  "accelerator": "GPU",
  "colab": {
   "collapsed_sections": [],
   "name": "3chan nifti GAN.ipynb",
   "provenance": []
  },
  "kernelspec": {
   "display_name": "ITK Environment",
   "language": "python",
   "name": "itkenv"
  },
  "language_info": {
   "codemirror_mode": {
    "name": "ipython",
    "version": 3
   },
   "file_extension": ".py",
   "mimetype": "text/x-python",
   "name": "python",
   "nbconvert_exporter": "python",
   "pygments_lexer": "ipython3",
   "version": "3.8.10"
  }
 },
 "nbformat": 4,
 "nbformat_minor": 1
}
