{
  "cells": [
    {
      "cell_type": "markdown",
      "metadata": {
        "id": "view-in-github",
        "colab_type": "text"
      },
      "source": [
        "<a href=\"https://colab.research.google.com/github/brianmanderson/Image_Prediction/blob/main/Simple_Model_GEN.ipynb\" target=\"_parent\"><img src=\"https://colab.research.google.com/assets/colab-badge.svg\" alt=\"Open In Colab\"/></a>"
      ]
    },
    {
      "cell_type": "markdown",
      "metadata": {
        "id": "v1CUZ0dkOo_F"
      },
      "source": [
        "##### Copyright 2019 The TensorFlow Authors.\n",
        "\n",
        "Licensed under the Apache License, Version 2.0 (the \"License\");"
      ]
    },
    {
      "cell_type": "code",
      "execution_count": null,
      "metadata": {
        "cellView": "form",
        "id": "qmkj-80IHxnd"
      },
      "outputs": [],
      "source": [
        "#@title Licensed under the Apache License, Version 2.0 (the \"License\");\n",
        "# you may not use this file except in compliance with the License.\n",
        "# You may obtain a copy of the License at\n",
        "#\n",
        "# https://www.apache.org/licenses/LICENSE-2.0\n",
        "#\n",
        "# Unless required by applicable law or agreed to in writing, software\n",
        "# distributed under the License is distributed on an \"AS IS\" BASIS,\n",
        "# WITHOUT WARRANTIES OR CONDITIONS OF ANY KIND, either express or implied.\n",
        "# See the License for the specific language governing permissions and\n",
        "# limitations under the License."
      ]
    },
    {
      "cell_type": "markdown",
      "metadata": {
        "id": "_xnMOsbqHz61"
      },
      "source": [
        "# pix2pix: Image-to-image translation with a conditional GAN"
      ]
    },
    {
      "cell_type": "markdown",
      "metadata": {
        "id": "Ds4o1h4WHz9U"
      },
      "source": [
        "<table class=\"tfo-notebook-buttons\" align=\"left\">\n",
        "  <td>\n",
        "    <a target=\"_blank\" href=\"https://www.tensorflow.org/tutorials/generative/pix2pix\"><img src=\"https://www.tensorflow.org/images/tf_logo_32px.png\" />View on TensorFlow.org</a>\n",
        "  </td>\n",
        "  <td>\n",
        "    <a target=\"_blank\" href=\"https://colab.research.google.com/github/tensorflow/docs/blob/master/site/en/tutorials/generative/pix2pix.ipynb\"><img src=\"https://www.tensorflow.org/images/colab_logo_32px.png\" />Run in Google Colab</a>\n",
        "  </td>\n",
        "  <td>\n",
        "    <a target=\"_blank\" href=\"https://github.com/tensorflow/docs/blob/master/site/en/tutorials/generative/pix2pix.ipynb\"><img src=\"https://www.tensorflow.org/images/GitHub-Mark-32px.png\" />View source on GitHub</a>\n",
        "  </td>\n",
        "  <td>\n",
        "    <a href=\"https://storage.googleapis.com/tensorflow_docs/docs/site/en/tutorials/generative/pix2pix.ipynb\"><img src=\"https://www.tensorflow.org/images/download_logo_32px.png\" />Download notebook</a>\n",
        "  </td>\n",
        "</table>"
      ]
    },
    {
      "cell_type": "markdown",
      "metadata": {
        "id": "ITZuApL56Mny"
      },
      "source": [
        "This Google Colab Notebook heavily buroows from the pix2pix example. \n",
        "How to build and train a conditional generative adversarial network (cGAN) called pix2pix that learns a mapping from input images to output images, as described in [Image-to-image translation with conditional adversarial networks](https://arxiv.org/abs/1611.07004) by Isola et al. (2017). pix2pix is not application specific—it can be applied to a wide range of tasks, including synthesizing photos from label maps, generating colorized photos from black and white images, turning Google Maps photos into aerial images, and even transforming sketches into photos.\n",
        "\n",
        "In the pix2pix cGAN, you condition on input images and generate corresponding output images. cGANs were first proposed in [Conditional Generative Adversarial Nets](https://arxiv.org/abs/1411.1784) (Mirza and Osindero, 2014)\n",
        "\n",
        "The architecture of your network will contain:\n",
        "\n",
        "- A generator with a [U-Net]([U-Net](https://arxiv.org/abs/1505.04597))-based architecture.\n",
        "- A discriminator represented by a convolutional PatchGAN classifier (proposed in the [pix2pix paper](https://arxiv.org/abs/1611.07004)).\n",
        "\n",
        "Note that each epoch can take around 15 seconds on a single V100 GPU.\n",
        "\n"
      ]
    },
    {
      "cell_type": "markdown",
      "metadata": {
        "id": "e1_Y75QXJS6h"
      },
      "source": [
        "## Import TensorFlow and other libraries"
      ]
    },
    {
      "cell_type": "code",
      "execution_count": 1,
      "metadata": {
        "id": "YfIk2es3hJEd"
      },
      "outputs": [],
      "source": [
        "import tensorflow as tf\n",
        "\n",
        "import os\n",
        "import sys \n",
        "import pathlib\n",
        "import time\n",
        "import datetime\n",
        "import numpy as np\n",
        "from matplotlib import pyplot as plt\n",
        "from IPython import display\n",
        "import tensorflow.experimental.numpy as tnp"
      ]
    },
    {
      "cell_type": "code",
      "execution_count": 2,
      "metadata": {
        "colab": {
          "base_uri": "https://localhost:8080/"
        },
        "id": "iPVGz0KIdvia",
        "outputId": "99c93b7a-24c6-4565-e2bc-0c104aa0afec"
      },
      "outputs": [
        {
          "output_type": "stream",
          "name": "stdout",
          "text": [
            "Drive already mounted at /content/drive; to attempt to forcibly remount, call drive.mount(\"/content/drive\", force_remount=True).\n",
            "Running locally\n"
          ]
        }
      ],
      "source": [
        "running_local = False\n",
        "try:\n",
        "    from google.colab import drive\n",
        "    drive.mount('/content/drive')\n",
        "    nb_path = '/content/notebooks'\n",
        "    os.symlink('/content/drive/MyDrive/Colab Notebooks', nb_path)\n",
        "    sys.path.insert(0, nb_path)  # or append(nb_path)\n",
        "except:\n",
        "    running_local = True\n",
        "    print(\"Running locally\")"
      ]
    },
    {
      "cell_type": "code",
      "execution_count": 3,
      "metadata": {
        "colab": {
          "base_uri": "https://localhost:8080/"
        },
        "id": "77lNAmzkYVXB",
        "outputId": "a2dd825d-e977-446c-a79b-121f59429923"
      },
      "outputs": [
        {
          "output_type": "execute_result",
          "data": {
            "text/plain": [
              "['jpeg',\n",
              " 'tfrecords_removeone',\n",
              " 'tfrecords_one',\n",
              " 'phantom_train',\n",
              " 'phantom_valid',\n",
              " 'old',\n",
              " 'fold1',\n",
              " 'fold2',\n",
              " 'fold3',\n",
              " 'fold4',\n",
              " 'fold5']"
            ]
          },
          "metadata": {},
          "execution_count": 3
        }
      ],
      "source": [
        "os.listdir('/content/drive/My Drive/data')"
      ]
    },
    {
      "cell_type": "markdown",
      "metadata": {
        "id": "R4Ya7PQy4NBD"
      },
      "source": [
        "Line to install pymedphys which has a gamma function. Libaray was saved to Google drive and is commented out."
      ]
    },
    {
      "cell_type": "code",
      "execution_count": null,
      "metadata": {
        "id": "1oOw8vQJUyg-"
      },
      "outputs": [],
      "source": [
        "#!pip install --target=$nb_path pymedphys"
      ]
    },
    {
      "cell_type": "code",
      "execution_count": 4,
      "metadata": {
        "colab": {
          "base_uri": "https://localhost:8080/"
        },
        "id": "wzufEZu702tH",
        "outputId": "9c9aa8a3-9f76-43fc-bd27-7e6964539821"
      },
      "outputs": [
        {
          "output_type": "stream",
          "name": "stdout",
          "text": [
            "Requirement already satisfied: SimpleITK in /usr/local/lib/python3.7/dist-packages (2.1.1)\n",
            "Requirement already satisfied: pymedphys in /usr/local/lib/python3.7/dist-packages (0.38.0)\n",
            "Requirement already satisfied: typing-extensions in /usr/local/lib/python3.7/dist-packages (from pymedphys) (3.10.0.2)\n",
            "Requirement already satisfied: ipython>=7.31.1 in /usr/local/lib/python3.7/dist-packages (from pymedphys) (7.32.0)\n",
            "Requirement already satisfied: pickleshare in /usr/local/lib/python3.7/dist-packages (from ipython>=7.31.1->pymedphys) (0.7.5)\n",
            "Requirement already satisfied: setuptools>=18.5 in /usr/local/lib/python3.7/dist-packages (from ipython>=7.31.1->pymedphys) (57.4.0)\n",
            "Requirement already satisfied: traitlets>=4.2 in /usr/local/lib/python3.7/dist-packages (from ipython>=7.31.1->pymedphys) (5.1.1)\n",
            "Requirement already satisfied: decorator in /usr/local/lib/python3.7/dist-packages (from ipython>=7.31.1->pymedphys) (4.4.2)\n",
            "Requirement already satisfied: matplotlib-inline in /usr/local/lib/python3.7/dist-packages (from ipython>=7.31.1->pymedphys) (0.1.3)\n",
            "Requirement already satisfied: pygments in /usr/local/lib/python3.7/dist-packages (from ipython>=7.31.1->pymedphys) (2.6.1)\n",
            "Requirement already satisfied: prompt-toolkit!=3.0.0,!=3.0.1,<3.1.0,>=2.0.0 in /usr/local/lib/python3.7/dist-packages (from ipython>=7.31.1->pymedphys) (3.0.28)\n",
            "Requirement already satisfied: backcall in /usr/local/lib/python3.7/dist-packages (from ipython>=7.31.1->pymedphys) (0.2.0)\n",
            "Requirement already satisfied: pexpect>4.3 in /usr/local/lib/python3.7/dist-packages (from ipython>=7.31.1->pymedphys) (4.8.0)\n",
            "Requirement already satisfied: jedi>=0.16 in /usr/local/lib/python3.7/dist-packages (from ipython>=7.31.1->pymedphys) (0.18.1)\n",
            "Requirement already satisfied: parso<0.9.0,>=0.8.0 in /usr/local/lib/python3.7/dist-packages (from jedi>=0.16->ipython>=7.31.1->pymedphys) (0.8.3)\n",
            "Requirement already satisfied: ptyprocess>=0.5 in /usr/local/lib/python3.7/dist-packages (from pexpect>4.3->ipython>=7.31.1->pymedphys) (0.7.0)\n",
            "Requirement already satisfied: wcwidth in /usr/local/lib/python3.7/dist-packages (from prompt-toolkit!=3.0.0,!=3.0.1,<3.1.0,>=2.0.0->ipython>=7.31.1->pymedphys) (0.2.5)\n",
            "Requirement already satisfied: PlotScrollNumpyArrays in /usr/local/lib/python3.7/dist-packages (0.0.1)\n",
            "Requirement already satisfied: matplotlib in /usr/local/lib/python3.7/dist-packages (from PlotScrollNumpyArrays) (3.2.2)\n",
            "Requirement already satisfied: numpy in /usr/local/lib/python3.7/dist-packages (from PlotScrollNumpyArrays) (1.21.5)\n",
            "Requirement already satisfied: SimpleITK in /usr/local/lib/python3.7/dist-packages (from PlotScrollNumpyArrays) (2.1.1)\n",
            "Requirement already satisfied: cycler>=0.10 in /usr/local/lib/python3.7/dist-packages (from matplotlib->PlotScrollNumpyArrays) (0.11.0)\n",
            "Requirement already satisfied: kiwisolver>=1.0.1 in /usr/local/lib/python3.7/dist-packages (from matplotlib->PlotScrollNumpyArrays) (1.4.0)\n",
            "Requirement already satisfied: pyparsing!=2.0.4,!=2.1.2,!=2.1.6,>=2.0.1 in /usr/local/lib/python3.7/dist-packages (from matplotlib->PlotScrollNumpyArrays) (3.0.7)\n",
            "Requirement already satisfied: python-dateutil>=2.1 in /usr/local/lib/python3.7/dist-packages (from matplotlib->PlotScrollNumpyArrays) (2.8.2)\n",
            "Requirement already satisfied: typing-extensions in /usr/local/lib/python3.7/dist-packages (from kiwisolver>=1.0.1->matplotlib->PlotScrollNumpyArrays) (3.10.0.2)\n",
            "Requirement already satisfied: six>=1.5 in /usr/local/lib/python3.7/dist-packages (from python-dateutil>=2.1->matplotlib->PlotScrollNumpyArrays) (1.15.0)\n"
          ]
        }
      ],
      "source": [
        "!pip install SimpleITK\n",
        "!pip install pymedphys\n",
        "!pip install PlotScrollNumpyArrays"
      ]
    },
    {
      "cell_type": "code",
      "execution_count": 5,
      "metadata": {
        "id": "XkwdsvfzU35d"
      },
      "outputs": [],
      "source": [
        "import SimpleITK as sitk\n",
        "import pymedphys"
      ]
    },
    {
      "cell_type": "code",
      "execution_count": 6,
      "metadata": {
        "colab": {
          "base_uri": "https://localhost:8080/"
        },
        "id": "dED2fmqDhBq4",
        "outputId": "590608b4-861e-4a9b-96ec-39b532897d69"
      },
      "outputs": [
        {
          "output_type": "stream",
          "name": "stdout",
          "text": [
            "fatal: destination path 'Data_Generators' already exists and is not an empty directory.\n"
          ]
        }
      ],
      "source": [
        "!git clone --recurse-submodules -j8 https://github.com/brianmanderson/Data_Generators"
      ]
    },
    {
      "cell_type": "code",
      "execution_count": 7,
      "metadata": {
        "id": "5bUN7lljikZn"
      },
      "outputs": [],
      "source": [
        "from Data_Generators.TFRecord_to_Dataset_Generator import DataGeneratorClass\n",
        "from Data_Generators.Image_Processors_Module.src.Processors import TFDataSetProcessors as Processors"
      ]
    },
    {
      "cell_type": "markdown",
      "metadata": {
        "id": "M030OkcHlhr3"
      },
      "source": [
        "Pull a sample image.   There are 4 images in 1 that need to be reformatted. From left to right, ray trace projection of CBCT. Fluence Map, PDOS and RTImage"
      ]
    },
    {
      "cell_type": "code",
      "execution_count": 8,
      "metadata": {
        "id": "uk0-_5m-iyzG"
      },
      "outputs": [],
      "source": [
        "def return_generator(records_paths):\n",
        "    generator = DataGeneratorClass(record_paths=records_paths)\n",
        "    all_keys = ('pdos_array', 'drr_array', 'half_drr_array', 'fluence_array')\n",
        "    base_processors = [\n",
        "        Processors.Squeeze(image_keys=all_keys),\n",
        "        Processors.ExpandDimension(axis=-1, image_keys=('pdos_array', 'drr_array', 'half_drr_array', 'fluence_array')),\n",
        "        Processors.Resize_with_crop_pad(keys=all_keys, image_rows=[256 for _ in range(len(all_keys))],\n",
        "                                        image_cols=[256 for _ in range(len(all_keys))],\n",
        "                                        is_mask=[False for _ in range(len(all_keys))]),\n",
        "        Processors.Add_Constant(keys=all_keys,\n",
        "                                values=(0, 0, 0, 0)),\n",
        "        Processors.MultiplyImagesByConstant(keys=all_keys, values=(1/255, 1/255, 1/255, 1/255)),\n",
        "        Processors.CombineKeys(axis=-1, image_keys=('pdos_array', 'drr_array', 'half_drr_array'),\n",
        "                               output_key='combined'),\n",
        "        Processors.ReturnOutputs(input_keys=('combined',), output_keys=('fluence_array',)),\n",
        "        {'shuffle': len(generator) // 3}, {'batch': 1}, {'repeat'}\n",
        "        ]\n",
        "    generator.compile_data_set(image_processors=base_processors, debug=False)\n",
        "    return generator"
      ]
    },
    {
      "cell_type": "code",
      "execution_count": null,
      "metadata": {
        "id": "AMGt_tbFC7iB"
      },
      "outputs": [],
      "source": [
        "# data_generators = {}\n",
        "\n",
        "# data_generators[1] = return_generator('/content/drive/My Drive/data/tfrecords_removeone')\n",
        "# data_generators[2] = return_generator('/content/drive/My Drive/data/tfrecords_one')"
      ]
    },
    {
      "cell_type": "code",
      "execution_count": null,
      "metadata": {
        "id": "sXKiRA4R09kn"
      },
      "outputs": [],
      "source": [
        "# data_generators = {}\n",
        "# for i in range(1,6):\n",
        "#   data_generators[i] = return_generator('/content/drive/My Drive/data/fold{}'.format(i))"
      ]
    },
    {
      "cell_type": "code",
      "execution_count": 9,
      "metadata": {
        "id": "r6Mck58p1BCH"
      },
      "outputs": [],
      "source": [
        "# The batch size of 1 produced better results for the U-Net in the original pix2pix experiment\n",
        "BATCH_SIZE = 1\n",
        "# Each image is 256x256 in size\n",
        "IMG_WIDTH = 256\n",
        "IMG_HEIGHT = 256"
      ]
    },
    {
      "cell_type": "code",
      "execution_count": 10,
      "metadata": {
        "id": "76XIMWFXB-kG"
      },
      "outputs": [],
      "source": [
        "def load_data_from_generator(generator):\n",
        "  data = {'input' : [], 'rtimg' : []}\n",
        "  iterator = iter(generator.data_set)\n",
        "  for _ in range(len(generator)):\n",
        "    x, y = next(iterator)\n",
        "    data['input'].append(x[0][0])\n",
        "    data['rtimg'].append(y[0][0])\n",
        "  return data"
      ]
    },
    {
      "cell_type": "markdown",
      "metadata": {
        "id": "wm-XakBDCzRV"
      },
      "source": [
        "# Return a train and validation dataset based on which fold you want to exclude"
      ]
    },
    {
      "cell_type": "code",
      "execution_count": 11,
      "metadata": {
        "id": "Xf7LwHh7A3Ct"
      },
      "outputs": [],
      "source": [
        "def return_datasets(data_generators):\n",
        "  all_datasets = {}\n",
        "  for i in data_generators.keys():\n",
        "    generator = data_generators[i]\n",
        "    all_datasets[i] = tf.data.Dataset.from_tensor_slices((load_data_from_generator(generator)))\n",
        "  return all_datasets\n",
        "\n",
        "def return_fold_datasets(data_generators, batch_size=1):\n",
        "  all_datasets = return_datasets(data_generators)\n",
        "\n",
        "  train_dataset = all_datasets['train']\n",
        "  train_dataset.shuffle(len(train_dataset))\n",
        "  train_dataset = train_dataset.batch(batch_size)\n",
        "  \n",
        "  valid_dataset = all_datasets['validation']\n",
        "  valid_dataset = valid_dataset.shuffle(len(valid_dataset))\n",
        "  valid_dataset = valid_dataset.batch(batch_size)\n",
        "  return train_dataset, valid_dataset"
      ]
    },
    {
      "cell_type": "code",
      "source": [
        "def return_generators(excluded_fold=2):\n",
        "  data_generators = {}\n",
        "  train_folder_names = []\n",
        "  val_folder_names = []\n",
        "  for i in range(1,6):\n",
        "    folder_name = '/content/drive/My Drive/data/fold{}'.format(i)\n",
        "    if i != excluded_fold:\n",
        "      train_folder_names.append(folder_name)\n",
        "    else:\n",
        "      val_folder_names.append(folder_name)\n",
        "  data_generators['train'] = return_generator(records_paths=train_folder_names)\n",
        "  data_generators['validation'] = return_generator(records_paths=val_folder_names)\n",
        "  return data_generators"
      ],
      "metadata": {
        "id": "Oap05O_G0Z8K"
      },
      "execution_count": 12,
      "outputs": []
    },
    {
      "cell_type": "code",
      "source": [
        "data_generators = return_generators(excluded_fold=1)\n",
        "train_dataset, valid_dataset = return_fold_datasets(data_generators, batch_size=BATCH_SIZE)"
      ],
      "metadata": {
        "colab": {
          "base_uri": "https://localhost:8080/"
        },
        "id": "1q30IGrj0eE6",
        "outputId": "c10e4444-9138-4ee0-a916-ca3a41d01011"
      },
      "execution_count": 13,
      "outputs": [
        {
          "output_type": "stream",
          "name": "stdout",
          "text": [
            "Be careful..Resize with crop/pad can severely slow down data retrieval, best to do this and cache\n",
            "<Data_Generators.Image_Processors_Module.src.Processors.TFDataSetProcessors.Squeeze object at 0x7fed90340250>\n",
            "<Data_Generators.Image_Processors_Module.src.Processors.TFDataSetProcessors.ExpandDimension object at 0x7fece6beaa90>\n",
            "<Data_Generators.Image_Processors_Module.src.Processors.TFDataSetProcessors.Resize_with_crop_pad object at 0x7fece6bb49d0>\n",
            "<Data_Generators.Image_Processors_Module.src.Processors.TFDataSetProcessors.Add_Constant object at 0x7fed90340290>\n",
            "<Data_Generators.Image_Processors_Module.src.Processors.TFDataSetProcessors.MultiplyImagesByConstant object at 0x7fece66c3090>\n",
            "<Data_Generators.Image_Processors_Module.src.Processors.TFDataSetProcessors.CombineKeys object at 0x7fece6b16210>\n",
            "<Data_Generators.Image_Processors_Module.src.Processors.TFDataSetProcessors.ReturnOutputs object at 0x7fece694a0d0>\n",
            "{'shuffle': 179}\n",
            "{'batch': 1}\n",
            "{'repeat'}\n",
            "Be careful..Resize with crop/pad can severely slow down data retrieval, best to do this and cache\n",
            "<Data_Generators.Image_Processors_Module.src.Processors.TFDataSetProcessors.Squeeze object at 0x7fece6539ed0>\n",
            "<Data_Generators.Image_Processors_Module.src.Processors.TFDataSetProcessors.ExpandDimension object at 0x7fece64efed0>\n",
            "<Data_Generators.Image_Processors_Module.src.Processors.TFDataSetProcessors.Resize_with_crop_pad object at 0x7fecef23e590>\n",
            "<Data_Generators.Image_Processors_Module.src.Processors.TFDataSetProcessors.Add_Constant object at 0x7fece64cb390>\n",
            "<Data_Generators.Image_Processors_Module.src.Processors.TFDataSetProcessors.MultiplyImagesByConstant object at 0x7fece6453550>\n",
            "<Data_Generators.Image_Processors_Module.src.Processors.TFDataSetProcessors.CombineKeys object at 0x7fece645a790>\n",
            "<Data_Generators.Image_Processors_Module.src.Processors.TFDataSetProcessors.ReturnOutputs object at 0x7fece645a8d0>\n",
            "{'shuffle': 46}\n",
            "{'batch': 1}\n",
            "{'repeat'}\n"
          ]
        }
      ]
    },
    {
      "cell_type": "code",
      "source": [
        "train_dataset.take(1)"
      ],
      "metadata": {
        "colab": {
          "base_uri": "https://localhost:8080/"
        },
        "id": "AXgr6DUc1-he",
        "outputId": "72078ce0-229f-4399-b638-b37ad6c18c41"
      },
      "execution_count": 62,
      "outputs": [
        {
          "output_type": "execute_result",
          "data": {
            "text/plain": [
              "<TakeDataset element_spec={'input': TensorSpec(shape=(None, 256, 256, 3), dtype=tf.float32, name=None), 'rtimg': TensorSpec(shape=(None, 256, 256, 1), dtype=tf.float32, name=None)}>"
            ]
          },
          "metadata": {},
          "execution_count": 62
        }
      ]
    },
    {
      "cell_type": "code",
      "execution_count": null,
      "metadata": {
        "id": "Z5xm6UcPBwwR"
      },
      "outputs": [],
      "source": [
        "# train_dataset, valid_dataset = return_fold_datasets(data_generators,2)\n",
        "# print(len(train_dataset))\n",
        "# print(len(valid_dataset))"
      ]
    },
    {
      "cell_type": "code",
      "execution_count": null,
      "metadata": {
        "id": "S2voSzAA_r62",
        "colab": {
          "base_uri": "https://localhost:8080/",
          "height": 283
        },
        "outputId": "43ed6b8f-01ea-419e-bd59-51ed27fab5e3"
      },
      "outputs": [
        {
          "output_type": "stream",
          "name": "stdout",
          "text": [
            "tf.Tensor([256 256   1], shape=(3,), dtype=int32)\n"
          ]
        },
        {
          "output_type": "display_data",
          "data": {
            "text/plain": [
              "<Figure size 432x288 with 1 Axes>"
            ],
            "image/png": "[encoded data removed]"
          },
          "metadata": {
            "needs_background": "light"
          }
        }
      ],
      "source": [
        "if not running_local:\n",
        "  for val in valid_dataset.take(1):\n",
        "    inp = val['rtimg']\n",
        "    inp1 = tf.squeeze(inp,axis=0)\n",
        "    vec = inp1[1:256,128]\n",
        "    plt.plot(vec)\n",
        "    print(tf.shape(inp1))"
      ]
    },
    {
      "cell_type": "code",
      "execution_count": 18,
      "metadata": {
        "id": "YLRvgXfx2vR5"
      },
      "outputs": [],
      "source": [
        "def getinput(input_image,chan):\n",
        "    slice_image = input_image[:,:,chan]\n",
        "    slice_image = tf.cast(slice_image, tf.float32)\n",
        "    return slice_image"
      ]
    },
    {
      "cell_type": "code",
      "execution_count": null,
      "metadata": {
        "colab": {
          "base_uri": "https://localhost:8080/",
          "height": 304
        },
        "id": "-MMQRYR920FB",
        "outputId": "de5d0bbf-ca0b-4f8c-d258-258dfd420062"
      },
      "outputs": [
        {
          "output_type": "stream",
          "name": "stdout",
          "text": [
            "tf.Tensor([256 256], shape=(2,), dtype=int32)\n"
          ]
        },
        {
          "output_type": "execute_result",
          "data": {
            "text/plain": [
              "<matplotlib.image.AxesImage at 0x7f0b3b81c290>"
            ]
          },
          "metadata": {},
          "execution_count": 357
        },
        {
          "output_type": "display_data",
          "data": {
            "text/plain": [
              "<Figure size 432x288 with 1 Axes>"
            ],
            "image/png": "[encoded data removed]"
          },
          "metadata": {
            "needs_background": "light"
          }
        }
      ],
      "source": [
        "slicen = 2\n",
        "for val in valid_dataset.take(1):\n",
        "  inp = tf.squeeze(val['input'],axis=0)\n",
        "  #print(tf.shape(inp))\n",
        "  img = getinput(inp,slicen)\n",
        "  print(tf.shape(img))\n",
        "\n",
        "\n",
        "plt.figure()\n",
        "#plt.imshow(tf.squeeze(img, axis=-1))\n",
        "plt.imshow(inp)\n",
        "plt.imshow(img)"
      ]
    },
    {
      "cell_type": "code",
      "execution_count": 63,
      "metadata": {
        "colab": {
          "base_uri": "https://localhost:8080/",
          "height": 321
        },
        "id": "-eJ2p_ik248Z",
        "outputId": "543c81e4-6dc2-4621-ec6a-ca27b80dae5e"
      },
      "outputs": [
        {
          "output_type": "stream",
          "name": "stdout",
          "text": [
            "tf.Tensor([  1 256 256   1], shape=(4,), dtype=int32)\n",
            "tf.Tensor([256 256], shape=(2,), dtype=int32)\n"
          ]
        },
        {
          "output_type": "execute_result",
          "data": {
            "text/plain": [
              "<matplotlib.image.AxesImage at 0x7fd9f50c19d0>"
            ]
          },
          "metadata": {},
          "execution_count": 63
        },
        {
          "output_type": "display_data",
          "data": {
            "text/plain": [
              "<Figure size 432x288 with 1 Axes>"
            ],
            "image/png": "[encoded data removed]"
          },
          "metadata": {
            "needs_background": "light"
          }
        }
      ],
      "source": [
        "for val in valid_dataset.take(1):\n",
        "  img = val['rtimg']\n",
        "  print(tf.shape(img))\n",
        "\n",
        "img = tf.squeeze(img, axis=0)\n",
        "img = tf.squeeze(img, axis=-1)\n",
        "#img = tf.cast(img, tf.float32)\n",
        "print(tf.shape(img))\n",
        "#plt.figure()\n",
        "#plt.imshow(tf.squeeze(img, axis=-1))\n",
        "plt.imshow(img)"
      ]
    },
    {
      "cell_type": "code",
      "execution_count": null,
      "metadata": {
        "colab": {
          "base_uri": "https://localhost:8080/",
          "height": 287
        },
        "id": "kxEUjGyOAJrQ",
        "outputId": "e85ff54f-71da-49c0-922f-f2908013986a"
      },
      "outputs": [
        {
          "output_type": "execute_result",
          "data": {
            "text/plain": [
              "<matplotlib.image.AxesImage at 0x7f0b3b3c9b10>"
            ]
          },
          "metadata": {},
          "execution_count": 359
        },
        {
          "output_type": "display_data",
          "data": {
            "text/plain": [
              "<Figure size 432x288 with 1 Axes>"
            ],
            "image/png": "[encoded data removed]"
          },
          "metadata": {
            "needs_background": "light"
          }
        }
      ],
      "source": [
        "slicen =1\n",
        "for val in valid_dataset.take(1):\n",
        "  inp = tf.squeeze(val['input'],axis=0)\n",
        "  img1 = getinput(inp,slicen)\n",
        "  img2 = val['rtimg']\n",
        "  img2 = tf.squeeze(img2, axis=0)\n",
        "  #print(tf.shape(img))\n",
        "\n",
        "#img2 = tf.cast(img2, tf.float32)\n",
        "plt.figure()\n",
        "plt.imshow(img1,alpha=0.5)\n",
        "plt.imshow(tf.squeeze(img2, axis=-1),alpha=0.5)"
      ]
    },
    {
      "cell_type": "markdown",
      "metadata": {
        "id": "PVuZQTfI_c-s"
      },
      "source": [
        "As described in the [pix2pix paper](https://arxiv.org/abs/1611.07004), you need to apply random jittering and mirroring to preprocess the training set.\n",
        "\n",
        "Define functions that:\n",
        "\n",
        "1. Randomly flip the image horizontally i.e. left to right (random mirroring).\n",
        "2. Normalize the images to the `[-1, 1]` range. "
      ]
    },
    {
      "cell_type": "code",
      "execution_count": 16,
      "metadata": {
        "id": "Q4vH0iJzAOhP"
      },
      "outputs": [],
      "source": [
        "OUTPUT_CHANNELS = 1"
      ]
    },
    {
      "cell_type": "code",
      "execution_count": 17,
      "metadata": {
        "id": "3R09ATE_SH9P"
      },
      "outputs": [],
      "source": [
        "def downsample(filters, size, apply_batchnorm=True):\n",
        "  initializer = tf.random_normal_initializer(0., 0.02)\n",
        "\n",
        "  result = tf.keras.Sequential()\n",
        "  result.add(\n",
        "      tf.keras.layers.Conv2D(filters, size, strides=2, padding='same',\n",
        "                             kernel_initializer=initializer, use_bias=False))\n",
        "\n",
        "  if apply_batchnorm:\n",
        "    result.add(tf.keras.layers.BatchNormalization())\n",
        "\n",
        "  result.add(tf.keras.layers.LeakyReLU())\n",
        "\n",
        "  return result"
      ]
    },
    {
      "cell_type": "markdown",
      "metadata": {
        "id": "aFI_Pa52tjLl"
      },
      "source": [
        "Define the upsampler (decoder):"
      ]
    },
    {
      "cell_type": "code",
      "execution_count": 18,
      "metadata": {
        "id": "nhgDsHClSQzP"
      },
      "outputs": [],
      "source": [
        "def upsample(filters, size, apply_dropout=False):\n",
        "  initializer = tf.random_normal_initializer(0., 0.02)\n",
        "\n",
        "  result = tf.keras.Sequential()\n",
        "  result.add(\n",
        "    tf.keras.layers.Conv2DTranspose(filters, size, strides=2,\n",
        "                                    padding='same',\n",
        "                                    kernel_initializer=initializer,\n",
        "                                    use_bias=False))\n",
        "\n",
        "  result.add(tf.keras.layers.BatchNormalization())\n",
        "\n",
        "  if apply_dropout:\n",
        "      result.add(tf.keras.layers.Dropout(0.5))\n",
        "\n",
        "  result.add(tf.keras.layers.ReLU())\n",
        "\n",
        "  return result"
      ]
    },
    {
      "cell_type": "markdown",
      "metadata": {
        "id": "ueEJyRVrtZ-p"
      },
      "source": [
        "Define the generator with the downsampler and the upsampler:"
      ]
    },
    {
      "cell_type": "code",
      "execution_count": null,
      "metadata": {
        "id": "lFPI4Nu-8b4q"
      },
      "outputs": [],
      "source": [
        "# def Generator():\n",
        "#   inputs = tf.keras.layers.Input(shape=[256, 256, 3])\n",
        "\n",
        "#   down_stack = [\n",
        "#     downsample(64, 4, apply_batchnorm=False),  # (batch_size, 128, 128, 64)\n",
        "#     downsample(128, 4),  # (batch_size, 64, 64, 128)\n",
        "#     downsample(256, 4),  # (batch_size, 32, 32, 256)\n",
        "#     downsample(512, 4),  # (batch_size, 16, 16, 512)\n",
        "#     downsample(512, 4),  # (batch_size, 8, 8, 512)\n",
        "#     downsample(512, 4),  # (batch_size, 4, 4, 512)\n",
        "#     downsample(512, 4),  # (batch_size, 2, 2, 512)\n",
        "#     downsample(512, 4),  # (batch_size, 1, 1, 512)\n",
        "#   ]\n",
        "\n",
        "#   up_stack = [\n",
        "#     upsample(512, 4, apply_dropout=True),  # (batch_size, 2, 2, 1024)\n",
        "#     upsample(512, 4, apply_dropout=True),  # (batch_size, 4, 4, 1024)\n",
        "#     upsample(512, 4, apply_dropout=True),  # (batch_size, 8, 8, 1024)\n",
        "#     upsample(512, 4),  # (batch_size, 16, 16, 1024)\n",
        "#     upsample(256, 4),  # (batch_size, 32, 32, 512)\n",
        "#     upsample(128, 4),  # (batch_size, 64, 64, 256)\n",
        "#     upsample(64, 4),  # (batch_size, 128, 128, 128)\n",
        "#   ]\n",
        "\n",
        "#   initializer = tf.random_normal_initializer(0., 0.02)\n",
        "#   last = tf.keras.layers.Conv2DTranspose(OUTPUT_CHANNELS, 4,\n",
        "#                                          strides=2,\n",
        "#                                          padding='same',\n",
        "#                                          kernel_initializer=initializer,\n",
        "#                                          activation='tanh')  # (batch_size, 256, 256, 3)\n",
        "\n",
        "#   x = inputs\n",
        "\n",
        "#   # Downsampling through the model\n",
        "#   skips = []\n",
        "#   for down in down_stack:\n",
        "#     x = down(x)\n",
        "#     skips.append(x)\n",
        "\n",
        "#   skips = reversed(skips[:-1])\n",
        "\n",
        "#   # Upsampling and establishing the skip connections\n",
        "#   for up, skip in zip(up_stack, skips):\n",
        "#     x = up(x)\n",
        "#     x = tf.keras.layers.Concatenate()([x, skip])\n",
        "\n",
        "#   x = last(x)\n",
        "\n",
        "#   return tf.keras.Model(inputs=inputs, outputs=x)"
      ]
    },
    {
      "cell_type": "code",
      "execution_count": null,
      "metadata": {
        "id": "nJWbqf-g1wDF"
      },
      "outputs": [],
      "source": [
        "def Generator(size=4, layers=1, filters_start=4, double_layers=4):\n",
        "  \"\"\"\n",
        "  default values creates the original generator, filters double from start\n",
        "  to a max after the number of 'double layers'\n",
        "  Size is the kernel size\n",
        "  Layers is the number of layers\n",
        "  \"\"\"\n",
        "  inputs = tf.keras.layers.Input(shape=[256, 256, 3])\n",
        "  filters_list = []\n",
        "  for _ in range(double_layers):\n",
        "    filters_list.append(filters_start)\n",
        "    filters_start *= 2\n",
        "  up_filters = []\n",
        "  batchnorm = False\n",
        "  down_stack = []\n",
        "  for _ in range(layers):\n",
        "    if filters_list:\n",
        "      filters = filters_list.pop(0)\n",
        "    up_filters.append(filters)\n",
        "    print(filters)\n",
        "    layer = downsample(filters, size, batchnorm)\n",
        "    down_stack.append(layer)\n",
        "    batchnorm = True\n",
        "  if filters_list:\n",
        "    filters = filters_list.pop(0)\n",
        "  layer = downsample(filters, size, batchnorm)\n",
        "  down_stack.append(layer)\n",
        "  up_stack = []\n",
        "  for _ in range(layers):\n",
        "    filters = up_filters.pop()\n",
        "    layer = upsample(filters, size)\n",
        "    up_stack.append(layer)\n",
        "  initializer = tf.random_normal_initializer(0., 0.02)\n",
        "  last = tf.keras.layers.Conv2DTranspose(OUTPUT_CHANNELS, size,\n",
        "                                         strides=2,\n",
        "                                         padding='same',\n",
        "                                         kernel_initializer=initializer,\n",
        "                                         activation='relu')  # (batch_size, 256, 256, 3)\n",
        "\n",
        "  x = inputs\n",
        "\n",
        "  # Downsampling through the model\n",
        "  skips = []\n",
        "  for down in down_stack:\n",
        "    x = down(x)\n",
        "    skips.append(x)\n",
        "\n",
        "  skips = reversed(skips[:-1])\n",
        "\n",
        "  # Upsampling and establishing the skip connections\n",
        "  for up, skip in zip(up_stack, skips):\n",
        "    x = up(x)\n",
        "    x = tf.keras.layers.Concatenate()([x, skip])\n",
        "\n",
        "  x = last(x)\n",
        "\n",
        "  return tf.keras.Model(inputs=inputs, outputs=x)"
      ]
    },
    {
      "cell_type": "code",
      "source": [
        "def Generator():\n",
        " \n",
        "  initializer = tf.random_normal_initializer(0., 0.02)\n",
        "  inputs = tf.keras.layers.Input(shape=[256, 256, 3])\n",
        "  print(tf.shape(inputs))\n",
        "  \n",
        "  lay0 = tf.keras.layers.Conv2D(1, 25, strides=1, padding='same', kernel_initializer=initializer, use_bias=False)(inputs)\n",
        "  # lay1 = tf.keras.layers.Conv2D(1, 4, strides=1, padding='same', kernel_initializer=initializer, use_bias=False)(input[1])\n",
        "  # lay2 = tf.keras.layers.Conv2D(1, 4, strides=1, padding='same', kernel_initializer=initializer, use_bias=False)(input[2])\n",
        "  \n",
        "  # sum = tf.keras.layers.Add()([lay0,lay1,lay2])\n",
        "\n",
        "  last = tf.keras.layers.Conv2DTranspose(OUTPUT_CHANNELS, 1,\n",
        "                                          strides=1,\n",
        "                                          padding='same',\n",
        "                                          kernel_initializer=initializer,\n",
        "                                          activation='relu') (lay0) # (batch_size, 256, 256, 3)\n",
        "\n",
        "  return tf.keras.Model(inputs=inputs, outputs=last)"
      ],
      "metadata": {
        "id": "dtynVTJHV7oB"
      },
      "execution_count": 21,
      "outputs": []
    },
    {
      "cell_type": "code",
      "source": [
        "from tensorflow.python.ops.array_ops import zeros\n",
        "def Generator(include_scatter=True, kernel=7, dilation_rate=1):\n",
        " \n",
        "  initializerP = tf.random_normal_initializer(1.0, 0.02)\n",
        "  initializerC = tf.random_normal_initializer(2.2, 0.02)\n",
        "  # inputsCT = tf.keras.layers.Input(shape=[256, 256, 1])\n",
        "  # inputsPDOS = tf.keras.layers.Input(shape=[256, 256, 1])\n",
        "  inputs = tf.keras.layers.Input(shape=[256, 256, 3])\n",
        "  inputsCT = tf.expand_dims(inputs[..., 1], axis=-1)\n",
        "  inputsPDOS = tf.expand_dims(inputs[..., 0], axis=-1)\n",
        "  halfCBCT = tf.expand_dims(inputs[..., 2], axis=-1)\n",
        "  #print(tf.shape(inputs))\n",
        "  \n",
        "  #logPDOS = tf.math.log(inputsPDOS)\n",
        "\n",
        "  pdos_layer = tf.keras.layers.Conv2D(1, 1, strides=1, activation=None, padding='same', kernel_initializer=initializerP, use_bias=True)(inputsPDOS)\n",
        "  \n",
        "\n",
        "  #lay1 = tf.keras.layers.Conv2D(1, 1, strides=1, padding='same', kernel_initializer=initializer, use_bias=False)(logPDOS)\n",
        "  \n",
        "  ct_layer = tf.keras.layers.Conv2D(1, 1, strides=1, activation=None, padding='same', kernel_initializer=initializerC, use_bias=True)(inputsCT)\n",
        "  # lay2 = tf.keras.layers.Conv2D(1, 4, strides=1, padding='same', kernel_initializer=initializer, use_bias=False)(input[2])\n",
        "  # scatter_layer = tf.keras.layers.Multiply()([scatter_layer])\n",
        "  scatter_pdos = tf.keras.layers.Conv2D(1, kernel, dilation_rate=dilation_rate,\n",
        "                                        padding='same', kernel_initializer=tf.random_normal_initializer(.01, 0.001),\n",
        "                                        activation=None)(inputsPDOS)\n",
        "  exp = tf.math.exp(-ct_layer)\n",
        "  last = tf.keras.layers.Multiply()([pdos_layer, exp])\n",
        "\n",
        "  # exp_scatter = tf.math.exp(-ct_layer)\n",
        "  last_scatter = tf.keras.layers.Multiply()([scatter_pdos, exp])\n",
        "  if include_scatter:\n",
        "    last = tf.keras.layers.Add()([last,last_scatter])\n",
        "  \n",
        "  \"\"\"\n",
        "  last = tf.keras.layers.Conv2DTranspose(OUTPUT_CHANNELS, 1,\n",
        "                                          strides=1,\n",
        "                                          padding='same',\n",
        "                                          kernel_initializer=initializer,\n",
        "                                          activation='elu') (sum) # (batch_size, 256, 256, 3)\n",
        "  \"\"\"\n",
        "  #last = tf.keras.layers.Add()([lay0,exp])\n",
        "\n",
        "  return tf.keras.Model(inputs=inputs, outputs=last)"
      ],
      "metadata": {
        "id": "YuzK_wh9Ohhz"
      },
      "execution_count": 43,
      "outputs": []
    },
    {
      "cell_type": "markdown",
      "metadata": {
        "id": "Z4PKwrcQFYvF"
      },
      "source": [
        "Visualize the generator model architecture:"
      ]
    },
    {
      "cell_type": "code",
      "execution_count": null,
      "metadata": {
        "colab": {
          "base_uri": "https://localhost:8080/",
          "height": 419
        },
        "id": "dIbRPFzjmV85",
        "outputId": "c4ced25e-9b81-4fb5-b9a1-96b7c3d9fbae"
      },
      "outputs": [
        {
          "output_type": "error",
          "ename": "KeyboardInterrupt",
          "evalue": "ignored",
          "traceback": [
            "\u001b[0;31m---------------------------------------------------------------------------\u001b[0m",
            "\u001b[0;31mKeyboardInterrupt\u001b[0m                         Traceback (most recent call last)",
            "\u001b[0;32m/usr/local/lib/python3.7/dist-packages/zmq/backend/cython/checkrc.pxd\u001b[0m in \u001b[0;36mzmq.backend.cython.checkrc._check_rc\u001b[0;34m()\u001b[0m\n",
            "\u001b[0;31mKeyboardInterrupt\u001b[0m: "
          ]
        },
        {
          "output_type": "stream",
          "name": "stderr",
          "text": [
            "Exception ignored in: 'zmq.backend.cython.message.Frame.__dealloc__'\n",
            "Traceback (most recent call last):\n",
            "  File \"zmq/backend/cython/checkrc.pxd\", line 13, in zmq.backend.cython.checkrc._check_rc\n",
            "KeyboardInterrupt\n"
          ]
        },
        {
          "output_type": "error",
          "ename": "KeyboardInterrupt",
          "evalue": "ignored",
          "traceback": [
            "\u001b[0;31m---------------------------------------------------------------------------\u001b[0m",
            "\u001b[0;31mKeyboardInterrupt\u001b[0m                         Traceback (most recent call last)",
            "\u001b[0;32m/usr/local/lib/python3.7/dist-packages/zmq/backend/cython/checkrc.pxd\u001b[0m in \u001b[0;36mzmq.backend.cython.checkrc._check_rc\u001b[0;34m()\u001b[0m\n",
            "\u001b[0;31mKeyboardInterrupt\u001b[0m: "
          ]
        },
        {
          "output_type": "stream",
          "name": "stderr",
          "text": [
            "Exception ignored in: 'zmq.backend.cython.message.Frame.__dealloc__'\n",
            "Traceback (most recent call last):\n",
            "  File \"zmq/backend/cython/checkrc.pxd\", line 13, in zmq.backend.cython.checkrc._check_rc\n",
            "KeyboardInterrupt\n"
          ]
        }
      ],
      "source": [
        "generator = Generator()\n",
        "tf.keras.utils.plot_model(generator, show_shapes=True, dpi=64)\n",
        "# generator.summary()"
      ]
    },
    {
      "cell_type": "code",
      "source": [
        "generator.layers[-2].weights"
      ],
      "metadata": {
        "colab": {
          "base_uri": "https://localhost:8080/"
        },
        "id": "Y4IR29bAieSK",
        "outputId": "6b8d4165-f5f7-4b8a-fb88-56e451d85211"
      },
      "execution_count": 192,
      "outputs": [
        {
          "output_type": "execute_result",
          "data": {
            "text/plain": [
              "[<tf.Variable 'conv2d_75/kernel:0' shape=(5, 5, 1, 1) dtype=float32, numpy=\n",
              " array([[[[0.00943424]],\n",
              " \n",
              "         [[0.01055114]],\n",
              " \n",
              "         [[0.00951242]],\n",
              " \n",
              "         [[0.00971724]],\n",
              " \n",
              "         [[0.00966444]]],\n",
              " \n",
              " \n",
              "        [[[0.00952607]],\n",
              " \n",
              "         [[0.00767543]],\n",
              " \n",
              "         [[0.00963125]],\n",
              " \n",
              "         [[0.00928703]],\n",
              " \n",
              "         [[0.00940973]]],\n",
              " \n",
              " \n",
              "        [[[0.00972365]],\n",
              " \n",
              "         [[0.00869355]],\n",
              " \n",
              "         [[0.00947429]],\n",
              " \n",
              "         [[0.00956455]],\n",
              " \n",
              "         [[0.00942567]]],\n",
              " \n",
              " \n",
              "        [[[0.00937757]],\n",
              " \n",
              "         [[0.01132254]],\n",
              " \n",
              "         [[0.00967303]],\n",
              " \n",
              "         [[0.00874258]],\n",
              " \n",
              "         [[0.00945571]]],\n",
              " \n",
              " \n",
              "        [[[0.01089258]],\n",
              " \n",
              "         [[0.00884881]],\n",
              " \n",
              "         [[0.01052335]],\n",
              " \n",
              "         [[0.00893883]],\n",
              " \n",
              "         [[0.00957429]]]], dtype=float32)>,\n",
              " <tf.Variable 'conv2d_75/bias:0' shape=(1,) dtype=float32, numpy=array([0.], dtype=float32)>]"
            ]
          },
          "metadata": {},
          "execution_count": 192
        }
      ]
    },
    {
      "cell_type": "markdown",
      "metadata": {
        "id": "Z8kbgTK8FcPo"
      },
      "source": [
        "Test the generator:"
      ]
    },
    {
      "cell_type": "code",
      "source": [
        "x, y = next(iter(data_generators['train'].data_set))"
      ],
      "metadata": {
        "id": "LTfA0oyiMzHL"
      },
      "execution_count": 32,
      "outputs": []
    },
    {
      "cell_type": "code",
      "source": [
        "for val in valid_dataset.take(1):\n",
        "  inp = tf.squeeze(val['input'],axis=0)\n",
        "  inCT = inp[:,:,0]\n",
        "  inPDOS = inp[:,:,2]\n",
        "\n",
        "print(tf.shape(inCT))\n",
        "print(tf.shape(inCT[tf.newaxis, ...]))\n",
        "\n",
        "gen_output = generator(inputs =x, training=False)\n",
        "#print(tf.shape(gen_output))\n",
        "plt.imshow(tf.squeeze(gen_output[0, ...],axis=-1))"
      ],
      "metadata": {
        "colab": {
          "base_uri": "https://localhost:8080/",
          "height": 321
        },
        "id": "8Ib4ONYVRg-F",
        "outputId": "18779ada-9afb-4bc3-c441-458285a961f2"
      },
      "execution_count": 66,
      "outputs": [
        {
          "output_type": "stream",
          "name": "stdout",
          "text": [
            "tf.Tensor([256 256], shape=(2,), dtype=int32)\n",
            "tf.Tensor([  1 256 256], shape=(3,), dtype=int32)\n"
          ]
        },
        {
          "output_type": "execute_result",
          "data": {
            "text/plain": [
              "<matplotlib.image.AxesImage at 0x7fd9f50a2d90>"
            ]
          },
          "metadata": {},
          "execution_count": 66
        },
        {
          "output_type": "display_data",
          "data": {
            "text/plain": [
              "<Figure size 432x288 with 1 Axes>"
            ],
            "image/png": "[encoded data removed]"
          },
          "metadata": {
            "needs_background": "light"
          }
        }
      ]
    },
    {
      "cell_type": "markdown",
      "metadata": {
        "id": "dpDPEQXIAiQO"
      },
      "source": [
        "### Define the generator loss\n",
        "\n",
        "GANs learn a loss that adapts to the data, while cGANs learn a structured loss that penalizes a possible structure that differs from the network output and the target image, as described in the [pix2pix paper](https://arxiv.org/abs/1611.07004).\n",
        "\n",
        "- The generator loss is a sigmoid cross-entropy loss of the generated images and an **array of ones**.\n",
        "- The pix2pix paper also mentions the L1 loss, which is a MAE (mean absolute error) between the generated image and the target image.\n",
        "- This allows the generated image to become structurally similar to the target image.\n",
        "- The formula to calculate the total generator loss is `gan_loss + LAMBDA * l1_loss`, where `LAMBDA = 100`. This value was decided by the authors of the paper."
      ]
    },
    {
      "cell_type": "code",
      "execution_count": 67,
      "metadata": {
        "id": "cyhxTuvJyIHV"
      },
      "outputs": [],
      "source": [
        "LAMBDA = 100"
      ]
    },
    {
      "cell_type": "code",
      "execution_count": 68,
      "metadata": {
        "id": "Q1Xbz5OaLj5C"
      },
      "outputs": [],
      "source": [
        "loss_object = tf.keras.losses.BinaryCrossentropy(from_logits=True)"
      ]
    },
    {
      "cell_type": "code",
      "execution_count": 69,
      "metadata": {
        "id": "90BIcCKcDMxz"
      },
      "outputs": [],
      "source": [
        "def generator_loss(gen_output, target):\n",
        " \n",
        "  #gan_loss = loss_object(tf.ones_like(disc_generated_output), disc_generated_output)\n",
        "\n",
        "  # Mean absolute error\n",
        "  l1_loss = tf.reduce_mean(tf.abs(target - gen_output))\n",
        "\n",
        "  #total_gen_loss = gan_loss + (LAMBDA * l1_loss)\n",
        "\n",
        "  return l1_loss"
      ]
    },
    {
      "cell_type": "code",
      "source": [
        "def generator_loss(gen_output, target):\n",
        " \n",
        "  #gen_output = gen_output[gen_output>-0.95]\n",
        "  #target = target[target>-0.95]\n",
        "  # Mean absolute error\n",
        "  # w = 0.01\n",
        "  # tar_bkg = tf.where(tf.less_equal(target,0.05),target,0)\n",
        "  # gen_bkg = tf.where(tf.less_equal(gen_output,0.05),gen_output,0)\n",
        "\n",
        "\n",
        "  # target_vals = tf.where(tf.greater(target,0.05),target,0)\n",
        "  # gen_vals = tf.where(tf.greater(gen_output,0.05),gen_output,0)\n",
        "  # l1_loss = w*tf.reduce_mean(tf.abs(tar_bkg - gen_bkg)) + tf.reduce_mean(tf.abs(target_vals - gen_vals))\n",
        "  \n",
        "  l1_loss = tf.reduce_mean(tf.abs(target - gen_output))\n",
        "\n",
        "  return l1_loss"
      ],
      "metadata": {
        "id": "u3amQFFmS-Is"
      },
      "execution_count": 70,
      "outputs": []
    },
    {
      "cell_type": "markdown",
      "metadata": {
        "id": "fSZbDgESHIV6"
      },
      "source": [
        "The training procedure for the generator is as follows:"
      ]
    },
    {
      "cell_type": "markdown",
      "metadata": {
        "id": "_073KDijTAVh"
      },
      "source": [
        ""
      ]
    },
    {
      "cell_type": "markdown",
      "metadata": {
        "id": "0FMYgY_mPfTi"
      },
      "source": [
        "## Define the optimizers and a checkpoint-saver\n"
      ]
    },
    {
      "cell_type": "code",
      "execution_count": 149,
      "metadata": {
        "id": "lbHFNexF0x6O"
      },
      "outputs": [],
      "source": [
        "generator_optimizer = tf.keras.optimizers.Adam(1.01e-1, beta_1=0.5)\n",
        "#discriminator_optimizer = tf.keras.optimizers.Adam(2e-4, beta_1=0.5)"
      ]
    },
    {
      "cell_type": "code",
      "execution_count": 78,
      "metadata": {
        "id": "WJnftd5sQsv6"
      },
      "outputs": [],
      "source": [
        "running_local = False\n",
        "!mkdir -p training_checkpoints\n",
        "#checkpoint_dir = '/content/drive/MyDrive/Colab Notebooks/3chanGAN_checkpoints'\n",
        "if not running_local:\n",
        "    checkpoint_dir = '/content/drive/MyDrive/Colab Notebooks/fold1_checkpoints'\n",
        "else:\n",
        "    checkpoint_dir = r'R:\\Bojechko\\TFRecords\\fold1_checkpoints'\n",
        "checkpoint_prefix = os.path.join(checkpoint_dir, \"ckpt\")\n",
        "checkpoint = tf.train.Checkpoint(generator_optimizer=generator_optimizer,\n",
        "                                 generator=generator)\n",
        "                                "
      ]
    },
    {
      "cell_type": "markdown",
      "metadata": {
        "id": "Rw1fkAczTQYh"
      },
      "source": [
        "## Generate images\n",
        "\n",
        "Write a function to plot some images during training.\n",
        "\n",
        "- Pass images from the test set to the generator.\n",
        "- The generator will then translate the input image into the output.\n",
        "- The last step is to plot the predictions and _voila_!"
      ]
    },
    {
      "cell_type": "markdown",
      "metadata": {
        "id": "Rb0QQFHF-JfS"
      },
      "source": [
        "Note: The `training=True` is intentional here since\n",
        "you want the batch statistics, while running the model on the test dataset. If you use `training=False`, you get the accumulated statistics learned from the training dataset (which you don't want)."
      ]
    },
    {
      "cell_type": "code",
      "execution_count": 71,
      "metadata": {
        "id": "RmdVsmvhPxyy"
      },
      "outputs": [],
      "source": [
        "def generate_images(model, input, tar):\n",
        "  \n",
        "  # inp = tf.squeeze(input,axis=0)\n",
        "  # inCT = inp[:,:,0]\n",
        "  # inPDOS = inp[:,:,2]\n",
        "  # input =[inCT[tf.newaxis, ...],inPDOS[tf.newaxis, ...]]\n",
        "  \n",
        "  # prediction = model(inputs=[inCT[tf.newaxis, ...],inPDOS[tf.newaxis, ...]], training=True)\n",
        "  prediction = model(input, training=True)\n",
        "  plt.figure(figsize=(10, 10))\n",
        "\n",
        "  # print(\"Input \")\n",
        "  # print(type(cbct_input))\n",
        "  # print(tf.shape(cbct_input))\n",
        "  # print(\"ground truth\")\n",
        "  # print(type(tar))\n",
        "  # print(tf.shape(tar))\n",
        "  display_list = [input[0], tar[0], prediction[0]]\n",
        "  title = ['Input CBCT Image', 'Ground Truth', 'Predicted Image']\n",
        "  \n",
        "  plt.subplot(1, 4, 1)\n",
        "  plt.title('Input Image')\n",
        "  # Getting the pixel values in the [0, 1] range to plot.\n",
        "  \n",
        "  input = tf.squeeze(input,axis=0)\n",
        "  inslice = getinput(input,1)\n",
        "  \n",
        "  plt.imshow(inslice)\n",
        "  plt.axis('off')\n",
        "  plt.subplot(1, 4, 2)\n",
        "  plt.title('Ground Truth')\n",
        "  # Getting the pixel values in the [0, 1] range to plot.\n",
        "  #plt.imshow(tf.squeeze(tar[0],axis=0))\n",
        "  #tar = tf.cast(tar,tf.float32)\n",
        "  plt.imshow(tf.squeeze(tar[0],axis=-1))\n",
        "  plt.axis('off')\n",
        "  plt.subplot(1, 4, 3)\n",
        "\n",
        "  plt.title('Prediction')\n",
        "  # Getting the pixel values in the [0, 1] range to plot.\n",
        "  #plt.imshow(tf.squeeze(tar[0],axis=0))\n",
        "  #tar = tf.cast(tar,tf.float32)\n",
        "  plt.imshow(tf.squeeze(prediction[0],axis=-1))\n",
        "  plt.axis('off')\n",
        "  \n",
        "  \n",
        "  plt.subplot(1, 4, 4)\n",
        "  plt.title('Predicted Image')\n",
        "  \n",
        "  tar = tf.squeeze(tar, axis=0)\n",
        "  tar = tf.squeeze(tar, axis=-1)\n",
        "  prediction = tf.squeeze(prediction, axis=0)\n",
        "  prediction = tf.squeeze(prediction, axis=-1)\n",
        "  \n",
        "  predvec = prediction[128,1:256]\n",
        "  rtvec = tar[128,1:256]\n",
        "  \n",
        "  #predvec = prediction[1:256,128]\n",
        "  #rtvec = tar[1:256,128]\n",
        "\n",
        "\n",
        "  plt.plot(rtvec,'g')\n",
        "  plt.title(\"Meas RT IMG (Green)\")\n",
        "  plt.plot(predvec,'b')\n",
        "\n",
        "  # Getting the pixel values in the [0, 1] range to plot.\n",
        "  #print(tf.shape(prediction))\n",
        "  #prediction = tf.cast(prediction,tf.float32)\n",
        "  #plt.imshow(tf.squeeze(prediction[0],axis=-1))\n",
        "  #plt.axis('off')\n",
        "  \n",
        "  plt.show()"
      ]
    },
    {
      "cell_type": "markdown",
      "metadata": {
        "id": "gipsSEoZIG1a"
      },
      "source": [
        "Test the function:"
      ]
    },
    {
      "cell_type": "code",
      "execution_count": 163,
      "metadata": {
        "colab": {
          "base_uri": "https://localhost:8080/",
          "height": 624
        },
        "id": "8Fc4NzT-DgEx",
        "outputId": "59ae6074-3e01-4087-aa20-51e367afdf2d"
      },
      "outputs": [
        {
          "output_type": "stream",
          "name": "stdout",
          "text": [
            "tf.Tensor([  1 256 256   3], shape=(4,), dtype=int32)\n"
          ]
        },
        {
          "output_type": "display_data",
          "data": {
            "text/plain": [
              "<Figure size 720x720 with 4 Axes>"
            ],
            "image/png": "[encoded data removed]"
          },
          "metadata": {
            "needs_background": "light"
          }
        }
      ],
      "source": [
        "for example in valid_dataset.take(1):\n",
        "  input = example['input']\n",
        "  print(tf.shape(input))\n",
        "  rtimg = example['rtimg']\n",
        "  #rtimg = tf.squeeze(rtimg, axis=0)\n",
        "  generate_images(generator, input, rtimg)"
      ]
    },
    {
      "cell_type": "code",
      "source": [
        "mae = tf.keras.metrics.MeanAbsoluteError()\n",
        "mae_loss = tf.keras.losses.MeanAbsoluteError()\n",
        "epochs = 16"
      ],
      "metadata": {
        "id": "4b6yNMM-d3v_"
      },
      "execution_count": 15,
      "outputs": []
    },
    {
      "cell_type": "code",
      "source": [
        "train_gen = data_generators['train']\n",
        "val_gen = data_generators['validation']\n",
        "kernel = 7\n",
        "scatter = True\n",
        "for dil_rate in [15]:\n",
        "  for lr in [1.01e-3]:\n",
        "    # early_stop = tf.keras.callbacks.EarlyStopping(monitor='loss', patience=30)\n",
        "    generator = Generator(include_scatter=scatter, kernel=11, dilation_rate=dil_rate)\n",
        "    tensorboard_output = \"/content/drive/MyDrive/Colab Notebooks/logs/scatter_{}_dilation_{}_lr_{}_elu\".format(scatter, dil_rate, lr)\n",
        "    print(tensorboard_output)\n",
        "    if not os.path.exists(tensorboard_output):\n",
        "      os.makedirs(tensorboard_output)\n",
        "    else:\n",
        "      continue\n",
        "    tensorboard = tf.keras.callbacks.TensorBoard(log_dir=tensorboard_output,\n",
        "                                                  profile_batch=0,\n",
        "                                                  write_graph=False)\n",
        "    generator.compile(optimizer=tf.keras.optimizers.Adam(lr, beta_1=0.5),\n",
        "                      loss=mae_loss, metrics=[mae])\n",
        "    generator.fit(train_gen.data_set, steps_per_epoch=len(train_gen),\n",
        "                  validation_data=train_gen.data_set, epochs=epochs, validation_freq=5,\n",
        "                  validation_steps=len(val_gen), callbacks=[tensorboard])\n",
        "    generator.save(os.path.join(tensorboard_output, 'final_model.h5'))"
      ],
      "metadata": {
        "colab": {
          "base_uri": "https://localhost:8080/",
          "height": 714
        },
        "id": "TajCQE9occN8",
        "outputId": "f374e9a6-7038-436f-9346-cd5d5c3ccfce"
      },
      "execution_count": 42,
      "outputs": [
        {
          "output_type": "stream",
          "name": "stdout",
          "text": [
            "/content/drive/MyDrive/Colab Notebooks/logs/scatter_True_dilation_15_lr_0.00101_elu\n",
            "Epoch 1/16\n",
            "538/538 [==============================] - 9s 10ms/step - loss: 0.0055 - mean_absolute_error: 0.0053\n",
            "Epoch 2/16\n",
            "538/538 [==============================] - 6s 9ms/step - loss: 0.0044 - mean_absolute_error: 0.0044\n",
            "Epoch 3/16\n",
            "538/538 [==============================] - 6s 10ms/step - loss: 0.0043 - mean_absolute_error: 0.0043\n",
            "Epoch 4/16\n",
            "538/538 [==============================] - 6s 10ms/step - loss: 0.0043 - mean_absolute_error: 0.0043\n",
            "Epoch 5/16\n",
            "538/538 [==============================] - 11s 20ms/step - loss: 0.0042 - mean_absolute_error: 0.0042 - val_loss: 0.0046 - val_mean_absolute_error: 0.0046\n",
            "Epoch 6/16\n",
            "538/538 [==============================] - 5s 9ms/step - loss: 0.0042 - mean_absolute_error: 0.0042\n",
            "Epoch 7/16\n",
            "538/538 [==============================] - 7s 13ms/step - loss: 0.0043 - mean_absolute_error: 0.0043\n",
            "Epoch 8/16\n",
            "538/538 [==============================] - 7s 14ms/step - loss: 0.0042 - mean_absolute_error: 0.0042\n",
            "Epoch 9/16\n",
            "176/538 [========>.....................] - ETA: 5s - loss: 0.0046 - mean_absolute_error: 0.0046"
          ]
        },
        {
          "output_type": "error",
          "ename": "KeyboardInterrupt",
          "evalue": "ignored",
          "traceback": [
            "\u001b[0;31m---------------------------------------------------------------------------\u001b[0m",
            "\u001b[0;31mKeyboardInterrupt\u001b[0m                         Traceback (most recent call last)",
            "\u001b[0;32m<ipython-input-42-aa21ca242857>\u001b[0m in \u001b[0;36m<module>\u001b[0;34m\u001b[0m\n\u001b[1;32m     20\u001b[0m     generator.fit(train_gen.data_set, steps_per_epoch=len(train_gen),\n\u001b[1;32m     21\u001b[0m                   \u001b[0mvalidation_data\u001b[0m\u001b[0;34m=\u001b[0m\u001b[0mtrain_gen\u001b[0m\u001b[0;34m.\u001b[0m\u001b[0mdata_set\u001b[0m\u001b[0;34m,\u001b[0m \u001b[0mepochs\u001b[0m\u001b[0;34m=\u001b[0m\u001b[0mepochs\u001b[0m\u001b[0;34m,\u001b[0m \u001b[0mvalidation_freq\u001b[0m\u001b[0;34m=\u001b[0m\u001b[0;36m5\u001b[0m\u001b[0;34m,\u001b[0m\u001b[0;34m\u001b[0m\u001b[0;34m\u001b[0m\u001b[0m\n\u001b[0;32m---> 22\u001b[0;31m                   validation_steps=len(val_gen), callbacks=[tensorboard])\n\u001b[0m\u001b[1;32m     23\u001b[0m     \u001b[0mgenerator\u001b[0m\u001b[0;34m.\u001b[0m\u001b[0msave\u001b[0m\u001b[0;34m(\u001b[0m\u001b[0mos\u001b[0m\u001b[0;34m.\u001b[0m\u001b[0mpath\u001b[0m\u001b[0;34m.\u001b[0m\u001b[0mjoin\u001b[0m\u001b[0;34m(\u001b[0m\u001b[0mtensorboard_output\u001b[0m\u001b[0;34m,\u001b[0m \u001b[0;34m'final_model.h5'\u001b[0m\u001b[0;34m)\u001b[0m\u001b[0;34m)\u001b[0m\u001b[0;34m\u001b[0m\u001b[0;34m\u001b[0m\u001b[0m\n",
            "\u001b[0;32m/usr/local/lib/python3.7/dist-packages/keras/utils/traceback_utils.py\u001b[0m in \u001b[0;36merror_handler\u001b[0;34m(*args, **kwargs)\u001b[0m\n\u001b[1;32m     62\u001b[0m     \u001b[0mfiltered_tb\u001b[0m \u001b[0;34m=\u001b[0m \u001b[0;32mNone\u001b[0m\u001b[0;34m\u001b[0m\u001b[0;34m\u001b[0m\u001b[0m\n\u001b[1;32m     63\u001b[0m     \u001b[0;32mtry\u001b[0m\u001b[0;34m:\u001b[0m\u001b[0;34m\u001b[0m\u001b[0;34m\u001b[0m\u001b[0m\n\u001b[0;32m---> 64\u001b[0;31m       \u001b[0;32mreturn\u001b[0m \u001b[0mfn\u001b[0m\u001b[0;34m(\u001b[0m\u001b[0;34m*\u001b[0m\u001b[0margs\u001b[0m\u001b[0;34m,\u001b[0m \u001b[0;34m**\u001b[0m\u001b[0mkwargs\u001b[0m\u001b[0;34m)\u001b[0m\u001b[0;34m\u001b[0m\u001b[0;34m\u001b[0m\u001b[0m\n\u001b[0m\u001b[1;32m     65\u001b[0m     \u001b[0;32mexcept\u001b[0m \u001b[0mException\u001b[0m \u001b[0;32mas\u001b[0m \u001b[0me\u001b[0m\u001b[0;34m:\u001b[0m  \u001b[0;31m# pylint: disable=broad-except\u001b[0m\u001b[0;34m\u001b[0m\u001b[0;34m\u001b[0m\u001b[0m\n\u001b[1;32m     66\u001b[0m       \u001b[0mfiltered_tb\u001b[0m \u001b[0;34m=\u001b[0m \u001b[0m_process_traceback_frames\u001b[0m\u001b[0;34m(\u001b[0m\u001b[0me\u001b[0m\u001b[0;34m.\u001b[0m\u001b[0m__traceback__\u001b[0m\u001b[0;34m)\u001b[0m\u001b[0;34m\u001b[0m\u001b[0;34m\u001b[0m\u001b[0m\n",
            "\u001b[0;32m/usr/local/lib/python3.7/dist-packages/keras/engine/training.py\u001b[0m in \u001b[0;36mfit\u001b[0;34m(self, x, y, batch_size, epochs, verbose, callbacks, validation_split, validation_data, shuffle, class_weight, sample_weight, initial_epoch, steps_per_epoch, validation_steps, validation_batch_size, validation_freq, max_queue_size, workers, use_multiprocessing)\u001b[0m\n\u001b[1;32m   1387\u001b[0m               \u001b[0mlogs\u001b[0m \u001b[0;34m=\u001b[0m \u001b[0mtmp_logs\u001b[0m  \u001b[0;31m# No error, now safe to assign to logs.\u001b[0m\u001b[0;34m\u001b[0m\u001b[0;34m\u001b[0m\u001b[0m\n\u001b[1;32m   1388\u001b[0m               \u001b[0mend_step\u001b[0m \u001b[0;34m=\u001b[0m \u001b[0mstep\u001b[0m \u001b[0;34m+\u001b[0m \u001b[0mdata_handler\u001b[0m\u001b[0;34m.\u001b[0m\u001b[0mstep_increment\u001b[0m\u001b[0;34m\u001b[0m\u001b[0;34m\u001b[0m\u001b[0m\n\u001b[0;32m-> 1389\u001b[0;31m               \u001b[0mcallbacks\u001b[0m\u001b[0;34m.\u001b[0m\u001b[0mon_train_batch_end\u001b[0m\u001b[0;34m(\u001b[0m\u001b[0mend_step\u001b[0m\u001b[0;34m,\u001b[0m \u001b[0mlogs\u001b[0m\u001b[0;34m)\u001b[0m\u001b[0;34m\u001b[0m\u001b[0;34m\u001b[0m\u001b[0m\n\u001b[0m\u001b[1;32m   1390\u001b[0m               \u001b[0;32mif\u001b[0m \u001b[0mself\u001b[0m\u001b[0;34m.\u001b[0m\u001b[0mstop_training\u001b[0m\u001b[0;34m:\u001b[0m\u001b[0;34m\u001b[0m\u001b[0;34m\u001b[0m\u001b[0m\n\u001b[1;32m   1391\u001b[0m                 \u001b[0;32mbreak\u001b[0m\u001b[0;34m\u001b[0m\u001b[0;34m\u001b[0m\u001b[0m\n",
            "\u001b[0;32m/usr/local/lib/python3.7/dist-packages/keras/callbacks.py\u001b[0m in \u001b[0;36mon_train_batch_end\u001b[0;34m(self, batch, logs)\u001b[0m\n\u001b[1;32m    436\u001b[0m     \"\"\"\n\u001b[1;32m    437\u001b[0m     \u001b[0;32mif\u001b[0m \u001b[0mself\u001b[0m\u001b[0;34m.\u001b[0m\u001b[0m_should_call_train_batch_hooks\u001b[0m\u001b[0;34m:\u001b[0m\u001b[0;34m\u001b[0m\u001b[0;34m\u001b[0m\u001b[0m\n\u001b[0;32m--> 438\u001b[0;31m       \u001b[0mself\u001b[0m\u001b[0;34m.\u001b[0m\u001b[0m_call_batch_hook\u001b[0m\u001b[0;34m(\u001b[0m\u001b[0mModeKeys\u001b[0m\u001b[0;34m.\u001b[0m\u001b[0mTRAIN\u001b[0m\u001b[0;34m,\u001b[0m \u001b[0;34m'end'\u001b[0m\u001b[0;34m,\u001b[0m \u001b[0mbatch\u001b[0m\u001b[0;34m,\u001b[0m \u001b[0mlogs\u001b[0m\u001b[0;34m=\u001b[0m\u001b[0mlogs\u001b[0m\u001b[0;34m)\u001b[0m\u001b[0;34m\u001b[0m\u001b[0;34m\u001b[0m\u001b[0m\n\u001b[0m\u001b[1;32m    439\u001b[0m \u001b[0;34m\u001b[0m\u001b[0m\n\u001b[1;32m    440\u001b[0m   \u001b[0;32mdef\u001b[0m \u001b[0mon_test_batch_begin\u001b[0m\u001b[0;34m(\u001b[0m\u001b[0mself\u001b[0m\u001b[0;34m,\u001b[0m \u001b[0mbatch\u001b[0m\u001b[0;34m,\u001b[0m \u001b[0mlogs\u001b[0m\u001b[0;34m=\u001b[0m\u001b[0;32mNone\u001b[0m\u001b[0;34m)\u001b[0m\u001b[0;34m:\u001b[0m\u001b[0;34m\u001b[0m\u001b[0;34m\u001b[0m\u001b[0m\n",
            "\u001b[0;32m/usr/local/lib/python3.7/dist-packages/keras/callbacks.py\u001b[0m in \u001b[0;36m_call_batch_hook\u001b[0;34m(self, mode, hook, batch, logs)\u001b[0m\n\u001b[1;32m    295\u001b[0m       \u001b[0mself\u001b[0m\u001b[0;34m.\u001b[0m\u001b[0m_call_batch_begin_hook\u001b[0m\u001b[0;34m(\u001b[0m\u001b[0mmode\u001b[0m\u001b[0;34m,\u001b[0m \u001b[0mbatch\u001b[0m\u001b[0;34m,\u001b[0m \u001b[0mlogs\u001b[0m\u001b[0;34m)\u001b[0m\u001b[0;34m\u001b[0m\u001b[0;34m\u001b[0m\u001b[0m\n\u001b[1;32m    296\u001b[0m     \u001b[0;32melif\u001b[0m \u001b[0mhook\u001b[0m \u001b[0;34m==\u001b[0m \u001b[0;34m'end'\u001b[0m\u001b[0;34m:\u001b[0m\u001b[0;34m\u001b[0m\u001b[0;34m\u001b[0m\u001b[0m\n\u001b[0;32m--> 297\u001b[0;31m       \u001b[0mself\u001b[0m\u001b[0;34m.\u001b[0m\u001b[0m_call_batch_end_hook\u001b[0m\u001b[0;34m(\u001b[0m\u001b[0mmode\u001b[0m\u001b[0;34m,\u001b[0m \u001b[0mbatch\u001b[0m\u001b[0;34m,\u001b[0m \u001b[0mlogs\u001b[0m\u001b[0;34m)\u001b[0m\u001b[0;34m\u001b[0m\u001b[0;34m\u001b[0m\u001b[0m\n\u001b[0m\u001b[1;32m    298\u001b[0m     \u001b[0;32melse\u001b[0m\u001b[0;34m:\u001b[0m\u001b[0;34m\u001b[0m\u001b[0;34m\u001b[0m\u001b[0m\n\u001b[1;32m    299\u001b[0m       raise ValueError(\n",
            "\u001b[0;32m/usr/local/lib/python3.7/dist-packages/keras/callbacks.py\u001b[0m in \u001b[0;36m_call_batch_end_hook\u001b[0;34m(self, mode, batch, logs)\u001b[0m\n\u001b[1;32m    316\u001b[0m       \u001b[0mself\u001b[0m\u001b[0;34m.\u001b[0m\u001b[0m_batch_times\u001b[0m\u001b[0;34m.\u001b[0m\u001b[0mappend\u001b[0m\u001b[0;34m(\u001b[0m\u001b[0mbatch_time\u001b[0m\u001b[0;34m)\u001b[0m\u001b[0;34m\u001b[0m\u001b[0;34m\u001b[0m\u001b[0m\n\u001b[1;32m    317\u001b[0m \u001b[0;34m\u001b[0m\u001b[0m\n\u001b[0;32m--> 318\u001b[0;31m     \u001b[0mself\u001b[0m\u001b[0;34m.\u001b[0m\u001b[0m_call_batch_hook_helper\u001b[0m\u001b[0;34m(\u001b[0m\u001b[0mhook_name\u001b[0m\u001b[0;34m,\u001b[0m \u001b[0mbatch\u001b[0m\u001b[0;34m,\u001b[0m \u001b[0mlogs\u001b[0m\u001b[0;34m)\u001b[0m\u001b[0;34m\u001b[0m\u001b[0;34m\u001b[0m\u001b[0m\n\u001b[0m\u001b[1;32m    319\u001b[0m \u001b[0;34m\u001b[0m\u001b[0m\n\u001b[1;32m    320\u001b[0m     \u001b[0;32mif\u001b[0m \u001b[0mlen\u001b[0m\u001b[0;34m(\u001b[0m\u001b[0mself\u001b[0m\u001b[0;34m.\u001b[0m\u001b[0m_batch_times\u001b[0m\u001b[0;34m)\u001b[0m \u001b[0;34m>=\u001b[0m \u001b[0mself\u001b[0m\u001b[0;34m.\u001b[0m\u001b[0m_num_batches_for_timing_check\u001b[0m\u001b[0;34m:\u001b[0m\u001b[0;34m\u001b[0m\u001b[0;34m\u001b[0m\u001b[0m\n",
            "\u001b[0;32m/usr/local/lib/python3.7/dist-packages/keras/callbacks.py\u001b[0m in \u001b[0;36m_call_batch_hook_helper\u001b[0;34m(self, hook_name, batch, logs)\u001b[0m\n\u001b[1;32m    354\u001b[0m     \u001b[0;32mfor\u001b[0m \u001b[0mcallback\u001b[0m \u001b[0;32min\u001b[0m \u001b[0mself\u001b[0m\u001b[0;34m.\u001b[0m\u001b[0mcallbacks\u001b[0m\u001b[0;34m:\u001b[0m\u001b[0;34m\u001b[0m\u001b[0;34m\u001b[0m\u001b[0m\n\u001b[1;32m    355\u001b[0m       \u001b[0mhook\u001b[0m \u001b[0;34m=\u001b[0m \u001b[0mgetattr\u001b[0m\u001b[0;34m(\u001b[0m\u001b[0mcallback\u001b[0m\u001b[0;34m,\u001b[0m \u001b[0mhook_name\u001b[0m\u001b[0;34m)\u001b[0m\u001b[0;34m\u001b[0m\u001b[0;34m\u001b[0m\u001b[0m\n\u001b[0;32m--> 356\u001b[0;31m       \u001b[0mhook\u001b[0m\u001b[0;34m(\u001b[0m\u001b[0mbatch\u001b[0m\u001b[0;34m,\u001b[0m \u001b[0mlogs\u001b[0m\u001b[0;34m)\u001b[0m\u001b[0;34m\u001b[0m\u001b[0;34m\u001b[0m\u001b[0m\n\u001b[0m\u001b[1;32m    357\u001b[0m \u001b[0;34m\u001b[0m\u001b[0m\n\u001b[1;32m    358\u001b[0m     \u001b[0;32mif\u001b[0m \u001b[0mself\u001b[0m\u001b[0;34m.\u001b[0m\u001b[0m_check_timing\u001b[0m\u001b[0;34m:\u001b[0m\u001b[0;34m\u001b[0m\u001b[0;34m\u001b[0m\u001b[0m\n",
            "\u001b[0;32m/usr/local/lib/python3.7/dist-packages/keras/callbacks.py\u001b[0m in \u001b[0;36mon_train_batch_end\u001b[0;34m(self, batch, logs)\u001b[0m\n\u001b[1;32m   1032\u001b[0m \u001b[0;34m\u001b[0m\u001b[0m\n\u001b[1;32m   1033\u001b[0m   \u001b[0;32mdef\u001b[0m \u001b[0mon_train_batch_end\u001b[0m\u001b[0;34m(\u001b[0m\u001b[0mself\u001b[0m\u001b[0;34m,\u001b[0m \u001b[0mbatch\u001b[0m\u001b[0;34m,\u001b[0m \u001b[0mlogs\u001b[0m\u001b[0;34m=\u001b[0m\u001b[0;32mNone\u001b[0m\u001b[0;34m)\u001b[0m\u001b[0;34m:\u001b[0m\u001b[0;34m\u001b[0m\u001b[0;34m\u001b[0m\u001b[0m\n\u001b[0;32m-> 1034\u001b[0;31m     \u001b[0mself\u001b[0m\u001b[0;34m.\u001b[0m\u001b[0m_batch_update_progbar\u001b[0m\u001b[0;34m(\u001b[0m\u001b[0mbatch\u001b[0m\u001b[0;34m,\u001b[0m \u001b[0mlogs\u001b[0m\u001b[0;34m)\u001b[0m\u001b[0;34m\u001b[0m\u001b[0;34m\u001b[0m\u001b[0m\n\u001b[0m\u001b[1;32m   1035\u001b[0m \u001b[0;34m\u001b[0m\u001b[0m\n\u001b[1;32m   1036\u001b[0m   \u001b[0;32mdef\u001b[0m \u001b[0mon_test_batch_end\u001b[0m\u001b[0;34m(\u001b[0m\u001b[0mself\u001b[0m\u001b[0;34m,\u001b[0m \u001b[0mbatch\u001b[0m\u001b[0;34m,\u001b[0m \u001b[0mlogs\u001b[0m\u001b[0;34m=\u001b[0m\u001b[0;32mNone\u001b[0m\u001b[0;34m)\u001b[0m\u001b[0;34m:\u001b[0m\u001b[0;34m\u001b[0m\u001b[0;34m\u001b[0m\u001b[0m\n",
            "\u001b[0;32m/usr/local/lib/python3.7/dist-packages/keras/callbacks.py\u001b[0m in \u001b[0;36m_batch_update_progbar\u001b[0;34m(self, batch, logs)\u001b[0m\n\u001b[1;32m   1105\u001b[0m       \u001b[0;31m# Only block async when verbose = 1.\u001b[0m\u001b[0;34m\u001b[0m\u001b[0;34m\u001b[0m\u001b[0;34m\u001b[0m\u001b[0m\n\u001b[1;32m   1106\u001b[0m       \u001b[0mlogs\u001b[0m \u001b[0;34m=\u001b[0m \u001b[0mtf_utils\u001b[0m\u001b[0;34m.\u001b[0m\u001b[0msync_to_numpy_or_python_type\u001b[0m\u001b[0;34m(\u001b[0m\u001b[0mlogs\u001b[0m\u001b[0;34m)\u001b[0m\u001b[0;34m\u001b[0m\u001b[0;34m\u001b[0m\u001b[0m\n\u001b[0;32m-> 1107\u001b[0;31m       \u001b[0mself\u001b[0m\u001b[0;34m.\u001b[0m\u001b[0mprogbar\u001b[0m\u001b[0;34m.\u001b[0m\u001b[0mupdate\u001b[0m\u001b[0;34m(\u001b[0m\u001b[0mself\u001b[0m\u001b[0;34m.\u001b[0m\u001b[0mseen\u001b[0m\u001b[0;34m,\u001b[0m \u001b[0mlist\u001b[0m\u001b[0;34m(\u001b[0m\u001b[0mlogs\u001b[0m\u001b[0;34m.\u001b[0m\u001b[0mitems\u001b[0m\u001b[0;34m(\u001b[0m\u001b[0;34m)\u001b[0m\u001b[0;34m)\u001b[0m\u001b[0;34m,\u001b[0m \u001b[0mfinalize\u001b[0m\u001b[0;34m=\u001b[0m\u001b[0;32mFalse\u001b[0m\u001b[0;34m)\u001b[0m\u001b[0;34m\u001b[0m\u001b[0;34m\u001b[0m\u001b[0m\n\u001b[0m\u001b[1;32m   1108\u001b[0m \u001b[0;34m\u001b[0m\u001b[0m\n\u001b[1;32m   1109\u001b[0m   \u001b[0;32mdef\u001b[0m \u001b[0m_finalize_progbar\u001b[0m\u001b[0;34m(\u001b[0m\u001b[0mself\u001b[0m\u001b[0;34m,\u001b[0m \u001b[0mlogs\u001b[0m\u001b[0;34m,\u001b[0m \u001b[0mcounter\u001b[0m\u001b[0;34m)\u001b[0m\u001b[0;34m:\u001b[0m\u001b[0;34m\u001b[0m\u001b[0;34m\u001b[0m\u001b[0m\n",
            "\u001b[0;32m/usr/local/lib/python3.7/dist-packages/keras/utils/generic_utils.py\u001b[0m in \u001b[0;36mupdate\u001b[0;34m(self, current, values, finalize)\u001b[0m\n\u001b[1;32m    906\u001b[0m     \u001b[0mmessage\u001b[0m \u001b[0;34m=\u001b[0m \u001b[0;34m''\u001b[0m\u001b[0;34m\u001b[0m\u001b[0;34m\u001b[0m\u001b[0m\n\u001b[1;32m    907\u001b[0m     \u001b[0mnow\u001b[0m \u001b[0;34m=\u001b[0m \u001b[0mtime\u001b[0m\u001b[0;34m.\u001b[0m\u001b[0mtime\u001b[0m\u001b[0;34m(\u001b[0m\u001b[0;34m)\u001b[0m\u001b[0;34m\u001b[0m\u001b[0;34m\u001b[0m\u001b[0m\n\u001b[0;32m--> 908\u001b[0;31m     \u001b[0minfo\u001b[0m \u001b[0;34m=\u001b[0m \u001b[0;34m' - %.0fs'\u001b[0m \u001b[0;34m%\u001b[0m \u001b[0;34m(\u001b[0m\u001b[0mnow\u001b[0m \u001b[0;34m-\u001b[0m \u001b[0mself\u001b[0m\u001b[0;34m.\u001b[0m\u001b[0m_start\u001b[0m\u001b[0;34m)\u001b[0m\u001b[0;34m\u001b[0m\u001b[0;34m\u001b[0m\u001b[0m\n\u001b[0m\u001b[1;32m    909\u001b[0m     \u001b[0;32mif\u001b[0m \u001b[0mcurrent\u001b[0m \u001b[0;34m==\u001b[0m \u001b[0mself\u001b[0m\u001b[0;34m.\u001b[0m\u001b[0mtarget\u001b[0m\u001b[0;34m:\u001b[0m\u001b[0;34m\u001b[0m\u001b[0;34m\u001b[0m\u001b[0m\n\u001b[1;32m    910\u001b[0m       \u001b[0mself\u001b[0m\u001b[0;34m.\u001b[0m\u001b[0m_time_at_epoch_end\u001b[0m \u001b[0;34m=\u001b[0m \u001b[0mnow\u001b[0m\u001b[0;34m\u001b[0m\u001b[0;34m\u001b[0m\u001b[0m\n",
            "\u001b[0;31mKeyboardInterrupt\u001b[0m: "
          ]
        }
      ]
    },
    {
      "cell_type": "markdown",
      "metadata": {
        "id": "NLKOG55MErD0"
      },
      "source": [
        "## Training\n",
        "\n",
        "- For each example input generates an output.\n",
        "- The discriminator receives the `input_image` and the generated image as the first input. The second input is the `input_image` and the `target_image`.\n",
        "- Next, calculate the generator and the discriminator loss.\n",
        "- Then, calculate the gradients of loss with respect to both the generator and the discriminator variables(inputs) and apply those to the optimizer.\n",
        "- Finally, log the losses to TensorBoard."
      ]
    },
    {
      "cell_type": "code",
      "execution_count": 55,
      "metadata": {
        "colab": {
          "base_uri": "https://localhost:8080/"
        },
        "id": "xNNMDBNH12q-",
        "outputId": "ab9d5b5e-927a-4674-a20d-eb7cee89b1db"
      },
      "outputs": [
        {
          "output_type": "stream",
          "name": "stdout",
          "text": [
            "20220331-182508\n"
          ]
        }
      ],
      "source": [
        "log_dir=\"/content/drive/MyDrive/Colab Notebooks/logs_CB/\"\n",
        "if running_local:\n",
        "    log_dir = r'R:\\Bojechko\\TFRecords\\log_dir'\n",
        "print(datetime.datetime.now().strftime(\"%Y%m%d-%H%M%S\"))\n",
        "\n",
        "summary_writer = tf.summary.create_file_writer(\n",
        "  log_dir + \"GEN_simple\" + datetime.datetime.now().strftime(\"%Y%m%d-%H%M%S\"))"
      ]
    },
    {
      "cell_type": "code",
      "execution_count": 158,
      "metadata": {
        "id": "KBKUV2sKXDbY"
      },
      "outputs": [],
      "source": [
        "@tf.function\n",
        "def train_step(input_image, target, step):\n",
        "  with tf.GradientTape() as gen_tape, tf.GradientTape() as disc_tape:\n",
        "    # gen_output = generator(inputs=[inCT[tf.newaxis, ...],inPDOS[tf.newaxis, ...]], training=True)\n",
        "    gen_output = generator(input_image, training=True)\n",
        "    gen_l1_loss = generator_loss(gen_output, target)\n",
        "    \n",
        "\n",
        "  generator_gradients = gen_tape.gradient(gen_l1_loss,\n",
        "                                          generator.trainable_variables)\n",
        "  \n",
        "\n",
        "  generator_optimizer.apply_gradients(zip(generator_gradients,\n",
        "                                          generator.trainable_variables))\n",
        "  \n",
        "\n",
        "  with summary_writer.as_default():\n",
        "    tf.summary.scalar('gen_l1_loss', gen_l1_loss, step=step//500)"
      ]
    },
    {
      "cell_type": "code",
      "source": [
        "  input_image = example['input']\n",
        "  print(tf.shape(input))\n",
        "  target = example['rtimg']\n",
        "  gen_output = generator(input)"
      ],
      "metadata": {
        "colab": {
          "base_uri": "https://localhost:8080/"
        },
        "id": "VslwgflhapXV",
        "outputId": "c6eb356c-ece3-467e-fa30-89b6b4ad085c"
      },
      "execution_count": 146,
      "outputs": [
        {
          "output_type": "stream",
          "name": "stdout",
          "text": [
            "tf.Tensor([  1 256 256   3], shape=(4,), dtype=int32)\n"
          ]
        }
      ]
    },
    {
      "cell_type": "markdown",
      "metadata": {
        "id": "hx7s-vBHFKdh"
      },
      "source": [
        "The actual training loop. Since this tutorial can run of more than one dataset, and the datasets vary greatly in size the training loop is setup to work in steps instead of epochs.\n",
        "\n",
        "- Iterates over the number of steps.\n",
        "- Every 10 steps print a dot (`.`).\n",
        "- Every 1k steps: clear the display and run `generate_images` to show the progress.\n",
        "- Every 5k steps: save a checkpoint."
      ]
    },
    {
      "cell_type": "code",
      "execution_count": 130,
      "metadata": {
        "id": "GFyPlBWv1B5j"
      },
      "outputs": [],
      "source": [
        "def fit(train_ds, test_ds, steps):\n",
        "  iterator = iter(test_ds.take(1))\n",
        "  example = next(iterator)\n",
        "  ex_input = example['input']\n",
        "  rtimg = example['rtimg']\n",
        "  #rtimg = tf.squeeze(rtimg, axis=0)\n",
        "  start = time.time()\n",
        "  for step, (input_obj) in train_ds.repeat().take(steps).enumerate():\n",
        "    if (step) % 1000 == 0:\n",
        "      display.clear_output(wait=True)\n",
        "\n",
        "      if step != 0:\n",
        "        print(f'Time taken for 1000 steps: {time.time()-start} sec\\n')\n",
        "        start = time.time()\n",
        "\n",
        "      generate_images(generator, ex_input, rtimg)\n",
        "      print(f\"Step: {step//1000}k\")\n",
        "\n",
        "    input = input_obj['input']\n",
        "    target = input_obj['rtimg'] \n",
        "    train_step(input, target, step)\n",
        "\n",
        "    # Training step\n",
        "    if (step+1) % 100 == 0:\n",
        "      print('.', end='', flush=True)\n",
        "\n",
        "\n",
        "    # Save (checkpoint) the model every 5k steps\n",
        "    if (step + 1) % 5000 == 0:\n",
        "      checkpoint.save(file_prefix=checkpoint_prefix)"
      ]
    },
    {
      "cell_type": "code",
      "execution_count": null,
      "metadata": {
        "id": "1Ht-o-Cudvix"
      },
      "outputs": [],
      "source": [
        "# def fit_new(train_generator, validation_generator, steps):\n",
        "#     validation_iterator = iter(validation_generator.data_set)\n",
        "#     train_iterator = iter(train_generator.data_set)\n",
        "#     for step in range(steps):\n",
        "#       if step % 1000 == 0:\n",
        "#           x, y = next(validation_iterator)\n",
        "#           generate_images(generator, x[0], y[0])\n",
        "#       x, y = next(train_iterator)\n",
        "#       input_image = x[0]\n",
        "#       target_image = y[0]\n",
        "#       train_step(input_image, target_image, step)\n",
        "#       # Training step\n",
        "#       if (step+1) % 100 == 0:\n",
        "#           print('.', end='', flush=True)\n",
        "#           print(step)\n",
        "#       # Save (checkpoint) the model every 5k steps\n",
        "#       if (step + 1) % 100 == 0:\n",
        "#           checkpoint.save(file_prefix=checkpoint_prefix)"
      ]
    },
    {
      "cell_type": "markdown",
      "metadata": {
        "id": "wozqyTh2wmCu"
      },
      "source": [
        "This training loop saves logs that you can view in TensorBoard to monitor the training progress.\n",
        "\n",
        "If you work on a local machine, you would launch a separate TensorBoard process. When working in a notebook, launch the viewer before starting the training to monitor with TensorBoard.\n",
        "\n",
        "To launch the viewer paste the following into a code-cell:"
      ]
    },
    {
      "cell_type": "markdown",
      "metadata": {
        "id": "Pe0-8Bzg22ox"
      },
      "source": [
        "Finally, run the training loop:"
      ]
    },
    {
      "cell_type": "code",
      "execution_count": null,
      "metadata": {
        "id": "p8cubdGG_X_w"
      },
      "outputs": [],
      "source": [
        "#checkpoint.restore(tf.train.latest_checkpoint(checkpoint_dir))"
      ]
    },
    {
      "cell_type": "code",
      "execution_count": 150,
      "metadata": {
        "colab": {
          "base_uri": "https://localhost:8080/",
          "height": 971
        },
        "id": "a1zZmKmvOH85",
        "outputId": "1f3e16f9-0c1f-4bb5-efb0-a0fa2379fb3a"
      },
      "outputs": [
        {
          "output_type": "stream",
          "name": "stdout",
          "text": [
            "Time taken for 1000 steps: 5.743096113204956 sec\n",
            "\n"
          ]
        },
        {
          "output_type": "display_data",
          "data": {
            "text/plain": [
              "<Figure size 720x720 with 4 Axes>"
            ],
            "image/png": "[encoded data removed]"
          },
          "metadata": {
            "needs_background": "light"
          }
        },
        {
          "output_type": "stream",
          "name": "stdout",
          "text": [
            "Step: 3k\n",
            "...."
          ]
        },
        {
          "output_type": "error",
          "ename": "KeyboardInterrupt",
          "evalue": "ignored",
          "traceback": [
            "\u001b[0;31m---------------------------------------------------------------------------\u001b[0m",
            "\u001b[0;31mKeyboardInterrupt\u001b[0m                         Traceback (most recent call last)",
            "\u001b[0;32m<ipython-input-150-3d64e795af4a>\u001b[0m in \u001b[0;36m<module>\u001b[0;34m()\u001b[0m\n\u001b[0;32m----> 1\u001b[0;31m \u001b[0mfit\u001b[0m\u001b[0;34m(\u001b[0m\u001b[0mtrain_dataset\u001b[0m\u001b[0;34m,\u001b[0m \u001b[0mvalid_dataset\u001b[0m\u001b[0;34m,\u001b[0m \u001b[0msteps\u001b[0m\u001b[0;34m=\u001b[0m\u001b[0;36m10000\u001b[0m\u001b[0;34m)\u001b[0m\u001b[0;34m\u001b[0m\u001b[0;34m\u001b[0m\u001b[0m\n\u001b[0m",
            "\u001b[0;32m<ipython-input-130-6aec3e0f3aab>\u001b[0m in \u001b[0;36mfit\u001b[0;34m(train_ds, test_ds, steps)\u001b[0m\n\u001b[1;32m     19\u001b[0m     \u001b[0minput\u001b[0m \u001b[0;34m=\u001b[0m \u001b[0minput_obj\u001b[0m\u001b[0;34m[\u001b[0m\u001b[0;34m'input'\u001b[0m\u001b[0;34m]\u001b[0m\u001b[0;34m\u001b[0m\u001b[0;34m\u001b[0m\u001b[0m\n\u001b[1;32m     20\u001b[0m     \u001b[0mtarget\u001b[0m \u001b[0;34m=\u001b[0m \u001b[0minput_obj\u001b[0m\u001b[0;34m[\u001b[0m\u001b[0;34m'rtimg'\u001b[0m\u001b[0;34m]\u001b[0m\u001b[0;34m\u001b[0m\u001b[0;34m\u001b[0m\u001b[0m\n\u001b[0;32m---> 21\u001b[0;31m     \u001b[0mtrain_step\u001b[0m\u001b[0;34m(\u001b[0m\u001b[0minput\u001b[0m\u001b[0;34m,\u001b[0m \u001b[0mtarget\u001b[0m\u001b[0;34m,\u001b[0m \u001b[0mstep\u001b[0m\u001b[0;34m)\u001b[0m\u001b[0;34m\u001b[0m\u001b[0;34m\u001b[0m\u001b[0m\n\u001b[0m\u001b[1;32m     22\u001b[0m \u001b[0;34m\u001b[0m\u001b[0m\n\u001b[1;32m     23\u001b[0m     \u001b[0;31m# Training step\u001b[0m\u001b[0;34m\u001b[0m\u001b[0;34m\u001b[0m\u001b[0;34m\u001b[0m\u001b[0m\n",
            "\u001b[0;32m/usr/local/lib/python3.7/dist-packages/tensorflow/python/util/traceback_utils.py\u001b[0m in \u001b[0;36merror_handler\u001b[0;34m(*args, **kwargs)\u001b[0m\n\u001b[1;32m    148\u001b[0m     \u001b[0mfiltered_tb\u001b[0m \u001b[0;34m=\u001b[0m \u001b[0;32mNone\u001b[0m\u001b[0;34m\u001b[0m\u001b[0;34m\u001b[0m\u001b[0m\n\u001b[1;32m    149\u001b[0m     \u001b[0;32mtry\u001b[0m\u001b[0;34m:\u001b[0m\u001b[0;34m\u001b[0m\u001b[0;34m\u001b[0m\u001b[0m\n\u001b[0;32m--> 150\u001b[0;31m       \u001b[0;32mreturn\u001b[0m \u001b[0mfn\u001b[0m\u001b[0;34m(\u001b[0m\u001b[0;34m*\u001b[0m\u001b[0margs\u001b[0m\u001b[0;34m,\u001b[0m \u001b[0;34m**\u001b[0m\u001b[0mkwargs\u001b[0m\u001b[0;34m)\u001b[0m\u001b[0;34m\u001b[0m\u001b[0;34m\u001b[0m\u001b[0m\n\u001b[0m\u001b[1;32m    151\u001b[0m     \u001b[0;32mexcept\u001b[0m \u001b[0mException\u001b[0m \u001b[0;32mas\u001b[0m \u001b[0me\u001b[0m\u001b[0;34m:\u001b[0m\u001b[0;34m\u001b[0m\u001b[0;34m\u001b[0m\u001b[0m\n\u001b[1;32m    152\u001b[0m       \u001b[0mfiltered_tb\u001b[0m \u001b[0;34m=\u001b[0m \u001b[0m_process_traceback_frames\u001b[0m\u001b[0;34m(\u001b[0m\u001b[0me\u001b[0m\u001b[0;34m.\u001b[0m\u001b[0m__traceback__\u001b[0m\u001b[0;34m)\u001b[0m\u001b[0;34m\u001b[0m\u001b[0;34m\u001b[0m\u001b[0m\n",
            "\u001b[0;32m/usr/local/lib/python3.7/dist-packages/tensorflow/python/eager/def_function.py\u001b[0m in \u001b[0;36m__call__\u001b[0;34m(self, *args, **kwds)\u001b[0m\n\u001b[1;32m    913\u001b[0m \u001b[0;34m\u001b[0m\u001b[0m\n\u001b[1;32m    914\u001b[0m       \u001b[0;32mwith\u001b[0m \u001b[0mOptionalXlaContext\u001b[0m\u001b[0;34m(\u001b[0m\u001b[0mself\u001b[0m\u001b[0;34m.\u001b[0m\u001b[0m_jit_compile\u001b[0m\u001b[0;34m)\u001b[0m\u001b[0;34m:\u001b[0m\u001b[0;34m\u001b[0m\u001b[0;34m\u001b[0m\u001b[0m\n\u001b[0;32m--> 915\u001b[0;31m         \u001b[0mresult\u001b[0m \u001b[0;34m=\u001b[0m \u001b[0mself\u001b[0m\u001b[0;34m.\u001b[0m\u001b[0m_call\u001b[0m\u001b[0;34m(\u001b[0m\u001b[0;34m*\u001b[0m\u001b[0margs\u001b[0m\u001b[0;34m,\u001b[0m \u001b[0;34m**\u001b[0m\u001b[0mkwds\u001b[0m\u001b[0;34m)\u001b[0m\u001b[0;34m\u001b[0m\u001b[0;34m\u001b[0m\u001b[0m\n\u001b[0m\u001b[1;32m    916\u001b[0m \u001b[0;34m\u001b[0m\u001b[0m\n\u001b[1;32m    917\u001b[0m       \u001b[0mnew_tracing_count\u001b[0m \u001b[0;34m=\u001b[0m \u001b[0mself\u001b[0m\u001b[0;34m.\u001b[0m\u001b[0mexperimental_get_tracing_count\u001b[0m\u001b[0;34m(\u001b[0m\u001b[0;34m)\u001b[0m\u001b[0;34m\u001b[0m\u001b[0;34m\u001b[0m\u001b[0m\n",
            "\u001b[0;32m/usr/local/lib/python3.7/dist-packages/tensorflow/python/eager/def_function.py\u001b[0m in \u001b[0;36m_call\u001b[0;34m(self, *args, **kwds)\u001b[0m\n\u001b[1;32m    952\u001b[0m       \u001b[0;31m# In this case we have not created variables on the first call. So we can\u001b[0m\u001b[0;34m\u001b[0m\u001b[0;34m\u001b[0m\u001b[0;34m\u001b[0m\u001b[0m\n\u001b[1;32m    953\u001b[0m       \u001b[0;31m# run the first trace but we should fail if variables are created.\u001b[0m\u001b[0;34m\u001b[0m\u001b[0;34m\u001b[0m\u001b[0;34m\u001b[0m\u001b[0m\n\u001b[0;32m--> 954\u001b[0;31m       \u001b[0mresults\u001b[0m \u001b[0;34m=\u001b[0m \u001b[0mself\u001b[0m\u001b[0;34m.\u001b[0m\u001b[0m_stateful_fn\u001b[0m\u001b[0;34m(\u001b[0m\u001b[0;34m*\u001b[0m\u001b[0margs\u001b[0m\u001b[0;34m,\u001b[0m \u001b[0;34m**\u001b[0m\u001b[0mkwds\u001b[0m\u001b[0;34m)\u001b[0m\u001b[0;34m\u001b[0m\u001b[0;34m\u001b[0m\u001b[0m\n\u001b[0m\u001b[1;32m    955\u001b[0m       \u001b[0;32mif\u001b[0m \u001b[0mself\u001b[0m\u001b[0;34m.\u001b[0m\u001b[0m_created_variables\u001b[0m \u001b[0;32mand\u001b[0m \u001b[0;32mnot\u001b[0m \u001b[0mALLOW_DYNAMIC_VARIABLE_CREATION\u001b[0m\u001b[0;34m:\u001b[0m\u001b[0;34m\u001b[0m\u001b[0;34m\u001b[0m\u001b[0m\n\u001b[1;32m    956\u001b[0m         raise ValueError(\"Creating variables on a non-first call to a function\"\n",
            "\u001b[0;32m/usr/local/lib/python3.7/dist-packages/tensorflow/python/eager/function.py\u001b[0m in \u001b[0;36m__call__\u001b[0;34m(self, *args, **kwargs)\u001b[0m\n\u001b[1;32m   2955\u001b[0m        filtered_flat_args) = self._maybe_define_function(args, kwargs)\n\u001b[1;32m   2956\u001b[0m     return graph_function._call_flat(\n\u001b[0;32m-> 2957\u001b[0;31m         filtered_flat_args, captured_inputs=graph_function.captured_inputs)  # pylint: disable=protected-access\n\u001b[0m\u001b[1;32m   2958\u001b[0m \u001b[0;34m\u001b[0m\u001b[0m\n\u001b[1;32m   2959\u001b[0m   \u001b[0;34m@\u001b[0m\u001b[0mproperty\u001b[0m\u001b[0;34m\u001b[0m\u001b[0;34m\u001b[0m\u001b[0m\n",
            "\u001b[0;32m/usr/local/lib/python3.7/dist-packages/tensorflow/python/eager/function.py\u001b[0m in \u001b[0;36m_call_flat\u001b[0;34m(self, args, captured_inputs, cancellation_manager)\u001b[0m\n\u001b[1;32m   1852\u001b[0m       \u001b[0;31m# No tape is watching; skip to running the function.\u001b[0m\u001b[0;34m\u001b[0m\u001b[0;34m\u001b[0m\u001b[0;34m\u001b[0m\u001b[0m\n\u001b[1;32m   1853\u001b[0m       return self._build_call_outputs(self._inference_function.call(\n\u001b[0;32m-> 1854\u001b[0;31m           ctx, args, cancellation_manager=cancellation_manager))\n\u001b[0m\u001b[1;32m   1855\u001b[0m     forward_backward = self._select_forward_and_backward_functions(\n\u001b[1;32m   1856\u001b[0m         \u001b[0margs\u001b[0m\u001b[0;34m,\u001b[0m\u001b[0;34m\u001b[0m\u001b[0;34m\u001b[0m\u001b[0m\n",
            "\u001b[0;32m/usr/local/lib/python3.7/dist-packages/tensorflow/python/eager/function.py\u001b[0m in \u001b[0;36mcall\u001b[0;34m(self, ctx, args, cancellation_manager)\u001b[0m\n\u001b[1;32m    502\u001b[0m               \u001b[0minputs\u001b[0m\u001b[0;34m=\u001b[0m\u001b[0margs\u001b[0m\u001b[0;34m,\u001b[0m\u001b[0;34m\u001b[0m\u001b[0;34m\u001b[0m\u001b[0m\n\u001b[1;32m    503\u001b[0m               \u001b[0mattrs\u001b[0m\u001b[0;34m=\u001b[0m\u001b[0mattrs\u001b[0m\u001b[0;34m,\u001b[0m\u001b[0;34m\u001b[0m\u001b[0;34m\u001b[0m\u001b[0m\n\u001b[0;32m--> 504\u001b[0;31m               ctx=ctx)\n\u001b[0m\u001b[1;32m    505\u001b[0m         \u001b[0;32melse\u001b[0m\u001b[0;34m:\u001b[0m\u001b[0;34m\u001b[0m\u001b[0;34m\u001b[0m\u001b[0m\n\u001b[1;32m    506\u001b[0m           outputs = execute.execute_with_cancellation(\n",
            "\u001b[0;32m/usr/local/lib/python3.7/dist-packages/tensorflow/python/eager/execute.py\u001b[0m in \u001b[0;36mquick_execute\u001b[0;34m(op_name, num_outputs, inputs, attrs, ctx, name)\u001b[0m\n\u001b[1;32m     53\u001b[0m     \u001b[0mctx\u001b[0m\u001b[0;34m.\u001b[0m\u001b[0mensure_initialized\u001b[0m\u001b[0;34m(\u001b[0m\u001b[0;34m)\u001b[0m\u001b[0;34m\u001b[0m\u001b[0;34m\u001b[0m\u001b[0m\n\u001b[1;32m     54\u001b[0m     tensors = pywrap_tfe.TFE_Py_Execute(ctx._handle, device_name, op_name,\n\u001b[0;32m---> 55\u001b[0;31m                                         inputs, attrs, num_outputs)\n\u001b[0m\u001b[1;32m     56\u001b[0m   \u001b[0;32mexcept\u001b[0m \u001b[0mcore\u001b[0m\u001b[0;34m.\u001b[0m\u001b[0m_NotOkStatusException\u001b[0m \u001b[0;32mas\u001b[0m \u001b[0me\u001b[0m\u001b[0;34m:\u001b[0m\u001b[0;34m\u001b[0m\u001b[0;34m\u001b[0m\u001b[0m\n\u001b[1;32m     57\u001b[0m     \u001b[0;32mif\u001b[0m \u001b[0mname\u001b[0m \u001b[0;32mis\u001b[0m \u001b[0;32mnot\u001b[0m \u001b[0;32mNone\u001b[0m\u001b[0;34m:\u001b[0m\u001b[0;34m\u001b[0m\u001b[0;34m\u001b[0m\u001b[0m\n",
            "\u001b[0;31mKeyboardInterrupt\u001b[0m: "
          ]
        }
      ],
      "source": [
        "fit(train_dataset, valid_dataset, steps=10000)"
      ]
    },
    {
      "cell_type": "code",
      "source": [
        "train_dataset"
      ],
      "metadata": {
        "colab": {
          "base_uri": "https://localhost:8080/"
        },
        "id": "AoTppoZoOkFD",
        "outputId": "87740974-3e15-42b8-e28f-ae9b8e76b97d"
      },
      "execution_count": 58,
      "outputs": [
        {
          "output_type": "execute_result",
          "data": {
            "text/plain": [
              "<BatchDataset element_spec={'input': TensorSpec(shape=(None, 256, 256, 3), dtype=tf.float32, name=None), 'rtimg': TensorSpec(shape=(None, 256, 256, 1), dtype=tf.float32, name=None)}>"
            ]
          },
          "metadata": {},
          "execution_count": 58
        }
      ]
    },
    {
      "cell_type": "code",
      "source": [
        "%reload_ext tensorboard"
      ],
      "metadata": {
        "id": "o4PQNHvHPs_o"
      },
      "execution_count": null,
      "outputs": []
    },
    {
      "cell_type": "code",
      "execution_count": null,
      "metadata": {
        "id": "Ot22ujrlLhOd"
      },
      "outputs": [],
      "source": [
        "#docs_infra: no_execute'\n",
        "\n",
        "%tensorboard --logdir '/content/drive/MyDrive/Colab Notebooks/logs_CB/'"
      ]
    },
    {
      "cell_type": "markdown",
      "metadata": {
        "id": "oeq9sByu86-B"
      },
      "source": [
        "If you want to share the TensorBoard results _publicly_, you can upload the logs to [TensorBoard.dev](https://tensorboard.dev/) by copying the following into a code-cell.\n",
        "\n",
        "Note: This requires a Google account.\n",
        "\n",
        "```\n",
        "!tensorboard dev upload --logdir {log_dir}\n",
        "```"
      ]
    },
    {
      "cell_type": "markdown",
      "metadata": {
        "id": "l-kT7WHRKz-E"
      },
      "source": [
        "Caution: This command does not terminate. It's designed to continuously upload the results of long-running experiments. Once your data is uploaded you need to stop it using the \"interrupt execution\" option in your notebook tool."
      ]
    },
    {
      "cell_type": "markdown",
      "metadata": {
        "id": "-lGhS_LfwQoL"
      },
      "source": [
        "You can view the [results of a previous run](https://tensorboard.dev/experiment/lZ0C6FONROaUMfjYkVyJqw) of this notebook on [TensorBoard.dev](https://tensorboard.dev/).\n",
        "\n",
        "TensorBoard.dev is a managed experience for hosting, tracking, and sharing ML experiments with everyone.\n",
        "\n",
        "It can also included inline using an `<iframe>`:"
      ]
    },
    {
      "cell_type": "code",
      "execution_count": null,
      "metadata": {
        "id": "8IS4c93guQ8E"
      },
      "outputs": [],
      "source": [
        "# display.IFrame(\n",
        "#     src=\"https://tensorboard.dev/experiment/lZ0C6FONROaUMfjYkVyJqw\",\n",
        "#     width=\"100%\",\n",
        "#     height=\"1000px\")"
      ]
    },
    {
      "cell_type": "markdown",
      "metadata": {
        "id": "DMTm4peo3cem"
      },
      "source": [
        "Interpreting the logs is more subtle when training a GAN (or a cGAN like pix2pix) compared to a simple classification or regression model. Things to look for:\n",
        "\n",
        "- Check that neither the generator nor the discriminator model has \"won\". If either the `gen_gan_loss` or the `disc_loss` gets very low, it's an indicator that this model is dominating the other, and you are not successfully training the combined model.\n",
        "- The value `log(2) = 0.69` is a good reference point for these losses, as it indicates a perplexity of 2 - the discriminator is, on average, equally uncertain about the two options.\n",
        "- For the `disc_loss`, a value below `0.69` means the discriminator is doing better than random on the combined set of real and generated images.\n",
        "- For the `gen_gan_loss`, a value below `0.69` means the generator is doing better than random at fooling the discriminator.\n",
        "- As training progresses, the `gen_l1_loss` should go down."
      ]
    },
    {
      "cell_type": "markdown",
      "metadata": {
        "id": "kz80bY3aQ1VZ"
      },
      "source": [
        "## Restore the latest checkpoint and test the network"
      ]
    },
    {
      "cell_type": "code",
      "execution_count": null,
      "metadata": {
        "id": "HSSm4kfvJiqv"
      },
      "outputs": [],
      "source": [
        "#os.listdir(checkpoint_dir)\n",
        "#os.listdir(log_dir + '/fit')"
      ]
    },
    {
      "cell_type": "code",
      "execution_count": null,
      "metadata": {
        "id": "4t4x69adQ5xb"
      },
      "outputs": [],
      "source": [
        "#Restoring the latest checkpoint in checkpoint_dir\n",
        "#checkpoint.restore(tf.train.latest_checkpoint(checkpoint_dir))"
      ]
    },
    {
      "cell_type": "markdown",
      "metadata": {
        "id": "1RGysMU_BZhx"
      },
      "source": [
        "## Generate some images using the test set"
      ]
    },
    {
      "cell_type": "code",
      "execution_count": null,
      "metadata": {
        "id": "g6yulOFllIh2"
      },
      "outputs": [],
      "source": [
        "generator.save('/content/drive/MyDrive/Colab Notebooks/cb_models/GEN_relu_2k_fold1.h5')"
      ]
    },
    {
      "cell_type": "code",
      "execution_count": 20,
      "metadata": {
        "id": "Wtd3ZA-eI_ap"
      },
      "outputs": [],
      "source": [
        "gamma_options = {\n",
        "    'dose_percent_threshold': 3,  # Try with 2%/2mm \n",
        "    'distance_mm_threshold': 3,\n",
        "    'lower_percent_dose_cutoff': 10,\n",
        "    'interp_fraction': 20,  # Should be 10 or more, see the paper referenced above\n",
        "    'max_gamma': 2,\n",
        "    'random_subset': None,  # Can be used to get quick pass rates\n",
        "    'local_gamma': False,  # Change to false for global gamma\n",
        "    'ram_available': 2**29  # 1/2 GB\n",
        "}"
      ]
    },
    {
      "cell_type": "code",
      "execution_count": 21,
      "metadata": {
        "id": "pcxutIrdJF7U"
      },
      "outputs": [],
      "source": [
        "xepidmin = -256\n",
        "xepidmax = 256\n",
        "yepidmin = -256\n",
        "yepidmax = 256\n",
        "grid = 2\n",
        "xepid = np.arange(xepidmin,xepidmax,grid)\n",
        "yepid = np.arange(yepidmin,yepidmax,grid)\n",
        "coords = (yepid,xepid)"
      ]
    },
    {
      "cell_type": "code",
      "execution_count": 161,
      "metadata": {
        "id": "WTyCBjAV1vJZ"
      },
      "outputs": [],
      "source": [
        "# testfiles = tf.io.gfile.glob('/content/drive/My Drive/train/nifti/fold4/12_4_35.*')\n",
        "# valid_data = load_data(testfiles, tf.estimator.ModeKeys.TRAIN, '/content/drive/My Drive/train/nifti/fold1')\n",
        "\n",
        "# valid_dataset = tf.data.Dataset.from_tensor_slices((valid_data))\n",
        "# valid_dataset = valid_dataset.batch(BATCH_SIZE)"
      ]
    },
    {
      "cell_type": "code",
      "execution_count": 37,
      "metadata": {
        "id": "TPwaQHAcHiLr",
        "colab": {
          "base_uri": "https://localhost:8080/",
          "height": 751
        },
        "outputId": "a1fea858-9370-4a15-bc97-9d4f7bd86bd7"
      },
      "outputs": [
        {
          "output_type": "stream",
          "name": "stdout",
          "text": [
            "Calcing using global normalisation point for gamma\n",
            "Global normalisation set to 0.7310736775398254\n",
            "Global dose threshold set to [0.02193221] ([3]% of normalisation)\n",
            "Distance threshold set to [3]\n",
            "Lower dose cutoff set to 0.07310736775398255 (10% of normalisation)\n",
            "\n",
            "Current distance: 5.85 mm | Number of reference points remaining: 127 | Points tested per reference point: 247 | RAM split count: 1\n",
            "Complete!\n"
          ]
        },
        {
          "output_type": "execute_result",
          "data": {
            "text/plain": [
              "Text(0.5, 1.0, 'Local Gamma (3%/3mm) | Percent Pass: 88.97 %')"
            ]
          },
          "metadata": {},
          "execution_count": 37
        },
        {
          "output_type": "display_data",
          "data": {
            "text/plain": [
              "<Figure size 720x720 with 4 Axes>"
            ],
            "image/png": "[encoded data removed]"
          },
          "metadata": {
            "needs_background": "light"
          }
        }
      ],
      "source": [
        "example = next(iter(valid_dataset))\n",
        "\n",
        "input = example['input']\n",
        "#print(tf.shape(cbct_input))\n",
        "tar = example['rtimg']\n",
        "prediction = generator(input, training=True) \n",
        "#prediction = generator(input)\n",
        "\n",
        "diff = tf.subtract(tar,prediction)\n",
        "diff = tf.squeeze(diff, axis=0)\n",
        "diffvec = diff[120,1:256]\n",
        "tar = tf.squeeze(tar, axis=0)\n",
        "tar = tf.squeeze(tar, axis=-1)\n",
        "rtimage = tar\n",
        "\n",
        "prediction = tf.squeeze(prediction, axis=0)\n",
        "prediction = tf.squeeze(prediction, axis=-1)\n",
        "prediction = prediction \n",
        "\n",
        "inp = tf.squeeze(input,axis=0)\n",
        "inslice = getinput(inp,1)\n",
        "\n",
        "plt.figure(figsize=(10, 10))\n",
        "  \n",
        "plt.subplot(2, 2, 1)\n",
        "plt.imshow(inslice,alpha=0.8) \n",
        "plt.imshow(rtimage,alpha=0.5)\n",
        "plt.subplot(2, 2, 2)\n",
        "plt.imshow(prediction)\n",
        "  \n",
        "predvec = prediction[128,1:256]\n",
        "rtvec = rtimage[128,1:256]\n",
        "  \n",
        "#predvec = prediction[1:256,128]\n",
        "#rtvec = rtimage[1:256,128]\n",
        "\n",
        "plt.subplot(2, 2, 3)\n",
        "plt.plot(rtvec,'g')\n",
        "plt.title(\"Meas RT IMG (Green)\")\n",
        "plt.plot(predvec,'b')\n",
        "#print(str(example[\"fname\"]))\n",
        "\n",
        "gamma_test = pymedphys.gamma(coords,rtimage, coords, prediction, **gamma_options)\n",
        "valid_gamma = gamma_test[~np.isnan(gamma_test)]\n",
        "\n",
        "num_bins = (\n",
        "    gamma_options['interp_fraction'] * gamma_options['max_gamma'])\n",
        "bins = np.linspace(0, gamma_options['max_gamma'], num_bins + 1)\n",
        "\n",
        "#gamma_no_noise = pymedphys.gamma(coords, rtimage, coords, prediction,**gamma_options)\n",
        "plt.subplot(2, 2, 4)\n",
        "\n",
        "plt.imshow( gamma_test, clim=(0, 2), cmap='coolwarm')\n",
        "\n",
        "# plt.hist(valid_gamma, bins, density=True)\n",
        "# plt.xlim([0, gamma_options['max_gamma']])\n",
        "pass_ratio = np.sum(valid_gamma <= 1) / len(valid_gamma)\n",
        "plt.title(f\"Local Gamma ({gamma_options['dose_percent_threshold']}%/{gamma_options['distance_mm_threshold']}mm) | Percent Pass: {pass_ratio*100:.2f} %\")"
      ]
    },
    {
      "cell_type": "code",
      "execution_count": 35,
      "metadata": {
        "id": "ck1o0QAY71Zv",
        "colab": {
          "base_uri": "https://localhost:8080/",
          "height": 286
        },
        "outputId": "b65093ef-b3ff-4582-9cbc-85b70446e80a"
      },
      "outputs": [
        {
          "output_type": "execute_result",
          "data": {
            "text/plain": [
              "<matplotlib.image.AxesImage at 0x7febe343d590>"
            ]
          },
          "metadata": {},
          "execution_count": 35
        },
        {
          "output_type": "display_data",
          "data": {
            "text/plain": [
              "<Figure size 432x288 with 1 Axes>"
            ],
            "image/png": "[encoded data removed]"
          },
          "metadata": {
            "needs_background": "light"
          }
        }
      ],
      "source": [
        "plt.imshow(gamma_test)"
      ]
    },
    {
      "cell_type": "code",
      "execution_count": 38,
      "metadata": {
        "id": "ELlbbPKP0oQA",
        "colab": {
          "base_uri": "https://localhost:8080/",
          "height": 1000
        },
        "outputId": "49d8e18d-3380-478c-e5f5-cb378f7ff5ee"
      },
      "outputs": [
        {
          "output_type": "stream",
          "name": "stdout",
          "text": [
            "0.8662372110647972\n",
            "0.7469019902365753\n",
            "0.7587476979742173\n",
            "0.9600570613409415\n",
            "0.6081784386617101\n",
            "0.6314606741573033\n",
            "0.9117936117936118\n",
            "0.8667276608722171\n",
            "0.5360253365003959\n",
            "0.7684365781710915\n",
            "0.9741219963031423\n",
            "0.9316881258941345\n",
            "0.7966463414634146\n",
            "0.5664739884393064\n",
            "0.9372230428360414\n",
            "0.81171702284451\n",
            "0.9256689791873142\n",
            "0.9842721287490855\n",
            "0.8788796366389099\n",
            "0.9314024390243902\n",
            "0.8897325850115549\n",
            "0.9603174603174603\n",
            "0.9172489885987496\n",
            "0.8209996568683519\n",
            "0.8502859985078338\n",
            "0.9293827836321336\n",
            "0.532806324110672\n",
            "0.9158943466172382\n",
            "0.8790375741595253\n",
            "0.7465728047424972\n",
            "0.9348474420738702\n",
            "0.9036621577037282\n",
            "0.41072858286629305\n",
            "0.8707010582010583\n",
            "0.9298500241896468\n",
            "0.8772403633685244\n",
            "0.8698511595707857\n",
            "0.9409293129016313\n",
            "0.9292604501607717\n",
            "0.7549342105263158\n",
            "0.9608111811455193\n",
            "0.662429906542056\n",
            "0.5058981233243968\n",
            "0.4538310412573674\n",
            "0.7437242412888723\n",
            "0.8551724137931035\n",
            "0.6836009174311927\n",
            "0.9871106337271751\n",
            "0.5188070929607738\n",
            "0.8600988619381538\n",
            "0.5808012906695348\n",
            "0.9539282250242483\n",
            "0.8963828183873399\n",
            "0.9573820395738204\n",
            "0.9637495422922007\n",
            "0.8843490304709142\n",
            "0.9578908824606371\n",
            "0.9507633062852427\n",
            "0.5358550039401103\n",
            "0.9849284099472494\n",
            "0.9405008040431886\n",
            "0.6613854089904201\n",
            "0.7957227138643068\n",
            "0.8375843531968432\n",
            "0.921832884097035\n",
            "0.9392737259688739\n",
            "0.8590857574612769\n",
            "0.7373637264618434\n",
            "0.8930041152263375\n",
            "0.7438870393755023\n",
            "0.8292598967297763\n",
            "0.8506379784838629\n",
            "0.886001386001386\n",
            "0.9038841342988808\n",
            "0.8206987475280159\n",
            "0.8485585272664119\n",
            "0.8406466512702079\n",
            "0.9121756487025948\n",
            "0.9831921289969937\n",
            "0.6302035855363112\n",
            "0.9675\n",
            "0.9542653703957278\n",
            "0.8223644119439366\n",
            "0.9654916512059369\n",
            "0.980754716981132\n",
            "0.9808541973490427\n",
            "0.7521013241220496\n",
            "0.9618812559989031\n",
            "0.9057352043929225\n",
            "0.5659871244635193\n",
            "0.7470682915612784\n",
            "0.7129107202124129\n",
            "0.5079006772009029\n",
            "0.9107206884187881\n",
            "0.44091796875\n",
            "0.8275732531930879\n",
            "0.963346908552388\n",
            "0.8590275160196005\n",
            "0.5590841949778435\n",
            "0.8657894736842106\n",
            "0.789295137580098\n",
            "0.9169508037018996\n",
            "0.4775570272259014\n",
            "0.4570673712021136\n",
            "0.8411180581095992\n",
            "0.8776529338327091\n",
            "0.9498164014687882\n",
            "0.9571840263482915\n",
            "0.9810933004521167\n",
            "0.9736589381259432\n",
            "0.9694178334561533\n",
            "0.9832530396880018\n",
            "0.5543944265809218\n",
            "0.9162269129287599\n",
            "0.9487750556792873\n",
            "0.7748853211009175\n",
            "0.746354346078769\n",
            "0.7945906432748538\n",
            "0.8402278919990092\n",
            "0.9143045484508899\n",
            "0.8306772908366534\n",
            "0.9043478260869565\n",
            "0.6553876478318003\n",
            "0.40660225442834136\n",
            "0.7568265682656826\n",
            "0.7744169096209913\n",
            "0.7916666666666666\n",
            "0.8903566710700133\n",
            "0.8075360177318064\n",
            "0.8813008130081301\n",
            "0.8947753014249178\n",
            "0.8452468680913781\n",
            "0.8265682656826568\n",
            "0.9707337180544106\n",
            "0.9756769160165213\n",
            "0.8862246146317593\n",
            "0.5759027266028003\n",
            "0.6300599700149925\n",
            "mean 0.8203533582247603\n",
            "STD 0.1492716361504721\n",
            "max 0.9871106337271751\n",
            "min 0.40660225442834136\n",
            "fraction > 90% 53 total 138\n"
          ]
        },
        {
          "output_type": "execute_result",
          "data": {
            "text/plain": [
              "(array([ 5.,  4.,  8.,  5.,  4.,  9., 13., 24., 27., 39.]),\n",
              " array([0.40660225, 0.46465309, 0.52270393, 0.58075477, 0.63880561,\n",
              "        0.69685644, 0.75490728, 0.81295812, 0.87100896, 0.9290598 ,\n",
              "        0.98711063]),\n",
              " <a list of 10 Patch objects>)"
            ]
          },
          "metadata": {},
          "execution_count": 38
        },
        {
          "output_type": "display_data",
          "data": {
            "text/plain": [
              "<Figure size 432x288 with 1 Axes>"
            ],
            "image/png": "[encoded data removed]"
          },
          "metadata": {
            "needs_background": "light"
          }
        }
      ],
      "source": [
        "all_ratios = np.zeros(len(list(valid_dataset)))\n",
        "i = 0\n",
        "i90 =0\n",
        "for example in valid_dataset:\n",
        "  tinp = example['input']\n",
        "  ttar = example['rtimg']\n",
        "  prediction = generator(tinp, training=True)\n",
        "  ttar = tf.squeeze(ttar, axis=0)\n",
        "  ttar = tf.squeeze(ttar, axis=-1)\n",
        "  rtimage = ttar\n",
        "\n",
        "  prediction = tf.squeeze(prediction, axis=0)\n",
        "  prediction = tf.squeeze(prediction, axis=-1)\n",
        "  prediction = prediction\n",
        "  gamma_test = pymedphys.gamma(coords,rtimage, coords, prediction, **gamma_options,quiet=True)\n",
        "  valid_gamma = gamma_test[~np.isnan(gamma_test)]\n",
        "  pass_ratio = np.sum(valid_gamma <= 1) / len(valid_gamma)\n",
        "  #tf.print(example[\"fname\"])\n",
        "  print(pass_ratio)\n",
        "  all_ratios[i] = pass_ratio\n",
        "  i = i+1\n",
        "  if(pass_ratio> 0.90):\n",
        "    i90 = i90+1\n",
        "\n",
        "print(\"mean \" + str(np.mean(all_ratios)))\n",
        "print(\"STD \" + str(np.std(all_ratios)))\n",
        "print(\"max \" + str(np.max(all_ratios)))\n",
        "print(\"min \" + str(np.min(all_ratios)))\n",
        "print(\"fraction > 90% \" + str(i90) + \" total \" + str(i))\n",
        "plt.hist(all_ratios)"
      ]
    },
    {
      "cell_type": "code",
      "source": [
        "generator.summary()"
      ],
      "metadata": {
        "colab": {
          "base_uri": "https://localhost:8080/"
        },
        "id": "-Vfix_lCfUQo",
        "outputId": "d4b3d3d3-8039-4ad7-a468-74016b508446"
      },
      "execution_count": 39,
      "outputs": [
        {
          "output_type": "stream",
          "name": "stdout",
          "text": [
            "Model: \"model_4\"\n",
            "__________________________________________________________________________________________________\n",
            " Layer (type)                   Output Shape         Param #     Connected to                     \n",
            "==================================================================================================\n",
            " input_5 (InputLayer)           [(None, 256, 256, 3  0           []                               \n",
            "                                )]                                                                \n",
            "                                                                                                  \n",
            " tf.__operators__.getitem_12 (S  (None, 256, 256)    0           ['input_5[0][0]']                \n",
            " licingOpLambda)                                                                                  \n",
            "                                                                                                  \n",
            " tf.expand_dims_12 (TFOpLambda)  (None, 256, 256, 1)  0          ['tf.__operators__.getitem_12[0][\n",
            "                                                                 0]']                             \n",
            "                                                                                                  \n",
            " tf.__operators__.getitem_13 (S  (None, 256, 256)    0           ['input_5[0][0]']                \n",
            " licingOpLambda)                                                                                  \n",
            "                                                                                                  \n",
            " conv2d_13 (Conv2D)             (None, 256, 256, 1)  2           ['tf.expand_dims_12[0][0]']      \n",
            "                                                                                                  \n",
            " tf.expand_dims_13 (TFOpLambda)  (None, 256, 256, 1)  0          ['tf.__operators__.getitem_13[0][\n",
            "                                                                 0]']                             \n",
            "                                                                                                  \n",
            " tf.math.negative_4 (TFOpLambda  (None, 256, 256, 1)  0          ['conv2d_13[0][0]']              \n",
            " )                                                                                                \n",
            "                                                                                                  \n",
            " conv2d_12 (Conv2D)             (None, 256, 256, 1)  2           ['tf.expand_dims_13[0][0]']      \n",
            "                                                                                                  \n",
            " tf.math.exp_4 (TFOpLambda)     (None, 256, 256, 1)  0           ['tf.math.negative_4[0][0]']     \n",
            "                                                                                                  \n",
            " conv2d_14 (Conv2D)             (None, 256, 256, 1)  122         ['tf.expand_dims_13[0][0]']      \n",
            "                                                                                                  \n",
            " multiply_8 (Multiply)          (None, 256, 256, 1)  0           ['conv2d_12[0][0]',              \n",
            "                                                                  'tf.math.exp_4[0][0]']          \n",
            "                                                                                                  \n",
            " multiply_9 (Multiply)          (None, 256, 256, 1)  0           ['conv2d_14[0][0]',              \n",
            "                                                                  'tf.math.exp_4[0][0]']          \n",
            "                                                                                                  \n",
            " add_2 (Add)                    (None, 256, 256, 1)  0           ['multiply_8[0][0]',             \n",
            "                                                                  'multiply_9[0][0]']             \n",
            "                                                                                                  \n",
            "==================================================================================================\n",
            "Total params: 126\n",
            "Trainable params: 126\n",
            "Non-trainable params: 0\n",
            "__________________________________________________________________________________________________\n"
          ]
        }
      ]
    },
    {
      "cell_type": "code",
      "source": [
        ""
      ],
      "metadata": {
        "id": "PN1lScb2fdtm"
      },
      "execution_count": null,
      "outputs": []
    }
  ],
  "metadata": {
    "accelerator": "GPU",
    "colab": {
      "collapsed_sections": [],
      "name": "Simple Model GEN.ipynb",
      "provenance": [],
      "include_colab_link": true
    },
    "kernelspec": {
      "display_name": "ITK Environment",
      "language": "python",
      "name": "itkenv"
    },
    "language_info": {
      "codemirror_mode": {
        "name": "ipython",
        "version": 3
      },
      "file_extension": ".py",
      "mimetype": "text/x-python",
      "name": "python",
      "nbconvert_exporter": "python",
      "pygments_lexer": "ipython3",
      "version": "3.8.10"
    }
  },
  "nbformat": 4,
  "nbformat_minor": 0
}