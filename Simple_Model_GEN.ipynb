{
  "cells": [
    {
      "cell_type": "markdown",
      "metadata": {
        "id": "view-in-github",
        "colab_type": "text"
      },
      "source": [
        "<a href=\"https://colab.research.google.com/github/brianmanderson/Image_Prediction/blob/main/Simple_Model_GEN.ipynb\" target=\"_parent\"><img src=\"https://colab.research.google.com/assets/colab-badge.svg\" alt=\"Open In Colab\"/></a>"
      ]
    },
    {
      "cell_type": "markdown",
      "metadata": {
        "id": "v1CUZ0dkOo_F"
      },
      "source": [
        "##### Copyright 2019 The TensorFlow Authors.\n",
        "\n",
        "Licensed under the Apache License, Version 2.0 (the \"License\");"
      ]
    },
    {
      "cell_type": "code",
      "execution_count": null,
      "metadata": {
        "cellView": "form",
        "id": "qmkj-80IHxnd"
      },
      "outputs": [],
      "source": [
        "#@title Licensed under the Apache License, Version 2.0 (the \"License\");\n",
        "# you may not use this file except in compliance with the License.\n",
        "# You may obtain a copy of the License at\n",
        "#\n",
        "# https://www.apache.org/licenses/LICENSE-2.0\n",
        "#\n",
        "# Unless required by applicable law or agreed to in writing, software\n",
        "# distributed under the License is distributed on an \"AS IS\" BASIS,\n",
        "# WITHOUT WARRANTIES OR CONDITIONS OF ANY KIND, either express or implied.\n",
        "# See the License for the specific language governing permissions and\n",
        "# limitations under the License."
      ]
    },
    {
      "cell_type": "markdown",
      "metadata": {
        "id": "_xnMOsbqHz61"
      },
      "source": [
        "# pix2pix: Image-to-image translation with a conditional GAN"
      ]
    },
    {
      "cell_type": "markdown",
      "metadata": {
        "id": "Ds4o1h4WHz9U"
      },
      "source": [
        "<table class=\"tfo-notebook-buttons\" align=\"left\">\n",
        "  <td>\n",
        "    <a target=\"_blank\" href=\"https://www.tensorflow.org/tutorials/generative/pix2pix\"><img src=\"https://www.tensorflow.org/images/tf_logo_32px.png\" />View on TensorFlow.org</a>\n",
        "  </td>\n",
        "  <td>\n",
        "    <a target=\"_blank\" href=\"https://colab.research.google.com/github/tensorflow/docs/blob/master/site/en/tutorials/generative/pix2pix.ipynb\"><img src=\"https://www.tensorflow.org/images/colab_logo_32px.png\" />Run in Google Colab</a>\n",
        "  </td>\n",
        "  <td>\n",
        "    <a target=\"_blank\" href=\"https://github.com/tensorflow/docs/blob/master/site/en/tutorials/generative/pix2pix.ipynb\"><img src=\"https://www.tensorflow.org/images/GitHub-Mark-32px.png\" />View source on GitHub</a>\n",
        "  </td>\n",
        "  <td>\n",
        "    <a href=\"https://storage.googleapis.com/tensorflow_docs/docs/site/en/tutorials/generative/pix2pix.ipynb\"><img src=\"https://www.tensorflow.org/images/download_logo_32px.png\" />Download notebook</a>\n",
        "  </td>\n",
        "</table>"
      ]
    },
    {
      "cell_type": "markdown",
      "metadata": {
        "id": "ITZuApL56Mny"
      },
      "source": [
        "This Google Colab Notebook heavily buroows from the pix2pix example. \n",
        "How to build and train a conditional generative adversarial network (cGAN) called pix2pix that learns a mapping from input images to output images, as described in [Image-to-image translation with conditional adversarial networks](https://arxiv.org/abs/1611.07004) by Isola et al. (2017). pix2pix is not application specific—it can be applied to a wide range of tasks, including synthesizing photos from label maps, generating colorized photos from black and white images, turning Google Maps photos into aerial images, and even transforming sketches into photos.\n",
        "\n",
        "In the pix2pix cGAN, you condition on input images and generate corresponding output images. cGANs were first proposed in [Conditional Generative Adversarial Nets](https://arxiv.org/abs/1411.1784) (Mirza and Osindero, 2014)\n",
        "\n",
        "The architecture of your network will contain:\n",
        "\n",
        "- A generator with a [U-Net]([U-Net](https://arxiv.org/abs/1505.04597))-based architecture.\n",
        "- A discriminator represented by a convolutional PatchGAN classifier (proposed in the [pix2pix paper](https://arxiv.org/abs/1611.07004)).\n",
        "\n",
        "Note that each epoch can take around 15 seconds on a single V100 GPU.\n",
        "\n"
      ]
    },
    {
      "cell_type": "markdown",
      "metadata": {
        "id": "e1_Y75QXJS6h"
      },
      "source": [
        "## Import TensorFlow and other libraries"
      ]
    },
    {
      "cell_type": "code",
      "execution_count": null,
      "metadata": {
        "id": "YfIk2es3hJEd"
      },
      "outputs": [],
      "source": [
        "import tensorflow as tf\n",
        "\n",
        "import os\n",
        "import sys \n",
        "import pathlib\n",
        "import time\n",
        "import datetime\n",
        "import numpy as np\n",
        "from matplotlib import pyplot as plt\n",
        "from IPython import display\n",
        "import tensorflow.experimental.numpy as tnp"
      ]
    },
    {
      "cell_type": "code",
      "execution_count": null,
      "metadata": {
        "colab": {
          "base_uri": "https://localhost:8080/"
        },
        "id": "iPVGz0KIdvia",
        "outputId": "26075dd3-cc33-4e16-cd19-895ee7c9084c"
      },
      "outputs": [
        {
          "output_type": "stream",
          "name": "stdout",
          "text": [
            "Mounted at /content/drive\n"
          ]
        }
      ],
      "source": [
        "running_local = False\n",
        "try:\n",
        "    from google.colab import drive\n",
        "    drive.mount('/content/drive')\n",
        "    nb_path = '/content/notebooks'\n",
        "    os.symlink('/content/drive/MyDrive/Colab Notebooks', nb_path)\n",
        "    sys.path.insert(0, nb_path)  # or append(nb_path)\n",
        "except:\n",
        "    running_local = True\n",
        "    print(\"Running locally\")"
      ]
    },
    {
      "cell_type": "code",
      "execution_count": null,
      "metadata": {
        "colab": {
          "base_uri": "https://localhost:8080/"
        },
        "id": "77lNAmzkYVXB",
        "outputId": "b8344a17-c03d-413f-eaf4-27bdea4a6995"
      },
      "outputs": [
        {
          "output_type": "execute_result",
          "data": {
            "text/plain": [
              "['jpeg',\n",
              " 'tfrecords_removeone',\n",
              " 'tfrecords_one',\n",
              " 'phantom_train',\n",
              " 'phantom_valid',\n",
              " 'old',\n",
              " 'fold1',\n",
              " 'fold2',\n",
              " 'fold3',\n",
              " 'fold4',\n",
              " 'fold5']"
            ]
          },
          "metadata": {},
          "execution_count": 5
        }
      ],
      "source": [
        "os.listdir('/content/drive/My Drive/data')"
      ]
    },
    {
      "cell_type": "markdown",
      "metadata": {
        "id": "R4Ya7PQy4NBD"
      },
      "source": [
        "Line to install pymedphys which has a gamma function. Libaray was saved to Google drive and is commented out."
      ]
    },
    {
      "cell_type": "code",
      "execution_count": null,
      "metadata": {
        "id": "1oOw8vQJUyg-"
      },
      "outputs": [],
      "source": [
        "#!pip install --target=$nb_path pymedphys"
      ]
    },
    {
      "cell_type": "code",
      "execution_count": null,
      "metadata": {
        "colab": {
          "base_uri": "https://localhost:8080/",
          "height": 1000
        },
        "id": "wzufEZu702tH",
        "outputId": "6d0cf067-e83c-42dc-e102-f4c1cd8c078d"
      },
      "outputs": [
        {
          "output_type": "stream",
          "name": "stdout",
          "text": [
            "Collecting SimpleITK\n",
            "  Downloading SimpleITK-2.1.1-cp37-cp37m-manylinux_2_12_x86_64.manylinux2010_x86_64.whl (48.4 MB)\n",
            "\u001b[K     |████████████████████████████████| 48.4 MB 1.7 MB/s \n",
            "\u001b[?25hInstalling collected packages: SimpleITK\n",
            "Successfully installed SimpleITK-2.1.1\n",
            "Collecting pymedphys\n",
            "  Downloading pymedphys-0.38.0-py3-none-any.whl (1.8 MB)\n",
            "\u001b[K     |████████████████████████████████| 1.8 MB 8.2 MB/s \n",
            "\u001b[?25hRequirement already satisfied: typing-extensions in /usr/local/lib/python3.7/dist-packages (from pymedphys) (3.10.0.2)\n",
            "Collecting ipython>=7.31.1\n",
            "  Downloading ipython-7.32.0-py3-none-any.whl (793 kB)\n",
            "\u001b[K     |████████████████████████████████| 793 kB 53.9 MB/s \n",
            "\u001b[?25hRequirement already satisfied: pexpect>4.3 in /usr/local/lib/python3.7/dist-packages (from ipython>=7.31.1->pymedphys) (4.8.0)\n",
            "Requirement already satisfied: decorator in /usr/local/lib/python3.7/dist-packages (from ipython>=7.31.1->pymedphys) (4.4.2)\n",
            "Requirement already satisfied: jedi>=0.16 in /usr/local/lib/python3.7/dist-packages (from ipython>=7.31.1->pymedphys) (0.18.1)\n",
            "Requirement already satisfied: traitlets>=4.2 in /usr/local/lib/python3.7/dist-packages (from ipython>=7.31.1->pymedphys) (5.1.1)\n",
            "Requirement already satisfied: backcall in /usr/local/lib/python3.7/dist-packages (from ipython>=7.31.1->pymedphys) (0.2.0)\n",
            "Requirement already satisfied: pickleshare in /usr/local/lib/python3.7/dist-packages (from ipython>=7.31.1->pymedphys) (0.7.5)\n",
            "Requirement already satisfied: setuptools>=18.5 in /usr/local/lib/python3.7/dist-packages (from ipython>=7.31.1->pymedphys) (57.4.0)\n",
            "Collecting prompt-toolkit!=3.0.0,!=3.0.1,<3.1.0,>=2.0.0\n",
            "  Downloading prompt_toolkit-3.0.28-py3-none-any.whl (380 kB)\n",
            "\u001b[K     |████████████████████████████████| 380 kB 71.1 MB/s \n",
            "\u001b[?25hRequirement already satisfied: pygments in /usr/local/lib/python3.7/dist-packages (from ipython>=7.31.1->pymedphys) (2.6.1)\n",
            "Requirement already satisfied: matplotlib-inline in /usr/local/lib/python3.7/dist-packages (from ipython>=7.31.1->pymedphys) (0.1.3)\n",
            "Requirement already satisfied: parso<0.9.0,>=0.8.0 in /usr/local/lib/python3.7/dist-packages (from jedi>=0.16->ipython>=7.31.1->pymedphys) (0.8.3)\n",
            "Requirement already satisfied: ptyprocess>=0.5 in /usr/local/lib/python3.7/dist-packages (from pexpect>4.3->ipython>=7.31.1->pymedphys) (0.7.0)\n",
            "Requirement already satisfied: wcwidth in /usr/local/lib/python3.7/dist-packages (from prompt-toolkit!=3.0.0,!=3.0.1,<3.1.0,>=2.0.0->ipython>=7.31.1->pymedphys) (0.2.5)\n",
            "Installing collected packages: prompt-toolkit, ipython, pymedphys\n",
            "  Attempting uninstall: prompt-toolkit\n",
            "    Found existing installation: prompt-toolkit 1.0.18\n",
            "    Uninstalling prompt-toolkit-1.0.18:\n",
            "      Successfully uninstalled prompt-toolkit-1.0.18\n",
            "  Attempting uninstall: ipython\n",
            "    Found existing installation: ipython 5.5.0\n",
            "    Uninstalling ipython-5.5.0:\n",
            "      Successfully uninstalled ipython-5.5.0\n",
            "\u001b[31mERROR: pip's dependency resolver does not currently take into account all the packages that are installed. This behaviour is the source of the following dependency conflicts.\n",
            "jupyter-console 5.2.0 requires prompt-toolkit<2.0.0,>=1.0.0, but you have prompt-toolkit 3.0.28 which is incompatible.\n",
            "google-colab 1.0.0 requires ipython~=5.5.0, but you have ipython 7.32.0 which is incompatible.\u001b[0m\n",
            "Successfully installed ipython-7.32.0 prompt-toolkit-3.0.28 pymedphys-0.38.0\n"
          ]
        },
        {
          "output_type": "display_data",
          "data": {
            "application/vnd.colab-display-data+json": {
              "pip_warning": {
                "packages": [
                  "IPython",
                  "prompt_toolkit"
                ]
              }
            }
          },
          "metadata": {}
        },
        {
          "output_type": "stream",
          "name": "stdout",
          "text": [
            "Collecting PlotScrollNumpyArrays\n",
            "  Downloading PlotScrollNumpyArrays-0.0.1-py3-none-any.whl (4.3 kB)\n",
            "Requirement already satisfied: SimpleITK in /usr/local/lib/python3.7/dist-packages (from PlotScrollNumpyArrays) (2.1.1)\n",
            "Requirement already satisfied: numpy in /usr/local/lib/python3.7/dist-packages (from PlotScrollNumpyArrays) (1.21.5)\n",
            "Requirement already satisfied: matplotlib in /usr/local/lib/python3.7/dist-packages (from PlotScrollNumpyArrays) (3.2.2)\n",
            "Requirement already satisfied: pyparsing!=2.0.4,!=2.1.2,!=2.1.6,>=2.0.1 in /usr/local/lib/python3.7/dist-packages (from matplotlib->PlotScrollNumpyArrays) (3.0.7)\n",
            "Requirement already satisfied: python-dateutil>=2.1 in /usr/local/lib/python3.7/dist-packages (from matplotlib->PlotScrollNumpyArrays) (2.8.2)\n",
            "Requirement already satisfied: kiwisolver>=1.0.1 in /usr/local/lib/python3.7/dist-packages (from matplotlib->PlotScrollNumpyArrays) (1.4.0)\n",
            "Requirement already satisfied: cycler>=0.10 in /usr/local/lib/python3.7/dist-packages (from matplotlib->PlotScrollNumpyArrays) (0.11.0)\n",
            "Requirement already satisfied: typing-extensions in /usr/local/lib/python3.7/dist-packages (from kiwisolver>=1.0.1->matplotlib->PlotScrollNumpyArrays) (3.10.0.2)\n",
            "Requirement already satisfied: six>=1.5 in /usr/local/lib/python3.7/dist-packages (from python-dateutil>=2.1->matplotlib->PlotScrollNumpyArrays) (1.15.0)\n",
            "Installing collected packages: PlotScrollNumpyArrays\n",
            "Successfully installed PlotScrollNumpyArrays-0.0.1\n"
          ]
        }
      ],
      "source": [
        "!pip install SimpleITK\n",
        "!pip install pymedphys\n",
        "!pip install PlotScrollNumpyArrays"
      ]
    },
    {
      "cell_type": "code",
      "execution_count": null,
      "metadata": {
        "id": "XkwdsvfzU35d"
      },
      "outputs": [],
      "source": [
        "import SimpleITK as sitk\n",
        "import pymedphys"
      ]
    },
    {
      "cell_type": "code",
      "execution_count": null,
      "metadata": {
        "colab": {
          "base_uri": "https://localhost:8080/"
        },
        "id": "dED2fmqDhBq4",
        "outputId": "8327fbd6-14a8-4b37-de1c-76222f59d20c"
      },
      "outputs": [
        {
          "output_type": "stream",
          "name": "stdout",
          "text": [
            "Cloning into 'Data_Generators'...\n",
            "remote: Enumerating objects: 1092, done.\u001b[K\n",
            "remote: Counting objects: 100% (86/86), done.\u001b[K\n",
            "remote: Compressing objects: 100% (62/62), done.\u001b[K\n",
            "remote: Total 1092 (delta 43), reused 65 (delta 24), pack-reused 1006\u001b[K\n",
            "Receiving objects: 100% (1092/1092), 524.35 KiB | 16.91 MiB/s, done.\n",
            "Resolving deltas: 100% (689/689), done.\n",
            "Submodule 'Image_Processors_Module' (https://github.com/brianmanderson/Image_Processors_Module.git) registered for path 'Image_Processors_Module'\n",
            "Cloning into '/content/Data_Generators/Image_Processors_Module'...\n",
            "remote: Enumerating objects: 1205, done.        \n",
            "remote: Counting objects: 100% (873/873), done.        \n",
            "remote: Compressing objects: 100% (387/387), done.        \n",
            "remote: Total 1205 (delta 528), reused 735 (delta 392), pack-reused 332        \n",
            "Receiving objects: 100% (1205/1205), 309.00 KiB | 368.00 KiB/s, done.\n",
            "Resolving deltas: 100% (750/750), done.\n",
            "Submodule path 'Image_Processors_Module': checked out 'f91603a2bedcc15981db54709e4c6d83c997f595'\n"
          ]
        }
      ],
      "source": [
        "!git clone --recurse-submodules -j8 https://github.com/brianmanderson/Data_Generators"
      ]
    },
    {
      "cell_type": "code",
      "execution_count": null,
      "metadata": {
        "id": "5bUN7lljikZn"
      },
      "outputs": [],
      "source": [
        "from Data_Generators.TFRecord_to_Dataset_Generator import DataGeneratorClass\n",
        "from Data_Generators.Image_Processors_Module.src.Processors import TFDataSetProcessors as Processors"
      ]
    },
    {
      "cell_type": "markdown",
      "metadata": {
        "id": "M030OkcHlhr3"
      },
      "source": [
        "Pull a sample image.   There are 4 images in 1 that need to be reformatted. From left to right, ray trace projection of CBCT. Fluence Map, PDOS and RTImage"
      ]
    },
    {
      "cell_type": "code",
      "execution_count": null,
      "metadata": {
        "id": "uk0-_5m-iyzG"
      },
      "outputs": [],
      "source": [
        "def return_generator(records_paths):\n",
        "    generator = DataGeneratorClass(record_paths=records_paths)\n",
        "    all_keys = ('pdos_array', 'drr_array', 'half_drr_array', 'fluence_array')\n",
        "    base_processors = [\n",
        "        Processors.Squeeze(image_keys=all_keys),\n",
        "        Processors.ExpandDimension(axis=-1, image_keys=('pdos_array', 'drr_array', 'half_drr_array', 'fluence_array')),\n",
        "        Processors.Resize_with_crop_pad(keys=all_keys, image_rows=[256 for _ in range(len(all_keys))],\n",
        "                                        image_cols=[256 for _ in range(len(all_keys))],\n",
        "                                        is_mask=[False for _ in range(len(all_keys))]),\n",
        "        Processors.Add_Constant(keys=all_keys,\n",
        "                                values=(0, 0, 0, 0)),\n",
        "        Processors.MultiplyImagesByConstant(keys=all_keys, values=(1/255, 1/255, 1/255, 1/255)),\n",
        "        Processors.CombineKeys(axis=-1, image_keys=('pdos_array', 'drr_array', 'half_drr_array'),\n",
        "                               output_key='combined'),\n",
        "        Processors.ReturnOutputs(input_keys=('combined',), output_keys=('fluence_array',)),\n",
        "        {'shuffle': len(generator) // 3}, {'batch': 1}, {'repeat'}\n",
        "        ]\n",
        "    generator.compile_data_set(image_processors=base_processors, debug=False)\n",
        "    return generator"
      ]
    },
    {
      "cell_type": "code",
      "execution_count": null,
      "metadata": {
        "id": "AMGt_tbFC7iB"
      },
      "outputs": [],
      "source": [
        "# data_generators = {}\n",
        "\n",
        "# data_generators[1] = return_generator('/content/drive/My Drive/data/tfrecords_removeone')\n",
        "# data_generators[2] = return_generator('/content/drive/My Drive/data/tfrecords_one')"
      ]
    },
    {
      "cell_type": "code",
      "execution_count": null,
      "metadata": {
        "id": "sXKiRA4R09kn"
      },
      "outputs": [],
      "source": [
        "# data_generators = {}\n",
        "# for i in range(1,6):\n",
        "#   data_generators[i] = return_generator('/content/drive/My Drive/data/fold{}'.format(i))"
      ]
    },
    {
      "cell_type": "code",
      "execution_count": null,
      "metadata": {
        "id": "r6Mck58p1BCH"
      },
      "outputs": [],
      "source": [
        "# The batch size of 1 produced better results for the U-Net in the original pix2pix experiment\n",
        "BATCH_SIZE = 1\n",
        "# Each image is 256x256 in size\n",
        "IMG_WIDTH = 256\n",
        "IMG_HEIGHT = 256"
      ]
    },
    {
      "cell_type": "code",
      "execution_count": null,
      "metadata": {
        "id": "76XIMWFXB-kG"
      },
      "outputs": [],
      "source": [
        "def load_data_from_generator(generator):\n",
        "  data = {'input' : [], 'rtimg' : []}\n",
        "  iterator = iter(generator.data_set)\n",
        "  for _ in range(len(generator)):\n",
        "    x, y = next(iterator)\n",
        "    data['input'].append(x[0][0])\n",
        "    data['rtimg'].append(y[0][0])\n",
        "  return data"
      ]
    },
    {
      "cell_type": "markdown",
      "metadata": {
        "id": "wm-XakBDCzRV"
      },
      "source": [
        "# Return a train and validation dataset based on which fold you want to exclude"
      ]
    },
    {
      "cell_type": "code",
      "execution_count": null,
      "metadata": {
        "id": "Xf7LwHh7A3Ct"
      },
      "outputs": [],
      "source": [
        "def return_datasets(data_generators):\n",
        "  all_datasets = {}\n",
        "  for i in data_generators.keys():\n",
        "    generator = data_generators[i]\n",
        "    all_datasets[i] = tf.data.Dataset.from_tensor_slices((load_data_from_generator(generator)))\n",
        "  return all_datasets\n",
        "\n",
        "def return_fold_datasets(data_generators, batch_size=1):\n",
        "  all_datasets = return_datasets(data_generators)\n",
        "\n",
        "  train_dataset = all_datasets['train']\n",
        "  train_dataset.shuffle(len(train_dataset))\n",
        "  train_dataset = train_dataset.batch(batch_size)\n",
        "  \n",
        "  valid_dataset = all_datasets['validation']\n",
        "  valid_dataset = valid_dataset.shuffle(len(valid_dataset))\n",
        "  valid_dataset = valid_dataset.batch(batch_size)\n",
        "  return train_dataset, valid_dataset"
      ]
    },
    {
      "cell_type": "code",
      "source": [
        "def return_generators(excluded_fold=2):\n",
        "  data_generators = {}\n",
        "  train_folder_names = []\n",
        "  val_folder_names = []\n",
        "  for i in range(1,6):\n",
        "    folder_name = '/content/drive/My Drive/data/fold{}'.format(i)\n",
        "    if i != excluded_fold:\n",
        "      train_folder_names.append(folder_name)\n",
        "    else:\n",
        "      val_folder_names.append(folder_name)\n",
        "  data_generators['train'] = return_generator(records_paths=train_folder_names)\n",
        "  data_generators['validation'] = return_generator(records_paths=val_folder_names)\n",
        "  return data_generators"
      ],
      "metadata": {
        "id": "Oap05O_G0Z8K"
      },
      "execution_count": null,
      "outputs": []
    },
    {
      "cell_type": "code",
      "source": [
        "data_generators = return_generators(excluded_fold=1)\n",
        "train_dataset, valid_dataset = return_fold_datasets(data_generators, batch_size=BATCH_SIZE)"
      ],
      "metadata": {
        "colab": {
          "base_uri": "https://localhost:8080/"
        },
        "id": "1q30IGrj0eE6",
        "outputId": "62da88d8-cf33-4371-c225-0666e082d103"
      },
      "execution_count": null,
      "outputs": [
        {
          "output_type": "stream",
          "name": "stdout",
          "text": [
            "Be careful..Resize with crop/pad can severely slow down data retrieval, best to do this and cache\n",
            "<Data_Generators.Image_Processors_Module.src.Processors.TFDataSetProcessors.Squeeze object at 0x7f0b38684350>\n",
            "<Data_Generators.Image_Processors_Module.src.Processors.TFDataSetProcessors.ExpandDimension object at 0x7f0b38684610>\n",
            "<Data_Generators.Image_Processors_Module.src.Processors.TFDataSetProcessors.Resize_with_crop_pad object at 0x7f0b3b87ead0>\n",
            "<Data_Generators.Image_Processors_Module.src.Processors.TFDataSetProcessors.Add_Constant object at 0x7f0b39d4c990>\n",
            "<Data_Generators.Image_Processors_Module.src.Processors.TFDataSetProcessors.MultiplyImagesByConstant object at 0x7f0b39d4c910>\n",
            "<Data_Generators.Image_Processors_Module.src.Processors.TFDataSetProcessors.CombineKeys object at 0x7f0b39d4cbd0>\n",
            "<Data_Generators.Image_Processors_Module.src.Processors.TFDataSetProcessors.ReturnOutputs object at 0x7f0b39d4cb50>\n",
            "{'shuffle': 179}\n",
            "{'batch': 1}\n",
            "{'repeat'}\n",
            "Be careful..Resize with crop/pad can severely slow down data retrieval, best to do this and cache\n",
            "<Data_Generators.Image_Processors_Module.src.Processors.TFDataSetProcessors.Squeeze object at 0x7f0b3b5f6710>\n",
            "<Data_Generators.Image_Processors_Module.src.Processors.TFDataSetProcessors.ExpandDimension object at 0x7f0b3b607890>\n",
            "<Data_Generators.Image_Processors_Module.src.Processors.TFDataSetProcessors.Resize_with_crop_pad object at 0x7f0b3b623e10>\n",
            "<Data_Generators.Image_Processors_Module.src.Processors.TFDataSetProcessors.Add_Constant object at 0x7f0b3ba48610>\n",
            "<Data_Generators.Image_Processors_Module.src.Processors.TFDataSetProcessors.MultiplyImagesByConstant object at 0x7f0b3ba48550>\n",
            "<Data_Generators.Image_Processors_Module.src.Processors.TFDataSetProcessors.CombineKeys object at 0x7f0b3ba48590>\n",
            "<Data_Generators.Image_Processors_Module.src.Processors.TFDataSetProcessors.ReturnOutputs object at 0x7f0b3ba487d0>\n",
            "{'shuffle': 46}\n",
            "{'batch': 1}\n",
            "{'repeat'}\n"
          ]
        }
      ]
    },
    {
      "cell_type": "code",
      "source": [
        "print(len(train_dataset))\n",
        "x, y = next(iter(data_generators['train'].data_set))\n",
        "print(len(valid_dataset))"
      ],
      "metadata": {
        "colab": {
          "base_uri": "https://localhost:8080/"
        },
        "id": "AXgr6DUc1-he",
        "outputId": "fc033537-fa73-47df-cba8-532151d6f309"
      },
      "execution_count": null,
      "outputs": [
        {
          "output_type": "stream",
          "name": "stdout",
          "text": [
            "538\n",
            "138\n"
          ]
        }
      ]
    },
    {
      "cell_type": "code",
      "execution_count": null,
      "metadata": {
        "id": "Z5xm6UcPBwwR"
      },
      "outputs": [],
      "source": [
        "# train_dataset, valid_dataset = return_fold_datasets(data_generators,2)\n",
        "# print(len(train_dataset))\n",
        "# print(len(valid_dataset))"
      ]
    },
    {
      "cell_type": "code",
      "execution_count": null,
      "metadata": {
        "id": "S2voSzAA_r62",
        "colab": {
          "base_uri": "https://localhost:8080/",
          "height": 283
        },
        "outputId": "43ed6b8f-01ea-419e-bd59-51ed27fab5e3"
      },
      "outputs": [
        {
          "output_type": "stream",
          "name": "stdout",
          "text": [
            "tf.Tensor([256 256   1], shape=(3,), dtype=int32)\n"
          ]
        },
        {
          "output_type": "display_data",
          "data": {
            "text/plain": [
              "<Figure size 432x288 with 1 Axes>"
            ],
            "image/png": "[encoded data removed]"
          },
          "metadata": {
            "needs_background": "light"
          }
        }
      ],
      "source": [
        "if not running_local:\n",
        "  for val in valid_dataset.take(1):\n",
        "    inp = val['rtimg']\n",
        "    inp1 = tf.squeeze(inp,axis=0)\n",
        "    vec = inp1[1:256,128]\n",
        "    plt.plot(vec)\n",
        "    print(tf.shape(inp1))"
      ]
    },
    {
      "cell_type": "code",
      "execution_count": null,
      "metadata": {
        "id": "YLRvgXfx2vR5"
      },
      "outputs": [],
      "source": [
        "def getinput(input_image,chan):\n",
        "    slice_image = input_image[:,:,chan]\n",
        "    slice_image = tf.cast(slice_image, tf.float32)\n",
        "    return slice_image"
      ]
    },
    {
      "cell_type": "code",
      "execution_count": null,
      "metadata": {
        "colab": {
          "base_uri": "https://localhost:8080/",
          "height": 304
        },
        "id": "-MMQRYR920FB",
        "outputId": "de5d0bbf-ca0b-4f8c-d258-258dfd420062"
      },
      "outputs": [
        {
          "output_type": "stream",
          "name": "stdout",
          "text": [
            "tf.Tensor([256 256], shape=(2,), dtype=int32)\n"
          ]
        },
        {
          "output_type": "execute_result",
          "data": {
            "text/plain": [
              "<matplotlib.image.AxesImage at 0x7f0b3b81c290>"
            ]
          },
          "metadata": {},
          "execution_count": 357
        },
        {
          "output_type": "display_data",
          "data": {
            "text/plain": [
              "<Figure size 432x288 with 1 Axes>"
            ],
            "image/png": "[encoded data removed]"
          },
          "metadata": {
            "needs_background": "light"
          }
        }
      ],
      "source": [
        "slicen = 2\n",
        "for val in valid_dataset.take(1):\n",
        "  inp = tf.squeeze(val['input'],axis=0)\n",
        "  #print(tf.shape(inp))\n",
        "  img = getinput(inp,slicen)\n",
        "  print(tf.shape(img))\n",
        "\n",
        "\n",
        "plt.figure()\n",
        "#plt.imshow(tf.squeeze(img, axis=-1))\n",
        "plt.imshow(inp)\n",
        "plt.imshow(img)"
      ]
    },
    {
      "cell_type": "code",
      "execution_count": null,
      "metadata": {
        "colab": {
          "base_uri": "https://localhost:8080/",
          "height": 322
        },
        "id": "-eJ2p_ik248Z",
        "outputId": "39af8b2d-84e0-40b3-f004-30293495c22c"
      },
      "outputs": [
        {
          "output_type": "stream",
          "name": "stdout",
          "text": [
            "tf.Tensor([  1 256 256   1], shape=(4,), dtype=int32)\n",
            "tf.Tensor([256 256], shape=(2,), dtype=int32)\n"
          ]
        },
        {
          "output_type": "execute_result",
          "data": {
            "text/plain": [
              "<matplotlib.image.AxesImage at 0x7f0b3bbe4bd0>"
            ]
          },
          "metadata": {},
          "execution_count": 358
        },
        {
          "output_type": "display_data",
          "data": {
            "text/plain": [
              "<Figure size 432x288 with 1 Axes>"
            ],
            "image/png": "[encoded data removed]"
          },
          "metadata": {
            "needs_background": "light"
          }
        }
      ],
      "source": [
        "for val in valid_dataset.take(1):\n",
        "  img = val['rtimg']\n",
        "  print(tf.shape(img))\n",
        "\n",
        "img = tf.squeeze(img, axis=0)\n",
        "img = tf.squeeze(img, axis=-1)\n",
        "#img = tf.cast(img, tf.float32)\n",
        "print(tf.shape(img))\n",
        "#plt.figure()\n",
        "#plt.imshow(tf.squeeze(img, axis=-1))\n",
        "plt.imshow(img)"
      ]
    },
    {
      "cell_type": "code",
      "execution_count": null,
      "metadata": {
        "colab": {
          "base_uri": "https://localhost:8080/",
          "height": 287
        },
        "id": "kxEUjGyOAJrQ",
        "outputId": "e85ff54f-71da-49c0-922f-f2908013986a"
      },
      "outputs": [
        {
          "output_type": "execute_result",
          "data": {
            "text/plain": [
              "<matplotlib.image.AxesImage at 0x7f0b3b3c9b10>"
            ]
          },
          "metadata": {},
          "execution_count": 359
        },
        {
          "output_type": "display_data",
          "data": {
            "text/plain": [
              "<Figure size 432x288 with 1 Axes>"
            ],
            "image/png": "[encoded data removed]"
          },
          "metadata": {
            "needs_background": "light"
          }
        }
      ],
      "source": [
        "slicen =1\n",
        "for val in valid_dataset.take(1):\n",
        "  inp = tf.squeeze(val['input'],axis=0)\n",
        "  img1 = getinput(inp,slicen)\n",
        "  img2 = val['rtimg']\n",
        "  img2 = tf.squeeze(img2, axis=0)\n",
        "  #print(tf.shape(img))\n",
        "\n",
        "#img2 = tf.cast(img2, tf.float32)\n",
        "plt.figure()\n",
        "plt.imshow(img1,alpha=0.5)\n",
        "plt.imshow(tf.squeeze(img2, axis=-1),alpha=0.5)"
      ]
    },
    {
      "cell_type": "markdown",
      "metadata": {
        "id": "PVuZQTfI_c-s"
      },
      "source": [
        "As described in the [pix2pix paper](https://arxiv.org/abs/1611.07004), you need to apply random jittering and mirroring to preprocess the training set.\n",
        "\n",
        "Define functions that:\n",
        "\n",
        "1. Randomly flip the image horizontally i.e. left to right (random mirroring).\n",
        "2. Normalize the images to the `[-1, 1]` range. "
      ]
    },
    {
      "cell_type": "code",
      "execution_count": null,
      "metadata": {
        "id": "Q4vH0iJzAOhP"
      },
      "outputs": [],
      "source": [
        "OUTPUT_CHANNELS = 1"
      ]
    },
    {
      "cell_type": "code",
      "execution_count": null,
      "metadata": {
        "id": "3R09ATE_SH9P"
      },
      "outputs": [],
      "source": [
        "def downsample(filters, size, apply_batchnorm=True):\n",
        "  initializer = tf.random_normal_initializer(0., 0.02)\n",
        "\n",
        "  result = tf.keras.Sequential()\n",
        "  result.add(\n",
        "      tf.keras.layers.Conv2D(filters, size, strides=2, padding='same',\n",
        "                             kernel_initializer=initializer, use_bias=False))\n",
        "\n",
        "  if apply_batchnorm:\n",
        "    result.add(tf.keras.layers.BatchNormalization())\n",
        "\n",
        "  result.add(tf.keras.layers.LeakyReLU())\n",
        "\n",
        "  return result"
      ]
    },
    {
      "cell_type": "markdown",
      "metadata": {
        "id": "aFI_Pa52tjLl"
      },
      "source": [
        "Define the upsampler (decoder):"
      ]
    },
    {
      "cell_type": "code",
      "execution_count": null,
      "metadata": {
        "id": "nhgDsHClSQzP"
      },
      "outputs": [],
      "source": [
        "def upsample(filters, size, apply_dropout=False):\n",
        "  initializer = tf.random_normal_initializer(0., 0.02)\n",
        "\n",
        "  result = tf.keras.Sequential()\n",
        "  result.add(\n",
        "    tf.keras.layers.Conv2DTranspose(filters, size, strides=2,\n",
        "                                    padding='same',\n",
        "                                    kernel_initializer=initializer,\n",
        "                                    use_bias=False))\n",
        "\n",
        "  result.add(tf.keras.layers.BatchNormalization())\n",
        "\n",
        "  if apply_dropout:\n",
        "      result.add(tf.keras.layers.Dropout(0.5))\n",
        "\n",
        "  result.add(tf.keras.layers.ReLU())\n",
        "\n",
        "  return result"
      ]
    },
    {
      "cell_type": "markdown",
      "metadata": {
        "id": "ueEJyRVrtZ-p"
      },
      "source": [
        "Define the generator with the downsampler and the upsampler:"
      ]
    },
    {
      "cell_type": "code",
      "execution_count": null,
      "metadata": {
        "id": "lFPI4Nu-8b4q"
      },
      "outputs": [],
      "source": [
        "# def Generator():\n",
        "#   inputs = tf.keras.layers.Input(shape=[256, 256, 3])\n",
        "\n",
        "#   down_stack = [\n",
        "#     downsample(64, 4, apply_batchnorm=False),  # (batch_size, 128, 128, 64)\n",
        "#     downsample(128, 4),  # (batch_size, 64, 64, 128)\n",
        "#     downsample(256, 4),  # (batch_size, 32, 32, 256)\n",
        "#     downsample(512, 4),  # (batch_size, 16, 16, 512)\n",
        "#     downsample(512, 4),  # (batch_size, 8, 8, 512)\n",
        "#     downsample(512, 4),  # (batch_size, 4, 4, 512)\n",
        "#     downsample(512, 4),  # (batch_size, 2, 2, 512)\n",
        "#     downsample(512, 4),  # (batch_size, 1, 1, 512)\n",
        "#   ]\n",
        "\n",
        "#   up_stack = [\n",
        "#     upsample(512, 4, apply_dropout=True),  # (batch_size, 2, 2, 1024)\n",
        "#     upsample(512, 4, apply_dropout=True),  # (batch_size, 4, 4, 1024)\n",
        "#     upsample(512, 4, apply_dropout=True),  # (batch_size, 8, 8, 1024)\n",
        "#     upsample(512, 4),  # (batch_size, 16, 16, 1024)\n",
        "#     upsample(256, 4),  # (batch_size, 32, 32, 512)\n",
        "#     upsample(128, 4),  # (batch_size, 64, 64, 256)\n",
        "#     upsample(64, 4),  # (batch_size, 128, 128, 128)\n",
        "#   ]\n",
        "\n",
        "#   initializer = tf.random_normal_initializer(0., 0.02)\n",
        "#   last = tf.keras.layers.Conv2DTranspose(OUTPUT_CHANNELS, 4,\n",
        "#                                          strides=2,\n",
        "#                                          padding='same',\n",
        "#                                          kernel_initializer=initializer,\n",
        "#                                          activation='tanh')  # (batch_size, 256, 256, 3)\n",
        "\n",
        "#   x = inputs\n",
        "\n",
        "#   # Downsampling through the model\n",
        "#   skips = []\n",
        "#   for down in down_stack:\n",
        "#     x = down(x)\n",
        "#     skips.append(x)\n",
        "\n",
        "#   skips = reversed(skips[:-1])\n",
        "\n",
        "#   # Upsampling and establishing the skip connections\n",
        "#   for up, skip in zip(up_stack, skips):\n",
        "#     x = up(x)\n",
        "#     x = tf.keras.layers.Concatenate()([x, skip])\n",
        "\n",
        "#   x = last(x)\n",
        "\n",
        "#   return tf.keras.Model(inputs=inputs, outputs=x)"
      ]
    },
    {
      "cell_type": "code",
      "execution_count": null,
      "metadata": {
        "id": "nJWbqf-g1wDF"
      },
      "outputs": [],
      "source": [
        "def Generator(size=4, layers=1, filters_start=4, double_layers=4):\n",
        "  \"\"\"\n",
        "  default values creates the original generator, filters double from start\n",
        "  to a max after the number of 'double layers'\n",
        "  Size is the kernel size\n",
        "  Layers is the number of layers\n",
        "  \"\"\"\n",
        "  inputs = tf.keras.layers.Input(shape=[256, 256, 3])\n",
        "  filters_list = []\n",
        "  for _ in range(double_layers):\n",
        "    filters_list.append(filters_start)\n",
        "    filters_start *= 2\n",
        "  up_filters = []\n",
        "  batchnorm = False\n",
        "  down_stack = []\n",
        "  for _ in range(layers):\n",
        "    if filters_list:\n",
        "      filters = filters_list.pop(0)\n",
        "    up_filters.append(filters)\n",
        "    print(filters)\n",
        "    layer = downsample(filters, size, batchnorm)\n",
        "    down_stack.append(layer)\n",
        "    batchnorm = True\n",
        "  if filters_list:\n",
        "    filters = filters_list.pop(0)\n",
        "  layer = downsample(filters, size, batchnorm)\n",
        "  down_stack.append(layer)\n",
        "  up_stack = []\n",
        "  for _ in range(layers):\n",
        "    filters = up_filters.pop()\n",
        "    layer = upsample(filters, size)\n",
        "    up_stack.append(layer)\n",
        "  initializer = tf.random_normal_initializer(0., 0.02)\n",
        "  last = tf.keras.layers.Conv2DTranspose(OUTPUT_CHANNELS, size,\n",
        "                                         strides=2,\n",
        "                                         padding='same',\n",
        "                                         kernel_initializer=initializer,\n",
        "                                         activation='relu')  # (batch_size, 256, 256, 3)\n",
        "\n",
        "  x = inputs\n",
        "\n",
        "  # Downsampling through the model\n",
        "  skips = []\n",
        "  for down in down_stack:\n",
        "    x = down(x)\n",
        "    skips.append(x)\n",
        "\n",
        "  skips = reversed(skips[:-1])\n",
        "\n",
        "  # Upsampling and establishing the skip connections\n",
        "  for up, skip in zip(up_stack, skips):\n",
        "    x = up(x)\n",
        "    x = tf.keras.layers.Concatenate()([x, skip])\n",
        "\n",
        "  x = last(x)\n",
        "\n",
        "  return tf.keras.Model(inputs=inputs, outputs=x)"
      ]
    },
    {
      "cell_type": "code",
      "source": [
        "def Generator():\n",
        " \n",
        "  initializer = tf.random_normal_initializer(0., 0.02)\n",
        "  inputs = tf.keras.layers.Input(shape=[256, 256, 3])\n",
        "  print(tf.shape(inputs))\n",
        "  \n",
        "  lay0 = tf.keras.layers.Conv2D(1, 25, strides=1, padding='same', kernel_initializer=initializer, use_bias=False)(inputs)\n",
        "  # lay1 = tf.keras.layers.Conv2D(1, 4, strides=1, padding='same', kernel_initializer=initializer, use_bias=False)(input[1])\n",
        "  # lay2 = tf.keras.layers.Conv2D(1, 4, strides=1, padding='same', kernel_initializer=initializer, use_bias=False)(input[2])\n",
        "  \n",
        "  # sum = tf.keras.layers.Add()([lay0,lay1,lay2])\n",
        "\n",
        "  last = tf.keras.layers.Conv2DTranspose(OUTPUT_CHANNELS, 1,\n",
        "                                          strides=1,\n",
        "                                          padding='same',\n",
        "                                          kernel_initializer=initializer,\n",
        "                                          activation='relu') (lay0) # (batch_size, 256, 256, 3)\n",
        "\n",
        "  return tf.keras.Model(inputs=inputs, outputs=last)"
      ],
      "metadata": {
        "id": "dtynVTJHV7oB"
      },
      "execution_count": null,
      "outputs": []
    },
    {
      "cell_type": "code",
      "source": [
        "def Generator():\n",
        " \n",
        "  initializerP = tf.random_normal_initializer(1.0, 0.02)\n",
        "  initializerC = tf.random_normal_initializer(3.2, 0.02)\n",
        "  inputsCT = tf.keras.layers.Input(shape=[256, 256, 1])\n",
        "  inputsPDOS = tf.keras.layers.Input(shape=[256, 256, 1])\n",
        "  \n",
        "  #print(tf.shape(inputs))\n",
        "  \n",
        "  #logPDOS = tf.math.log(inputsPDOS)\n",
        "\n",
        "  lay0 = tf.keras.layers.Conv2D(1, 1, strides=1, padding='same', kernel_initializer=initializerP, use_bias=False)(inputsPDOS)\n",
        "  \n",
        "\n",
        "  #lay1 = tf.keras.layers.Conv2D(1, 1, strides=1, padding='same', kernel_initializer=initializer, use_bias=False)(logPDOS)\n",
        "  \n",
        "  lay2 = tf.keras.layers.Conv2D(1, 1, strides=1, padding='same', kernel_initializer=initializerC, use_bias=False)(inputsCT)\n",
        "  # lay2 = tf.keras.layers.Conv2D(1, 4, strides=1, padding='same', kernel_initializer=initializer, use_bias=False)(input[2])\n",
        "  \n",
        "  exp = tf.math.exp(lay2)\n",
        "  last = tf.keras.layers.Multiply()([lay0,exp])\n",
        "  \n",
        "  \"\"\"\n",
        "  last = tf.keras.layers.Conv2DTranspose(OUTPUT_CHANNELS, 1,\n",
        "                                          strides=1,\n",
        "                                          padding='same',\n",
        "                                          kernel_initializer=initializer,\n",
        "                                          activation='elu') (sum) # (batch_size, 256, 256, 3)\n",
        "  \"\"\"\n",
        "  #last = tf.keras.layers.Add()([lay0,exp])\n",
        "\n",
        "  return tf.keras.Model(inputs=[inputsPDOS,inputsCT], outputs=last)"
      ],
      "metadata": {
        "id": "YuzK_wh9Ohhz"
      },
      "execution_count": null,
      "outputs": []
    },
    {
      "cell_type": "markdown",
      "metadata": {
        "id": "Z4PKwrcQFYvF"
      },
      "source": [
        "Visualize the generator model architecture:"
      ]
    },
    {
      "cell_type": "code",
      "execution_count": null,
      "metadata": {
        "colab": {
          "base_uri": "https://localhost:8080/"
        },
        "id": "dIbRPFzjmV85",
        "outputId": "3a5988f0-aa95-46c0-8566-24715bdf6b7b"
      },
      "outputs": [
        {
          "output_type": "stream",
          "name": "stdout",
          "text": [
            "Model: \"model_53\"\n",
            "__________________________________________________________________________________________________\n",
            " Layer (type)                   Output Shape         Param #     Connected to                     \n",
            "==================================================================================================\n",
            " input_107 (InputLayer)         [(None, 256, 256, 1  0           []                               \n",
            "                                )]                                                                \n",
            "                                                                                                  \n",
            " input_108 (InputLayer)         [(None, 256, 256, 1  0           []                               \n",
            "                                )]                                                                \n",
            "                                                                                                  \n",
            " conv2d_114 (Conv2D)            (None, 256, 256, 1)  1           ['input_107[0][0]']              \n",
            "                                                                                                  \n",
            " conv2d_113 (Conv2D)            (None, 256, 256, 1)  1           ['input_108[0][0]']              \n",
            "                                                                                                  \n",
            " tf.math.exp_53 (TFOpLambda)    (None, 256, 256, 1)  0           ['conv2d_114[0][0]']             \n",
            "                                                                                                  \n",
            " multiply_53 (Multiply)         (None, 256, 256, 1)  0           ['conv2d_113[0][0]',             \n",
            "                                                                  'tf.math.exp_53[0][0]']         \n",
            "                                                                                                  \n",
            "==================================================================================================\n",
            "Total params: 2\n",
            "Trainable params: 2\n",
            "Non-trainable params: 0\n",
            "__________________________________________________________________________________________________\n"
          ]
        }
      ],
      "source": [
        "generator = Generator()\n",
        "#tf.keras.utils.plot_model(generator, show_shapes=True, dpi=64)\n",
        "generator.summary()"
      ]
    },
    {
      "cell_type": "markdown",
      "metadata": {
        "id": "Z8kbgTK8FcPo"
      },
      "source": [
        "Test the generator:"
      ]
    },
    {
      "cell_type": "code",
      "source": [
        "for val in valid_dataset.take(1):\n",
        "  inp = tf.squeeze(val['input'],axis=0)\n",
        "  inCT = inp[:,:,0]\n",
        "  inPDOS = inp[:,:,2]\n",
        "\n",
        "print(tf.shape(inCT))\n",
        "print(tf.shape(inCT[tf.newaxis, ...]))\n",
        "\n",
        "gen_output = generator(inputs =[inCT[tf.newaxis, ...],inPDOS[tf.newaxis, ...]], training=False)\n",
        "#print(tf.shape(gen_output))\n",
        "plt.imshow(tf.squeeze(gen_output[0, ...],axis=-1))"
      ],
      "metadata": {
        "colab": {
          "base_uri": "https://localhost:8080/",
          "height": 322
        },
        "id": "8Ib4ONYVRg-F",
        "outputId": "4a20eaea-800b-496f-a663-84be659f1503"
      },
      "execution_count": null,
      "outputs": [
        {
          "output_type": "stream",
          "name": "stdout",
          "text": [
            "tf.Tensor([256 256], shape=(2,), dtype=int32)\n",
            "tf.Tensor([  1 256 256], shape=(3,), dtype=int32)\n"
          ]
        },
        {
          "output_type": "execute_result",
          "data": {
            "text/plain": [
              "<matplotlib.image.AxesImage at 0x7f0b39988210>"
            ]
          },
          "metadata": {},
          "execution_count": 371
        },
        {
          "output_type": "display_data",
          "data": {
            "text/plain": [
              "<Figure size 432x288 with 1 Axes>"
            ],
            "image/png": "[encoded data removed]"
          },
          "metadata": {
            "needs_background": "light"
          }
        }
      ]
    },
    {
      "cell_type": "code",
      "execution_count": null,
      "metadata": {
        "colab": {
          "base_uri": "https://localhost:8080/",
          "height": 1000
        },
        "id": "U1N1_obwtdQH",
        "outputId": "89e75c2d-21b0-486f-9f4a-15b5ca02cebd"
      },
      "outputs": [
        {
          "output_type": "stream",
          "name": "stdout",
          "text": [
            "tf.Tensor([256 256   3], shape=(3,), dtype=int32)\n",
            "tf.Tensor([  1 256 256   3], shape=(4,), dtype=int32)\n"
          ]
        },
        {
          "output_type": "error",
          "ename": "ValueError",
          "evalue": "ignored",
          "traceback": [
            "\u001b[0;31m---------------------------------------------------------------------------\u001b[0m",
            "\u001b[0;31mValueError\u001b[0m                                Traceback (most recent call last)",
            "\u001b[0;32m<ipython-input-293-662fdcde7f57>\u001b[0m in \u001b[0;36m<module>\u001b[0;34m()\u001b[0m\n\u001b[1;32m      2\u001b[0m \u001b[0mprint\u001b[0m\u001b[0;34m(\u001b[0m\u001b[0mtf\u001b[0m\u001b[0;34m.\u001b[0m\u001b[0mshape\u001b[0m\u001b[0;34m(\u001b[0m\u001b[0minp\u001b[0m\u001b[0;34m[\u001b[0m\u001b[0mtf\u001b[0m\u001b[0;34m.\u001b[0m\u001b[0mnewaxis\u001b[0m\u001b[0;34m,\u001b[0m \u001b[0;34m...\u001b[0m\u001b[0;34m]\u001b[0m\u001b[0;34m)\u001b[0m\u001b[0;34m)\u001b[0m\u001b[0;34m\u001b[0m\u001b[0;34m\u001b[0m\u001b[0m\n\u001b[1;32m      3\u001b[0m \u001b[0;34m\u001b[0m\u001b[0m\n\u001b[0;32m----> 4\u001b[0;31m \u001b[0mgen_output\u001b[0m \u001b[0;34m=\u001b[0m \u001b[0mgenerator\u001b[0m\u001b[0;34m(\u001b[0m\u001b[0minp\u001b[0m\u001b[0;34m[\u001b[0m\u001b[0mtf\u001b[0m\u001b[0;34m.\u001b[0m\u001b[0mnewaxis\u001b[0m\u001b[0;34m,\u001b[0m \u001b[0;34m...\u001b[0m\u001b[0;34m]\u001b[0m\u001b[0;34m,\u001b[0m \u001b[0mtraining\u001b[0m\u001b[0;34m=\u001b[0m\u001b[0;32mFalse\u001b[0m\u001b[0;34m)\u001b[0m\u001b[0;34m\u001b[0m\u001b[0;34m\u001b[0m\u001b[0m\n\u001b[0m\u001b[1;32m      5\u001b[0m \u001b[0;31m#print(tf.shape(gen_output))\u001b[0m\u001b[0;34m\u001b[0m\u001b[0;34m\u001b[0m\u001b[0;34m\u001b[0m\u001b[0m\n\u001b[1;32m      6\u001b[0m \u001b[0mplt\u001b[0m\u001b[0;34m.\u001b[0m\u001b[0mimshow\u001b[0m\u001b[0;34m(\u001b[0m\u001b[0mtf\u001b[0m\u001b[0;34m.\u001b[0m\u001b[0msqueeze\u001b[0m\u001b[0;34m(\u001b[0m\u001b[0mgen_output\u001b[0m\u001b[0;34m[\u001b[0m\u001b[0;36m0\u001b[0m\u001b[0;34m,\u001b[0m \u001b[0;34m...\u001b[0m\u001b[0;34m]\u001b[0m\u001b[0;34m,\u001b[0m\u001b[0maxis\u001b[0m\u001b[0;34m=\u001b[0m\u001b[0;34m-\u001b[0m\u001b[0;36m1\u001b[0m\u001b[0;34m)\u001b[0m\u001b[0;34m)\u001b[0m\u001b[0;34m\u001b[0m\u001b[0;34m\u001b[0m\u001b[0m\n",
            "\u001b[0;32m/usr/local/lib/python3.7/dist-packages/keras/utils/traceback_utils.py\u001b[0m in \u001b[0;36merror_handler\u001b[0;34m(*args, **kwargs)\u001b[0m\n\u001b[1;32m     65\u001b[0m     \u001b[0;32mexcept\u001b[0m \u001b[0mException\u001b[0m \u001b[0;32mas\u001b[0m \u001b[0me\u001b[0m\u001b[0;34m:\u001b[0m  \u001b[0;31m# pylint: disable=broad-except\u001b[0m\u001b[0;34m\u001b[0m\u001b[0;34m\u001b[0m\u001b[0m\n\u001b[1;32m     66\u001b[0m       \u001b[0mfiltered_tb\u001b[0m \u001b[0;34m=\u001b[0m \u001b[0m_process_traceback_frames\u001b[0m\u001b[0;34m(\u001b[0m\u001b[0me\u001b[0m\u001b[0;34m.\u001b[0m\u001b[0m__traceback__\u001b[0m\u001b[0;34m)\u001b[0m\u001b[0;34m\u001b[0m\u001b[0;34m\u001b[0m\u001b[0m\n\u001b[0;32m---> 67\u001b[0;31m       \u001b[0;32mraise\u001b[0m \u001b[0me\u001b[0m\u001b[0;34m.\u001b[0m\u001b[0mwith_traceback\u001b[0m\u001b[0;34m(\u001b[0m\u001b[0mfiltered_tb\u001b[0m\u001b[0;34m)\u001b[0m \u001b[0;32mfrom\u001b[0m \u001b[0;32mNone\u001b[0m\u001b[0;34m\u001b[0m\u001b[0;34m\u001b[0m\u001b[0m\n\u001b[0m\u001b[1;32m     68\u001b[0m     \u001b[0;32mfinally\u001b[0m\u001b[0;34m:\u001b[0m\u001b[0;34m\u001b[0m\u001b[0;34m\u001b[0m\u001b[0m\n\u001b[1;32m     69\u001b[0m       \u001b[0;32mdel\u001b[0m \u001b[0mfiltered_tb\u001b[0m\u001b[0;34m\u001b[0m\u001b[0;34m\u001b[0m\u001b[0m\n",
            "\u001b[0;32m/usr/local/lib/python3.7/dist-packages/keras/engine/input_spec.py\u001b[0m in \u001b[0;36massert_input_compatibility\u001b[0;34m(input_spec, inputs, layer_name)\u001b[0m\n\u001b[1;32m    198\u001b[0m \u001b[0;34m\u001b[0m\u001b[0m\n\u001b[1;32m    199\u001b[0m   \u001b[0;32mif\u001b[0m \u001b[0mlen\u001b[0m\u001b[0;34m(\u001b[0m\u001b[0minputs\u001b[0m\u001b[0;34m)\u001b[0m \u001b[0;34m!=\u001b[0m \u001b[0mlen\u001b[0m\u001b[0;34m(\u001b[0m\u001b[0minput_spec\u001b[0m\u001b[0;34m)\u001b[0m\u001b[0;34m:\u001b[0m\u001b[0;34m\u001b[0m\u001b[0;34m\u001b[0m\u001b[0m\n\u001b[0;32m--> 200\u001b[0;31m     raise ValueError(f'Layer \"{layer_name}\" expects {len(input_spec)} input(s),'\n\u001b[0m\u001b[1;32m    201\u001b[0m                      \u001b[0;34mf' but it received {len(inputs)} input tensors. '\u001b[0m\u001b[0;34m\u001b[0m\u001b[0;34m\u001b[0m\u001b[0m\n\u001b[1;32m    202\u001b[0m                      f'Inputs received: {inputs}')\n",
            "\u001b[0;31mValueError\u001b[0m: Layer \"model_48\" expects 2 input(s), but it received 1 input tensors. Inputs received: [<tf.Tensor: shape=(1, 256, 256, 3), dtype=float32, numpy=\narray([[[[-1., -1., -1.],\n         [-1., -1., -1.],\n         [-1., -1., -1.],\n         ...,\n         [-1., -1., -1.],\n         [-1., -1., -1.],\n         [-1., -1., -1.]],\n\n        [[-1., -1., -1.],\n         [-1., -1., -1.],\n         [-1., -1., -1.],\n         ...,\n         [-1., -1., -1.],\n         [-1., -1., -1.],\n         [-1., -1., -1.]],\n\n        [[-1., -1., -1.],\n         [-1., -1., -1.],\n         [-1., -1., -1.],\n         ...,\n         [-1., -1., -1.],\n         [-1., -1., -1.],\n         [-1., -1., -1.]],\n\n        ...,\n\n        [[-1., -1., -1.],\n         [-1., -1., -1.],\n         [-1., -1., -1.],\n         ...,\n         [-1., -1., -1.],\n         [-1., -1., -1.],\n         [-1., -1., -1.]],\n\n        [[-1., -1., -1.],\n         [-1., -1., -1.],\n         [-1., -1., -1.],\n         ...,\n         [-1., -1., -1.],\n         [-1., -1., -1.],\n         [-1., -1., -1.]],\n\n        [[-1., -1., -1.],\n         [-1., -1., -1.],\n         [-1., -1., -1.],\n         ...,\n         [-1., -1., -1.],\n         [-1., -1., -1.],\n         [-1., -1., -1.]]]], dtype=float32)>]"
          ]
        }
      ],
      "source": [
        "print(tf.shape(inp))\n",
        "print(tf.shape(inp[tf.newaxis, ...]))\n",
        "\n",
        "gen_output = generator(inp[tf.newaxis, ...], training=False)\n",
        "#print(tf.shape(gen_output))\n",
        "plt.imshow(tf.squeeze(gen_output[0, ...],axis=-1))"
      ]
    },
    {
      "cell_type": "markdown",
      "metadata": {
        "id": "dpDPEQXIAiQO"
      },
      "source": [
        "### Define the generator loss\n",
        "\n",
        "GANs learn a loss that adapts to the data, while cGANs learn a structured loss that penalizes a possible structure that differs from the network output and the target image, as described in the [pix2pix paper](https://arxiv.org/abs/1611.07004).\n",
        "\n",
        "- The generator loss is a sigmoid cross-entropy loss of the generated images and an **array of ones**.\n",
        "- The pix2pix paper also mentions the L1 loss, which is a MAE (mean absolute error) between the generated image and the target image.\n",
        "- This allows the generated image to become structurally similar to the target image.\n",
        "- The formula to calculate the total generator loss is `gan_loss + LAMBDA * l1_loss`, where `LAMBDA = 100`. This value was decided by the authors of the paper."
      ]
    },
    {
      "cell_type": "code",
      "execution_count": null,
      "metadata": {
        "id": "cyhxTuvJyIHV"
      },
      "outputs": [],
      "source": [
        "LAMBDA = 100"
      ]
    },
    {
      "cell_type": "code",
      "execution_count": null,
      "metadata": {
        "id": "Q1Xbz5OaLj5C"
      },
      "outputs": [],
      "source": [
        "loss_object = tf.keras.losses.BinaryCrossentropy(from_logits=True)"
      ]
    },
    {
      "cell_type": "code",
      "execution_count": null,
      "metadata": {
        "id": "90BIcCKcDMxz"
      },
      "outputs": [],
      "source": [
        "def generator_loss(gen_output, target):\n",
        " \n",
        "  #gan_loss = loss_object(tf.ones_like(disc_generated_output), disc_generated_output)\n",
        "\n",
        "  # Mean absolute error\n",
        "  l1_loss = tf.reduce_mean(tf.abs(target - gen_output))\n",
        "\n",
        "  #total_gen_loss = gan_loss + (LAMBDA * l1_loss)\n",
        "\n",
        "  return l1_loss"
      ]
    },
    {
      "cell_type": "code",
      "source": [
        "def generator_loss(gen_output, target):\n",
        " \n",
        "  #gen_output = gen_output[gen_output>-0.95]\n",
        "  #target = target[target>-0.95]\n",
        "  # Mean absolute error\n",
        "  w = 0.01\n",
        "  tar_bkg = tf.where(tf.less_equal(target,0.05),target,target-target-1)\n",
        "  gen_bkg = tf.where(tf.less_equal(gen_output,0.05),gen_output,gen_output-gen_output-1)\n",
        "\n",
        "\n",
        "  target_vals = tf.where(tf.greater(target,0.05),target,target-target-1)\n",
        "  gen_vals = tf.where(tf.greater(gen_output,0.05),gen_output,gen_output-gen_output-1)\n",
        "  #bkg = tf.where(tf.less_equal(target,-0.95),target-target,target)\n",
        "  l1_loss = w*tf.reduce_mean(tf.abs(tar_bkg - gen_bkg)) + tf.reduce_mean(tf.abs(target_vals - gen_vals))\n",
        "  \n",
        "  #l1_loss = tf.reduce_mean(tf.abs(target - gen_output))\n",
        "\n",
        "  return l1_loss"
      ],
      "metadata": {
        "id": "u3amQFFmS-Is"
      },
      "execution_count": null,
      "outputs": []
    },
    {
      "cell_type": "markdown",
      "metadata": {
        "id": "fSZbDgESHIV6"
      },
      "source": [
        "The training procedure for the generator is as follows:"
      ]
    },
    {
      "cell_type": "markdown",
      "metadata": {
        "id": "_073KDijTAVh"
      },
      "source": [
        ""
      ]
    },
    {
      "cell_type": "markdown",
      "metadata": {
        "id": "0FMYgY_mPfTi"
      },
      "source": [
        "## Define the optimizers and a checkpoint-saver\n"
      ]
    },
    {
      "cell_type": "code",
      "execution_count": null,
      "metadata": {
        "id": "lbHFNexF0x6O"
      },
      "outputs": [],
      "source": [
        "generator_optimizer = tf.keras.optimizers.Adam(1.01e-3, beta_1=0.5)\n",
        "#discriminator_optimizer = tf.keras.optimizers.Adam(2e-4, beta_1=0.5)"
      ]
    },
    {
      "cell_type": "code",
      "execution_count": null,
      "metadata": {
        "id": "WJnftd5sQsv6"
      },
      "outputs": [],
      "source": [
        "running_local = False\n",
        "!mkdir -p training_checkpoints\n",
        "#checkpoint_dir = '/content/drive/MyDrive/Colab Notebooks/3chanGAN_checkpoints'\n",
        "if not running_local:\n",
        "    checkpoint_dir = '/content/drive/MyDrive/Colab Notebooks/fold1_checkpoints'\n",
        "else:\n",
        "    checkpoint_dir = r'R:\\Bojechko\\TFRecords\\fold1_checkpoints'\n",
        "checkpoint_prefix = os.path.join(checkpoint_dir, \"ckpt\")\n",
        "checkpoint = tf.train.Checkpoint(generator_optimizer=generator_optimizer,\n",
        "                                 generator=generator)\n",
        "                                "
      ]
    },
    {
      "cell_type": "markdown",
      "metadata": {
        "id": "Rw1fkAczTQYh"
      },
      "source": [
        "## Generate images\n",
        "\n",
        "Write a function to plot some images during training.\n",
        "\n",
        "- Pass images from the test set to the generator.\n",
        "- The generator will then translate the input image into the output.\n",
        "- The last step is to plot the predictions and _voila_!"
      ]
    },
    {
      "cell_type": "markdown",
      "metadata": {
        "id": "Rb0QQFHF-JfS"
      },
      "source": [
        "Note: The `training=True` is intentional here since\n",
        "you want the batch statistics, while running the model on the test dataset. If you use `training=False`, you get the accumulated statistics learned from the training dataset (which you don't want)."
      ]
    },
    {
      "cell_type": "code",
      "execution_count": null,
      "metadata": {
        "id": "RmdVsmvhPxyy"
      },
      "outputs": [],
      "source": [
        "def generate_images(model, input, tar):\n",
        "  \n",
        "  inp = tf.squeeze(input,axis=0)\n",
        "  inCT = inp[:,:,0]\n",
        "  inPDOS = inp[:,:,2]\n",
        "  #input =[inCT[tf.newaxis, ...],inPDOS[tf.newaxis, ...]]\n",
        "  \n",
        "  prediction = model(inputs=[inCT[tf.newaxis, ...],inPDOS[tf.newaxis, ...]], training=True)\n",
        "  #prediction = model(input, training=True)\n",
        "  plt.figure(figsize=(10, 10))\n",
        "\n",
        "  # print(\"Input \")\n",
        "  # print(type(cbct_input))\n",
        "  # print(tf.shape(cbct_input))\n",
        "  # print(\"ground truth\")\n",
        "  # print(type(tar))\n",
        "  # print(tf.shape(tar))\n",
        "  display_list = [input[0], tar[0], prediction[0]]\n",
        "  title = ['Input CBCT Image', 'Ground Truth', 'Predicted Image']\n",
        "  \n",
        "  plt.subplot(1, 4, 1)\n",
        "  plt.title('Input Image')\n",
        "  # Getting the pixel values in the [0, 1] range to plot.\n",
        "  \n",
        "  input = tf.squeeze(input,axis=0)\n",
        "  inslice = getinput(input,1)\n",
        "  \n",
        "  plt.imshow(inslice)\n",
        "  plt.axis('off')\n",
        "  plt.subplot(1, 4, 2)\n",
        "  plt.title('Ground Truth')\n",
        "  # Getting the pixel values in the [0, 1] range to plot.\n",
        "  #plt.imshow(tf.squeeze(tar[0],axis=0))\n",
        "  #tar = tf.cast(tar,tf.float32)\n",
        "  plt.imshow(tf.squeeze(tar[0],axis=-1))\n",
        "  plt.axis('off')\n",
        "  plt.subplot(1, 4, 3)\n",
        "\n",
        "  plt.title('Prediction')\n",
        "  # Getting the pixel values in the [0, 1] range to plot.\n",
        "  #plt.imshow(tf.squeeze(tar[0],axis=0))\n",
        "  #tar = tf.cast(tar,tf.float32)\n",
        "  plt.imshow(tf.squeeze(prediction[0],axis=-1))\n",
        "  plt.axis('off')\n",
        "  \n",
        "  \n",
        "  plt.subplot(1, 4, 4)\n",
        "  plt.title('Predicted Image')\n",
        "  \n",
        "  tar = tf.squeeze(tar, axis=0)\n",
        "  tar = tf.squeeze(tar, axis=-1)\n",
        "  prediction = tf.squeeze(prediction, axis=0)\n",
        "  prediction = tf.squeeze(prediction, axis=-1)\n",
        "  \n",
        "  predvec = prediction[128,1:256]\n",
        "  rtvec = tar[128,1:256]\n",
        "  \n",
        "  #predvec = prediction[1:256,128]\n",
        "  #rtvec = tar[1:256,128]\n",
        "\n",
        "\n",
        "  plt.plot(rtvec,'g')\n",
        "  plt.title(\"Meas RT IMG (Green)\")\n",
        "  plt.plot(predvec,'b')\n",
        "\n",
        "  # Getting the pixel values in the [0, 1] range to plot.\n",
        "  #print(tf.shape(prediction))\n",
        "  #prediction = tf.cast(prediction,tf.float32)\n",
        "  #plt.imshow(tf.squeeze(prediction[0],axis=-1))\n",
        "  #plt.axis('off')\n",
        "  \n",
        "  plt.show()"
      ]
    },
    {
      "cell_type": "markdown",
      "metadata": {
        "id": "gipsSEoZIG1a"
      },
      "source": [
        "Test the function:"
      ]
    },
    {
      "cell_type": "code",
      "execution_count": null,
      "metadata": {
        "colab": {
          "base_uri": "https://localhost:8080/",
          "height": 625
        },
        "id": "8Fc4NzT-DgEx",
        "outputId": "ba879cb1-e8cb-466f-e312-54e831d595e5"
      },
      "outputs": [
        {
          "output_type": "stream",
          "name": "stdout",
          "text": [
            "tf.Tensor([  1 256 256   3], shape=(4,), dtype=int32)\n"
          ]
        },
        {
          "output_type": "display_data",
          "data": {
            "text/plain": [
              "<Figure size 720x720 with 4 Axes>"
            ],
            "image/png": "[encoded data removed]"
          },
          "metadata": {
            "needs_background": "light"
          }
        }
      ],
      "source": [
        "for example in valid_dataset.take(1):\n",
        "  input = example['input']\n",
        "  print(tf.shape(input))\n",
        "  rtimg = example['rtimg']\n",
        "  #rtimg = tf.squeeze(rtimg, axis=0)\n",
        "  generate_images(generator, input, rtimg)"
      ]
    },
    {
      "cell_type": "markdown",
      "metadata": {
        "id": "NLKOG55MErD0"
      },
      "source": [
        "## Training\n",
        "\n",
        "- For each example input generates an output.\n",
        "- The discriminator receives the `input_image` and the generated image as the first input. The second input is the `input_image` and the `target_image`.\n",
        "- Next, calculate the generator and the discriminator loss.\n",
        "- Then, calculate the gradients of loss with respect to both the generator and the discriminator variables(inputs) and apply those to the optimizer.\n",
        "- Finally, log the losses to TensorBoard."
      ]
    },
    {
      "cell_type": "code",
      "execution_count": null,
      "metadata": {
        "colab": {
          "base_uri": "https://localhost:8080/"
        },
        "id": "xNNMDBNH12q-",
        "outputId": "c5bbd14f-ee1c-424b-b025-79dbb4d825ff"
      },
      "outputs": [
        {
          "output_type": "stream",
          "name": "stdout",
          "text": [
            "20220331-161759\n"
          ]
        }
      ],
      "source": [
        "log_dir=\"/content/drive/MyDrive/Colab Notebooks/logs_CB/\"\n",
        "if running_local:\n",
        "    log_dir = r'R:\\Bojechko\\TFRecords\\log_dir'\n",
        "print(datetime.datetime.now().strftime(\"%Y%m%d-%H%M%S\"))\n",
        "\n",
        "summary_writer = tf.summary.create_file_writer(\n",
        "  log_dir + \"GEN_simple\" + datetime.datetime.now().strftime(\"%Y%m%d-%H%M%S\"))"
      ]
    },
    {
      "cell_type": "code",
      "execution_count": null,
      "metadata": {
        "id": "KBKUV2sKXDbY"
      },
      "outputs": [],
      "source": [
        "@tf.function\n",
        "def train_step(input_image, target, step):\n",
        "  with tf.GradientTape() as gen_tape, tf.GradientTape() as disc_tape:\n",
        "    inp = tf.squeeze(input,axis=0)\n",
        "    inCT = inp[:,:,0]\n",
        "    inPDOS = inp[:,:,2]\n",
        "    gen_output = generator(inputs=[inCT[tf.newaxis, ...],inPDOS[tf.newaxis, ...]], training=True)\n",
        "    #gen_output = generator(input_image, training=True)\n",
        "\n",
        "    gen_l1_loss = generator_loss(gen_output, target)\n",
        "    \n",
        "\n",
        "  generator_gradients = gen_tape.gradient(gen_l1_loss,\n",
        "                                          generator.trainable_variables)\n",
        "  \n",
        "\n",
        "  generator_optimizer.apply_gradients(zip(generator_gradients,\n",
        "                                          generator.trainable_variables))\n",
        "  \n",
        "\n",
        "  with summary_writer.as_default():\n",
        "    tf.summary.scalar('gen_l1_loss', gen_l1_loss, step=step//500)"
      ]
    },
    {
      "cell_type": "markdown",
      "metadata": {
        "id": "hx7s-vBHFKdh"
      },
      "source": [
        "The actual training loop. Since this tutorial can run of more than one dataset, and the datasets vary greatly in size the training loop is setup to work in steps instead of epochs.\n",
        "\n",
        "- Iterates over the number of steps.\n",
        "- Every 10 steps print a dot (`.`).\n",
        "- Every 1k steps: clear the display and run `generate_images` to show the progress.\n",
        "- Every 5k steps: save a checkpoint."
      ]
    },
    {
      "cell_type": "code",
      "execution_count": null,
      "metadata": {
        "id": "GFyPlBWv1B5j"
      },
      "outputs": [],
      "source": [
        "def fit(train_ds, test_ds, steps):\n",
        "  iterator = iter(test_ds.take(1))\n",
        "  example = next(iterator)\n",
        "  ex_input = example['input']\n",
        "  rtimg = example['rtimg']\n",
        "  #rtimg = tf.squeeze(rtimg, axis=0)\n",
        "  start = time.time()\n",
        "  for step, (input_obj) in train_ds.repeat().take(steps).enumerate():\n",
        "    if (step) % 1000 == 0:\n",
        "      display.clear_output(wait=True)\n",
        "\n",
        "      if step != 0:\n",
        "        print(f'Time taken for 1000 steps: {time.time()-start} sec\\n')\n",
        "        start = time.time()\n",
        "\n",
        "      generate_images(generator, ex_input, rtimg)\n",
        "      print(f\"Step: {step//1000}k\")\n",
        "\n",
        "    input = input_obj['input']\n",
        "    target = input_obj['rtimg'] \n",
        "    train_step(input, target, step)\n",
        "\n",
        "    # Training step\n",
        "    if (step+1) % 100 == 0:\n",
        "      print('.', end='', flush=True)\n",
        "\n",
        "\n",
        "    # Save (checkpoint) the model every 5k steps\n",
        "    if (step + 1) % 5000 == 0:\n",
        "      checkpoint.save(file_prefix=checkpoint_prefix)"
      ]
    },
    {
      "cell_type": "code",
      "execution_count": null,
      "metadata": {
        "id": "1Ht-o-Cudvix"
      },
      "outputs": [],
      "source": [
        "# def fit_new(train_generator, validation_generator, steps):\n",
        "#     validation_iterator = iter(validation_generator.data_set)\n",
        "#     train_iterator = iter(train_generator.data_set)\n",
        "#     for step in range(steps):\n",
        "#       if step % 1000 == 0:\n",
        "#           x, y = next(validation_iterator)\n",
        "#           generate_images(generator, x[0], y[0])\n",
        "#       x, y = next(train_iterator)\n",
        "#       input_image = x[0]\n",
        "#       target_image = y[0]\n",
        "#       train_step(input_image, target_image, step)\n",
        "#       # Training step\n",
        "#       if (step+1) % 100 == 0:\n",
        "#           print('.', end='', flush=True)\n",
        "#           print(step)\n",
        "#       # Save (checkpoint) the model every 5k steps\n",
        "#       if (step + 1) % 100 == 0:\n",
        "#           checkpoint.save(file_prefix=checkpoint_prefix)"
      ]
    },
    {
      "cell_type": "markdown",
      "metadata": {
        "id": "wozqyTh2wmCu"
      },
      "source": [
        "This training loop saves logs that you can view in TensorBoard to monitor the training progress.\n",
        "\n",
        "If you work on a local machine, you would launch a separate TensorBoard process. When working in a notebook, launch the viewer before starting the training to monitor with TensorBoard.\n",
        "\n",
        "To launch the viewer paste the following into a code-cell:"
      ]
    },
    {
      "cell_type": "markdown",
      "metadata": {
        "id": "Pe0-8Bzg22ox"
      },
      "source": [
        "Finally, run the training loop:"
      ]
    },
    {
      "cell_type": "code",
      "execution_count": null,
      "metadata": {
        "id": "p8cubdGG_X_w"
      },
      "outputs": [],
      "source": [
        "#checkpoint.restore(tf.train.latest_checkpoint(checkpoint_dir))"
      ]
    },
    {
      "cell_type": "code",
      "execution_count": null,
      "metadata": {
        "colab": {
          "base_uri": "https://localhost:8080/",
          "height": 678
        },
        "id": "a1zZmKmvOH85",
        "outputId": "eb72c411-3840-417c-8a6f-cb7c764462a7"
      },
      "outputs": [
        {
          "output_type": "stream",
          "name": "stdout",
          "text": [
            "Time taken for 1000 steps: 4.10591459274292 sec\n",
            "\n"
          ]
        },
        {
          "output_type": "display_data",
          "data": {
            "text/plain": [
              "<Figure size 720x720 with 4 Axes>"
            ],
            "image/png": "[encoded data removed]"
          },
          "metadata": {
            "needs_background": "light"
          }
        },
        {
          "output_type": "stream",
          "name": "stdout",
          "text": [
            "Step: 9k\n",
            ".........."
          ]
        }
      ],
      "source": [
        "fit(train_dataset, valid_dataset, steps=10000)"
      ]
    },
    {
      "cell_type": "code",
      "source": [
        "%reload_ext tensorboard"
      ],
      "metadata": {
        "id": "o4PQNHvHPs_o"
      },
      "execution_count": null,
      "outputs": []
    },
    {
      "cell_type": "code",
      "execution_count": null,
      "metadata": {
        "id": "Ot22ujrlLhOd"
      },
      "outputs": [],
      "source": [
        "#docs_infra: no_execute'\n",
        "\n",
        "%tensorboard --logdir '/content/drive/MyDrive/Colab Notebooks/logs_CB/'"
      ]
    },
    {
      "cell_type": "markdown",
      "metadata": {
        "id": "oeq9sByu86-B"
      },
      "source": [
        "If you want to share the TensorBoard results _publicly_, you can upload the logs to [TensorBoard.dev](https://tensorboard.dev/) by copying the following into a code-cell.\n",
        "\n",
        "Note: This requires a Google account.\n",
        "\n",
        "```\n",
        "!tensorboard dev upload --logdir {log_dir}\n",
        "```"
      ]
    },
    {
      "cell_type": "markdown",
      "metadata": {
        "id": "l-kT7WHRKz-E"
      },
      "source": [
        "Caution: This command does not terminate. It's designed to continuously upload the results of long-running experiments. Once your data is uploaded you need to stop it using the \"interrupt execution\" option in your notebook tool."
      ]
    },
    {
      "cell_type": "markdown",
      "metadata": {
        "id": "-lGhS_LfwQoL"
      },
      "source": [
        "You can view the [results of a previous run](https://tensorboard.dev/experiment/lZ0C6FONROaUMfjYkVyJqw) of this notebook on [TensorBoard.dev](https://tensorboard.dev/).\n",
        "\n",
        "TensorBoard.dev is a managed experience for hosting, tracking, and sharing ML experiments with everyone.\n",
        "\n",
        "It can also included inline using an `<iframe>`:"
      ]
    },
    {
      "cell_type": "code",
      "execution_count": null,
      "metadata": {
        "id": "8IS4c93guQ8E"
      },
      "outputs": [],
      "source": [
        "# display.IFrame(\n",
        "#     src=\"https://tensorboard.dev/experiment/lZ0C6FONROaUMfjYkVyJqw\",\n",
        "#     width=\"100%\",\n",
        "#     height=\"1000px\")"
      ]
    },
    {
      "cell_type": "markdown",
      "metadata": {
        "id": "DMTm4peo3cem"
      },
      "source": [
        "Interpreting the logs is more subtle when training a GAN (or a cGAN like pix2pix) compared to a simple classification or regression model. Things to look for:\n",
        "\n",
        "- Check that neither the generator nor the discriminator model has \"won\". If either the `gen_gan_loss` or the `disc_loss` gets very low, it's an indicator that this model is dominating the other, and you are not successfully training the combined model.\n",
        "- The value `log(2) = 0.69` is a good reference point for these losses, as it indicates a perplexity of 2 - the discriminator is, on average, equally uncertain about the two options.\n",
        "- For the `disc_loss`, a value below `0.69` means the discriminator is doing better than random on the combined set of real and generated images.\n",
        "- For the `gen_gan_loss`, a value below `0.69` means the generator is doing better than random at fooling the discriminator.\n",
        "- As training progresses, the `gen_l1_loss` should go down."
      ]
    },
    {
      "cell_type": "markdown",
      "metadata": {
        "id": "kz80bY3aQ1VZ"
      },
      "source": [
        "## Restore the latest checkpoint and test the network"
      ]
    },
    {
      "cell_type": "code",
      "execution_count": null,
      "metadata": {
        "id": "HSSm4kfvJiqv"
      },
      "outputs": [],
      "source": [
        "#os.listdir(checkpoint_dir)\n",
        "#os.listdir(log_dir + '/fit')"
      ]
    },
    {
      "cell_type": "code",
      "execution_count": null,
      "metadata": {
        "id": "4t4x69adQ5xb"
      },
      "outputs": [],
      "source": [
        "#Restoring the latest checkpoint in checkpoint_dir\n",
        "#checkpoint.restore(tf.train.latest_checkpoint(checkpoint_dir))"
      ]
    },
    {
      "cell_type": "markdown",
      "metadata": {
        "id": "1RGysMU_BZhx"
      },
      "source": [
        "## Generate some images using the test set"
      ]
    },
    {
      "cell_type": "code",
      "execution_count": null,
      "metadata": {
        "id": "g6yulOFllIh2"
      },
      "outputs": [],
      "source": [
        "generator.save('/content/drive/MyDrive/Colab Notebooks/cb_models/GEN_relu_2k_fold1.h5')"
      ]
    },
    {
      "cell_type": "code",
      "execution_count": null,
      "metadata": {
        "id": "Wtd3ZA-eI_ap"
      },
      "outputs": [],
      "source": [
        "gamma_options = {\n",
        "    'dose_percent_threshold': 3,  # Try with 2%/2mm \n",
        "    'distance_mm_threshold': 3,\n",
        "    'lower_percent_dose_cutoff': 10,\n",
        "    'interp_fraction': 20,  # Should be 10 or more, see the paper referenced above\n",
        "    'max_gamma': 2,\n",
        "    'random_subset': None,  # Can be used to get quick pass rates\n",
        "    'local_gamma': False,  # Change to false for global gamma\n",
        "    'ram_available': 2**29  # 1/2 GB\n",
        "}"
      ]
    },
    {
      "cell_type": "code",
      "execution_count": null,
      "metadata": {
        "id": "pcxutIrdJF7U"
      },
      "outputs": [],
      "source": [
        "xepidmin = -256\n",
        "xepidmax = 256\n",
        "yepidmin = -256\n",
        "yepidmax = 256\n",
        "grid = 2\n",
        "xepid = np.arange(xepidmin,xepidmax,grid)\n",
        "yepid = np.arange(yepidmin,yepidmax,grid)\n",
        "coords = (yepid,xepid)"
      ]
    },
    {
      "cell_type": "code",
      "execution_count": null,
      "metadata": {
        "id": "WTyCBjAV1vJZ"
      },
      "outputs": [],
      "source": [
        "# testfiles = tf.io.gfile.glob('/content/drive/My Drive/train/nifti/fold4/12_4_35.*')\n",
        "# valid_data = load_data(testfiles, tf.estimator.ModeKeys.TRAIN, '/content/drive/My Drive/train/nifti/fold1')\n",
        "\n",
        "# valid_dataset = tf.data.Dataset.from_tensor_slices((valid_data))\n",
        "# valid_dataset = valid_dataset.batch(BATCH_SIZE)"
      ]
    },
    {
      "cell_type": "code",
      "execution_count": null,
      "metadata": {
        "id": "TPwaQHAcHiLr",
        "colab": {
          "base_uri": "https://localhost:8080/",
          "height": 1000
        },
        "outputId": "9ba1118e-fb2c-4303-ed33-14cd016d9ea7"
      },
      "outputs": [
        {
          "output_type": "error",
          "ename": "ValueError",
          "evalue": "ignored",
          "traceback": [
            "\u001b[0;31m---------------------------------------------------------------------------\u001b[0m",
            "\u001b[0;31mValueError\u001b[0m                                Traceback (most recent call last)",
            "\u001b[0;32m<ipython-input-133-e397fabd0c30>\u001b[0m in \u001b[0;36m<module>\u001b[0;34m()\u001b[0m\n\u001b[1;32m      4\u001b[0m \u001b[0;31m#print(tf.shape(cbct_input))\u001b[0m\u001b[0;34m\u001b[0m\u001b[0;34m\u001b[0m\u001b[0;34m\u001b[0m\u001b[0m\n\u001b[1;32m      5\u001b[0m \u001b[0mtar\u001b[0m \u001b[0;34m=\u001b[0m \u001b[0mexample\u001b[0m\u001b[0;34m[\u001b[0m\u001b[0;34m'rtimg'\u001b[0m\u001b[0;34m]\u001b[0m\u001b[0;34m\u001b[0m\u001b[0;34m\u001b[0m\u001b[0m\n\u001b[0;32m----> 6\u001b[0;31m \u001b[0mprediction\u001b[0m \u001b[0;34m=\u001b[0m \u001b[0mgenerator\u001b[0m\u001b[0;34m(\u001b[0m\u001b[0minput\u001b[0m\u001b[0;34m,\u001b[0m \u001b[0mtraining\u001b[0m\u001b[0;34m=\u001b[0m\u001b[0;32mTrue\u001b[0m\u001b[0;34m)\u001b[0m\u001b[0;34m\u001b[0m\u001b[0;34m\u001b[0m\u001b[0m\n\u001b[0m\u001b[1;32m      7\u001b[0m \u001b[0;31m#prediction = generator(input)\u001b[0m\u001b[0;34m\u001b[0m\u001b[0;34m\u001b[0m\u001b[0;34m\u001b[0m\u001b[0m\n\u001b[1;32m      8\u001b[0m \u001b[0;34m\u001b[0m\u001b[0m\n",
            "\u001b[0;32m/usr/local/lib/python3.7/dist-packages/keras/utils/traceback_utils.py\u001b[0m in \u001b[0;36merror_handler\u001b[0;34m(*args, **kwargs)\u001b[0m\n\u001b[1;32m     65\u001b[0m     \u001b[0;32mexcept\u001b[0m \u001b[0mException\u001b[0m \u001b[0;32mas\u001b[0m \u001b[0me\u001b[0m\u001b[0;34m:\u001b[0m  \u001b[0;31m# pylint: disable=broad-except\u001b[0m\u001b[0;34m\u001b[0m\u001b[0;34m\u001b[0m\u001b[0m\n\u001b[1;32m     66\u001b[0m       \u001b[0mfiltered_tb\u001b[0m \u001b[0;34m=\u001b[0m \u001b[0m_process_traceback_frames\u001b[0m\u001b[0;34m(\u001b[0m\u001b[0me\u001b[0m\u001b[0;34m.\u001b[0m\u001b[0m__traceback__\u001b[0m\u001b[0;34m)\u001b[0m\u001b[0;34m\u001b[0m\u001b[0;34m\u001b[0m\u001b[0m\n\u001b[0;32m---> 67\u001b[0;31m       \u001b[0;32mraise\u001b[0m \u001b[0me\u001b[0m\u001b[0;34m.\u001b[0m\u001b[0mwith_traceback\u001b[0m\u001b[0;34m(\u001b[0m\u001b[0mfiltered_tb\u001b[0m\u001b[0;34m)\u001b[0m \u001b[0;32mfrom\u001b[0m \u001b[0;32mNone\u001b[0m\u001b[0;34m\u001b[0m\u001b[0;34m\u001b[0m\u001b[0m\n\u001b[0m\u001b[1;32m     68\u001b[0m     \u001b[0;32mfinally\u001b[0m\u001b[0;34m:\u001b[0m\u001b[0;34m\u001b[0m\u001b[0;34m\u001b[0m\u001b[0m\n\u001b[1;32m     69\u001b[0m       \u001b[0;32mdel\u001b[0m \u001b[0mfiltered_tb\u001b[0m\u001b[0;34m\u001b[0m\u001b[0;34m\u001b[0m\u001b[0m\n",
            "\u001b[0;32m/usr/local/lib/python3.7/dist-packages/keras/engine/input_spec.py\u001b[0m in \u001b[0;36massert_input_compatibility\u001b[0;34m(input_spec, inputs, layer_name)\u001b[0m\n\u001b[1;32m    198\u001b[0m \u001b[0;34m\u001b[0m\u001b[0m\n\u001b[1;32m    199\u001b[0m   \u001b[0;32mif\u001b[0m \u001b[0mlen\u001b[0m\u001b[0;34m(\u001b[0m\u001b[0minputs\u001b[0m\u001b[0;34m)\u001b[0m \u001b[0;34m!=\u001b[0m \u001b[0mlen\u001b[0m\u001b[0;34m(\u001b[0m\u001b[0minput_spec\u001b[0m\u001b[0;34m)\u001b[0m\u001b[0;34m:\u001b[0m\u001b[0;34m\u001b[0m\u001b[0;34m\u001b[0m\u001b[0m\n\u001b[0;32m--> 200\u001b[0;31m     raise ValueError(f'Layer \"{layer_name}\" expects {len(input_spec)} input(s),'\n\u001b[0m\u001b[1;32m    201\u001b[0m                      \u001b[0;34mf' but it received {len(inputs)} input tensors. '\u001b[0m\u001b[0;34m\u001b[0m\u001b[0;34m\u001b[0m\u001b[0m\n\u001b[1;32m    202\u001b[0m                      f'Inputs received: {inputs}')\n",
            "\u001b[0;31mValueError\u001b[0m: Layer \"model_16\" expects 2 input(s), but it received 1 input tensors. Inputs received: [<tf.Tensor: shape=(1, 256, 256, 3), dtype=float32, numpy=\narray([[[[-1., -1., -1.],\n         [-1., -1., -1.],\n         [-1., -1., -1.],\n         ...,\n         [-1., -1., -1.],\n         [-1., -1., -1.],\n         [-1., -1., -1.]],\n\n        [[-1., -1., -1.],\n         [-1., -1., -1.],\n         [-1., -1., -1.],\n         ...,\n         [-1., -1., -1.],\n         [-1., -1., -1.],\n         [-1., -1., -1.]],\n\n        [[-1., -1., -1.],\n         [-1., -1., -1.],\n         [-1., -1., -1.],\n         ...,\n         [-1., -1., -1.],\n         [-1., -1., -1.],\n         [-1., -1., -1.]],\n\n        ...,\n\n        [[-1., -1., -1.],\n         [-1., -1., -1.],\n         [-1., -1., -1.],\n         ...,\n         [-1., -1., -1.],\n         [-1., -1., -1.],\n         [-1., -1., -1.]],\n\n        [[-1., -1., -1.],\n         [-1., -1., -1.],\n         [-1., -1., -1.],\n         ...,\n         [-1., -1., -1.],\n         [-1., -1., -1.],\n         [-1., -1., -1.]],\n\n        [[-1., -1., -1.],\n         [-1., -1., -1.],\n         [-1., -1., -1.],\n         ...,\n         [-1., -1., -1.],\n         [-1., -1., -1.],\n         [-1., -1., -1.]]]], dtype=float32)>]"
          ]
        }
      ],
      "source": [
        "example = next(iter(valid_dataset))\n",
        "\n",
        "input = example['input']\n",
        "#print(tf.shape(cbct_input))\n",
        "tar = example['rtimg']\n",
        "prediction = generator(input, training=True) \n",
        "#prediction = generator(input)\n",
        "\n",
        "diff = tf.subtract(tar,prediction)\n",
        "diff = tf.squeeze(diff, axis=0)\n",
        "diffvec = diff[120,1:256]\n",
        "tar = tf.squeeze(tar, axis=0)\n",
        "tar = tf.squeeze(tar, axis=-1)\n",
        "rtimage = tar\n",
        "\n",
        "prediction = tf.squeeze(prediction, axis=0)\n",
        "prediction = tf.squeeze(prediction, axis=-1)\n",
        "prediction = prediction \n",
        "\n",
        "inp = tf.squeeze(input,axis=0)\n",
        "inslice = getinput(inp,1)\n",
        "\n",
        "plt.figure(figsize=(10, 10))\n",
        "  \n",
        "plt.subplot(2, 2, 1)\n",
        "plt.imshow(inslice,alpha=0.8) \n",
        "plt.imshow(rtimage,alpha=0.5)\n",
        "plt.subplot(2, 2, 2)\n",
        "plt.imshow(prediction)\n",
        "  \n",
        "predvec = prediction[128,1:256]\n",
        "rtvec = rtimage[128,1:256]\n",
        "  \n",
        "#predvec = prediction[1:256,128]\n",
        "#rtvec = rtimage[1:256,128]\n",
        "\n",
        "plt.subplot(2, 2, 3)\n",
        "plt.plot(rtvec,'g')\n",
        "plt.title(\"Meas RT IMG (Green)\")\n",
        "plt.plot(predvec,'b')\n",
        "#print(str(example[\"fname\"]))\n",
        "\n",
        "gamma_test = pymedphys.gamma(coords,rtimage, coords, prediction, **gamma_options)\n",
        "valid_gamma = gamma_test[~np.isnan(gamma_test)]\n",
        "\n",
        "num_bins = (\n",
        "    gamma_options['interp_fraction'] * gamma_options['max_gamma'])\n",
        "bins = np.linspace(0, gamma_options['max_gamma'], num_bins + 1)\n",
        "\n",
        "#gamma_no_noise = pymedphys.gamma(coords, rtimage, coords, prediction,**gamma_options)\n",
        "plt.subplot(2, 2, 4)\n",
        "\n",
        "plt.imshow( gamma_test, clim=(0, 2), cmap='coolwarm')\n",
        "\n",
        "# plt.hist(valid_gamma, bins, density=True)\n",
        "# plt.xlim([0, gamma_options['max_gamma']])\n",
        "pass_ratio = np.sum(valid_gamma <= 1) / len(valid_gamma)\n",
        "plt.title(f\"Local Gamma ({gamma_options['dose_percent_threshold']}%/{gamma_options['distance_mm_threshold']}mm) | Percent Pass: {pass_ratio*100:.2f} %\")"
      ]
    },
    {
      "cell_type": "code",
      "execution_count": null,
      "metadata": {
        "id": "ck1o0QAY71Zv"
      },
      "outputs": [],
      "source": [
        "plt.imshow(gamma_test)"
      ]
    },
    {
      "cell_type": "code",
      "execution_count": null,
      "metadata": {
        "id": "ELlbbPKP0oQA"
      },
      "outputs": [],
      "source": [
        "all_ratios = np.zeros(len(list(valid_dataset)))\n",
        "i = 0\n",
        "i90 =0\n",
        "for example in valid_dataset:\n",
        "  tinp = example['input']\n",
        "  ttar = example['rtimg']\n",
        "  prediction = generator(tinp, training=True)\n",
        "  ttar = tf.squeeze(ttar, axis=0)\n",
        "  ttar = tf.squeeze(ttar, axis=-1)\n",
        "  rtimage = ttar\n",
        "\n",
        "  prediction = tf.squeeze(prediction, axis=0)\n",
        "  prediction = tf.squeeze(prediction, axis=-1)\n",
        "  prediction = prediction\n",
        "  gamma_test = pymedphys.gamma(coords,rtimage, coords, prediction, **gamma_options,quiet=True)\n",
        "  valid_gamma = gamma_test[~np.isnan(gamma_test)]\n",
        "  pass_ratio = np.sum(valid_gamma <= 1) / len(valid_gamma)\n",
        "  #tf.print(example[\"fname\"])\n",
        "  print(pass_ratio)\n",
        "  all_ratios[i] = pass_ratio\n",
        "  i = i+1\n",
        "  if(pass_ratio> 0.90):\n",
        "    i90 = i90+1\n",
        "\n",
        "print(\"mean \" + str(np.mean(all_ratios)))\n",
        "print(\"STD \" + str(np.std(all_ratios)))\n",
        "print(\"max \" + str(np.max(all_ratios)))\n",
        "print(\"min \" + str(np.min(all_ratios)))\n",
        "print(\"fraction > 90% \" + str(i90) + \" total \" + str(i))\n",
        "plt.hist(all_ratios)"
      ]
    }
  ],
  "metadata": {
    "accelerator": "GPU",
    "colab": {
      "collapsed_sections": [],
      "name": "Simple Model GEN.ipynb",
      "provenance": [],
      "include_colab_link": true
    },
    "kernelspec": {
      "display_name": "ITK Environment",
      "language": "python",
      "name": "itkenv"
    },
    "language_info": {
      "codemirror_mode": {
        "name": "ipython",
        "version": 3
      },
      "file_extension": ".py",
      "mimetype": "text/x-python",
      "name": "python",
      "nbconvert_exporter": "python",
      "pygments_lexer": "ipython3",
      "version": "3.8.10"
    }
  },
  "nbformat": 4,
  "nbformat_minor": 0
}