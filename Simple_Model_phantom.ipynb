{
  "cells": [
    {
      "cell_type": "markdown",
      "metadata": {
        "id": "view-in-github",
        "colab_type": "text"
      },
      "source": [
        "<a href=\"https://colab.research.google.com/github/brianmanderson/Image_Prediction/blob/main/Simple_Model_phantom.ipynb\" target=\"_parent\"><img src=\"https://colab.research.google.com/assets/colab-badge.svg\" alt=\"Open In Colab\"/></a>"
      ]
    },
    {
      "cell_type": "markdown",
      "metadata": {
        "id": "v1CUZ0dkOo_F"
      },
      "source": [
        "##### Copyright 2019 The TensorFlow Authors.\n",
        "\n",
        "Licensed under the Apache License, Version 2.0 (the \"License\");"
      ]
    },
    {
      "cell_type": "code",
      "execution_count": null,
      "metadata": {
        "cellView": "form",
        "id": "qmkj-80IHxnd"
      },
      "outputs": [],
      "source": [
        "#@title Licensed under the Apache License, Version 2.0 (the \"License\");\n",
        "# you may not use this file except in compliance with the License.\n",
        "# You may obtain a copy of the License at\n",
        "#\n",
        "# https://www.apache.org/licenses/LICENSE-2.0\n",
        "#\n",
        "# Unless required by applicable law or agreed to in writing, software\n",
        "# distributed under the License is distributed on an \"AS IS\" BASIS,\n",
        "# WITHOUT WARRANTIES OR CONDITIONS OF ANY KIND, either express or implied.\n",
        "# See the License for the specific language governing permissions and\n",
        "# limitations under the License."
      ]
    },
    {
      "cell_type": "markdown",
      "metadata": {
        "id": "_xnMOsbqHz61"
      },
      "source": [
        "# pix2pix: Image-to-image translation with a conditional GAN"
      ]
    },
    {
      "cell_type": "markdown",
      "metadata": {
        "id": "Ds4o1h4WHz9U"
      },
      "source": [
        "<table class=\"tfo-notebook-buttons\" align=\"left\">\n",
        "  <td>\n",
        "    <a target=\"_blank\" href=\"https://www.tensorflow.org/tutorials/generative/pix2pix\"><img src=\"https://www.tensorflow.org/images/tf_logo_32px.png\" />View on TensorFlow.org</a>\n",
        "  </td>\n",
        "  <td>\n",
        "    <a target=\"_blank\" href=\"https://colab.research.google.com/github/tensorflow/docs/blob/master/site/en/tutorials/generative/pix2pix.ipynb\"><img src=\"https://www.tensorflow.org/images/colab_logo_32px.png\" />Run in Google Colab</a>\n",
        "  </td>\n",
        "  <td>\n",
        "    <a target=\"_blank\" href=\"https://github.com/tensorflow/docs/blob/master/site/en/tutorials/generative/pix2pix.ipynb\"><img src=\"https://www.tensorflow.org/images/GitHub-Mark-32px.png\" />View source on GitHub</a>\n",
        "  </td>\n",
        "  <td>\n",
        "    <a href=\"https://storage.googleapis.com/tensorflow_docs/docs/site/en/tutorials/generative/pix2pix.ipynb\"><img src=\"https://www.tensorflow.org/images/download_logo_32px.png\" />Download notebook</a>\n",
        "  </td>\n",
        "</table>"
      ]
    },
    {
      "cell_type": "markdown",
      "metadata": {
        "id": "ITZuApL56Mny"
      },
      "source": [
        "This Google Colab Notebook heavily buroows from the pix2pix example. \n",
        "How to build and train a conditional generative adversarial network (cGAN) called pix2pix that learns a mapping from input images to output images, as described in [Image-to-image translation with conditional adversarial networks](https://arxiv.org/abs/1611.07004) by Isola et al. (2017). pix2pix is not application specific—it can be applied to a wide range of tasks, including synthesizing photos from label maps, generating colorized photos from black and white images, turning Google Maps photos into aerial images, and even transforming sketches into photos.\n",
        "\n",
        "In the pix2pix cGAN, you condition on input images and generate corresponding output images. cGANs were first proposed in [Conditional Generative Adversarial Nets](https://arxiv.org/abs/1411.1784) (Mirza and Osindero, 2014)\n",
        "\n",
        "The architecture of your network will contain:\n",
        "\n",
        "- A generator with a [U-Net]([U-Net](https://arxiv.org/abs/1505.04597))-based architecture.\n",
        "- A discriminator represented by a convolutional PatchGAN classifier (proposed in the [pix2pix paper](https://arxiv.org/abs/1611.07004)).\n",
        "\n",
        "Note that each epoch can take around 15 seconds on a single V100 GPU.\n",
        "\n"
      ]
    },
    {
      "cell_type": "markdown",
      "metadata": {
        "id": "e1_Y75QXJS6h"
      },
      "source": [
        "## Import TensorFlow and other libraries"
      ]
    },
    {
      "cell_type": "code",
      "execution_count": null,
      "metadata": {
        "id": "YfIk2es3hJEd"
      },
      "outputs": [],
      "source": [
        "import tensorflow as tf\n",
        "\n",
        "import os\n",
        "import sys \n",
        "import pathlib\n",
        "import time\n",
        "import datetime\n",
        "import numpy as np\n",
        "from matplotlib import pyplot as plt\n",
        "from IPython import display\n",
        "import tensorflow.experimental.numpy as tnp"
      ]
    },
    {
      "cell_type": "code",
      "execution_count": null,
      "metadata": {
        "colab": {
          "base_uri": "https://localhost:8080/"
        },
        "id": "iPVGz0KIdvia",
        "outputId": "65b379d9-c0ac-4992-e503-8dc80fb0280f"
      },
      "outputs": [
        {
          "output_type": "stream",
          "name": "stdout",
          "text": [
            "Mounted at /content/drive\n"
          ]
        }
      ],
      "source": [
        "running_local = False\n",
        "try:\n",
        "    from google.colab import drive\n",
        "    drive.mount('/content/drive')\n",
        "    nb_path = '/content/notebooks'\n",
        "    os.symlink('/content/drive/MyDrive/Colab Notebooks', nb_path)\n",
        "    sys.path.insert(0, nb_path)  # or append(nb_path)\n",
        "except:\n",
        "    running_local = True\n",
        "    print(\"Running locally\")"
      ]
    },
    {
      "cell_type": "code",
      "execution_count": null,
      "metadata": {
        "colab": {
          "base_uri": "https://localhost:8080/"
        },
        "id": "77lNAmzkYVXB",
        "outputId": "c13aaaca-daf8-4fac-dbb6-c45daeeadfd4"
      },
      "outputs": [
        {
          "output_type": "execute_result",
          "data": {
            "text/plain": [
              "['jpeg',\n",
              " 'tfrecords_removeone',\n",
              " 'tfrecords_one',\n",
              " 'old',\n",
              " 'fold1',\n",
              " 'fold2',\n",
              " 'fold3',\n",
              " 'fold4',\n",
              " 'fold5',\n",
              " 'norm_jpeg',\n",
              " 'csv',\n",
              " 'jpeg_old',\n",
              " 'phantom_train',\n",
              " 'phantom_valid',\n",
              " 'phantom_large',\n",
              " 'phantom_large_out']"
            ]
          },
          "metadata": {},
          "execution_count": 4
        }
      ],
      "source": [
        "os.listdir('/content/drive/My Drive/data')"
      ]
    },
    {
      "cell_type": "markdown",
      "metadata": {
        "id": "R4Ya7PQy4NBD"
      },
      "source": [
        "Line to install pymedphys which has a gamma function. Libaray was saved to Google drive and is commented out."
      ]
    },
    {
      "cell_type": "code",
      "execution_count": null,
      "metadata": {
        "id": "1oOw8vQJUyg-"
      },
      "outputs": [],
      "source": [
        "#!pip install --target=$nb_path pymedphys"
      ]
    },
    {
      "cell_type": "code",
      "execution_count": null,
      "metadata": {
        "colab": {
          "base_uri": "https://localhost:8080/",
          "height": 1000
        },
        "id": "wzufEZu702tH",
        "outputId": "a285b756-fc18-49ef-c1e7-9734d78eb5c4"
      },
      "outputs": [
        {
          "output_type": "stream",
          "name": "stdout",
          "text": [
            "Collecting SimpleITK\n",
            "  Downloading SimpleITK-2.1.1.2-cp37-cp37m-manylinux_2_12_x86_64.manylinux2010_x86_64.whl (48.4 MB)\n",
            "\u001b[K     |████████████████████████████████| 48.4 MB 1.5 MB/s \n",
            "\u001b[?25hInstalling collected packages: SimpleITK\n",
            "Successfully installed SimpleITK-2.1.1.2\n",
            "Collecting pymedphys\n",
            "  Downloading pymedphys-0.38.0-py3-none-any.whl (1.8 MB)\n",
            "\u001b[K     |████████████████████████████████| 1.8 MB 4.1 MB/s \n",
            "\u001b[?25hRequirement already satisfied: typing-extensions in /usr/local/lib/python3.7/dist-packages (from pymedphys) (4.1.1)\n",
            "Collecting ipython>=7.31.1\n",
            "  Downloading ipython-7.32.0-py3-none-any.whl (793 kB)\n",
            "\u001b[K     |████████████████████████████████| 793 kB 43.3 MB/s \n",
            "\u001b[?25hRequirement already satisfied: jedi>=0.16 in /usr/local/lib/python3.7/dist-packages (from ipython>=7.31.1->pymedphys) (0.18.1)\n",
            "Requirement already satisfied: traitlets>=4.2 in /usr/local/lib/python3.7/dist-packages (from ipython>=7.31.1->pymedphys) (5.1.1)\n",
            "Requirement already satisfied: backcall in /usr/local/lib/python3.7/dist-packages (from ipython>=7.31.1->pymedphys) (0.2.0)\n",
            "Requirement already satisfied: pickleshare in /usr/local/lib/python3.7/dist-packages (from ipython>=7.31.1->pymedphys) (0.7.5)\n",
            "Requirement already satisfied: pexpect>4.3 in /usr/local/lib/python3.7/dist-packages (from ipython>=7.31.1->pymedphys) (4.8.0)\n",
            "Requirement already satisfied: matplotlib-inline in /usr/local/lib/python3.7/dist-packages (from ipython>=7.31.1->pymedphys) (0.1.3)\n",
            "Requirement already satisfied: pygments in /usr/local/lib/python3.7/dist-packages (from ipython>=7.31.1->pymedphys) (2.6.1)\n",
            "Collecting prompt-toolkit!=3.0.0,!=3.0.1,<3.1.0,>=2.0.0\n",
            "  Downloading prompt_toolkit-3.0.29-py3-none-any.whl (381 kB)\n",
            "\u001b[K     |████████████████████████████████| 381 kB 53.6 MB/s \n",
            "\u001b[?25hRequirement already satisfied: setuptools>=18.5 in /usr/local/lib/python3.7/dist-packages (from ipython>=7.31.1->pymedphys) (57.4.0)\n",
            "Requirement already satisfied: decorator in /usr/local/lib/python3.7/dist-packages (from ipython>=7.31.1->pymedphys) (4.4.2)\n",
            "Requirement already satisfied: parso<0.9.0,>=0.8.0 in /usr/local/lib/python3.7/dist-packages (from jedi>=0.16->ipython>=7.31.1->pymedphys) (0.8.3)\n",
            "Requirement already satisfied: ptyprocess>=0.5 in /usr/local/lib/python3.7/dist-packages (from pexpect>4.3->ipython>=7.31.1->pymedphys) (0.7.0)\n",
            "Requirement already satisfied: wcwidth in /usr/local/lib/python3.7/dist-packages (from prompt-toolkit!=3.0.0,!=3.0.1,<3.1.0,>=2.0.0->ipython>=7.31.1->pymedphys) (0.2.5)\n",
            "Installing collected packages: prompt-toolkit, ipython, pymedphys\n",
            "  Attempting uninstall: prompt-toolkit\n",
            "    Found existing installation: prompt-toolkit 1.0.18\n",
            "    Uninstalling prompt-toolkit-1.0.18:\n",
            "      Successfully uninstalled prompt-toolkit-1.0.18\n",
            "  Attempting uninstall: ipython\n",
            "    Found existing installation: ipython 5.5.0\n",
            "    Uninstalling ipython-5.5.0:\n",
            "      Successfully uninstalled ipython-5.5.0\n",
            "\u001b[31mERROR: pip's dependency resolver does not currently take into account all the packages that are installed. This behaviour is the source of the following dependency conflicts.\n",
            "jupyter-console 5.2.0 requires prompt-toolkit<2.0.0,>=1.0.0, but you have prompt-toolkit 3.0.29 which is incompatible.\n",
            "google-colab 1.0.0 requires ipython~=5.5.0, but you have ipython 7.32.0 which is incompatible.\u001b[0m\n",
            "Successfully installed ipython-7.32.0 prompt-toolkit-3.0.29 pymedphys-0.38.0\n"
          ]
        },
        {
          "output_type": "display_data",
          "data": {
            "application/vnd.colab-display-data+json": {
              "pip_warning": {
                "packages": [
                  "IPython",
                  "prompt_toolkit"
                ]
              }
            }
          },
          "metadata": {}
        },
        {
          "output_type": "stream",
          "name": "stdout",
          "text": [
            "Collecting PlotScrollNumpyArrays\n",
            "  Downloading PlotScrollNumpyArrays-0.0.1-py3-none-any.whl (4.3 kB)\n",
            "Requirement already satisfied: numpy in /usr/local/lib/python3.7/dist-packages (from PlotScrollNumpyArrays) (1.21.6)\n",
            "Requirement already satisfied: matplotlib in /usr/local/lib/python3.7/dist-packages (from PlotScrollNumpyArrays) (3.2.2)\n",
            "Requirement already satisfied: SimpleITK in /usr/local/lib/python3.7/dist-packages (from PlotScrollNumpyArrays) (2.1.1.2)\n",
            "Requirement already satisfied: pyparsing!=2.0.4,!=2.1.2,!=2.1.6,>=2.0.1 in /usr/local/lib/python3.7/dist-packages (from matplotlib->PlotScrollNumpyArrays) (3.0.8)\n",
            "Requirement already satisfied: cycler>=0.10 in /usr/local/lib/python3.7/dist-packages (from matplotlib->PlotScrollNumpyArrays) (0.11.0)\n",
            "Requirement already satisfied: kiwisolver>=1.0.1 in /usr/local/lib/python3.7/dist-packages (from matplotlib->PlotScrollNumpyArrays) (1.4.2)\n",
            "Requirement already satisfied: python-dateutil>=2.1 in /usr/local/lib/python3.7/dist-packages (from matplotlib->PlotScrollNumpyArrays) (2.8.2)\n",
            "Requirement already satisfied: typing-extensions in /usr/local/lib/python3.7/dist-packages (from kiwisolver>=1.0.1->matplotlib->PlotScrollNumpyArrays) (4.1.1)\n",
            "Requirement already satisfied: six>=1.5 in /usr/local/lib/python3.7/dist-packages (from python-dateutil>=2.1->matplotlib->PlotScrollNumpyArrays) (1.15.0)\n",
            "Installing collected packages: PlotScrollNumpyArrays\n",
            "Successfully installed PlotScrollNumpyArrays-0.0.1\n"
          ]
        }
      ],
      "source": [
        "!pip install SimpleITK\n",
        "!pip install pymedphys\n",
        "!pip install PlotScrollNumpyArrays"
      ]
    },
    {
      "cell_type": "code",
      "execution_count": null,
      "metadata": {
        "id": "XkwdsvfzU35d"
      },
      "outputs": [],
      "source": [
        "import SimpleITK as sitk\n",
        "import pymedphys"
      ]
    },
    {
      "cell_type": "code",
      "execution_count": null,
      "metadata": {
        "colab": {
          "base_uri": "https://localhost:8080/"
        },
        "id": "dED2fmqDhBq4",
        "outputId": "47ef834a-d49e-421f-e5ae-96dcd8592eda"
      },
      "outputs": [
        {
          "output_type": "stream",
          "name": "stdout",
          "text": [
            "Cloning into 'Data_Generators'...\n",
            "remote: Enumerating objects: 1092, done.\u001b[K\n",
            "remote: Counting objects: 100% (86/86), done.\u001b[K\n",
            "remote: Compressing objects: 100% (62/62), done.\u001b[K\n",
            "remote: Total 1092 (delta 43), reused 65 (delta 24), pack-reused 1006\u001b[K\n",
            "Receiving objects: 100% (1092/1092), 524.35 KiB | 3.08 MiB/s, done.\n",
            "Resolving deltas: 100% (689/689), done.\n",
            "Submodule 'Image_Processors_Module' (https://github.com/brianmanderson/Image_Processors_Module.git) registered for path 'Image_Processors_Module'\n",
            "Cloning into '/content/Data_Generators/Image_Processors_Module'...\n",
            "remote: Enumerating objects: 1205, done.        \n",
            "remote: Total 1205 (delta 0), reused 0 (delta 0), pack-reused 1205        \n",
            "Receiving objects: 100% (1205/1205), 248.38 KiB | 1.47 MiB/s, done.\n",
            "Resolving deltas: 100% (773/773), done.\n",
            "Submodule path 'Image_Processors_Module': checked out 'f91603a2bedcc15981db54709e4c6d83c997f595'\n"
          ]
        }
      ],
      "source": [
        "!git clone --recurse-submodules -j8 https://github.com/brianmanderson/Data_Generators"
      ]
    },
    {
      "cell_type": "code",
      "execution_count": null,
      "metadata": {
        "id": "5bUN7lljikZn"
      },
      "outputs": [],
      "source": [
        "from Data_Generators.TFRecord_to_Dataset_Generator import DataGeneratorClass\n",
        "from Data_Generators.Image_Processors_Module.src.Processors.TFDataSets import ConstantProcessors as CProcessors,\\\n",
        "    RelativeProcessors as RProcessors"
      ]
    },
    {
      "cell_type": "markdown",
      "metadata": {
        "id": "M030OkcHlhr3"
      },
      "source": [
        "Pull a sample image.   There are 4 images in 1 that need to be reformatted. From left to right, ray trace projection of CBCT. Fluence Map, PDOS and RTImage"
      ]
    },
    {
      "cell_type": "code",
      "execution_count": null,
      "metadata": {
        "id": "uk0-_5m-iyzG"
      },
      "outputs": [],
      "source": [
        "def return_generator(records_paths):\n",
        "    generator = DataGeneratorClass(record_paths=records_paths)\n",
        "    all_keys = ('pdos_array', 'drr_array', 'half_drr_array', 'fluence_array')\n",
        "    base_processors = [\n",
        "                       CProcessors.Squeeze(image_keys=all_keys),\n",
        "                       CProcessors.ExpandDimension(axis=-1,\n",
        "                                                   image_keys=('pdos_array',\n",
        "                                                               'drr_array',\n",
        "                                                               'half_drr_array',\n",
        "                                                               'fluence_array')),\n",
        "        # RProcessors.NormalizeBasedOnOther(guiding_keys=('pdos_array', 'pdos_array'),\n",
        "        #                                   changing_keys=('fluence_array', 'pdos_array'),\n",
        "        #                                   reference_method=('reduce_max', 'reduce_max'),\n",
        "        #                                   changing_methods=('divide', 'divide')),\n",
        "                      CProcessors.MultiplyImagesByConstant(keys=('pdos_array',\n",
        "                                                                 'fluence_array',\n",
        "                                                                 'drr_array',\n",
        "                                                                 'half_drr_array'),\n",
        "                                                           values=(1/3.448,\n",
        "                                                                   1/2.226,\n",
        "                                                                   1/325,\n",
        "                                                                   1/175)),\n",
        "                       CProcessors.CombineKeys(axis=-1,\n",
        "                                               image_keys=('pdos_array',\n",
        "                                                           'drr_array',\n",
        "                                                           'half_drr_array'),\n",
        "                                               output_key='combined'),\n",
        "                       CProcessors.ReturnOutputs(input_keys=('combined',),\n",
        "                                                 output_keys=('fluence_array',)),\n",
        "                       {'shuffle': len(generator) // 3},\n",
        "                       {'batch': 1}, {'repeat'}\n",
        "                       ]\n",
        "    generator.compile_data_set(image_processors=base_processors, debug=False)\n",
        "    return generator"
      ]
    },
    {
      "cell_type": "code",
      "execution_count": null,
      "metadata": {
        "id": "AMGt_tbFC7iB"
      },
      "outputs": [],
      "source": [
        "# data_generators = {}\n",
        "\n",
        "# data_generators[1] = return_generator('/content/drive/My Drive/data/tfrecords_removeone')\n",
        "# data_generators[2] = return_generator('/content/drive/My Drive/data/tfrecords_one')"
      ]
    },
    {
      "cell_type": "code",
      "execution_count": null,
      "metadata": {
        "id": "sXKiRA4R09kn"
      },
      "outputs": [],
      "source": [
        "# data_generators = {}\n",
        "# for i in range(1,6):\n",
        "#   data_generators[i] = return_generator('/content/drive/My Drive/data/fold{}'.format(i))"
      ]
    },
    {
      "cell_type": "code",
      "execution_count": null,
      "metadata": {
        "id": "r6Mck58p1BCH"
      },
      "outputs": [],
      "source": [
        "# The batch size of 1 produced better results for the U-Net in the original pix2pix experiment\n",
        "BATCH_SIZE = 1\n",
        "# Each image is 256x256 in size\n",
        "IMG_WIDTH = 256\n",
        "IMG_HEIGHT = 256"
      ]
    },
    {
      "cell_type": "code",
      "execution_count": null,
      "metadata": {
        "id": "76XIMWFXB-kG"
      },
      "outputs": [],
      "source": [
        "def load_data_from_generator(generator):\n",
        "  data = {'input' : [], 'rtimg' : []}\n",
        "  iterator = iter(generator.data_set)\n",
        "  for _ in range(len(generator)):\n",
        "    x, y = next(iterator)\n",
        "    data['input'].append(x[0][0])\n",
        "    data['rtimg'].append(y[0][0])\n",
        "  return data"
      ]
    },
    {
      "cell_type": "markdown",
      "metadata": {
        "id": "wm-XakBDCzRV"
      },
      "source": [
        "# Return a train and validation dataset based on which fold you want to exclude"
      ]
    },
    {
      "cell_type": "code",
      "execution_count": null,
      "metadata": {
        "id": "Xf7LwHh7A3Ct"
      },
      "outputs": [],
      "source": [
        "def return_datasets(data_generators):\n",
        "  all_datasets = {}\n",
        "  for i in data_generators.keys():\n",
        "    generator = data_generators[i]\n",
        "    all_datasets[i] = tf.data.Dataset.from_tensor_slices((load_data_from_generator(generator)))\n",
        "  return all_datasets\n",
        "\n",
        "def return_fold_datasets(data_generators, batch_size=1):\n",
        "  all_datasets = return_datasets(data_generators)\n",
        "\n",
        "  train_dataset = all_datasets['train']\n",
        "  train_dataset = train_dataset.shuffle(len(train_dataset))\n",
        "  train_dataset = train_dataset.batch(batch_size)\n",
        "  \n",
        "  valid_dataset = all_datasets['validation']\n",
        "  valid_dataset = valid_dataset.shuffle(len(valid_dataset))\n",
        "  valid_dataset = valid_dataset.batch(1)\n",
        "  return train_dataset, valid_dataset"
      ]
    },
    {
      "cell_type": "code",
      "source": [
        "def return_generators(excluded_fold=2):\n",
        "  data_generators = {}\n",
        "  train_folder_names = []\n",
        "  val_folder_names = []\n",
        "  # for i in range(1,6):\n",
        "  #   folder_name = '/content/drive/My Drive/data/fold{}'.format(i)\n",
        "  #   if i != excluded_fold:\n",
        "  #     train_folder_names.append(folder_name)\n",
        "  #   else:\n",
        "  #     val_folder_names.append(folder_name)\n",
        "  #train_folder_names = ['/content/drive/My Drive/data/phantom_train']\n",
        "  #val_folder_names = ['/content/drive/My Drive/data/phantom_valid']\n",
        "  train_folder_names = ['/content/drive/My Drive/data/phantom_large']\n",
        "  val_folder_names = ['/content/drive/My Drive/data/phantom_large_out']\n",
        "  data_generators['train'] = return_generator(records_paths= train_folder_names)\n",
        "  data_generators['validation'] = return_generator(records_paths=val_folder_names)\n",
        "  return data_generators"
      ],
      "metadata": {
        "id": "Oap05O_G0Z8K"
      },
      "execution_count": null,
      "outputs": []
    },
    {
      "cell_type": "code",
      "source": [
        "data_generators = return_generators(excluded_fold=1)\n",
        "train_dataset, valid_dataset = return_fold_datasets(data_generators, batch_size=1)"
      ],
      "metadata": {
        "id": "1q30IGrj0eE6",
        "outputId": "04227585-8536-4b6f-e7ab-201d75238d8a",
        "colab": {
          "base_uri": "https://localhost:8080/"
        }
      },
      "execution_count": null,
      "outputs": [
        {
          "output_type": "stream",
          "name": "stdout",
          "text": [
            "Be careful..Resize with crop/pad can severely slow down data retrieval, best to do this and cache\n",
            "<Data_Generators.Image_Processors_Module.src.Processors.TFDataSetProcessors.Squeeze object at 0x7fb894181410>\n",
            "<Data_Generators.Image_Processors_Module.src.Processors.TFDataSetProcessors.ExpandDimension object at 0x7fb916d39910>\n",
            "<Data_Generators.Image_Processors_Module.src.Processors.TFDataSetProcessors.Resize_with_crop_pad object at 0x7fb8941812d0>\n",
            "<Data_Generators.Image_Processors_Module.src.Processors.TFDataSetProcessors.Add_Constant object at 0x7fb7f7fddd90>\n",
            "<Data_Generators.Image_Processors_Module.src.Processors.TFDataSetProcessors.MultiplyImagesByConstant object at 0x7fb7f7fdda10>\n",
            "<Data_Generators.Image_Processors_Module.src.Processors.TFDataSetProcessors.CombineKeys object at 0x7fb7f7fe4c90>\n",
            "<Data_Generators.Image_Processors_Module.src.Processors.TFDataSetProcessors.ReturnOutputs object at 0x7fb7f7fe4cd0>\n",
            "{'shuffle': 10}\n",
            "{'batch': 1}\n",
            "{'repeat'}\n",
            "Be careful..Resize with crop/pad can severely slow down data retrieval, best to do this and cache\n",
            "<Data_Generators.Image_Processors_Module.src.Processors.TFDataSetProcessors.Squeeze object at 0x7fb7f7f4d810>\n",
            "<Data_Generators.Image_Processors_Module.src.Processors.TFDataSetProcessors.ExpandDimension object at 0x7fb7f7b28350>\n",
            "<Data_Generators.Image_Processors_Module.src.Processors.TFDataSetProcessors.Resize_with_crop_pad object at 0x7fb7f7bb8a90>\n",
            "<Data_Generators.Image_Processors_Module.src.Processors.TFDataSetProcessors.Add_Constant object at 0x7fb7f7b3fcd0>\n",
            "<Data_Generators.Image_Processors_Module.src.Processors.TFDataSetProcessors.MultiplyImagesByConstant object at 0x7fb7f7b3fc50>\n",
            "<Data_Generators.Image_Processors_Module.src.Processors.TFDataSetProcessors.CombineKeys object at 0x7fb7f7b3fbd0>\n",
            "<Data_Generators.Image_Processors_Module.src.Processors.TFDataSetProcessors.ReturnOutputs object at 0x7fb7f7b3fb90>\n",
            "{'shuffle': 2}\n",
            "{'batch': 1}\n",
            "{'repeat'}\n"
          ]
        }
      ]
    },
    {
      "cell_type": "code",
      "source": [
        "train_dataset.take(1)"
      ],
      "metadata": {
        "id": "AXgr6DUc1-he",
        "colab": {
          "base_uri": "https://localhost:8080/"
        },
        "outputId": "8dbbe483-3ea5-4c9a-8d24-cff75c0b25a9"
      },
      "execution_count": null,
      "outputs": [
        {
          "output_type": "execute_result",
          "data": {
            "text/plain": [
              "<TakeDataset element_spec={'input': TensorSpec(shape=(None, 256, 256, 3), dtype=tf.float32, name=None), 'rtimg': TensorSpec(shape=(None, 256, 256, 1), dtype=tf.float32, name=None)}>"
            ]
          },
          "metadata": {},
          "execution_count": 89
        }
      ]
    },
    {
      "cell_type": "code",
      "execution_count": null,
      "metadata": {
        "id": "Z5xm6UcPBwwR"
      },
      "outputs": [],
      "source": [
        "# train_dataset, valid_dataset = return_fold_datasets(data_generators,2)\n",
        "# print(len(train_dataset))\n",
        "# print(len(valid_dataset))"
      ]
    },
    {
      "cell_type": "code",
      "execution_count": null,
      "metadata": {
        "id": "S2voSzAA_r62",
        "outputId": "72defd85-4e81-487a-d84e-67db3a7ced24",
        "colab": {
          "base_uri": "https://localhost:8080/",
          "height": 283
        }
      },
      "outputs": [
        {
          "output_type": "stream",
          "name": "stdout",
          "text": [
            "tf.Tensor([256 256   1], shape=(3,), dtype=int32)\n"
          ]
        },
        {
          "output_type": "display_data",
          "data": {
            "text/plain": [
              "<Figure size 432x288 with 1 Axes>"
            ],
            "image/png": "[encoded data removed]"
          },
          "metadata": {
            "needs_background": "light"
          }
        }
      ],
      "source": [
        "if not running_local:\n",
        "  for val in valid_dataset.take(1):\n",
        "    inp = val['rtimg']\n",
        "    inp1 = tf.squeeze(inp,axis=0)\n",
        "    vec = inp1[1:256,128]\n",
        "    plt.plot(vec)\n",
        "    print(tf.shape(inp1))"
      ]
    },
    {
      "cell_type": "code",
      "execution_count": null,
      "metadata": {
        "id": "YLRvgXfx2vR5"
      },
      "outputs": [],
      "source": [
        "def getinput(input_image,chan):\n",
        "    slice_image = input_image[:,:,chan]\n",
        "    slice_image = tf.cast(slice_image, tf.float32)\n",
        "    return slice_image"
      ]
    },
    {
      "cell_type": "code",
      "execution_count": null,
      "metadata": {
        "colab": {
          "base_uri": "https://localhost:8080/",
          "height": 304
        },
        "id": "-MMQRYR920FB",
        "outputId": "3a5f8c13-4335-499a-df9f-7a1f9beb9deb"
      },
      "outputs": [
        {
          "output_type": "stream",
          "name": "stdout",
          "text": [
            "tf.Tensor([256 256], shape=(2,), dtype=int32)\n"
          ]
        },
        {
          "output_type": "execute_result",
          "data": {
            "text/plain": [
              "<matplotlib.image.AxesImage at 0x7fb91c673a90>"
            ]
          },
          "metadata": {},
          "execution_count": 93
        },
        {
          "output_type": "display_data",
          "data": {
            "text/plain": [
              "<Figure size 432x288 with 1 Axes>"
            ],
            "image/png": "[encoded data removed]"
          },
          "metadata": {
            "needs_background": "light"
          }
        }
      ],
      "source": [
        "slicen = 2\n",
        "for val in valid_dataset.take(1):\n",
        "  inp = tf.squeeze(val['input'],axis=0)\n",
        "  #print(tf.shape(inp))\n",
        "  img = getinput(inp,slicen)\n",
        "  print(tf.shape(img))\n",
        "\n",
        "\n",
        "plt.figure()\n",
        "#plt.imshow(tf.squeeze(img, axis=-1))\n",
        "plt.imshow(inp)\n",
        "plt.imshow(img)"
      ]
    },
    {
      "cell_type": "code",
      "execution_count": null,
      "metadata": {
        "colab": {
          "base_uri": "https://localhost:8080/",
          "height": 322
        },
        "id": "-eJ2p_ik248Z",
        "outputId": "dac94d98-522a-4cf0-8d7f-b698dc80411a"
      },
      "outputs": [
        {
          "output_type": "stream",
          "name": "stdout",
          "text": [
            "tf.Tensor([  1 256 256   1], shape=(4,), dtype=int32)\n",
            "tf.Tensor([256 256], shape=(2,), dtype=int32)\n"
          ]
        },
        {
          "output_type": "execute_result",
          "data": {
            "text/plain": [
              "<matplotlib.image.AxesImage at 0x7fb91c853290>"
            ]
          },
          "metadata": {},
          "execution_count": 94
        },
        {
          "output_type": "display_data",
          "data": {
            "text/plain": [
              "<Figure size 432x288 with 1 Axes>"
            ],
            "image/png": "[encoded data removed]"
          },
          "metadata": {
            "needs_background": "light"
          }
        }
      ],
      "source": [
        "for val in valid_dataset.take(1):\n",
        "  img = val['rtimg']\n",
        "  print(tf.shape(img))\n",
        "\n",
        "img = tf.squeeze(img, axis=0)\n",
        "img = tf.squeeze(img, axis=-1)\n",
        "#img = tf.cast(img, tf.float32)\n",
        "print(tf.shape(img))\n",
        "#plt.figure()\n",
        "#plt.imshow(tf.squeeze(img, axis=-1))\n",
        "plt.imshow(img)"
      ]
    },
    {
      "cell_type": "code",
      "execution_count": null,
      "metadata": {
        "colab": {
          "base_uri": "https://localhost:8080/",
          "height": 287
        },
        "id": "kxEUjGyOAJrQ",
        "outputId": "681c2f21-1d9c-4693-e248-de5f72db900c"
      },
      "outputs": [
        {
          "output_type": "execute_result",
          "data": {
            "text/plain": [
              "<matplotlib.image.AxesImage at 0x7fb91c817350>"
            ]
          },
          "metadata": {},
          "execution_count": 95
        },
        {
          "output_type": "display_data",
          "data": {
            "text/plain": [
              "<Figure size 432x288 with 1 Axes>"
            ],
            "image/png": "[encoded data removed]"
          },
          "metadata": {
            "needs_background": "light"
          }
        }
      ],
      "source": [
        "slicen =1\n",
        "for val in valid_dataset.take(1):\n",
        "  inp = tf.squeeze(val['input'],axis=0)\n",
        "  img1 = getinput(inp,slicen)\n",
        "  img2 = val['rtimg']\n",
        "  img2 = tf.squeeze(img2, axis=0)\n",
        "  #print(tf.shape(img))\n",
        "\n",
        "#img2 = tf.cast(img2, tf.float32)\n",
        "plt.figure()\n",
        "plt.imshow(img1,alpha=0.5)\n",
        "plt.imshow(tf.squeeze(img2, axis=-1),alpha=0.5)"
      ]
    },
    {
      "cell_type": "markdown",
      "metadata": {
        "id": "PVuZQTfI_c-s"
      },
      "source": [
        "As described in the [pix2pix paper](https://arxiv.org/abs/1611.07004), you need to apply random jittering and mirroring to preprocess the training set.\n",
        "\n",
        "Define functions that:\n",
        "\n",
        "1. Randomly flip the image horizontally i.e. left to right (random mirroring).\n",
        "2. Normalize the images to the `[-1, 1]` range. "
      ]
    },
    {
      "cell_type": "code",
      "execution_count": null,
      "metadata": {
        "id": "Q4vH0iJzAOhP"
      },
      "outputs": [],
      "source": [
        "OUTPUT_CHANNELS = 1"
      ]
    },
    {
      "cell_type": "code",
      "execution_count": null,
      "metadata": {
        "id": "3R09ATE_SH9P"
      },
      "outputs": [],
      "source": [
        "def downsample(filters, size, apply_batchnorm=True, max_pool=False):\n",
        "  initializer = tf.random_normal_initializer(0., 0.02)\n",
        "\n",
        "  result = tf.keras.Sequential()\n",
        "  strides = 1\n",
        "  if not max_pool:\n",
        "    strides = 2\n",
        "  result.add(\n",
        "      tf.keras.layers.Conv2D(filters, size, strides=strides, padding='same',\n",
        "                             kernel_initializer=initializer, use_bias=False))\n",
        "  if max_pool:\n",
        "    result.add(tf.keras.layers.MaxPool2D(pool_size=(4,4)))\n",
        "\n",
        "  if apply_batchnorm:\n",
        "    result.add(tf.keras.layers.BatchNormalization())\n",
        "\n",
        "  result.add(tf.keras.layers.LeakyReLU())\n",
        "  return result"
      ]
    },
    {
      "cell_type": "markdown",
      "metadata": {
        "id": "aFI_Pa52tjLl"
      },
      "source": [
        "Define the upsampler (decoder):"
      ]
    },
    {
      "cell_type": "code",
      "execution_count": null,
      "metadata": {
        "id": "nhgDsHClSQzP"
      },
      "outputs": [],
      "source": [
        "def upsample(filters, size, apply_dropout=False, max_pooled=False):\n",
        "  initializer = tf.random_normal_initializer(0., 0.02)\n",
        "\n",
        "  result = tf.keras.Sequential()\n",
        "  if not max_pooled:\n",
        "    result.add(\n",
        "      tf.keras.layers.Conv2DTranspose(filters, size, strides=2,\n",
        "                                      padding='same',\n",
        "                                      kernel_initializer=initializer,\n",
        "                                      use_bias=False))\n",
        "  else:\n",
        "    result.add(tf.keras.layers.UpSampling2D(size=(4, 4), interpolation='bilinear'))\n",
        "\n",
        "  result.add(tf.keras.layers.BatchNormalization())\n",
        "\n",
        "  if apply_dropout:\n",
        "      result.add(tf.keras.layers.Dropout(0.5))\n",
        "\n",
        "  result.add(tf.keras.layers.ReLU())\n",
        "\n",
        "  return result"
      ]
    },
    {
      "cell_type": "code",
      "source": [
        "def GeneratorP():\n",
        "  inputs = tf.keras.layers.Input(shape=[256, 256, 3])\n",
        "\n",
        "  down_stack = [\n",
        "    downsample(64, 4, apply_batchnorm=False),  # (batch_size, 128, 128, 64)\n",
        "    downsample(128, 4),  # (batch_size, 64, 64, 128)\n",
        "    downsample(256, 4),  # (batch_size, 32, 32, 256)\n",
        "    downsample(512, 4),  # (batch_size, 16, 16, 512)\n",
        "    downsample(512, 4),  # (batch_size, 8, 8, 512)\n",
        "    downsample(512, 4),  # (batch_size, 4, 4, 512)\n",
        "    downsample(512, 4),  # (batch_size, 2, 2, 512)\n",
        "    downsample(512, 4),  # (batch_size, 1, 1, 512)\n",
        "  ]\n",
        "\n",
        "  up_stack = [\n",
        "    upsample(512, 4, apply_dropout=True),  # (batch_size, 2, 2, 1024)\n",
        "    upsample(512, 4, apply_dropout=True),  # (batch_size, 4, 4, 1024)\n",
        "    upsample(512, 4, apply_dropout=True),  # (batch_size, 8, 8, 1024)\n",
        "    upsample(512, 4),  # (batch_size, 16, 16, 1024)\n",
        "    upsample(256, 4),  # (batch_size, 32, 32, 512)\n",
        "    upsample(128, 4),  # (batch_size, 64, 64, 256)\n",
        "    upsample(64, 4),  # (batch_size, 128, 128, 128)\n",
        "  ]\n",
        "\n",
        "  initializer = tf.random_normal_initializer(0., 0.02)\n",
        "  last = tf.keras.layers.Conv2DTranspose(OUTPUT_CHANNELS, 4,\n",
        "                                         strides=2,\n",
        "                                         padding='same',\n",
        "                                         kernel_initializer=initializer,\n",
        "                                         activation='tanh')  # (batch_size, 256, 256, 3)\n",
        "\n",
        "  x = inputs\n",
        "\n",
        "  # Downsampling through the model\n",
        "  skips = []\n",
        "  for down in down_stack:\n",
        "    x = down(x)\n",
        "    skips.append(x)\n",
        "\n",
        "  skips = reversed(skips[:-1])\n",
        "\n",
        "  # Upsampling and establishing the skip connections\n",
        "  for up, skip in zip(up_stack, skips):\n",
        "    x = up(x)\n",
        "    x = tf.keras.layers.Concatenate()([x, skip])\n",
        "\n",
        "  x = last(x)\n",
        "\n",
        "  return tf.keras.Model(inputs=inputs, outputs=x)"
      ],
      "metadata": {
        "id": "Cg2Ig3JhIpnv"
      },
      "execution_count": null,
      "outputs": []
    },
    {
      "cell_type": "markdown",
      "metadata": {
        "id": "ueEJyRVrtZ-p"
      },
      "source": [
        "Define the generator with the downsampler and the upsampler:"
      ]
    },
    {
      "cell_type": "code",
      "execution_count": null,
      "metadata": {
        "id": "nJWbqf-g1wDF"
      },
      "outputs": [],
      "source": [
        "def GeneratorU(size=4, layers=3, filters_start=4, double_layers=4):\n",
        "  \"\"\"\n",
        "  default values creates the original generator, filters double from start\n",
        "  to a max after the number of 'double layers'\n",
        "  Size is the kernel size\n",
        "  Layers is the number of layers\n",
        "  \"\"\"\n",
        "  inputs = tf.keras.layers.Input(shape=[256, 256, 3])\n",
        "  filters_list = []\n",
        "  for _ in range(double_layers):\n",
        "    filters_list.append(filters_start)\n",
        "    filters_start *= 2\n",
        "  up_filters = []\n",
        "  batchnorm = False\n",
        "  down_stack = []\n",
        "  for _ in range(layers):\n",
        "    if filters_list:\n",
        "      filters = filters_list.pop(0)\n",
        "    up_filters.append(filters)\n",
        "    print(filters)\n",
        "    layer = downsample(filters, size, batchnorm)\n",
        "    down_stack.append(layer)\n",
        "    batchnorm = True\n",
        "  if filters_list:\n",
        "    filters = filters_list.pop(0)\n",
        "  layer = downsample(filters, size, batchnorm)\n",
        "  down_stack.append(layer)\n",
        "  up_stack = []\n",
        "  for _ in range(layers):\n",
        "    filters = up_filters.pop()\n",
        "    layer = upsample(filters, size)\n",
        "    up_stack.append(layer)\n",
        "  initializer = tf.random_normal_initializer(0., 0.02)\n",
        "  last = tf.keras.layers.Conv2DTranspose(OUTPUT_CHANNELS, size,\n",
        "                                         strides=2,\n",
        "                                         padding='same',\n",
        "                                         kernel_initializer=initializer,\n",
        "                                         activation='sigmoid')  # (batch_size, 256, 256, 3)\n",
        "\n",
        "  x = inputs\n",
        "\n",
        "  # Downsampling through the model\n",
        "  skips = []\n",
        "  for down in down_stack:\n",
        "    x = down(x)\n",
        "    skips.append(x)\n",
        "\n",
        "  skips = reversed(skips[:-1])\n",
        "\n",
        "  # Upsampling and establishing the skip connections\n",
        "  for up, skip in zip(up_stack, skips):\n",
        "    x = up(x)\n",
        "    x = tf.keras.layers.Concatenate()([x, skip])\n",
        "\n",
        "  x = last(x)\n",
        "\n",
        "  return tf.keras.Model(inputs=inputs, outputs=x)"
      ]
    },
    {
      "cell_type": "code",
      "source": [
        "def GeneratorU2(size=4, layers=3, filters_start=4, double_layers=4, pool_size=8, max_pool=False):\n",
        "  \"\"\"\n",
        "  default values creates the original generator, filters double from start\n",
        "  to a max after the number of 'double layers'\n",
        "  Size is the kernel size\n",
        "  Layers is the number of layers\n",
        "  \"\"\"\n",
        "  inputs = tf.keras.layers.Input(shape=[256, 256, 3])\n",
        "  filters_list = []\n",
        "  for _ in range(double_layers):\n",
        "    filters_list.append(filters_start)\n",
        "    filters_start *= 2\n",
        "  up_filters = []\n",
        "  batchnorm = False\n",
        "  down_stack = []\n",
        "  for _ in range(layers):\n",
        "    if filters_list:\n",
        "      filters = filters_list.pop(0)\n",
        "    up_filters.append(filters)\n",
        "    print(filters)\n",
        "    layer = downsample(filters, size, batchnorm, max_pool=max_pool)\n",
        "    down_stack.append(layer)\n",
        "    batchnorm = True\n",
        "  if filters_list:\n",
        "    filters = filters_list.pop(0)\n",
        "  layer = downsample(filters, size, batchnorm, max_pool=max_pool)\n",
        "  down_stack.append(layer)\n",
        "  up_stack = []\n",
        "  for _ in range(layers):\n",
        "    filters = up_filters.pop()\n",
        "    layer = upsample(filters, size, max_pooled=max_pool)\n",
        "    up_stack.append(layer)\n",
        "  initializer = tf.random_normal_initializer(0., 0.02)\n",
        "  last = tf.keras.layers.Conv2DTranspose(OUTPUT_CHANNELS, size,\n",
        "                                         strides=2,\n",
        "                                         padding='same',\n",
        "                                         kernel_initializer=initializer,\n",
        "                                         activation='sigmoid')  # (batch_size, 256, 256, 3)\n",
        "\n",
        "  x = inputs\n",
        "\n",
        "  # Downsampling through the model\n",
        "  skips = []\n",
        "  for down in down_stack:\n",
        "    x = down(x)\n",
        "    # xx = tf.keras.layers.AveragePooling2D(pool_size=(pool_size, pool_size), padding='same')(x)\n",
        "    # xx = tf.keras.layers.UpSampling2D(size=(pool_size, pool_size), interpolation='bilinear')(xx)\n",
        "    # x = tf.keras.layers.Concatenate()([xx, x])\n",
        "    skips.append(x)\n",
        "\n",
        "  skips = reversed(skips[:-1])\n",
        "\n",
        "  # Upsampling and establishing the skip connections\n",
        "  for up, skip in zip(up_stack, skips):\n",
        "    x = up(x)\n",
        "    print(x.shape)\n",
        "    print(skip.shape)\n",
        "    x = tf.keras.layers.Concatenate()([x, skip])\n",
        "\n",
        "  x = last(x)\n",
        "\n",
        "  return tf.keras.Model(inputs=inputs, outputs=x)"
      ],
      "metadata": {
        "id": "Xsxru-2--yA4"
      },
      "execution_count": null,
      "outputs": []
    },
    {
      "cell_type": "code",
      "source": [
        "from tensorflow.python.ops.array_ops import zeros\n",
        "def Generator(include_scatter=True, kernel=8, half_kernel=8, dilation_rate=1, add_half=False):\n",
        " \n",
        "  initializerP = tf.random_normal_initializer(1.0, 0.5)\n",
        "  initializerC = tf.random_normal_initializer(3.5, 0.5)\n",
        "  # inputsCT = tf.keras.layers.Input(shape=[256, 256, 1])\n",
        "  # inputsPDOS = tf.keras.layers.Input(shape=[256, 256, 1])\n",
        "  inputs = tf.keras.layers.Input(shape=[256, 256, 3])\n",
        "  inputsCT = tf.expand_dims(inputs[..., 1], axis=-1)\n",
        "  inputsPDOS = tf.expand_dims(inputs[..., 0], axis=-1)\n",
        "  halfCBCT = tf.expand_dims(inputs[..., 2], axis=-1)\n",
        "  #print(tf.shape(inputs))\n",
        "  \n",
        "  #logPDOS = tf.math.log(inputsPDOS)\n",
        "\n",
        "  pdos_layer = tf.keras.layers.Conv2D(1, 1, strides=1, activation=None, padding='same', kernel_initializer=initializerP, use_bias=True)(inputsPDOS)\n",
        "  pdos_layer2 = tf.keras.layers.Conv2D(1, 1, strides=1, activation=None, padding='same', kernel_initializer=initializerP, use_bias=True)(inputsPDOS)\n",
        "  pdos_layer3 = tf.keras.layers.Conv2D(1, 1, strides=1, activation=None, padding='same', kernel_initializer=initializerP, use_bias=True)(inputsPDOS)\n",
        "  #lay1 = tf.keras.layers.Conv2D(1, 1, strides=1, padding='same', kernel_initializer=initializer, use_bias=False)(logPDOS)\n",
        "  \n",
        "  ct_layer = tf.keras.layers.Conv2D(1, 1, strides=1, activation=None, padding='same', kernel_initializer=initializerC, use_bias=True)(inputsCT)\n",
        "  # lay2 = tf.keras.layers.Conv2D(1, 4, strides=1, padding='same', kernel_initializer=initializer, use_bias=False)(input[2])\n",
        "  # scatter_layer = tf.keras.layers.Multiply()([scatter_layer])\n",
        "  exp = tf.math.exp(-ct_layer)\n",
        "  last = tf.keras.layers.Multiply()([pdos_layer, exp])\n",
        "\n",
        "  \n",
        "  if add_half:\n",
        "    ct_half = tf.keras.layers.Conv2D(1, half_kernel, strides=1, \n",
        "                                     padding='same',\n",
        "                                     kernel_initializer=tf.random_normal_initializer(.01, 0.001),\n",
        "                                     activation=None)(halfCBCT)\n",
        "    half_cbct_mult = tf.keras.layers.Multiply()([ct_half,pdos_layer3])\n",
        "    last = tf.keras.layers.Add()([last, half_cbct_mult])\n",
        "    #last = tf.keras.layers.Add()([last, half_cbct_mult])\n",
        "  if include_scatter:\n",
        "    ct_scatter = tf.keras.layers.Conv2D(1, kernel, dilation_rate=dilation_rate,\n",
        "                                      padding='same', kernel_initializer=tf.random_normal_initializer(.01, 0.001),\n",
        "                                      activation=None)(inputsCT)\n",
        "    scatter = tf.keras.layers.Multiply()([ct_scatter, pdos_layer2])\n",
        "    last = tf.keras.layers.Add()([last, scatter])\n",
        "  \n",
        "      \n",
        "  \n",
        "  \"\"\"\n",
        "  last = tf.keras.layers.Conv2DTranspose(OUTPUT_CHANNELS, 1,\n",
        "                                          strides=1,\n",
        "                                          padding='same',\n",
        "                                          kernel_initializer=initializer,\n",
        "                                          activation='elu') (sum) # (batch_size, 256, 256, 3)\n",
        "  \"\"\"\n",
        "  #last = tf.keras.layers.Add()([lay0,exp])\n",
        "\n",
        "  return tf.keras.Model(inputs=inputs, outputs=last)"
      ],
      "metadata": {
        "id": "YuzK_wh9Ohhz"
      },
      "execution_count": null,
      "outputs": []
    },
    {
      "cell_type": "code",
      "source": [
        "from tensorflow.python.ops.array_ops import zeros\n",
        "def GeneratorCB(include_scatter=True,kernel=21,quad_scatter = False,quadkernel=21):\n",
        " \n",
        "  #initializerP = tf.random_normal_initializer(1.0, 0.5)\n",
        "  #initializerC = tf.random_normal_initializer(3.5, 0.5)\n",
        "  # inputsCT = tf.keras.layers.Input(shape=[256, 256, 1])\n",
        "  # inputsPDOS = tf.keras.layers.Input(shape=[256, 256, 1])\n",
        "  inputs = tf.keras.layers.Input(shape=[256, 256, 3])\n",
        "  inputsCT = tf.expand_dims(inputs[..., 1], axis=-1)\n",
        "  inputsPDOS = tf.expand_dims(inputs[..., 0], axis=-1)\n",
        "  halfCBCT = tf.expand_dims(inputs[..., 2], axis=-1)\n",
        "\n",
        "\n",
        "  pdos_layer = tf.keras.layers.Conv2D(1, 1, strides=1, activation=None, padding='same', trainable = True,\n",
        "                                      kernel_initializer=tf.random_normal_initializer(1.0, 0.01), use_bias=True)(inputsPDOS)\n",
        " \n",
        "  pdos_layer2 = tf.keras.layers.Conv2D(1, 1, strides=1, activation=None, padding='same', \n",
        "                                      kernel_initializer=tf.random_normal_initializer(0.05, 0.01), use_bias=True)(inputsPDOS)\n",
        "\n",
        "  pdos_layer3 = tf.keras.layers.Conv2D(1, 1, strides=1, activation=None, padding='same', \n",
        "                                      kernel_initializer=tf.random_normal_initializer(0.01, 0.01), use_bias=True)(inputsPDOS)\n",
        "\n",
        "  ct_layer1 = tf.keras.layers.Conv2D(1, 1, strides=1, activation=None, padding='same', trainable =True,\n",
        "                                    kernel_initializer=tf.random_normal_initializer(4.0, 0.01), use_bias=True)(inputsCT)\n",
        "                                    \n",
        "  ct_layer2 = tf.keras.layers.Conv2D(1, 1, strides=1, activation=None, padding='same', \n",
        "                                    kernel_initializer=tf.random_normal_initializer(1.0, 0.01), use_bias=True)(inputsCT)\n",
        "\n",
        "  half_layer = tf.keras.layers.Conv2D(1, 1, strides=1, activation=None, padding='same', \n",
        "                                     kernel_initializer=tf.random_normal_initializer(0.05, 0.001), use_bias=True)(halfCBCT)\n",
        "\n",
        "  half_layer2 = tf.keras.layers.Conv2D(1, 1, strides=1, activation=None, padding='same', \n",
        "                                     kernel_initializer=tf.random_normal_initializer(0.05, 0.001), use_bias=True)(halfCBCT)                                   \n",
        "  \n",
        "  half_over_cbct = tf.keras.layers.Multiply()([half_layer,ct_layer2])\n",
        "  \n",
        "  exp1 = tf.math.exp(-ct_layer1)\n",
        "  exp2 = tf.math.exp(-half_over_cbct)\n",
        "  last = tf.keras.layers.Multiply()([pdos_layer,exp1])\n",
        "  #last = tf.keras.layers.Multiply()([pdos_layer,exp1,exp2])\n",
        "\n",
        "  if include_scatter:\n",
        "    ct_scatter = tf.keras.layers.Conv2D(1, kernel,\n",
        "                                      padding='same', kernel_initializer=tf.random_normal_initializer(.01, 0.001),\n",
        "                                      activation=None)(inputsCT)\n",
        "    scatter_pdos = tf.keras.layers.Multiply()([ct_scatter, pdos_layer2])\n",
        "    last = tf.keras.layers.Add()([last, scatter_pdos])\n",
        " \n",
        "  if quad_scatter:\n",
        "    q_scatter = tf.keras.layers.Conv2D(1, kernel,\n",
        "                                      padding='same', kernel_initializer=tf.random_normal_initializer(0.0, 0.001),\n",
        "                                      activation=None)(inputsCT) \n",
        "    qscatter_pdos = tf.keras.layers.Multiply()([q_scatter, q_scatter,pdos_layer3])\n",
        "    last = tf.keras.layers.Add()([last, qscatter_pdos])\n",
        "\n",
        "  # if half_scatter:\n",
        "  #   half_scatter = tf.keras.layers.Conv2D(1, kernel,\n",
        "  #                                     padding='same', kernel_initializer=tf.random_normal_initializer(.01, 0.001),\n",
        "  #                                     activation=None)(halfCBCT)\n",
        "  #   half_scatter_pdos = tf.keras.layers.Multiply()([half_scatter, pdos_layer3])\n",
        "  #   last = tf.keras.layers.Add()([last, half_scatter_pdos])\n",
        "\n",
        "\n",
        "\n",
        "  return tf.keras.Model(inputs=inputs, outputs=last)\n"
      ],
      "metadata": {
        "id": "k3eaUYKZq-w0"
      },
      "execution_count": null,
      "outputs": []
    },
    {
      "cell_type": "code",
      "source": [
        "import tensorflow_probability as tfp\n",
        "def gaussian_kernel(size: int,\n",
        "                    mean: float,\n",
        "                    std: float,\n",
        "                   ):\n",
        "    \"\"\"Makes 2D gaussian Kernel for convolution.\"\"\"\n",
        "    \n",
        "    d = tfp.distributions.Normal(mean,std)\n",
        "    #d = tf.distributions.Normal(mean, std)\n",
        "\n",
        "    vals = d.prob(tf.range(start = -size, limit = size + 1, dtype = tf.float32))\n",
        "\n",
        "    gauss_kernel = tf.einsum('i,j->ij',\n",
        "                                  vals,\n",
        "                                  vals)\n",
        "\n",
        "    return gauss_kernel / tf.reduce_sum(gauss_kernel)"
      ],
      "metadata": {
        "id": "KFH4lzqKq_eV"
      },
      "execution_count": null,
      "outputs": []
    },
    {
      "cell_type": "code",
      "source": [
        "from tensorflow.python.ops.array_ops import zeros\n",
        "def GeneratorCB2(include_scatter=True,kernel=64):\n",
        " \n",
        "  #initializerP = tf.random_normal_initializer(1.0, 0.5)\n",
        "  #initializerC = tf.random_normal_initializer(3.5, 0.5)\n",
        "  # inputsCT = tf.keras.layers.Input(shape=[256, 256, 1])\n",
        "  # inputsPDOS = tf.keras.layers.Input(shape=[256, 256, 1])\n",
        "  inputs = tf.keras.layers.Input(shape=[256, 256, 3])\n",
        "  inputsCT = tf.expand_dims(inputs[..., 1], axis=-1)\n",
        "  inputsPDOS = tf.expand_dims(inputs[..., 0], axis=-1)\n",
        "  halfCBCT = tf.expand_dims(inputs[..., 2], axis=-1)\n",
        "\n",
        "  #pool_size=8\n",
        "  #xx = tf.keras.layers.AveragePooling2D(pool_size=(pool_size, pool_size), padding='same')(inputsCT)\n",
        "  # last = tf.keras.layers.Conv2DTranspose(OUTPUT_CHANNELS, 1,\n",
        "  #                                         strides=pool_size,\n",
        "  #                                         padding='same',\n",
        "  #                                         kernel_initializer=tf.random_normal_initializer(0.0, 0.01),\n",
        "  #                                         activation='sigmoid') (xx) # (batch_size, 256, 256, 3)\n",
        "  \n",
        "  # last = 0.1*tf.keras.layers.Conv2D(1, 64, strides=1, activation=None, padding='same', trainable = False,\n",
        "  #                                     kernel_initializer=tf.random_normal_initializer(0.0002, 0.0001), use_bias=True)(inputsPDOS)\n",
        "\n",
        "  #last = tf.keras.layers.UpSampling2D(size=(pool_size, pool_size), interpolation='bilinear')(xx)\n",
        "\n",
        "\n",
        "\n",
        "  pdos_layer = tf.keras.layers.Conv2D(1, 1, strides=1, activation=None, padding='same', trainable = True,\n",
        "                                      kernel_initializer=tf.random_normal_initializer(1.0, 0.01), use_bias=True)(inputsPDOS)\n",
        " \n",
        "  pdos_layer2 = tf.keras.layers.Conv2D(1, 1, strides=1, activation=None, padding='same', \n",
        "                                      kernel_initializer=tf.random_normal_initializer(0.05, 0.01), use_bias=True)(inputsPDOS)\n",
        "\n",
        "  pdos_layer3 = tf.keras.layers.Conv2D(1, 1, strides=1, activation=None, padding='same', \n",
        "                                      kernel_initializer=tf.random_normal_initializer(0.01, 0.01), use_bias=True)(inputsPDOS)\n",
        "\n",
        "  ct_layer1 = tf.keras.layers.Conv2D(1, 1, strides=1, activation=None, padding='same', trainable =True,\n",
        "                                    kernel_initializer=tf.random_normal_initializer(4.0, 0.01), use_bias=True)(inputsCT)\n",
        "                                    \n",
        "  ct_layer2 = tf.keras.layers.Conv2D(1, 1, strides=1, activation=None, padding='same', \n",
        "                                    kernel_initializer=tf.random_normal_initializer(1.0, 0.01), use_bias=True)(inputsCT)\n",
        "\n",
        "  half_layer = tf.keras.layers.Conv2D(1, 1, strides=1, activation=None, padding='same', \n",
        "                                     kernel_initializer=tf.random_normal_initializer(0.05, 0.001), use_bias=True)(halfCBCT)\n",
        "\n",
        "  half_layer2 = tf.keras.layers.Conv2D(1, 1, strides=1, activation=None, padding='same', \n",
        "                                     kernel_initializer=tf.random_normal_initializer(0.05, 0.001), use_bias=True)(halfCBCT)                                   \n",
        "  \n",
        "  half_over_cbct = tf.keras.layers.Multiply()([half_layer,ct_layer2])\n",
        "  \n",
        "  exp1 = tf.math.exp(-ct_layer1)\n",
        "  exp2 = tf.math.exp(-half_over_cbct)\n",
        "  pdos_exp = tf.keras.layers.Multiply()([pdos_layer,exp1])\n",
        "  # Make Gaussian Kernel with desired specs.\n",
        "  gauss_kernel = gaussian_kernel(128,0.0,75.0 )\n",
        "\n",
        "  # Expand dimensions of `gauss_kernel` for `tf.nn.conv2d` signature.\n",
        "  gauss_kernel = gauss_kernel[:, :, tf.newaxis, tf.newaxis]\n",
        "\n",
        "  # Convolve.\n",
        "  gaus = 0.1*tf.nn.conv2d(inputsPDOS, gauss_kernel, strides=[1, 1, 1, 1], padding=\"SAME\")\n",
        "\n",
        "  last = tf.keras.layers.Add()([gaus, pdos_exp])\n",
        "\n",
        "\n",
        "  ct_scatter = tf.keras.layers.Conv2D(1, kernel,\n",
        "                                      padding='same', kernel_initializer=tf.random_normal_initializer(.001, 0.001),\n",
        "                                      activation=None)(inputsCT)\n",
        "  scatter_pdos = tf.keras.layers.Multiply()([ct_scatter, pdos_layer2])\n",
        "  last = tf.keras.layers.Add()([last, scatter_pdos])\n",
        "  \"\"\"\n",
        "  if quad_scatter:\n",
        "    q_scatter = tf.keras.layers.Conv2D(1, kernel,\n",
        "                                      padding='same', kernel_initializer=tf.random_normal_initializer(0.0, 0.001),\n",
        "                                      activation=None)(inputsCT) \n",
        "    qscatter_pdos = tf.keras.layers.Multiply()([q_scatter, q_scatter,pdos_layer3])\n",
        "    last = tf.keras.layers.Add()([last, qscatter_pdos])\n",
        "\n",
        "  # if half_scatter:\n",
        "  #   half_scatter = tf.keras.layers.Conv2D(1, kernel,\n",
        "  #                                     padding='same', kernel_initializer=tf.random_normal_initializer(.01, 0.001),\n",
        "  #                                     activation=None)(halfCBCT)\n",
        "  #   half_scatter_pdos = tf.keras.layers.Multiply()([half_scatter, pdos_layer3])\n",
        "  #   last = tf.keras.layers.Add()([last, half_scatter_pdos])\n",
        "\n",
        "  \"\"\"\n",
        "\n",
        "  return tf.keras.Model(inputs=inputs, outputs=last)\n",
        "\n",
        "  "
      ],
      "metadata": {
        "id": "zQRfnt-eeScm"
      },
      "execution_count": null,
      "outputs": []
    },
    {
      "cell_type": "markdown",
      "metadata": {
        "id": "Z4PKwrcQFYvF"
      },
      "source": [
        "Visualize the generator model architecture:"
      ]
    },
    {
      "cell_type": "code",
      "execution_count": null,
      "metadata": {
        "colab": {
          "base_uri": "https://localhost:8080/"
        },
        "id": "dIbRPFzjmV85",
        "outputId": "1a686644-be49-40d4-928d-1aba96714148"
      },
      "outputs": [
        {
          "output_type": "stream",
          "name": "stdout",
          "text": [
            "Model: \"model_57\"\n",
            "__________________________________________________________________________________________________\n",
            " Layer (type)                   Output Shape         Param #     Connected to                     \n",
            "==================================================================================================\n",
            " input_62 (InputLayer)          [(None, 256, 256, 3  0           []                               \n",
            "                                )]                                                                \n",
            "                                                                                                  \n",
            " tf.__operators__.getitem_183 (  (None, 256, 256)    0           ['input_62[0][0]']               \n",
            " SlicingOpLambda)                                                                                 \n",
            "                                                                                                  \n",
            " tf.expand_dims_183 (TFOpLambda  (None, 256, 256, 1)  0          ['tf.__operators__.getitem_183[0]\n",
            " )                                                               [0]']                            \n",
            "                                                                                                  \n",
            " tf.__operators__.getitem_184 (  (None, 256, 256)    0           ['input_62[0][0]']               \n",
            " SlicingOpLambda)                                                                                 \n",
            "                                                                                                  \n",
            " conv2d_397 (Conv2D)            (None, 256, 256, 1)  2           ['tf.expand_dims_183[0][0]']     \n",
            "                                                                                                  \n",
            " tf.expand_dims_184 (TFOpLambda  (None, 256, 256, 1)  0          ['tf.__operators__.getitem_184[0]\n",
            " )                                                               [0]']                            \n",
            "                                                                                                  \n",
            " tf.math.negative_98 (TFOpLambd  (None, 256, 256, 1)  0          ['conv2d_397[0][0]']             \n",
            " a)                                                                                               \n",
            "                                                                                                  \n",
            " tf.compat.v1.nn.conv2d_34 (TFO  (None, 256, 256, 1)  0          ['tf.expand_dims_184[0][0]']     \n",
            " pLambda)                                                                                         \n",
            "                                                                                                  \n",
            " conv2d_394 (Conv2D)            (None, 256, 256, 1)  2           ['tf.expand_dims_184[0][0]']     \n",
            "                                                                                                  \n",
            " tf.math.exp_98 (TFOpLambda)    (None, 256, 256, 1)  0           ['tf.math.negative_98[0][0]']    \n",
            "                                                                                                  \n",
            " tf.math.multiply_63 (TFOpLambd  (None, 256, 256, 1)  0          ['tf.compat.v1.nn.conv2d_34[0][0]\n",
            " a)                                                              ']                               \n",
            "                                                                                                  \n",
            " multiply_104 (Multiply)        (None, 256, 256, 1)  0           ['conv2d_394[0][0]',             \n",
            "                                                                  'tf.math.exp_98[0][0]']         \n",
            "                                                                                                  \n",
            " conv2d_401 (Conv2D)            (None, 256, 256, 1)  4097        ['tf.expand_dims_183[0][0]']     \n",
            "                                                                                                  \n",
            " conv2d_395 (Conv2D)            (None, 256, 256, 1)  2           ['tf.expand_dims_184[0][0]']     \n",
            "                                                                                                  \n",
            " add_24 (Add)                   (None, 256, 256, 1)  0           ['tf.math.multiply_63[0][0]',    \n",
            "                                                                  'multiply_104[0][0]']           \n",
            "                                                                                                  \n",
            " multiply_105 (Multiply)        (None, 256, 256, 1)  0           ['conv2d_401[0][0]',             \n",
            "                                                                  'conv2d_395[0][0]']             \n",
            "                                                                                                  \n",
            " add_25 (Add)                   (None, 256, 256, 1)  0           ['add_24[0][0]',                 \n",
            "                                                                  'multiply_105[0][0]']           \n",
            "                                                                                                  \n",
            "==================================================================================================\n",
            "Total params: 4,103\n",
            "Trainable params: 4,103\n",
            "Non-trainable params: 0\n",
            "__________________________________________________________________________________________________\n"
          ]
        }
      ],
      "source": [
        "generator = GeneratorCB2()\n",
        "#tf.keras.utils.plot_model(generator, show_shapes=True, dpi=64)\n",
        "generator.summary()"
      ]
    },
    {
      "cell_type": "code",
      "source": [
        "generator.layers[-5].weights"
      ],
      "metadata": {
        "id": "W0VwoOJLFZlw"
      },
      "execution_count": null,
      "outputs": []
    },
    {
      "cell_type": "markdown",
      "source": [
        "for example in valid_dataset.take(1):\n",
        "  input = example['input']\n",
        "  print(tf.shape(input))\n",
        "  rtimg = example['rtimg']\n",
        "  #rtimg = tf.squeeze(rtimg, axis=0)\n",
        "  generate_images(generator, input, rtimg)"
      ],
      "metadata": {
        "id": "NQGEoZpww8p_"
      }
    },
    {
      "cell_type": "code",
      "source": [
        "for example in train_dataset.take(1):\n",
        "  input = example['input']\n",
        "  print(tf.shape(input))\n",
        "  rtimg = example['rtimg']\n",
        "  #rtimg = tf.squeeze(rtimg, axis=0)\n",
        "  generate_images(generator, input, rtimg)"
      ],
      "metadata": {
        "colab": {
          "base_uri": "https://localhost:8080/",
          "height": 625
        },
        "id": "tsUZBcuYxNxv",
        "outputId": "6d3a097e-2fde-43e9-e174-dd936307cff4"
      },
      "execution_count": null,
      "outputs": [
        {
          "output_type": "stream",
          "name": "stdout",
          "text": [
            "tf.Tensor([  1 256 256   3], shape=(4,), dtype=int32)\n"
          ]
        },
        {
          "output_type": "display_data",
          "data": {
            "text/plain": [
              "<Figure size 720x720 with 4 Axes>"
            ],
            "image/png": "[encoded data removed]"
          },
          "metadata": {
            "needs_background": "light"
          }
        }
      ]
    },
    {
      "cell_type": "code",
      "source": [
        "generator.layers[-2].weights"
      ],
      "metadata": {
        "id": "Y4IR29bAieSK"
      },
      "execution_count": null,
      "outputs": []
    },
    {
      "cell_type": "markdown",
      "metadata": {
        "id": "Z8kbgTK8FcPo"
      },
      "source": [
        "Test the generator:"
      ]
    },
    {
      "cell_type": "markdown",
      "metadata": {
        "id": "dpDPEQXIAiQO"
      },
      "source": [
        "### Define the generator loss\n",
        "\n",
        "GANs learn a loss that adapts to the data, while cGANs learn a structured loss that penalizes a possible structure that differs from the network output and the target image, as described in the [pix2pix paper](https://arxiv.org/abs/1611.07004).\n",
        "\n",
        "- The generator loss is a sigmoid cross-entropy loss of the generated images and an **array of ones**.\n",
        "- The pix2pix paper also mentions the L1 loss, which is a MAE (mean absolute error) between the generated image and the target image.\n",
        "- This allows the generated image to become structurally similar to the target image.\n",
        "- The formula to calculate the total generator loss is `gan_loss + LAMBDA * l1_loss`, where `LAMBDA = 100`. This value was decided by the authors of the paper."
      ]
    },
    {
      "cell_type": "markdown",
      "metadata": {
        "id": "0FMYgY_mPfTi"
      },
      "source": [
        "## Define the optimizers and a checkpoint-saver\n"
      ]
    },
    {
      "cell_type": "code",
      "execution_count": null,
      "metadata": {
        "id": "RmdVsmvhPxyy"
      },
      "outputs": [],
      "source": [
        "def generate_images(model, input, tar):\n",
        "  \n",
        "  # inp = tf.squeeze(input,axis=0)\n",
        "  # inCT = inp[:,:,0]\n",
        "  # inPDOS = inp[:,:,2]\n",
        "  # input =[inCT[tf.newaxis, ...],inPDOS[tf.newaxis, ...]]\n",
        "  \n",
        "  # prediction = model(inputs=[inCT[tf.newaxis, ...],inPDOS[tf.newaxis, ...]], training=True)\n",
        "  prediction = model(input, training=False)\n",
        "  plt.figure(figsize=(10, 10))\n",
        "\n",
        "  # print(\"Input \")\n",
        "  # print(type(cbct_input))\n",
        "  # print(tf.shape(cbct_input))\n",
        "  # print(\"ground truth\")\n",
        "  # print(type(tar))\n",
        "  # print(tf.shape(tar))\n",
        "  display_list = [input[0], tar[0], prediction[0]]\n",
        "  title = ['Input CBCT Image', 'Ground Truth', 'Predicted Image']\n",
        "  \n",
        "  plt.subplot(1, 4, 1)\n",
        "  plt.title('Input Image')\n",
        "  # Getting the pixel values in the [0, 1] range to plot.\n",
        "  \n",
        "  input = tf.squeeze(input,axis=0)\n",
        "  inslice = getinput(input,1)\n",
        "  \n",
        "  plt.imshow(inslice)\n",
        "  plt.axis('off')\n",
        "  plt.subplot(1, 4, 2)\n",
        "  plt.title('Ground Truth')\n",
        "  # Getting the pixel values in the [0, 1] range to plot.\n",
        "  #plt.imshow(tf.squeeze(tar[0],axis=0))\n",
        "  #tar = tf.cast(tar,tf.float32)\n",
        "  plt.imshow(tf.squeeze(tar[0],axis=-1))\n",
        "  plt.axis('off')\n",
        "  plt.subplot(1, 4, 3)\n",
        "\n",
        "  plt.title('Prediction')\n",
        "  # Getting the pixel values in the [0, 1] range to plot.\n",
        "  #plt.imshow(tf.squeeze(tar[0],axis=0))\n",
        "  #tar = tf.cast(tar,tf.float32)\n",
        "  plt.imshow(tf.squeeze(prediction[0],axis=-1))\n",
        "  plt.axis('off')\n",
        "  \n",
        "  \n",
        "  plt.subplot(1, 4, 4)\n",
        "  plt.title('Predicted Image')\n",
        "  \n",
        "  tar = tf.squeeze(tar, axis=0)\n",
        "  tar = tf.squeeze(tar, axis=-1)\n",
        "  prediction = tf.squeeze(prediction, axis=0)\n",
        "  prediction = tf.squeeze(prediction, axis=-1)\n",
        "  \n",
        "  predvec = prediction[128,1:256]\n",
        "  rtvec = tar[128,1:256]\n",
        "  \n",
        "  #predvec = prediction[1:256,128]\n",
        "  #rtvec = tar[1:256,128]\n",
        "\n",
        "\n",
        "  plt.plot(rtvec,'g')\n",
        "  plt.title(\"Meas RT IMG (Green)\")\n",
        "  plt.plot(predvec,'b')\n",
        "\n",
        "  # Getting the pixel values in the [0, 1] range to plot.\n",
        "  #print(tf.shape(prediction))\n",
        "  #prediction = tf.cast(prediction,tf.float32)\n",
        "  #plt.imshow(tf.squeeze(prediction[0],axis=-1))\n",
        "  #plt.axis('off')\n",
        "  \n",
        "  plt.show()"
      ]
    },
    {
      "cell_type": "markdown",
      "metadata": {
        "id": "gipsSEoZIG1a"
      },
      "source": [
        "Test the function:"
      ]
    },
    {
      "cell_type": "code",
      "source": [
        "from tensorflow.python.ops import math_ops\n",
        "class CustomMeanSquareError(tf.keras.losses.Loss):\n",
        "  def call(self, y_true, y_pred):\n",
        "    y_pred = tf.convert_to_tensor(y_pred)\n",
        "    y_true = tf.cast(y_true, y_pred.dtype)\n",
        "    return tf.reduce_mean(math_ops.square(y_pred - y_true), axis=-1)\n",
        "class CustomMultSquareError(tf.keras.losses.Loss):\n",
        "  def call(self, y_true, y_pred):\n",
        "    y_pred = tf.convert_to_tensor(y_pred)\n",
        "    y_true = tf.cast(y_true, y_pred.dtype)\n",
        "    return tf.reduce_mean(tf.abs(y_pred - y_true) * tf.abs(y_true), axis=-1)\n",
        "\n",
        "class CustomWeigthed(tf.keras.losses.Loss):\n",
        "  def call(self, y_true, y_pred):\n",
        "    y_pred = tf.convert_to_tensor(y_pred)\n",
        "    y_true = tf.cast(y_true, y_pred.dtype)\n",
        "    w = 0.01\n",
        "    tar_bkg = tf.where(tf.less_equal(y_true,0.05), y_true,0.0)\n",
        "    gen_bkg = tf.where(tf.less_equal(y_true,0.05),y_pred,0.0)\n",
        "\n",
        "    target_vals = tf.where(tf.greater(y_true,0.05),y_true,0.0)\n",
        "    gen_vals = tf.where(tf.greater(y_true,0.05),y_pred,0.0)\n",
        "\n",
        "    return w*tf.reduce_mean(tf.abs(tar_bkg - gen_bkg)) + tf.reduce_mean(tf.abs(target_vals - gen_vals))\n",
        "    "
      ],
      "metadata": {
        "id": "TLz4u0LciB_f"
      },
      "execution_count": null,
      "outputs": []
    },
    {
      "cell_type": "code",
      "source": [
        "mae = tf.keras.metrics.MeanAbsoluteError()\n",
        "mae_loss = tf.keras.losses.MeanAbsoluteError()\n",
        "#mae_loss = CustomWeigthed() "
      ],
      "metadata": {
        "id": "4b6yNMM-d3v_"
      },
      "execution_count": null,
      "outputs": []
    },
    {
      "cell_type": "code",
      "source": [
        "epochs = 31\n",
        "train_gen = data_generators['train']\n",
        "val_gen = data_generators['validation']\n",
        "dilation_kernel = 3\n",
        "scatter = True\n",
        "add_half = False\n",
        "for kernel in [16]:\n",
        "  for dil_rate in [3]:\n",
        "    for lr in [5.0521e-4]:\n",
        "      # early_stop = tf.keras.callbacks.EarlyStopping(monitor='loss', patience=30)\n",
        "      #generator = Generator(include_scatter=scatter, kernel=kernel, half_kernel=half_kernel, dilation_rate=dil_rate, add_half=add_half)\n",
        "      generator = GeneratorCB2()\n",
        "      #generator = GeneratorU2(size=3, layers=3, filters_start=4, double_layers=4, pool_size=2)\n",
        "      #tensorboard_output = \"/content/drive/MyDrive/Colab Notebooks/logs_CB/CBphan_pdoskernal{}_kernel_{}_lr{}_epoch{}_addhalf{}\".format(scatter, kernel, lr,epochs,add_half)\n",
        "      #tensorboard_output = \"/content/drive/MyDrive/Colab Notebooks/logs_CB/Uphan{}_kernel_{}_lr{}_epoch{}_addhalf{}\".format(scatter, kernel, lr,epochs,add_half)\n",
        "      tensorboard_output = \"/content/drive/MyDrive/Colab Notebooks/logs_CB/CB2gausbkg_large_lr{}_epoch{}\".format(lr,epochs)\n",
        "      print(tensorboard_output)\n",
        "      if not os.path.exists(tensorboard_output):\n",
        "        os.makedirs(tensorboard_output)\n",
        "      else:\n",
        "        continue\n",
        "      tensorboard = tf.keras.callbacks.TensorBoard(log_dir=tensorboard_output,\n",
        "                                                    profile_batch=0,\n",
        "                                                    write_graph=False)\n",
        "      generator.compile(optimizer=tf.keras.optimizers.Adam(lr, beta_1=0.5),\n",
        "                        loss=mae_loss, metrics=[mae])\n",
        "      generator.fit(train_gen.data_set, steps_per_epoch=len(train_gen),\n",
        "                    validation_data=val_gen.data_set, epochs=epochs, validation_freq=5,\n",
        "                    validation_steps=len(val_gen), callbacks=[tensorboard])\n",
        "      generator.save(os.path.join(tensorboard_output, 'final_model.h5'))"
      ],
      "metadata": {
        "colab": {
          "base_uri": "https://localhost:8080/"
        },
        "id": "TajCQE9occN8",
        "outputId": "75212493-c6c6-45ac-f3b1-dbd990eb29fa"
      },
      "execution_count": null,
      "outputs": [
        {
          "output_type": "stream",
          "name": "stdout",
          "text": [
            "/content/drive/MyDrive/Colab Notebooks/logs_CB/CB2gausbkg_large_lr0.00050521_epoch31\n",
            "Epoch 1/31\n",
            "30/30 [==============================] - 2s 17ms/step - loss: 0.0050 - mean_absolute_error: 0.0038\n",
            "Epoch 2/31\n",
            "30/30 [==============================] - 0s 15ms/step - loss: 0.0041 - mean_absolute_error: 0.0041\n",
            "Epoch 3/31\n",
            "30/30 [==============================] - 0s 14ms/step - loss: 0.0044 - mean_absolute_error: 0.0044\n",
            "Epoch 4/31\n",
            "30/30 [==============================] - 0s 15ms/step - loss: 0.0040 - mean_absolute_error: 0.0040\n",
            "Epoch 5/31\n",
            "30/30 [==============================] - 1s 50ms/step - loss: 0.0038 - mean_absolute_error: 0.0038 - val_loss: 0.0032 - val_mean_absolute_error: 0.0032\n",
            "Epoch 6/31\n",
            "30/30 [==============================] - 0s 15ms/step - loss: 0.0033 - mean_absolute_error: 0.0033\n",
            "Epoch 7/31\n",
            "30/30 [==============================] - 0s 14ms/step - loss: 0.0031 - mean_absolute_error: 0.0031\n",
            "Epoch 8/31\n",
            "30/30 [==============================] - 0s 14ms/step - loss: 0.0033 - mean_absolute_error: 0.0033\n",
            "Epoch 9/31\n",
            "30/30 [==============================] - 0s 14ms/step - loss: 0.0035 - mean_absolute_error: 0.0035\n",
            "Epoch 10/31\n",
            "30/30 [==============================] - 1s 40ms/step - loss: 0.0033 - mean_absolute_error: 0.0033 - val_loss: 0.0027 - val_mean_absolute_error: 0.0027\n",
            "Epoch 11/31\n",
            "30/30 [==============================] - 0s 14ms/step - loss: 0.0035 - mean_absolute_error: 0.0035\n",
            "Epoch 12/31\n",
            "30/30 [==============================] - 0s 13ms/step - loss: 0.0031 - mean_absolute_error: 0.0031\n",
            "Epoch 13/31\n",
            "30/30 [==============================] - 0s 15ms/step - loss: 0.0035 - mean_absolute_error: 0.0035\n",
            "Epoch 14/31\n",
            "30/30 [==============================] - 0s 15ms/step - loss: 0.0030 - mean_absolute_error: 0.0030\n",
            "Epoch 15/31\n",
            "30/30 [==============================] - 1s 45ms/step - loss: 0.0028 - mean_absolute_error: 0.0028 - val_loss: 0.0030 - val_mean_absolute_error: 0.0030\n",
            "Epoch 16/31\n",
            "30/30 [==============================] - 0s 14ms/step - loss: 0.0033 - mean_absolute_error: 0.0033\n",
            "Epoch 17/31\n",
            "30/30 [==============================] - 0s 15ms/step - loss: 0.0030 - mean_absolute_error: 0.0030\n",
            "Epoch 18/31\n",
            "30/30 [==============================] - 0s 14ms/step - loss: 0.0032 - mean_absolute_error: 0.0032\n",
            "Epoch 19/31\n",
            "30/30 [==============================] - 0s 14ms/step - loss: 0.0032 - mean_absolute_error: 0.0032\n",
            "Epoch 20/31\n",
            "30/30 [==============================] - 1s 40ms/step - loss: 0.0033 - mean_absolute_error: 0.0033 - val_loss: 0.0036 - val_mean_absolute_error: 0.0036\n",
            "Epoch 21/31\n",
            "30/30 [==============================] - 0s 14ms/step - loss: 0.0031 - mean_absolute_error: 0.0031\n",
            "Epoch 22/31\n",
            "30/30 [==============================] - 0s 15ms/step - loss: 0.0031 - mean_absolute_error: 0.0031\n",
            "Epoch 23/31\n",
            "30/30 [==============================] - 0s 14ms/step - loss: 0.0030 - mean_absolute_error: 0.0030\n",
            "Epoch 24/31\n",
            "30/30 [==============================] - 0s 15ms/step - loss: 0.0033 - mean_absolute_error: 0.0033\n",
            "Epoch 25/31\n",
            "30/30 [==============================] - 1s 46ms/step - loss: 0.0030 - mean_absolute_error: 0.0030 - val_loss: 0.0030 - val_mean_absolute_error: 0.0030\n",
            "Epoch 26/31\n",
            "30/30 [==============================] - 0s 15ms/step - loss: 0.0031 - mean_absolute_error: 0.0031\n",
            "Epoch 27/31\n",
            "30/30 [==============================] - 0s 14ms/step - loss: 0.0032 - mean_absolute_error: 0.0032\n",
            "Epoch 28/31\n",
            "30/30 [==============================] - 0s 14ms/step - loss: 0.0027 - mean_absolute_error: 0.0027\n",
            "Epoch 29/31\n",
            "30/30 [==============================] - 0s 14ms/step - loss: 0.0027 - mean_absolute_error: 0.0027\n",
            "Epoch 30/31\n",
            "30/30 [==============================] - 1s 42ms/step - loss: 0.0029 - mean_absolute_error: 0.0029 - val_loss: 0.0029 - val_mean_absolute_error: 0.0029\n",
            "Epoch 31/31\n",
            "30/30 [==============================] - 0s 14ms/step - loss: 0.0030 - mean_absolute_error: 0.0030\n"
          ]
        }
      ]
    },
    {
      "cell_type": "markdown",
      "metadata": {
        "id": "NLKOG55MErD0"
      },
      "source": [
        "## Training\n",
        "\n",
        "- For each example input generates an output.\n",
        "- The discriminator receives the `input_image` and the generated image as the first input. The second input is the `input_image` and the `target_image`.\n",
        "- Next, calculate the generator and the discriminator loss.\n",
        "- Then, calculate the gradients of loss with respect to both the generator and the discriminator variables(inputs) and apply those to the optimizer.\n",
        "- Finally, log the losses to TensorBoard."
      ]
    },
    {
      "cell_type": "markdown",
      "metadata": {
        "id": "Pe0-8Bzg22ox"
      },
      "source": [
        "Finally, run the training loop:"
      ]
    },
    {
      "cell_type": "code",
      "source": [
        "generator.layers[-1].weights"
      ],
      "metadata": {
        "id": "-5jSH8KhvPzc"
      },
      "execution_count": null,
      "outputs": []
    },
    {
      "cell_type": "code",
      "source": [
        "%reload_ext tensorboard"
      ],
      "metadata": {
        "id": "o4PQNHvHPs_o"
      },
      "execution_count": null,
      "outputs": []
    },
    {
      "cell_type": "code",
      "execution_count": null,
      "metadata": {
        "id": "Ot22ujrlLhOd"
      },
      "outputs": [],
      "source": [
        "#docs_infra: no_execute'\n",
        "\n",
        "%tensorboard --logdir '/content/drive/MyDrive/Colab Notebooks/logs_CB/'"
      ]
    },
    {
      "cell_type": "markdown",
      "metadata": {
        "id": "oeq9sByu86-B"
      },
      "source": [
        "If you want to share the TensorBoard results _publicly_, you can upload the logs to [TensorBoard.dev](https://tensorboard.dev/) by copying the following into a code-cell.\n",
        "\n",
        "Note: This requires a Google account.\n",
        "\n",
        "```\n",
        "!tensorboard dev upload --logdir {log_dir}\n",
        "```"
      ]
    },
    {
      "cell_type": "markdown",
      "metadata": {
        "id": "l-kT7WHRKz-E"
      },
      "source": [
        "Caution: This command does not terminate. It's designed to continuously upload the results of long-running experiments. Once your data is uploaded you need to stop it using the \"interrupt execution\" option in your notebook tool."
      ]
    },
    {
      "cell_type": "markdown",
      "metadata": {
        "id": "-lGhS_LfwQoL"
      },
      "source": [
        "You can view the [results of a previous run](https://tensorboard.dev/experiment/lZ0C6FONROaUMfjYkVyJqw) of this notebook on [TensorBoard.dev](https://tensorboard.dev/).\n",
        "\n",
        "TensorBoard.dev is a managed experience for hosting, tracking, and sharing ML experiments with everyone.\n",
        "\n",
        "It can also included inline using an `<iframe>`:"
      ]
    },
    {
      "cell_type": "code",
      "execution_count": null,
      "metadata": {
        "id": "8IS4c93guQ8E"
      },
      "outputs": [],
      "source": [
        "# display.IFrame(\n",
        "#     src=\"https://tensorboard.dev/experiment/lZ0C6FONROaUMfjYkVyJqw\",\n",
        "#     width=\"100%\",\n",
        "#     height=\"1000px\")"
      ]
    },
    {
      "cell_type": "markdown",
      "metadata": {
        "id": "DMTm4peo3cem"
      },
      "source": [
        "Interpreting the logs is more subtle when training a GAN (or a cGAN like pix2pix) compared to a simple classification or regression model. Things to look for:\n",
        "\n",
        "- Check that neither the generator nor the discriminator model has \"won\". If either the `gen_gan_loss` or the `disc_loss` gets very low, it's an indicator that this model is dominating the other, and you are not successfully training the combined model.\n",
        "- The value `log(2) = 0.69` is a good reference point for these losses, as it indicates a perplexity of 2 - the discriminator is, on average, equally uncertain about the two options.\n",
        "- For the `disc_loss`, a value below `0.69` means the discriminator is doing better than random on the combined set of real and generated images.\n",
        "- For the `gen_gan_loss`, a value below `0.69` means the generator is doing better than random at fooling the discriminator.\n",
        "- As training progresses, the `gen_l1_loss` should go down."
      ]
    },
    {
      "cell_type": "markdown",
      "metadata": {
        "id": "kz80bY3aQ1VZ"
      },
      "source": [
        "## Restore the latest checkpoint and test the network"
      ]
    },
    {
      "cell_type": "code",
      "execution_count": null,
      "metadata": {
        "id": "HSSm4kfvJiqv"
      },
      "outputs": [],
      "source": [
        "#os.listdir(checkpoint_dir)\n",
        "#os.listdir(log_dir + '/fit')"
      ]
    },
    {
      "cell_type": "code",
      "execution_count": null,
      "metadata": {
        "id": "4t4x69adQ5xb"
      },
      "outputs": [],
      "source": [
        "#Restoring the latest checkpoint in checkpoint_dir\n",
        "#checkpoint.restore(tf.train.latest_checkpoint(checkpoint_dir))"
      ]
    },
    {
      "cell_type": "markdown",
      "metadata": {
        "id": "1RGysMU_BZhx"
      },
      "source": [
        "## Generate some images using the test set"
      ]
    },
    {
      "cell_type": "code",
      "execution_count": null,
      "metadata": {
        "id": "g6yulOFllIh2"
      },
      "outputs": [],
      "source": [
        "#generator.save('/content/drive/MyDrive/Colab Notebooks/cb_models/GEN_relu_2k_fold1.h5')"
      ]
    },
    {
      "cell_type": "code",
      "source": [
        "os.listdir('/content/drive/MyDrive/Colab Notebooks/logs_CB/')"
      ],
      "metadata": {
        "id": "v40SDxDL_omB"
      },
      "execution_count": null,
      "outputs": []
    },
    {
      "cell_type": "code",
      "source": [
        "generator = GeneratorU()\n",
        "#generator = GeneratorCB()\n",
        "generator.load_weights(r'/content/drive/MyDrive/Colab Notebooks/logs_CB/U5_fil4_kern_16_phan_lr0.00050521_epoch51/final_model.h5')"
      ],
      "metadata": {
        "id": "9CL_HjUZ_nuC"
      },
      "execution_count": null,
      "outputs": []
    },
    {
      "cell_type": "code",
      "execution_count": null,
      "metadata": {
        "id": "Wtd3ZA-eI_ap"
      },
      "outputs": [],
      "source": [
        "gamma_options = {\n",
        "    'dose_percent_threshold': 3,  # Try with 2%/2mm \n",
        "    'distance_mm_threshold': 3,\n",
        "    'lower_percent_dose_cutoff': 10,\n",
        "    'interp_fraction': 20,  # Should be 10 or more, see the paper referenced above\n",
        "    'max_gamma': 2,\n",
        "    'random_subset': None,  # Can be used to get quick pass rates\n",
        "    'local_gamma': False,  # Change to false for global gamma\n",
        "    'ram_available': 2**29  # 1/2 GB\n",
        "}"
      ]
    },
    {
      "cell_type": "code",
      "execution_count": null,
      "metadata": {
        "id": "pcxutIrdJF7U"
      },
      "outputs": [],
      "source": [
        "xepidmin = -256\n",
        "xepidmax = 256\n",
        "yepidmin = -256\n",
        "yepidmax = 256\n",
        "grid = 2\n",
        "xepid = np.arange(xepidmin,xepidmax,grid)\n",
        "yepid = np.arange(yepidmin,yepidmax,grid)\n",
        "coords = (yepid,xepid)"
      ]
    },
    {
      "cell_type": "code",
      "execution_count": null,
      "metadata": {
        "id": "WTyCBjAV1vJZ"
      },
      "outputs": [],
      "source": [
        "train_test, valid_test = return_fold_datasets(data_generators, batch_size=1)"
      ]
    },
    {
      "cell_type": "code",
      "execution_count": null,
      "metadata": {
        "id": "TPwaQHAcHiLr",
        "colab": {
          "base_uri": "https://localhost:8080/",
          "height": 773
        },
        "outputId": "89ffc423-6c0d-4369-ea34-59e9842a5b31"
      },
      "outputs": [
        {
          "output_type": "stream",
          "name": "stdout",
          "text": [
            "tf.Tensor([  1 256 256   3], shape=(4,), dtype=int32)\n",
            "Calcing using global normalisation point for gamma\n",
            "Global normalisation set to 0.12581036984920502\n",
            "Global dose threshold set to [0.00377431] ([3]% of normalisation)\n",
            "Distance threshold set to [3]\n",
            "Lower dose cutoff set to 0.012581036984920503 (10% of normalisation)\n",
            "\n",
            "Current distance: 5.85 mm | Number of reference points remaining: 6158 | Points tested per reference point: 247 | RAM split count: 1\n",
            "Complete!\n"
          ]
        },
        {
          "output_type": "execute_result",
          "data": {
            "text/plain": [
              "Text(0.5, 1.0, 'Local Gamma (3%/3mm) | Percent Pass: 74.60 %')"
            ]
          },
          "metadata": {},
          "execution_count": 394
        },
        {
          "output_type": "display_data",
          "data": {
            "text/plain": [
              "<Figure size 720x720 with 4 Axes>"
            ],
            "image/png": "[encoded data removed]"
          },
          "metadata": {
            "needs_background": "light"
          }
        }
      ],
      "source": [
        "example = next(iter(valid_dataset))\n",
        "#example = next(iter(train_dataset))\n",
        "\n",
        "input = example['input']\n",
        "print(tf.shape(input))\n",
        "tar = example['rtimg']\n",
        "prediction = generator(input, training=False) \n",
        "#prediction = generator(input)\n",
        "\n",
        "\n",
        "tar = tf.squeeze(tar, axis=0)\n",
        "tar = tf.squeeze(tar, axis=-1)\n",
        "rtimage = tar\n",
        "\n",
        "\n",
        "prediction = tf.squeeze(prediction, axis=0)\n",
        "prediction = tf.squeeze(prediction, axis=-1)\n",
        "prediction = prediction \n",
        "\n",
        "inp = tf.squeeze(input,axis=0)\n",
        "inslice = getinput(inp,1)\n",
        "\n",
        "plt.figure(figsize=(10, 10))\n",
        "  \n",
        "plt.subplot(2, 2, 1)\n",
        "plt.imshow(inslice,alpha=0.8) \n",
        "plt.imshow(rtimage,alpha=0.5)\n",
        "plt.subplot(2, 2, 2)\n",
        "plt.imshow(prediction)\n",
        "  \n",
        "predvec = prediction[128,1:256]\n",
        "rtvec = rtimage[128,1:256]\n",
        "  \n",
        "#predvec = prediction[1:256,128]\n",
        "#rtvec = rtimage[1:256,128]\n",
        "\n",
        "plt.subplot(2, 2, 3)\n",
        "plt.plot(rtvec,'g')\n",
        "plt.title(\"Meas RT IMG (Green)\")\n",
        "plt.plot(predvec,'b')\n",
        "#print(str(example[\"fname\"]))\n",
        "\n",
        "gamma_test = pymedphys.gamma(coords,rtimage, coords, prediction, **gamma_options)\n",
        "valid_gamma = gamma_test[~np.isnan(gamma_test)]\n",
        "\n",
        "num_bins = (\n",
        "    gamma_options['interp_fraction'] * gamma_options['max_gamma'])\n",
        "bins = np.linspace(0, gamma_options['max_gamma'], num_bins + 1)\n",
        "\n",
        "#gamma_no_noise = pymedphys.gamma(coords, rtimage, coords, prediction,**gamma_options)\n",
        "plt.subplot(2, 2, 4)\n",
        "\n",
        "plt.imshow( gamma_test, clim=(0, 2), cmap='coolwarm')\n",
        "\n",
        "# plt.hist(valid_gamma, bins, density=True)\n",
        "# plt.xlim([0, gamma_options['max_gamma']])\n",
        "pass_ratio = np.sum(valid_gamma <= 1) / len(valid_gamma)\n",
        "plt.title(f\"Local Gamma ({gamma_options['dose_percent_threshold']}%/{gamma_options['distance_mm_threshold']}mm) | Percent Pass: {pass_ratio*100:.2f} %\")"
      ]
    },
    {
      "cell_type": "code",
      "execution_count": null,
      "metadata": {
        "id": "ck1o0QAY71Zv"
      },
      "outputs": [],
      "source": [
        "plt.imshow(gamma_test)"
      ]
    },
    {
      "cell_type": "code",
      "source": [
        "\n",
        "caxcb = [] \n",
        "caxrt = []\n",
        "caxpred = []\n",
        "caxhalf = []\n",
        "\n",
        "all_ratios = np.zeros(len(list(train_dataset)))\n",
        "i = 0\n",
        "i90 =0\n",
        "for example in train_dataset:\n",
        "  tinp = example['input']\n",
        "  ttar = example['rtimg']\n",
        "  inp = tf.squeeze(tinp,axis=0)\n",
        "  #slicen = 1\n",
        "  pdos = getinput(inp,0)\n",
        "  img = getinput(inp,1)\n",
        "  half = getinput(inp,2)\n",
        "  cbctcax = np.mean(img[126:130,126:130] )\n",
        "  pdoscax = np.mean(pdos[126:130,126:130] )\n",
        "  halfcax = np.mean(half[126:130,126:130] )\n",
        "  prediction = generator(tinp, training=False)\n",
        "  ttar = tf.squeeze(ttar, axis=0)\n",
        "  ttar = tf.squeeze(ttar, axis=-1)\n",
        "  rtimage = ttar\n",
        "  rtcax = np.mean(ttar[126:130,126:130])\n",
        "  \n",
        "  #out = \"cbctcax {} rtcax {}\".format(cbctcax,rtcax/pdoscax)\n",
        "  #print(out)\n",
        "  prediction = tf.squeeze(prediction, axis=0)\n",
        "  prediction = tf.squeeze(prediction, axis=-1)\n",
        "  predcax = np.mean(prediction[126:130,126:130])\n",
        "  caxcb = np.append(caxcb,cbctcax)\n",
        "  caxrt = np.append(caxrt,rtcax/pdoscax)\n",
        "  caxpred = np.append(caxpred,predcax/pdoscax)\n",
        "  caxhalf = np.append(caxhalf,halfcax)\n",
        "\n",
        "#ax = plt.axes(projection='3d')\n",
        "#ax.scatter3D(caxcb, caxhalf, caxrt, c='b' )\n",
        "#ax.scatter3D(caxcb, caxhalf, caxpred, c='r' )\n",
        "#plt.show()\n",
        "\n",
        "plt.plot(caxcb,caxrt,'bo')\n",
        "plt.plot(caxcb,caxpred,'ro')\n",
        "\n",
        "#plt.plot(caxhalf,caxrt,'bo')\n",
        "#plt.plot(caxhalf,caxpred,'ro')\n",
        "plt.ylim([0, 0.2])\n",
        "#plt.xlim([0.80, 0.85])\n",
        "plt.show()"
      ],
      "metadata": {
        "id": "ipRIz-4U460t",
        "outputId": "f50f6599-8c35-4837-b20e-4f9684387579",
        "colab": {
          "base_uri": "https://localhost:8080/",
          "height": 269
        }
      },
      "execution_count": null,
      "outputs": [
        {
          "output_type": "display_data",
          "data": {
            "text/plain": [
              "<Figure size 432x288 with 1 Axes>"
            ],
            "image/png": "[encoded data removed]"
          },
          "metadata": {
            "needs_background": "light"
          }
        }
      ]
    },
    {
      "cell_type": "code",
      "execution_count": null,
      "metadata": {
        "id": "ELlbbPKP0oQA"
      },
      "outputs": [],
      "source": [
        "all_ratios = np.zeros(len(list(valid_dataset)))\n",
        "i = 0\n",
        "i90 =0\n",
        "for example in valid_dataset:\n",
        "  tinp = example['input']\n",
        "  ttar = example['rtimg']\n",
        "  prediction = generator(tinp, training=False)\n",
        "  ttar = tf.squeeze(ttar, axis=0)\n",
        "  ttar = tf.squeeze(ttar, axis=-1)\n",
        "  rtimage = ttar\n",
        "\n",
        "  prediction = tf.squeeze(prediction, axis=0)\n",
        "  prediction = tf.squeeze(prediction, axis=-1)\n",
        "  prediction = prediction\n",
        "  gamma_test = pymedphys.gamma(coords,rtimage, coords, prediction, **gamma_options,quiet=True)\n",
        "  valid_gamma = gamma_test[~np.isnan(gamma_test)]\n",
        "  pass_ratio = np.sum(valid_gamma <= 1) / len(valid_gamma)\n",
        "  #tf.print(example[\"fname\"])\n",
        "  print(pass_ratio)\n",
        "  all_ratios[i] = pass_ratio\n",
        "  i = i+1\n",
        "  if(pass_ratio> 0.90):\n",
        "    i90 = i90+1\n",
        "\n",
        "print(\"mean \" + str(np.mean(all_ratios)))\n",
        "print(\"STD \" + str(np.std(all_ratios)))\n",
        "print(\"max \" + str(np.max(all_ratios)))\n",
        "print(\"min \" + str(np.min(all_ratios))) \n",
        "print(\"fraction > 90% \" + str(i90) + \" total \" + str(i))\n",
        "plt.hist(all_ratios)"
      ]
    },
    {
      "cell_type": "code",
      "source": [
        "generator.summary()"
      ],
      "metadata": {
        "id": "-Vfix_lCfUQo"
      },
      "execution_count": null,
      "outputs": []
    },
    {
      "cell_type": "code",
      "source": [
        "arr =generator.layers[-5].weights"
      ],
      "metadata": {
        "id": "PN1lScb2fdtm"
      },
      "execution_count": null,
      "outputs": []
    },
    {
      "cell_type": "code",
      "source": [
        "arr = tf.squeeze(arr[0],axis=-1)\n",
        "#arr = tf.squeeze(arr[0],axis=-1)"
      ],
      "metadata": {
        "id": "UORxp5GN25hn"
      },
      "execution_count": null,
      "outputs": []
    }
  ],
  "metadata": {
    "accelerator": "GPU",
    "colab": {
      "collapsed_sections": [],
      "name": "Simple Model phantom.ipynb",
      "provenance": [],
      "include_colab_link": true
    },
    "kernelspec": {
      "display_name": "ITK Environment",
      "language": "python",
      "name": "itkenv"
    },
    "language_info": {
      "codemirror_mode": {
        "name": "ipython",
        "version": 3
      },
      "file_extension": ".py",
      "mimetype": "text/x-python",
      "name": "python",
      "nbconvert_exporter": "python",
      "pygments_lexer": "ipython3",
      "version": "3.8.10"
    }
  },
  "nbformat": 4,
  "nbformat_minor": 0
}