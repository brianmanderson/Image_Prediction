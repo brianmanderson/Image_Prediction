{
  "cells": [
    {
      "cell_type": "markdown",
      "metadata": {
        "id": "view-in-github",
        "colab_type": "text"
      },
      "source": [
        "<a href=\"https://colab.research.google.com/github/brianmanderson/Image_Prediction/blob/main/gamma_loss_test.ipynb\" target=\"_parent\"><img src=\"https://colab.research.google.com/assets/colab-badge.svg\" alt=\"Open In Colab\"/></a>"
      ]
    },
    {
      "cell_type": "markdown",
      "metadata": {
        "id": "v1CUZ0dkOo_F"
      },
      "source": [
        "##### Copyright 2019 The TensorFlow Authors.\n",
        "\n",
        "Licensed under the Apache License, Version 2.0 (the \"License\");"
      ]
    },
    {
      "cell_type": "code",
      "execution_count": 1,
      "metadata": {
        "cellView": "form",
        "id": "qmkj-80IHxnd"
      },
      "outputs": [],
      "source": [
        "#@title Licensed under the Apache License, Version 2.0 (the \"License\");\n",
        "# you may not use this file except in compliance with the License.\n",
        "# You may obtain a copy of the License at\n",
        "#\n",
        "# https://www.apache.org/licenses/LICENSE-2.0\n",
        "#\n",
        "# Unless required by applicable law or agreed to in writing, software\n",
        "# distributed under the License is distributed on an \"AS IS\" BASIS,\n",
        "# WITHOUT WARRANTIES OR CONDITIONS OF ANY KIND, either express or implied.\n",
        "# See the License for the specific language governing permissions and\n",
        "# limitations under the License."
      ]
    },
    {
      "cell_type": "markdown",
      "metadata": {
        "id": "_xnMOsbqHz61"
      },
      "source": [
        "#EPIDEEP: Generating EPID images"
      ]
    },
    {
      "cell_type": "markdown",
      "source": [
        ""
      ],
      "metadata": {
        "id": "cWJH48IGxKkB"
      }
    },
    {
      "cell_type": "markdown",
      "metadata": {
        "id": "Ds4o1h4WHz9U"
      },
      "source": [
        "<table class=\"tfo-notebook-buttons\" align=\"left\">\n",
        "  <td>\n",
        "    <a target=\"_blank\" href=\"https://www.tensorflow.org/tutorials/generative/pix2pix\"><img src=\"https://www.tensorflow.org/images/tf_logo_32px.png\" />View on TensorFlow.org</a>\n",
        "  </td>\n",
        "  <td>\n",
        "    <a target=\"_blank\" href=\"https://colab.research.google.com/github/tensorflow/docs/blob/master/site/en/tutorials/generative/pix2pix.ipynb\"><img src=\"https://www.tensorflow.org/images/colab_logo_32px.png\" />Run in Google Colab</a>\n",
        "  </td>\n",
        "  <td>\n",
        "    <a target=\"_blank\" href=\"https://github.com/tensorflow/docs/blob/master/site/en/tutorials/generative/pix2pix.ipynb\"><img src=\"https://www.tensorflow.org/images/GitHub-Mark-32px.png\" />View source on GitHub</a>\n",
        "  </td>\n",
        "  <td>\n",
        "    <a href=\"https://storage.googleapis.com/tensorflow_docs/docs/site/en/tutorials/generative/pix2pix.ipynb\"><img src=\"https://www.tensorflow.org/images/download_logo_32px.png\" />Download notebook</a>\n",
        "  </td>\n",
        "</table>"
      ]
    },
    {
      "cell_type": "markdown",
      "metadata": {
        "id": "ITZuApL56Mny"
      },
      "source": [
        "This Google Colab Notebook heavily buroows from the pix2pix example. \n",
        "How to build and train a conditional generative adversarial network (cGAN) called pix2pix that learns a mapping from input images to output images, as described in [Image-to-image translation with conditional adversarial networks](https://arxiv.org/abs/1611.07004) by Isola et al. (2017). pix2pix is not application specific—it can be applied to a wide range of tasks, including synthesizing photos from label maps, generating colorized photos from black and white images, turning Google Maps photos into aerial images, and even transforming sketches into photos.\n",
        "\n",
        "In the pix2pix cGAN, you condition on input images and generate corresponding output images. cGANs were first proposed in [Conditional Generative Adversarial Nets](https://arxiv.org/abs/1411.1784) (Mirza and Osindero, 2014)\n",
        "\n",
        "The architecture of your network will contain:\n",
        "\n",
        "- A generator with a [U-Net]([U-Net](https://arxiv.org/abs/1505.04597))-based architecture.\n",
        "- A discriminator represented by a convolutional PatchGAN classifier (proposed in the [pix2pix paper](https://arxiv.org/abs/1611.07004)).\n",
        "\n",
        "Note that each epoch can take around 15 seconds on a single V100 GPU.\n",
        "\n"
      ]
    },
    {
      "cell_type": "markdown",
      "metadata": {
        "id": "e1_Y75QXJS6h"
      },
      "source": [
        "## Import TensorFlow and other libraries"
      ]
    },
    {
      "cell_type": "code",
      "execution_count": 2,
      "metadata": {
        "id": "YfIk2es3hJEd"
      },
      "outputs": [],
      "source": [
        "import tensorflow as tf\n",
        "\n",
        "import os\n",
        "import sys \n",
        "import pathlib\n",
        "import time\n",
        "import datetime\n",
        "import numpy as np\n",
        "from matplotlib import pyplot as plt\n",
        "from IPython import display\n",
        "import tensorflow.experimental.numpy as tnp"
      ]
    },
    {
      "cell_type": "code",
      "execution_count": 3,
      "metadata": {
        "colab": {
          "base_uri": "https://localhost:8080/"
        },
        "id": "iPVGz0KIdvia",
        "outputId": "57c5f276-4c7c-43e7-b0fe-0a3e3514736e"
      },
      "outputs": [
        {
          "output_type": "stream",
          "name": "stdout",
          "text": [
            "Mounted at /content/drive\n"
          ]
        }
      ],
      "source": [
        "running_local = False\n",
        "try:\n",
        "    from google.colab import drive\n",
        "    drive.mount('/content/drive')\n",
        "    nb_path = '/content/notebooks'\n",
        "    os.symlink('/content/drive/MyDrive/Colab Notebooks', nb_path)\n",
        "    sys.path.insert(0, nb_path)  # or append(nb_path)\n",
        "except:\n",
        "    running_local = True\n",
        "    print(\"Running locally\")"
      ]
    },
    {
      "cell_type": "markdown",
      "metadata": {
        "id": "R4Ya7PQy4NBD"
      },
      "source": [
        "Line to install pymedphys which has a gamma function. Libaray was saved to Google drive and is commented out."
      ]
    },
    {
      "cell_type": "code",
      "execution_count": 4,
      "metadata": {
        "id": "1oOw8vQJUyg-"
      },
      "outputs": [],
      "source": [
        "#!pip install --target=$nb_path pymedphys"
      ]
    },
    {
      "cell_type": "code",
      "execution_count": 5,
      "metadata": {
        "colab": {
          "base_uri": "https://localhost:8080/",
          "height": 1000
        },
        "id": "wzufEZu702tH",
        "outputId": "dc92d5fb-878d-4359-d3a6-7f3908727384"
      },
      "outputs": [
        {
          "output_type": "stream",
          "name": "stdout",
          "text": [
            "Looking in indexes: https://pypi.org/simple, https://us-python.pkg.dev/colab-wheels/public/simple/\n",
            "Collecting SimpleITK\n",
            "  Downloading SimpleITK-2.1.1.2-cp37-cp37m-manylinux_2_12_x86_64.manylinux2010_x86_64.whl (48.4 MB)\n",
            "\u001b[K     |████████████████████████████████| 48.4 MB 50 kB/s \n",
            "\u001b[?25hInstalling collected packages: SimpleITK\n",
            "Successfully installed SimpleITK-2.1.1.2\n",
            "Looking in indexes: https://pypi.org/simple, https://us-python.pkg.dev/colab-wheels/public/simple/\n",
            "Collecting pymedphys\n",
            "  Downloading pymedphys-0.38.0-py3-none-any.whl (1.8 MB)\n",
            "\u001b[K     |████████████████████████████████| 1.8 MB 5.1 MB/s \n",
            "\u001b[?25hCollecting ipython>=7.31.1\n",
            "  Downloading ipython-7.34.0-py3-none-any.whl (793 kB)\n",
            "\u001b[K     |████████████████████████████████| 793 kB 9.9 MB/s \n",
            "\u001b[?25hRequirement already satisfied: typing-extensions in /usr/local/lib/python3.7/dist-packages (from pymedphys) (4.1.1)\n",
            "Requirement already satisfied: matplotlib-inline in /usr/local/lib/python3.7/dist-packages (from ipython>=7.31.1->pymedphys) (0.1.3)\n",
            "Collecting prompt-toolkit!=3.0.0,!=3.0.1,<3.1.0,>=2.0.0\n",
            "  Downloading prompt_toolkit-3.0.30-py3-none-any.whl (381 kB)\n",
            "\u001b[K     |████████████████████████████████| 381 kB 84.4 MB/s \n",
            "\u001b[?25hRequirement already satisfied: jedi>=0.16 in /usr/local/lib/python3.7/dist-packages (from ipython>=7.31.1->pymedphys) (0.18.1)\n",
            "Requirement already satisfied: pygments in /usr/local/lib/python3.7/dist-packages (from ipython>=7.31.1->pymedphys) (2.6.1)\n",
            "Requirement already satisfied: pickleshare in /usr/local/lib/python3.7/dist-packages (from ipython>=7.31.1->pymedphys) (0.7.5)\n",
            "Requirement already satisfied: backcall in /usr/local/lib/python3.7/dist-packages (from ipython>=7.31.1->pymedphys) (0.2.0)\n",
            "Requirement already satisfied: pexpect>4.3 in /usr/local/lib/python3.7/dist-packages (from ipython>=7.31.1->pymedphys) (4.8.0)\n",
            "Requirement already satisfied: traitlets>=4.2 in /usr/local/lib/python3.7/dist-packages (from ipython>=7.31.1->pymedphys) (5.1.1)\n",
            "Requirement already satisfied: decorator in /usr/local/lib/python3.7/dist-packages (from ipython>=7.31.1->pymedphys) (4.4.2)\n",
            "Requirement already satisfied: setuptools>=18.5 in /usr/local/lib/python3.7/dist-packages (from ipython>=7.31.1->pymedphys) (57.4.0)\n",
            "Requirement already satisfied: parso<0.9.0,>=0.8.0 in /usr/local/lib/python3.7/dist-packages (from jedi>=0.16->ipython>=7.31.1->pymedphys) (0.8.3)\n",
            "Requirement already satisfied: ptyprocess>=0.5 in /usr/local/lib/python3.7/dist-packages (from pexpect>4.3->ipython>=7.31.1->pymedphys) (0.7.0)\n",
            "Requirement already satisfied: wcwidth in /usr/local/lib/python3.7/dist-packages (from prompt-toolkit!=3.0.0,!=3.0.1,<3.1.0,>=2.0.0->ipython>=7.31.1->pymedphys) (0.2.5)\n",
            "Installing collected packages: prompt-toolkit, ipython, pymedphys\n",
            "  Attempting uninstall: prompt-toolkit\n",
            "    Found existing installation: prompt-toolkit 1.0.18\n",
            "    Uninstalling prompt-toolkit-1.0.18:\n",
            "      Successfully uninstalled prompt-toolkit-1.0.18\n",
            "  Attempting uninstall: ipython\n",
            "    Found existing installation: ipython 5.5.0\n",
            "    Uninstalling ipython-5.5.0:\n",
            "      Successfully uninstalled ipython-5.5.0\n",
            "\u001b[31mERROR: pip's dependency resolver does not currently take into account all the packages that are installed. This behaviour is the source of the following dependency conflicts.\n",
            "jupyter-console 5.2.0 requires prompt-toolkit<2.0.0,>=1.0.0, but you have prompt-toolkit 3.0.30 which is incompatible.\n",
            "google-colab 1.0.0 requires ipython~=5.5.0, but you have ipython 7.34.0 which is incompatible.\u001b[0m\n",
            "Successfully installed ipython-7.34.0 prompt-toolkit-3.0.30 pymedphys-0.38.0\n"
          ]
        },
        {
          "output_type": "display_data",
          "data": {
            "application/vnd.colab-display-data+json": {
              "pip_warning": {
                "packages": [
                  "IPython",
                  "prompt_toolkit"
                ]
              }
            }
          },
          "metadata": {}
        },
        {
          "output_type": "stream",
          "name": "stdout",
          "text": [
            "Looking in indexes: https://pypi.org/simple, https://us-python.pkg.dev/colab-wheels/public/simple/\n",
            "Collecting PlotScrollNumpyArrays\n",
            "  Downloading PlotScrollNumpyArrays-0.0.1-py3-none-any.whl (4.3 kB)\n",
            "Requirement already satisfied: numpy in /usr/local/lib/python3.7/dist-packages (from PlotScrollNumpyArrays) (1.21.6)\n",
            "Requirement already satisfied: matplotlib in /usr/local/lib/python3.7/dist-packages (from PlotScrollNumpyArrays) (3.2.2)\n",
            "Requirement already satisfied: SimpleITK in /usr/local/lib/python3.7/dist-packages (from PlotScrollNumpyArrays) (2.1.1.2)\n",
            "Requirement already satisfied: kiwisolver>=1.0.1 in /usr/local/lib/python3.7/dist-packages (from matplotlib->PlotScrollNumpyArrays) (1.4.3)\n",
            "Requirement already satisfied: python-dateutil>=2.1 in /usr/local/lib/python3.7/dist-packages (from matplotlib->PlotScrollNumpyArrays) (2.8.2)\n",
            "Requirement already satisfied: pyparsing!=2.0.4,!=2.1.2,!=2.1.6,>=2.0.1 in /usr/local/lib/python3.7/dist-packages (from matplotlib->PlotScrollNumpyArrays) (3.0.9)\n",
            "Requirement already satisfied: cycler>=0.10 in /usr/local/lib/python3.7/dist-packages (from matplotlib->PlotScrollNumpyArrays) (0.11.0)\n",
            "Requirement already satisfied: typing-extensions in /usr/local/lib/python3.7/dist-packages (from kiwisolver>=1.0.1->matplotlib->PlotScrollNumpyArrays) (4.1.1)\n",
            "Requirement already satisfied: six>=1.5 in /usr/local/lib/python3.7/dist-packages (from python-dateutil>=2.1->matplotlib->PlotScrollNumpyArrays) (1.15.0)\n",
            "Installing collected packages: PlotScrollNumpyArrays\n",
            "Successfully installed PlotScrollNumpyArrays-0.0.1\n"
          ]
        }
      ],
      "source": [
        "!pip install SimpleITK\n",
        "!pip install pymedphys\n",
        "!pip install PlotScrollNumpyArrays"
      ]
    },
    {
      "cell_type": "code",
      "execution_count": 6,
      "metadata": {
        "id": "XkwdsvfzU35d"
      },
      "outputs": [],
      "source": [
        "#import SimpleITK as sitk\n",
        "import pymedphys"
      ]
    },
    {
      "cell_type": "code",
      "execution_count": 7,
      "metadata": {
        "colab": {
          "base_uri": "https://localhost:8080/"
        },
        "id": "dED2fmqDhBq4",
        "outputId": "6700b8b5-2342-4b1a-a2c7-5bfbbd3a65dd"
      },
      "outputs": [
        {
          "output_type": "stream",
          "name": "stdout",
          "text": [
            "Cloning into 'Data_Generators'...\n",
            "remote: Enumerating objects: 1094, done.\u001b[K\n",
            "remote: Counting objects: 100% (88/88), done.\u001b[K\n",
            "remote: Compressing objects: 100% (63/63), done.\u001b[K\n",
            "remote: Total 1094 (delta 44), reused 67 (delta 25), pack-reused 1006\u001b[K\n",
            "Receiving objects: 100% (1094/1094), 524.55 KiB | 9.90 MiB/s, done.\n",
            "Resolving deltas: 100% (690/690), done.\n",
            "Submodule 'Image_Processors_Module' (https://github.com/brianmanderson/Image_Processors_Module.git) registered for path 'Image_Processors_Module'\n",
            "Cloning into '/content/Data_Generators/Image_Processors_Module'...\n",
            "remote: Enumerating objects: 1271, done.        \n",
            "remote: Counting objects: 100% (66/66), done.        \n",
            "remote: Compressing objects: 100% (25/25), done.        \n",
            "remote: Total 1271 (delta 36), reused 58 (delta 29), pack-reused 1205        \n",
            "Receiving objects: 100% (1271/1271), 294.66 KiB | 6.70 MiB/s, done.\n",
            "Resolving deltas: 100% (809/809), done.\n",
            "Submodule path 'Image_Processors_Module': checked out '23dae05326dc1d320f4fa56c9163fe4a994aaf5d'\n"
          ]
        }
      ],
      "source": [
        "!git clone --recurse-submodules -j8 https://github.com/brianmanderson/Data_Generators"
      ]
    },
    {
      "cell_type": "code",
      "execution_count": 8,
      "metadata": {
        "id": "5bUN7lljikZn"
      },
      "outputs": [],
      "source": [
        "from Data_Generators.TFRecord_to_Dataset_Generator import DataGeneratorClass\n",
        "from Data_Generators.Image_Processors_Module.src.Processors.TFDataSets import ConstantProcessors as CProcessors,\\\n",
        "    RelativeProcessors as RProcessors"
      ]
    },
    {
      "cell_type": "code",
      "source": [
        "class ImageProcessor(object):\n",
        "    def parse(self, *args, **kwargs):\n",
        "        return args, kwargs\n",
        "def _check_keys_(input_features, keys):\n",
        "    if type(keys) is list or type(keys) is tuple:\n",
        "        for key in keys:\n",
        "            assert key in input_features.keys(), 'Make sure the key you are referring to is present in the features, ' \\\n",
        "                                                 '{} was not found'.format(key)\n",
        "    else:\n",
        "        assert keys in input_features.keys(), 'Make sure the key you are referring to is present in the features, ' \\\n",
        "                                              '{} was not found'.format(keys)\n",
        "class DivideBasedOnOther(ImageProcessor):\n",
        "    def __init__(self, guiding_keys=('annotation',), changing_keys=('image',)):\n",
        "        self.guiding_keys, self.changing_keys = guiding_keys, changing_keys\n",
        "\n",
        "    def parse(self, input_features, *args, **kwargs):\n",
        "        _check_keys_(input_features=input_features, keys=self.guiding_keys)\n",
        "        _check_keys_(input_features=input_features, keys=self.changing_keys)\n",
        "        for guiding_key, changing_key in zip(self.guiding_keys, self.changing_keys):\n",
        "            input_features[changing_key] = input_features[changing_key] / input_features[guiding_key]\n",
        "        return input_features"
      ],
      "metadata": {
        "id": "b7208vBmWPQi"
      },
      "execution_count": 9,
      "outputs": []
    },
    {
      "cell_type": "code",
      "source": [
        "def return_generator(records_path, proj_to_panel=True, add_5cm_keys=False, **kwargs):\n",
        "  global_norm = False\n",
        "  generator = DataGeneratorClass(record_paths=records_path, delete_old_cache=True)\n",
        "  all_keys = ('pdos_array', 'fluence_array','drr_array', 'deep_to_panel_array', 'iso_to_panel_array', 'shallow_to_panel_array')\n",
        "  drr_keys = ('drr_array', 'deep_to_panel_array', 'iso_to_panel_array', 'shallow_to_panel_array', )\n",
        "  input_keys = ('pdos_array', 'drr_array', 'iso_to_panel_array')\n",
        "  if add_5cm_keys:\n",
        "    if proj_to_panel:\n",
        "      input_keys = ('pdos_array', 'drr_array', 'deep_to_panel_array', 'iso_to_panel_array',\n",
        "                    'shallow_to_panel_array')\n",
        "    else:\n",
        "      input_keys = ('pdos_array', 'drr_array', '5cm_deep_array', 'iso_array', 'shallow_array')\n",
        "  print(f\"Inputs are {input_keys}\")\n",
        "  base_processors = [\n",
        "                     CProcessors.Squeeze(image_keys=all_keys),\n",
        "                     CProcessors.ExpandDimension(axis=-1, image_keys=all_keys),\n",
        "                     CProcessors.MultiplyImagesByConstant(keys=drr_keys,\n",
        "                                                          values=(1/90, 1/90, 1/90, 1/90)),\n",
        "                     ]\n",
        "  if global_norm:\n",
        "    base_processors += [\n",
        "                        CProcessors.MultiplyImagesByConstant(keys=('pdos_array',\n",
        "                                                                'fluence_array'),\n",
        "                                                             values=(1, 1)) #(1/2, 1/(.3876*2))\n",
        "                        ]\n",
        "  else:\n",
        "    base_processors += [\n",
        "                        RProcessors.NormalizeBasedOnOther(guiding_keys=('pdos_array', 'pdos_array'),\n",
        "                                                          changing_keys=('fluence_array', 'pdos_array'),\n",
        "                                                          reference_method=('reduce_max', 'reduce_max'),\n",
        "                                                          changing_methods=('divide', 'divide'))\n",
        "                        ]\n",
        "  base_processors += [\n",
        "                      CProcessors.CombineKeys(axis=-1,\n",
        "                                              image_keys=input_keys,\n",
        "                                              output_key='output'),\n",
        "                      CProcessors.ReturnOutputs(input_keys=('output',),\n",
        "                                                output_keys=('fluence_array',))\n",
        "  ]\n",
        "  base_processors += [\n",
        "                      {'batch': 1}, {'repeat'}\n",
        "                      ]\n",
        "  generator.compile_data_set(image_processors=base_processors, debug=False)\n",
        "  return generator"
      ],
      "metadata": {
        "id": "FosFkmSHWUyf"
      },
      "execution_count": 10,
      "outputs": []
    },
    {
      "cell_type": "code",
      "execution_count": 11,
      "metadata": {
        "id": "r6Mck58p1BCH"
      },
      "outputs": [],
      "source": [
        "# The batch size of 1 produced better results for the U-Net in the original pix2pix experiment\n",
        "BATCH_SIZE = 1\n",
        "# Each image is 256x256 in size\n",
        "IMG_WIDTH = 256\n",
        "IMG_HEIGHT = 256"
      ]
    },
    {
      "cell_type": "code",
      "execution_count": 12,
      "metadata": {
        "id": "76XIMWFXB-kG"
      },
      "outputs": [],
      "source": [
        "def load_data_from_generator(generator):\n",
        "  data = {'input' : [], 'rtimg' : []}\n",
        "  iterator = iter(generator.data_set)\n",
        "  for _ in range(len(generator)):\n",
        "    x, y = next(iterator)\n",
        "    data['input'].append(x[0][0])\n",
        "    data['rtimg'].append(y[0][0])\n",
        "  return data"
      ]
    },
    {
      "cell_type": "markdown",
      "metadata": {
        "id": "wm-XakBDCzRV"
      },
      "source": [
        "# Return a train and validation dataset based on which fold you want to exclude"
      ]
    },
    {
      "cell_type": "code",
      "source": [
        "def return_datasets(data_generators):\n",
        "  all_datasets = {}\n",
        "  for i in data_generators.keys():\n",
        "    generator = data_generators[i]\n",
        "    all_datasets[i] = tf.data.Dataset.from_tensor_slices((load_data_from_generator(generator)))\n",
        "  return all_datasets\n",
        "\n",
        "def return_fold_datasets(data_generators, batch_size=1):\n",
        "  all_datasets = return_datasets(data_generators)\n",
        "\n",
        "  train_dataset = all_datasets['train']\n",
        "  train_dataset = train_dataset.shuffle(len(train_dataset))\n",
        "  train_dataset = train_dataset.batch(batch_size)\n",
        "  \n",
        "  valid_dataset = all_datasets['validation']\n",
        "  valid_dataset = valid_dataset.shuffle(len(valid_dataset))\n",
        "  valid_dataset = valid_dataset.batch(1)\n",
        "\n",
        "  test_dataset = all_datasets['test']\n",
        "  test_dataset = test_dataset.shuffle(len(test_dataset))\n",
        "  test_dataset = test_dataset.batch(1)\n",
        "  return train_dataset, valid_dataset, test_dataset"
      ],
      "metadata": {
        "id": "eI8SbC8_Wfp6"
      },
      "execution_count": 13,
      "outputs": []
    },
    {
      "cell_type": "code",
      "source": [
        "def return_dataset(generator, batch):\n",
        "  input_values = []\n",
        "  output_values = []\n",
        "  iterator = iter(generator.data_set)\n",
        "  for _ in range(len(generator)):\n",
        "    x, y = next(iterator)\n",
        "    input_values.append(x[0][0])\n",
        "    output_values.append(y[0][0])\n",
        "  input_dataset = tf.data.Dataset.from_tensor_slices(input_values)\n",
        "  output_dataset = tf.data.Dataset.from_tensor_slices(output_values)\n",
        "  dataset = tf.data.Dataset.zip((input_dataset, output_dataset))\n",
        "  dataset = dataset.shuffle(len(dataset)).batch(batch)\n",
        "  return dataset"
      ],
      "metadata": {
        "id": "9-YLJrpjWknC"
      },
      "execution_count": 14,
      "outputs": []
    },
    {
      "cell_type": "code",
      "source": [
        "def return_generators(base_path, excluded_fold=5, batch=1, **kwargs):\n",
        "  data_generators = {}\n",
        "  train_folder_names = []\n",
        "  val_folder_names = []\n",
        "  test_folder_names = []\n",
        "  #train_folder_names.append(os.path.join(base_path, 'phantom_train'))\n",
        "  #val_folder_names.append(os.path.join(base_path, 'phantom_valid'))\n",
        "  #test_folder_names.append(os.path.join(base_path, 'phantom_valid'))\n",
        "  test_folder_names.append(os.path.join(base_path, 'pat6'))\n",
        "  \n",
        "  for i in range(1,6):\n",
        "    folder_name = '/content/drive/My Drive/data/fold{}'.format(i)\n",
        "    if i != excluded_fold:\n",
        "      train_folder_names.append(folder_name)\n",
        "    else:\n",
        "      val_folder_names.append(folder_name)\n",
        "  \n",
        "  train_gen = return_generator(train_folder_names, batch=1, **kwargs)\n",
        "  train_gen = return_dataset(train_gen, batch)\n",
        "\n",
        "  valid_gen = return_generator(val_folder_names, batch=1, **kwargs)\n",
        "  valid_gen = return_dataset(valid_gen, 1)\n",
        "  \n",
        "  test_gen = return_generator(test_folder_names, batch=1, **kwargs)\n",
        "  test_gen = return_dataset(test_gen, 1)\n",
        "  \n",
        "  return train_gen, valid_gen, test_gen"
      ],
      "metadata": {
        "id": "L3dT3IDBWpli"
      },
      "execution_count": 15,
      "outputs": []
    },
    {
      "cell_type": "code",
      "source": [
        "batch = 1\n",
        "base_path = '/content/drive/My Drive/data'\n",
        "train_dataset, valid_dataset, test_dataset = return_generators(base_path, excluded_fold=1, batch=batch)"
      ],
      "metadata": {
        "colab": {
          "base_uri": "https://localhost:8080/"
        },
        "id": "fiMEkxV9WuDq",
        "outputId": "b9c555b2-21b8-42ca-9b14-9f9776396598"
      },
      "execution_count": 16,
      "outputs": [
        {
          "output_type": "stream",
          "name": "stdout",
          "text": [
            "Inputs are ('pdos_array', 'drr_array', 'iso_to_panel_array')\n",
            "<Data_Generators.Image_Processors_Module.src.Processors.TFDataSets.ConstantProcessors.Squeeze object at 0x7f03ec9acb10>\n",
            "<Data_Generators.Image_Processors_Module.src.Processors.TFDataSets.ConstantProcessors.ExpandDimension object at 0x7f03ec9ace90>\n",
            "<Data_Generators.Image_Processors_Module.src.Processors.TFDataSets.ConstantProcessors.MultiplyImagesByConstant object at 0x7f03ece5db50>\n",
            "<Data_Generators.Image_Processors_Module.src.Processors.TFDataSets.RelativeProcessors.NormalizeBasedOnOther object at 0x7f03ecd57550>\n",
            "<Data_Generators.Image_Processors_Module.src.Processors.TFDataSets.ConstantProcessors.CombineKeys object at 0x7f03ec9ace50>\n",
            "<Data_Generators.Image_Processors_Module.src.Processors.TFDataSets.ConstantProcessors.ReturnOutputs object at 0x7f03ece4f710>\n",
            "{'batch': 1}\n",
            "{'repeat'}\n",
            "Inputs are ('pdos_array', 'drr_array', 'iso_to_panel_array')\n",
            "<Data_Generators.Image_Processors_Module.src.Processors.TFDataSets.ConstantProcessors.Squeeze object at 0x7f03ec912150>\n",
            "<Data_Generators.Image_Processors_Module.src.Processors.TFDataSets.ConstantProcessors.ExpandDimension object at 0x7f03ec912110>\n",
            "<Data_Generators.Image_Processors_Module.src.Processors.TFDataSets.ConstantProcessors.MultiplyImagesByConstant object at 0x7f03ec515210>\n",
            "<Data_Generators.Image_Processors_Module.src.Processors.TFDataSets.RelativeProcessors.NormalizeBasedOnOther object at 0x7f03ec4ffa50>\n",
            "<Data_Generators.Image_Processors_Module.src.Processors.TFDataSets.ConstantProcessors.CombineKeys object at 0x7f03ecb9cf50>\n",
            "<Data_Generators.Image_Processors_Module.src.Processors.TFDataSets.ConstantProcessors.ReturnOutputs object at 0x7f03ec60c0d0>\n",
            "{'batch': 1}\n",
            "{'repeat'}\n",
            "Inputs are ('pdos_array', 'drr_array', 'iso_to_panel_array')\n",
            "<Data_Generators.Image_Processors_Module.src.Processors.TFDataSets.ConstantProcessors.Squeeze object at 0x7f03db0b1ed0>\n",
            "<Data_Generators.Image_Processors_Module.src.Processors.TFDataSets.ConstantProcessors.ExpandDimension object at 0x7f03db0b19d0>\n",
            "<Data_Generators.Image_Processors_Module.src.Processors.TFDataSets.ConstantProcessors.MultiplyImagesByConstant object at 0x7f03db0b1c50>\n",
            "<Data_Generators.Image_Processors_Module.src.Processors.TFDataSets.RelativeProcessors.NormalizeBasedOnOther object at 0x7f03ec1f4fd0>\n",
            "<Data_Generators.Image_Processors_Module.src.Processors.TFDataSets.ConstantProcessors.CombineKeys object at 0x7f03ec1f4390>\n",
            "<Data_Generators.Image_Processors_Module.src.Processors.TFDataSets.ConstantProcessors.ReturnOutputs object at 0x7f03ec1f4790>\n",
            "{'batch': 1}\n",
            "{'repeat'}\n"
          ]
        }
      ]
    },
    {
      "cell_type": "code",
      "source": [
        "iterx = iter(train_dataset.repeat())"
      ],
      "metadata": {
        "id": "-xQsgfRoW4GC"
      },
      "execution_count": 17,
      "outputs": []
    },
    {
      "cell_type": "code",
      "source": [
        "train_len = len(train_dataset)\n",
        "valid_len = len(valid_dataset)\n",
        "test_len =  len(test_dataset)\n",
        "x, y = next(iterx)\n",
        "print(train_len)\n",
        "print(valid_len)\n",
        "print(test_len)\n",
        "plt.imshow(x[0,...,1])"
      ],
      "metadata": {
        "colab": {
          "base_uri": "https://localhost:8080/",
          "height": 342
        },
        "id": "vRH4eOwuW78k",
        "outputId": "89ad48d0-c4da-43b3-8be2-079d8e42a2e9"
      },
      "execution_count": 18,
      "outputs": [
        {
          "output_type": "stream",
          "name": "stdout",
          "text": [
            "520\n",
            "138\n",
            "10\n"
          ]
        },
        {
          "output_type": "execute_result",
          "data": {
            "text/plain": [
              "<matplotlib.image.AxesImage at 0x7f03ecc2c9d0>"
            ]
          },
          "metadata": {},
          "execution_count": 18
        },
        {
          "output_type": "display_data",
          "data": {
            "text/plain": [
              "<Figure size 432x288 with 1 Axes>"
            ],
            "image/png": "[encoded data removed]"
          },
          "metadata": {
            "needs_background": "light"
          }
        }
      ]
    },
    {
      "cell_type": "code",
      "execution_count": 19,
      "metadata": {
        "id": "Q4vH0iJzAOhP"
      },
      "outputs": [],
      "source": [
        "OUTPUT_CHANNELS = 1"
      ]
    },
    {
      "cell_type": "markdown",
      "metadata": {
        "id": "wfAQbzy799UV"
      },
      "source": [
        "You can inspect some of the preprocessed output:"
      ]
    },
    {
      "cell_type": "code",
      "execution_count": 20,
      "metadata": {
        "id": "3R09ATE_SH9P"
      },
      "outputs": [],
      "source": [
        "def downsample(filters, size, apply_batchnorm=True):\n",
        "  initializer = tf.random_normal_initializer(0., 0.02)\n",
        "\n",
        "  result = tf.keras.Sequential()\n",
        "  result.add(\n",
        "      tf.keras.layers.Conv2D(filters, size, strides=2, padding='same',\n",
        "                             kernel_initializer=initializer, use_bias=False))\n",
        "\n",
        "  if apply_batchnorm:\n",
        "    result.add(tf.keras.layers.BatchNormalization())\n",
        "\n",
        "  result.add(tf.keras.layers.LeakyReLU())\n",
        "\n",
        "  return result"
      ]
    },
    {
      "cell_type": "markdown",
      "metadata": {
        "id": "aFI_Pa52tjLl"
      },
      "source": [
        "Define the upsampler (decoder):"
      ]
    },
    {
      "cell_type": "code",
      "execution_count": 21,
      "metadata": {
        "id": "nhgDsHClSQzP"
      },
      "outputs": [],
      "source": [
        "def upsample(filters, size, apply_dropout=False):\n",
        "  initializer = tf.random_normal_initializer(0., 0.02)\n",
        "\n",
        "  result = tf.keras.Sequential()\n",
        "  result.add(\n",
        "    tf.keras.layers.Conv2DTranspose(filters, size, strides=2,\n",
        "                                    padding='same',\n",
        "                                    kernel_initializer=initializer,\n",
        "                                    use_bias=False))\n",
        "\n",
        "  result.add(tf.keras.layers.BatchNormalization())\n",
        "\n",
        "  if apply_dropout:\n",
        "      result.add(tf.keras.layers.Dropout(0.5))\n",
        "\n",
        "  result.add(tf.keras.layers.ReLU())\n",
        "\n",
        "  return result"
      ]
    },
    {
      "cell_type": "code",
      "execution_count": 22,
      "metadata": {
        "id": "mz-ahSdsq0Oc"
      },
      "outputs": [],
      "source": [
        "# up_model = upsample(3, 4)\n",
        "# up_result = up_model(down_result)\n",
        "# print (up_result.shape)"
      ]
    },
    {
      "cell_type": "markdown",
      "metadata": {
        "id": "ueEJyRVrtZ-p"
      },
      "source": [
        "Define the generator with the downsampler and the upsampler:"
      ]
    },
    {
      "cell_type": "code",
      "execution_count": 23,
      "metadata": {
        "id": "lFPI4Nu-8b4q"
      },
      "outputs": [],
      "source": [
        "def Generator():\n",
        "  inputs = tf.keras.layers.Input(shape=[256, 256, 3])\n",
        "\n",
        "  down_stack = [\n",
        "    downsample(64, 4, apply_batchnorm=False),  # (batch_size, 128, 128, 64)\n",
        "    downsample(128, 4),  # (batch_size, 64, 64, 128)\n",
        "    downsample(256, 4),  # (batch_size, 32, 32, 256)\n",
        "    downsample(512, 4),  # (batch_size, 16, 16, 512)\n",
        "    downsample(512, 4),  # (batch_size, 8, 8, 512)\n",
        "    downsample(512, 4),  # (batch_size, 4, 4, 512)\n",
        "    downsample(512, 4),  # (batch_size, 2, 2, 512)\n",
        "    downsample(512, 4),  # (batch_size, 1, 1, 512)\n",
        "  ]\n",
        "\n",
        "  up_stack = [\n",
        "    upsample(512, 4, apply_dropout=True),  # (batch_size, 2, 2, 1024)\n",
        "    upsample(512, 4, apply_dropout=True),  # (batch_size, 4, 4, 1024)\n",
        "    upsample(512, 4, apply_dropout=True),  # (batch_size, 8, 8, 1024)\n",
        "    upsample(512, 4),  # (batch_size, 16, 16, 1024)\n",
        "    upsample(256, 4),  # (batch_size, 32, 32, 512)\n",
        "    upsample(128, 4),  # (batch_size, 64, 64, 256)\n",
        "    upsample(64, 4),  # (batch_size, 128, 128, 128)\n",
        "  ]\n",
        "\n",
        "  initializer = tf.random_normal_initializer(0., 0.02)\n",
        "  last = tf.keras.layers.Conv2DTranspose(OUTPUT_CHANNELS, 4,\n",
        "                                         strides=2,\n",
        "                                         padding='same',\n",
        "                                         kernel_initializer=initializer,\n",
        "                                         activation='sigmoid')  # (batch_size, 256, 256, 3)\n",
        "\n",
        "  x = inputs\n",
        "\n",
        "  # Downsampling through the model\n",
        "  skips = []\n",
        "  for down in down_stack:\n",
        "    x = down(x)\n",
        "    skips.append(x)\n",
        "\n",
        "  skips = reversed(skips[:-1])\n",
        "\n",
        "  # Upsampling and establishing the skip connections\n",
        "  for up, skip in zip(up_stack, skips):\n",
        "    x = up(x)\n",
        "    x = tf.keras.layers.Concatenate()([x, skip])\n",
        "\n",
        "  x = last(x)\n",
        "\n",
        "  return tf.keras.Model(inputs=inputs, outputs=x)"
      ]
    },
    {
      "cell_type": "code",
      "execution_count": 24,
      "metadata": {
        "id": "chllEeBC48vz"
      },
      "outputs": [],
      "source": [
        "#new_generator = Generator(size=4, layers=7, double_layers=4, filters_start=64)\n",
        "# tf.keras.utils.plot_model(new_generator, show_shapes=True, dpi=64)"
      ]
    },
    {
      "cell_type": "markdown",
      "metadata": {
        "id": "Z4PKwrcQFYvF"
      },
      "source": [
        "Visualize the generator model architecture:"
      ]
    },
    {
      "cell_type": "code",
      "execution_count": 25,
      "metadata": {
        "id": "dIbRPFzjmV85"
      },
      "outputs": [],
      "source": [
        "generator = Generator()\n",
        "#tf.keras.utils.plot_model(generator, show_shapes=True, dpi=64)\n",
        "#generator.summary()"
      ]
    },
    {
      "cell_type": "markdown",
      "metadata": {
        "id": "Z8kbgTK8FcPo"
      },
      "source": [
        "Test the generator:"
      ]
    },
    {
      "cell_type": "code",
      "execution_count": 26,
      "metadata": {
        "id": "U1N1_obwtdQH"
      },
      "outputs": [],
      "source": [
        "# print(tf.shape(inp))\n",
        "# print(tf.shape(inp[tf.newaxis, ...]))\n",
        "\n",
        "# gen_output = generator(inp[tf.newaxis, ...], training=False)\n",
        "# #print(tf.shape(gen_output))\n",
        "# plt.imshow(tf.squeeze(gen_output[0, ...],axis=-1))"
      ]
    },
    {
      "cell_type": "markdown",
      "metadata": {
        "id": "dpDPEQXIAiQO"
      },
      "source": [
        "### Define the generator loss\n",
        "\n",
        "GANs learn a loss that adapts to the data, while cGANs learn a structured loss that penalizes a possible structure that differs from the network output and the target image, as described in the [pix2pix paper](https://arxiv.org/abs/1611.07004).\n",
        "\n",
        "- The generator loss is a sigmoid cross-entropy loss of the generated images and an **array of ones**.\n",
        "- The pix2pix paper also mentions the L1 loss, which is a MAE (mean absolute error) between the generated image and the target image.\n",
        "- This allows the generated image to become structurally similar to the target image.\n",
        "- The formula to calculate the total generator loss is `gan_loss + LAMBDA * l1_loss`, where `LAMBDA = 100`. This value was decided by the authors of the paper."
      ]
    },
    {
      "cell_type": "code",
      "execution_count": 27,
      "metadata": {
        "id": "cyhxTuvJyIHV"
      },
      "outputs": [],
      "source": [
        "LAMBDA = 100"
      ]
    },
    {
      "cell_type": "code",
      "execution_count": 28,
      "metadata": {
        "id": "Q1Xbz5OaLj5C"
      },
      "outputs": [],
      "source": [
        "loss_object = tf.keras.losses.BinaryCrossentropy(from_logits=True)"
      ]
    },
    {
      "cell_type": "code",
      "execution_count": 29,
      "metadata": {
        "id": "90BIcCKcDMxz"
      },
      "outputs": [],
      "source": [
        "def generator_loss( gen_output, target):\n",
        "  \n",
        "  \n",
        "  # gamma = 0.5\n",
        "  # #gan_loss = loss_object(tf.ones_like(disc_generated_output), disc_generated_output)\n",
        "  # sobel_target = tf.image.sobel_edges(target)\n",
        "  # sobel_targety = sobel_target[...,0]\n",
        "  # sobel_targetx = sobel_target[...,1]\n",
        "\n",
        "  # sobel_gen_output = tf.image.sobel_edges(gen_output)\n",
        "  # sobel_geny = sobel_gen_output[...,0]\n",
        "  # sobel_genx = sobel_gen_output[...,1]\n",
        "  # sobel_tar = tf.sqrt(tf.square(sobel_targetx) +  tf.square(sobel_targety))\n",
        "  # sobel_gen = tf.sqrt(tf.square(sobel_genx) +  tf.square(sobel_geny))\n",
        "\n",
        "  # loss_sobel = tf.reduce_mean(tf.abs(sobel_target - sobel_gen_output))\n",
        "  # Mean absolute error\n",
        "  #l1_loss = tf.reduce_mean(tf.abs(target - gen_output))\n",
        "  \n",
        "  #loss = l1_loss*(1-gamma) + loss_sobel*gamma\n",
        "  #l1_loss = tf.reduce_mean(tf.square(target - gen_output))\n",
        "  # w = 0.01\n",
        "  # tar_bkg = tf.where(tf.less_equal(target,0.05),target,target-target)\n",
        "  # gen_bkg = tf.where(tf.less_equal(gen_output,0.05),gen_output,gen_output-gen_output)\n",
        "\n",
        "\n",
        "  # target_vals = tf.where(tf.greater(target,0.05),target,target-target)\n",
        "  # gen_vals = tf.where(tf.greater(gen_output,0.05),gen_output,gen_output-gen_output)\n",
        "  # #bkg = tf.where(tf.less_equal(target,-0.95),target-target,target)\n",
        "  # l1_loss = w*tf.reduce_mean(tf.abs(tar_bkg - gen_bkg)) + tf.reduce_mean(tf.abs(target_vals - gen_vals))\n",
        "\n",
        "\n",
        "\n",
        "  #total_gen_loss = gan_loss + (LAMBDA * l1_loss)\n",
        "\n",
        "  l1_loss = tf.reduce_mean(tf.abs(target - gen_output))\n",
        "  \n",
        "  return  l1_loss"
      ]
    },
    {
      "cell_type": "code",
      "execution_count": 30,
      "metadata": {
        "id": "fcsCvdn4ltBU"
      },
      "outputs": [],
      "source": [
        "def plot_images(prediction, input, target):\n",
        "  plt.figure(figsize=(15, 10))\n",
        "\n",
        "  # print(\"Input \")\n",
        "  # print(type(cbct_input))\n",
        "  # print(tf.shape(cbct_input))\n",
        "  # print(\"ground truth\")\n",
        "  # print(type(tar))\n",
        "  # print(tf.shape(tar))\n",
        "  display_list = [ input[0], target[0], prediction[0] ]\n",
        "  title = ['Input CBCT Image', 'Ground Truth', 'Predicted Image']\n",
        "  \n",
        "  plt.subplot(1, 4, 1)\n",
        "  plt.title('Input Image')\n",
        "  # Getting the pixel values in the [0, 1] range to plot.\n",
        "  \n",
        "  input = tf.squeeze(input,axis=0)\n",
        "  inslice = input[...,1]\n",
        "  \n",
        "  plt.imshow(inslice)\n",
        "  plt.axis('off')\n",
        "\n",
        "  plt.subplot(1, 4, 2)\n",
        "  plt.title('Ground Truth')\n",
        "  # Getting the pixel values in the [0, 1] range to plot.\n",
        "  #plt.imshow(tf.squeeze(tar[0],axis=0))\n",
        "  #tar = tf.cast(tar,tf.float32)\n",
        "  plt.imshow(tf.squeeze(target[0],axis=-1))\n",
        "  plt.axis('off')\n",
        "\n",
        "  plt.subplot(1, 4, 3)\n",
        "  plt.title('Predicted Image')\n",
        "  plt.imshow(tf.squeeze(prediction))\n",
        "  plt.axis('off')\n",
        "\n",
        "  target = tf.squeeze(target)\n",
        "  prediction = tf.squeeze(prediction)\n",
        "  \n",
        "  predvec = prediction[128,1:256]\n",
        "  rtvec = target[128,1:256]\n",
        "  \n",
        "\n",
        "  plt.axis('off')\n",
        "  plt.subplot(1, 4, 4)\n",
        "  plt.plot(rtvec,'g')\n",
        "  plt.title(\"Meas RT IMG (Green)\")\n",
        "  plt.plot(predvec,'b')\n",
        "\n",
        "  # Getting the pixel values in the [0, 1] range to plot.\n",
        "  #print(tf.shape(prediction))\n",
        "  #prediction = tf.cast(prediction,tf.float32)\n",
        "  #plt.imshow(tf.squeeze(prediction[0],axis=-1))\n",
        "  #plt.axis('off')\n",
        "  \n",
        "  plt.show()"
      ]
    },
    {
      "cell_type": "code",
      "execution_count": 31,
      "metadata": {
        "id": "017CYaGQ6pre",
        "outputId": "c8d309e5-3932-4f39-fb64-5f223176ce0d",
        "colab": {
          "base_uri": "https://localhost:8080/"
        }
      },
      "outputs": [
        {
          "output_type": "execute_result",
          "data": {
            "text/plain": [
              "['.config', 'Data_Generators', 'drive', 'notebooks', 'sample_data']"
            ]
          },
          "metadata": {},
          "execution_count": 31
        }
      ],
      "source": [
        "import os\n",
        "os.listdir('.')"
      ]
    },
    {
      "cell_type": "markdown",
      "metadata": {
        "id": "-ede4p2YELFa"
      },
      "source": [
        "The training procedure for the discriminator is shown below.\n",
        "\n",
        "To learn more about the architecture and the hyperparameters you can refer to the [pix2pix paper](https://arxiv.org/abs/1611.07004)."
      ]
    },
    {
      "cell_type": "markdown",
      "metadata": {
        "id": "_073KDijTAVh"
      },
      "source": [
        ""
      ]
    },
    {
      "cell_type": "markdown",
      "metadata": {
        "id": "0FMYgY_mPfTi"
      },
      "source": [
        "## Define the optimizers and a checkpoint-saver\n"
      ]
    },
    {
      "cell_type": "code",
      "source": [
        "exp_loss = tf.keras.optimizers.schedules.ExponentialDecay(2e-4,decay_steps=20000,decay_rate=0.5)"
      ],
      "metadata": {
        "id": "I4RzlsdhO7G1"
      },
      "execution_count": 32,
      "outputs": []
    },
    {
      "cell_type": "code",
      "execution_count": 33,
      "metadata": {
        "id": "lbHFNexF0x6O"
      },
      "outputs": [],
      "source": [
        "generator_optimizer = tf.keras.optimizers.Adam(exp_loss, beta_1=0.9)"
      ]
    },
    {
      "cell_type": "code",
      "execution_count": 34,
      "metadata": {
        "id": "WJnftd5sQsv6"
      },
      "outputs": [],
      "source": [
        "!mkdir -p training_checkpoints\n",
        "checkpoint_dir = '/content/drive/MyDrive/Colab Notebooks/grad_checkpoints'\n",
        "checkpoint_prefix = os.path.join(checkpoint_dir, \"ckpt\")\n",
        "checkpoint = tf.train.Checkpoint(generator_optimizer=generator_optimizer,\n",
        "                                 generator=generator)"
      ]
    },
    {
      "cell_type": "markdown",
      "metadata": {
        "id": "Rw1fkAczTQYh"
      },
      "source": [
        "## Generate images\n",
        "\n",
        "Write a function to plot some images during training.\n",
        "\n",
        "- Pass images from the test set to the generator.\n",
        "- The generator will then translate the input image into the output.\n",
        "- The last step is to plot the predictions and _voila_!"
      ]
    },
    {
      "cell_type": "markdown",
      "metadata": {
        "id": "Rb0QQFHF-JfS"
      },
      "source": [
        "Note: The `training=True` is intentional here since\n",
        "you want the batch statistics, while running the model on the test dataset. If you use `training=False`, you get the accumulated statistics learned from the training dataset (which you don't want)."
      ]
    },
    {
      "cell_type": "code",
      "execution_count": 35,
      "metadata": {
        "id": "RmdVsmvhPxyy"
      },
      "outputs": [],
      "source": [
        "def generate_images(model, input, tar):\n",
        "  prediction = model(input, training=True)\n",
        "  plot_images(prediction, input, tar)"
      ]
    },
    {
      "cell_type": "code",
      "source": [
        "val_iterator = iter(valid_dataset)"
      ],
      "metadata": {
        "id": "zHu2OPCZk9wi"
      },
      "execution_count": 36,
      "outputs": []
    },
    {
      "cell_type": "code",
      "source": [
        "x,y = next(val_iterator)\n",
        "#pred = model.predict(x)\n",
        "generate_images(generator, x, y)"
      ],
      "metadata": {
        "colab": {
          "base_uri": "https://localhost:8080/",
          "height": 607
        },
        "id": "8IozArImk1Ly",
        "outputId": "10208bf3-867c-4596-a996-be8ff73719b7"
      },
      "execution_count": 37,
      "outputs": [
        {
          "output_type": "display_data",
          "data": {
            "text/plain": [
              "<Figure size 1080x720 with 4 Axes>"
            ],
            "image/png": "[encoded data removed]"
          },
          "metadata": {
            "needs_background": "light"
          }
        }
      ]
    },
    {
      "cell_type": "markdown",
      "metadata": {
        "id": "gipsSEoZIG1a"
      },
      "source": [
        "Test the function:"
      ]
    },
    {
      "cell_type": "code",
      "execution_count": 38,
      "metadata": {
        "id": "8Fc4NzT-DgEx"
      },
      "outputs": [],
      "source": [
        "# for example in valid_dataset.take(1):\n",
        "#   #input = example['input']\n",
        "#   #print(tf.shape(input))\n",
        "#   #rtimg = example['rtimg']\n",
        "#   #rtimg = tf.squeeze(rtimg, axis=0)\n",
        "\n",
        "#   generate_images(generator, input, rtimg)"
      ]
    },
    {
      "cell_type": "code",
      "source": [
        "# sobel_target = tf.image.sobel_edges(rtimg)\n",
        "# sobel_targety = sobel_target[...,0]\n",
        "# sobel_targetx = sobel_target[...,1]\n",
        "\n",
        "# #sobel_gen_output = tf.image.sobel_edges(gen_output)\n",
        "# #sobel_geny = sobel_gen_output[...,0]\n",
        "# #sobel_genx = sobel_gen_output[...,1]\n",
        "# sobel_tar = tf.sqrt(tf.square(sobel_targetx) +  tf.square(sobel_targety))\n",
        "# #tf.shape(sobel_target[...,1])\n",
        "# tf.shape(sobel_tar)\n",
        "# #tf.shape(rtimg)\n",
        "# #sobtest = tf.squeeze(sobel_target[...,0],axis=-1)\n",
        "\n",
        "# #plt.imshow(tf.squeeze(sobtest,axis=0))"
      ],
      "metadata": {
        "id": "jmY6pcS1bLOS"
      },
      "execution_count": 39,
      "outputs": []
    },
    {
      "cell_type": "markdown",
      "metadata": {
        "id": "NLKOG55MErD0"
      },
      "source": [
        "## Training\n",
        "\n",
        "- For each example input generates an output.\n",
        "- The discriminator receives the `input_image` and the generated image as the first input. The second input is the `input_image` and the `target_image`.\n",
        "- Next, calculate the generator and the discriminator loss.\n",
        "- Then, calculate the gradients of loss with respect to both the generator and the discriminator variables(inputs) and apply those to the optimizer.\n",
        "- Finally, log the losses to TensorBoard."
      ]
    },
    {
      "cell_type": "code",
      "execution_count": 40,
      "metadata": {
        "colab": {
          "base_uri": "https://localhost:8080/"
        },
        "id": "xNNMDBNH12q-",
        "outputId": "878aa6f9-3fb2-4312-d790-66a2d0bf6f06"
      },
      "outputs": [
        {
          "output_type": "stream",
          "name": "stdout",
          "text": [
            "20220718-201003\n"
          ]
        }
      ],
      "source": [
        "log_dir=\"/content/drive/MyDrive/Colab Notebooks/logs_phantom_grad/\"\n",
        "print(datetime.datetime.now().strftime(\"%Y%m%d-%H%M%S\"))\n",
        "\n",
        "summary_writer = tf.summary.create_file_writer(\n",
        "  log_dir + \"patient_fold1\" + datetime.datetime.now().strftime(\"%Y%m%d-%H%M%S\"))"
      ]
    },
    {
      "cell_type": "code",
      "execution_count": 41,
      "metadata": {
        "id": "KBKUV2sKXDbY"
      },
      "outputs": [],
      "source": [
        "@tf.function\n",
        "def train_step(input_image, target, step):\n",
        "  with tf.GradientTape() as gen_tape, tf.GradientTape() as disc_tape:\n",
        "    gen_output = generator(input_image, training=True)\n",
        "\n",
        "    #disc_real_output = discriminator(target, training=True)\n",
        "    #disc_generated_output = discriminator(gen_output, training=True)\n",
        "\n",
        "    #disc_real_output = discriminator([input_image,target], training=True)\n",
        "    #disc_generated_output = discriminator([input_image,gen_output], training=True)\n",
        "\n",
        "    gen_l1_loss = generator_loss(gen_output, target)\n",
        "    #disc_loss = discriminator_loss(disc_real_output, disc_generated_output)\n",
        "\n",
        "  generator_gradients = gen_tape.gradient(gen_l1_loss,\n",
        "                                          generator.trainable_variables)\n",
        "  #discriminator_gradients = disc_tape.gradient(disc_loss,\n",
        "  #                                            discriminator.trainable_variables)\n",
        "\n",
        "  generator_optimizer.apply_gradients(zip(generator_gradients,\n",
        "                                          generator.trainable_variables))\n",
        "  #discriminator_optimizer.apply_gradients(zip(discriminator_gradients,\n",
        "  #                                            discriminator.trainable_variables))\n",
        "\n",
        "  with summary_writer.as_default():\n",
        "    #tf.summary.scalar('gen_total_loss', gen_total_loss, step=step//500)\n",
        "    #tf.summary.scalar('gen_gan_loss', gen_gan_loss, step=step//500)\n",
        "    tf.summary.scalar('gen_l1_loss', gen_l1_loss, step=step//train_len)\n",
        "    #tf.summary.scalar('disc_loss', disc_loss, step=step//500)"
      ]
    },
    {
      "cell_type": "markdown",
      "metadata": {
        "id": "hx7s-vBHFKdh"
      },
      "source": [
        "The actual training loop. Since this tutorial can run of more than one dataset, and the datasets vary greatly in size the training loop is setup to work in steps instead of epochs.\n",
        "\n",
        "- Iterates over the number of steps.\n",
        "- Every 10 steps print a dot (`.`).\n",
        "- Every 1k steps: clear the display and run `generate_images` to show the progress.\n",
        "- Every 5k steps: save a checkpoint."
      ]
    },
    {
      "cell_type": "code",
      "execution_count": 42,
      "metadata": {
        "id": "GFyPlBWv1B5j"
      },
      "outputs": [],
      "source": [
        "def fit(train_ds, test_ds, steps):\n",
        "  iterator = iter(test_ds.take(1))\n",
        "  example = next(iterator)\n",
        "  #x,y = next(val_iterator)\n",
        "  #ex_input,rtimg = next(iterator)\n",
        "  ex_input = example[0]\n",
        "  rtimg = example[1]\n",
        "  \n",
        "  #rtimg = tf.squeeze(rtimg, axis=0)\n",
        "  start = time.time()\n",
        "  for step, (input_obj) in train_ds.repeat().take(steps).enumerate():\n",
        "    if (step) % 1000 == 0:\n",
        "      display.clear_output(wait=True)\n",
        "\n",
        "      if step != 0:\n",
        "        print(f'Time taken for 1000 steps: {time.time()-start} sec\\n')\n",
        "        start = time.time()\n",
        "\n",
        "      generate_images(generator, ex_input, rtimg)\n",
        "      print(f\"Step: {step//1000}k\")\n",
        "\n",
        "    #input = input_obj['input']\n",
        "    #target = input_obj['rtimg'] \n",
        "    input = input_obj[0]\n",
        "    target = input_obj[1]\n",
        "    train_step(input, target, step)\n",
        "\n",
        "    # Training step\n",
        "    if (step+1) % 100 == 0:\n",
        "      print('.', end='', flush=True)\n",
        "\n",
        "\n",
        "    # Save (checkpoint) the model every 5k steps\n",
        "    if (step + 1) % 5000 == 0:\n",
        "      checkpoint.save(file_prefix=checkpoint_prefix)"
      ]
    },
    {
      "cell_type": "markdown",
      "metadata": {
        "id": "wozqyTh2wmCu"
      },
      "source": [
        "This training loop saves logs that you can view in TensorBoard to monitor the training progress.\n",
        "\n",
        "If you work on a local machine, you would launch a separate TensorBoard process. When working in a notebook, launch the viewer before starting the training to monitor with TensorBoard.\n",
        "\n",
        "To launch the viewer paste the following into a code-cell:"
      ]
    },
    {
      "cell_type": "markdown",
      "metadata": {
        "id": "Pe0-8Bzg22ox"
      },
      "source": [
        "Finally, run the training loop:"
      ]
    },
    {
      "cell_type": "code",
      "execution_count": 43,
      "metadata": {
        "id": "p8cubdGG_X_w"
      },
      "outputs": [],
      "source": [
        "#checkpoint.restore(tf.train.latest_checkpoint(checkpoint_dir))"
      ]
    },
    {
      "cell_type": "code",
      "source": [
        "stop"
      ],
      "metadata": {
        "id": "Nm5V1yovFqrc",
        "outputId": "3301da89-cf64-499e-b95c-2386b64d2e04",
        "colab": {
          "base_uri": "https://localhost:8080/",
          "height": 171
        }
      },
      "execution_count": 44,
      "outputs": [
        {
          "output_type": "error",
          "ename": "NameError",
          "evalue": "ignored",
          "traceback": [
            "\u001b[0;31m---------------------------------------------------------------------------\u001b[0m",
            "\u001b[0;31mNameError\u001b[0m                                 Traceback (most recent call last)",
            "\u001b[0;32m<ipython-input-44-4f76a9dad686>\u001b[0m in \u001b[0;36m<module>\u001b[0;34m()\u001b[0m\n\u001b[0;32m----> 1\u001b[0;31m \u001b[0mstop\u001b[0m\u001b[0;34m\u001b[0m\u001b[0;34m\u001b[0m\u001b[0m\n\u001b[0m",
            "\u001b[0;31mNameError\u001b[0m: name 'stop' is not defined"
          ]
        }
      ]
    },
    {
      "cell_type": "code",
      "source": [
        "hund_epoch = 100*train_len\n",
        "print(hund_epoch)"
      ],
      "metadata": {
        "id": "mVewYNJWBLhY"
      },
      "execution_count": null,
      "outputs": []
    },
    {
      "cell_type": "code",
      "execution_count": null,
      "metadata": {
        "id": "a1zZmKmvOH85"
      },
      "outputs": [],
      "source": [
        "#fit(train_dataset, valid_dataset, steps=hund_epoch)"
      ]
    },
    {
      "cell_type": "code",
      "execution_count": null,
      "metadata": {
        "id": "Ot22ujrlLhOd"
      },
      "outputs": [],
      "source": [
        "#docs_infra: no_execute'\n",
        "%reload_ext tensorboard\n",
        "#%tensorboard --logdir /content/notebooks/logs/fit/"
      ]
    },
    {
      "cell_type": "code",
      "execution_count": null,
      "metadata": {
        "id": "nNTrnycDsdar"
      },
      "outputs": [],
      "source": [
        "%tensorboard --logdir '/content/drive/MyDrive/Colab Notebooks/logs_phantom_grad/'"
      ]
    },
    {
      "cell_type": "markdown",
      "metadata": {
        "id": "oeq9sByu86-B"
      },
      "source": [
        "If you want to share the TensorBoard results _publicly_, you can upload the logs to [TensorBoard.dev](https://tensorboard.dev/) by copying the following into a code-cell.\n",
        "\n",
        "Note: This requires a Google account.\n",
        "\n",
        "```\n",
        "!tensorboard dev upload --logdir {log_dir}\n",
        "```"
      ]
    },
    {
      "cell_type": "markdown",
      "metadata": {
        "id": "l-kT7WHRKz-E"
      },
      "source": [
        "Caution: This command does not terminate. It's designed to continuously upload the results of long-running experiments. Once your data is uploaded you need to stop it using the \"interrupt execution\" option in your notebook tool."
      ]
    },
    {
      "cell_type": "markdown",
      "metadata": {
        "id": "-lGhS_LfwQoL"
      },
      "source": [
        "You can view the [results of a previous run](https://tensorboard.dev/experiment/lZ0C6FONROaUMfjYkVyJqw) of this notebook on [TensorBoard.dev](https://tensorboard.dev/).\n",
        "\n",
        "TensorBoard.dev is a managed experience for hosting, tracking, and sharing ML experiments with everyone.\n",
        "\n",
        "It can also included inline using an `<iframe>`:"
      ]
    },
    {
      "cell_type": "code",
      "execution_count": null,
      "metadata": {
        "id": "8IS4c93guQ8E"
      },
      "outputs": [],
      "source": [
        "# display.IFrame(\n",
        "#     src=\"https://tensorboard.dev/experiment/lZ0C6FONROaUMfjYkVyJqw\",\n",
        "#     width=\"100%\",\n",
        "#     height=\"1000px\")"
      ]
    },
    {
      "cell_type": "markdown",
      "metadata": {
        "id": "DMTm4peo3cem"
      },
      "source": [
        "Interpreting the logs is more subtle when training a GAN (or a cGAN like pix2pix) compared to a simple classification or regression model. Things to look for:\n",
        "\n",
        "- Check that neither the generator nor the discriminator model has \"won\". If either the `gen_gan_loss` or the `disc_loss` gets very low, it's an indicator that this model is dominating the other, and you are not successfully training the combined model.\n",
        "- The value `log(2) = 0.69` is a good reference point for these losses, as it indicates a perplexity of 2 - the discriminator is, on average, equally uncertain about the two options.\n",
        "- For the `disc_loss`, a value below `0.69` means the discriminator is doing better than random on the combined set of real and generated images.\n",
        "- For the `gen_gan_loss`, a value below `0.69` means the generator is doing better than random at fooling the discriminator.\n",
        "- As training progresses, the `gen_l1_loss` should go down."
      ]
    },
    {
      "cell_type": "markdown",
      "metadata": {
        "id": "kz80bY3aQ1VZ"
      },
      "source": [
        "## Restore the latest checkpoint and test the network"
      ]
    },
    {
      "cell_type": "code",
      "execution_count": null,
      "metadata": {
        "id": "HSSm4kfvJiqv"
      },
      "outputs": [],
      "source": [
        "#os.listdir(checkpoint_dir)\n",
        "#os.listdir(log_dir + '/fit')"
      ]
    },
    {
      "cell_type": "code",
      "execution_count": 55,
      "metadata": {
        "id": "4t4x69adQ5xb",
        "outputId": "ba87fac6-9bc5-4adf-c229-6ec1af72e1fb",
        "colab": {
          "base_uri": "https://localhost:8080/"
        }
      },
      "outputs": [
        {
          "output_type": "stream",
          "name": "stdout",
          "text": [
            "/content/drive/MyDrive/Colab Notebooks/phantom_checkpoints2/ckpt-8\n"
          ]
        },
        {
          "output_type": "execute_result",
          "data": {
            "text/plain": [
              "<tensorflow.python.training.tracking.util.CheckpointLoadStatus at 0x7f03eca6b650>"
            ]
          },
          "metadata": {},
          "execution_count": 55
        }
      ],
      "source": [
        "checkpoint = tf.train.Checkpoint(generator_optimizer=generator_optimizer,\n",
        "                                 generator=generator)\n",
        "#Restoring the latest checkpoint in checkpoint_dir\n",
        "checkpoint_dir = '/content/drive/MyDrive/Colab Notebooks/phantom_checkpoints2'\n",
        "print(tf.train.latest_checkpoint(checkpoint_dir))\n",
        "checkpoint.restore(tf.train.latest_checkpoint(checkpoint_dir))\n",
        "\n",
        "#'/content/drive/MyDrive/Colab Notebooks/phantom_checkpoints/ckpt-8'"
      ]
    },
    {
      "cell_type": "markdown",
      "metadata": {
        "id": "1RGysMU_BZhx"
      },
      "source": [
        "## Generate some images using the test set"
      ]
    },
    {
      "cell_type": "code",
      "execution_count": null,
      "metadata": {
        "id": "g6yulOFllIh2"
      },
      "outputs": [],
      "source": [
        "#generator.save('/content/drive/MyDrive/Colab Notebooks/3chan_lrgken_L1')"
      ]
    },
    {
      "cell_type": "code",
      "execution_count": 296,
      "metadata": {
        "id": "Wtd3ZA-eI_ap"
      },
      "outputs": [],
      "source": [
        "gamma_options = {\n",
        "    'dose_percent_threshold': 3, \n",
        "    'distance_mm_threshold': 3,\n",
        "    'lower_percent_dose_cutoff': 10,\n",
        "    'interp_fraction': 1,  # Should be 10 or more, see the paper referenced above\n",
        "    'max_gamma': 2,\n",
        "    'random_subset': None,  # Can be used to get quick pass rates\n",
        "    'local_gamma': False,  # Change to false for global gamma\n",
        "    'ram_available': 2**29  # 1/2 GB\n",
        "}"
      ]
    },
    {
      "cell_type": "code",
      "execution_count": 51,
      "metadata": {
        "id": "pcxutIrdJF7U"
      },
      "outputs": [],
      "source": [
        "xepidmin = -215.04\n",
        "xepidmax = 215.04\n",
        "yepidmin = -215.04\n",
        "yepidmax = 215.04\n",
        "grid = 1.68\n",
        "xepid = np.arange(xepidmin,xepidmax,grid)\n",
        "yepid = np.arange(yepidmin,yepidmax,grid)\n",
        "coords = (yepid,xepid)"
      ]
    },
    {
      "cell_type": "code",
      "execution_count": null,
      "metadata": {
        "id": "WTyCBjAV1vJZ"
      },
      "outputs": [],
      "source": [
        "# testfiles = tf.io.gfile.glob('/content/drive/My Drive/train/nifti/fold4/12_4_35.*')\n",
        "# valid_data = load_data(testfiles, tf.estimator.ModeKeys.TRAIN, '/content/drive/My Drive/train/nifti/fold1')\n",
        "\n",
        "# valid_dataset = tf.data.Dataset.from_tensor_slices((valid_data))\n",
        "# valid_dataset = valid_dataset.batch(BATCH_SIZE)"
      ]
    },
    {
      "cell_type": "code",
      "execution_count": 56,
      "metadata": {
        "colab": {
          "base_uri": "https://localhost:8080/",
          "height": 759
        },
        "id": "TPwaQHAcHiLr",
        "outputId": "575389d4-b602-4820-87e7-e9cf506ff3df"
      },
      "outputs": [
        {
          "output_type": "stream",
          "name": "stdout",
          "text": [
            "Calcing using global normalisation point for gamma\n",
            "Global normalisation set to 0.29148316383361816\n",
            "Global dose threshold set to [0.00874449] ([3]% of normalisation)\n",
            "Distance threshold set to [3]\n",
            "Lower dose cutoff set to 0.02914831638336182 (10% of normalisation)\n",
            "\n",
            "Current distance: 5.85 mm | Number of reference points remaining: 26 | Points tested per reference point: 247 | RAM split count: 1\n",
            "Complete!\n"
          ]
        },
        {
          "output_type": "execute_result",
          "data": {
            "text/plain": [
              "Text(0.5, 1.0, 'Local Gamma (3%/3mm) | Percent Pass: 92.61 %')"
            ]
          },
          "metadata": {},
          "execution_count": 56
        },
        {
          "output_type": "display_data",
          "data": {
            "text/plain": [
              "<Figure size 720x720 with 4 Axes>"
            ],
            "image/png": "[encoded data removed]"
          },
          "metadata": {
            "needs_background": "light"
          }
        }
      ],
      "source": [
        "example = next(iter(test_dataset))\n",
        "input = example[0]\n",
        "#print(tf.shape(cbct_input))\n",
        "tar = example[1]\n",
        "prediction = generator(input, training=True) \n",
        "\n",
        "diff = tf.subtract(tar,prediction)\n",
        "diff = tf.squeeze(diff, axis=0)\n",
        "diffvec = diff[120,1:256]\n",
        "tar = tf.squeeze(tar, axis=0)\n",
        "tar = tf.squeeze(tar, axis=-1)\n",
        "rtimage = tar\n",
        "\n",
        "prediction = tf.squeeze(prediction, axis=0)\n",
        "prediction = tf.squeeze(prediction, axis=-1)\n",
        "prediction = prediction\n",
        " \n",
        "plt.figure(figsize=(10, 10))\n",
        "  \n",
        "plt.subplot(2, 2, 1)\n",
        "plt.imshow(rtimage)\n",
        "plt.subplot(2, 2, 2)\n",
        "plt.imshow(prediction)\n",
        "  \n",
        "predvec = prediction[128,1:256]\n",
        "rtvec = rtimage[128,1:256]\n",
        "  \n",
        "#predvec = prediction[1:256,128]\n",
        "#rtvec = rtimage[1:256,128]\n",
        "\n",
        "plt.subplot(2, 2, 3)\n",
        "plt.plot(rtvec,'g')\n",
        "plt.title(\"Meas RT IMG (Green)\")\n",
        "plt.plot(predvec,'b')\n",
        "#print(str(example[\"fname\"]))\n",
        "\n",
        "gamma_test = pymedphys.gamma(coords,rtimage, coords, prediction, **gamma_options)\n",
        "valid_gamma = gamma_test[~np.isnan(gamma_test)]\n",
        "\n",
        "num_bins = (\n",
        "    gamma_options['interp_fraction'] * gamma_options['max_gamma'])\n",
        "bins = np.linspace(0, gamma_options['max_gamma'], num_bins + 1)\n",
        "\n",
        "#gamma_no_noise = pymedphys.gamma(coords, rtimage, coords, prediction,**gamma_options)\n",
        "plt.subplot(2, 2, 4)\n",
        "\n",
        "plt.imshow( gamma_test, clim=(0, 2), cmap='coolwarm')\n",
        "\n",
        "# plt.hist(valid_gamma, bins, density=True)\n",
        "# plt.xlim([0, gamma_options['max_gamma']])\n",
        "pass_ratio = np.sum(valid_gamma <= 1) / len(valid_gamma)\n",
        "plt.title(f\"Local Gamma ({gamma_options['dose_percent_threshold']}%/{gamma_options['distance_mm_threshold']}mm) | Percent Pass: {pass_ratio*100:.2f} %\")"
      ]
    },
    {
      "cell_type": "code",
      "source": [
        "distker = np.matrix([2*np.sqrt(2)/3, 2/3, 2*np.sqrt(2)/3, 2/3, 0, 2/3,2*np.sqrt(2)/3, 2/3, 2*np.sqrt(2)/3 ]).reshape(3,3)\n",
        "distker"
      ],
      "metadata": {
        "colab": {
          "base_uri": "https://localhost:8080/"
        },
        "id": "pWN1HO249ySq",
        "outputId": "1201d44d-fc53-4f30-e75e-6109271c2467"
      },
      "execution_count": 59,
      "outputs": [
        {
          "output_type": "execute_result",
          "data": {
            "text/plain": [
              "matrix([[0.94280904, 0.66666667, 0.94280904],\n",
              "        [0.66666667, 0.        , 0.66666667],\n",
              "        [0.94280904, 0.66666667, 0.94280904]])"
            ]
          },
          "metadata": {},
          "execution_count": 59
        }
      ]
    },
    {
      "cell_type": "code",
      "source": [
        "def getTensorGamma(image,pred):\n",
        "  \n",
        "  dta = 3.0\n",
        "  grid = 1.68\n",
        "  maxdose = np.max(np.max(image))\n",
        "  print(\"Max dose \" + str(maxdose))\n",
        "  pd = 0.03*maxdose\n",
        "  image11 = tf.roll(image,shift=[-1,-1],axis=[1,2])\n",
        "  image13 = tf.roll(image,shift=[1,-1], axis=[1,2])\n",
        "  image31 = tf.roll(image,shift=[-1,1], axis=[1,2])\n",
        "  image33 = tf.roll(image,shift=[1,1],  axis=[1,2])\n",
        "\n",
        "  image12 = tf.roll(image,shift=-1,axis=2)\n",
        "  image32 = tf.roll(image,shift= 1,axis=2)\n",
        "\n",
        "  image21 = tf.roll(image,shift=-1,axis=1)\n",
        "  image23 = tf.roll(image,shift= 1,axis=1)\n",
        "\n",
        "  image22 = image \n",
        "\n",
        "  ss11 = tf.sqrt(tf.square((image11-pred)/pd)+tf.square((grid*tf.sqrt(2.0))/dta) )\n",
        "  ss13 = tf.sqrt(tf.square((image13-pred)/pd)+tf.square((grid*tf.sqrt(2.0))/dta) )\n",
        "  ss31 = tf.sqrt(tf.square((image31-pred)/pd)+tf.square((grid*tf.sqrt(2.0))/dta) )\n",
        "  ss33 = tf.sqrt(tf.square((image33-pred)/pd)+tf.square((grid*tf.sqrt(2.0))/dta) )\n",
        "\n",
        "\n",
        "  ss12 = tf.sqrt(tf.square((image12-pred)/pd)+tf.square(grid/dta) )\n",
        "  ss32 = tf.sqrt(tf.square((image32-pred)/pd)+tf.square(grid/dta) )\n",
        "  ss21 = tf.sqrt(tf.square((image21-pred)/pd)+tf.square(grid/dta) )\n",
        "  ss23 = tf.sqrt(tf.square((image23-pred)/pd)+tf.square(grid/dta) )\n",
        "  ss22 = tf.sqrt(tf.square((image22-pred)/pd))\n",
        "\n",
        "  #min = tf.math.minimum(ss11,ss22)\n",
        "  min = tf.keras.layers.Minimum()([ss11, ss12, ss13,ss21,ss23,ss31,ss32,ss33])\n",
        "\n",
        "  minp = tf.squeeze(min, axis=0)\n",
        "  minp = tf.squeeze(minp, axis=-1)\n",
        "  \n",
        "  img = tf.squeeze(image, axis=0)\n",
        "  img = tf.squeeze(img, axis=-1)\n",
        "\n",
        "  imgnp = img.numpy()\n",
        "\n",
        "  minnp = minp.numpy()\n",
        "  #print(\"Lower Threhold \" + str(0.1*maxdose))\n",
        "  minnp[imgnp < 0.1*maxdose] = np.NaN\n",
        "  \n",
        "  return minnp\n",
        "\n"
      ],
      "metadata": {
        "id": "ITsPwqJYeNJe"
      },
      "execution_count": 297,
      "outputs": []
    },
    {
      "cell_type": "code",
      "source": [
        "example = next(iter(valid_dataset))\n",
        "input = example[0]\n",
        "pred = generator(input, training=True) \n",
        "image = example[1]\n",
        "\n",
        "tar = tf.squeeze(image, axis=0)\n",
        "tar = tf.squeeze(tar, axis=-1)\n",
        "rtimage = tar\n",
        "\n",
        "prediction = tf.squeeze(pred, axis=0)\n",
        "prediction = tf.squeeze(prediction, axis=-1)\n",
        "prediction = prediction\n",
        "\n",
        "plt.figure(figsize=(10, 10))\n",
        "start = time.time()\n",
        "minp = getTensorGamma(image,pred)\n",
        "#end = time.time()\n",
        "\n",
        "#print(str(end-start))\n",
        "#\n",
        "plt.subplot(2, 1, 1)\n",
        "plt.imshow( minp,clim=(0, 2),cmap='coolwarm')\n",
        "\n",
        "#plt.hist(minp)\n",
        "# tf.max(minp)\n",
        "# plt.plot(minp[128,1:256])\n",
        "\n",
        "gamma_test = pymedphys.gamma(coords,rtimage, coords, prediction, **gamma_options)\n",
        "valid_gamma = gamma_test[~np.isnan(gamma_test)]\n",
        "\n",
        "num_bins = (\n",
        "    gamma_options['interp_fraction'] * gamma_options['max_gamma'])\n",
        "bins = np.linspace(0, gamma_options['max_gamma'], num_bins + 1)\n",
        "\n",
        "#gamma_no_noise = pymedphys.gamma(coords, rtimage, coords, prediction,**gamma_options)\n",
        "\n",
        "plt.subplot(2, 1, 2)\n",
        "\n",
        "#print(\"tensor method \" + str(minp[128,128]),\" gamma method \" + str(gamma_test[128,128])) \n",
        "#print(gamma_test)\n",
        "plt.imshow( gamma_test, clim=(0, 2), cmap='coolwarm')\n",
        "#plt.hist(gamma_test)\n",
        "#plt.plot(gamma_test[128,1:256])"
      ],
      "metadata": {
        "colab": {
          "base_uri": "https://localhost:8080/",
          "height": 778
        },
        "id": "hZtHZSd5U96A",
        "outputId": "56e119c6-bcdb-4250-ec0f-c7bc48bb1975"
      },
      "execution_count": 300,
      "outputs": [
        {
          "output_type": "stream",
          "name": "stdout",
          "text": [
            "Max dose 0.43237263\n",
            "Calcing using global normalisation point for gamma\n",
            "Global normalisation set to 0.4323726296424866\n",
            "Global dose threshold set to [0.01297118] ([3]% of normalisation)\n",
            "Distance threshold set to [3]\n",
            "Lower dose cutoff set to 0.04323726296424866 (10% of normalisation)\n",
            "\n",
            "Current distance: 6.00 mm | Number of reference points remaining: 1605 | Points tested per reference point: 14 | RAM split count: 1\n",
            "Complete!\n"
          ]
        },
        {
          "output_type": "execute_result",
          "data": {
            "text/plain": [
              "<matplotlib.image.AxesImage at 0x7f0106355c10>"
            ]
          },
          "metadata": {},
          "execution_count": 300
        },
        {
          "output_type": "display_data",
          "data": {
            "text/plain": [
              "<Figure size 720x720 with 2 Axes>"
            ],
            "image/png": "[encoded data removed]"
          },
          "metadata": {
            "needs_background": "light"
          }
        }
      ]
    },
    {
      "cell_type": "code",
      "source": [
        "#kernel_in = np.ones((1,3,3,1))\n",
        "#kernel_in = tf.constant(kernel_in,dtype=tf.float32)"
      ],
      "metadata": {
        "id": "Rf1on6Wh-oCy"
      },
      "execution_count": 94,
      "outputs": []
    },
    {
      "cell_type": "code",
      "source": [
        "#input = tf.keras.layers.Input( shape=[None, 32, 32, 5])\n",
        "# Each filter adds the neighborhood for a different channel\n",
        "#filter = tf.eye(5, batch_shape=[3, 3], dtype=input.dtype)\n",
        "#output = tf.nn.conv2d(input, filter, strides=[1, 1, 1, 1], padding='SAME')\n",
        "#filter"
      ],
      "metadata": {
        "colab": {
          "base_uri": "https://localhost:8080/"
        },
        "id": "2wUxqtT4TJtM",
        "outputId": "b9075524-5ca9-4d10-e5db-f969af13c2b0"
      },
      "execution_count": 115,
      "outputs": [
        {
          "output_type": "execute_result",
          "data": {
            "text/plain": [
              "<tf.Tensor: shape=(3, 3, 5, 5), dtype=float32, numpy=\n",
              "array([[[[1., 0., 0., 0., 0.],\n",
              "         [0., 1., 0., 0., 0.],\n",
              "         [0., 0., 1., 0., 0.],\n",
              "         [0., 0., 0., 1., 0.],\n",
              "         [0., 0., 0., 0., 1.]],\n",
              "\n",
              "        [[1., 0., 0., 0., 0.],\n",
              "         [0., 1., 0., 0., 0.],\n",
              "         [0., 0., 1., 0., 0.],\n",
              "         [0., 0., 0., 1., 0.],\n",
              "         [0., 0., 0., 0., 1.]],\n",
              "\n",
              "        [[1., 0., 0., 0., 0.],\n",
              "         [0., 1., 0., 0., 0.],\n",
              "         [0., 0., 1., 0., 0.],\n",
              "         [0., 0., 0., 1., 0.],\n",
              "         [0., 0., 0., 0., 1.]]],\n",
              "\n",
              "\n",
              "       [[[1., 0., 0., 0., 0.],\n",
              "         [0., 1., 0., 0., 0.],\n",
              "         [0., 0., 1., 0., 0.],\n",
              "         [0., 0., 0., 1., 0.],\n",
              "         [0., 0., 0., 0., 1.]],\n",
              "\n",
              "        [[1., 0., 0., 0., 0.],\n",
              "         [0., 1., 0., 0., 0.],\n",
              "         [0., 0., 1., 0., 0.],\n",
              "         [0., 0., 0., 1., 0.],\n",
              "         [0., 0., 0., 0., 1.]],\n",
              "\n",
              "        [[1., 0., 0., 0., 0.],\n",
              "         [0., 1., 0., 0., 0.],\n",
              "         [0., 0., 1., 0., 0.],\n",
              "         [0., 0., 0., 1., 0.],\n",
              "         [0., 0., 0., 0., 1.]]],\n",
              "\n",
              "\n",
              "       [[[1., 0., 0., 0., 0.],\n",
              "         [0., 1., 0., 0., 0.],\n",
              "         [0., 0., 1., 0., 0.],\n",
              "         [0., 0., 0., 1., 0.],\n",
              "         [0., 0., 0., 0., 1.]],\n",
              "\n",
              "        [[1., 0., 0., 0., 0.],\n",
              "         [0., 1., 0., 0., 0.],\n",
              "         [0., 0., 1., 0., 0.],\n",
              "         [0., 0., 0., 1., 0.],\n",
              "         [0., 0., 0., 0., 1.]],\n",
              "\n",
              "        [[1., 0., 0., 0., 0.],\n",
              "         [0., 1., 0., 0., 0.],\n",
              "         [0., 0., 1., 0., 0.],\n",
              "         [0., 0., 0., 1., 0.],\n",
              "         [0., 0., 0., 0., 1.]]]], dtype=float32)>"
            ]
          },
          "metadata": {},
          "execution_count": 115
        }
      ]
    },
    {
      "cell_type": "code",
      "source": [
        "\n",
        "kernel_in"
      ],
      "metadata": {
        "colab": {
          "base_uri": "https://localhost:8080/"
        },
        "id": "uImWBVfvJhyl",
        "outputId": "0bcefec9-c743-4001-d833-6f2d4351931d"
      },
      "execution_count": 95,
      "outputs": [
        {
          "output_type": "execute_result",
          "data": {
            "text/plain": [
              "<tf.Tensor: shape=(1, 3, 3, 1), dtype=float32, numpy=\n",
              "array([[[[1.],\n",
              "         [1.],\n",
              "         [1.]],\n",
              "\n",
              "        [[1.],\n",
              "         [1.],\n",
              "         [1.]],\n",
              "\n",
              "        [[1.],\n",
              "         [1.],\n",
              "         [1.]]]], dtype=float32)>"
            ]
          },
          "metadata": {},
          "execution_count": 95
        }
      ]
    },
    {
      "cell_type": "code",
      "source": [
        "from tensorflow.python.ops.init_ops_v2 import Constant\n",
        "example = next(iter(test_dataset))\n",
        "image = example[1]\n",
        "#image = tf.squeeze(image)\n",
        "#tf.shape(kernel_in)\n",
        "#image = tf.constant(image,dtype=tf.float32)\n",
        "\n",
        "#tf.shape(image)\n",
        "#tf.nn.conv2d(image,kernel_in,strides=[1, 1, 1, 1 ] ,padding='VALID')\n",
        "\n",
        "onebyone = tf.keras.layers.Conv2D(1, 1, strides=1, activation=None, padding='same', kernel_initializer=Constant(1.0), use_bias=False)(image)\n",
        "prediction = generator(input, training=True) \n",
        "threebythree = tf.keras.layers.Conv2D(1, 3, strides=1, activation=None, padding='same', kernel_initializer=Constant(1.0), use_bias=False)(prediction)\n",
        "\n",
        "\n",
        "\n"
      ],
      "metadata": {
        "colab": {
          "base_uri": "https://localhost:8080/"
        },
        "id": "G1nG7SxD8kyo",
        "outputId": "31e7044d-4b35-48fb-c7c0-fe140b241213"
      },
      "execution_count": 104,
      "outputs": [
        {
          "output_type": "execute_result",
          "data": {
            "text/plain": [
              "<tf.Tensor: shape=(1, 256, 256, 1), dtype=float32, numpy=\n",
              "array([[[[0.04758713],\n",
              "         [0.0571752 ],\n",
              "         [0.0296143 ],\n",
              "         ...,\n",
              "         [0.02713721],\n",
              "         [0.04644477],\n",
              "         [0.0375704 ]],\n",
              "\n",
              "        [[0.0560433 ],\n",
              "         [0.06884667],\n",
              "         [0.03945633],\n",
              "         ...,\n",
              "         [0.03664286],\n",
              "         [0.05705846],\n",
              "         [0.04514509]],\n",
              "\n",
              "        [[0.02655703],\n",
              "         [0.03628455],\n",
              "         [0.03139449],\n",
              "         ...,\n",
              "         [0.03047981],\n",
              "         [0.03184036],\n",
              "         [0.02242515]],\n",
              "\n",
              "        ...,\n",
              "\n",
              "        [[0.02502524],\n",
              "         [0.03273854],\n",
              "         [0.02745347],\n",
              "         ...,\n",
              "         [0.02972304],\n",
              "         [0.02796798],\n",
              "         [0.01944251]],\n",
              "\n",
              "        [[0.03914862],\n",
              "         [0.04774709],\n",
              "         [0.02948762],\n",
              "         ...,\n",
              "         [0.02880311],\n",
              "         [0.04037703],\n",
              "         [0.03252732]],\n",
              "\n",
              "        [[0.03103479],\n",
              "         [0.03717208],\n",
              "         [0.0208425 ],\n",
              "         ...,\n",
              "         [0.01975783],\n",
              "         [0.0321712 ],\n",
              "         [0.02673188]]]], dtype=float32)>"
            ]
          },
          "metadata": {},
          "execution_count": 104
        }
      ]
    },
    {
      "cell_type": "code",
      "execution_count": null,
      "metadata": {
        "id": "ck1o0QAY71Zv"
      },
      "outputs": [],
      "source": [
        "plt.imshow(gamma_test)"
      ]
    },
    {
      "cell_type": "code",
      "source": [
        "caxcb = [] \n",
        "caxrt = []\n",
        "caxpred = []\n",
        "caxhalf = []\n",
        "\n",
        "all_ratios = np.zeros(len(list(valid_dataset)))\n",
        "\n",
        "for example in valid_dataset:\n",
        "  tinp = example[0]\n",
        "  ttar = example[1]\n",
        "  inp = tf.squeeze(tinp,axis=0)\n",
        "  #slicen = 1\n",
        "  pdos = getinput(inp,0)\n",
        "  img = getinput(inp,1)\n",
        "  half = getinput(inp,2)\n",
        "  cbctcax = np.mean(img[126:130,126:130] )\n",
        "  pdoscax = np.mean(pdos[126:130,126:130] )\n",
        "  halfcax = np.mean(half[126:130,126:130] )\n",
        "  prediction = generator(tinp, training=True)\n",
        "  ttar = tf.squeeze(ttar, axis=0)\n",
        "  ttar = tf.squeeze(ttar, axis=-1)\n",
        "  rtimage = ttar\n",
        "  rtcax = np.mean(ttar[126:130,126:130])\n",
        "  \n",
        "  #out = \"cbctcax {} rtcax {}\".format(cbctcax,rtcax/pdoscax)\n",
        "  #print(out)\n",
        "  prediction = tf.squeeze(prediction, axis=0)\n",
        "  prediction = tf.squeeze(prediction, axis=-1)\n",
        "  predcax = np.mean(prediction[126:130,126:130])\n",
        "  caxcb = np.append(caxcb,cbctcax)\n",
        "  caxrt = np.append(caxrt,rtcax/pdoscax)\n",
        "  caxpred = np.append(caxpred,predcax/pdoscax)\n",
        "  caxhalf = np.append(caxhalf,halfcax)\n",
        "\n",
        "#ax = plt.axes(projection='3d')\n",
        "#ax.scatter3D(caxcb, caxhalf, caxrt, c='b' )\n",
        "#ax.scatter3D(caxcb, caxhalf, caxpred, c='r' )\n",
        "#plt.show()\n",
        "\n",
        "plt.plot(caxcb,caxrt,'bo')\n",
        "plt.plot(caxcb,caxpred,'ro')\n",
        "\n",
        "#plt.plot(caxhalf,caxrt,'bo')\n",
        "#plt.plot(caxhalf,caxpred,'ro')\n",
        "plt.ylim([0, 0.8])\n",
        "#plt.xlim([0.80, 0.85])\n",
        "plt.show()"
      ],
      "metadata": {
        "id": "YLLfz5DoUcSk"
      },
      "execution_count": null,
      "outputs": []
    },
    {
      "cell_type": "code",
      "execution_count": null,
      "metadata": {
        "id": "ELlbbPKP0oQA"
      },
      "outputs": [],
      "source": [
        "dataset = test_dataset\n",
        "all_ratios = np.zeros(len(list(dataset)))\n",
        "i = 0\n",
        "i90 = 0\n",
        "for example in dataset:\n",
        "  tinp = example[0]\n",
        "  ttar = example[1]\n",
        "  prediction = generator(tinp, training=True)\n",
        "  ttar = tf.squeeze(ttar, axis=0)\n",
        "  ttar = tf.squeeze(ttar, axis=-1)\n",
        "  rtimage = ttar\n",
        "\n",
        "  prediction = tf.squeeze(prediction, axis=0)\n",
        "  prediction = tf.squeeze(prediction, axis=-1)\n",
        "  prediction = prediction\n",
        "  gamma_test = pymedphys.gamma(coords,rtimage, coords, prediction, **gamma_options,quiet=True)\n",
        "  valid_gamma = gamma_test[~np.isnan(gamma_test)]\n",
        "  pass_ratio = np.sum(valid_gamma <= 1) / len(valid_gamma)\n",
        "  #tf.print(example[\"fname\"])\n",
        "  print(pass_ratio)\n",
        "  all_ratios[i] = pass_ratio\n",
        "  i = i+1\n",
        "  if(pass_ratio > 0.90):\n",
        "    i90 = i90+1\n",
        "\n",
        "print(\"mean \" + str(np.mean(all_ratios)))\n",
        "print(\"STD \" + str(np.std(all_ratios))) \n",
        "print(\"max \" + str(np.max(all_ratios)))\n",
        "print(\"min \" + str(np.min(all_ratios)))\n",
        "print(\"ratio > 90% \" + str(float(i90)/float(i)))\n",
        "plt.hist(all_ratios)\n",
        "plt.yscale('log')"
      ]
    }
  ],
  "metadata": {
    "accelerator": "GPU",
    "colab": {
      "collapsed_sections": [],
      "name": "phantom 3chan GEN_v2.ipynb",
      "provenance": [],
      "include_colab_link": true
    },
    "kernelspec": {
      "display_name": "ITK Environment",
      "language": "python",
      "name": "itkenv"
    },
    "language_info": {
      "codemirror_mode": {
        "name": "ipython",
        "version": 3
      },
      "file_extension": ".py",
      "mimetype": "text/x-python",
      "name": "python",
      "nbconvert_exporter": "python",
      "pygments_lexer": "ipython3",
      "version": "3.8.10"
    }
  },
  "nbformat": 4,
  "nbformat_minor": 0
}