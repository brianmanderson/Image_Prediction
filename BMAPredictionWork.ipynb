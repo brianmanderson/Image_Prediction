{
  "nbformat": 4,
  "nbformat_minor": 0,
  "metadata": {
    "colab": {
      "name": "BMAPredictionWork.ipynb",
      "provenance": [],
      "collapsed_sections": [
        "0FMYgY_mPfTi",
        "kz80bY3aQ1VZ"
      ],
      "background_execution": "on",
      "authorship_tag": "ABX9TyNsZOy4AENjApwursKFvZmA",
      "include_colab_link": true
    },
    "kernelspec": {
      "name": "python3",
      "display_name": "Python 3"
    },
    "language_info": {
      "name": "python"
    },
    "accelerator": "GPU",
    "gpuClass": "standard"
  },
  "cells": [
    {
      "cell_type": "markdown",
      "metadata": {
        "id": "view-in-github",
        "colab_type": "text"
      },
      "source": [
        "<a href=\"https://colab.research.google.com/github/brianmanderson/Image_Prediction/blob/main/BMAPredictionWork.ipynb\" target=\"_parent\"><img src=\"https://colab.research.google.com/assets/colab-badge.svg\" alt=\"Open In Colab\"/></a>"
      ]
    },
    {
      "cell_type": "markdown",
      "metadata": {
        "id": "v1CUZ0dkOo_F"
      },
      "source": [
        "##### Copyright 2019 The TensorFlow Authors.\n",
        "\n",
        "Licensed under the Apache License, Version 2.0 (the \"License\");"
      ]
    },
    {
      "cell_type": "code",
      "execution_count": 1,
      "metadata": {
        "cellView": "form",
        "id": "qmkj-80IHxnd"
      },
      "outputs": [],
      "source": [
        "#@title Licensed under the Apache License, Version 2.0 (the \"License\");\n",
        "# you may not use this file except in compliance with the License.\n",
        "# You may obtain a copy of the License at\n",
        "#\n",
        "# https://www.apache.org/licenses/LICENSE-2.0\n",
        "#\n",
        "# Unless required by applicable law or agreed to in writing, software\n",
        "# distributed under the License is distributed on an \"AS IS\" BASIS,\n",
        "# WITHOUT WARRANTIES OR CONDITIONS OF ANY KIND, either express or implied.\n",
        "# See the License for the specific language governing permissions and\n",
        "# limitations under the License."
      ]
    },
    {
      "cell_type": "markdown",
      "metadata": {
        "id": "_xnMOsbqHz61"
      },
      "source": [
        "# pix2pix: Image-to-image translation with a conditional GAN"
      ]
    },
    {
      "cell_type": "markdown",
      "metadata": {
        "id": "Ds4o1h4WHz9U"
      },
      "source": [
        "<table class=\"tfo-notebook-buttons\" align=\"left\">\n",
        "  <td>\n",
        "    <a target=\"_blank\" href=\"https://www.tensorflow.org/tutorials/generative/pix2pix\"><img src=\"https://www.tensorflow.org/images/tf_logo_32px.png\" />View on TensorFlow.org</a>\n",
        "  </td>\n",
        "  <td>\n",
        "    <a target=\"_blank\" href=\"https://colab.research.google.com/github/tensorflow/docs/blob/master/site/en/tutorials/generative/pix2pix.ipynb\"><img src=\"https://www.tensorflow.org/images/colab_logo_32px.png\" />Run in Google Colab</a>\n",
        "  </td>\n",
        "  <td>\n",
        "    <a target=\"_blank\" href=\"https://github.com/tensorflow/docs/blob/master/site/en/tutorials/generative/pix2pix.ipynb\"><img src=\"https://www.tensorflow.org/images/GitHub-Mark-32px.png\" />View source on GitHub</a>\n",
        "  </td>\n",
        "  <td>\n",
        "    <a href=\"https://storage.googleapis.com/tensorflow_docs/docs/site/en/tutorials/generative/pix2pix.ipynb\"><img src=\"https://www.tensorflow.org/images/download_logo_32px.png\" />Download notebook</a>\n",
        "  </td>\n",
        "</table>"
      ]
    },
    {
      "cell_type": "markdown",
      "metadata": {
        "id": "ITZuApL56Mny"
      },
      "source": [
        "This Google Colab Notebook heavily buroows from the pix2pix example. \n",
        "How to build and train a conditional generative adversarial network (cGAN) called pix2pix that learns a mapping from input images to output images, as described in [Image-to-image translation with conditional adversarial networks](https://arxiv.org/abs/1611.07004) by Isola et al. (2017). pix2pix is not application specific—it can be applied to a wide range of tasks, including synthesizing photos from label maps, generating colorized photos from black and white images, turning Google Maps photos into aerial images, and even transforming sketches into photos.\n",
        "\n",
        "In the pix2pix cGAN, you condition on input images and generate corresponding output images. cGANs were first proposed in [Conditional Generative Adversarial Nets](https://arxiv.org/abs/1411.1784) (Mirza and Osindero, 2014)\n",
        "\n",
        "The architecture of your network will contain:\n",
        "\n",
        "- A generator with a [U-Net]([U-Net](https://arxiv.org/abs/1505.04597))-based architecture.\n",
        "- A discriminator represented by a convolutional PatchGAN classifier (proposed in the [pix2pix paper](https://arxiv.org/abs/1611.07004)).\n",
        "\n",
        "Note that each epoch can take around 15 seconds on a single V100 GPU.\n",
        "\n"
      ]
    },
    {
      "cell_type": "markdown",
      "metadata": {
        "id": "e1_Y75QXJS6h"
      },
      "source": [
        "## Import TensorFlow and other libraries"
      ]
    },
    {
      "cell_type": "code",
      "execution_count": 1,
      "metadata": {
        "id": "YfIk2es3hJEd"
      },
      "outputs": [],
      "source": [
        "import tensorflow as tf\n",
        "import pandas as pd\n",
        "import time\n",
        "import os\n",
        "import sys \n",
        "import pathlib\n",
        "import time\n",
        "import datetime\n",
        "import numpy as np\n",
        "from matplotlib import pyplot as plt\n",
        "from IPython import display\n",
        "import tensorflow.experimental.numpy as tnp"
      ]
    },
    {
      "cell_type": "code",
      "execution_count": 2,
      "metadata": {
        "colab": {
          "base_uri": "https://localhost:8080/"
        },
        "id": "iPVGz0KIdvia",
        "outputId": "f73bb1d5-d3b1-41f1-c3c5-237d4fd613cd"
      },
      "outputs": [
        {
          "output_type": "stream",
          "name": "stdout",
          "text": [
            "Mounted at /content/drive\n"
          ]
        }
      ],
      "source": [
        "running_local = False\n",
        "try:\n",
        "    from google.colab import drive\n",
        "    drive.mount('/content/drive')\n",
        "    nb_path = '/content/notebooks'\n",
        "    os.symlink('/content/drive/MyDrive/Colab Notebooks', nb_path)\n",
        "    sys.path.insert(0, nb_path)  # or append(nb_path)\n",
        "except:\n",
        "    running_local = True\n",
        "    print(\"Running locally\")"
      ]
    },
    {
      "cell_type": "markdown",
      "metadata": {
        "id": "R4Ya7PQy4NBD"
      },
      "source": [
        "Line to install pymedphys which has a gamma function. Libaray was saved to Google drive and is commented out."
      ]
    },
    {
      "cell_type": "code",
      "execution_count": 4,
      "metadata": {
        "id": "1oOw8vQJUyg-"
      },
      "outputs": [],
      "source": [
        "#!pip install --target=$nb_path pymedphys"
      ]
    },
    {
      "cell_type": "code",
      "execution_count": 3,
      "metadata": {
        "colab": {
          "base_uri": "https://localhost:8080/",
          "height": 1000
        },
        "id": "wzufEZu702tH",
        "outputId": "84119a07-4b46-4ebe-8b81-a6fd129429d7"
      },
      "outputs": [
        {
          "output_type": "stream",
          "name": "stdout",
          "text": [
            "Looking in indexes: https://pypi.org/simple, https://us-python.pkg.dev/colab-wheels/public/simple/\n",
            "Collecting SimpleITK\n",
            "  Downloading SimpleITK-2.1.1.2-cp37-cp37m-manylinux_2_12_x86_64.manylinux2010_x86_64.whl (48.4 MB)\n",
            "\u001b[K     |████████████████████████████████| 48.4 MB 1.2 MB/s \n",
            "\u001b[?25hInstalling collected packages: SimpleITK\n",
            "Successfully installed SimpleITK-2.1.1.2\n",
            "Looking in indexes: https://pypi.org/simple, https://us-python.pkg.dev/colab-wheels/public/simple/\n",
            "Collecting pymedphys\n",
            "  Downloading pymedphys-0.38.0-py3-none-any.whl (1.8 MB)\n",
            "\u001b[K     |████████████████████████████████| 1.8 MB 14.4 MB/s \n",
            "\u001b[?25hRequirement already satisfied: typing-extensions in /usr/local/lib/python3.7/dist-packages (from pymedphys) (4.1.1)\n",
            "Collecting ipython>=7.31.1\n",
            "  Downloading ipython-7.34.0-py3-none-any.whl (793 kB)\n",
            "\u001b[K     |████████████████████████████████| 793 kB 60.2 MB/s \n",
            "\u001b[?25hRequirement already satisfied: traitlets>=4.2 in /usr/local/lib/python3.7/dist-packages (from ipython>=7.31.1->pymedphys) (5.1.1)\n",
            "Requirement already satisfied: pexpect>4.3 in /usr/local/lib/python3.7/dist-packages (from ipython>=7.31.1->pymedphys) (4.8.0)\n",
            "Requirement already satisfied: pickleshare in /usr/local/lib/python3.7/dist-packages (from ipython>=7.31.1->pymedphys) (0.7.5)\n",
            "Requirement already satisfied: decorator in /usr/local/lib/python3.7/dist-packages (from ipython>=7.31.1->pymedphys) (4.4.2)\n",
            "Requirement already satisfied: setuptools>=18.5 in /usr/local/lib/python3.7/dist-packages (from ipython>=7.31.1->pymedphys) (57.4.0)\n",
            "Requirement already satisfied: jedi>=0.16 in /usr/local/lib/python3.7/dist-packages (from ipython>=7.31.1->pymedphys) (0.18.1)\n",
            "Requirement already satisfied: pygments in /usr/local/lib/python3.7/dist-packages (from ipython>=7.31.1->pymedphys) (2.6.1)\n",
            "Requirement already satisfied: matplotlib-inline in /usr/local/lib/python3.7/dist-packages (from ipython>=7.31.1->pymedphys) (0.1.3)\n",
            "Requirement already satisfied: backcall in /usr/local/lib/python3.7/dist-packages (from ipython>=7.31.1->pymedphys) (0.2.0)\n",
            "Collecting prompt-toolkit!=3.0.0,!=3.0.1,<3.1.0,>=2.0.0\n",
            "  Downloading prompt_toolkit-3.0.30-py3-none-any.whl (381 kB)\n",
            "\u001b[K     |████████████████████████████████| 381 kB 64.0 MB/s \n",
            "\u001b[?25hRequirement already satisfied: parso<0.9.0,>=0.8.0 in /usr/local/lib/python3.7/dist-packages (from jedi>=0.16->ipython>=7.31.1->pymedphys) (0.8.3)\n",
            "Requirement already satisfied: ptyprocess>=0.5 in /usr/local/lib/python3.7/dist-packages (from pexpect>4.3->ipython>=7.31.1->pymedphys) (0.7.0)\n",
            "Requirement already satisfied: wcwidth in /usr/local/lib/python3.7/dist-packages (from prompt-toolkit!=3.0.0,!=3.0.1,<3.1.0,>=2.0.0->ipython>=7.31.1->pymedphys) (0.2.5)\n",
            "Installing collected packages: prompt-toolkit, ipython, pymedphys\n",
            "  Attempting uninstall: prompt-toolkit\n",
            "    Found existing installation: prompt-toolkit 1.0.18\n",
            "    Uninstalling prompt-toolkit-1.0.18:\n",
            "      Successfully uninstalled prompt-toolkit-1.0.18\n",
            "  Attempting uninstall: ipython\n",
            "    Found existing installation: ipython 5.5.0\n",
            "    Uninstalling ipython-5.5.0:\n",
            "      Successfully uninstalled ipython-5.5.0\n",
            "\u001b[31mERROR: pip's dependency resolver does not currently take into account all the packages that are installed. This behaviour is the source of the following dependency conflicts.\n",
            "jupyter-console 5.2.0 requires prompt-toolkit<2.0.0,>=1.0.0, but you have prompt-toolkit 3.0.30 which is incompatible.\n",
            "google-colab 1.0.0 requires ipython~=5.5.0, but you have ipython 7.34.0 which is incompatible.\u001b[0m\n",
            "Successfully installed ipython-7.34.0 prompt-toolkit-3.0.30 pymedphys-0.38.0\n"
          ]
        },
        {
          "output_type": "display_data",
          "data": {
            "application/vnd.colab-display-data+json": {
              "pip_warning": {
                "packages": [
                  "IPython",
                  "prompt_toolkit"
                ]
              }
            }
          },
          "metadata": {}
        },
        {
          "output_type": "stream",
          "name": "stdout",
          "text": [
            "Looking in indexes: https://pypi.org/simple, https://us-python.pkg.dev/colab-wheels/public/simple/\n",
            "Collecting PlotScrollNumpyArrays\n",
            "  Downloading PlotScrollNumpyArrays-0.0.1-py3-none-any.whl (4.3 kB)\n",
            "Requirement already satisfied: SimpleITK in /usr/local/lib/python3.7/dist-packages (from PlotScrollNumpyArrays) (2.1.1.2)\n",
            "Requirement already satisfied: numpy in /usr/local/lib/python3.7/dist-packages (from PlotScrollNumpyArrays) (1.21.6)\n",
            "Requirement already satisfied: matplotlib in /usr/local/lib/python3.7/dist-packages (from PlotScrollNumpyArrays) (3.2.2)\n",
            "Requirement already satisfied: cycler>=0.10 in /usr/local/lib/python3.7/dist-packages (from matplotlib->PlotScrollNumpyArrays) (0.11.0)\n",
            "Requirement already satisfied: python-dateutil>=2.1 in /usr/local/lib/python3.7/dist-packages (from matplotlib->PlotScrollNumpyArrays) (2.8.2)\n",
            "Requirement already satisfied: pyparsing!=2.0.4,!=2.1.2,!=2.1.6,>=2.0.1 in /usr/local/lib/python3.7/dist-packages (from matplotlib->PlotScrollNumpyArrays) (3.0.9)\n",
            "Requirement already satisfied: kiwisolver>=1.0.1 in /usr/local/lib/python3.7/dist-packages (from matplotlib->PlotScrollNumpyArrays) (1.4.3)\n",
            "Requirement already satisfied: typing-extensions in /usr/local/lib/python3.7/dist-packages (from kiwisolver>=1.0.1->matplotlib->PlotScrollNumpyArrays) (4.1.1)\n",
            "Requirement already satisfied: six>=1.5 in /usr/local/lib/python3.7/dist-packages (from python-dateutil>=2.1->matplotlib->PlotScrollNumpyArrays) (1.15.0)\n",
            "Installing collected packages: PlotScrollNumpyArrays\n",
            "Successfully installed PlotScrollNumpyArrays-0.0.1\n"
          ]
        }
      ],
      "source": [
        "!pip install SimpleITK\n",
        "!pip install pymedphys\n",
        "!pip install PlotScrollNumpyArrays"
      ]
    },
    {
      "cell_type": "code",
      "execution_count": 4,
      "metadata": {
        "id": "XkwdsvfzU35d"
      },
      "outputs": [],
      "source": [
        "#import SimpleITK as sitk\n",
        "import pymedphys"
      ]
    },
    {
      "cell_type": "code",
      "source": [
        "!git clone --recurse-submodules -j8 https://github.com/brianmanderson/Data_Generators"
      ],
      "metadata": {
        "colab": {
          "base_uri": "https://localhost:8080/"
        },
        "id": "dED2fmqDhBq4",
        "outputId": "c60a5374-c8b6-4487-fdf2-f88ff9e250c5"
      },
      "execution_count": 5,
      "outputs": [
        {
          "output_type": "stream",
          "name": "stdout",
          "text": [
            "Cloning into 'Data_Generators'...\n",
            "remote: Enumerating objects: 1094, done.\u001b[K\n",
            "remote: Counting objects: 100% (88/88), done.\u001b[K\n",
            "remote: Compressing objects: 100% (63/63), done.\u001b[K\n",
            "remote: Total 1094 (delta 44), reused 67 (delta 25), pack-reused 1006\u001b[K\n",
            "Receiving objects: 100% (1094/1094), 524.55 KiB | 15.43 MiB/s, done.\n",
            "Resolving deltas: 100% (690/690), done.\n",
            "Submodule 'Image_Processors_Module' (https://github.com/brianmanderson/Image_Processors_Module.git) registered for path 'Image_Processors_Module'\n",
            "Cloning into '/content/Data_Generators/Image_Processors_Module'...\n",
            "remote: Enumerating objects: 1271, done.        \n",
            "remote: Counting objects: 100% (66/66), done.        \n",
            "remote: Compressing objects: 100% (25/25), done.        \n",
            "remote: Total 1271 (delta 36), reused 58 (delta 29), pack-reused 1205        \n",
            "Receiving objects: 100% (1271/1271), 294.66 KiB | 8.67 MiB/s, done.\n",
            "Resolving deltas: 100% (809/809), done.\n",
            "Submodule path 'Image_Processors_Module': checked out '23dae05326dc1d320f4fa56c9163fe4a994aaf5d'\n"
          ]
        }
      ]
    },
    {
      "cell_type": "code",
      "source": [
        "from Data_Generators.TFRecord_to_Dataset_Generator import DataGeneratorClass\n",
        "from Data_Generators.Image_Processors_Module.src.Processors.TFDataSets import ConstantProcessors as CProcessors,\\\n",
        "    RelativeProcessors as RProcessors"
      ],
      "metadata": {
        "id": "5bUN7lljikZn"
      },
      "execution_count": 6,
      "outputs": []
    },
    {
      "cell_type": "code",
      "source": [
        "class ImageProcessor(object):\n",
        "    def parse(self, *args, **kwargs):\n",
        "        return args, kwargs\n",
        "def _check_keys_(input_features, keys):\n",
        "    if type(keys) is list or type(keys) is tuple:\n",
        "        for key in keys:\n",
        "            assert key in input_features.keys(), 'Make sure the key you are referring to is present in the features, ' \\\n",
        "                                                 '{} was not found'.format(key)\n",
        "    else:\n",
        "        assert keys in input_features.keys(), 'Make sure the key you are referring to is present in the features, ' \\\n",
        "                                              '{} was not found'.format(keys)\n",
        "class DivideBasedOnOther(ImageProcessor):\n",
        "    def __init__(self, guiding_keys=('annotation',), changing_keys=('image',)):\n",
        "        self.guiding_keys, self.changing_keys = guiding_keys, changing_keys\n",
        "\n",
        "    def parse(self, input_features, *args, **kwargs):\n",
        "        _check_keys_(input_features=input_features, keys=self.guiding_keys)\n",
        "        _check_keys_(input_features=input_features, keys=self.changing_keys)\n",
        "        for guiding_key, changing_key in zip(self.guiding_keys, self.changing_keys):\n",
        "            input_features[changing_key] = input_features[changing_key] / input_features[guiding_key]\n",
        "        return input_features"
      ],
      "metadata": {
        "id": "DLXPu0CWT3nO"
      },
      "execution_count": 7,
      "outputs": []
    },
    {
      "cell_type": "markdown",
      "metadata": {
        "id": "M030OkcHlhr3"
      },
      "source": [
        "Pull a sample image.   There are 4 images in 1 that need to be reformatted. From left to right, ray trace projection of CBCT. Fluence Map, PDOS and RTImage"
      ]
    },
    {
      "cell_type": "code",
      "source": [
        "def return_generator(records_path, proj_to_panel=True, add_5cm_keys=True, **kwargs):\n",
        "  global_norm = False\n",
        "  generator = DataGeneratorClass(record_paths=records_path, delete_old_cache=True)\n",
        "  all_keys = ('pdos_array', 'fluence_array','drr_array', 'deep_to_panel_array', 'iso_to_panel_array', 'shallow_to_panel_array')\n",
        "  drr_keys = ('drr_array', 'deep_to_panel_array', 'iso_to_panel_array', 'shallow_to_panel_array', )\n",
        "  input_keys = ('pdos_array', 'drr_array', 'iso_to_panel_array')\n",
        "  if add_5cm_keys:\n",
        "    if proj_to_panel:\n",
        "      input_keys = ('pdos_array', 'drr_array', 'deep_to_panel_array', 'iso_to_panel_array',\n",
        "                    'shallow_to_panel_array')\n",
        "    else:\n",
        "      input_keys = ('pdos_array', 'drr_array', '5cm_deep_array', 'iso_array', 'shallow_array')\n",
        "  print(f\"Inputs are {input_keys}\")\n",
        "  base_processors = [\n",
        "                     CProcessors.Squeeze(image_keys=all_keys),\n",
        "                     CProcessors.ExpandDimension(axis=-1, image_keys=all_keys),\n",
        "                     CProcessors.MultiplyImagesByConstant(keys=drr_keys,\n",
        "                                                          values=(1/90, 1/90, 1/90, 1/90)),\n",
        "                     ]\n",
        "  if global_norm:\n",
        "    base_processors += [\n",
        "                        CProcessors.MultiplyImagesByConstant(keys=('pdos_array',\n",
        "                                                                'fluence_array'),\n",
        "                                                             values=(1, 1)) #(1/2, 1/(.3876*2))\n",
        "                        ]\n",
        "  else:\n",
        "    base_processors += [\n",
        "                        RProcessors.NormalizeBasedOnOther(guiding_keys=('pdos_array', 'pdos_array'),\n",
        "                                                          changing_keys=('fluence_array', 'pdos_array'),\n",
        "                                                          reference_method=('reduce_max', 'reduce_max'),\n",
        "                                                          changing_methods=('divide', 'divide'))\n",
        "                        ]\n",
        "  base_processors += [\n",
        "                      CProcessors.CombineKeys(axis=-1,\n",
        "                                              image_keys=input_keys,\n",
        "                                              output_key='output'),\n",
        "                      CProcessors.ReturnOutputs(input_keys=('output',),\n",
        "                                                output_keys=('fluence_array',))\n",
        "  ]\n",
        "  base_processors += [\n",
        "                      {'batch': 1}, {'repeat'}\n",
        "                      ]\n",
        "  generator.compile_data_set(image_processors=base_processors, debug=False)\n",
        "  return generator"
      ],
      "metadata": {
        "id": "uk0-_5m-iyzG"
      },
      "execution_count": 7,
      "outputs": []
    },
    {
      "cell_type": "code",
      "execution_count": 8,
      "metadata": {
        "id": "r6Mck58p1BCH"
      },
      "outputs": [],
      "source": [
        "# The batch size of 1 produced better results for the U-Net in the original pix2pix experiment\n",
        "# Each image is 256x256 in size\n",
        "IMG_WIDTH = 256\n",
        "IMG_HEIGHT = 256"
      ]
    },
    {
      "cell_type": "code",
      "source": [
        "def load_data_from_generator(generator):\n",
        "  data = {'input' : [], 'rtimg' : []}\n",
        "  iterator = iter(generator.data_set)\n",
        "  for _ in range(len(generator)):\n",
        "    x, y = next(iterator)\n",
        "    data['input'].append(x[0][0])\n",
        "    data['rtimg'].append(y[0][0])\n",
        "  return data"
      ],
      "metadata": {
        "id": "76XIMWFXB-kG"
      },
      "execution_count": 9,
      "outputs": []
    },
    {
      "cell_type": "markdown",
      "source": [
        "# Return a train and validation dataset based on which fold you want to exclude"
      ],
      "metadata": {
        "id": "wm-XakBDCzRV"
      }
    },
    {
      "cell_type": "code",
      "source": [
        "def return_datasets(data_generators):\n",
        "  all_datasets = {}\n",
        "  for i in data_generators.keys():\n",
        "    generator = data_generators[i]\n",
        "    all_datasets[i] = tf.data.Dataset.from_tensor_slices((load_data_from_generator(generator)))\n",
        "  return all_datasets\n",
        "\n",
        "def return_fold_datasets(data_generators, batch_size=1):\n",
        "  all_datasets = return_datasets(data_generators)\n",
        "\n",
        "  train_dataset = all_datasets['train']\n",
        "  train_dataset = train_dataset.shuffle(len(train_dataset))\n",
        "  train_dataset = train_dataset.batch(batch_size)\n",
        "  \n",
        "  valid_dataset = all_datasets['validation']\n",
        "  #valid_dataset = valid_dataset.shuffle(len(valid_dataset))\n",
        "  valid_dataset = valid_dataset.batch(1)\n",
        "  return train_dataset, valid_dataset"
      ],
      "metadata": {
        "id": "zib264MjRSl2"
      },
      "execution_count": 10,
      "outputs": []
    },
    {
      "cell_type": "code",
      "source": [
        "def return_dataset(generator, batch):\n",
        "  input_values = []\n",
        "  output_values = []\n",
        "  iterator = iter(generator.data_set)\n",
        "  for _ in range(len(generator)):\n",
        "    x, y = next(iterator)\n",
        "    input_values.append(x[0][0])\n",
        "    output_values.append(y[0][0])\n",
        "  input_dataset = tf.data.Dataset.from_tensor_slices(input_values)\n",
        "  output_dataset = tf.data.Dataset.from_tensor_slices(output_values)\n",
        "  dataset = tf.data.Dataset.zip((input_dataset, output_dataset))\n",
        "  dataset = dataset.shuffle(len(dataset)).batch(batch)\n",
        "  return dataset"
      ],
      "metadata": {
        "id": "LLcz-Ll1TQNo"
      },
      "execution_count": 11,
      "outputs": []
    },
    {
      "cell_type": "code",
      "source": [
        "def return_generators(base_path, excluded_fold=5, batch=1, **kwargs):\n",
        "  data_generators = {}\n",
        "  train_folder_names = []\n",
        "  val_folder_names = []\n",
        "  train_folder_names.append(os.path.join(base_path, 'phantom_train'))\n",
        "  val_folder_names.append(os.path.join(base_path, 'phantom_valid'))\n",
        "  #for i in range(1,6):\n",
        "    #folder_name = '/content/drive/My Drive/data/fold{}'.format(i)\n",
        "    #if i != excluded_fold:\n",
        "      #train_folder_names.append(folder_name)\n",
        "    #else:\n",
        "      #val_folder_names.append(folder_name)\n",
        "  train_gen = return_generator(train_folder_names, batch=1, **kwargs)\n",
        "  train_gen = return_dataset(train_gen, batch)\n",
        "\n",
        "  valid_gen = return_generator(val_folder_names, batch=1, **kwargs)\n",
        "  valid_gen = return_dataset(valid_gen, 1)\n",
        "  return train_gen, valid_gen"
      ],
      "metadata": {
        "id": "miFtqp2yj8Kx"
      },
      "execution_count": 12,
      "outputs": []
    },
    {
      "cell_type": "code",
      "source": [
        "batch = 24\n",
        "base_path = '/content/drive/My Drive/data'\n",
        "train_dataset, valid_dataset = return_generators(base_path, excluded_fold=1, batch=batch)"
      ],
      "metadata": {
        "id": "Z5xm6UcPBwwR",
        "colab": {
          "base_uri": "https://localhost:8080/"
        },
        "outputId": "8204c7b5-b488-4be5-d668-d3599abfb310"
      },
      "execution_count": 40,
      "outputs": [
        {
          "output_type": "stream",
          "name": "stdout",
          "text": [
            "Inputs are ('pdos_array', 'drr_array', 'deep_to_panel_array', 'iso_to_panel_array', 'shallow_to_panel_array')\n",
            "<Data_Generators.Image_Processors_Module.src.Processors.TFDataSets.ConstantProcessors.Squeeze object at 0x7fa1cbb0f350>\n",
            "<Data_Generators.Image_Processors_Module.src.Processors.TFDataSets.ConstantProcessors.ExpandDimension object at 0x7fa1cbb0fc10>\n",
            "<Data_Generators.Image_Processors_Module.src.Processors.TFDataSets.ConstantProcessors.MultiplyImagesByConstant object at 0x7fa1cbb0fd50>\n",
            "<Data_Generators.Image_Processors_Module.src.Processors.TFDataSets.RelativeProcessors.NormalizeBasedOnOther object at 0x7fa1cbb0f990>\n",
            "<Data_Generators.Image_Processors_Module.src.Processors.TFDataSets.ConstantProcessors.CombineKeys object at 0x7fa1cbb0f5d0>\n",
            "<Data_Generators.Image_Processors_Module.src.Processors.TFDataSets.ConstantProcessors.ReturnOutputs object at 0x7fa1cbb0f110>\n",
            "{'batch': 1}\n",
            "{'repeat'}\n",
            "Inputs are ('pdos_array', 'drr_array', 'deep_to_panel_array', 'iso_to_panel_array', 'shallow_to_panel_array')\n",
            "<Data_Generators.Image_Processors_Module.src.Processors.TFDataSets.ConstantProcessors.Squeeze object at 0x7fa1cbeec7d0>\n",
            "<Data_Generators.Image_Processors_Module.src.Processors.TFDataSets.ConstantProcessors.ExpandDimension object at 0x7fa1cbeec5d0>\n",
            "<Data_Generators.Image_Processors_Module.src.Processors.TFDataSets.ConstantProcessors.MultiplyImagesByConstant object at 0x7fa1cbdeff50>\n",
            "<Data_Generators.Image_Processors_Module.src.Processors.TFDataSets.RelativeProcessors.NormalizeBasedOnOther object at 0x7fa1cbdefd50>\n",
            "<Data_Generators.Image_Processors_Module.src.Processors.TFDataSets.ConstantProcessors.CombineKeys object at 0x7fa1cbdef890>\n",
            "<Data_Generators.Image_Processors_Module.src.Processors.TFDataSets.ConstantProcessors.ReturnOutputs object at 0x7fa1cbdefc10>\n",
            "{'batch': 1}\n",
            "{'repeat'}\n"
          ]
        }
      ]
    },
    {
      "cell_type": "code",
      "source": [
        "iterx = iter(train_dataset.repeat())"
      ],
      "metadata": {
        "id": "rqHOsmM9LAQu"
      },
      "execution_count": 41,
      "outputs": []
    },
    {
      "cell_type": "code",
      "source": [
        "len(train_dataset)\n",
        "x, y = next(iterx)\n",
        "print(len(train_dataset))\n",
        "print(len(valid_dataset))\n",
        "plt.imshow(x[0,...,3])"
      ],
      "metadata": {
        "id": "LL42B-9NSkZG",
        "colab": {
          "base_uri": "https://localhost:8080/",
          "height": 321
        },
        "outputId": "acd20f61-e7d5-4869-a9ad-a81652f524a2"
      },
      "execution_count": 42,
      "outputs": [
        {
          "output_type": "stream",
          "name": "stdout",
          "text": [
            "9\n",
            "83\n"
          ]
        },
        {
          "output_type": "execute_result",
          "data": {
            "text/plain": [
              "<matplotlib.image.AxesImage at 0x7fa1cec47250>"
            ]
          },
          "metadata": {},
          "execution_count": 42
        },
        {
          "output_type": "display_data",
          "data": {
            "text/plain": [
              "<Figure size 432x288 with 1 Axes>"
            ],
            "image/png": "[encoded data removed]"
          },
          "metadata": {
            "needs_background": "light"
          }
        }
      ]
    },
    {
      "cell_type": "code",
      "source": [
        "def resample_array(numpy_array, distance_wanted=1000, acquired_distance=1540):\n",
        "  x = tf.convert_to_tensor(numpy_array)\n",
        "  current_size = x.shape[1]\n",
        "  output_size = int(x.shape[1]//2*distance_wanted/acquired_distance*2)\n",
        "  new_image = tf.image.resize(x, [output_size, output_size])\n",
        "  if current_size > output_size:\n",
        "    new_image = tf.image.pad_to_bounding_box(new_image, (current_size-output_size)//2, (current_size-output_size)//2, current_size, current_size)\n",
        "  else:\n",
        "    new_image = new_image[:, abs(current_size - output_size)//2:-abs(current_size - output_size)//2,abs(current_size - output_size)//2:-abs(current_size - output_size)//2]\n",
        "  return new_image.numpy()"
      ],
      "metadata": {
        "id": "DzoQvBiqo1VV"
      },
      "execution_count": null,
      "outputs": []
    },
    {
      "cell_type": "code",
      "source": [
        "plt.imshow(x[0,...,1])"
      ],
      "metadata": {
        "id": "sXTMV0yJWSck"
      },
      "execution_count": null,
      "outputs": []
    },
    {
      "cell_type": "code",
      "source": [
        "ratio_drr_minus5 = []\n",
        "ratio_drr_iso = []\n",
        "ratio_drr_plus5 = []\n",
        "ratio_drr_minus5.append(x[0][0, 125, 125, 2]/x[0][0, 125, 125, 1])\n",
        "ratio_drr_iso.append(x[0][0, 125, 125,3]/x[0][0, 125, 125, 2])\n",
        "ratio_drr_plus5.append(x[0][0,125, 125,4]/x[0][0,125, 125,3])"
      ],
      "metadata": {
        "id": "j-kwyyxFfzm0"
      },
      "execution_count": null,
      "outputs": []
    },
    {
      "cell_type": "code",
      "source": [
        "x[:, 125, 125, 0] * np.exp(-x[:, 125, 125, 1])/y[:, 125, 125, 0]"
      ],
      "metadata": {
        "id": "Ve6Xmqvk3XfJ"
      },
      "execution_count": null,
      "outputs": []
    },
    {
      "cell_type": "code",
      "source": [
        "ratio_drr_minus5 = []\n",
        "ratio_drr_iso = []\n",
        "ratio_drr_plus5 = []\n",
        "for i in range(len(valid_dataset)):\n",
        "  x, y = next(iterx)\n",
        "  ratio_drr_minus5.append(x[0, 125, 125, 2]/x[0, 125, 125, 1])\n",
        "  ratio_drr_iso.append(x[0, 125, 125,3]/x[0, 125, 125, 2])\n",
        "  if x[0, 125, 125,3]/x[0, 125, 125, 2] > 100:\n",
        "    print(i)\n",
        "    break\n",
        "  ratio_drr_plus5.append(x[0,125, 125,4]/x[0,125, 125,3])"
      ],
      "metadata": {
        "id": "e5C2C9Pr1aG4"
      },
      "execution_count": null,
      "outputs": []
    },
    {
      "cell_type": "code",
      "source": [
        "plt.imshow(x[0,...,4])"
      ],
      "metadata": {
        "id": "BlLqfHMkUxhq"
      },
      "execution_count": null,
      "outputs": []
    },
    {
      "cell_type": "code",
      "source": [
        "print(np.max(x[...,0].numpy()))\n",
        "print(np.max(x[...,1].numpy()))\n",
        "print(np.max(x[...,2].numpy()))\n",
        "print(np.max(x[...,3].numpy()))\n",
        "print(np.max(x[...,4].numpy()))\n",
        "print(np.max(y.numpy()))"
      ],
      "metadata": {
        "id": "-Gxq-RaEtlxz"
      },
      "execution_count": null,
      "outputs": []
    },
    {
      "cell_type": "code",
      "source": [
        "fluences = []\n",
        "pdoses = []\n",
        "drrs = []\n",
        "isos = []\n",
        "minus5 = []\n",
        "plus5 = []\n",
        "iterx = iter(data_generators['train'].data_set)\n",
        "for i in range(len(train_dataset)):\n",
        "  x, y = next(iterx)\n",
        "  fluences.append(np.max(y.numpy()))\n",
        "  pdoses.append(np.max(x[...,0].numpy()))\n",
        "  drrs.append(np.mean(x[..., 1].numpy()))\n",
        "  isos.append(np.mean(x[..., 2].numpy()))\n",
        "  minus5.append(np.mean(x[..., 3].numpy()))\n",
        "  plus5.append(np.mean(x[..., 4].numpy()))"
      ],
      "metadata": {
        "id": "npwf_kztUVSL"
      },
      "execution_count": null,
      "outputs": []
    },
    {
      "cell_type": "code",
      "source": [
        "y[0, 128, 128]"
      ],
      "metadata": {
        "id": "FXCexaA1LoJ4"
      },
      "execution_count": null,
      "outputs": []
    },
    {
      "cell_type": "code",
      "source": [
        "1/0.011"
      ],
      "metadata": {
        "id": "l4p1h4XQMdXl"
      },
      "execution_count": null,
      "outputs": []
    },
    {
      "cell_type": "code",
      "source": [
        "x[0, 128, 128, 0]*np.exp(-x[0, 128, 128, 4]*1/35)/y[0, 128, 128]"
      ],
      "metadata": {
        "id": "efaoNyqWMF6H"
      },
      "execution_count": null,
      "outputs": []
    },
    {
      "cell_type": "code",
      "source": [
        "import matplotlib.pyplot as plt\n",
        "%matplotlib inline\n",
        "plt.hist([i/1 for i in drrs], bins=25)\n",
        "# plt.hist([i/1 for i in isos], bins=25)\n",
        "# plt.hist([i/1 for i in minus5], bins=25)\n",
        "# plt.hist([i/1 for i in plus5], bins=25)"
      ],
      "metadata": {
        "id": "OYUHHCVJV9Gf"
      },
      "execution_count": null,
      "outputs": []
    },
    {
      "cell_type": "code",
      "source": [
        "print(f\"Fluence mean is {np.mean(fluences)}\")\n",
        "print(f\"Fluence std is {np.std(fluences)}\")\n",
        "print(f\"Pdos mean is {np.mean(pdoses)}\")\n",
        "print(f\"Pdos std is {np.std(pdoses)}\")\n",
        "print(f\"DRR mean is {np.mean(drrs)}\")\n",
        "print(f\"DRR std is {np.std(drrs)}\")"
      ],
      "metadata": {
        "id": "fNv6TebMWnFn"
      },
      "execution_count": null,
      "outputs": []
    },
    {
      "cell_type": "code",
      "execution_count": null,
      "metadata": {
        "id": "YLRvgXfx2vR5"
      },
      "outputs": [],
      "source": [
        "def getinput(input_image,chan):\n",
        "    slice_image = input_image[:,:,chan]\n",
        "    slice_image = tf.cast(slice_image, tf.float32)\n",
        "    return slice_image"
      ]
    },
    {
      "cell_type": "code",
      "execution_count": null,
      "metadata": {
        "id": "-eJ2p_ik248Z"
      },
      "outputs": [],
      "source": [
        "plt.imshow(y[0,...,0])"
      ]
    },
    {
      "cell_type": "markdown",
      "metadata": {
        "id": "PVuZQTfI_c-s"
      },
      "source": [
        "As described in the [pix2pix paper](https://arxiv.org/abs/1611.07004), you need to apply random jittering and mirroring to preprocess the training set.\n",
        "\n",
        "Define functions that:\n",
        "\n",
        "1. Randomly flip the image horizontally i.e. left to right (random mirroring).\n",
        "2. Normalize the images to the `[-1, 1]` range. "
      ]
    },
    {
      "cell_type": "markdown",
      "metadata": {
        "id": "wfAQbzy799UV"
      },
      "source": [
        "You can inspect some of the preprocessed output:"
      ]
    },
    {
      "cell_type": "code",
      "source": [
        "def downsampleBMA(x, filters, size, apply_batchnorm=True, basic=False):\n",
        "  initializer = tf.random_normal_initializer(0., 0.02)\n",
        "  if basic:\n",
        "    x = tf.keras.layers.MaxPool2D()(x)\n",
        "  else:\n",
        "    x = tf.keras.layers.Conv2D(filters, size, strides=2, padding='same',\n",
        "                               kernel_initializer=initializer, use_bias=True)(x)\n",
        "\n",
        "    if apply_batchnorm:\n",
        "      x = tf.keras.layers.BatchNormalization()(x)\n",
        "    x = tf.keras.layers.LeakyReLU()(x)\n",
        "  return x"
      ],
      "metadata": {
        "id": "LYw9sqBcGcBE"
      },
      "execution_count": 13,
      "outputs": []
    },
    {
      "cell_type": "code",
      "execution_count": 14,
      "metadata": {
        "id": "nhgDsHClSQzP"
      },
      "outputs": [],
      "source": [
        "def upsampleBMA(x, filters, size, apply_dropout=False, basic=False):\n",
        "  initializer = tf.random_normal_initializer(0., 0.02)\n",
        "  if basic:\n",
        "    x = tf.keras.layers.UpSampling2D()(x)\n",
        "  else:\n",
        "    x =  tf.keras.layers.Conv2DTranspose(filters, size, strides=2,\n",
        "                                         padding='same',\n",
        "                                         kernel_initializer=initializer,\n",
        "                                         use_bias=True)(x)\n",
        "    x = tf.keras.layers.BatchNormalization()(x)\n",
        "    if apply_dropout:\n",
        "      x = tf.keras.layers.Dropout(0.5)(x)\n",
        "    x = tf.keras.layers.LeakyReLU()(x)\n",
        "  return x"
      ]
    },
    {
      "cell_type": "code",
      "source": [
        "def convlayerBMA(x, filters, size, apply_batchnorm=True):\n",
        "  x = tf.keras.layers.Conv2D(filters, size, strides=1, padding='same',\n",
        "                             use_bias=True)(x)\n",
        "\n",
        "  if apply_batchnorm:\n",
        "    x = tf.keras.layers.BatchNormalization()(x)\n",
        "  x = tf.keras.layers.ELU()(x)\n",
        "  return x"
      ],
      "metadata": {
        "id": "0pz1yHekNfqr"
      },
      "execution_count": 15,
      "outputs": []
    },
    {
      "cell_type": "markdown",
      "metadata": {
        "id": "aFI_Pa52tjLl"
      },
      "source": [
        "Define the upsampler (decoder):"
      ]
    },
    {
      "cell_type": "code",
      "source": [
        "def ReturnUNet(x, size=4, layers=7, filters_start=64, double_layers=4):\n",
        "  \"\"\"\n",
        "  default values creates the original generator, filters double from start\n",
        "  to a max after the number of 'double layers'\n",
        "  Size is the kernel size\n",
        "  Layers is the number of layers\n",
        "  \"\"\"\n",
        "  filters_list = []\n",
        "  for _ in range(double_layers):\n",
        "    filters_list.append(filters_start)\n",
        "    filters_start *= 2\n",
        "  up_filters = []\n",
        "  batchnorm = False\n",
        "  down_stack = []\n",
        "  for _ in range(layers):\n",
        "    if filters_list:\n",
        "      filters = filters_list.pop(0)\n",
        "    up_filters.append(filters)\n",
        "    x = downsampleBMA(x, filters, size, batchnorm)\n",
        "    batchnorm = True\n",
        "    down_stack.append(x)\n",
        "  x = downsampleBMA(x, filters, size, batchnorm)\n",
        "  for _ in range(layers):\n",
        "    filters = up_filters.pop()\n",
        "    skip = down_stack.pop()\n",
        "    apply_dropout = False\n",
        "    x = upsampleBMA(x, filters, size, apply_dropout=apply_dropout)\n",
        "    x = tf.keras.layers.Concatenate()([x, skip])\n",
        "  x = upsampleBMA(x, filters, size, apply_dropout=apply_dropout)\n",
        "  return x"
      ],
      "metadata": {
        "id": "B5YeryLzjEOp"
      },
      "execution_count": 16,
      "outputs": []
    },
    {
      "cell_type": "code",
      "source": [
        "def resize_tensor(x, wanted_distance=1000, acquired_distance=1540):\n",
        "  output_size = int(x.shape[1]//2*wanted_distance/acquired_distance*2)\n",
        "  current_size = x.shape[1]\n",
        "  x = tf.image.resize(x, [output_size, output_size])\n",
        "  if wanted_distance < acquired_distance:\n",
        "    x = tf.image.pad_to_bounding_box(x, (current_size - output_size) // 2,\n",
        "                                      (current_size - output_size) // 2, current_size, current_size)\n",
        "  else:\n",
        "    x = x[:, (output_size-current_size)//2:-(output_size-current_size)//2,\n",
        "        (output_size-current_size)//2:-(output_size-current_size)//2]\n",
        "  return x"
      ],
      "metadata": {
        "id": "_yxXvyFue8fQ"
      },
      "execution_count": 17,
      "outputs": []
    },
    {
      "cell_type": "code",
      "source": [
        "def GeneratorBMA2Old(top_layers=2, size=4, layers=7, filters_start=64, double_layers=4, add_unet=False, max_filters=64, add_5cm_keys=True, **kwargs):\n",
        "  \"\"\"\n",
        "  Default generator from model index 0-9\n",
        "  \"\"\"\n",
        "  inputs = x = tf.keras.layers.Input(shape=[256, 256, 3])\n",
        "  if add_5cm_keys:\n",
        "    inputs = x = tf.keras.layers.Input(shape=[256, 256, 5])\n",
        "  PDOS = tf.expand_dims(inputs[..., 0], axis=-1, name='PDOS')\n",
        "  fulldrr = tf.expand_dims(inputs[..., 1], axis=-1)\n",
        "  deep_to_panel = tf.expand_dims(inputs[..., 2], axis=-1)\n",
        "  iso_to_panel = tf.expand_dims(inputs[..., 3], axis=-1)\n",
        "  drr_shallow_to_panel = tf.expand_dims(inputs[..., 4], axis=-1)\n",
        "\n",
        "  fluence_shallow_to_panel = tf.math.exp(-convlayerBMA(drr_shallow_to_panel, filters_start, size)) * PDOS\n",
        "  #fluence_shallow_to_panel = resize_tensor(fluence_shallow, wanted_distance=1540, acquired_distance=950)\n",
        "  #fluence_to_iso = resize_tensor(fluence_shallow, wanted_distance=1000, acquired_distance=950)\n",
        "  \n",
        "  #drr_dif_iso_and_shallow = tf.keras.layers.ReLU()(iso_drr - resize_tensor(drr_shallow, wanted_distance=1000, acquired_distance=950))\n",
        "  fluence_iso_to_panel = tf.math.exp(-convlayerBMA(iso_to_panel, filters_start, size)) * PDOS\n",
        "  # fluence_iso_to_panel = resize_tensor(fluence_iso, wanted_distance=1540, acquired_distance=1000)\n",
        "  #fluence_to_deeper = resize_tensor(fluence_iso, wanted_distance=1050, acquired_distance=1000)\n",
        "  #drr_dif_deeper_and_iso = tf.keras.layers.ReLU()(drr_deep - resize_tensor(iso_drr, wanted_distance=1050, acquired_distance=1000))\n",
        "  fluence_deep_to_panel = tf.math.exp(-convlayerBMA(deep_to_panel, filters_start, size)) * PDOS\n",
        "  # fluence_deeper_to_panel = resize_tensor(fluence_deeper, wanted_distance=1540, acquired_distance=1050)\n",
        "\n",
        "  #drr_dif_panel_and_deeper = tf.keras.layers.ReLU()(fulldrr - resize_tensor(drr_deep, wanted_distance=1540, acquired_distance=1050))\n",
        "  fluence_panel = tf.math.exp(-convlayerBMA(fulldrr, filters_start, size)) * PDOS\n",
        "\n",
        "  x = tf.keras.layers.Concatenate()([fluence_shallow_to_panel, fluence_iso_to_panel, fluence_deep_to_panel, fluence_panel])\n",
        "  filters_start *= 4\n",
        "  x = convlayerBMA(x, min([filters_start, max_filters]), size)\n",
        "  for _ in range(top_layers):\n",
        "    filters_start *= 2\n",
        "    x = convlayerBMA(x, min([filters_start, max_filters]), size)\n",
        "  if add_unet:\n",
        "    base_out = x\n",
        "    x = ReturnUNet(x=x, size=size, layers=layers, filters_start=min([filters_start, max_filters]), double_layers=double_layers)\n",
        "    x = tf.keras.layers.Concatenate()([x, base_out])\n",
        "  x = tf.keras.layers.Concatenate()([x, fluence_panel])\n",
        "  x = convlayerBMA(x, min([filters_start, max_filters]), size)\n",
        "  x = tf.keras.layers.Conv2D(filters=1, kernel_size=1, activation=None,\n",
        "                             padding='same', use_bias=True)(x)\n",
        "  return tf.keras.Model(inputs=inputs, outputs=x)\n"
      ],
      "metadata": {
        "id": "lXogka9Vs2nt"
      },
      "execution_count": 18,
      "outputs": []
    },
    {
      "cell_type": "code",
      "source": [
        "def GeneratorBMA2(top_layers=2, size=4, layers=7, filters_start=64, double_layers=4, add_unet=False, max_filters=64, add_5cm_keys=True, **kwargs):\n",
        "  \"\"\"\n",
        "  default values creates the original generator, filters double from start\n",
        "  to a max after the number of 'double layers'\n",
        "  Size is the kernel size\n",
        "  Layers is the number of layers\n",
        "  \"\"\"\n",
        "  \"\"\"\n",
        "  Back to basic physics\n",
        "  \"\"\"\n",
        "  filters = filters_start\n",
        "  if add_5cm_keys:\n",
        "    inputs = x = tf.keras.layers.Input(shape=[256, 256, 5])\n",
        "    deep_to_panel = tf.expand_dims(inputs[..., 2], axis=-1)\n",
        "    iso_to_panel = tf.expand_dims(inputs[..., 3], axis=-1)\n",
        "    drr_shallow_to_panel = tf.expand_dims(inputs[..., 4], axis=-1)\n",
        "  else:\n",
        "    inputs = x = tf.keras.layers.Input(shape=[256, 256, 3])\n",
        "    iso_to_panel = tf.expand_dims(inputs[..., 2], axis=-1)\n",
        "  PDOS = tf.expand_dims(inputs[..., 0], axis=-1, name='PDOS')\n",
        "  fulldrr = tf.expand_dims(inputs[..., 1], axis=-1)\n",
        "  \"\"\"\n",
        "  First, pass along the iso to panel, and full drr to panel\n",
        "  \"\"\"\n",
        "  fluence_iso_to_panel = tf.math.exp(-convlayerBMA(iso_to_panel, filters, size)) * PDOS\n",
        "  fluence_panel = tf.math.exp(-convlayerBMA(fulldrr, filters, size)) * PDOS\n",
        "  \"\"\"\n",
        "  Next, add in the shallow and deep\n",
        "  \"\"\"\n",
        "  if add_5cm_keys:\n",
        "    fluence_shallow_to_panel = tf.math.exp(-convlayerBMA(drr_shallow_to_panel, filters, size)) * PDOS\n",
        "    fluence_deep_to_panel = tf.math.exp(-convlayerBMA(deep_to_panel, filters, size)) * PDOS\n",
        "  #fluence_shallow_to_panel = resize_tensor(fluence_shallow, wanted_distance=1540, acquired_distance=950)\n",
        "  #fluence_to_iso = resize_tensor(fluence_shallow, wanted_distance=1000, acquired_distance=950)\n",
        "  \n",
        "  #drr_dif_iso_and_shallow = tf.keras.layers.ReLU()(iso_drr - resize_tensor(drr_shallow, wanted_distance=1000, acquired_distance=950))\n",
        "\n",
        "  # fluence_iso_to_panel = resize_tensor(fluence_iso, wanted_distance=1540, acquired_distance=1000)\n",
        "  #fluence_to_deeper = resize_tensor(fluence_iso, wanted_distance=1050, acquired_distance=1000)\n",
        "  #drr_dif_deeper_and_iso = tf.keras.layers.ReLU()(drr_deep - resize_tensor(iso_drr, wanted_distance=1050, acquired_distance=1000))\n",
        "  \n",
        "  # fluence_deeper_to_panel = resize_tensor(fluence_deeper, wanted_distance=1540, acquired_distance=1050)\n",
        "\n",
        "  #drr_dif_panel_and_deeper = tf.keras.layers.ReLU()(fulldrr - resize_tensor(drr_deep, wanted_distance=1540, acquired_distance=1050))\n",
        "  \n",
        "  if add_5cm_keys:\n",
        "    x = tf.keras.layers.Concatenate()([fluence_shallow_to_panel, fluence_iso_to_panel, fluence_deep_to_panel, fluence_panel])\n",
        "  else:\n",
        "    x = tf.keras.layers.Concatenate()([fluence_iso_to_panel, fluence_panel])\n",
        "  filters *= 2\n",
        "  x = convlayerBMA(x, min([filters, max_filters]), size)\n",
        "  for _ in range(top_layers):\n",
        "    filters *= 2\n",
        "    x = convlayerBMA(x, min([filters, max_filters]), size)\n",
        "  if add_unet:\n",
        "    base_out = x\n",
        "    x = ReturnUNet(x=x, size=size, layers=layers, filters_start=filters_start, double_layers=double_layers)\n",
        "    x = tf.keras.layers.Concatenate()([x, base_out])\n",
        "  x = tf.keras.layers.Concatenate()([x, fluence_panel])\n",
        "  x = convlayerBMA(x, min([filters, max_filters]), size)\n",
        "  x = tf.keras.layers.Conv2D(filters=1, kernel_size=1, activation=None,\n",
        "                             padding='same', use_bias=True)(x)\n",
        "  return tf.keras.Model(inputs=inputs, outputs=x)\n"
      ],
      "metadata": {
        "id": "NiVpWZIai_TU"
      },
      "execution_count": 19,
      "outputs": []
    },
    {
      "cell_type": "markdown",
      "metadata": {
        "id": "ueEJyRVrtZ-p"
      },
      "source": [
        "Define the generator with the downsampler and the upsampler:"
      ]
    },
    {
      "cell_type": "code",
      "source": [
        "def GeneratorBMA(size=4, layers=7, filters_start=64, double_layers=4):\n",
        "  \"\"\"\n",
        "  default values creates the original generator, filters double from start\n",
        "  to a max after the number of 'double layers'\n",
        "  Size is the kernel size\n",
        "  Layers is the number of layers\n",
        "  \"\"\"\n",
        "  \"\"\"\n",
        "  Back to basic physics\n",
        "  \"\"\"\n",
        "  inputs = x = tf.keras.layers.Input(shape=[256, 256, 5])\n",
        "  x = ReturnUNet(x=x, size=size, layers=layers, filters_start=filters_start, double_layers=double_layers)\n",
        "  x =  tf.keras.layers.Conv2DTranspose(1, size, strides=2, padding='same', activation=None,\n",
        "                                       kernel_initializer=tf.random_normal_initializer(0., 0.02))(x)\n",
        "  return tf.keras.Model(inputs=inputs, outputs=x)\n"
      ],
      "metadata": {
        "id": "ls_kEvozosaL"
      },
      "execution_count": 20,
      "outputs": []
    },
    {
      "cell_type": "code",
      "source": [
        "generator = GeneratorBMA2(top_layers=2, size=4, layers=2, filters_start=16, double_layers=4, add_unet=True, max_filters=16)\n",
        "# generator = GeneratorBMA()\n",
        "tf.keras.utils.plot_model(generator, show_shapes=True, dpi=75)"
      ],
      "metadata": {
        "id": "chllEeBC48vz"
      },
      "execution_count": null,
      "outputs": []
    },
    {
      "cell_type": "markdown",
      "metadata": {
        "id": "Z4PKwrcQFYvF"
      },
      "source": [
        "Visualize the generator model architecture:"
      ]
    },
    {
      "cell_type": "code",
      "execution_count": null,
      "metadata": {
        "id": "dIbRPFzjmV85"
      },
      "outputs": [],
      "source": [
        "#tf.keras.utils.plot_model(generator, show_shapes=True, dpi=64)\n",
        "generator.summary()"
      ]
    },
    {
      "cell_type": "code",
      "source": [
        "generator = GeneratorBMA2(add_unet=False, add_half=True)\n",
        "generator.layers[-2].weights"
      ],
      "metadata": {
        "id": "FDTMtZ2N7PZ3"
      },
      "execution_count": null,
      "outputs": []
    },
    {
      "cell_type": "code",
      "source": [
        "previous_output = \"/content/drive/MyDrive/Colab Notebooks/BMAlogs/phantom/named\"\n",
        "previous_model_path = os.path.join(previous_output, 'final_model.h5')\n",
        "generatornew = Generator(size=kernel, layers=3, filters_start=filters, double_layers=4)\n",
        "generatornew.load_weights(previous_model_path, by_name=True)"
      ],
      "metadata": {
        "id": "oDyBy_1bDVCx"
      },
      "execution_count": null,
      "outputs": []
    },
    {
      "cell_type": "code",
      "source": [
        "def load_and_freeze_weights(model):\n",
        "  previous_output = \"/content/drive/MyDrive/Colab Notebooks/BMAlogs/phantom/named\"\n",
        "  previous_model_path = os.path.join(previous_output, 'final_model.h5')\n",
        "  model.load_weights(previous_model_path, by_name=True)\n",
        "  for layer in model.layers:\n",
        "    if layer.name == 'pdos_layer' or layer.name == 'ct_layer':\n",
        "      layer.trainable = False\n",
        "  return model"
      ],
      "metadata": {
        "id": "5FiLQPmADzzB"
      },
      "execution_count": null,
      "outputs": []
    },
    {
      "cell_type": "code",
      "source": [
        "from tensorflow.python.ops import math_ops\n",
        "sobel_fraction = 0\n",
        "class MGELoss(tf.keras.losses.Loss):\n",
        "  def call(self, y_true, y_pred):\n",
        "    y_true = tf.cast(y_true, y_pred.dtype)\n",
        "    l1_loss = tf.reduce_mean(math_ops.abs(y_pred - y_true)*y_true, axis=-1)\n",
        "    sobel = tf.image.sobel_edges(y_pred)\n",
        "    p_sobel = tf.reduce_mean(math_ops.abs(sobel), axis=-1)\n",
        "    loss_sobel = tf.reduce_mean(math_ops.abs(y_pred - p_sobel), axis=-1)\n",
        "    loss = l1_loss*(1-sobel_fraction) + loss_sobel * sobel_fraction\n",
        "    return loss"
      ],
      "metadata": {
        "id": "KvRbwFVF1zfX"
      },
      "execution_count": null,
      "outputs": []
    },
    {
      "cell_type": "code",
      "source": [
        "from tensorflow.python.ops import math_ops\n",
        "class MSESquared(tf.keras.losses.Loss):\n",
        "  def call(self, y_true, y_pred):\n",
        "    y_true = tf.cast(y_true, y_pred.dtype)\n",
        "    loss = tf.reduce_mean(math_ops.abs(y_pred**2 - y_true**2), axis=-1)\n",
        "    return loss"
      ],
      "metadata": {
        "id": "Q4U8Uu4wk_4r"
      },
      "execution_count": null,
      "outputs": []
    },
    {
      "cell_type": "code",
      "source": [
        "lr = 1e-3\n",
        "layers=6\n",
        "filters=32\n",
        "kernel=3\n",
        "mults=10\n",
        "tensorboard_output = f\"/content/drive/MyDrive/Colab Notebooks/BMAlogs/phantom/global_norm/batch{10}_lr{lr}_layers{layers}_kernel{kernel}_filters{filters}_cos_decay_mults{mults}\"\n",
        "model_path = os.path.join(tensorboard_output, 'final_model.h5')\n",
        "generator = GeneratorBMA(size=kernel, layers=layers, filters_start=filters, double_layers=4)\n",
        "generator.load_weights(model_path)\n",
        "# generator = tf.keras.models.load_model(model_path)"
      ],
      "metadata": {
        "id": "I17Y7Lpakuxf"
      },
      "execution_count": null,
      "outputs": []
    },
    {
      "cell_type": "code",
      "source": [
        "epochs = 20000\n",
        "validation_freq = 5\n",
        "patience=300\n",
        "base_path = '/content/drive/My Drive/data'\n",
        "for _ in range(1000):\n",
        "  print('Sleeping and waiting...')\n",
        "  time.sleep(10)\n",
        "  print('Running!')\n",
        "  df = pd.read_excel(os.path.join(base_path, 'Model_Outputs', 'Model_Parameters.xlsx')).to_dict()\n",
        "  for index in df['Model_ID'].keys():\n",
        "    model_id = df['Model_ID'][index]\n",
        "    out_path = os.path.join(base_path, 'Model_Outputs', f'Model_{model_id}')\n",
        "    loss = tf.keras.losses.MeanSquaredError()\n",
        "    if os.path.exists(out_path):\n",
        "      continue\n",
        "    print(f'Running index {index}')\n",
        "    kwargs = {}\n",
        "    for key in df.keys():\n",
        "      kwargs[key] = df[key][index]\n",
        "    if kwargs['special_loss']:\n",
        "      loss = MSESquared()\n",
        "      print('Running special loss')\n",
        "    train_gen, valid_gen = return_generators(base_path=base_path, **kwargs)\n",
        "    mae = tf.keras.metrics.MeanAbsoluteError()\n",
        "    early_stopping = tf.keras.callbacks.EarlyStopping(monitor='val_loss',\n",
        "                                                  min_delta=0,\n",
        "                                                  patience=patience,\n",
        "                                                  verbose=1)\n",
        "    model = GeneratorBMA2(**kwargs)\n",
        "    cos_decay = tf.keras.optimizers.schedules.CosineDecayRestarts(initial_learning_rate=kwargs['lr'],\n",
        "                                                                  first_decay_steps=kwargs['decay_steps'],\n",
        "                                                                  t_mul=kwargs['t_mul'], m_mul=kwargs['m_mul'], alpha=0.0)\n",
        "    model.compile(optimizer=tf.keras.optimizers.Adam(cos_decay), loss=loss, metrics=[mae])\n",
        "    checkpoint = tf.keras.callbacks.ModelCheckpoint(os.path.join(out_path, 'checkpoint/cp.ckpt'),\n",
        "                                                    verbose=1, save_best_only=True, save_weights_only=True)\n",
        "    print(out_path)\n",
        "    os.makedirs(out_path)\n",
        "    tensorboard = tf.keras.callbacks.TensorBoard(log_dir=out_path, profile_batch=0, write_graph=False)\n",
        "    model.fit(train_gen.repeat(), epochs=epochs, steps_per_epoch=len(train_gen)*validation_freq,\n",
        "              validation_data=valid_gen, validation_freq=1, callbacks=[tensorboard, checkpoint, early_stopping])\n",
        "    model.save_weights(os.path.join(out_path, 'final_model_weights.h5'))"
      ],
      "metadata": {
        "colab": {
          "base_uri": "https://localhost:8080/"
        },
        "id": "fon4Rv8bvYz2",
        "outputId": "4c3e648d-8ecf-465e-eeda-a6a5c7ec4b66"
      },
      "execution_count": null,
      "outputs": [
        {
          "output_type": "stream",
          "name": "stdout",
          "text": [
            "Sleeping and waiting...\n",
            "Running!\n",
            "Running index 22\n",
            "Inputs are ('pdos_array', 'drr_array', 'iso_to_panel_array')\n",
            "<Data_Generators.Image_Processors_Module.src.Processors.TFDataSets.ConstantProcessors.Squeeze object at 0x7fa1ce5dd250>\n",
            "<Data_Generators.Image_Processors_Module.src.Processors.TFDataSets.ConstantProcessors.ExpandDimension object at 0x7fa1ce5dd990>\n",
            "<Data_Generators.Image_Processors_Module.src.Processors.TFDataSets.ConstantProcessors.MultiplyImagesByConstant object at 0x7fa1ce5ddf50>\n",
            "<Data_Generators.Image_Processors_Module.src.Processors.TFDataSets.RelativeProcessors.NormalizeBasedOnOther object at 0x7fa1ce5dd310>\n",
            "<Data_Generators.Image_Processors_Module.src.Processors.TFDataSets.ConstantProcessors.CombineKeys object at 0x7fa1ce5dd390>\n",
            "<Data_Generators.Image_Processors_Module.src.Processors.TFDataSets.ConstantProcessors.ReturnOutputs object at 0x7fa1ce5dd650>\n",
            "{'batch': 1}\n",
            "{'repeat'}\n",
            "Inputs are ('pdos_array', 'drr_array', 'iso_to_panel_array')\n",
            "<Data_Generators.Image_Processors_Module.src.Processors.TFDataSets.ConstantProcessors.Squeeze object at 0x7fa1ce78edd0>\n",
            "<Data_Generators.Image_Processors_Module.src.Processors.TFDataSets.ConstantProcessors.ExpandDimension object at 0x7fa1ced30b10>\n",
            "<Data_Generators.Image_Processors_Module.src.Processors.TFDataSets.ConstantProcessors.MultiplyImagesByConstant object at 0x7fa1ceb3e350>\n",
            "<Data_Generators.Image_Processors_Module.src.Processors.TFDataSets.RelativeProcessors.NormalizeBasedOnOther object at 0x7fa1ceb3e7d0>\n",
            "<Data_Generators.Image_Processors_Module.src.Processors.TFDataSets.ConstantProcessors.CombineKeys object at 0x7fa1ceb3e5d0>\n",
            "<Data_Generators.Image_Processors_Module.src.Processors.TFDataSets.ConstantProcessors.ReturnOutputs object at 0x7fa1ceb3e510>\n",
            "{'batch': 1}\n",
            "{'repeat'}\n",
            "/content/drive/My Drive/data/Model_Outputs/Model_22\n",
            "Epoch 1/20000\n",
            "14/45 [========>.....................] - ETA: 10s - loss: 1.3119 - mean_absolute_error: 0.5383"
          ]
        }
      ]
    },
    {
      "cell_type": "code",
      "source": [
        "def load_previous_model(wanted_id=12, final_weights=True):\n",
        "  base_path = '/content/drive/My Drive/data'\n",
        "  df = pd.read_excel(os.path.join(base_path, 'Model_Outputs', 'Model_Parameters.xlsx')).to_dict()\n",
        "  for index in df['Model_ID'].keys():\n",
        "    model_id = df['Model_ID'][index]\n",
        "    if model_id != wanted_id:\n",
        "      continue\n",
        "    print(f\"Loading {model_id}\")\n",
        "    out_path = os.path.join(base_path, 'Model_Outputs', f'Model_{model_id}')\n",
        "    kwargs = {}\n",
        "    for key in df.keys():\n",
        "      kwargs[key] = df[key][index]\n",
        "    if wanted_id < 10:\n",
        "      model = GeneratorBMA2Old(**kwargs)\n",
        "    else:\n",
        "      model = GeneratorBMA2(**kwargs)\n",
        "    if final_weights:\n",
        "      model.load_weights(os.path.join(out_path, 'final_model_weights.h5'))\n",
        "    else:\n",
        "      model.load_weights(os.path.join(out_path, 'checkpoint/cp.ckpt'))\n",
        "    train_gen, valid_gen = return_generators(base_path=base_path, **kwargs)\n",
        "    return model\n",
        "def load_generator(wanted_id=12):\n",
        "  base_path = '/content/drive/My Drive/data'\n",
        "  df = pd.read_excel(os.path.join(base_path, 'Model_Outputs', 'Model_Parameters.xlsx')).to_dict()\n",
        "  for index in df['Model_ID'].keys():\n",
        "    model_id = df['Model_ID'][index]\n",
        "    if model_id != wanted_id:\n",
        "      continue\n",
        "    kwargs = {}\n",
        "    for key in df.keys():\n",
        "      kwargs[key] = df[key][index]\n",
        "    train_gen, valid_gen = return_generators(base_path=base_path, **kwargs)\n",
        "    return train_gen, valid_gen"
      ],
      "metadata": {
        "id": "3e36eZEH7saX"
      },
      "execution_count": 48,
      "outputs": []
    },
    {
      "cell_type": "code",
      "source": [
        "wanted_id = 21\n",
        "model = load_previous_model(wanted_id=wanted_id, final_weights=True)\n",
        "train_dataset, valid_dataset = load_generator(wanted_id=wanted_id)"
      ],
      "metadata": {
        "colab": {
          "base_uri": "https://localhost:8080/"
        },
        "id": "MLrwXoiX8p3B",
        "outputId": "df4b082a-96bb-48d0-8bd0-95aca8a42f24"
      },
      "execution_count": 49,
      "outputs": [
        {
          "output_type": "stream",
          "name": "stdout",
          "text": [
            "Loading 21\n",
            "Inputs are ('pdos_array', 'drr_array', 'iso_to_panel_array')\n",
            "<Data_Generators.Image_Processors_Module.src.Processors.TFDataSets.ConstantProcessors.Squeeze object at 0x7fa1cbd37f90>\n",
            "<Data_Generators.Image_Processors_Module.src.Processors.TFDataSets.ConstantProcessors.ExpandDimension object at 0x7fa1cbd37f10>\n",
            "<Data_Generators.Image_Processors_Module.src.Processors.TFDataSets.ConstantProcessors.MultiplyImagesByConstant object at 0x7fa1cbd37e10>\n",
            "<Data_Generators.Image_Processors_Module.src.Processors.TFDataSets.RelativeProcessors.NormalizeBasedOnOther object at 0x7fa1cbd37e90>\n",
            "<Data_Generators.Image_Processors_Module.src.Processors.TFDataSets.ConstantProcessors.CombineKeys object at 0x7fa1cbd3fe10>\n",
            "<Data_Generators.Image_Processors_Module.src.Processors.TFDataSets.ConstantProcessors.ReturnOutputs object at 0x7fa1cbd3f090>\n",
            "{'batch': 1}\n",
            "{'repeat'}\n",
            "Inputs are ('pdos_array', 'drr_array', 'iso_to_panel_array')\n",
            "<Data_Generators.Image_Processors_Module.src.Processors.TFDataSets.ConstantProcessors.Squeeze object at 0x7fa1cbef3fd0>\n",
            "<Data_Generators.Image_Processors_Module.src.Processors.TFDataSets.ConstantProcessors.ExpandDimension object at 0x7fa1ce16e610>\n",
            "<Data_Generators.Image_Processors_Module.src.Processors.TFDataSets.ConstantProcessors.MultiplyImagesByConstant object at 0x7fa1ce31d190>\n",
            "<Data_Generators.Image_Processors_Module.src.Processors.TFDataSets.RelativeProcessors.NormalizeBasedOnOther object at 0x7fa1ce0fdd90>\n",
            "<Data_Generators.Image_Processors_Module.src.Processors.TFDataSets.ConstantProcessors.CombineKeys object at 0x7fa1ced69c50>\n",
            "<Data_Generators.Image_Processors_Module.src.Processors.TFDataSets.ConstantProcessors.ReturnOutputs object at 0x7fa1ced69810>\n",
            "{'batch': 1}\n",
            "{'repeat'}\n",
            "Inputs are ('pdos_array', 'drr_array', 'iso_to_panel_array')\n",
            "<Data_Generators.Image_Processors_Module.src.Processors.TFDataSets.ConstantProcessors.Squeeze object at 0x7fa1ce634f10>\n",
            "<Data_Generators.Image_Processors_Module.src.Processors.TFDataSets.ConstantProcessors.ExpandDimension object at 0x7fa1ce6347d0>\n",
            "<Data_Generators.Image_Processors_Module.src.Processors.TFDataSets.ConstantProcessors.MultiplyImagesByConstant object at 0x7fa1c7edcc50>\n",
            "<Data_Generators.Image_Processors_Module.src.Processors.TFDataSets.RelativeProcessors.NormalizeBasedOnOther object at 0x7fa1ce291cd0>\n",
            "<Data_Generators.Image_Processors_Module.src.Processors.TFDataSets.ConstantProcessors.CombineKeys object at 0x7fa1cf225810>\n",
            "<Data_Generators.Image_Processors_Module.src.Processors.TFDataSets.ConstantProcessors.ReturnOutputs object at 0x7fa1cedb3f90>\n",
            "{'batch': 1}\n",
            "{'repeat'}\n",
            "Inputs are ('pdos_array', 'drr_array', 'iso_to_panel_array')\n",
            "<Data_Generators.Image_Processors_Module.src.Processors.TFDataSets.ConstantProcessors.Squeeze object at 0x7fa1cbb36d90>\n",
            "<Data_Generators.Image_Processors_Module.src.Processors.TFDataSets.ConstantProcessors.ExpandDimension object at 0x7fa1cebcdfd0>\n",
            "<Data_Generators.Image_Processors_Module.src.Processors.TFDataSets.ConstantProcessors.MultiplyImagesByConstant object at 0x7fa1cefe2410>\n",
            "<Data_Generators.Image_Processors_Module.src.Processors.TFDataSets.RelativeProcessors.NormalizeBasedOnOther object at 0x7fa1ce025a50>\n",
            "<Data_Generators.Image_Processors_Module.src.Processors.TFDataSets.ConstantProcessors.CombineKeys object at 0x7fa1cbca0bd0>\n",
            "<Data_Generators.Image_Processors_Module.src.Processors.TFDataSets.ConstantProcessors.ReturnOutputs object at 0x7fa1cbca0ad0>\n",
            "{'batch': 1}\n",
            "{'repeat'}\n"
          ]
        }
      ]
    },
    {
      "cell_type": "code",
      "source": [
        "# generator.save_weights(os.path.join(tensorboard_output, 'final_model_weights.h5'))\n",
        "generator.load_weights(os.path.join(tensorboard_output, 'checkpoint/cp.ckpt'))\n",
        "generator.load_weights(os.path.join(tensorboard_output, 'final_model_weights.h5'))"
      ],
      "metadata": {
        "id": "TcRcCoACejpj"
      },
      "execution_count": null,
      "outputs": []
    },
    {
      "cell_type": "code",
      "source": [
        "model.layers[-1].weights"
      ],
      "metadata": {
        "id": "suDJb3jBAbyt"
      },
      "execution_count": null,
      "outputs": []
    },
    {
      "cell_type": "code",
      "source": [
        "def plot_images(prediction, input, target):\n",
        "  plt.figure(figsize=(15, 10))\n",
        "\n",
        "  # print(\"Input \")\n",
        "  # print(type(cbct_input))\n",
        "  # print(tf.shape(cbct_input))\n",
        "  # print(\"ground truth\")\n",
        "  # print(type(tar))\n",
        "  # print(tf.shape(tar))\n",
        "  display_list = [input[0], target[0], prediction[0]]\n",
        "  title = ['Input CBCT Image', 'Ground Truth', 'Predicted Image']\n",
        "  \n",
        "  plt.subplot(1, 4, 1)\n",
        "  plt.title('Input Image')\n",
        "  # Getting the pixel values in the [0, 1] range to plot.\n",
        "  \n",
        "  input = tf.squeeze(input,axis=0)\n",
        "  inslice = input[...,1]\n",
        "  \n",
        "  plt.imshow(inslice)\n",
        "  plt.axis('off')\n",
        "\n",
        "  plt.subplot(1, 4, 2)\n",
        "  plt.title('Ground Truth')\n",
        "  # Getting the pixel values in the [0, 1] range to plot.\n",
        "  #plt.imshow(tf.squeeze(tar[0],axis=0))\n",
        "  #tar = tf.cast(tar,tf.float32)\n",
        "  plt.imshow(tf.squeeze(target[0],axis=-1))\n",
        "  plt.axis('off')\n",
        "\n",
        "  plt.subplot(1, 4, 3)\n",
        "  plt.title('Predicted Image')\n",
        "  plt.imshow(tf.squeeze(prediction))\n",
        "  plt.axis('off')\n",
        "\n",
        "  target = tf.squeeze(target)\n",
        "  prediction = tf.squeeze(prediction)\n",
        "  \n",
        "  predvec = prediction[128,1:256]\n",
        "  rtvec = target[128,1:256]\n",
        "  \n",
        "\n",
        "  plt.axis('off')\n",
        "  plt.subplot(1, 4, 4)\n",
        "  plt.plot(rtvec,'g')\n",
        "  plt.title(\"Meas RT IMG (Green)\")\n",
        "  plt.plot(predvec,'b')\n",
        "\n",
        "  # Getting the pixel values in the [0, 1] range to plot.\n",
        "  #print(tf.shape(prediction))\n",
        "  #prediction = tf.cast(prediction,tf.float32)\n",
        "  #plt.imshow(tf.squeeze(prediction[0],axis=-1))\n",
        "  #plt.axis('off')\n",
        "  \n",
        "  plt.show()"
      ],
      "metadata": {
        "id": "fcsCvdn4ltBU"
      },
      "execution_count": 25,
      "outputs": []
    },
    {
      "cell_type": "code",
      "source": [
        "np.max(x[0][...,0].numpy())"
      ],
      "metadata": {
        "id": "f8ggpwto1smi"
      },
      "execution_count": null,
      "outputs": []
    },
    {
      "cell_type": "code",
      "source": [
        "val_iterator = iter(valid_dataset)"
      ],
      "metadata": {
        "id": "ZxPTVPOe1oou"
      },
      "execution_count": 50,
      "outputs": []
    },
    {
      "cell_type": "code",
      "source": [
        "x.shape"
      ],
      "metadata": {
        "id": "8XQu-7LqzXrA",
        "outputId": "01e5ab7e-fc82-4a85-fb68-5d4f22da655b",
        "colab": {
          "base_uri": "https://localhost:8080/"
        }
      },
      "execution_count": 39,
      "outputs": [
        {
          "output_type": "execute_result",
          "data": {
            "text/plain": [
              "TensorShape([1, 256, 256, 3])"
            ]
          },
          "metadata": {},
          "execution_count": 39
        }
      ]
    },
    {
      "cell_type": "code",
      "source": [
        "x,y = next(val_iterator)\n",
        "pred = model.predict(x)\n",
        "plot_images(pred, x, y)"
      ],
      "metadata": {
        "colab": {
          "base_uri": "https://localhost:8080/",
          "height": 607
        },
        "id": "eNlpdsEFlb2M",
        "outputId": "14c3af1a-1a93-4bc3-a88f-dca9f65d81c8"
      },
      "execution_count": 52,
      "outputs": [
        {
          "output_type": "display_data",
          "data": {
            "text/plain": [
              "<Figure size 1080x720 with 4 Axes>"
            ],
            "image/png": "[encoded data removed]"
          },
          "metadata": {
            "needs_background": "light"
          }
        }
      ]
    },
    {
      "cell_type": "code",
      "source": [
        "plt.imshow(x[0,..., 4])"
      ],
      "metadata": {
        "colab": {
          "base_uri": "https://localhost:8080/",
          "height": 286
        },
        "id": "9hFs96BFcyrT",
        "outputId": "d53f1f00-0d0a-445e-c984-d85cefc9f8dd"
      },
      "execution_count": 33,
      "outputs": [
        {
          "output_type": "execute_result",
          "data": {
            "text/plain": [
              "<matplotlib.image.AxesImage at 0x7feaa5530290>"
            ]
          },
          "metadata": {},
          "execution_count": 33
        },
        {
          "output_type": "display_data",
          "data": {
            "text/plain": [
              "<Figure size 432x288 with 1 Axes>"
            ],
            "image/png": "[encoded data removed]"
          },
          "metadata": {
            "needs_background": "light"
          }
        }
      ]
    },
    {
      "cell_type": "code",
      "source": [
        "x[0, 125, 125, 3]"
      ],
      "metadata": {
        "id": "WShJWb9n-9Vj"
      },
      "execution_count": null,
      "outputs": []
    },
    {
      "cell_type": "code",
      "source": [
        "generator = Generator(size=3, layers=5, filters_start=32, double_layers=3)\n",
        "generator.load_weights(r'/content/drive/MyDrive/Colab Notebooks/logs/layers5_kernel3_filters32_lr0.00101_Relu_60k/final_model.h5')"
      ],
      "metadata": {
        "id": "Tp3LZHpB5gh_"
      },
      "execution_count": null,
      "outputs": []
    },
    {
      "cell_type": "markdown",
      "metadata": {
        "id": "_073KDijTAVh"
      },
      "source": [
        ""
      ]
    },
    {
      "cell_type": "markdown",
      "metadata": {
        "id": "0FMYgY_mPfTi"
      },
      "source": [
        "## Define the optimizers and a checkpoint-saver\n"
      ]
    },
    {
      "cell_type": "code",
      "execution_count": null,
      "metadata": {
        "id": "Ot22ujrlLhOd"
      },
      "outputs": [],
      "source": [
        "#docs_infra: no_execute'\n",
        "%reload_ext tensorboard\n",
        "#%tensorboard --logdir /content/notebooks/logs/fit/"
      ]
    },
    {
      "cell_type": "code",
      "source": [
        "logdir = '/content/drive/MyDrive/Colab Notebooks/logs/'"
      ],
      "metadata": {
        "id": "_ip3wzyEsPvd"
      },
      "execution_count": null,
      "outputs": []
    },
    {
      "cell_type": "code",
      "source": [
        "%tensorboard --logdir '/content/drive/MyDrive/Colab Notebooks/logs/'"
      ],
      "metadata": {
        "id": "nNTrnycDsdar"
      },
      "execution_count": null,
      "outputs": []
    },
    {
      "cell_type": "markdown",
      "metadata": {
        "id": "oeq9sByu86-B"
      },
      "source": [
        "If you want to share the TensorBoard results _publicly_, you can upload the logs to [TensorBoard.dev](https://tensorboard.dev/) by copying the following into a code-cell.\n",
        "\n",
        "Note: This requires a Google account.\n",
        "\n",
        "```\n",
        "!tensorboard dev upload --logdir {log_dir}\n",
        "```"
      ]
    },
    {
      "cell_type": "markdown",
      "metadata": {
        "id": "l-kT7WHRKz-E"
      },
      "source": [
        "Caution: This command does not terminate. It's designed to continuously upload the results of long-running experiments. Once your data is uploaded you need to stop it using the \"interrupt execution\" option in your notebook tool."
      ]
    },
    {
      "cell_type": "markdown",
      "metadata": {
        "id": "-lGhS_LfwQoL"
      },
      "source": [
        "You can view the [results of a previous run](https://tensorboard.dev/experiment/lZ0C6FONROaUMfjYkVyJqw) of this notebook on [TensorBoard.dev](https://tensorboard.dev/).\n",
        "\n",
        "TensorBoard.dev is a managed experience for hosting, tracking, and sharing ML experiments with everyone.\n",
        "\n",
        "It can also included inline using an `<iframe>`:"
      ]
    },
    {
      "cell_type": "markdown",
      "metadata": {
        "id": "DMTm4peo3cem"
      },
      "source": [
        "Interpreting the logs is more subtle when training a GAN (or a cGAN like pix2pix) compared to a simple classification or regression model. Things to look for:\n",
        "\n",
        "- Check that neither the generator nor the discriminator model has \"won\". If either the `gen_gan_loss` or the `disc_loss` gets very low, it's an indicator that this model is dominating the other, and you are not successfully training the combined model.\n",
        "- The value `log(2) = 0.69` is a good reference point for these losses, as it indicates a perplexity of 2 - the discriminator is, on average, equally uncertain about the two options.\n",
        "- For the `disc_loss`, a value below `0.69` means the discriminator is doing better than random on the combined set of real and generated images.\n",
        "- For the `gen_gan_loss`, a value below `0.69` means the generator is doing better than random at fooling the discriminator.\n",
        "- As training progresses, the `gen_l1_loss` should go down."
      ]
    },
    {
      "cell_type": "markdown",
      "metadata": {
        "id": "kz80bY3aQ1VZ"
      },
      "source": [
        "## Restore the latest checkpoint and test the network"
      ]
    },
    {
      "cell_type": "markdown",
      "metadata": {
        "id": "1RGysMU_BZhx"
      },
      "source": [
        "## Generate some images using the test set"
      ]
    },
    {
      "cell_type": "code",
      "execution_count": 53,
      "metadata": {
        "id": "Wtd3ZA-eI_ap"
      },
      "outputs": [],
      "source": [
        "gamma_options = {\n",
        "    'dose_percent_threshold': 3,  # Try with 2%/2mm \n",
        "    'distance_mm_threshold': 3,\n",
        "    'lower_percent_dose_cutoff': 10,\n",
        "    'interp_fraction': 20,  # Should be 10 or more, see the paper referenced above\n",
        "    'max_gamma': 2,\n",
        "    'random_subset': None,  # Can be used to get quick pass rates\n",
        "    'local_gamma': False,  # Change to false for global gamma\n",
        "    'ram_available': 2**29  # 1/2 GB\n",
        "}"
      ]
    },
    {
      "cell_type": "code",
      "execution_count": 54,
      "metadata": {
        "id": "pcxutIrdJF7U"
      },
      "outputs": [],
      "source": [
        "xepidmin = -256\n",
        "xepidmax = 256\n",
        "yepidmin = -256\n",
        "yepidmax = 256\n",
        "grid = 2.0\n",
        "xepid = np.arange(xepidmin,xepidmax,grid)\n",
        "yepid = np.arange(yepidmin,yepidmax,grid)\n",
        "coords = (yepid,xepid)"
      ]
    },
    {
      "cell_type": "code",
      "execution_count": null,
      "metadata": {
        "id": "WTyCBjAV1vJZ"
      },
      "outputs": [],
      "source": [
        "# testfiles = tf.io.gfile.glob('/content/drive/My Drive/train/nifti/fold4/12_4_35.*')\n",
        "# valid_data = load_data(testfiles, tf.estimator.ModeKeys.TRAIN, '/content/drive/My Drive/train/nifti/fold1')\n",
        "\n",
        "# valid_dataset = tf.data.Dataset.from_tensor_slices((valid_data))\n",
        "# valid_dataset = valid_dataset.batch(BATCH_SIZE)\n",
        "val_iterator = iter(valid_dataset)"
      ]
    },
    {
      "cell_type": "code",
      "source": [
        "np.mean(input[...,1])"
      ],
      "metadata": {
        "id": "SU2-0ThjYMX0"
      },
      "execution_count": null,
      "outputs": []
    },
    {
      "cell_type": "code",
      "execution_count": 58,
      "metadata": {
        "id": "TPwaQHAcHiLr",
        "colab": {
          "base_uri": "https://localhost:8080/",
          "height": 751
        },
        "outputId": "dd6fdf4a-ac2a-428f-a42e-0ef0e5c8a632"
      },
      "outputs": [
        {
          "output_type": "stream",
          "name": "stdout",
          "text": [
            "Calcing using global normalisation point for gamma\n",
            "Global normalisation set to 0.2925766110420227\n",
            "Global dose threshold set to [0.0087773] ([3]% of normalisation)\n",
            "Distance threshold set to [3]\n",
            "Lower dose cutoff set to 0.029257661104202273 (10% of normalisation)\n",
            "\n",
            "Current distance: 4.65 mm | Number of reference points remaining: 2 | Points tested per reference point: 196 | RAM split count: 1\n",
            "Complete!\n"
          ]
        },
        {
          "output_type": "execute_result",
          "data": {
            "text/plain": [
              "Text(0.5, 1.0, 'Local Gamma (3%/3mm) | Percent Pass: 97.58 %')"
            ]
          },
          "metadata": {},
          "execution_count": 58
        },
        {
          "output_type": "display_data",
          "data": {
            "text/plain": [
              "<Figure size 720x720 with 4 Axes>"
            ],
            "image/png": "[encoded data removed]"
          },
          "metadata": {
            "needs_background": "light"
          }
        }
      ],
      "source": [
        "x, y = next(val_iterator)\n",
        "prediction = tf.squeeze(model.predict(x) )\n",
        "\n",
        "diff = tf.subtract(y,prediction)\n",
        "diff = tf.squeeze(diff, axis=0)\n",
        "diffvec = diff[120,1:256]\n",
        "plt.figure(figsize=(10, 10))\n",
        "  \n",
        "plt.subplot(2, 2, 1)\n",
        "plt.imshow(tf.squeeze(y))\n",
        "plt.subplot(2, 2, 2)\n",
        "plt.imshow(tf.squeeze(prediction))\n",
        "  \n",
        "predvec = prediction[128,1:256]\n",
        "rtvec = tf.squeeze(y)[128,1:256]\n",
        "  \n",
        "#predvec = prediction[1:256,128]\n",
        "#rtvec = rtimage[1:256,128]\n",
        "\n",
        "plt.subplot(2, 2, 3)\n",
        "plt.plot(rtvec,'g')\n",
        "plt.title(\"Meas RT IMG (Green)\")\n",
        "plt.plot(predvec,'b')\n",
        "#print(str(example[\"fname\"]))\n",
        "\n",
        "gamma_test = pymedphys.gamma(coords,tf.squeeze(y), coords, prediction, **gamma_options)\n",
        "valid_gamma = gamma_test[~np.isnan(gamma_test)]\n",
        "\n",
        "num_bins = (\n",
        "    gamma_options['interp_fraction'] * gamma_options['max_gamma'])\n",
        "bins = np.linspace(0, gamma_options['max_gamma'], num_bins + 1)\n",
        "\n",
        "#gamma_no_noise = pymedphys.gamma(coords, rtimage, coords, prediction,**gamma_options)\n",
        "plt.subplot(2, 2, 4)\n",
        "\n",
        "plt.imshow( gamma_test, clim=(0, 2), cmap='coolwarm')\n",
        "\n",
        "# plt.hist(valid_gamma, bins, density=True)\n",
        "# plt.xlim([0, gamma_options['max_gamma']])\n",
        "pass_ratio = np.sum(valid_gamma <= 1) / len(valid_gamma)\n",
        "plt.title(f\"Local Gamma ({gamma_options['dose_percent_threshold']}%/{gamma_options['distance_mm_threshold']}mm) | Percent Pass: {pass_ratio*100:.2f} %\")"
      ]
    },
    {
      "cell_type": "code",
      "source": [
        "np.max(x[0][...,0].numpy())"
      ],
      "metadata": {
        "id": "b8c85v-iBD7G"
      },
      "execution_count": null,
      "outputs": []
    },
    {
      "cell_type": "code",
      "source": [
        "np.exp(-input[0, 128, 128, 1])*input[0, 128, 128, 0]/3.65"
      ],
      "metadata": {
        "id": "oG9hqIMQC4yY"
      },
      "execution_count": null,
      "outputs": []
    },
    {
      "cell_type": "code",
      "source": [
        "input[0, 128, 128, 1]"
      ],
      "metadata": {
        "id": "2YFZ-ZJ0C62-"
      },
      "execution_count": null,
      "outputs": []
    },
    {
      "cell_type": "code",
      "source": [
        "tar[128, 128]"
      ],
      "metadata": {
        "id": "XgOUA6dpRS5F"
      },
      "execution_count": null,
      "outputs": []
    },
    {
      "cell_type": "code",
      "source": [
        "prediction[128, 128]"
      ],
      "metadata": {
        "id": "ieET4BHADx3i"
      },
      "execution_count": null,
      "outputs": []
    },
    {
      "cell_type": "code",
      "source": [
        "caxcb = [] \n",
        "caxrt = []\n",
        "caxpred = []\n",
        "caxhalf = []\n",
        "\n",
        "all_ratios = np.zeros(len(list(valid_dataset)))\n",
        "\n",
        "for example in valid_dataset:\n",
        "  tinp = example[0]\n",
        "  ttar = example[1]\n",
        "  inp = tf.squeeze(tinp,axis=0)\n",
        "  #slicen = 1\n",
        "  pdos = inp[..., 0]\n",
        "  img = inp[..., 1]\n",
        "  half = inp[..., 2]\n",
        "  s, ss = 118, 138\n",
        "  cbctcax = np.mean(img[s:ss, s:ss] )\n",
        "  pdoscax = np.mean(pdos[s:ss, s:ss] )\n",
        "  halfcax = np.mean(half[s:ss, s:ss])\n",
        "  ttar = tf.squeeze(ttar, axis=0)\n",
        "  ttar = tf.squeeze(ttar, axis=-1)\n",
        "  rtimage = ttar\n",
        "  rtcax = np.mean(ttar[s:ss,s:ss])\n",
        "  \n",
        "  #out = \"cbctcax {} rtcax {}\".format(cbctcax,rtcax/pdoscax)\n",
        "  #print(out)\n",
        "  # cbctcax -= (np.sum(inp[...,0].numpy()>.3) * 0.000005)\n",
        "  #cbctcax = np.exp(-cbctcax) - (np.sum(inp[...,0].numpy()>.3) * 0.000005)\n",
        "  caxcb = np.append(caxcb,cbctcax)\n",
        "  caxrt = np.append(caxrt,rtcax/pdoscax)\n",
        "  caxhalf = np.append(caxhalf,halfcax)\n",
        "\n",
        "  prediction = model.predict(tinp)\n",
        "  prediction = tf.squeeze(prediction, axis=0)\n",
        "  prediction = tf.squeeze(prediction, axis=-1)\n",
        "  predcax = np.mean(prediction[s:ss,s:ss])\n",
        "  caxpred = np.append(caxpred,predcax/pdoscax)\n",
        "\n",
        "#ax = plt.axes(projection='3d')\n",
        "#ax.scatter3D(caxcb, caxhalf, caxrt, c='b' )\n",
        "#ax.scatter3D(caxcb, caxhalf, caxpred, c='r' )\n",
        "#plt.show()\n",
        "\n",
        "plt.plot(caxcb,caxrt,'bo')\n",
        "plt.plot(caxcb,caxpred,'ro')\n",
        "\n",
        "#plt.plot(caxhalf,caxrt,'bo')\n",
        "#plt.plot(caxhalf,caxpred,'ro')\n",
        "plt.ylim([0, 0.8])\n",
        "#plt.xlim([0.80, 0.85])\n",
        "plt.show()"
      ],
      "metadata": {
        "id": "pTta6-NOor0V"
      },
      "execution_count": null,
      "outputs": []
    },
    {
      "cell_type": "code",
      "source": [
        "from tqdm import tqdm"
      ],
      "metadata": {
        "id": "t3ssQJ4Hb7tJ"
      },
      "execution_count": null,
      "outputs": []
    },
    {
      "cell_type": "code",
      "execution_count": null,
      "metadata": {
        "id": "ELlbbPKP0oQA"
      },
      "outputs": [],
      "source": [
        "all_ratios = np.zeros(len(list(valid_dataset)))\n",
        "pbar = tqdm(total=len(valid_dataset), desc='Running gamma analysis...')\n",
        "i = 0\n",
        "for example in valid_dataset:\n",
        "  tinp = example[0]\n",
        "  ttar = example[1]\n",
        "  prediction = model.predict(tinp)\n",
        "  ttar = tf.squeeze(ttar, axis=0)\n",
        "  ttar = tf.squeeze(ttar, axis=-1)\n",
        "  rtimage = ttar\n",
        "\n",
        "  prediction = tf.squeeze(prediction, axis=0)\n",
        "  prediction = tf.squeeze(prediction, axis=-1)\n",
        "  prediction = prediction \n",
        "  gamma_test = pymedphys.gamma(coords,rtimage, coords, prediction, **gamma_options,quiet=True)\n",
        "  valid_gamma = gamma_test[~np.isnan(gamma_test)]\n",
        "  pass_ratio = np.sum(valid_gamma <= 1) / len(valid_gamma)\n",
        "  #tf.print(example[\"fname\"])\n",
        "  print(pass_ratio)\n",
        "  all_ratios[i] = pass_ratio\n",
        "  i += 1\n",
        "  pbar.update()\n",
        "\n",
        "print(\"mean \" + str(np.mean(all_ratios)))\n",
        "print(\"STD \" + str(np.std(all_ratios)))\n",
        "print(\"max \" + str(np.max(all_ratios)))\n",
        "print(\"min \" + str(np.min(all_ratios)))\n",
        "plt.hist(all_ratios)"
      ]
    },
    {
      "cell_type": "code",
      "source": [
        ""
      ],
      "metadata": {
        "id": "BaluH6XzDOeG"
      },
      "execution_count": null,
      "outputs": []
    }
  ]
}